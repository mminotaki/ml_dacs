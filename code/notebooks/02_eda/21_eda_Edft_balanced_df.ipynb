{
 "cells": [
  {
   "cell_type": "markdown",
   "metadata": {},
   "source": [
    "# 3.1 Exploratory Data Analysis for the Edft_balanced dataset"
   ]
  },
  {
   "cell_type": "markdown",
   "metadata": {},
   "source": [
    "## Notebook Setup: Imports and Configuration"
   ]
  },
  {
   "cell_type": "code",
   "execution_count": null,
   "metadata": {},
   "outputs": [],
   "source": [
    "# ─────────────────────────────\n",
    "# Standard Library Imports\n",
    "# ─────────────────────────────\n",
    "import os\n",
    "import sys\n",
    "import pandas as pd\n",
    "from plotly.subplots import make_subplots\n",
    "import plotly.graph_objects as go\n",
    "\n",
    "# ─────────────────────────────\n",
    "# Adjust sys.path for Local Modules\n",
    "# ─────────────────────────────\n",
    "src_dir = os.path.abspath(os.path.join('..', '..', 'src'))\n",
    "if src_dir not in sys.path:\n",
    "    sys.path.append(src_dir)\n",
    "\n",
    "# ─────────────────────────────\n",
    "# Project-Specific Imports\n",
    "# ─────────────────────────────\n",
    "#from plots_details import metal_colors, cavity_colors_sacs\n",
    "#from utils import *\n",
    "from vis import * \n",
    "from settings import *\n",
    "# ─────────────────────────────\n",
    "# Define Paths and Load Data\n",
    "# ─────────────────────────────\n",
    "\n",
    "dacs_energies_out_dir = '../../../data/external/dacs_energies_out'\n",
    "\n",
    "Edft_coh_df = pd.read_csv(os.path.join(dacs_energies_out_dir, 'Edacs_dft.csv'))\n",
    "Edft_balanced_df = pd.read_csv(os.path.join(dacs_energies_out_dir, 'Edft_balanced_df.csv'))\n",
    "Edft_coh_iqr_df = pd.read_csv(os.path.join(dacs_energies_out_dir, 'Edacs_dft.csv'))  "
   ]
  },
  {
   "cell_type": "code",
   "execution_count": null,
   "metadata": {},
   "outputs": [],
   "source": [
    "Edft_coh_iqr_df.shape"
   ]
  },
  {
   "cell_type": "code",
   "execution_count": null,
   "metadata": {},
   "outputs": [],
   "source": [
    "Edft_balanced_df.shape"
   ]
  },
  {
   "cell_type": "markdown",
   "metadata": {},
   "source": [
    "## Export the outliers"
   ]
  },
  {
   "cell_type": "code",
   "execution_count": null,
   "metadata": {},
   "outputs": [],
   "source": [
    "# Filter for `system_dacs` that are in Edft_coh_df but not in Edft_coh_iqr_df\n",
    "unique_system_dacs = Edft_coh_iqr_df[~Edft_coh_iqr_df['system_dacs'].isin(Edft_balanced_df['system_dacs'])]\n",
    "\n",
    "# Specify the directory and filename for saving\n",
    "output_path = '../../../data/external/dacs_energies_out/outliers_dacs_balanced_to_iqr.csv'\n",
    "\n",
    "# Save the filtered data to CSV \n",
    "unique_system_dacs.to_csv(output_path, index=False)"
   ]
  },
  {
   "cell_type": "markdown",
   "metadata": {},
   "source": [
    "## Boxplot Metal Edft_balanced_df"
   ]
  },
  {
   "cell_type": "code",
   "execution_count": null,
   "metadata": {},
   "outputs": [],
   "source": [
    "fig = plot_categorical_energy_boxplot(\n",
    "    df=Edft_balanced_df,\n",
    "    x_col='M1',\n",
    "    color_map=metal_colors,\n",
    "    y_col='E_dft_M1M2',\n",
    "    hover_col='system_dacs',\n",
    "    x_title='Metal',\n",
    "    y_title='E_dft_M1M2 Energy'\n",
    ")\n",
    "\n",
    "\n",
    "fig.show()"
   ]
  },
  {
   "cell_type": "markdown",
   "metadata": {},
   "source": [
    "## Summary statistics metal Edft_balanced_df"
   ]
  },
  {
   "cell_type": "code",
   "execution_count": null,
   "metadata": {},
   "outputs": [],
   "source": [
    "metal_summary = Edft_balanced_df.groupby('M1')['E_dft_M1M2'].describe()\n",
    "print(metal_summary)"
   ]
  },
  {
   "cell_type": "markdown",
   "metadata": {},
   "source": [
    "## Boxplot Cavity Edft_balanced_df"
   ]
  },
  {
   "cell_type": "code",
   "execution_count": null,
   "metadata": {},
   "outputs": [],
   "source": [
    "fig = plot_categorical_energy_boxplot(\n",
    "    df=Edft_balanced_df,\n",
    "    x_col='cavity_v2',\n",
    "    color_map=cavity_colors,\n",
    "    y_col='E_dft_M1M2',\n",
    "    hover_col='system_dacs',\n",
    "    x_title='Cavity',\n",
    "    y_title='E_dft_M1M2 Energy',\n",
    ")\n",
    "\n",
    "fig.show()"
   ]
  },
  {
   "cell_type": "markdown",
   "metadata": {},
   "source": [
    "## Summary statistics cavity Edft_balanced_df"
   ]
  },
  {
   "cell_type": "code",
   "execution_count": null,
   "metadata": {},
   "outputs": [],
   "source": [
    "cavity_summary = Edft_balanced_df.groupby('cavity_3')['E_dft_M1M2'].describe()\n",
    "print(cavity_summary)"
   ]
  },
  {
   "cell_type": "markdown",
   "metadata": {},
   "source": [
    "## Count cavity categories"
   ]
  },
  {
   "cell_type": "code",
   "execution_count": null,
   "metadata": {},
   "outputs": [],
   "source": [
    "Edft_balanced_df.shape[0]"
   ]
  },
  {
   "cell_type": "code",
   "execution_count": null,
   "metadata": {},
   "outputs": [],
   "source": [
    "din4_x2_count = Edft_balanced_df['cavity_v2'].str.contains('din4_x2').sum()\n",
    "print(din4_x2_count)"
   ]
  },
  {
   "cell_type": "code",
   "execution_count": null,
   "metadata": {},
   "outputs": [],
   "source": [
    "din6_s_count = Edft_balanced_df['cavity_v2'].str.contains('din6_s').sum()\n",
    "print(din6_s_count)"
   ]
  },
  {
   "cell_type": "code",
   "execution_count": null,
   "metadata": {},
   "outputs": [],
   "source": [
    "din6_as_count = Edft_balanced_df['cavity_v2'].str.contains('din6_as').sum()\n",
    "print(din6_as_count)"
   ]
  },
  {
   "cell_type": "code",
   "execution_count": null,
   "metadata": {},
   "outputs": [],
   "source": [
    "sizes = [29.91, 52.34, 17.76]\n",
    "labels = ['M$_{1}$-M$_{2}$-sq-C5Nx-C1Ny', 'M$_{1}$-M$_{2}$-sq-C5Nx', 'M$_{1}$-M$_{2}$-hex-C5Nx']\n",
    "colors = ['#ff9999', '#66b3ff', '#99ff99']\n",
    "\n",
    "plot_donut_chart(\n",
    "    sizes=sizes,\n",
    "    labels=labels,\n",
    "    colors=colors,\n",
    "    title='Cavity Distribution After Sampling',\n",
    ")"
   ]
  },
  {
   "cell_type": "markdown",
   "metadata": {},
   "source": [
    "## Count number of carbons for each cavity type"
   ]
  },
  {
   "cell_type": "markdown",
   "metadata": {},
   "source": [
    "This code filters the dataset to include only rows where the `cavity_v2` column contains the substring `'din4_x2'`, `'din6_s'`, and `'din6_as'`. It then groups the filtered data by the `'cavity_3'` category and computes descriptive statistics for the `'E_dft_M1M2'` energy values within each group. "
   ]
  },
  {
   "cell_type": "code",
   "execution_count": null,
   "metadata": {},
   "outputs": [],
   "source": [
    "# Filter the DataFrame based on the condition\n",
    "filtered_df = Edft_balanced_df[Edft_balanced_df['cavity_v2'].str.contains('din4_x2')]\n",
    "\n",
    "# Group by 'cavity_3' and describe the 'E_dft_M1M2' column\n",
    "cavity_summary = filtered_df.groupby('cavity_3')['E_dft_M1M2'].describe().T.round(2)\n",
    "print(filtered_df.shape)\n",
    "# Print the summary\n",
    "print(cavity_summary)"
   ]
  },
  {
   "cell_type": "code",
   "execution_count": null,
   "metadata": {},
   "outputs": [],
   "source": [
    "# Filter the DataFrame based on the condition\n",
    "filtered_df = Edft_balanced_df[Edft_balanced_df['cavity_v2'].str.contains('din6_s')]\n",
    "\n",
    "# Group by 'cavity_3' and describe the 'E_dft_M1M2' column\n",
    "cavity_summary = filtered_df.groupby('cavity_3')['E_dft_M1M2'].describe().T.round(2)\n",
    "print(filtered_df.shape)\n",
    "# Print the summary\n",
    "print(cavity_summary)"
   ]
  },
  {
   "cell_type": "code",
   "execution_count": null,
   "metadata": {},
   "outputs": [],
   "source": [
    "# Filter the DataFrame based on the condition\n",
    "filtered_df = Edft_balanced_df[Edft_balanced_df['cavity_v2'].str.contains('din6_as')]\n",
    "\n",
    "# Group by 'cavity_3' and describe the 'E_dft_M1M2' column\n",
    "cavity_summary = filtered_df.groupby('cavity_3')['E_dft_M1M2'].describe().T.round(2)\n",
    "print(filtered_df.shape)\n",
    "# Print the summary\n",
    "print(cavity_summary)"
   ]
  },
  {
   "cell_type": "markdown",
   "metadata": {},
   "source": [
    "## Count the number of metals for each cavity type"
   ]
  },
  {
   "cell_type": "markdown",
   "metadata": {},
   "source": [
    "Filter the DataFrame to include only rows where the 'cavity_v2' column contains `din4_x2`, `din6_s`, and `din6_as`.  Then, group the filtered data by the metal type in column 'M1' and generate descriptive statistics for the 'E_dft_M1M2' energy values. "
   ]
  },
  {
   "cell_type": "code",
   "execution_count": null,
   "metadata": {},
   "outputs": [],
   "source": [
    "# Filter the DataFrame based on the condition\n",
    "filtered_df = Edft_balanced_df[Edft_balanced_df['cavity_v2'].str.contains('din4_x2')]\n",
    "\n",
    "# Group by 'cavity_3' and describe the 'E_dft_M1M2' column\n",
    "cavity_summary = filtered_df.groupby('M1')['E_dft_M1M2'].describe().T.round(2)\n",
    "print(filtered_df.shape)\n",
    "# Print the summary\n",
    "print(cavity_summary)"
   ]
  },
  {
   "cell_type": "code",
   "execution_count": null,
   "metadata": {},
   "outputs": [],
   "source": [
    "# Filter the DataFrame based on the condition\n",
    "filtered_df = Edft_balanced_df[Edft_balanced_df['cavity_v2'].str.contains('din6_s')]\n",
    "\n",
    "# Group by 'cavity_3' and describe the 'E_dft_M1M2' column\n",
    "cavity_summary = filtered_df.groupby('M1')['E_dft_M1M2'].describe().T.round(2)\n",
    "print(filtered_df.shape)\n",
    "# Print the summary\n",
    "print(cavity_summary)"
   ]
  },
  {
   "cell_type": "code",
   "execution_count": null,
   "metadata": {},
   "outputs": [],
   "source": [
    "# Filter the DataFrame based on the condition\n",
    "filtered_df = Edft_balanced_df[Edft_balanced_df['cavity_v2'].str.contains('din6_as')]\n",
    "\n",
    "# Group by 'cavity_3' and describe the 'E_dft_M1M2' column\n",
    "cavity_summary = filtered_df.groupby('M1')['E_dft_M1M2'].describe().T.round(2)\n",
    "print(filtered_df.shape)\n",
    "# Print the summary\n",
    "print(cavity_summary)"
   ]
  },
  {
   "cell_type": "code",
   "execution_count": null,
   "metadata": {},
   "outputs": [],
   "source": [
    "sizes = [7.32, 7.43, 6.51, 7.02, 7.02, 7.12, 7.12, 7.12, 7.12, 7.22, 7.22, 7.22, 7.22, 7.32]\n",
    "labels = ['Cu', 'Fe', 'Os', 'Zn', 'Pt', 'Ru', 'Rh', 'Pd', 'Ag', 'Ir', 'Co', 'Cd', 'Au', 'Ni']\n",
    "colors = ['#ff9999', '#66b3ff', '#99ff99', '#ffcc99', '#c2c2f0', '#ffb3e6', '#c2f0c2', '#b3e6ff',\n",
    "          '#ff6666', '#b3b3ff', '#ffb366', '#c2f0f0', '#ffccff', '#ff80ff']\n",
    "\n",
    "plot_donut_chart(\n",
    "    sizes=sizes,\n",
    "    labels=labels,\n",
    "    colors=colors,\n",
    "    title='Metal Type Distribution After Sampling',\n",
    "    save_path='../../../data/figures/rfr_results/str_sampling_metals'\n",
    ")"
   ]
  },
  {
   "cell_type": "markdown",
   "metadata": {},
   "source": [
    "## Histogram of DFT adsorption energy by metal"
   ]
  },
  {
   "cell_type": "code",
   "execution_count": null,
   "metadata": {},
   "outputs": [],
   "source": [
    "plot_energy_histograms_by_metal(\n",
    "    df=Edft_balanced_df,\n",
    "    metal_col='M1',\n",
    "    energy_col='E_dft_M1M2',\n",
    "    color_map=metal_colors,\n",
    "    save_dir='../../../data/figures/sacs_eda',\n",
    "    file_name='hist_metal_Edft_balanced'\n",
    ")"
   ]
  }
 ],
 "metadata": {
  "kernelspec": {
   "display_name": "bms",
   "language": "python",
   "name": "python3"
  },
  "language_info": {
   "codemirror_mode": {
    "name": "ipython",
    "version": 3
   },
   "file_extension": ".py",
   "mimetype": "text/x-python",
   "name": "python",
   "nbconvert_exporter": "python",
   "pygments_lexer": "ipython3",
   "version": "3.10.13"
  }
 },
 "nbformat": 4,
 "nbformat_minor": 2
}
