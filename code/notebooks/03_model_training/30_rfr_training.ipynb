{
 "cells": [
  {
   "cell_type": "markdown",
   "metadata": {},
   "source": [
    "# 3.0 Training a Random Forest Regressor for DACs on N-Doped Carbon Materials"
   ]
  },
  {
   "cell_type": "markdown",
   "metadata": {},
   "source": [
    "## Notebook Setup: Imports and Configuration\n"
   ]
  },
  {
   "cell_type": "code",
   "execution_count": 1,
   "metadata": {},
   "outputs": [
    {
     "data": {
      "text/html": [
       "        <script type=\"text/javascript\">\n",
       "        window.PlotlyConfig = {MathJaxConfig: 'local'};\n",
       "        if (window.MathJax && window.MathJax.Hub && window.MathJax.Hub.Config) {window.MathJax.Hub.Config({SVG: {font: \"STIX-Web\"}});}\n",
       "        if (typeof require !== 'undefined') {\n",
       "        require.undef(\"plotly\");\n",
       "        requirejs.config({\n",
       "            paths: {\n",
       "                'plotly': ['https://cdn.plot.ly/plotly-2.35.2.min']\n",
       "            }\n",
       "        });\n",
       "        require(['plotly'], function(Plotly) {\n",
       "            window._Plotly = Plotly;\n",
       "        });\n",
       "        }\n",
       "        </script>\n",
       "        "
      ]
     },
     "metadata": {},
     "output_type": "display_data"
    }
   ],
   "source": [
    "# ─────────────────────────────────────────────────────────────\n",
    "#  Standard Library Imports\n",
    "# ─────────────────────────────────────────────────────────────\n",
    "import os\n",
    "import sys\n",
    "import time\n",
    "import copy\n",
    "import re\n",
    "import itertools as it\n",
    "import warnings\n",
    "from pprint import pprint\n",
    "\n",
    "# ─────────────────────────────────────────────────────────────\n",
    "#  Project Source Imports\n",
    "# ─────────────────────────────────────────────────────────────\n",
    "sys.path.append(os.path.abspath(os.path.join('..', '..', 'src')))\n",
    "\n",
    "from vis import *\n",
    "from ml import *\n",
    "from settings import *\n",
    "\n",
    "# ─────────────────────────────────────────────────────────────\n",
    "#  Numerical & Data Manipulation\n",
    "# ─────────────────────────────────────────────────────────────\n",
    "import numpy as np\n",
    "import pandas as pd\n",
    "from scipy.stats import norm\n",
    "from scipy.linalg import LinAlgWarning\n",
    "\n",
    "# ─────────────────────────────────────────────────────────────\n",
    "#  Plotting Libraries\n",
    "# ─────────────────────────────────────────────────────────────\n",
    "import matplotlib.pyplot as plt\n",
    "import plotly.express as px\n",
    "import plotly.graph_objs as go\n",
    "from plotly.offline import init_notebook_mode, plot\n",
    "from plotly.subplots import make_subplots\n",
    "import plotly.figure_factory as ff\n",
    "import plotly.io as pio\n",
    "\n",
    "# ─────────────────────────────────────────────────────────────\n",
    "#  Machine Learning (Scikit-learn)\n",
    "# ─────────────────────────────────────────────────────────────\n",
    "from sklearn.pipeline import Pipeline\n",
    "from sklearn.metrics import r2_score, mean_squared_error\n",
    "from sklearn.ensemble import RandomForestRegressor\n",
    "\n",
    "# ─────────────────────────────────────────────────────────────\n",
    "#  Notebook Environment Settings\n",
    "# ─────────────────────────────────────────────────────────────\n",
    "from IPython.core.interactiveshell import InteractiveShell\n",
    "from tqdm.notebook import tqdm\n",
    "from tqdm import trange\n",
    "\n",
    "pd.set_option(\"display.max_rows\", None)\n",
    "pd.set_option(\"display.max_columns\", None)\n",
    "pd.set_option(\"mode.chained_assignment\", None)\n",
    "pd.options.display.max_colwidth = 200\n",
    "\n",
    "InteractiveShell.ast_node_interactivity = \"all\"\n",
    "init_notebook_mode(connected=True)\n",
    "\n",
    "# ─────────────────────────────────────────────────────────────\n",
    "#  Warning Filters\n",
    "# ─────────────────────────────────────────────────────────────\n",
    "warnings.filterwarnings(action=\"ignore\", category=LinAlgWarning, module=\"sklearn\")\n",
    "from warnings import simplefilter\n",
    "simplefilter(action=\"ignore\", category=pd.errors.PerformanceWarning)\n"
   ]
  },
  {
   "cell_type": "markdown",
   "metadata": {},
   "source": [
    "## Preapring the DACs on N-doped carbon datasets for LOGOCV"
   ]
  },
  {
   "cell_type": "markdown",
   "metadata": {},
   "source": [
    "#### Loading and Preparing DFT Energy Datasets with 10-fold Cross Validation"
   ]
  },
  {
   "cell_type": "markdown",
   "metadata": {},
   "source": [
    "This block of code loads preprocessed adsorption energy datasets from `.pkl` files and prepares them for **K-Fold cross-validation** using a custom utility (`add_cv_columns`). Each dataset is labeled and stored dynamically for convenient downstream use.\n",
    "\n",
    "> ⚠️ **Note**: This code is currently commented out.  \n",
    "> To use it, **remove the comment symbols (`#`)** before executing.\n",
    "\n",
    "#### 🛠️ Steps Performed:\n",
    "- Define the directory containing `.pkl` data files.\n",
    "- Load each dataset into memory.\n",
    "- Apply **K-Fold cross-validation** (with 10 splits).\n",
    "- Store each CV-ready DataFrame using both:\n",
    "  - Global variable assignment (e.g., `Edft_din6_df_kfold`)\n",
    "  - Central `dataframe_dict` for easier access.\n",
    "\n",
    "This step is **required before training the Random Forest Regressor (RFR)** on Kfold data.  \n",
    "➡️ **Also remember to uncomment the corresponding model training block below this section**. "
   ]
  },
  {
   "cell_type": "code",
   "execution_count": 2,
   "metadata": {},
   "outputs": [],
   "source": [
    "data_dir = \"../../../data/external/dacs_energies_out\"\n",
    "\n",
    "# Define the file names and corresponding variable names\n",
    "file_variables = {\n",
    "    \"Edacs_dft.pkl\": \"Edacs_dft\",\n",
    "    \"Edft_din6_as_df.pkl\":\"Edft_din6_as_df\",\n",
    "    \"Edft_din6_s_df.pkl\":\"Edft_din6_s_df\",\n",
    "    \"Edft_din4_x2_df.pkl\":\"Edft_din4_x2_df\",\n",
    "    \"Edft_din6_df.pkl\":\"Edft_din6_df\",\n",
    "    \"Edft_din6_s_din4_x2_df.pkl\":\"Edft_din6_s_din4_x2_df\",\n",
    "    \"Edft_din6_as_din4_x2_df.pkl\":\"Edft_din6_as_din4_x2_df\",\n",
    "    \"Edft_balanced_df.pkl\": \"Edft_balanced_df\"\n",
    "    } \n",
    "\n",
    "\n",
    "# Create an empty dictionary to store the DataFrames\n",
    "data_frames = {}\n",
    "\n",
    "# Iterate over the file_variables dictionary\n",
    "for file_name, variable_name in file_variables.items():\n",
    "    file_path = os.path.join(data_dir, file_name)\n",
    "    data_frame = pd.read_pickle(file_path)\n",
    "    data_frames[variable_name] = data_frame\n",
    "\n",
    "\n",
    "cv_setup = {\"cv_type\": \"kfold\", \"cv_spec\": 10}\n",
    "\n",
    "\n",
    "\n",
    "# cv_setup_metal = {\"cv_type\": \"logocv\", \"cv_spec\": \"metal\"}\n",
    "\n",
    "# Create a dictionary to store the dataframes for easy access\n",
    "dataframe_dict = {}\n",
    "\n",
    "# Iterate over the data_frames dictionary\n",
    "for key, df in data_frames.items():\n",
    "    # Apply the add_cv_columns function to each dataframe\n",
    "    kfold_df = add_cv_columns(df_in=df, cv_setup=cv_setup)\n",
    "    # Create a variable name based on the original dataframe name with \"_kfold\" appended\n",
    "    var_name = key + \"_kfold\"\n",
    "    # Assign the kfold dataframe to the dynamically\n",
    "    globals()[var_name] = kfold_df\n",
    "    \n",
    "    # Store the kfold dataframe in the dataframe dictionary\n",
    "    dataframe_dict[var_name] = kfold_df\n",
    "\n",
    "\n",
    "# TODO: Write within a loop and have access at any point of the code\n",
    "Edacs_dft_df_kfold = dataframe_dict[\"Edacs_dft_kfold\"]\n",
    "Edft_din6_as_df_kfold = dataframe_dict[\"Edft_din6_as_df_kfold\"]\n",
    "Edft_din6_s_df_kfold = dataframe_dict[\"Edft_din6_s_df_kfold\"]\n",
    "Edft_din4_x2_df_kfold = dataframe_dict[\"Edft_din4_x2_df_kfold\"]\n",
    "Edft_din6_df_kfold = dataframe_dict[\"Edft_din6_df_kfold\"]\n",
    "Edft_din6_s_din4_x2_df_kfold = dataframe_dict[\"Edft_din6_s_din4_x2_df_kfold\"]\n",
    "Edft_din6_as_din4_x2_df_kfold = dataframe_dict[\"Edft_din6_as_din4_x2_df_kfold\"]\n",
    "Edft_balanced_df_kfold= dataframe_dict[\"Edft_balanced_df_kfold\"]"
   ]
  },
  {
   "cell_type": "markdown",
   "metadata": {},
   "source": [
    "#### Loading and Preparing DFT Energy Datasets with Dual Metal Leave-One-Group-Out Cross-Validation"
   ]
  },
  {
   "cell_type": "markdown",
   "metadata": {},
   "source": [
    "This block loads adsorption energy datasets and applies **Leave-One-Group-Out cross-validation (LOGO-CV)** by metal identity using the `\"M1\"` group column.  \n",
    "The processed data is stored both as dynamically named variables and in a central dictionary for easy access.\n",
    "\n",
    "> ⚠️ **Note**: This code is **commented out**.  \n",
    "> To use it, **uncomment** all relevant lines (remove `#` at the beginning of each line).\n",
    "\n",
    "#### ✅ What this code does:\n",
    "- Loads `.pkl` data files from a local directory\n",
    "- Applies LOGO-CV using a custom `add_cv_columns()` function\n",
    "- Stores the resulting DataFrames with `_logocv_metal` suffixes\n",
    "\n",
    "This step is **required before training the Random Forest Regressor (RFR)** on LOGO-CV data.  \n",
    "➡️ **Also remember to uncomment the corresponding model training block below this section**.\n"
   ]
  },
  {
   "cell_type": "code",
   "execution_count": 3,
   "metadata": {},
   "outputs": [],
   "source": [
    "# data_dir = \"../../../data/external/dacs_energies_out\"\n",
    "\n",
    "# # Define the file names and corresponding variable names\n",
    "# file_variables = {\n",
    "#     \"Edacs_dft.pkl\": \"Edacs_dft\",\n",
    "#     \"Edft_din6_as_df.pkl\":\"Edft_din6_as_df\",\n",
    "#     \"Edft_din6_s_df.pkl\":\"Edft_din6_s_df\",\n",
    "#     \"Edft_din4_x2_df.pkl\":\"Edft_din4_x2_df\",\n",
    "#     \"Edft_din6_df.pkl\":\"Edft_din6_df\",\n",
    "#     \"Edft_din6_s_din4_x2_df.pkl\":\"Edft_din6_s_din4_x2_df\",\n",
    "#     \"Edft_din6_as_din4_x2_df.pkl\":\"Edft_din6_as_din4_x2_df\",\n",
    "#     \"Edft_balanced_df.pkl\": \"Edft_balanced_df\"\n",
    "\n",
    "#     } \n",
    "\n",
    "# # Create an empty dictionary to store the DataFrames\n",
    "# data_frames = {}\n",
    "\n",
    "# # Iterate over the file_variables dictionary\n",
    "# for file_name, variable_name in file_variables.items():\n",
    "#     file_path = os.path.join(data_dir, file_name)\n",
    "#     data_frame = pd.read_pickle(file_path)\n",
    "#     data_frames[variable_name] = data_frame\n",
    "\n",
    "# # Iterate over the file_variables dictionary\n",
    "# for file_name, variable_name in file_variables.items():\n",
    "#     file_path = os.path.join(data_dir, file_name)\n",
    "#     data_frame = pd.read_pickle(file_path)\n",
    "#     data_frames[variable_name] = data_frame\n",
    "\n",
    "\n",
    "# cv_setup = {\"cv_type\": \"logocv\", \"cv_spec\": 'M1'}\n",
    "\n",
    "\n",
    "# # Create a dictionary to store the dataframes for easy access\n",
    "# dataframe_dict = {}\n",
    "\n",
    "# # Iterate over the data_frames dictionary\n",
    "# for key, df in data_frames.items():\n",
    "#     # Apply the add_cv_columns function to each dataframe\n",
    "#     logocv_df = add_cv_columns(df_in=df, cv_setup=cv_setup)\n",
    "#     # Create a variable name based on the original dataframe name with \"_kfold\" appended\n",
    "#     var_name = key + \"_logocv_metal\"\n",
    "#     # Assign the kfold dataframe to the dynamically\n",
    "#     globals()[var_name] = logocv_df\n",
    "    \n",
    "#     # Store the kfold dataframe in the dataframe dictionary\n",
    "#     dataframe_dict[var_name] = logocv_df\n",
    "\n",
    "\n",
    "\n",
    "# Edacs_dft_df_logocv_metal = dataframe_dict[\"Edacs_dft_logocv_metal\"]\n",
    "# Edft_din6_as_df_logocv_metal = dataframe_dict[\"Edft_din6_as_df_logocv_metal\"]\n",
    "# Edft_din6_s_df_logocv_metal = dataframe_dict[\"Edft_din6_s_df_logocv_metal\"]\n",
    "# Edft_din4_x2_df_logocv_metal = dataframe_dict[\"Edft_din4_x2_df_logocv_metal\"]\n",
    "# Edft_din6_df_logocv_metal = dataframe_dict[\"Edft_din6_df_logocv_metal\"]\n",
    "# Edft_din6_s_din4_x2_df_logocv_metal = dataframe_dict[\"Edft_din6_s_din4_x2_df_logocv_metal\"]\n",
    "# Edft_din6_as_din4_x2_df_logocv_metal = dataframe_dict[\"Edft_din6_as_din4_x2_df_logocv_metal\"]\n",
    "# Edft_balanced_df_logocv_metal= dataframe_dict[\"Edft_balanced_df_logocv_metal\"]"
   ]
  },
  {
   "cell_type": "markdown",
   "metadata": {},
   "source": [
    "#### Loading and preparing DFT energy datasets with Cavity Leave-One-Group-Out Cross-Validation"
   ]
  },
  {
   "cell_type": "markdown",
   "metadata": {},
   "source": [
    "This section prepares the adsorption energy datasets for machine learning by applying **Leave-One-Group-Out Cross-Validation (LOGO-CV)** using the structural property or any other desirable property **`cavity_3`** as the grouping variable.\n",
    "\n",
    "> ⚠️ **Note**: The entire code block is currently **commented out**.  \n",
    "> To activate it, **uncomment** all the lines by removing the leading `#` symbols.\n",
    "\n",
    "#### ✅ Key functionality:\n",
    "- Loads several `.pkl` data files containing DFT-calculated adsorption energies.\n",
    "- Applies LOGO-CV using the `add_cv_columns()` function, grouping by the `cavity_3` column.\n",
    "- Dynamically creates variables (e.g., `Edft_din6_as_df_logocv_cavity`) and stores them in a dictionary (`dataframe_dict`) for easy access.\n",
    "\n",
    "> 🔁 This cross-validation setup is used to assess model generalizability across different **cavity types**, making it particularly useful for structure-driven performance predictions.\n",
    "\n",
    "➡️ You’ll need to **uncomment this section** before training models that use `cavity_3`-based LOGO-CV.\n"
   ]
  },
  {
   "cell_type": "code",
   "execution_count": 4,
   "metadata": {},
   "outputs": [],
   "source": [
    "# data_dir = \"../../../data/external/dacs_energies_out\"\n",
    "\n",
    "# # Define the file names and corresponding variable names\n",
    "# file_variables = {\n",
    "#     \"Edacs_dft.pkl\": \"Edacs_dft\",\n",
    "#     \"Edft_din6_as_df.pkl\":\"Edft_din6_as_df\",\n",
    "#     \"Edft_din6_s_df.pkl\":\"Edft_din6_s_df\",\n",
    "#     \"Edft_din4_x2_df.pkl\":\"Edft_din4_x2_df\",\n",
    "#     \"Edft_din6_df.pkl\":\"Edft_din6_df\",\n",
    "#     \"Edft_din6_s_din4_x2_df.pkl\":\"Edft_din6_s_din4_x2_df\",\n",
    "#     \"Edft_din6_as_din4_x2_df.pkl\":\"Edft_din6_as_din4_x2_df\",\n",
    "#     \"Edft_balanced_df.pkl\": \"Edft_balanced_df\"\n",
    "#     } \n",
    "\n",
    "# # Create an empty dictionary to store the DataFrames\n",
    "# data_frames = {}\n",
    "\n",
    "# # Iterate over the file_variables dictionary\n",
    "# for file_name, variable_name in file_variables.items():\n",
    "#     file_path = os.path.join(data_dir, file_name)\n",
    "#     data_frame = pd.read_pickle(file_path)\n",
    "#     data_frames[variable_name] = data_frame\n",
    "\n",
    "\n",
    "\n",
    "\n",
    "\n",
    "# # Iterate over the file_variables dictionary\n",
    "# for file_name, variable_name in file_variables.items():\n",
    "#     file_path = os.path.join(data_dir, file_name)\n",
    "#     data_frame = pd.read_pickle(file_path)\n",
    "#     data_frames[variable_name] = data_frame\n",
    "\n",
    "\n",
    "# cv_setup = {\"cv_type\": \"logocv\", \"cv_spec\": 'cavity_3'}\n",
    "\n",
    "\n",
    "# # Create a dictionary to store the dataframes for easy access\n",
    "# dataframe_dict = {}\n",
    "\n",
    "# # Iterate over the data_frames dictionary\n",
    "# for key, df in data_frames.items():\n",
    "#     # Apply the add_cv_columns function to each dataframe\n",
    "#     logocv_df = add_cv_columns(df_in=df, cv_setup=cv_setup)\n",
    "#     # Create a variable name based on the original dataframe name with \"_kfold\" appended\n",
    "#     var_name = key + \"_logocv_cavity\"\n",
    "#     # Assign the kfold dataframe to the dynamically\n",
    "#     globals()[var_name] = logocv_df\n",
    "    \n",
    "#     # Store the kfold dataframe in the dataframe dictionary\n",
    "#     dataframe_dict[var_name] = logocv_df\n",
    "\n",
    "\n",
    "# # TODO: Write within a loop and have access at any point of the code\n",
    "\n",
    "# Edacs_dft_df_logocv_cavity = dataframe_dict[\"Edacs_dft_logocv_cavity\"]\n",
    "# Edft_din6_as_df_logocv_cavity = dataframe_dict[\"Edft_din6_as_df_logocv_cavity\"]\n",
    "# Edft_din6_s_df_logocv_cavity = dataframe_dict[\"Edft_din6_s_df_logocv_cavity\"]\n",
    "# Edft_din4_x2_df_logocv_cavity = dataframe_dict[\"Edft_din4_x2_df_logocv_cavity\"]\n",
    "# Edft_din6_df_logocv_cavity = dataframe_dict[\"Edft_din6_df_logocv_cavity\"]\n",
    "# Edft_din6_s_din4_x2_df_logocv_cavity = dataframe_dict[\"Edft_din6_s_din4_x2_df_logocv_cavity\"]\n",
    "# Edft_din6_as_din4_x2_df_logocv_cavity = dataframe_dict[\"Edft_din6_as_din4_x2_df_logocv_cavity\"]\n",
    "# Edft_balanced_df_logocv_cavity= dataframe_dict[\"Edft_balanced_df_logocv_cavity\"]"
   ]
  },
  {
   "cell_type": "markdown",
   "metadata": {},
   "source": [
    "## Feature Space and Target Specification"
   ]
  },
  {
   "cell_type": "code",
   "execution_count": 5,
   "metadata": {},
   "outputs": [],
   "source": [
    "# ───────────────\n",
    "# TARGET VARIABLE\n",
    "# ───────────────\n",
    "\n",
    "target = \"E_dft_M1M2\"\n",
    "\n",
    "# ───────────────\n",
    "# METAL FEATURES \n",
    "# ───────────────\n",
    "metal_features = [\n",
    "    \"atomic_mass\",\n",
    "    \"vdw_radius\",\n",
    "    \"r_cov_sb\",\n",
    "    \"r_cov_db\",\n",
    "    \"dipole_polarizability\",\n",
    "    \"ionic_radii_crystals\",\n",
    "    \"d_center_sp\",\n",
    "    \"Paul_electroneg\",\n",
    "    \"MB_electroneg\",\n",
    "    \"electron_affinity\",\n",
    "    \"covalent_radius\",\n",
    "    \"atomic_number\",\n",
    "    \"Ion_energ_I\",\n",
    "    \"Ion_energ_II\",\n",
    "    \"Zung_radius\",\n",
    "    \"Coh_radius\",\n",
    "    \"Waber_radius\",\n",
    "    \"mied_param_h\",\n",
    "    \"mied_param_phi\",\n",
    "    \"HOMO \",\n",
    "    \"LUMO\",\n",
    "    \"mag_moment_bulk_d\",\n",
    "    \" E_Fermi\",\n",
    "    \"E_Fermi2\",  \n",
    "]\n",
    " \n",
    "# ───────────────\n",
    "# CAVITY FEATURES\n",
    "# ───────────────\n",
    "cavity_features = [\n",
    "    \"ncoord\",\n",
    "    \"number_hetero\",\n",
    "    \"number_C\",\n",
    "    \"frac_hetero\",\n",
    "    \"frac_C\",\n",
    "    \"number_hetero_six\",\n",
    "    \"frac_hetero_six\",\n",
    "    \"number_hetero_five\",\n",
    "    \"frac_hetero_five\",\n",
    "    'delta_min_ds', \n",
    "    'delta_max_ds',\n",
    "    'fermi_energy_cavity',\n",
    "    'surface',\n",
    "    'convex_hull_area',\n",
    "    'convex_hull_volume'\n",
    "]\n",
    "\n",
    "# ───────────────────────────────────────────────\n",
    "# ELECTRONEGATIVITIES AND ATOMIC RADIUS FEATURES\n",
    "# ───────────────────────────────────────────────\n",
    "en_features = ['min(en)', 'mean(en)', 'max(en)', 'std(en)', 'sum(en)']\n",
    "r_features = ['min(r)', 'mean(r)', 'max(r)', 'std(r)', 'sum(r)']\n",
    "\n",
    "# ─────────────────────\n",
    "# GEOMETRICAL FEATURES\n",
    "# ───────────────────── \n",
    "posc_cd_features = ['min(posc_cavity_ds)', 'max(posc_cavity_ds)', 'mean(posc_cavity_ds)', 'std(posc_cavity_ds)',]\n",
    "                    #'min(posc_cavity_ang)', 'max(posc_cavity_ang)', 'mean(posc_cavity_ang)','std(posc_cavity_ang)']\n",
    "\n",
    "\n",
    "cont_cd_features = ['min(cont_cavity_ds)', 'max(cont_cavity_ds)', 'mean(cont_cavity_ds)', 'std(cont_cavity_ds)',]\n",
    "                    #'min(cont_cavity_ang)','max(cont_cavity_ang)', 'mean(cont_cavity_ang)', 'std(cont_cavity_ang)']\n",
    "\n",
    "# ──────────────────\n",
    "# CROSS VALIDATION\n",
    "# ──────────────────\n",
    "cv_types = ['kfold', 'metal', 'cavity']\n",
    "\n",
    "# ──────────────────\n",
    "# PRIMARY FEATURES\n",
    "# ──────────────────\n",
    "primary_features = metal_features + cavity_features + en_features + r_features + posc_cd_features + cont_cd_features\n",
    "\n",
    "# ──────────────────\n",
    "# FEATURE SETS\n",
    "# ──────────────────\n",
    "primary_feature_sets = {\n",
    "    'metal': metal_features,\n",
    "    'cavity': cavity_features,\n",
    "    'full': primary_features,\n",
    "}\n",
    "\n",
    "# ────────────────────────────────────────────────────────\n",
    "# SELECTED FEATURES FROM RF-SFS FOR SACs ON DOPED CARBON\n",
    "# ────────────────────────────────────────────────────────\n",
    "selected_features = ['surface', \n",
    "                     \"mied_param_h\", \n",
    "                     'fermi_energy_cavity',\n",
    "                     \"r_cov_sb\",\n",
    "                     'sum(r)', \n",
    "                     \"MB_electroneg\", \n",
    "                     \"ncoord\", \n",
    "                     \" E_Fermi\",                \n",
    "                     ]\n",
    "\n",
    "trial_feature_sets = [\n",
    "    # metal_features,\n",
    "    # cavity_features,\n",
    "    # metal_features + cavity_features,\n",
    "    # metal_features + cavity_features + en_features,\n",
    "    # metal_features + cavity_features + r_features,\n",
    "    # metal_features + cavity_features + en_features + r_features,\n",
    "    # metal_features + cavity_features + en_features + r_features + posc_cd_features,\n",
    "    # metal_features + cavity_features + en_features + r_features + cont_cd_features,\n",
    "    # metal_features + cavity_features + en_features + r_features + posc_cd_features + cont_cd_features,\n",
    "    selected_features \n",
    "\n",
    "    ]"
   ]
  },
  {
   "cell_type": "markdown",
   "metadata": {},
   "source": [
    "## Hyperparameter Optimization Setup"
   ]
  },
  {
   "cell_type": "markdown",
   "metadata": {},
   "source": [
    "| Parameter                  | Description                                                                 |\n",
    "|---------------------------|-----------------------------------------------------------------------------|\n",
    "| `bootstrap`               | Whether bootstrap samples are used when building trees (`True` = yes).      |\n",
    "| `ccp_alpha`               | Complexity parameter used for Minimal Cost-Complexity Pruning (`0.0` = no pruning). |\n",
    "| `criterion`               | Function to measure the quality of a split (`squared_error` = MSE).         |\n",
    "| `max_depth`               | Maximum depth of each decision tree (`8` here limits model complexity).     |\n",
    "| `max_features`            | Fraction of features considered at each split (`0.4` = 40% of total features). |\n",
    "| `max_leaf_nodes`          | Limits the number of leaf nodes in each tree (`None` = unlimited).          |\n",
    "| `max_samples`             | Number or fraction of samples to draw from X to train each base estimator (`None` = use all). |\n",
    "| `min_impurity_decrease`   | Node split occurs only if the impurity decrease is at least this value.     |\n",
    "| `min_samples_leaf`        | Minimum number of samples required to be at a leaf node (`1` = default).    |\n",
    "| `min_samples_split`       | Minimum number of samples required to split an internal node (`2` = default). |\n",
    "| `min_weight_fraction_leaf`| Minimum weighted fraction of the sum total of weights required to be at a leaf node. |\n",
    "| `n_estimators`            | Number of trees in the forest (`128` = moderately sized forest).            |\n",
    "| `n_jobs`                  | Number of jobs to run in parallel (`-1` = use all available cores).         |\n",
    "| `oob_score`               | Whether to use out-of-bag samples to estimate generalization accuracy (`False` = no). |\n",
    "| `random_state`            | Controls randomness for reproducibility (`0` = fixed seed).                 |\n",
    "| `verbose`                 | Controls the verbosity of the output (`0` = silent mode).                   |\n",
    "| `warm_start`              | If `True`, reuse solution of the previous call to `fit` and add more estimators. |\n"
   ]
  },
  {
   "cell_type": "code",
   "execution_count": 6,
   "metadata": {},
   "outputs": [],
   "source": [
    "# ───────────────────────────\n",
    "# RANDOM FOREST DICTIONARY\n",
    "# ───────────────────────────\n",
    "\n",
    "rf_dict = {\n",
    "    \"bootstrap\": True,\n",
    "    \"ccp_alpha\": 0.0,\n",
    "    \"criterion\": \"squared_error\",\n",
    "    \"max_depth\":8, #8\n",
    "    \"max_features\": 0.4,\n",
    "    \"max_leaf_nodes\": None,\n",
    "    \"max_samples\":None,\n",
    "    \"min_impurity_decrease\": 0.0,\n",
    "    # \"min_impurity_split\": None,\n",
    "    \"min_samples_leaf\": 1,\n",
    "    \"min_samples_split\": 2,\n",
    "    \"min_weight_fraction_leaf\": 0.0,\n",
    "    \"n_estimators\": 128,#128,\n",
    "    \"n_jobs\": -1,\n",
    "    \"oob_score\": False,\n",
    "    \"random_state\": 0,\n",
    "    \"verbose\": 0,\n",
    "    \"warm_start\": False,\n",
    "}"
   ]
  },
  {
   "cell_type": "markdown",
   "metadata": {},
   "source": [
    "## Random Forest Regression Model training"
   ]
  },
  {
   "cell_type": "markdown",
   "metadata": {},
   "source": [
    "The `evaluate_features_rf` function automates the process of training and evaluating a Random Forest Regression model across multiple feature sets.\n",
    "\n",
    "##### Function Inputs\n",
    "- `df_in` (`pd.DataFrame`): The input dataframe containing the features, target, and metadata (e.g., system labels).\n",
    "- `feature_sets` (`list of lists`): A list where each element is a list of feature names to be evaluated as a group.\n",
    "- `rf_dict` (`dict`): A dictionary specifying the hyperparameters for the `RandomForestRegressor`. This allows full control over the model configuration.\n",
    "- `target` (`str`): The name of the column in `df_in` that will be used as the regression target.\n",
    "\n",
    "##### What It Does\n",
    "For each set of features:\n",
    "1. Fits a `RandomForestRegressor` using the specified hyperparameters and target.\n",
    "2. Extracts and prints the feature importances.\n",
    "3. Uses a plotting utility to visualize predicted vs. actual values on both training and test sets.\n",
    "4. Appends the best-performing model's plot to a list of figures.\n",
    "5. Saves the result dataframe and error metrics to disk.\n",
    "\n",
    "##### Output\n",
    "- Returns a list of `plotly.graph_objects.Figure` objects — one for each feature set evaluated — that visualize the regression results.\n",
    "- Saves:\n",
    "  - A CSV of the prediction results (`df_rfr_dacs_results_metal_logocv.csv`)\n",
    "  - A CSV of the error metrics (`data_errors_mlogocv.csv`)"
   ]
  },
  {
   "cell_type": "markdown",
   "metadata": {},
   "source": [
    "### RFR with k-fold CV"
   ]
  },
  {
   "cell_type": "code",
   "execution_count": 7,
   "metadata": {},
   "outputs": [
    {
     "name": "stderr",
     "output_type": "stream",
     "text": [
      "/Users/mariaminotaki/miniconda3/envs/bms/lib/python3.10/site-packages/sklearn/metrics/_regression.py:492: FutureWarning:\n",
      "\n",
      "'squared' is deprecated in version 1.4 and will be removed in 1.6. To calculate the root mean squared error, use the function'root_mean_squared_error'.\n",
      "\n",
      "/Users/mariaminotaki/miniconda3/envs/bms/lib/python3.10/site-packages/sklearn/metrics/_regression.py:492: FutureWarning:\n",
      "\n",
      "'squared' is deprecated in version 1.4 and will be removed in 1.6. To calculate the root mean squared error, use the function'root_mean_squared_error'.\n",
      "\n",
      "/Users/mariaminotaki/miniconda3/envs/bms/lib/python3.10/site-packages/sklearn/metrics/_regression.py:492: FutureWarning:\n",
      "\n",
      "'squared' is deprecated in version 1.4 and will be removed in 1.6. To calculate the root mean squared error, use the function'root_mean_squared_error'.\n",
      "\n",
      "/Users/mariaminotaki/miniconda3/envs/bms/lib/python3.10/site-packages/sklearn/metrics/_regression.py:492: FutureWarning:\n",
      "\n",
      "'squared' is deprecated in version 1.4 and will be removed in 1.6. To calculate the root mean squared error, use the function'root_mean_squared_error'.\n",
      "\n",
      "/Users/mariaminotaki/miniconda3/envs/bms/lib/python3.10/site-packages/sklearn/metrics/_regression.py:492: FutureWarning:\n",
      "\n",
      "'squared' is deprecated in version 1.4 and will be removed in 1.6. To calculate the root mean squared error, use the function'root_mean_squared_error'.\n",
      "\n",
      "/Users/mariaminotaki/miniconda3/envs/bms/lib/python3.10/site-packages/sklearn/metrics/_regression.py:492: FutureWarning:\n",
      "\n",
      "'squared' is deprecated in version 1.4 and will be removed in 1.6. To calculate the root mean squared error, use the function'root_mean_squared_error'.\n",
      "\n",
      "/Users/mariaminotaki/miniconda3/envs/bms/lib/python3.10/site-packages/sklearn/metrics/_regression.py:492: FutureWarning:\n",
      "\n",
      "'squared' is deprecated in version 1.4 and will be removed in 1.6. To calculate the root mean squared error, use the function'root_mean_squared_error'.\n",
      "\n",
      "/Users/mariaminotaki/miniconda3/envs/bms/lib/python3.10/site-packages/sklearn/metrics/_regression.py:492: FutureWarning:\n",
      "\n",
      "'squared' is deprecated in version 1.4 and will be removed in 1.6. To calculate the root mean squared error, use the function'root_mean_squared_error'.\n",
      "\n",
      "/Users/mariaminotaki/miniconda3/envs/bms/lib/python3.10/site-packages/sklearn/metrics/_regression.py:492: FutureWarning:\n",
      "\n",
      "'squared' is deprecated in version 1.4 and will be removed in 1.6. To calculate the root mean squared error, use the function'root_mean_squared_error'.\n",
      "\n",
      "/Users/mariaminotaki/miniconda3/envs/bms/lib/python3.10/site-packages/sklearn/metrics/_regression.py:492: FutureWarning:\n",
      "\n",
      "'squared' is deprecated in version 1.4 and will be removed in 1.6. To calculate the root mean squared error, use the function'root_mean_squared_error'.\n",
      "\n",
      "/Users/mariaminotaki/miniconda3/envs/bms/lib/python3.10/site-packages/sklearn/metrics/_regression.py:492: FutureWarning:\n",
      "\n",
      "'squared' is deprecated in version 1.4 and will be removed in 1.6. To calculate the root mean squared error, use the function'root_mean_squared_error'.\n",
      "\n",
      "/Users/mariaminotaki/miniconda3/envs/bms/lib/python3.10/site-packages/sklearn/metrics/_regression.py:492: FutureWarning:\n",
      "\n",
      "'squared' is deprecated in version 1.4 and will be removed in 1.6. To calculate the root mean squared error, use the function'root_mean_squared_error'.\n",
      "\n",
      "/Users/mariaminotaki/miniconda3/envs/bms/lib/python3.10/site-packages/sklearn/metrics/_regression.py:492: FutureWarning:\n",
      "\n",
      "'squared' is deprecated in version 1.4 and will be removed in 1.6. To calculate the root mean squared error, use the function'root_mean_squared_error'.\n",
      "\n",
      "/Users/mariaminotaki/miniconda3/envs/bms/lib/python3.10/site-packages/sklearn/metrics/_regression.py:492: FutureWarning:\n",
      "\n",
      "'squared' is deprecated in version 1.4 and will be removed in 1.6. To calculate the root mean squared error, use the function'root_mean_squared_error'.\n",
      "\n",
      "/Users/mariaminotaki/miniconda3/envs/bms/lib/python3.10/site-packages/sklearn/metrics/_regression.py:492: FutureWarning:\n",
      "\n",
      "'squared' is deprecated in version 1.4 and will be removed in 1.6. To calculate the root mean squared error, use the function'root_mean_squared_error'.\n",
      "\n",
      "/Users/mariaminotaki/miniconda3/envs/bms/lib/python3.10/site-packages/sklearn/metrics/_regression.py:492: FutureWarning:\n",
      "\n",
      "'squared' is deprecated in version 1.4 and will be removed in 1.6. To calculate the root mean squared error, use the function'root_mean_squared_error'.\n",
      "\n",
      "/Users/mariaminotaki/miniconda3/envs/bms/lib/python3.10/site-packages/sklearn/metrics/_regression.py:492: FutureWarning:\n",
      "\n",
      "'squared' is deprecated in version 1.4 and will be removed in 1.6. To calculate the root mean squared error, use the function'root_mean_squared_error'.\n",
      "\n",
      "/Users/mariaminotaki/miniconda3/envs/bms/lib/python3.10/site-packages/sklearn/metrics/_regression.py:492: FutureWarning:\n",
      "\n",
      "'squared' is deprecated in version 1.4 and will be removed in 1.6. To calculate the root mean squared error, use the function'root_mean_squared_error'.\n",
      "\n",
      "/Users/mariaminotaki/miniconda3/envs/bms/lib/python3.10/site-packages/sklearn/metrics/_regression.py:492: FutureWarning:\n",
      "\n",
      "'squared' is deprecated in version 1.4 and will be removed in 1.6. To calculate the root mean squared error, use the function'root_mean_squared_error'.\n",
      "\n",
      "/Users/mariaminotaki/miniconda3/envs/bms/lib/python3.10/site-packages/sklearn/metrics/_regression.py:492: FutureWarning:\n",
      "\n",
      "'squared' is deprecated in version 1.4 and will be removed in 1.6. To calculate the root mean squared error, use the function'root_mean_squared_error'.\n",
      "\n",
      "/Users/mariaminotaki/miniconda3/envs/bms/lib/python3.10/site-packages/sklearn/metrics/_regression.py:492: FutureWarning:\n",
      "\n",
      "'squared' is deprecated in version 1.4 and will be removed in 1.6. To calculate the root mean squared error, use the function'root_mean_squared_error'.\n",
      "\n",
      "/Users/mariaminotaki/miniconda3/envs/bms/lib/python3.10/site-packages/sklearn/metrics/_regression.py:492: FutureWarning:\n",
      "\n",
      "'squared' is deprecated in version 1.4 and will be removed in 1.6. To calculate the root mean squared error, use the function'root_mean_squared_error'.\n",
      "\n",
      "/Users/mariaminotaki/miniconda3/envs/bms/lib/python3.10/site-packages/sklearn/metrics/_regression.py:492: FutureWarning:\n",
      "\n",
      "'squared' is deprecated in version 1.4 and will be removed in 1.6. To calculate the root mean squared error, use the function'root_mean_squared_error'.\n",
      "\n",
      "/Users/mariaminotaki/miniconda3/envs/bms/lib/python3.10/site-packages/sklearn/metrics/_regression.py:492: FutureWarning:\n",
      "\n",
      "'squared' is deprecated in version 1.4 and will be removed in 1.6. To calculate the root mean squared error, use the function'root_mean_squared_error'.\n",
      "\n",
      "/Users/mariaminotaki/miniconda3/envs/bms/lib/python3.10/site-packages/sklearn/metrics/_regression.py:492: FutureWarning:\n",
      "\n",
      "'squared' is deprecated in version 1.4 and will be removed in 1.6. To calculate the root mean squared error, use the function'root_mean_squared_error'.\n",
      "\n",
      "/Users/mariaminotaki/miniconda3/envs/bms/lib/python3.10/site-packages/sklearn/metrics/_regression.py:492: FutureWarning:\n",
      "\n",
      "'squared' is deprecated in version 1.4 and will be removed in 1.6. To calculate the root mean squared error, use the function'root_mean_squared_error'.\n",
      "\n",
      "/Users/mariaminotaki/miniconda3/envs/bms/lib/python3.10/site-packages/sklearn/metrics/_regression.py:492: FutureWarning:\n",
      "\n",
      "'squared' is deprecated in version 1.4 and will be removed in 1.6. To calculate the root mean squared error, use the function'root_mean_squared_error'.\n",
      "\n",
      "/Users/mariaminotaki/miniconda3/envs/bms/lib/python3.10/site-packages/sklearn/metrics/_regression.py:492: FutureWarning:\n",
      "\n",
      "'squared' is deprecated in version 1.4 and will be removed in 1.6. To calculate the root mean squared error, use the function'root_mean_squared_error'.\n",
      "\n",
      "/Users/mariaminotaki/miniconda3/envs/bms/lib/python3.10/site-packages/sklearn/metrics/_regression.py:492: FutureWarning:\n",
      "\n",
      "'squared' is deprecated in version 1.4 and will be removed in 1.6. To calculate the root mean squared error, use the function'root_mean_squared_error'.\n",
      "\n",
      "/Users/mariaminotaki/miniconda3/envs/bms/lib/python3.10/site-packages/sklearn/metrics/_regression.py:492: FutureWarning:\n",
      "\n",
      "'squared' is deprecated in version 1.4 and will be removed in 1.6. To calculate the root mean squared error, use the function'root_mean_squared_error'.\n",
      "\n"
     ]
    },
    {
     "name": "stdout",
     "output_type": "stream",
     "text": [
      "{'surface': 0.1789605100468911, 'mied_param_h': 0.07562911334485176, 'fermi_energy_cavity': 0.25755186565197313, 'r_cov_sb': 0.07219847240772191, 'sum(r)': 0.19276336374781003, 'MB_electroneg': 0.05354033186152385, 'ncoord': 0.13430702430978664, ' E_Fermi': 0.03504931862944167}\n",
      "['Fe' 'Ir' 'Au' 'Pd' 'Cu' 'Ag' 'Zn' 'Pt' 'Ni' 'Os' 'Rh' 'Co' 'Ru' 'Cd']\n",
      "4\n",
      "{'rmse_trains': [0.2644409181862694, 0.2629466604322748, 0.26326758983502796, 0.26519519361537924, 0.26511461185944746, 0.26470856211319355, 0.26820872022347897, 0.2662983663560893, 0.2679562583703541, 0.26273548012056236], 'rmse_tests': [0.5251725630455284, 0.5276514334898431, 0.5715019477394517, 0.37120847894447545, 0.3296872846672559, 0.3503224189530382, 0.3818683415325559, 0.4079001299429188, 0.4614485763632119, 0.37819084032204897], 'rmse_fulls': [0.30101980947587864, 0.3002769508858519, 0.3084809960397449, 0.2776810074143462, 0.2722948767159288, 0.27451911684654623, 0.2815543971551403, 0.28353954384330665, 0.2929420655332866, 0.276365523194044], 'mae_trains': [0.2057948595663673, 0.20588999959689513, 0.20545060909017362, 0.20791211608930224, 0.20962732842727966, 0.20743989787064634, 0.2096294927047915, 0.20694050357595653, 0.20834935355828396, 0.20581408071979834], 'mae_tests': [0.41631967085812016, 0.4076481189743298, 0.4257118487455855, 0.29434884625723534, 0.2639982938306288, 0.27847898843040536, 0.2936035280879474, 0.32809957192923633, 0.3602141046658813, 0.2893973771268141], 'mae_fulls': [0.22694571677558545, 0.22616009102967483, 0.2275796588686379, 0.2165961801015011, 0.21508983196079373, 0.21457700276333244, 0.21796803593793196, 0.21897148583066306, 0.22342938141359445, 0.21411382393778475], 'rsquared_trains': [0.9707115312116386, 0.970399510557466, 0.9709200877305337, 0.9734753749393955, 0.9733627601567949, 0.973229127585382, 0.9728602526798867, 0.9727406715754101, 0.9726834639239096, 0.9737417835018041], 'rsquared_tests': [0.8907949319739672, 0.8894365554764609, 0.8629554561674737, 0.9007061898954404, 0.9272607319486068, 0.9361088887372426, 0.8835322861570138, 0.9085993413717246, 0.8722712260617591, 0.9085765610470092], 'rsquared_fulls': [0.9646203180684114, 0.9647947230094942, 0.9628447147232365, 0.969893787431906, 0.9710503904077761, 0.9705755091129185, 0.9690480225906867, 0.9686100196508417, 0.9664936400234077, 0.9701783617172007]}\n",
      "['system_dacs', 'tot_energy_dacs', 'M1', 'M2', 'heteroatom_dacs', 'basic_cavity_dacs', 'cavity', 'cavity_v2', 'cavity_3', 'M1_cavity', 'cavity_4', 'M2_cavity', 'system_sacs_pristine', 'tot_energy_sacs_pristine', 'heteroatom_sacs_pristine', 'basic_cavity_sacs_pristine', 'Ecoh_m1', 'Ecoh_m2', 'y', 'color', 'M1_System', 'M2_System', 'y_M1_System', 'y_M2_System', 'y_System', 'System', 'Eads_gas', 'Eads', 'calc_energy', 'metal', 'plot_label', 'metal_energy', 'atomic_mass', 'vdw_radius', 'r_cov_sb', 'r_cov_db', 'dipole_polarizability', 'ionic_radii_crystals', 'd_center_sp', 'Paul_electroneg', 'MB_electroneg', 'electron_affinity', 'covalent_radius', 'atomic_number', 'Ion_energ_I', 'Ion_energ_II', 'Zung_radius', 'Coh_radius', 'Waber_radius', 'mied_param_h', 'mied_param_phi', 'HOMO ', 'LUMO', 'mag_moment_bulk_d', ' E_Fermi', 'E_Fermi2', 'd_electrons', 'vdw_radius2', 'total_metal_gas_energy', 'n_e', 'U_diss_0', 'ncoord', 'number_C', 'number_hetero', 'frac_hetero', 'frac_C', 'number_hetero_six', 'frac_hetero_six', 'number_hetero_five', 'frac_hetero_five', 'hetatom', 'r1', 'r2', 'r3', 'r4', 'r5', 'r6', 'r7', 'r8', 'en1', 'en2', 'en3', 'en4', 'en5', 'en6', 'en7', 'en8', 'min(r)', 'mean(r)', 'max(r)', 'std(r)', 'sum(r)', 'min(en)', 'mean(en)', 'max(en)', 'std(en)', 'sum(en)', 'abs_path', 'rel_path', 'sc', 'dc', 'chem_formula', 'num_atoms', 'cavity_ids', 'cont_cavity_ds', 'cont_cavity_ang', 'cavity_nd', 'cavity_ang', 'posc_cavity_ds', 'posc_cavity_ang', 'min(cont_cavity_ds)', 'max(cont_cavity_ds)', 'mean(cont_cavity_ds)', 'std(cont_cavity_ds)', 'min(posc_cavity_ds)', 'max(posc_cavity_ds)', 'mean(posc_cavity_ds)', 'std(posc_cavity_ds)', 'min(cont_cavity_ang)', 'max(cont_cavity_ang)', 'mean(cont_cavity_ang)', 'std(cont_cavity_ang)', 'min(posc_cavity_ang)', 'max(posc_cavity_ang)', 'mean(posc_cavity_ang)', 'std(posc_cavity_ang)', 'delta_min_ds', 'delta_max_ds', 'cavity_energy', 'fermi_energy_cavity', 'surface', 'perimeter', 'z_max', 'z_min', 'z_std', 'z_mean', 'z_max_sec', 'z_min_sec', 'z_std_sec', 'z_mean_sec', 'phi', 'M1_M2', 'E_M1M2', 'E_M1M2_v2', 'convex_hull_area', 'convex_hull_volume', 'mean_distance_N', 'Eint', 'r_min_max', 'dist_min', 'dist_max', 'train_00000', 'train_00001', 'train_00002', 'train_00003', 'train_00004', 'train_00005', 'train_00006', 'train_00007', 'train_00008', 'train_00009', 'pred_00000', 'pred_00001', 'pred_00002', 'pred_00003', 'pred_00004', 'pred_00005', 'pred_00006', 'pred_00007', 'pred_00008', 'pred_00009']\n"
     ]
    },
    {
     "data": {
      "application/vnd.plotly.v1+json": {
       "config": {
        "plotlyServerURL": "https://plot.ly"
       },
       "data": [
        {
         "hoverinfo": "text+x+y",
         "legendgroup": "Ag",
         "marker": {
          "color": "rgba(136,86,167,1)",
          "line": {
           "color": "black",
           "width": 1
          },
          "opacity": 1,
          "size": 12,
          "symbol": 0
         },
         "mode": "markers",
         "name": "Ag",
         "showlegend": true,
         "text": [
          "Ag_Fe_N_din4_x2_c4_a",
          "Ag_Fe_N_din6_as_c3_346",
          "Ag_Fe_N_din6_s_c3_013",
          "Ag_Fe_N_din6_as_c2_36",
          "Ag_Fe_N_din6_as_c2_12",
          "Ag_Fe_N_din4_x2_c3_a",
          "Ag_Fe_N_din6_as_c3_164",
          "Ag_Fe_N_din4_x2_c2_f",
          "Ag_Fe_N_din4_x2_c1_b",
          "Ag_Fe_N_din6_as_c2_16",
          "Ag_Fe_N_din4_x2_c2_c",
          "Ag_Fe_N_din6_s_c2_12",
          "Ag_Fe_N_din6_s_c1",
          "Ag_Fe_N_din6_as_c4_3216",
          "Ag_Fe_N_din6_as_c4_3456",
          "Ag_Fe_N_din6_as_c3_216",
          "Ag_Fe_C_din4_x2_c6",
          "Ag_Fe_N_din6_as_c2_24",
          "Ag_Fe_N_din4_x2_c0",
          "Ag_Fe_N_din6_as_c3_254",
          "Ag_Fe_N_din4_x2_c3_c",
          "Ag_Fe_N_din6_as_c3_123",
          "Ag_Fe_N_din6_as_c4_6124",
          "Ag_Fe_N_din6_as_c3_235",
          "Ag_Fe_N_din6_as_c3_125",
          "Ag_Fe_N_din6_s_c2_15",
          "Ag_Fe_N_din6_as_c3_165",
          "Ag_Fe_N_din6_as_c1_3",
          "Ag_Fe_N_din4_x2_c5_b",
          "Ag_Fe_N_din4_x2_c2_g",
          "Ag_Fe_N_din6_s_c5",
          "Ag_Fe_N_din6_as_c3_163",
          "Ag_Fe_N_din4_x2_c2_d",
          "Ag_Fe_N_din4_x2_c3_b",
          "Ag_Fe_N_din6_as_c2_23",
          "Ag_Fe_N_din6_as_c5_12346",
          "Ag_Fe_C_din6_as_c6",
          "Ag_Fe_N_din6_as_c4_6125",
          "Ag_Fe_N_din6_as_c0",
          "Ag_Fe_N_din4_x2_c4_c",
          "Ag_Fe_N_din6_as_c2_34",
          "Ag_Fe_N_din6_as_c2_14",
          "Ag_Fe_N_din4_x2_c3_d",
          "Ag_Fe_N_din4_x2_c4_d",
          "Ag_Fe_N_din6_as_c3_253",
          "Ag_Fe_N_din4_x2_c2_b",
          "Ag_Fe_N_din4_x2_c2_e",
          "Ag_Fe_N_din6_as_c2_35",
          "Ag_Fe_N_din6_as_c2_13",
          "Ag_Fe_N_din4_x2_c4_b",
          "Ag_Fe_N_din6_as_c1_1",
          "Ag_Fe_C_din6_s_c6",
          "Ag_Fe_N_din6_as_c1_2",
          "Ag_Fe_N_din6_s_c4_0134",
          "Ag_Fe_N_din4_x2_c1_a",
          "Ag_Fe_N_din6_as_c4_2456",
          "Ag_Fe_N_din6_s_c2_01"
         ],
         "type": "scatter",
         "x": [
          -2.3922767499999367,
          -0.765276749999984,
          -0.5102767499999885,
          -0.7572767500000595,
          -1.8852767499999885,
          -3.4062767499999467,
          -0.9302767500000612,
          -4.606276749999992,
          -3.5962767500000012,
          -0.4982767499999312,
          -0.3842767500000121,
          0.0127232499999223,
          0.983723249999926,
          -1.6272767499999503,
          -1.4992767500000213,
          -1.5402767499999612,
          -4.081276750000015,
          -1.7062767500000149,
          -3.348276749999954,
          -2.5582767499999903,
          -2.202276749999996,
          -2.2102767499999203,
          -1.751276749999974,
          -2.779276749999994,
          -2.6852767500000567,
          0.8017232500000233,
          -1.103276750000063,
          -0.2282767499999494,
          -3.1152767500000067,
          -1.7572767500000597,
          -1.8182767499999812,
          -0.5582767499999903,
          -2.5402767499999612,
          -0.849276750000044,
          -1.7532767500000404,
          -1.2082767500000813,
          -2.0872767499999867,
          -2.282276749999923,
          0.0347232500000842,
          -1.9972767500000683,
          -0.0682767499999812,
          -1.283276750000013,
          -0.5022767499999503,
          -2.341276750000006,
          -2.786276749999942,
          -0.2032767499999721,
          -1.6432767500000267,
          -1.167276749999914,
          -0.904276749999994,
          -3.5562767500000376,
          -0.6362767499999649,
          -3.061276750000033,
          -1.5082767500000358,
          -1.7162767500000058,
          0.2607232499999696,
          -2.175276749999952,
          -0.1962767500000239
         ],
         "y": [
          -2.4310916817418193,
          -1.0656502058116248,
          -0.7866196971934498,
          -1.2894146539749107,
          -1.5239271374883054,
          -3.506978964437834,
          -0.8475437946406522,
          -4.275830866255155,
          -3.813600604432305,
          -0.5912699893644231,
          -0.5692877721285545,
          0.1842725816102989,
          0.9021083534118566,
          -1.7560870829877377,
          -1.7101864633405763,
          -1.3047260010016495,
          -3.9052250206804104,
          -1.7088758691071368,
          -3.7113009096621874,
          -2.6119895017668373,
          -2.0327059747206464,
          -2.371089494100994,
          -1.6918236913576117,
          -2.7075898379316876,
          -2.609806537427654,
          0.43453466121593787,
          -1.4031205799923543,
          -0.6385949827506608,
          -3.1771962368953104,
          -2.050435407678078,
          -2.053278234079687,
          -1.0623184848155305,
          -2.3559654885593173,
          -0.7257397847005574,
          -1.9299270061590983,
          -1.3528660776865724,
          -1.904605306530359,
          -2.3431976989818653,
          -0.23316652475959768,
          -2.1354338735060217,
          -0.6031504226326557,
          -1.0487973426778616,
          -0.989584474252638,
          -2.311202266036026,
          -2.7075898379316876,
          -0.7967761971552363,
          -1.9115216183358816,
          -1.5108176116001368,
          -1.255533229507472,
          -3.5316935546829455,
          -0.6424703638536182,
          -2.7976758700336664,
          -1.295750831658047,
          -1.9078695927843599,
          -0.24943144410296053,
          -1.8744758967611472,
          0.05087294998542613
         ]
        },
        {
         "hoverinfo": "text+x+y",
         "legendgroup": "Au",
         "marker": {
          "color": "rgba(136,86,167,1)",
          "line": {
           "color": "black",
           "width": 1
          },
          "opacity": 1,
          "size": 12,
          "symbol": 0
         },
         "mode": "markers",
         "name": "Au",
         "showlegend": true,
         "text": [
          "Au_Fe_N_din6_as_c1_1",
          "Au_Fe_N_din4_x2_c4_d",
          "Au_Fe_N_din6_as_c3_236",
          "Au_Fe_N_din6_as_c2_35",
          "Au_Fe_N_din6_s_c4_0123",
          "Au_Fe_N_din6_s_c3_024",
          "Au_Fe_N_din4_x2_c4_a",
          "Au_Fe_N_din4_x2_c3_a",
          "Au_Fe_N_din6_as_c4_6124",
          "Au_Fe_N_din6_s_c2_02",
          "Au_Fe_N_din4_x2_c0",
          "Au_Fe_N_din4_x2_c2_b",
          "Au_Fe_N_din6_as_c4_6125",
          "Au_Fe_N_din6_as_c2_12",
          "Au_Fe_N_din6_as_c2_15",
          "Au_Fe_N_din6_s_c2_12",
          "Au_Fe_N_din4_x2_c2_f",
          "Au_Fe_N_din6_as_c3_125",
          "Au_Fe_N_din4_x2_c2_e",
          "Au_Fe_N_din4_x2_c5_b",
          "Au_Fe_N_din6_as_c2_24",
          "Au_Fe_N_din4_x2_c1_a",
          "Au_Fe_N_din6_as_c0",
          "Au_Fe_C_din4_x2_c6",
          "Au_Fe_N_din6_as_c2_34",
          "Au_Fe_N_din6_as_c3_123",
          "Au_Fe_N_din6_as_c2_26",
          "Au_Fe_N_din4_x2_c3_b",
          "Au_Fe_N_din6_as_c5_12345",
          "Au_Fe_N_din6_s_c5",
          "Au_Fe_N_din4_x2_c1_b",
          "Au_Fe_N_din4_x2_c5_a",
          "Au_Fe_N_din6_s_c3_012",
          "Au_Fe_N_din6_as_c4_3216",
          "Au_Fe_N_din4_x2_c4_e",
          "Au_Fe_N_din4_x2_c2_c",
          "Au_Fe_N_din6_s_c4_0134",
          "Au_Fe_N_din6_s_c3_013",
          "Au_Fe_N_din4_x2_c2_g",
          "Au_Fe_N_din6_as_c2_13",
          "Au_Fe_N_din6_as_c2_14",
          "Au_Fe_N_din6_as_c2_25",
          "Au_Fe_N_din6_as_c3_124",
          "Au_Fe_N_din6_s_c4_0124",
          "Au_Fe_N_din6_as_c3_163",
          "Au_Fe_N_din6_as_c1_3",
          "Au_Fe_N_din6_s_c2_01",
          "Au_Fe_N_din4_x2_c4_c",
          "Au_Fe_N_din6_s_c1",
          "Au_Fe_N_din6_as_c2_36",
          "Au_Fe_N_din4_x2_c4_b",
          "Au_Fe_N_din4_x2_c2_d",
          "Au_Fe_N_din6_as_c2_23",
          "Au_Fe_N_din6_as_c3_165",
          "Au_Fe_N_din4_x2_c3_d",
          "Au_Fe_N_din6_as_c3_235",
          "Au_Fe_C_din6_as_c6",
          "Au_Fe_N_din6_s_c2_15"
         ],
         "type": "scatter",
         "x": [
          -0.7325730000000412,
          -3.0525729999999776,
          -2.9295729999999303,
          -1.6945729999999166,
          -1.4965730000000512,
          -0.6295729999999757,
          -3.310573000000016,
          -4.061572999999992,
          -2.3505729999999794,
          1.1424269999999588,
          -3.7955730000000294,
          -1.598573000000027,
          -2.3955729999999384,
          -2.2905729999999203,
          -1.5035729999999994,
          0.3654269999999151,
          -5.091572999999965,
          -3.0745730000000258,
          -2.2825729999999957,
          -4.196572999999983,
          -2.409573000000062,
          0.3374270000000088,
          -0.0425729999999866,
          -5.065573000000011,
          -1.0175729999998957,
          -2.887573000000014,
          -2.230572999999975,
          -0.696572999999983,
          -3.575573000000002,
          -2.352572999999932,
          -4.034573000000062,
          -4.0905729999999885,
          -1.182572999999973,
          -2.30857299999995,
          -3.4475729999999594,
          -0.405573000000043,
          -2.2615730000000376,
          -0.7575730000000185,
          -2.151573000000024,
          -1.4125729999999912,
          -1.8885729999999905,
          -2.775572999999934,
          -2.804573000000044,
          -1.3785729999999994,
          -0.8685730000000085,
          -0.6645730000000576,
          0.3634269999999624,
          -2.6295730000000894,
          1.5574269999999224,
          -1.0885730000000358,
          -4.308572999999949,
          -3.0945730000000076,
          -2.4625730000000594,
          -1.1505730000000476,
          -0.8505729999999794,
          -3.533572999999972,
          -2.917572999999986,
          0.7974269999999315
         ],
         "y": [
          -0.9158174686478064,
          -2.853611259443403,
          -2.8944042514474746,
          -1.9440554932386382,
          -1.6823852153846621,
          -0.7737654595367782,
          -3.0691643304612803,
          -4.151770370268917,
          -2.0656336066656236,
          0.7079451542564996,
          -4.239873229069522,
          -1.7160714967124755,
          -2.708412384519953,
          -1.845039263781394,
          -1.9704257398036567,
          0.34544542090340796,
          -4.712199221794007,
          -2.987799170441479,
          -2.2478188064766687,
          -3.827324948595708,
          -2.031583523195604,
          -0.3885599171465757,
          -0.4168873757294759,
          -4.6048449139594645,
          -1.0339878563671507,
          -2.7907513910983255,
          -1.979031344082878,
          -0.7396336149577806,
          -2.94783551474251,
          -2.318314155176123,
          -4.329774149848688,
          -3.8323755857583146,
          -0.7982471705679496,
          -2.1281691160667853,
          -3.3976906397654423,
          -0.5502921847905059,
          -1.990694621633837,
          -0.8929624741256291,
          -2.4885945035793946,
          -1.6410133154858892,
          -1.4290309274086128,
          -2.5474745781381753,
          -2.162393417608123,
          -1.8995182303962939,
          -1.3913590673225793,
          -0.9558161851520268,
          0.18766065792666614,
          -2.670861719091233,
          1.13596758472976,
          -1.6688026157087799,
          -4.197102730979831,
          -2.971473617851999,
          -2.400424610507361,
          -1.7402541065976764,
          -1.2663062983299067,
          -3.1642771502691383,
          -2.2997716846545604,
          0.6019330952193278
         ]
        },
        {
         "hoverinfo": "text+x+y",
         "legendgroup": "Cd",
         "marker": {
          "color": "rgba(136,86,167,1)",
          "line": {
           "color": "black",
           "width": 1
          },
          "opacity": 1,
          "size": 12,
          "symbol": 0
         },
         "mode": "markers",
         "name": "Cd",
         "showlegend": true,
         "text": [
          "Cd_Fe_N_din6_as_c3_164",
          "Cd_Fe_N_din6_as_c2_25",
          "Cd_Fe_C_din6_s_c6",
          "Cd_Fe_N_din6_as_c3_254",
          "Cd_Fe_N_din6_as_c4_6125",
          "Cd_Fe_N_din6_as_c3_165",
          "Cd_Fe_N_din4_x2_c2_d",
          "Cd_Fe_N_din6_as_c4_3456",
          "Cd_Fe_N_din6_as_c4_2456",
          "Cd_Fe_N_din4_x2_c4_b",
          "Cd_Fe_N_din6_as_c3_346",
          "Cd_Fe_N_din6_s_c1",
          "Cd_Fe_N_din6_as_c2_36",
          "Cd_Fe_N_din6_as_c3_236",
          "Cd_Fe_N_din6_as_c3_216",
          "Cd_Fe_N_din6_as_c3_123",
          "Cd_Fe_N_din6_as_c2_24",
          "Cd_Fe_N_din4_x2_c3_a",
          "Cd_Fe_N_din4_x2_c3_d",
          "Cd_Fe_N_din6_as_c0",
          "Cd_Fe_N_din6_as_c5_12345",
          "Cd_Fe_N_din6_s_c5",
          "Cd_Fe_N_din6_s_c2_01",
          "Cd_Fe_N_din6_as_c4_6124",
          "Cd_Fe_N_din6_s_c2_12",
          "Cd_Fe_N_din4_x2_c4_d",
          "Cd_Fe_N_din6_s_c4_0124",
          "Cd_Fe_N_din6_as_c2_14",
          "Cd_Fe_N_din4_x2_c2_g",
          "Cd_Fe_N_din6_as_c5_12346",
          "Cd_Fe_N_din4_x2_c3_c",
          "Cd_Fe_N_din4_x2_c2_c",
          "Cd_Fe_N_din6_as_c2_35",
          "Cd_Fe_N_din6_s_c3_013",
          "Cd_Fe_N_din6_s_c4_0123",
          "Cd_Fe_N_din4_x2_c2_b",
          "Cd_Fe_C_din4_x2_c6",
          "Cd_Fe_N_din6_as_c2_26",
          "Cd_Fe_N_din6_as_c4_3216",
          "Cd_Fe_N_din4_x2_c1_b",
          "Cd_Fe_N_din4_x2_c1_a",
          "Cd_Fe_N_din4_x2_c2_a",
          "Cd_Fe_N_din4_x2_c2_f",
          "Cd_Fe_N_din6_as_c3_125",
          "Cd_Fe_N_din4_x2_c3_b",
          "Cd_Fe_N_din4_x2_c0",
          "Cd_Fe_C_din6_as_c6",
          "Cd_Fe_N_din6_as_c4_2346",
          "Cd_Fe_N_din4_x2_c5_b",
          "Cd_Fe_N_din6_s_c4_0134",
          "Cd_Fe_N_din4_x2_c4_c"
         ],
         "type": "scatter",
         "x": [
          -1.2922237999999808,
          -2.87922379999997,
          -3.210223799999987,
          -2.980223799999969,
          -2.914223799999938,
          -1.870223800000069,
          -2.613223800000007,
          -1.2532237999999936,
          -2.090223799999982,
          -3.10222380000004,
          -0.6032238000000163,
          0.1307761999999073,
          -1.6552238000000372,
          -2.7492237999999745,
          -1.9932238000000029,
          -2.53222379999999,
          -2.3302237999999917,
          -2.859223799999988,
          -1.37922379999997,
          -0.7332238000000117,
          -2.3882237999999845,
          -2.446223799999977,
          -1.0982238000000208,
          -2.42022379999991,
          -0.5932238000000254,
          -2.4552237999999917,
          -2.3292237999999017,
          -1.4552237999999915,
          -2.21322380000003,
          -1.120223800000069,
          -2.000223799999951,
          -1.6392237999999608,
          -1.7552237999999465,
          -1.2752238000000418,
          -2.2542238000000836,
          -0.6402237999999372,
          -4.168223799999957,
          -2.6582237999999663,
          -2.207223800000058,
          -4.062223800000076,
          -1.1082238000000115,
          -0.7902238000000281,
          -3.994223799999979,
          -3.10222380000004,
          -1.5982238000000208,
          -4.37922379999997,
          -1.61622380000005,
          -1.9602237999999872,
          -3.1562238000000136,
          -2.4232238000000663,
          -1.8912238000000272
         ],
         "y": [
          -1.242321562298917,
          -2.5351521272396345,
          -2.956307680094591,
          -2.835368076883767,
          -2.5415153197585867,
          -1.7900466315560086,
          -2.5635862248175423,
          -1.8588186384027348,
          -2.0454312583914334,
          -3.3796679540922177,
          -1.383997673083574,
          0.3189539906571587,
          -1.7592118350666766,
          -2.6824605526706007,
          -1.6173736535408367,
          -2.5809433918822844,
          -2.0840115927880793,
          -3.217989850919597,
          -1.5417059500047168,
          -0.7291401124347046,
          -2.5629347687310773,
          -2.330390902612637,
          -0.6597573210227925,
          -1.940679943717197,
          -0.4244543138134021,
          -2.4005937460671163,
          -2.195450794871727,
          -1.4469002552804262,
          -2.201594062261648,
          -1.5271183570317863,
          -2.1151522628860597,
          -1.382021733854108,
          -2.0124978072323763,
          -1.17037859165761,
          -1.9681011297341267,
          -1.0229488868904657,
          -3.9719616122857597,
          -2.0810589463713938,
          -1.9364265931462998,
          -3.9463589625455446,
          -1.1209865359519668,
          -1.2015836836084748,
          -4.139190767642069,
          -2.839138426141334,
          -1.4347282263833487,
          -4.138025716583267,
          -1.9200645595692512,
          -2.1408389106898316,
          -3.2100200014077784,
          -2.2041465447123962,
          -2.0782078509830866
         ]
        },
        {
         "hoverinfo": "text+x+y",
         "legendgroup": "Co",
         "marker": {
          "color": "rgba(136,86,167,1)",
          "line": {
           "color": "black",
           "width": 1
          },
          "opacity": 1,
          "size": 12,
          "symbol": 0
         },
         "mode": "markers",
         "name": "Co",
         "showlegend": true,
         "text": [
          "Co_Fe_N_din6_as_c2_24",
          "Co_Fe_N_din6_as_c3_163",
          "Co_Fe_N_din6_as_c3_124",
          "Co_Fe_N_din6_as_c2_13",
          "Co_Fe_N_din6_as_c4_6125",
          "Co_Fe_N_din6_as_c2_26",
          "Co_Fe_N_din6_as_c4_3216",
          "Co_Fe_N_din6_as_c3_164",
          "Co_Fe_N_din6_s_c2_02",
          "Co_Fe_N_din6_as_c2_35",
          "Co_Fe_N_din6_s_c4_0124",
          "Co_Fe_N_din6_s_c2_15",
          "Co_Fe_N_din6_s_c2_01",
          "Co_Fe_N_din4_x2_c4_b",
          "Co_Fe_N_din6_as_c1_1",
          "Co_Fe_N_din6_as_c3_236",
          "Co_Fe_N_din4_x2_c4_d",
          "Co_Fe_N_din4_x2_c2_g",
          "Co_Fe_N_din6_as_c3_125",
          "Co_Fe_N_din4_x2_c3_a",
          "Co_Fe_N_din4_x2_c4_a",
          "Co_Fe_N_din4_x2_c2_e",
          "Co_Fe_C_din6_as_c6",
          "Co_Fe_N_din4_x2_c1_b",
          "Co_Fe_N_din4_x2_c2_d",
          "Co_Fe_N_din6_as_c3_346",
          "Co_Fe_N_din4_x2_c3_c",
          "Co_Fe_N_din6_as_c3_254",
          "Co_Fe_N_din6_s_c4_0134",
          "Co_Fe_C_din4_x2_c6",
          "Co_Fe_N_din6_as_c4_3456",
          "Co_Fe_N_din4_x2_c5_b",
          "Co_Fe_N_din6_s_c4_0123",
          "Co_Fe_N_din6_as_c4_6124",
          "Co_Fe_N_din6_s_c3_024",
          "Co_Fe_N_din6_s_c2_12",
          "Co_Fe_N_din6_as_c2_16",
          "Co_Fe_N_din6_s_c5",
          "Co_Fe_C_din6_s_c6",
          "Co_Fe_N_din6_as_c4_2456",
          "Co_Fe_N_din4_x2_c4_c",
          "Co_Fe_N_din6_as_c2_14",
          "Co_Fe_N_din4_x2_c0",
          "Co_Fe_N_din6_as_c2_34",
          "Co_Fe_N_din6_as_c1_3",
          "Co_Fe_N_din6_as_c0",
          "Co_Fe_N_din6_s_c3_013",
          "Co_Fe_N_din6_as_c3_123",
          "Co_Fe_N_din6_as_c3_216",
          "Co_Fe_N_din6_s_c1",
          "Co_Fe_N_din4_x2_c4_e"
         ],
         "type": "scatter",
         "x": [
          -2.88884300000003,
          -2.173842999999998,
          -3.3048429999999698,
          -2.4878429999999625,
          -3.6188429999999343,
          -2.960842999999919,
          -3.0398429999999834,
          -2.1348430000000107,
          0.0811569999999974,
          -2.878842999999925,
          -1.871842999999977,
          -0.2988429999999979,
          -0.2648430000000061,
          -5.6688430000000025,
          -1.847842999999976,
          -3.6858429999999416,
          -4.455842999999923,
          -5.37484300000002,
          -4.015843000000096,
          -6.386842999999963,
          -4.638842999999916,
          -4.925842999999951,
          -3.104843000000038,
          -7.418843000000003,
          -5.879843000000015,
          -2.250842999999996,
          -4.933842999999989,
          -4.031842999999945,
          -1.3848430000000107,
          -6.064842999999961,
          -3.0468430000000453,
          -5.203843000000084,
          -1.5698430000000698,
          -2.8248429999999516,
          -0.9668430000000044,
          -0.2308430000000143,
          -1.569842999999956,
          -2.6548429999999925,
          -3.6688430000000025,
          -3.5018429999999725,
          -4.382843000000058,
          -2.4088430000000116,
          -7.197842999999999,
          -1.5628429999998945,
          -1.9078430000000353,
          -1.5908429999999143,
          -1.434843000000079,
          -3.460842999999919,
          -2.45784299999999,
          0.6121569999999465,
          -5.178842999999993
         ],
         "y": [
          -2.742267465726902,
          -2.429867003985465,
          -2.9830081091839045,
          -2.534828577774422,
          -3.594565019218481,
          -2.805310787424806,
          -3.04139775158353,
          -2.0177057568748866,
          -0.08711972670765948,
          -2.8040685999248067,
          -2.142122155832972,
          -0.2483870289302946,
          -0.2864401765568882,
          -5.742320356669235,
          -1.8997248327873484,
          -3.6377086128406217,
          -4.6493169434823605,
          -5.088268448716916,
          -3.8895736698440238,
          -6.271580277615979,
          -4.70042553918334,
          -4.8660737503289,
          -3.0499254278592387,
          -7.182426984693002,
          -5.528197692394497,
          -2.437757486667757,
          -4.824567192187066,
          -3.909970844162171,
          -2.124657067239815,
          -6.047664531677351,
          -3.0045504307005526,
          -5.2663465631504,
          -1.798250217082339,
          -2.8189348372429888,
          -1.101967067861376,
          -0.2745949563743914,
          -1.777858846972476,
          -2.7586062104863185,
          -3.5915681354597644,
          -3.103019981598512,
          -4.646783948302068,
          -2.2333467078166658,
          -7.124213258944713,
          -1.7746675202862785,
          -1.9115412312685753,
          -1.5952025315623986,
          -1.4142329726156893,
          -3.5971586658812016,
          -2.513511976317504,
          0.38283183582794256,
          -5.248639518410761
         ]
        },
        {
         "hoverinfo": "text+x+y",
         "legendgroup": "Cu",
         "marker": {
          "color": "rgba(136,86,167,1)",
          "line": {
           "color": "black",
           "width": 1
          },
          "opacity": 1,
          "size": 12,
          "symbol": 0
         },
         "mode": "markers",
         "name": "Cu",
         "showlegend": true,
         "text": [
          "Cu_Fe_N_din4_x2_c3_b",
          "Cu_Fe_N_din6_as_c2_23",
          "Cu_Fe_N_din6_as_c2_25",
          "Cu_Fe_N_din4_x2_c2_g",
          "Cu_Fe_N_din6_as_c2_36",
          "Cu_Fe_N_din6_as_c4_2346",
          "Cu_Fe_N_din6_as_c2_35",
          "Cu_Fe_N_din6_as_c5_12346",
          "Cu_Fe_N_din4_x2_c1_a",
          "Cu_Fe_N_din4_x2_c2_d",
          "Cu_Fe_N_din6_as_c1_1",
          "Cu_Fe_N_din6_s_c2_15",
          "Cu_Fe_N_din4_x2_c4_a",
          "Cu_Fe_N_din6_as_c1_2",
          "Cu_Fe_N_din4_x2_c0",
          "Cu_Fe_N_din4_x2_c4_d",
          "Cu_Fe_C_din6_as_c6",
          "Cu_Fe_N_din6_as_c2_14",
          "Cu_Fe_N_din6_s_c2_02",
          "Cu_Fe_N_din4_x2_c2_b",
          "Cu_Fe_N_din6_as_c3_125",
          "Cu_Fe_N_din6_s_c3_013",
          "Cu_Fe_N_din6_s_c4_0124",
          "Cu_Fe_N_din6_as_c4_6125",
          "Cu_Fe_N_din6_s_c4_0134",
          "Cu_Fe_C_din4_x2_c6",
          "Cu_Fe_N_din6_as_c5_12345",
          "Cu_Fe_N_din6_as_c3_163",
          "Cu_Fe_N_din6_as_c3_165",
          "Cu_Fe_N_din4_x2_c4_c",
          "Cu_Fe_N_din6_s_c2_12",
          "Cu_Fe_N_din4_x2_c1_b",
          "Cu_Fe_N_din4_x2_c4_e",
          "Cu_Fe_N_din6_as_c2_24",
          "Cu_Fe_N_din4_x2_c3_a",
          "Cu_Fe_N_din6_as_c2_26",
          "Cu_Fe_N_din6_as_c3_123",
          "Cu_Fe_N_din6_as_c3_254",
          "Cu_Fe_N_din6_as_c3_164",
          "Cu_Fe_N_din4_x2_c2_e",
          "Cu_Fe_N_din6_as_c4_3456",
          "Cu_Fe_N_din4_x2_c2_a",
          "Cu_Fe_N_din4_x2_c3_d",
          "Cu_Fe_N_din6_as_c3_235",
          "Cu_Fe_N_din6_as_c4_6124",
          "Cu_Fe_N_din6_as_c2_16",
          "Cu_Fe_N_din6_s_c4_0123",
          "Cu_Fe_N_din4_x2_c4_b",
          "Cu_Fe_N_din6_as_c2_13",
          "Cu_Fe_N_din6_as_c3_253",
          "Cu_Fe_N_din4_x2_c5_b",
          "Cu_Fe_N_din4_x2_c3_c",
          "Cu_Fe_N_din4_x2_c2_c"
         ],
         "type": "scatter",
         "x": [
          -1.0546942499999918,
          -2.972694249999998,
          -3.6996942499999736,
          -3.2276942499999937,
          -2.0466942499999536,
          -3.2516942499999946,
          -2.2716942499999764,
          -2.405694249999991,
          -1.3756942500000182,
          -4.045694249999977,
          -1.9636942499999837,
          -0.1926942500000255,
          -3.956694249999922,
          -2.8176942500000255,
          -5.030694249999991,
          -3.9386942500000064,
          -3.0756942500000637,
          -2.5286942500000382,
          0.0223057500000063,
          -1.6746942499999964,
          -3.9776942500001073,
          -1.0496942499999964,
          -2.3136942499998927,
          -3.5766942499999264,
          -2.1136942500000746,
          -5.917694250000048,
          -3.8206942499999546,
          -1.5826942500000118,
          -2.3356942500000546,
          -3.416694250000072,
          -0.6026942499999937,
          -5.29869425000002,
          -4.059694249999987,
          -3.065694249999959,
          -4.901694249999972,
          -3.433694250000011,
          -3.2786942499999245,
          -3.9066942499999673,
          -2.166694250000072,
          -3.1756942499999727,
          -2.458694249999988,
          -1.5916942500000264,
          -1.9086942500000337,
          -3.89569425,
          -3.06169424999994,
          -1.8276942499999027,
          -2.094694250000069,
          -5.149694250000019,
          -2.068694250000002,
          -3.89569425,
          -3.375694250000018,
          -3.56169424999994,
          -0.20169425000004
         ],
         "y": [
          -1.2965737447296308,
          -3.048007620100789,
          -3.2732382765403396,
          -3.2402335148778096,
          -2.591632516399945,
          -3.1730946892110725,
          -2.7877009152383168,
          -2.4558533054118934,
          -1.5485740750501922,
          -3.499365428080807,
          -1.9377730439780523,
          -0.2228392970927224,
          -3.6113100855759765,
          -2.6268230606783223,
          -5.2318006007185565,
          -3.589643345010305,
          -3.0103925711801787,
          -2.2571839747510754,
          -0.05372187589003793,
          -1.9859106072461237,
          -3.86237448444087,
          -1.3771454183684475,
          -2.2215904290828608,
          -3.5595165649580554,
          -2.2272098505869837,
          -5.439482400200629,
          -3.58330951782852,
          -2.326386944146593,
          -2.615971336114055,
          -3.2979725960006525,
          -0.33863245795244407,
          -5.307242709651761,
          -3.8543685964753114,
          -2.7615949398943553,
          -5.045395611858354,
          -2.7883415402383167,
          -3.5691955373681616,
          -3.8752334831433166,
          -2.035482661871142,
          -2.9779378598398214,
          -2.936398332826946,
          -1.3907714154143382,
          -2.059538928754127,
          -3.9477313069707236,
          -2.7639753593704985,
          -1.8495753164749116,
          -1.9981646721396977,
          -5.03997501269049,
          -2.4939296656928556,
          -3.9477313069707236,
          -3.7731784789025578,
          -3.2328124044856232,
          -0.7577836474630371
         ]
        },
        {
         "hoverinfo": "text+x+y",
         "legendgroup": "Fe",
         "marker": {
          "color": "rgba(136,86,167,1)",
          "line": {
           "color": "black",
           "width": 1
          },
          "opacity": 1,
          "size": 12,
          "symbol": 0
         },
         "mode": "markers",
         "name": "Fe",
         "showlegend": true,
         "text": [
          "Fe_Fe_N_din6_as_c2_35",
          "Fe_Fe_N_din6_s_c3_012",
          "Fe_Fe_N_din6_s_c3_013",
          "Fe_Fe_N_din6_as_c3_165",
          "Fe_Fe_N_din6_as_c3_124",
          "Fe_Fe_N_din6_as_c3_236",
          "Fe_Fe_N_din6_as_c1_1",
          "Fe_Fe_N_din6_s_c2_01",
          "Fe_Fe_N_din6_as_c2_16",
          "Fe_Fe_N_din6_as_c4_6125",
          "Fe_Fe_N_din6_s_c2_15",
          "Fe_Fe_N_din6_as_c0",
          "Fe_Fe_N_din6_as_c2_13",
          "Fe_Fe_N_din6_as_c2_23",
          "Fe_Fe_N_din6_as_c4_2456",
          "Fe_Fe_N_din6_s_c4_0123",
          "Fe_Fe_N_din6_s_c2_12",
          "Fe_Fe_N_din6_as_c3_235",
          "Fe_Fe_N_din6_s_c2_02",
          "Fe_Fe_N_din6_as_c5_12345",
          "Fe_Fe_N_din6_as_c5_12346",
          "Fe_Fe_N_din6_as_c4_6124",
          "Fe_Fe_N_din6_as_c3_254",
          "Fe_Fe_N_din6_as_c2_26",
          "Fe_Fe_N_din6_as_c3_123",
          "Fe_Fe_N_din6_as_c4_3456",
          "Fe_Fe_N_din6_as_c3_346",
          "Fe_Fe_N_din6_as_c4_3216",
          "Fe_Fe_N_din6_as_c2_24",
          "Fe_Fe_N_din6_as_c2_15",
          "Fe_Fe_N_din6_as_c1_3",
          "Fe_Fe_N_din6_s_c4_0124",
          "Fe_Fe_N_din6_as_c3_216",
          "Fe_Fe_N_din6_as_c3_253",
          "Fe_Fe_N_din6_s_c5",
          "Fe_Fe_N_din6_s_c4_0134",
          "Fe_Fe_N_din6_as_c1_2",
          "Fe_Fe_C_din6_as_c6",
          "Fe_Fe_C_din6_s_c6",
          "Fe_Fe_N_din4_x2_c4_e",
          "Fe_Fe_N_din4_x2_c4_b",
          "Fe_Fe_N_din6_as_c2_25",
          "Fe_Fe_N_din4_x2_c3_a",
          "Fe_Fe_N_din4_x2_c0",
          "Fe_Fe_C_din4_x2_c6",
          "Fe_Fe_N_din4_x2_c3_c",
          "Fe_Fe_N_din4_x2_c2_e",
          "Fe_Fe_N_din4_x2_c4_a",
          "Fe_Fe_N_din4_x2_c1_b",
          "Fe_Fe_N_din4_x2_c4_c",
          "Fe_Fe_N_din4_x2_c5_b",
          "Fe_Fe_N_din4_x2_c2_g",
          "Fe_Fe_N_din4_x2_c2_f",
          "Fe_Fe_N_din4_x2_c2_d",
          "Fe_Fe_N_din4_x2_c3_b",
          "Fe_Fe_N_din4_x2_c4_d",
          "Fe_Fe_N_din6_as_c2_12"
         ],
         "type": "scatter",
         "x": [
          -2.7215650000000124,
          -0.854564999999937,
          -1.289564999999996,
          -2.4855650000000225,
          -3.042565000000039,
          -3.4545649999999597,
          -1.6265649999999852,
          -0.5135650000000425,
          -1.2795649999998917,
          -3.6335649999999338,
          -0.3465650000000124,
          -1.3155649999999497,
          -2.2695650000000143,
          -2.8465650000000124,
          -3.3185649999999924,
          -1.5625650000000206,
          -0.4435649999999924,
          -4.110564999999909,
          0.1044350000000093,
          -3.8565650000000034,
          -2.1905650000000634,
          -2.6905649999999497,
          -3.916564999999949,
          -2.854564999999937,
          -3.337564999999998,
          -2.9355649999999542,
          -1.851565000000008,
          -2.934564999999978,
          -2.6595650000000006,
          -2.6635650000000197,
          -1.660564999999977,
          -1.7925649999999251,
          -2.1415649999999715,
          -4.110564999999909,
          -2.979564999999937,
          -1.532565000000048,
          -2.2885650000000197,
          -3.0935649999999697,
          -3.987564999999975,
          -5.0865650000000215,
          -5.486564999999999,
          -3.472564999999989,
          -6.222564999999989,
          -7.5165649999999715,
          -5.8605650000000225,
          -4.674564999999987,
          -4.701565000000031,
          -4.519565000000014,
          -7.473565000000079,
          -4.2915650000000625,
          -5.074565000000078,
          -5.230565000000027,
          -7.428565000000006,
          -5.797565000000034,
          -4.446565000000035,
          -4.267564999999948,
          -2.5585650000000015
         ],
         "y": [
          -2.7614964454928272,
          -0.9704108953453435,
          -1.3310128668994747,
          -2.647671939549027,
          -2.918791839595452,
          -3.619029475743771,
          -1.7512390328360907,
          -0.3673284848568105,
          -1.6654958747063993,
          -3.5991881675588187,
          -0.2878004030167373,
          -1.4557503974851977,
          -2.489561326428179,
          -3.0475898123674883,
          -3.076005966854251,
          -1.766944877675435,
          -0.34952088841562984,
          -3.949769514376516,
          -0.13546326450550147,
          -3.614547771335769,
          -2.3996351109289686,
          -2.775885700564881,
          -3.8760741668372463,
          -2.7614964454928272,
          -3.573327401458984,
          -2.9796041202687285,
          -2.3706952963370673,
          -3.019362695129261,
          -2.697042089917333,
          -2.6579606214463025,
          -1.7917861071121939,
          -2.114457333792439,
          -2.4504685297996645,
          -3.949769514376516,
          -2.7768882020400505,
          -2.1210984202378578,
          -2.505625833642323,
          -3.0251507225574628,
          -3.7405516681518125,
          -5.132104904934544,
          -5.5708276123840745,
          -3.224112333242017,
          -6.10818316115885,
          -7.157170431557576,
          -5.891029376858269,
          -4.648138908905189,
          -4.691926549523499,
          -4.569219340960136,
          -7.104385148625469,
          -4.503846376966336,
          -5.147912292795965,
          -4.910701663935949,
          -7.129581974911979,
          -5.442302258699731,
          -4.293201528413519,
          -4.485997965572155,
          -2.6262108494714456
         ]
        },
        {
         "hoverinfo": "text+x+y",
         "legendgroup": "Ir",
         "marker": {
          "color": "rgba(136,86,167,1)",
          "line": {
           "color": "black",
           "width": 1
          },
          "opacity": 1,
          "size": 12,
          "symbol": 0
         },
         "mode": "markers",
         "name": "Ir",
         "showlegend": true,
         "text": [
          "Ir_Fe_N_din6_as_c3_235",
          "Ir_Fe_N_din4_x2_c2_a",
          "Ir_Fe_N_din4_x2_c1_b",
          "Ir_Fe_N_din6_as_c4_3216",
          "Ir_Fe_N_din6_as_c2_34",
          "Ir_Fe_N_din6_as_c4_6124",
          "Ir_Fe_N_din6_as_c4_2346",
          "Ir_Fe_C_din6_s_c6",
          "Ir_Fe_N_din6_s_c4_0124",
          "Ir_Fe_N_din6_as_c2_16",
          "Ir_Fe_N_din6_as_c3_124",
          "Ir_Fe_N_din4_x2_c3_b",
          "Ir_Fe_N_din6_as_c3_163",
          "Ir_Fe_N_din4_x2_c4_c",
          "Ir_Fe_N_din6_as_c5_12345",
          "Ir_Fe_N_din4_x2_c2_b",
          "Ir_Fe_N_din6_s_c2_12",
          "Ir_Fe_N_din4_x2_c3_c",
          "Ir_Fe_N_din4_x2_c4_e",
          "Ir_Fe_N_din6_as_c2_35",
          "Ir_Fe_N_din6_as_c3_164",
          "Ir_Fe_N_din6_as_c3_253",
          "Ir_Fe_N_din6_as_c3_254",
          "Ir_Fe_N_din6_as_c4_6125",
          "Ir_Fe_N_din4_x2_c2_g",
          "Ir_Fe_N_din6_as_c2_36",
          "Ir_Fe_N_din6_as_c2_24",
          "Ir_Fe_N_din6_s_c5",
          "Ir_Fe_N_din6_s_c3_012",
          "Ir_Fe_N_din4_x2_c3_a",
          "Ir_Fe_N_din6_as_c2_23",
          "Ir_Fe_N_din4_x2_c2_e",
          "Ir_Fe_N_din6_as_c3_236",
          "Ir_Fe_N_din4_x2_c4_d",
          "Ir_Fe_N_din6_as_c1_1",
          "Ir_Fe_N_din6_as_c4_2456",
          "Ir_Fe_N_din4_x2_c2_c",
          "Ir_Fe_N_din4_x2_c3_d",
          "Ir_Fe_C_din4_x2_c6",
          "Ir_Fe_N_din4_x2_c4_b",
          "Ir_Fe_N_din6_s_c3_013",
          "Ir_Fe_C_din6_as_c6",
          "Ir_Fe_N_din6_as_c1_2",
          "Ir_Fe_N_din6_s_c3_024",
          "Ir_Fe_N_din6_as_c2_14",
          "Ir_Fe_N_din6_s_c4_0134",
          "Ir_Fe_N_din6_as_c2_15",
          "Ir_Fe_N_din4_x2_c1_a",
          "Ir_Fe_N_din4_x2_c0",
          "Ir_Fe_N_din6_as_c5_12346",
          "Ir_Fe_N_din6_as_c3_123",
          "Ir_Fe_N_din6_as_c2_26",
          "Ir_Fe_N_din4_x2_c2_f",
          "Ir_Fe_N_din4_x2_c2_d",
          "Ir_Fe_N_din4_x2_c4_a"
         ],
         "type": "scatter",
         "x": [
          -3.614198749999982,
          -2.543198749999956,
          -6.325198749999995,
          -2.114198749999982,
          -1.0171987499998885,
          -1.7281987499999012,
          -2.5621987499999612,
          -3.809198750000032,
          -1.3331987499999194,
          -0.3761987499999257,
          -2.3511987499999485,
          -3.6061987500000576,
          -1.4271987499999703,
          -3.4311987499999894,
          -3.3581987499998966,
          -3.846198749999953,
          0.9398012499999916,
          -3.953198749999924,
          -4.42719874999997,
          -2.2921987499999794,
          -1.1401987500000494,
          -3.614198749999982,
          -3.2341987499999867,
          -2.727198749999925,
          -4.375198750000063,
          -1.7431987500000012,
          -1.9731987500000192,
          -2.3711987499999303,
          0.0588012500000196,
          -5.440198750000004,
          -2.281198750000012,
          -3.891198750000026,
          -2.8711987499999303,
          -3.4511987499999712,
          -0.7411987500000485,
          -2.8421987500000476,
          -3.6751987500000176,
          -2.8411987499999576,
          -5.53819874999996,
          -4.665198750000027,
          -0.3041987500000367,
          -2.7471987500000203,
          -1.235198749999963,
          -0.4281987499999466,
          -1.5631987500000513,
          -2.348198750000019,
          -1.9041987500000592,
          -3.666198750000003,
          -6.017198750000002,
          -1.809198750000032,
          -2.7371987499999157,
          -1.828198749999924,
          -6.720198749999977,
          -4.881198750000035,
          -3.7851987499999176
         ],
         "y": [
          -3.426071372656086,
          -2.9232475298760376,
          -6.288417719545656,
          -2.4559082425833645,
          -0.9437305967071026,
          -2.1376658931738404,
          -2.6251797991446137,
          -3.634661164459021,
          -1.9266158201097288,
          -0.8255675316632791,
          -2.237972302026974,
          -3.504768923033613,
          -1.7869828968924055,
          -3.7196029959860106,
          -3.0512269637196745,
          -3.896917125805749,
          0.4796790642458869,
          -3.8082347976107687,
          -4.464516131640404,
          -2.1285827193765834,
          -1.12117485129022,
          -3.426071372656086,
          -3.1747676925202084,
          -2.8635932126872388,
          -4.0198020836406485,
          -1.983609907861163,
          -2.02038287997145,
          -2.4725713149653643,
          -0.26390596701963287,
          -5.498866786781349,
          -2.312720632612592,
          -3.7716028641250485,
          -2.965808483250329,
          -3.6490355359419135,
          -0.9651700861422411,
          -2.5744644529674336,
          -3.496841290627496,
          -3.0615002863870844,
          -5.3985435398398085,
          -5.006190369718578,
          -0.5360500641036655,
          -2.623319269885563,
          -1.5176880978052831,
          -0.44643467154604893,
          -1.3028193538585562,
          -2.0687158862283908,
          -2.0095061207414298,
          -3.5569545506033666,
          -6.146648261340834,
          -1.988513976076331,
          -2.831990924637013,
          -2.0441098135220988,
          -6.268067372348205,
          -4.613087909859629,
          -3.856593036695125
         ]
        },
        {
         "hoverinfo": "text+x+y",
         "legendgroup": "Ni",
         "marker": {
          "color": "rgba(136,86,167,1)",
          "line": {
           "color": "black",
           "width": 1
          },
          "opacity": 1,
          "size": 12,
          "symbol": 0
         },
         "mode": "markers",
         "name": "Ni",
         "showlegend": true,
         "text": [
          "Ni_Fe_N_din6_as_c3_125",
          "Ni_Fe_N_din6_as_c3_165",
          "Ni_Fe_N_din4_x2_c3_a",
          "Ni_Fe_C_din4_x2_c6",
          "Ni_Fe_N_din4_x2_c3_c",
          "Ni_Fe_N_din6_as_c2_36",
          "Ni_Fe_N_din6_s_c4_0123",
          "Ni_Fe_N_din6_s_c2_01",
          "Ni_Fe_N_din6_as_c1_3",
          "Ni_Fe_N_din4_x2_c2_a",
          "Ni_Fe_N_din6_as_c2_16",
          "Ni_Fe_N_din6_as_c3_124",
          "Ni_Fe_N_din4_x2_c4_d",
          "Ni_Fe_N_din4_x2_c4_a",
          "Ni_Fe_N_din6_as_c2_15",
          "Ni_Fe_N_din4_x2_c5_b",
          "Ni_Fe_N_din4_x2_c1_b",
          "Ni_Fe_N_din6_as_c1_1",
          "Ni_Fe_N_din6_as_c4_2346",
          "Ni_Fe_N_din4_x2_c1_a",
          "Ni_Fe_N_din4_x2_c4_e",
          "Ni_Fe_N_din4_x2_c0",
          "Ni_Fe_N_din4_x2_c2_g",
          "Ni_Fe_N_din6_as_c3_164",
          "Ni_Fe_N_din6_s_c3_012",
          "Ni_Fe_N_din6_as_c1_2",
          "Ni_Fe_N_din4_x2_c2_e",
          "Ni_Fe_N_din6_s_c2_12",
          "Ni_Fe_N_din4_x2_c2_f",
          "Ni_Fe_N_din6_as_c3_216",
          "Ni_Fe_N_din6_s_c2_02",
          "Ni_Fe_N_din6_as_c5_12346",
          "Ni_Fe_N_din4_x2_c2_d",
          "Ni_Fe_N_din4_x2_c5_a",
          "Ni_Fe_N_din6_as_c4_2456",
          "Ni_Fe_N_din6_s_c4_0124",
          "Ni_Fe_N_din6_as_c3_235",
          "Ni_Fe_N_din6_as_c4_3216",
          "Ni_Fe_N_din6_as_c4_6124",
          "Ni_Fe_N_din6_as_c2_23",
          "Ni_Fe_N_din6_as_c2_12",
          "Ni_Fe_N_din4_x2_c3_b",
          "Ni_Fe_N_din6_s_c2_15",
          "Ni_Fe_N_din6_as_c2_34",
          "Ni_Fe_N_din4_x2_c4_b",
          "Ni_Fe_N_din6_s_c1",
          "Ni_Fe_N_din6_as_c2_24",
          "Ni_Fe_N_din6_as_c2_14",
          "Ni_Fe_N_din6_s_c4_0134",
          "Ni_Fe_N_din6_as_c4_6125",
          "Ni_Fe_N_din6_as_c3_346",
          "Ni_Fe_N_din6_as_c3_163",
          "Ni_Fe_N_din6_as_c3_123",
          "Ni_Fe_N_din6_as_c3_253",
          "Ni_Fe_N_din6_s_c3_013",
          "Ni_Fe_N_din6_as_c3_254",
          "Ni_Fe_C_din6_s_c6",
          "Ni_Fe_N_din6_as_c4_3456",
          "Ni_Fe_N_din6_s_c3_024"
         ],
         "type": "scatter",
         "x": [
          -4.358493750000093,
          -2.7584937500000706,
          -6.4624937500000215,
          -6.383493749999957,
          -5.030493750000005,
          -2.8434937499999933,
          -2.3274937500000306,
          -0.4504937500000778,
          -2.2744937500000333,
          -3.102493750000008,
          -1.8794937499999376,
          -3.7874937499999537,
          -4.856493749999913,
          -4.898493749999943,
          -3.0314937499999814,
          -5.585493750000069,
          -6.988493750000089,
          -2.4524937500000306,
          -3.915493749999996,
          -4.116493750000018,
          -5.201493750000054,
          -6.689493749999997,
          -4.916493749999972,
          -2.4974937499999896,
          -1.2044937499999833,
          -3.071493749999945,
          -4.740493749999928,
          -0.4694937500000833,
          -7.6154937500000415,
          -2.773493750000057,
          -0.1774937500000533,
          -2.8214937500000588,
          -5.547493749999944,
          -5.505493749999914,
          -4.137493749999976,
          -2.422493749999944,
          -4.584493749999979,
          -3.572493750000035,
          -3.428493749999916,
          -3.366493750000018,
          -3.325493749999964,
          -4.685493749999978,
          -0.4784937499999842,
          -1.8854937499999096,
          -6.084493749999979,
          0.5745062499998994,
          -3.2854937500000005,
          -2.8684937499999705,
          -2.586493750000045,
          -4.064493749999997,
          -2.6844937500000015,
          -2.438493750000021,
          -3.925493749999987,
          -4.585493749999955,
          -1.6184937500000842,
          -4.390493750000019,
          -3.842493750000017,
          -3.5414937499999724,
          -1.0934937499999933
         ],
         "y": [
          -4.093736704415725,
          -2.877615184445569,
          -6.337750715312553,
          -6.185556205158177,
          -4.8326544420674455,
          -2.882111669395984,
          -2.09245650135182,
          -0.34492855511089043,
          -2.1149013876482208,
          -3.548327534214572,
          -1.9614402879947506,
          -3.143777023154108,
          -4.727012540845378,
          -4.777575098875502,
          -2.884544403304069,
          -5.385250067206197,
          -6.9919477865226245,
          -2.084522838002816,
          -3.470281670347731,
          -4.067516136477644,
          -5.321647834856093,
          -6.871646008690977,
          -4.990374335573323,
          -2.231333758876162,
          -1.095933637836631,
          -2.7658480020842577,
          -4.76041248900671,
          -0.3303441743652412,
          -7.16991156279425,
          -2.685602250755241,
          -0.14320135511440388,
          -2.6249746823700524,
          -5.434077404647018,
          -5.458487135235917,
          -3.3591392405246374,
          -2.411420671247927,
          -4.264232954929163,
          -3.2977133727311227,
          -3.0298719492413535,
          -3.236907399320194,
          -2.8811958707766294,
          -4.391061119480672,
          -0.2979411044011471,
          -1.958912695195271,
          -5.871097675343415,
          0.35846502216975,
          -2.9059475694067207,
          -2.467952006004162,
          -2.441204282338564,
          -3.7854023914653894,
          -2.567970830970303,
          -2.5607527663869694,
          -3.766461866010727,
          -4.264232954929163,
          -1.5269918886167189,
          -4.129775695300069,
          -3.7102485584235065,
          -3.255413022555677,
          -1.1141564869923426
         ]
        },
        {
         "hoverinfo": "text+x+y",
         "legendgroup": "Os",
         "marker": {
          "color": "rgba(136,86,167,1)",
          "line": {
           "color": "black",
           "width": 1
          },
          "opacity": 1,
          "size": 12,
          "symbol": 0
         },
         "mode": "markers",
         "name": "Os",
         "showlegend": true,
         "text": [
          "Os_Fe_N_din4_x2_c4_c",
          "Os_Fe_N_din6_as_c2_16",
          "Os_Fe_N_din4_x2_c2_c",
          "Os_Fe_N_din4_x2_c4_b",
          "Os_Fe_N_din4_x2_c3_d",
          "Os_Fe_N_din6_s_c1",
          "Os_Fe_N_din4_x2_c2_b",
          "Os_Fe_N_din6_s_c3_013",
          "Os_Fe_N_din6_s_c4_0123",
          "Os_Fe_N_din4_x2_c2_a",
          "Os_Fe_N_din6_as_c3_253",
          "Os_Fe_N_din6_as_c1_2",
          "Os_Fe_N_din6_as_c4_6124",
          "Os_Fe_N_din4_x2_c2_e",
          "Os_Fe_N_din6_as_c3_165",
          "Os_Fe_N_din4_x2_c3_a",
          "Os_Fe_N_din6_as_c4_2456",
          "Os_Fe_N_din6_as_c3_254",
          "Os_Fe_N_din4_x2_c2_f",
          "Os_Fe_N_din6_s_c2_01",
          "Os_Fe_N_din6_as_c2_25",
          "Os_Fe_N_din6_as_c3_124",
          "Os_Fe_N_din6_as_c4_3216",
          "Os_Fe_N_din4_x2_c4_e",
          "Os_Fe_N_din6_as_c2_24",
          "Os_Fe_N_din4_x2_c5_a",
          "Os_Fe_N_din6_as_c4_3456",
          "Os_Fe_N_din4_x2_c5_b",
          "Os_Fe_C_din6_as_c6",
          "Os_Fe_N_din4_x2_c1_b",
          "Os_Fe_N_din6_as_c3_164",
          "Os_Fe_N_din6_as_c3_125",
          "Os_Fe_N_din6_s_c3_012",
          "Os_Fe_N_din4_x2_c3_c",
          "Os_Fe_N_din4_x2_c1_a",
          "Os_Fe_N_din6_s_c2_15",
          "Os_Fe_N_din4_x2_c3_b",
          "Os_Fe_N_din4_x2_c2_d",
          "Os_Fe_N_din6_as_c1_1",
          "Os_Fe_C_din6_s_c6",
          "Os_Fe_N_din6_as_c2_13",
          "Os_Fe_N_din6_as_c1_3",
          "Os_Fe_N_din6_as_c0",
          "Os_Fe_N_din4_x2_c2_g",
          "Os_Fe_N_din6_as_c5_12345",
          "Os_Fe_N_din6_as_c4_2346",
          "Os_Fe_N_din6_as_c3_346",
          "Os_Fe_N_din4_x2_c0",
          "Os_Fe_N_din6_s_c2_02",
          "Os_Fe_N_din6_as_c2_36",
          "Os_Fe_N_din4_x2_c4_d",
          "Os_Fe_N_din4_x2_c4_a",
          "Os_Fe_N_din6_as_c2_34",
          "Os_Fe_N_din6_s_c4_0134",
          "Os_Fe_N_din6_as_c3_123"
         ],
         "type": "scatter",
         "x": [
          -2.7559045000000317,
          0.5940955000001047,
          -3.1529044999999662,
          -4.099904499999969,
          -2.087904500000026,
          2.5640954999999046,
          -3.148904499999947,
          0.3920954999999928,
          -0.4769045000000353,
          -2.190904499999977,
          -2.4319044999999626,
          -0.3529045000000117,
          -1.019904499999928,
          -2.9899044999999553,
          -0.6499045000000372,
          -4.56890450000002,
          -1.6919044999999535,
          -2.4999044999999462,
          -5.72190450000004,
          1.4470954999999428,
          -1.724904499999969,
          -1.5749044999999915,
          -0.937904500000048,
          -3.6859044999999817,
          -1.1439045000000654,
          -3.916904499999976,
          -1.214904499999978,
          -3.816904500000067,
          -2.15290450000008,
          -5.901904500000104,
          0.0750954999999855,
          -2.1969045000000627,
          0.8970954999999883,
          -2.9209044999999954,
          -3.5149045000000463,
          1.09809550000001,
          -2.925904499999991,
          -4.333904500000006,
          0.011095500000021,
          -2.766904499999999,
          -0.7879044999999572,
          -0.1789045000000335,
          0.8110955000000892,
          -3.6679045000000663,
          -2.724904499999969,
          -1.725904499999945,
          -0.2689044999999517,
          -5.819904499999996,
          1.538095499999951,
          -0.6269045000000126,
          -2.829904499999987,
          -2.811904499999958,
          0.039095500000041,
          -1.447904500000039,
          -1.5649045000000008
         ],
         "y": [
          -3.0138916766155277,
          0.14975385034747554,
          -3.052687989478031,
          -4.23999486503671,
          -2.5852260573032138,
          2.1065835947655454,
          -3.3637929950317043,
          0.2288959368484433,
          -0.8298802424865248,
          -2.584794150042978,
          -2.4428535370330713,
          -0.6865353052272686,
          -1.2819035411783466,
          -3.105069399831465,
          -1.0765842179905891,
          -4.837034683851434,
          -1.5679896103335362,
          -2.375491085771586,
          -5.7274501385472085,
          1.2121661394656615,
          -1.743529893541678,
          -1.4610851111657461,
          -1.4297203281133168,
          -3.887899979323267,
          -1.3328495472103936,
          -3.9306914234323433,
          -1.4242150125224164,
          -3.9235929251894164,
          -1.8525202900351734,
          -5.912405851372255,
          -0.08289199746410646,
          -2.2901855773297664,
          0.6772917626265059,
          -3.0246190232390715,
          -3.250403142126409,
          1.216976203724567,
          -2.9339637040409596,
          -4.1223962306200255,
          0.05925107284000348,
          -2.7572619178569417,
          -0.9817351887270409,
          -0.2074724043790825,
          0.4809552220347213,
          -3.5454697432864744,
          -2.3278110354254085,
          -1.678200226300292,
          -0.7274641602922434,
          -5.812838555547125,
          1.3606987283102503,
          -1.0807589169023464,
          -2.9951978533320314,
          -3.1521003366442204,
          0.03596522204575156,
          -1.501659380626088,
          -1.956713650858837
         ]
        },
        {
         "hoverinfo": "text+x+y",
         "legendgroup": "Pd",
         "marker": {
          "color": "rgba(136,86,167,1)",
          "line": {
           "color": "black",
           "width": 1
          },
          "opacity": 1,
          "size": 12,
          "symbol": 0
         },
         "mode": "markers",
         "name": "Pd",
         "showlegend": true,
         "text": [
          "Pd_Fe_N_din6_s_c3_024",
          "Pd_Fe_N_din6_as_c4_2346",
          "Pd_Fe_N_din4_x2_c4_c",
          "Pd_Fe_N_din4_x2_c1_a",
          "Pd_Fe_N_din6_as_c2_14",
          "Pd_Fe_N_din4_x2_c3_a",
          "Pd_Fe_N_din6_s_c4_0134",
          "Pd_Fe_N_din6_as_c3_125",
          "Pd_Fe_N_din6_as_c2_16",
          "Pd_Fe_N_din6_as_c4_6124",
          "Pd_Fe_N_din6_as_c2_15",
          "Pd_Fe_N_din4_x2_c4_e",
          "Pd_Fe_N_din4_x2_c4_b",
          "Pd_Fe_N_din6_as_c3_124",
          "Pd_Fe_N_din6_s_c4_0123",
          "Pd_Fe_N_din6_as_c4_2456",
          "Pd_Fe_N_din4_x2_c2_g",
          "Pd_Fe_N_din6_as_c3_123",
          "Pd_Fe_N_din4_x2_c5_b",
          "Pd_Fe_N_din4_x2_c2_c",
          "Pd_Fe_N_din6_as_c3_253",
          "Pd_Fe_N_din6_as_c4_3216",
          "Pd_Fe_N_din6_as_c5_12345",
          "Pd_Fe_N_din6_as_c1_2",
          "Pd_Fe_N_din4_x2_c1_b",
          "Pd_Fe_N_din4_x2_c4_a",
          "Pd_Fe_N_din4_x2_c5_a",
          "Pd_Fe_N_din6_as_c1_1",
          "Pd_Fe_C_din6_s_c6",
          "Pd_Fe_N_din6_s_c2_01",
          "Pd_Fe_N_din6_s_c2_12",
          "Pd_Fe_N_din4_x2_c4_d",
          "Pd_Fe_N_din6_as_c4_3456",
          "Pd_Fe_N_din4_x2_c2_e",
          "Pd_Fe_N_din6_as_c2_24",
          "Pd_Fe_N_din6_as_c2_23",
          "Pd_Fe_N_din6_as_c2_34",
          "Pd_Fe_N_din4_x2_c2_b",
          "Pd_Fe_N_din6_as_c3_165",
          "Pd_Fe_N_din6_s_c3_012",
          "Pd_Fe_N_din4_x2_c0",
          "Pd_Fe_N_din4_x2_c3_b",
          "Pd_Fe_C_din4_x2_c6",
          "Pd_Fe_N_din4_x2_c2_a",
          "Pd_Fe_N_din6_s_c5",
          "Pd_Fe_N_din4_x2_c2_d",
          "Pd_Fe_N_din6_s_c2_15",
          "Pd_Fe_N_din6_as_c1_3",
          "Pd_Fe_N_din6_as_c5_12346",
          "Pd_Fe_C_din6_as_c6",
          "Pd_Fe_N_din6_as_c2_25",
          "Pd_Fe_N_din6_as_c2_12",
          "Pd_Fe_N_din6_as_c0",
          "Pd_Fe_N_din4_x2_c3_d",
          "Pd_Fe_N_din6_as_c3_254"
         ],
         "type": "scatter",
         "x": [
          -0.884779249999978,
          -3.2607792499999544,
          -3.5327792500000026,
          -3.2197792500000144,
          -2.1057792499999817,
          -5.414779249999951,
          -2.90577925000005,
          -3.591779250000086,
          -1.0917792499999717,
          -2.651779249999917,
          -2.2447792499999917,
          -4.142779250000016,
          -4.919779249999946,
          -3.0317792500000262,
          -1.8047792500000508,
          -3.686779249999999,
          -3.964779250000019,
          -3.34977925000001,
          -4.291779250000017,
          -3.3907792500000635,
          -4.049779249999942,
          -3.005779249999959,
          -3.824779249999919,
          -2.166779250000017,
          -5.993779250000015,
          -3.721779249999967,
          -4.359779250000001,
          -1.6227792500000344,
          -4.100779249999986,
          -0.2147792500000189,
          -0.2157792499999953,
          -3.6767792499998944,
          -3.1267792500000535,
          -3.6077792499999344,
          -2.575779250000009,
          -2.7657792500000635,
          -1.4447792499999237,
          -3.392779250000016,
          -2.25277925000003,
          -0.6717792500000126,
          -5.586779249999976,
          -3.624779249999987,
          -4.982779250000048,
          -2.068779249999947,
          -2.9177792499999935,
          -4.547779249999989,
          -0.0217792500000353,
          -1.6937792499999471,
          -2.2317792500000717,
          -3.2137792500000426,
          -3.18277924999998,
          -2.4707792499999908,
          -0.9147792499999507,
          -2.740779249999973,
          -3.7687792499999926
         ],
         "y": [
          -0.9401721836664941,
          -3.2650083205404687,
          -3.675084449055026,
          -3.4390817367446846,
          -1.9524628140700107,
          -5.2499318547684455,
          -2.5162106564451356,
          -3.8127265135055923,
          -1.51962036029948,
          -2.817004696544813,
          -2.5944728775542805,
          -4.289765012852136,
          -4.936758419690869,
          -2.8974654205944477,
          -2.027513442351014,
          -3.171741931789225,
          -3.914180053436204,
          -3.5544072110842975,
          -4.359217875407035,
          -3.403692511839101,
          -3.984752386255204,
          -3.1121047216751325,
          -3.6391506368070847,
          -2.3561142088599,
          -5.828327528687574,
          -3.776638835838757,
          -4.369554792451606,
          -1.6322231273874932,
          -3.910418510092954,
          -0.25590167690693205,
          -0.22269717322229485,
          -3.6315247625026124,
          -3.070364198077301,
          -3.664044579854103,
          -2.6298607014629503,
          -2.964042617857414,
          -1.5544031052716902,
          -3.5972004805088367,
          -2.6669000312345124,
          -0.872381644684084,
          -5.695231177477886,
          -3.4678627622255784,
          -5.041981249469494,
          -2.7816159893843073,
          -2.904082675106386,
          -4.382225815805482,
          -0.17320034626263847,
          -1.7293515663530425,
          -2.482224931132733,
          -3.110762128249503,
          -3.0833958126934755,
          -2.5757260555125856,
          -1.240688865773115,
          -2.9837152796652497,
          -3.8537403726547477
         ]
        },
        {
         "hoverinfo": "text+x+y",
         "legendgroup": "Pt",
         "marker": {
          "color": "rgba(136,86,167,1)",
          "line": {
           "color": "black",
           "width": 1
          },
          "opacity": 1,
          "size": 12,
          "symbol": 0
         },
         "mode": "markers",
         "name": "Pt",
         "showlegend": true,
         "text": [
          "Pt_Fe_N_din6_as_c2_25",
          "Pt_Fe_N_din4_x2_c3_a",
          "Pt_Fe_N_din6_as_c4_3456",
          "Pt_Fe_N_din6_as_c2_15",
          "Pt_Fe_N_din6_as_c5_12346",
          "Pt_Fe_N_din4_x2_c2_a",
          "Pt_Fe_N_din6_as_c3_165",
          "Pt_Fe_N_din4_x2_c4_d",
          "Pt_Fe_N_din6_as_c2_34",
          "Pt_Fe_N_din6_s_c4_0134",
          "Pt_Fe_N_din6_s_c4_0124",
          "Pt_Fe_N_din6_as_c3_253",
          "Pt_Fe_N_din4_x2_c0",
          "Pt_Fe_N_din6_as_c2_26",
          "Pt_Fe_N_din4_x2_c4_c",
          "Pt_Fe_N_din4_x2_c5_b",
          "Pt_Fe_N_din4_x2_c5_a",
          "Pt_Fe_N_din4_x2_c2_d",
          "Pt_Fe_N_din6_as_c2_16",
          "Pt_Fe_N_din4_x2_c3_c",
          "Pt_Fe_N_din4_x2_c3_b",
          "Pt_Fe_N_din6_as_c4_3216",
          "Pt_Fe_N_din6_as_c2_13",
          "Pt_Fe_N_din4_x2_c3_d",
          "Pt_Fe_N_din6_as_c4_2346",
          "Pt_Fe_N_din4_x2_c1_b",
          "Pt_Fe_N_din4_x2_c2_e",
          "Pt_Fe_N_din6_as_c2_23",
          "Pt_Fe_N_din6_as_c4_6125",
          "Pt_Fe_C_din6_s_c6",
          "Pt_Fe_N_din6_s_c5",
          "Pt_Fe_N_din6_as_c3_163",
          "Pt_Fe_N_din6_as_c3_125",
          "Pt_Fe_N_din4_x2_c2_b",
          "Pt_Fe_N_din4_x2_c2_g",
          "Pt_Fe_N_din6_as_c3_123",
          "Pt_Fe_N_din6_as_c1_1",
          "Pt_Fe_N_din6_as_c2_24",
          "Pt_Fe_N_din6_as_c1_2",
          "Pt_Fe_C_din4_x2_c6",
          "Pt_Fe_N_din6_s_c3_013",
          "Pt_Fe_C_din6_as_c6",
          "Pt_Fe_N_din6_as_c3_216",
          "Pt_Fe_N_din4_x2_c4_b",
          "Pt_Fe_N_din4_x2_c4_e",
          "Pt_Fe_N_din6_as_c1_3",
          "Pt_Fe_N_din6_as_c2_12",
          "Pt_Fe_N_din6_as_c3_346",
          "Pt_Fe_N_din6_as_c5_12345",
          "Pt_Fe_N_din6_as_c3_235",
          "Pt_Fe_N_din4_x2_c4_a",
          "Pt_Fe_N_din6_as_c3_254",
          "Pt_Fe_N_din4_x2_c2_c",
          "Pt_Fe_N_din4_x2_c1_a"
         ],
         "type": "scatter",
         "x": [
          -3.306763999999893,
          -5.883764000000005,
          -3.3767640000000565,
          -2.283763999999982,
          -2.5437640000000865,
          -2.1947639999999264,
          -2.2417640000000656,
          -4.233763999999914,
          -1.745763999999971,
          -3.1877639999999783,
          -1.8227639999999692,
          -4.414763999999954,
          -5.643763999999996,
          -2.6037639999999183,
          -3.974764000000013,
          -5.145764000000062,
          -5.107763999999937,
          -4.854764000000008,
          -1.005763999999962,
          -4.377763999999919,
          -4.045764000000039,
          -3.281764000000029,
          -2.4217640000000156,
          -2.97176399999997,
          -3.622763999999924,
          -6.210764000000003,
          -4.008764000000005,
          -3.16676400000002,
          -3.529763999999963,
          -4.614763999999999,
          -3.0527639999999874,
          -2.1777639999999874,
          -3.794764000000063,
          -3.7567639999999383,
          -4.266764000000043,
          -3.667763999999997,
          -1.603764000000032,
          -2.66676400000002,
          -2.2827640000000056,
          -6.165764000000044,
          -1.436764000000002,
          -3.6617640000000247,
          -2.134763999999981,
          -5.488764000000023,
          -4.772764000000015,
          -1.8247640000000356,
          -2.5737639999999455,
          -2.4417639999999974,
          -4.263764,
          -4.414763999999954,
          -4.439763999999931,
          -3.9687639999999273,
          -3.6917639999999974,
          -3.350764000000103
         ],
         "y": [
          -3.1510000215113716,
          -5.594063694401449,
          -3.0785533778852536,
          -2.500140010529905,
          -2.4169974449422638,
          -2.985615046437931,
          -2.5548873003944843,
          -3.865628057804226,
          -1.4731583336249885,
          -2.51240264009028,
          -2.245649540548611,
          -4.067584233013154,
          -5.927246003858771,
          -2.621812071897782,
          -3.9038242240712355,
          -4.673899968663013,
          -4.682850994357906,
          -4.699438356807252,
          -1.4154220238480901,
          -3.9945141190434317,
          -3.625979479495374,
          -3.115760190797182,
          -2.4109470226883345,
          -3.179949965192155,
          -3.3170031539025233,
          -6.141347249496461,
          -3.930818469174592,
          -3.0140813615914945,
          -3.6390217146878916,
          -4.073689273545463,
          -2.888388307888817,
          -2.35774331829253,
          -3.850596094371664,
          -3.9501620406054747,
          -4.17770199319303,
          -3.59451828824762,
          -1.508528372821235,
          -2.531396861562151,
          -2.284632304026,
          -5.516228150566728,
          -1.2415723222259216,
          -3.229061604332,
          -2.405234513063712,
          -5.290602250266044,
          -4.587442617443239,
          -1.6477365482700133,
          -2.474774786957109,
          -2.366913562368051,
          -3.7287300053908283,
          -4.067584233013154,
          -4.052487024033506,
          -3.898517431536747,
          -3.598919373564952,
          -3.6516524716713055
         ]
        },
        {
         "hoverinfo": "text+x+y",
         "legendgroup": "Rh",
         "marker": {
          "color": "rgba(136,86,167,1)",
          "line": {
           "color": "black",
           "width": 1
          },
          "opacity": 1,
          "size": 12,
          "symbol": 0
         },
         "mode": "markers",
         "name": "Rh",
         "showlegend": true,
         "text": [
          "Rh_Fe_N_din6_as_c3_235",
          "Rh_Fe_N_din4_x2_c4_d",
          "Rh_Fe_N_din4_x2_c5_b",
          "Rh_Fe_N_din4_x2_c4_c",
          "Rh_Fe_N_din6_as_c4_2456",
          "Rh_Fe_N_din4_x2_c2_c",
          "Rh_Fe_N_din6_as_c4_3456",
          "Rh_Fe_C_din4_x2_c6",
          "Rh_Fe_N_din4_x2_c3_b",
          "Rh_Fe_N_din6_s_c2_15",
          "Rh_Fe_C_din6_s_c6",
          "Rh_Fe_N_din6_s_c2_01",
          "Rh_Fe_N_din6_as_c2_14",
          "Rh_Fe_N_din4_x2_c2_g",
          "Rh_Fe_N_din4_x2_c2_e",
          "Rh_Fe_N_din6_as_c3_164",
          "Rh_Fe_N_din6_as_c4_6124",
          "Rh_Fe_N_din6_as_c3_236",
          "Rh_Fe_N_din6_as_c3_216",
          "Rh_Fe_N_din6_as_c2_36",
          "Rh_Fe_N_din6_as_c3_346",
          "Rh_Fe_N_din6_s_c2_12",
          "Rh_Fe_N_din6_as_c3_123",
          "Rh_Fe_N_din6_as_c1_3",
          "Rh_Fe_N_din6_as_c2_15",
          "Rh_Fe_N_din6_as_c3_124",
          "Rh_Fe_N_din6_as_c1_2",
          "Rh_Fe_N_din6_s_c4_0123",
          "Rh_Fe_N_din6_as_c4_6125",
          "Rh_Fe_N_din6_s_c5",
          "Rh_Fe_N_din6_as_c2_26",
          "Rh_Fe_N_din6_as_c2_25",
          "Rh_Fe_N_din6_as_c3_125",
          "Rh_Fe_N_din6_s_c3_013",
          "Rh_Fe_N_din6_as_c3_165",
          "Rh_Fe_N_din6_as_c3_253",
          "Rh_Fe_N_din6_as_c2_24",
          "Rh_Fe_N_din6_as_c2_34",
          "Rh_Fe_N_din6_as_c1_1",
          "Rh_Fe_N_din4_x2_c1_a",
          "Rh_Fe_N_din6_as_c0",
          "Rh_Fe_N_din6_s_c3_012",
          "Rh_Fe_N_din6_s_c4_0124",
          "Rh_Fe_N_din4_x2_c2_d",
          "Rh_Fe_N_din6_as_c5_12346",
          "Rh_Fe_N_din6_as_c2_35",
          "Rh_Fe_N_din4_x2_c3_a",
          "Rh_Fe_N_din6_s_c2_02",
          "Rh_Fe_N_din6_as_c4_2346",
          "Rh_Fe_N_din6_as_c2_23",
          "Rh_Fe_N_din4_x2_c0",
          "Rh_Fe_C_din6_as_c6",
          "Rh_Fe_N_din4_x2_c1_b",
          "Rh_Fe_N_din6_as_c3_163"
         ],
         "type": "scatter",
         "x": [
          -3.8534604999999544,
          -3.453460499999977,
          -3.9204605000000754,
          -3.495460500000007,
          -3.224460500000049,
          -3.860460500000016,
          -2.8024605000000236,
          -4.082460499999996,
          -3.699460499999958,
          0.2155395000000055,
          -3.974460500000049,
          -0.0914605000000108,
          -2.0904605000000345,
          -4.660460499999971,
          -4.0104604999999935,
          -1.7634605000000363,
          -2.17746049999991,
          -3.2344604999999262,
          -1.853460500000068,
          -2.251460499999979,
          -1.9794604999999308,
          0.1225394999999309,
          -3.0204604999999844,
          -1.599460500000049,
          -2.439460499999967,
          -2.7904604999999663,
          -1.797460500000028,
          -2.4334604999999954,
          -3.195460499999939,
          -2.8154604999999435,
          -2.382460499999951,
          -3.0994604999999353,
          -3.5944605000000536,
          -0.8204605000000527,
          -2.3124605000000145,
          -3.8534604999999544,
          -2.4024605000000463,
          -1.3534604999999544,
          -1.4124605000000372,
          -4.102460500000092,
          -0.8154604999999435,
          -0.8524604999999781,
          -1.998460499999936,
          -5.058460499999995,
          -2.131460500000088,
          -2.6824604999999053,
          -5.512460499999946,
          0.206539499999991,
          -2.904460499999999,
          -2.5544604999999763,
          -6.463460499999968,
          -2.91446049999999,
          -6.647460500000051,
          -1.9274605000000236
         ],
         "y": [
          -3.6379943470762903,
          -3.7006678226439926,
          -4.272235266165063,
          -3.7278796060499277,
          -2.713368257915221,
          -3.670661988477342,
          -2.616079629344154,
          -4.668378353034371,
          -3.618679992118262,
          0.19738968172812796,
          -3.626314094464956,
          0.0075682588985036495,
          -1.7962643222479002,
          -4.1321863976646895,
          -3.8219247500101536,
          -1.5735214240308577,
          -2.3764827977141114,
          -3.25863370339136,
          -2.0728924921635303,
          -2.3217231716451106,
          -2.0307968355267922,
          0.10358594797741336,
          -3.149114676331077,
          -1.612901208483159,
          -2.3399471702162584,
          -2.5052690443933794,
          -1.9938909223246302,
          -2.0724363059086817,
          -3.101991981967189,
          -2.739350173275668,
          -2.407875477744082,
          -2.877660490529988,
          -3.4106999891212553,
          -1.119661601100429,
          -2.284870864623143,
          -3.6379943470762903,
          -2.3710878653526093,
          -1.4693908292803441,
          -1.431350758578296,
          -3.75424618669922,
          -0.9691112574177934,
          -0.7690375928403598,
          -2.217473075126251,
          -4.563967217060987,
          -2.14221707713791,
          -2.4140038237502837,
          -5.2745696085185205,
          0.24975939589259094,
          -2.8381441489265655,
          -2.7288808272466842,
          -6.194523137568422,
          -2.7450229105120543,
          -6.270391716149181,
          -2.0250267394981463
         ]
        },
        {
         "hoverinfo": "text+x+y",
         "legendgroup": "Ru",
         "marker": {
          "color": "rgba(136,86,167,1)",
          "line": {
           "color": "black",
           "width": 1
          },
          "opacity": 1,
          "size": 12,
          "symbol": 0
         },
         "mode": "markers",
         "name": "Ru",
         "showlegend": true,
         "text": [
          "Ru_Fe_C_din6_as_c6",
          "Ru_Fe_N_din6_as_c2_25",
          "Ru_Fe_N_din4_x2_c2_b",
          "Ru_Fe_N_din6_as_c4_3456",
          "Ru_Fe_N_din4_x2_c5_a",
          "Ru_Fe_N_din6_as_c2_34",
          "Ru_Fe_N_din4_x2_c4_b",
          "Ru_Fe_N_din6_as_c4_2456",
          "Ru_Fe_N_din6_as_c3_164",
          "Ru_Fe_N_din6_s_c4_0134",
          "Ru_Fe_N_din6_s_c2_01",
          "Ru_Fe_N_din4_x2_c3_b",
          "Ru_Fe_N_din6_s_c4_0124",
          "Ru_Fe_N_din4_x2_c4_e",
          "Ru_Fe_N_din4_x2_c4_d",
          "Ru_Fe_N_din6_as_c3_163",
          "Ru_Fe_N_din6_as_c3_216",
          "Ru_Fe_N_din6_as_c4_3216",
          "Ru_Fe_N_din4_x2_c2_g",
          "Ru_Fe_N_din4_x2_c5_b",
          "Ru_Fe_C_din6_s_c6",
          "Ru_Fe_N_din6_as_c2_35",
          "Ru_Fe_N_din6_as_c1_1",
          "Ru_Fe_N_din6_as_c2_15",
          "Ru_Fe_N_din6_s_c3_024",
          "Ru_Fe_N_din4_x2_c3_d",
          "Ru_Fe_N_din6_as_c4_6124",
          "Ru_Fe_N_din6_as_c2_16",
          "Ru_Fe_N_din6_as_c2_23",
          "Ru_Fe_N_din4_x2_c2_e",
          "Ru_Fe_N_din4_x2_c4_a",
          "Ru_Fe_N_din4_x2_c3_a",
          "Ru_Fe_N_din6_s_c5",
          "Ru_Fe_N_din6_as_c2_13",
          "Ru_Fe_N_din6_s_c1",
          "Ru_Fe_N_din6_as_c0",
          "Ru_Fe_N_din4_x2_c2_f",
          "Ru_Fe_N_din6_s_c3_012",
          "Ru_Fe_N_din6_as_c2_12",
          "Ru_Fe_N_din6_as_c2_36",
          "Ru_Fe_N_din4_x2_c4_c",
          "Ru_Fe_N_din6_as_c4_2346",
          "Ru_Fe_N_din6_as_c3_123",
          "Ru_Fe_N_din6_as_c2_26",
          "Ru_Fe_N_din6_as_c3_254",
          "Ru_Fe_N_din4_x2_c2_c",
          "Ru_Fe_N_din4_x2_c2_d",
          "Ru_Fe_N_din6_as_c3_236",
          "Ru_Fe_N_din6_as_c3_346",
          "Ru_Fe_N_din6_as_c1_2",
          "Ru_Fe_N_din6_as_c3_165",
          "Ru_Fe_N_din6_as_c3_125",
          "Ru_Fe_N_din6_s_c3_013",
          "Ru_Fe_N_din6_s_c2_12",
          "Ru_Fe_N_din6_as_c3_253",
          "Ru_Fe_N_din6_as_c4_6125",
          "Ru_Fe_N_din6_s_c2_02"
         ],
         "type": "scatter",
         "x": [
          -2.3908159999999796,
          -2.3178160000000005,
          -3.4878159999999596,
          -1.6848159999999623,
          -4.022815999999928,
          -0.492815999999955,
          -4.214816000000049,
          -2.288816000000004,
          -0.6408159999999796,
          -2.0298159999999896,
          0.3961839999999412,
          -3.1298160000000124,
          -1.6718159999999287,
          -3.851815999999992,
          -3.065815999999934,
          -0.7888160000000042,
          -0.6968160000000196,
          -1.5798160000000578,
          -4.006815999999965,
          -4.068816000000091,
          -3.0648160000000715,
          -1.8888159999999132,
          -0.7288160000000588,
          -1.7928160000000233,
          -0.5258159999999705,
          -2.3908159999999796,
          -1.754815999999899,
          -0.2678159999999323,
          -1.614816000000026,
          -3.343815999999954,
          -3.322815999999996,
          -4.759816000000008,
          -2.030815999999966,
          -1.3838160000000317,
          1.5451839999999422,
          -0.0748159999999487,
          -6.002815999999946,
          -0.2308160000000114,
          -1.381815999999965,
          -1.3358160000000296,
          -2.927816000000014,
          -2.308815999999986,
          -1.9028159999999232,
          -1.4248159999999714,
          -3.0078159999999414,
          -3.3838160000000315,
          -4.57181600000002,
          -1.9948160000000217,
          -0.9158159999999568,
          -0.9738159999999496,
          -1.3968160000000651,
          -2.7068160000000105,
          -0.3518159999999923,
          1.0161839999999458,
          -2.8478159999999733,
          -2.229816000000035,
          0.524183999999984
         ],
         "y": [
          -2.1529928980089132,
          -2.0540599791965017,
          -3.634166837721006,
          -1.8267152806093991,
          -4.07605732914827,
          -0.6529524175157624,
          -4.396929149348449,
          -1.9074469203317366,
          -0.7165694909809313,
          -1.9233069148162814,
          0.45648689985167973,
          -3.2856332310512766,
          -1.834608952058106,
          -4.030640859742275,
          -3.336856771594314,
          -1.1782305492648644,
          -1.2521635387658734,
          -1.8294017386353911,
          -3.851759470860085,
          -4.096886672259545,
          -3.107498309011663,
          -1.7155121208265247,
          -0.5988671795866988,
          -1.671803968863859,
          -0.4680855670847176,
          -2.9031242865831652,
          -1.7127657217745356,
          -0.5736738158691957,
          -1.9173457080090233,
          -3.495803148797563,
          -3.4760105068412512,
          -4.948612253606234,
          -2.228353858721028,
          -1.436071612008937,
          1.338567151808865,
          -0.3118620551651153,
          -5.915812672199827,
          -0.3061806383675301,
          -1.4885630203236966,
          -1.5506696279562187,
          -3.372981580130675,
          -2.0449845815570726,
          -2.156810826094526,
          -1.6645219559815114,
          -2.652980772164079,
          -3.3653144652087477,
          -4.335816766247723,
          -2.286079646840078,
          -1.1713394901828325,
          -1.1864360177152664,
          -1.5010892404351697,
          -2.5835558387377513,
          -0.5316325505351429,
          0.6079898581328314,
          -2.729609500304667,
          -2.248603380870112,
          0.6838622478473251
         ]
        },
        {
         "hoverinfo": "text+x+y",
         "legendgroup": "Zn",
         "marker": {
          "color": "rgba(136,86,167,1)",
          "line": {
           "color": "black",
           "width": 1
          },
          "opacity": 1,
          "size": 12,
          "symbol": 0
         },
         "mode": "markers",
         "name": "Zn",
         "showlegend": true,
         "text": [
          "Zn_Fe_N_din6_as_c2_12",
          "Zn_Fe_N_din6_as_c4_2346",
          "Zn_Fe_N_din4_x2_c4_b",
          "Zn_Fe_N_din4_x2_c5_a",
          "Zn_Fe_N_din4_x2_c4_c",
          "Zn_Fe_N_din6_as_c5_12345",
          "Zn_Fe_N_din6_as_c1_3",
          "Zn_Fe_N_din4_x2_c4_e",
          "Zn_Fe_N_din4_x2_c3_b",
          "Zn_Fe_N_din4_x2_c5_b",
          "Zn_Fe_N_din6_as_c4_6124",
          "Zn_Fe_N_din6_as_c2_16",
          "Zn_Fe_N_din4_x2_c0",
          "Zn_Fe_N_din6_as_c3_216",
          "Zn_Fe_C_din6_s_c6",
          "Zn_Fe_N_din6_as_c2_36",
          "Zn_Fe_N_din6_s_c2_01",
          "Zn_Fe_N_din6_s_c2_15",
          "Zn_Fe_N_din4_x2_c3_a",
          "Zn_Fe_N_din6_as_c3_125",
          "Zn_Fe_N_din4_x2_c2_a",
          "Zn_Fe_N_din6_s_c2_12",
          "Zn_Fe_N_din6_as_c2_26",
          "Zn_Fe_N_din6_s_c5",
          "Zn_Fe_N_din6_as_c1_2",
          "Zn_Fe_N_din6_as_c2_14",
          "Zn_Fe_N_din6_as_c4_2456",
          "Zn_Fe_N_din6_s_c3_012",
          "Zn_Fe_N_din4_x2_c1_a",
          "Zn_Fe_N_din4_x2_c2_f",
          "Zn_Fe_N_din4_x2_c2_c",
          "Zn_Fe_N_din6_as_c3_165",
          "Zn_Fe_N_din6_as_c3_163",
          "Zn_Fe_N_din6_as_c3_164",
          "Zn_Fe_N_din6_s_c3_013",
          "Zn_Fe_N_din6_as_c2_34",
          "Zn_Fe_N_din6_as_c2_25",
          "Zn_Fe_N_din4_x2_c4_a",
          "Zn_Fe_N_din4_x2_c2_e",
          "Zn_Fe_N_din4_x2_c4_d",
          "Zn_Fe_N_din6_as_c3_123",
          "Zn_Fe_N_din6_s_c4_0123",
          "Zn_Fe_N_din6_as_c5_12346",
          "Zn_Fe_N_din6_as_c4_3216",
          "Zn_Fe_N_din6_as_c3_254",
          "Zn_Fe_N_din6_as_c2_24",
          "Zn_Fe_C_din4_x2_c6",
          "Zn_Fe_N_din6_as_c2_13",
          "Zn_Fe_N_din4_x2_c2_b",
          "Zn_Fe_N_din6_as_c4_6125",
          "Zn_Fe_N_din4_x2_c3_d",
          "Zn_Fe_N_din4_x2_c2_g",
          "Zn_Fe_N_din6_as_c3_124",
          "Zn_Fe_N_din4_x2_c1_b"
         ],
         "type": "scatter",
         "x": [
          -3.716038349999975,
          -3.307038349999983,
          -4.23503834999998,
          -4.115038349999976,
          -1.6080383500000277,
          -3.6520383499998967,
          -1.6830383499999595,
          -3.3540383500000086,
          -1.5650383500000211,
          -3.69403835000004,
          -3.879038349999986,
          -1.8710383499999477,
          -5.538038349999978,
          -3.338038350000046,
          -3.728038350000032,
          -2.3810383500000523,
          -1.369038349999995,
          -1.1670383499999968,
          -4.37403834999999,
          -4.482038350000051,
          -1.787038350000001,
          -1.3680383500000186,
          -4.041038349999907,
          -3.3850383499999577,
          -3.2310383499999613,
          -2.7700383500000623,
          -3.251038350000057,
          -2.2290383500000086,
          -1.4890383499999995,
          -5.080038350000008,
          -1.290038350000044,
          -2.9550383500000077,
          -1.9690383500000177,
          -2.6220383500000377,
          -1.9020383500000104,
          -1.1380383500000004,
          -4.273038349999991,
          -2.998038350000014,
          -2.459038350000027,
          -2.726038349999966,
          -3.758038350000005,
          -2.9780383500000323,
          -2.4280383500000777,
          -3.3820383500000286,
          -4.337038349999956,
          -3.758038350000005,
          -4.766038350000043,
          -2.193038350000064,
          -1.7520383500000332,
          -4.261038349999934,
          -2.1360383500000477,
          -2.905038350000053,
          -4.101038349999966,
          -5.190038350000021
         ],
         "y": [
          -3.1087565630733227,
          -3.4494705582487257,
          -4.425904122449552,
          -3.7750095079678796,
          -2.3673547573254377,
          -3.7813530538733517,
          -1.9080600645300412,
          -3.4181877103623943,
          -1.6640570182489964,
          -3.63006670771725,
          -3.134011466558651,
          -1.802996641562458,
          -5.339282106406482,
          -2.802973995141892,
          -3.752165553143411,
          -2.8165089623209756,
          -1.2333442908959966,
          -1.0875386651147445,
          -4.581444062591241,
          -4.095004407493973,
          -1.6491386163490578,
          -1.204925650417486,
          -3.2525652174418926,
          -3.166648681894255,
          -2.944694659574403,
          -2.363056314475126,
          -3.2869745665441563,
          -1.8680287430870433,
          -1.6161409912372389,
          -5.1030452602148335,
          -1.3870823728950767,
          -2.9948807274155644,
          -2.629435549773724,
          -2.288791077422445,
          -1.9436689337695248,
          -1.7653033022297788,
          -3.7149896692482893,
          -2.982597800003001,
          -2.4259252349729863,
          -2.7617196184241846,
          -3.7751059175958335,
          -2.5887295987665975,
          -2.6546752777012492,
          -3.286833150650223,
          -4.117502352778193,
          -3.227133888655558,
          -4.815704747967462,
          -2.695760890761395,
          -1.9410594291702272,
          -3.794055975500494,
          -2.07201537986865,
          -2.6593432334006994,
          -3.3236575364315724,
          -5.150074627879175
         ]
        },
        {
         "hoverinfo": "text+x+y",
         "legendgroup": "Ag",
         "marker": {
          "color": "rgba(28,144,153,1)",
          "line": {
           "color": "black",
           "width": 1
          },
          "opacity": 1,
          "size": 12,
          "symbol": 0
         },
         "mode": "markers",
         "name": "Ag",
         "showlegend": false,
         "text": [
          "Ag_Fe_N_din6_as_c2_26",
          "Ag_Fe_N_din6_as_c4_2346",
          "Ag_Fe_N_din6_as_c3_236",
          "Ag_Fe_N_din6_s_c2_02",
          "Ag_Fe_N_din6_as_c2_15"
         ],
         "type": "scatter",
         "x": [
          -2.0342767499999894,
          -2.080276749999925,
          -2.3322767499999912,
          0.7607232499999697,
          -1.3122767500000094
         ],
         "y": [
          -1.5426068010125447,
          -1.9607956761471543,
          -2.5267945333312145,
          0.5382345423017186,
          -1.679780210904306
         ]
        },
        {
         "hoverinfo": "text+x+y",
         "legendgroup": "Au",
         "marker": {
          "color": "rgba(28,144,153,1)",
          "line": {
           "color": "black",
           "width": 1
          },
          "opacity": 1,
          "size": 12,
          "symbol": 0
         },
         "mode": "markers",
         "name": "Au",
         "showlegend": false,
         "text": [
          "Au_Fe_N_din6_as_c1_2",
          "Au_Fe_N_din6_as_c3_254",
          "Au_Fe_N_din6_as_c2_16",
          "Au_Fe_N_din6_as_c4_2346"
         ],
         "type": "scatter",
         "x": [
          -1.7405729999999655,
          -3.287572999999991,
          -0.404572999999953,
          -2.882572999999905
         ],
         "y": [
          -1.5738610820647068,
          -2.996041031177404,
          -1.011905896581492,
          -2.3671357432833666
         ]
        },
        {
         "hoverinfo": "text+x+y",
         "legendgroup": "Cd",
         "marker": {
          "color": "rgba(28,144,153,1)",
          "line": {
           "color": "black",
           "width": 1
          },
          "opacity": 1,
          "size": 12,
          "symbol": 0
         },
         "mode": "markers",
         "name": "Cd",
         "showlegend": false,
         "text": [
          "Cd_Fe_N_din6_as_c1_1",
          "Cd_Fe_N_din6_as_c2_12",
          "Cd_Fe_N_din6_as_c1_3",
          "Cd_Fe_N_din6_as_c1_2",
          "Cd_Fe_N_din6_as_c2_13"
         ],
         "type": "scatter",
         "x": [
          -1.21322380000003,
          -2.32322379999993,
          -0.970223799999978,
          -2.009223799999966,
          -1.3942237999999565
         ],
         "y": [
          -1.0678085253077572,
          -1.9015546731380593,
          -1.1381344653868752,
          -1.652006023578888,
          -1.733947639249821
         ]
        },
        {
         "hoverinfo": "text+x+y",
         "legendgroup": "Co",
         "marker": {
          "color": "rgba(28,144,153,1)",
          "line": {
           "color": "black",
           "width": 1
          },
          "opacity": 1,
          "size": 12,
          "symbol": 0
         },
         "mode": "markers",
         "name": "Co",
         "showlegend": false,
         "text": [
          "Co_Fe_N_din6_as_c2_23",
          "Co_Fe_N_din6_as_c1_2",
          "Co_Fe_N_din6_as_c2_25",
          "Co_Fe_N_din6_as_c5_12346",
          "Co_Fe_N_din6_as_c2_36",
          "Co_Fe_N_din6_as_c3_165"
         ],
         "type": "scatter",
         "x": [
          -3.0638429999999843,
          -2.548842999999998,
          -3.534842999999988,
          -2.3108430000000553,
          -2.586843000000009,
          -2.572842999999999
         ],
         "y": [
          -3.0673680641117094,
          -2.576176170116254,
          -3.221475843918016,
          -2.4738057226240953,
          -2.6573887311639033,
          -2.6997272023659926
         ]
        },
        {
         "hoverinfo": "text+x+y",
         "legendgroup": "Cu",
         "marker": {
          "color": "rgba(28,144,153,1)",
          "line": {
           "color": "black",
           "width": 1
          },
          "opacity": 1,
          "size": 12,
          "symbol": 0
         },
         "mode": "markers",
         "name": "Cu",
         "showlegend": false,
         "text": [
          "Cu_Fe_N_din6_s_c3_012",
          "Cu_Fe_N_din6_as_c2_15",
          "Cu_Fe_N_din6_s_c1",
          "Cu_Fe_N_din6_s_c3_024",
          "Cu_Fe_N_din6_as_c3_216",
          "Cu_Fe_N_din6_as_c4_2456",
          "Cu_Fe_C_din6_s_c6",
          "Cu_Fe_N_din6_s_c5",
          "Cu_Fe_N_din6_as_c3_236",
          "Cu_Fe_N_din6_as_c0",
          "Cu_Fe_N_din6_s_c2_01"
         ],
         "type": "scatter",
         "x": [
          -1.7056942499999457,
          -2.5876942500000073,
          0.7853057499999263,
          -0.7106942499999409,
          -2.86869425000007,
          -3.2516942499999946,
          -3.292694250000048,
          -2.5636942500000064,
          -3.43669424999994,
          -1.0326942499999436,
          -0.2526942500000846
         ],
         "y": [
          -1.1021515002315136,
          -2.724436371944933,
          0.3184014312063661,
          -1.1206868150427143,
          -2.4184511683649417,
          -3.050084186373183,
          -3.460070383407295,
          -2.7003455134858165,
          -3.608785605270178,
          -1.5403934054692192,
          -0.3536877107056275
         ]
        },
        {
         "hoverinfo": "text+x+y",
         "legendgroup": "Fe",
         "marker": {
          "color": "rgba(28,144,153,1)",
          "line": {
           "color": "black",
           "width": 1
          },
          "opacity": 1,
          "size": 12,
          "symbol": 0
         },
         "mode": "markers",
         "name": "Fe",
         "showlegend": false,
         "text": [
          "Fe_Fe_N_din6_as_c3_164",
          "Fe_Fe_N_din6_as_c2_36",
          "Fe_Fe_N_din6_as_c2_34",
          "Fe_Fe_N_din6_s_c3_024",
          "Fe_Fe_N_din6_as_c3_125"
         ],
         "type": "scatter",
         "x": [
          -1.7425649999999706,
          -2.3305650000000497,
          -1.447564999999898,
          -0.9615650000000217,
          -3.9165650000000625
         ],
         "y": [
          -1.9274182666979105,
          -2.6314480167299803,
          -1.6732516027565303,
          -1.0286224365676528,
          -3.853034542971728
         ]
        },
        {
         "hoverinfo": "text+x+y",
         "legendgroup": "Ir",
         "marker": {
          "color": "rgba(28,144,153,1)",
          "line": {
           "color": "black",
           "width": 1
          },
          "opacity": 1,
          "size": 12,
          "symbol": 0
         },
         "mode": "markers",
         "name": "Ir",
         "showlegend": false,
         "text": [
          "Ir_Fe_N_din6_as_c2_12",
          "Ir_Fe_N_din6_as_c3_165",
          "Ir_Fe_N_din6_as_c4_3456",
          "Ir_Fe_N_din6_s_c2_02",
          "Ir_Fe_N_din6_s_c2_01",
          "Ir_Fe_N_din6_as_c3_125",
          "Ir_Fe_N_din6_as_c2_13",
          "Ir_Fe_N_din6_as_c3_346",
          "Ir_Fe_N_din6_s_c2_15",
          "Ir_Fe_N_din6_s_c4_0123",
          "Ir_Fe_N_din6_as_c1_3"
         ],
         "type": "scatter",
         "x": [
          -1.763198749999983,
          -1.694198750000023,
          -2.353198750000015,
          1.0888012499999924,
          0.7778012499999569,
          -3.1741987500000413,
          -1.7571987500000112,
          -1.5871987499999385,
          0.500801250000027,
          -1.837198750000052,
          -1.083198750000033
         ],
         "y": [
          -1.8453054412429912,
          -2.0581586421645808,
          -2.449308961927765,
          0.543920632778222,
          0.34845895571527846,
          -3.119513887164617,
          -1.8012333763614252,
          -1.788007355486156,
          0.4699942839295058,
          -1.4030130352155035,
          -1.155061469578702
         ]
        },
        {
         "hoverinfo": "text+x+y",
         "legendgroup": "Ni",
         "marker": {
          "color": "rgba(28,144,153,1)",
          "line": {
           "color": "black",
           "width": 1
          },
          "opacity": 1,
          "size": 12,
          "symbol": 0
         },
         "mode": "markers",
         "name": "Ni",
         "showlegend": false,
         "text": [
          "Ni_Fe_N_din6_as_c3_236",
          "Ni_Fe_N_din6_as_c2_26",
          "Ni_Fe_N_din6_as_c5_12345",
          "Ni_Fe_C_din6_as_c6",
          "Ni_Fe_N_din6_as_c2_25",
          "Ni_Fe_N_din6_as_c2_35"
         ],
         "type": "scatter",
         "x": [
          -4.1464937499999905,
          -3.401493749999986,
          -4.389493749999929,
          -3.7754937500000096,
          -4.029493749999915,
          -3.1634937499999296
         ],
         "y": [
          -3.826089108283766,
          -2.9876971732391695,
          -3.781081339070829,
          -3.242802546196031,
          -3.4095944811159673,
          -2.9870565482391696
         ]
        },
        {
         "hoverinfo": "text+x+y",
         "legendgroup": "Os",
         "marker": {
          "color": "rgba(28,144,153,1)",
          "line": {
           "color": "black",
           "width": 1
          },
          "opacity": 1,
          "size": 12,
          "symbol": 0
         },
         "mode": "markers",
         "name": "Os",
         "showlegend": false,
         "text": [
          "Os_Fe_N_din6_as_c2_15",
          "Os_Fe_N_din6_as_c2_35",
          "Os_Fe_N_din6_as_c2_23",
          "Os_Fe_N_din6_as_c3_235"
         ],
         "type": "scatter",
         "x": [
          -1.114904500000069,
          -1.325904499999968,
          -1.15290450000008,
          -2.4309044999999863
         ],
         "y": [
          -1.332753072194116,
          -1.3993092950115305,
          -1.6415904859041637,
          -2.4428535370330713
         ]
        },
        {
         "hoverinfo": "text+x+y",
         "legendgroup": "Pd",
         "marker": {
          "color": "rgba(28,144,153,1)",
          "line": {
           "color": "black",
           "width": 1
          },
          "opacity": 1,
          "size": 12,
          "symbol": 0
         },
         "mode": "markers",
         "name": "Pd",
         "showlegend": false,
         "text": [
          "Pd_Fe_N_din6_s_c2_02",
          "Pd_Fe_N_din6_as_c3_346",
          "Pd_Fe_N_din6_as_c2_35",
          "Pd_Fe_N_din6_s_c4_0124",
          "Pd_Fe_N_din6_as_c2_13",
          "Pd_Fe_N_din6_s_c3_013",
          "Pd_Fe_N_din6_as_c3_235",
          "Pd_Fe_N_din6_as_c2_26",
          "Pd_Fe_N_din6_as_c3_163"
         ],
         "type": "scatter",
         "x": [
          0.1992207499999683,
          -2.2327792499999344,
          -2.7917792499999035,
          -1.9507792499998953,
          -2.295779250000036,
          -1.382779250000025,
          -4.049779249999942,
          -2.5807792500000044,
          -2.0807792500000044
         ],
         "y": [
          -0.10042491102758945,
          -2.435609612920961,
          -2.7079313859204164,
          -2.3922664373459743,
          -2.479158805869142,
          -1.2555273309432256,
          -3.984752386255204,
          -2.7079313859204164,
          -2.4264393688454393
         ]
        },
        {
         "hoverinfo": "text+x+y",
         "legendgroup": "Pt",
         "marker": {
          "color": "rgba(28,144,153,1)",
          "line": {
           "color": "black",
           "width": 1
          },
          "opacity": 1,
          "size": 12,
          "symbol": 0
         },
         "mode": "markers",
         "name": "Pt",
         "showlegend": false,
         "text": [
          "Pt_Fe_N_din6_as_c3_236",
          "Pt_Fe_N_din6_as_c4_6124",
          "Pt_Fe_N_din6_as_c2_14",
          "Pt_Fe_N_din6_as_c2_35",
          "Pt_Fe_N_din6_as_c4_2456",
          "Pt_Fe_N_din6_as_c0",
          "Pt_Fe_N_din6_s_c3_024",
          "Pt_Fe_N_din6_s_c4_0123",
          "Pt_Fe_N_din6_as_c3_124"
         ],
         "type": "scatter",
         "x": [
          -3.859764000000004,
          -2.780763999999939,
          -2.322763999999969,
          -2.9237639999999683,
          -3.938763999999954,
          -0.8467639999999701,
          -0.9287639999999636,
          -1.7837640000000956,
          -3.2297640000000083
         ],
         "y": [
          -3.6694247924710535,
          -2.6972908466702075,
          -1.8152757713663201,
          -2.6218120718977826,
          -3.1053097039674107,
          -1.1601560524175485,
          -0.9718963743354673,
          -2.1086175272670054,
          -2.732502130136957
         ]
        },
        {
         "hoverinfo": "text+x+y",
         "legendgroup": "Rh",
         "marker": {
          "color": "rgba(28,144,153,1)",
          "line": {
           "color": "black",
           "width": 1
          },
          "opacity": 1,
          "size": 12,
          "symbol": 0
         },
         "mode": "markers",
         "name": "Rh",
         "showlegend": false,
         "text": [
          "Rh_Fe_N_din6_as_c2_12",
          "Rh_Fe_N_din6_s_c3_024",
          "Rh_Fe_N_din6_as_c4_3216"
         ],
         "type": "scatter",
         "x": [
          -2.257460499999951,
          -1.015460499999989,
          -2.501460499999979
         ],
         "y": [
          -2.257437173608306,
          -0.8499834168774795,
          -2.6438608802070567
         ]
        },
        {
         "hoverinfo": "text+x+y",
         "legendgroup": "Ru",
         "marker": {
          "color": "rgba(28,144,153,1)",
          "line": {
           "color": "black",
           "width": 1
          },
          "opacity": 1,
          "size": 12,
          "symbol": 0
         },
         "mode": "markers",
         "name": "Ru",
         "showlegend": false,
         "text": [
          "Ru_Fe_N_din6_as_c2_24",
          "Ru_Fe_N_din6_s_c4_0123",
          "Ru_Fe_N_din6_as_c1_3",
          "Ru_Fe_N_din6_as_c5_12346"
         ],
         "type": "scatter",
         "x": [
          -1.7278159999999687,
          -0.962816000000096,
          -0.7888160000000042,
          -1.5538159999999903
         ],
         "y": [
          -1.673042346931195,
          -1.482534238972744,
          -0.7693667353894971,
          -1.5895109951331874
         ]
        },
        {
         "hoverinfo": "text+x+y",
         "legendgroup": "Zn",
         "marker": {
          "color": "rgba(28,144,153,1)",
          "line": {
           "color": "black",
           "width": 1
          },
          "opacity": 1,
          "size": 12,
          "symbol": 0
         },
         "mode": "markers",
         "name": "Zn",
         "showlegend": false,
         "text": [
          "Zn_Fe_N_din6_s_c4_0134",
          "Zn_Fe_N_din6_as_c2_23",
          "Zn_Fe_N_din6_as_c3_346",
          "Zn_Fe_N_din6_s_c1"
         ],
         "type": "scatter",
         "x": [
          -3.220038349999994,
          -3.3820383500000286,
          -1.7150383499999986,
          -0.2970383500001059
         ],
         "y": [
          -2.849890245606812,
          -3.4759990990597296,
          -2.6364216353205996,
          -0.580834544041444
         ]
        },
        {
         "hoverinfo": "skip",
         "line": {
          "color": "black",
          "dash": "dash",
          "width": 2
         },
         "mode": "lines",
         "showlegend": false,
         "type": "scatter",
         "x": [
          -8.378962943750038,
          3.3275646937499004
         ],
         "y": [
          -8.378962943750038,
          3.3275646937499004
         ]
        }
       ],
       "layout": {
        "annotations": [
         {
          "align": "left",
          "bgcolor": "rgba(0,0,0,0.1)",
          "font": {
           "family": "Arial",
           "size": 26
          },
          "showarrow": false,
          "text": "Train:<br>R<sup>2</sup> = 0.9724 &#177; 0.0012<br>RMSE = 0.2651 &#177; 0.0018<br>MAE = 0.2073 &#177; 0.0015<br>Test:<br>R<sup>2</sup> = 0.8980 &#177; 0.0218<br>RMSE = 0.4305 &#177; 0.0806<br>MAE = 0.3358 &#177; 0.0587",
          "x": 0,
          "xanchor": "left",
          "xref": "paper",
          "y": 1,
          "yanchor": "top",
          "yref": "paper"
         }
        ],
        "font": {
         "color": "black",
         "family": "Arial",
         "size": 26
        },
        "height": 600,
        "hoverlabel": {
         "namelength": -1
        },
        "legend": {
         "bgcolor": "rgba(0,0,0,0.1)",
         "font": {
          "size": 26
         },
         "tracegroupgap": 2,
         "x": 1,
         "xanchor": "right",
         "y": 0,
         "yanchor": "bottom"
        },
        "margin": {
         "b": 0,
         "l": 0,
         "r": 0,
         "t": 0
        },
        "paper_bgcolor": "white",
        "plot_bgcolor": "white",
        "template": {
         "data": {
          "bar": [
           {
            "error_x": {
             "color": "#2a3f5f"
            },
            "error_y": {
             "color": "#2a3f5f"
            },
            "marker": {
             "line": {
              "color": "#E5ECF6",
              "width": 0.5
             },
             "pattern": {
              "fillmode": "overlay",
              "size": 10,
              "solidity": 0.2
             }
            },
            "type": "bar"
           }
          ],
          "barpolar": [
           {
            "marker": {
             "line": {
              "color": "#E5ECF6",
              "width": 0.5
             },
             "pattern": {
              "fillmode": "overlay",
              "size": 10,
              "solidity": 0.2
             }
            },
            "type": "barpolar"
           }
          ],
          "carpet": [
           {
            "aaxis": {
             "endlinecolor": "#2a3f5f",
             "gridcolor": "white",
             "linecolor": "white",
             "minorgridcolor": "white",
             "startlinecolor": "#2a3f5f"
            },
            "baxis": {
             "endlinecolor": "#2a3f5f",
             "gridcolor": "white",
             "linecolor": "white",
             "minorgridcolor": "white",
             "startlinecolor": "#2a3f5f"
            },
            "type": "carpet"
           }
          ],
          "choropleth": [
           {
            "colorbar": {
             "outlinewidth": 0,
             "ticks": ""
            },
            "type": "choropleth"
           }
          ],
          "contour": [
           {
            "colorbar": {
             "outlinewidth": 0,
             "ticks": ""
            },
            "colorscale": [
             [
              0,
              "#0d0887"
             ],
             [
              0.1111111111111111,
              "#46039f"
             ],
             [
              0.2222222222222222,
              "#7201a8"
             ],
             [
              0.3333333333333333,
              "#9c179e"
             ],
             [
              0.4444444444444444,
              "#bd3786"
             ],
             [
              0.5555555555555556,
              "#d8576b"
             ],
             [
              0.6666666666666666,
              "#ed7953"
             ],
             [
              0.7777777777777778,
              "#fb9f3a"
             ],
             [
              0.8888888888888888,
              "#fdca26"
             ],
             [
              1,
              "#f0f921"
             ]
            ],
            "type": "contour"
           }
          ],
          "contourcarpet": [
           {
            "colorbar": {
             "outlinewidth": 0,
             "ticks": ""
            },
            "type": "contourcarpet"
           }
          ],
          "heatmap": [
           {
            "colorbar": {
             "outlinewidth": 0,
             "ticks": ""
            },
            "colorscale": [
             [
              0,
              "#0d0887"
             ],
             [
              0.1111111111111111,
              "#46039f"
             ],
             [
              0.2222222222222222,
              "#7201a8"
             ],
             [
              0.3333333333333333,
              "#9c179e"
             ],
             [
              0.4444444444444444,
              "#bd3786"
             ],
             [
              0.5555555555555556,
              "#d8576b"
             ],
             [
              0.6666666666666666,
              "#ed7953"
             ],
             [
              0.7777777777777778,
              "#fb9f3a"
             ],
             [
              0.8888888888888888,
              "#fdca26"
             ],
             [
              1,
              "#f0f921"
             ]
            ],
            "type": "heatmap"
           }
          ],
          "heatmapgl": [
           {
            "colorbar": {
             "outlinewidth": 0,
             "ticks": ""
            },
            "colorscale": [
             [
              0,
              "#0d0887"
             ],
             [
              0.1111111111111111,
              "#46039f"
             ],
             [
              0.2222222222222222,
              "#7201a8"
             ],
             [
              0.3333333333333333,
              "#9c179e"
             ],
             [
              0.4444444444444444,
              "#bd3786"
             ],
             [
              0.5555555555555556,
              "#d8576b"
             ],
             [
              0.6666666666666666,
              "#ed7953"
             ],
             [
              0.7777777777777778,
              "#fb9f3a"
             ],
             [
              0.8888888888888888,
              "#fdca26"
             ],
             [
              1,
              "#f0f921"
             ]
            ],
            "type": "heatmapgl"
           }
          ],
          "histogram": [
           {
            "marker": {
             "pattern": {
              "fillmode": "overlay",
              "size": 10,
              "solidity": 0.2
             }
            },
            "type": "histogram"
           }
          ],
          "histogram2d": [
           {
            "colorbar": {
             "outlinewidth": 0,
             "ticks": ""
            },
            "colorscale": [
             [
              0,
              "#0d0887"
             ],
             [
              0.1111111111111111,
              "#46039f"
             ],
             [
              0.2222222222222222,
              "#7201a8"
             ],
             [
              0.3333333333333333,
              "#9c179e"
             ],
             [
              0.4444444444444444,
              "#bd3786"
             ],
             [
              0.5555555555555556,
              "#d8576b"
             ],
             [
              0.6666666666666666,
              "#ed7953"
             ],
             [
              0.7777777777777778,
              "#fb9f3a"
             ],
             [
              0.8888888888888888,
              "#fdca26"
             ],
             [
              1,
              "#f0f921"
             ]
            ],
            "type": "histogram2d"
           }
          ],
          "histogram2dcontour": [
           {
            "colorbar": {
             "outlinewidth": 0,
             "ticks": ""
            },
            "colorscale": [
             [
              0,
              "#0d0887"
             ],
             [
              0.1111111111111111,
              "#46039f"
             ],
             [
              0.2222222222222222,
              "#7201a8"
             ],
             [
              0.3333333333333333,
              "#9c179e"
             ],
             [
              0.4444444444444444,
              "#bd3786"
             ],
             [
              0.5555555555555556,
              "#d8576b"
             ],
             [
              0.6666666666666666,
              "#ed7953"
             ],
             [
              0.7777777777777778,
              "#fb9f3a"
             ],
             [
              0.8888888888888888,
              "#fdca26"
             ],
             [
              1,
              "#f0f921"
             ]
            ],
            "type": "histogram2dcontour"
           }
          ],
          "mesh3d": [
           {
            "colorbar": {
             "outlinewidth": 0,
             "ticks": ""
            },
            "type": "mesh3d"
           }
          ],
          "parcoords": [
           {
            "line": {
             "colorbar": {
              "outlinewidth": 0,
              "ticks": ""
             }
            },
            "type": "parcoords"
           }
          ],
          "pie": [
           {
            "automargin": true,
            "type": "pie"
           }
          ],
          "scatter": [
           {
            "fillpattern": {
             "fillmode": "overlay",
             "size": 10,
             "solidity": 0.2
            },
            "type": "scatter"
           }
          ],
          "scatter3d": [
           {
            "line": {
             "colorbar": {
              "outlinewidth": 0,
              "ticks": ""
             }
            },
            "marker": {
             "colorbar": {
              "outlinewidth": 0,
              "ticks": ""
             }
            },
            "type": "scatter3d"
           }
          ],
          "scattercarpet": [
           {
            "marker": {
             "colorbar": {
              "outlinewidth": 0,
              "ticks": ""
             }
            },
            "type": "scattercarpet"
           }
          ],
          "scattergeo": [
           {
            "marker": {
             "colorbar": {
              "outlinewidth": 0,
              "ticks": ""
             }
            },
            "type": "scattergeo"
           }
          ],
          "scattergl": [
           {
            "marker": {
             "colorbar": {
              "outlinewidth": 0,
              "ticks": ""
             }
            },
            "type": "scattergl"
           }
          ],
          "scattermapbox": [
           {
            "marker": {
             "colorbar": {
              "outlinewidth": 0,
              "ticks": ""
             }
            },
            "type": "scattermapbox"
           }
          ],
          "scatterpolar": [
           {
            "marker": {
             "colorbar": {
              "outlinewidth": 0,
              "ticks": ""
             }
            },
            "type": "scatterpolar"
           }
          ],
          "scatterpolargl": [
           {
            "marker": {
             "colorbar": {
              "outlinewidth": 0,
              "ticks": ""
             }
            },
            "type": "scatterpolargl"
           }
          ],
          "scatterternary": [
           {
            "marker": {
             "colorbar": {
              "outlinewidth": 0,
              "ticks": ""
             }
            },
            "type": "scatterternary"
           }
          ],
          "surface": [
           {
            "colorbar": {
             "outlinewidth": 0,
             "ticks": ""
            },
            "colorscale": [
             [
              0,
              "#0d0887"
             ],
             [
              0.1111111111111111,
              "#46039f"
             ],
             [
              0.2222222222222222,
              "#7201a8"
             ],
             [
              0.3333333333333333,
              "#9c179e"
             ],
             [
              0.4444444444444444,
              "#bd3786"
             ],
             [
              0.5555555555555556,
              "#d8576b"
             ],
             [
              0.6666666666666666,
              "#ed7953"
             ],
             [
              0.7777777777777778,
              "#fb9f3a"
             ],
             [
              0.8888888888888888,
              "#fdca26"
             ],
             [
              1,
              "#f0f921"
             ]
            ],
            "type": "surface"
           }
          ],
          "table": [
           {
            "cells": {
             "fill": {
              "color": "#EBF0F8"
             },
             "line": {
              "color": "white"
             }
            },
            "header": {
             "fill": {
              "color": "#C8D4E3"
             },
             "line": {
              "color": "white"
             }
            },
            "type": "table"
           }
          ]
         },
         "layout": {
          "annotationdefaults": {
           "arrowcolor": "#2a3f5f",
           "arrowhead": 0,
           "arrowwidth": 1
          },
          "autotypenumbers": "strict",
          "coloraxis": {
           "colorbar": {
            "outlinewidth": 0,
            "ticks": ""
           }
          },
          "colorscale": {
           "diverging": [
            [
             0,
             "#8e0152"
            ],
            [
             0.1,
             "#c51b7d"
            ],
            [
             0.2,
             "#de77ae"
            ],
            [
             0.3,
             "#f1b6da"
            ],
            [
             0.4,
             "#fde0ef"
            ],
            [
             0.5,
             "#f7f7f7"
            ],
            [
             0.6,
             "#e6f5d0"
            ],
            [
             0.7,
             "#b8e186"
            ],
            [
             0.8,
             "#7fbc41"
            ],
            [
             0.9,
             "#4d9221"
            ],
            [
             1,
             "#276419"
            ]
           ],
           "sequential": [
            [
             0,
             "#0d0887"
            ],
            [
             0.1111111111111111,
             "#46039f"
            ],
            [
             0.2222222222222222,
             "#7201a8"
            ],
            [
             0.3333333333333333,
             "#9c179e"
            ],
            [
             0.4444444444444444,
             "#bd3786"
            ],
            [
             0.5555555555555556,
             "#d8576b"
            ],
            [
             0.6666666666666666,
             "#ed7953"
            ],
            [
             0.7777777777777778,
             "#fb9f3a"
            ],
            [
             0.8888888888888888,
             "#fdca26"
            ],
            [
             1,
             "#f0f921"
            ]
           ],
           "sequentialminus": [
            [
             0,
             "#0d0887"
            ],
            [
             0.1111111111111111,
             "#46039f"
            ],
            [
             0.2222222222222222,
             "#7201a8"
            ],
            [
             0.3333333333333333,
             "#9c179e"
            ],
            [
             0.4444444444444444,
             "#bd3786"
            ],
            [
             0.5555555555555556,
             "#d8576b"
            ],
            [
             0.6666666666666666,
             "#ed7953"
            ],
            [
             0.7777777777777778,
             "#fb9f3a"
            ],
            [
             0.8888888888888888,
             "#fdca26"
            ],
            [
             1,
             "#f0f921"
            ]
           ]
          },
          "colorway": [
           "#636efa",
           "#EF553B",
           "#00cc96",
           "#ab63fa",
           "#FFA15A",
           "#19d3f3",
           "#FF6692",
           "#B6E880",
           "#FF97FF",
           "#FECB52"
          ],
          "font": {
           "color": "#2a3f5f"
          },
          "geo": {
           "bgcolor": "white",
           "lakecolor": "white",
           "landcolor": "#E5ECF6",
           "showlakes": true,
           "showland": true,
           "subunitcolor": "white"
          },
          "hoverlabel": {
           "align": "left"
          },
          "hovermode": "closest",
          "mapbox": {
           "style": "light"
          },
          "paper_bgcolor": "white",
          "plot_bgcolor": "#E5ECF6",
          "polar": {
           "angularaxis": {
            "gridcolor": "white",
            "linecolor": "white",
            "ticks": ""
           },
           "bgcolor": "#E5ECF6",
           "radialaxis": {
            "gridcolor": "white",
            "linecolor": "white",
            "ticks": ""
           }
          },
          "scene": {
           "xaxis": {
            "backgroundcolor": "#E5ECF6",
            "gridcolor": "white",
            "gridwidth": 2,
            "linecolor": "white",
            "showbackground": true,
            "ticks": "",
            "zerolinecolor": "white"
           },
           "yaxis": {
            "backgroundcolor": "#E5ECF6",
            "gridcolor": "white",
            "gridwidth": 2,
            "linecolor": "white",
            "showbackground": true,
            "ticks": "",
            "zerolinecolor": "white"
           },
           "zaxis": {
            "backgroundcolor": "#E5ECF6",
            "gridcolor": "white",
            "gridwidth": 2,
            "linecolor": "white",
            "showbackground": true,
            "ticks": "",
            "zerolinecolor": "white"
           }
          },
          "shapedefaults": {
           "line": {
            "color": "#2a3f5f"
           }
          },
          "ternary": {
           "aaxis": {
            "gridcolor": "white",
            "linecolor": "white",
            "ticks": ""
           },
           "baxis": {
            "gridcolor": "white",
            "linecolor": "white",
            "ticks": ""
           },
           "bgcolor": "#E5ECF6",
           "caxis": {
            "gridcolor": "white",
            "linecolor": "white",
            "ticks": ""
           }
          },
          "title": {
           "x": 0.05
          },
          "xaxis": {
           "automargin": true,
           "gridcolor": "white",
           "linecolor": "white",
           "ticks": "",
           "title": {
            "standoff": 15
           },
           "zerolinecolor": "white",
           "zerolinewidth": 2
          },
          "yaxis": {
           "automargin": true,
           "gridcolor": "white",
           "linecolor": "white",
           "ticks": "",
           "title": {
            "standoff": 15
           },
           "zerolinecolor": "white",
           "zerolinewidth": 2
          }
         }
        },
        "width": 600,
        "xaxis": {
         "linecolor": "black",
         "linewidth": 3,
         "mirror": true,
         "range": [
          -8.378962943750038,
          3.3275646937499004
         ],
         "showgrid": false,
         "showline": true,
         "tickfont": {
          "size": 26
         },
         "tickformat": ".1f",
         "ticklen": 6,
         "ticks": "outside",
         "tickwidth": 3,
         "title": {
          "font": {
           "size": 30
          },
          "text": "E<sub>DFT</sub> / eV"
         },
         "zeroline": false
        },
        "yaxis": {
         "linecolor": "black",
         "linewidth": 3,
         "mirror": true,
         "range": [
          -8.378962943750038,
          3.3275646937499004
         ],
         "showgrid": false,
         "showline": true,
         "tickfont": {
          "size": 26
         },
         "tickformat": ".1f",
         "ticklen": 6,
         "ticks": "outside",
         "tickwidth": 3,
         "title": {
          "font": {
           "size": 30
          },
          "text": "E<sub>pred</sub> / eV"
         },
         "zeroline": false
        }
       }
      },
      "text/html": [
       "<div>                            <div id=\"8f76fce2-bbac-4ed7-8cbe-2cd4e14bc1d8\" class=\"plotly-graph-div\" style=\"height:600px; width:600px;\"></div>            <script type=\"text/javascript\">                require([\"plotly\"], function(Plotly) {                    window.PLOTLYENV=window.PLOTLYENV || {};                                    if (document.getElementById(\"8f76fce2-bbac-4ed7-8cbe-2cd4e14bc1d8\")) {                    Plotly.newPlot(                        \"8f76fce2-bbac-4ed7-8cbe-2cd4e14bc1d8\",                        [{\"hoverinfo\":\"text+x+y\",\"legendgroup\":\"Ag\",\"marker\":{\"color\":\"rgba(136,86,167,1)\",\"line\":{\"color\":\"black\",\"width\":1},\"opacity\":1,\"size\":12,\"symbol\":0},\"mode\":\"markers\",\"name\":\"Ag\",\"showlegend\":true,\"text\":[\"Ag_Fe_N_din4_x2_c4_a\",\"Ag_Fe_N_din6_as_c3_346\",\"Ag_Fe_N_din6_s_c3_013\",\"Ag_Fe_N_din6_as_c2_36\",\"Ag_Fe_N_din6_as_c2_12\",\"Ag_Fe_N_din4_x2_c3_a\",\"Ag_Fe_N_din6_as_c3_164\",\"Ag_Fe_N_din4_x2_c2_f\",\"Ag_Fe_N_din4_x2_c1_b\",\"Ag_Fe_N_din6_as_c2_16\",\"Ag_Fe_N_din4_x2_c2_c\",\"Ag_Fe_N_din6_s_c2_12\",\"Ag_Fe_N_din6_s_c1\",\"Ag_Fe_N_din6_as_c4_3216\",\"Ag_Fe_N_din6_as_c4_3456\",\"Ag_Fe_N_din6_as_c3_216\",\"Ag_Fe_C_din4_x2_c6\",\"Ag_Fe_N_din6_as_c2_24\",\"Ag_Fe_N_din4_x2_c0\",\"Ag_Fe_N_din6_as_c3_254\",\"Ag_Fe_N_din4_x2_c3_c\",\"Ag_Fe_N_din6_as_c3_123\",\"Ag_Fe_N_din6_as_c4_6124\",\"Ag_Fe_N_din6_as_c3_235\",\"Ag_Fe_N_din6_as_c3_125\",\"Ag_Fe_N_din6_s_c2_15\",\"Ag_Fe_N_din6_as_c3_165\",\"Ag_Fe_N_din6_as_c1_3\",\"Ag_Fe_N_din4_x2_c5_b\",\"Ag_Fe_N_din4_x2_c2_g\",\"Ag_Fe_N_din6_s_c5\",\"Ag_Fe_N_din6_as_c3_163\",\"Ag_Fe_N_din4_x2_c2_d\",\"Ag_Fe_N_din4_x2_c3_b\",\"Ag_Fe_N_din6_as_c2_23\",\"Ag_Fe_N_din6_as_c5_12346\",\"Ag_Fe_C_din6_as_c6\",\"Ag_Fe_N_din6_as_c4_6125\",\"Ag_Fe_N_din6_as_c0\",\"Ag_Fe_N_din4_x2_c4_c\",\"Ag_Fe_N_din6_as_c2_34\",\"Ag_Fe_N_din6_as_c2_14\",\"Ag_Fe_N_din4_x2_c3_d\",\"Ag_Fe_N_din4_x2_c4_d\",\"Ag_Fe_N_din6_as_c3_253\",\"Ag_Fe_N_din4_x2_c2_b\",\"Ag_Fe_N_din4_x2_c2_e\",\"Ag_Fe_N_din6_as_c2_35\",\"Ag_Fe_N_din6_as_c2_13\",\"Ag_Fe_N_din4_x2_c4_b\",\"Ag_Fe_N_din6_as_c1_1\",\"Ag_Fe_C_din6_s_c6\",\"Ag_Fe_N_din6_as_c1_2\",\"Ag_Fe_N_din6_s_c4_0134\",\"Ag_Fe_N_din4_x2_c1_a\",\"Ag_Fe_N_din6_as_c4_2456\",\"Ag_Fe_N_din6_s_c2_01\"],\"x\":[-2.3922767499999367,-0.765276749999984,-0.5102767499999885,-0.7572767500000595,-1.8852767499999885,-3.4062767499999467,-0.9302767500000612,-4.606276749999992,-3.5962767500000012,-0.4982767499999312,-0.3842767500000121,0.0127232499999223,0.983723249999926,-1.6272767499999503,-1.4992767500000213,-1.5402767499999612,-4.081276750000015,-1.7062767500000149,-3.348276749999954,-2.5582767499999903,-2.202276749999996,-2.2102767499999203,-1.751276749999974,-2.779276749999994,-2.6852767500000567,0.8017232500000233,-1.103276750000063,-0.2282767499999494,-3.1152767500000067,-1.7572767500000597,-1.8182767499999812,-0.5582767499999903,-2.5402767499999612,-0.849276750000044,-1.7532767500000404,-1.2082767500000813,-2.0872767499999867,-2.282276749999923,0.0347232500000842,-1.9972767500000683,-0.0682767499999812,-1.283276750000013,-0.5022767499999503,-2.341276750000006,-2.786276749999942,-0.2032767499999721,-1.6432767500000267,-1.167276749999914,-0.904276749999994,-3.5562767500000376,-0.6362767499999649,-3.061276750000033,-1.5082767500000358,-1.7162767500000058,0.2607232499999696,-2.175276749999952,-0.1962767500000239],\"y\":[-2.4310916817418193,-1.0656502058116248,-0.7866196971934498,-1.2894146539749107,-1.5239271374883054,-3.506978964437834,-0.8475437946406522,-4.275830866255155,-3.813600604432305,-0.5912699893644231,-0.5692877721285545,0.1842725816102989,0.9021083534118566,-1.7560870829877377,-1.7101864633405763,-1.3047260010016495,-3.9052250206804104,-1.7088758691071368,-3.7113009096621874,-2.6119895017668373,-2.0327059747206464,-2.371089494100994,-1.6918236913576117,-2.7075898379316876,-2.609806537427654,0.43453466121593787,-1.4031205799923543,-0.6385949827506608,-3.1771962368953104,-2.050435407678078,-2.053278234079687,-1.0623184848155305,-2.3559654885593173,-0.7257397847005574,-1.9299270061590983,-1.3528660776865724,-1.904605306530359,-2.3431976989818653,-0.23316652475959768,-2.1354338735060217,-0.6031504226326557,-1.0487973426778616,-0.989584474252638,-2.311202266036026,-2.7075898379316876,-0.7967761971552363,-1.9115216183358816,-1.5108176116001368,-1.255533229507472,-3.5316935546829455,-0.6424703638536182,-2.7976758700336664,-1.295750831658047,-1.9078695927843599,-0.24943144410296053,-1.8744758967611472,0.05087294998542613],\"type\":\"scatter\"},{\"hoverinfo\":\"text+x+y\",\"legendgroup\":\"Au\",\"marker\":{\"color\":\"rgba(136,86,167,1)\",\"line\":{\"color\":\"black\",\"width\":1},\"opacity\":1,\"size\":12,\"symbol\":0},\"mode\":\"markers\",\"name\":\"Au\",\"showlegend\":true,\"text\":[\"Au_Fe_N_din6_as_c1_1\",\"Au_Fe_N_din4_x2_c4_d\",\"Au_Fe_N_din6_as_c3_236\",\"Au_Fe_N_din6_as_c2_35\",\"Au_Fe_N_din6_s_c4_0123\",\"Au_Fe_N_din6_s_c3_024\",\"Au_Fe_N_din4_x2_c4_a\",\"Au_Fe_N_din4_x2_c3_a\",\"Au_Fe_N_din6_as_c4_6124\",\"Au_Fe_N_din6_s_c2_02\",\"Au_Fe_N_din4_x2_c0\",\"Au_Fe_N_din4_x2_c2_b\",\"Au_Fe_N_din6_as_c4_6125\",\"Au_Fe_N_din6_as_c2_12\",\"Au_Fe_N_din6_as_c2_15\",\"Au_Fe_N_din6_s_c2_12\",\"Au_Fe_N_din4_x2_c2_f\",\"Au_Fe_N_din6_as_c3_125\",\"Au_Fe_N_din4_x2_c2_e\",\"Au_Fe_N_din4_x2_c5_b\",\"Au_Fe_N_din6_as_c2_24\",\"Au_Fe_N_din4_x2_c1_a\",\"Au_Fe_N_din6_as_c0\",\"Au_Fe_C_din4_x2_c6\",\"Au_Fe_N_din6_as_c2_34\",\"Au_Fe_N_din6_as_c3_123\",\"Au_Fe_N_din6_as_c2_26\",\"Au_Fe_N_din4_x2_c3_b\",\"Au_Fe_N_din6_as_c5_12345\",\"Au_Fe_N_din6_s_c5\",\"Au_Fe_N_din4_x2_c1_b\",\"Au_Fe_N_din4_x2_c5_a\",\"Au_Fe_N_din6_s_c3_012\",\"Au_Fe_N_din6_as_c4_3216\",\"Au_Fe_N_din4_x2_c4_e\",\"Au_Fe_N_din4_x2_c2_c\",\"Au_Fe_N_din6_s_c4_0134\",\"Au_Fe_N_din6_s_c3_013\",\"Au_Fe_N_din4_x2_c2_g\",\"Au_Fe_N_din6_as_c2_13\",\"Au_Fe_N_din6_as_c2_14\",\"Au_Fe_N_din6_as_c2_25\",\"Au_Fe_N_din6_as_c3_124\",\"Au_Fe_N_din6_s_c4_0124\",\"Au_Fe_N_din6_as_c3_163\",\"Au_Fe_N_din6_as_c1_3\",\"Au_Fe_N_din6_s_c2_01\",\"Au_Fe_N_din4_x2_c4_c\",\"Au_Fe_N_din6_s_c1\",\"Au_Fe_N_din6_as_c2_36\",\"Au_Fe_N_din4_x2_c4_b\",\"Au_Fe_N_din4_x2_c2_d\",\"Au_Fe_N_din6_as_c2_23\",\"Au_Fe_N_din6_as_c3_165\",\"Au_Fe_N_din4_x2_c3_d\",\"Au_Fe_N_din6_as_c3_235\",\"Au_Fe_C_din6_as_c6\",\"Au_Fe_N_din6_s_c2_15\"],\"x\":[-0.7325730000000412,-3.0525729999999776,-2.9295729999999303,-1.6945729999999166,-1.4965730000000512,-0.6295729999999757,-3.310573000000016,-4.061572999999992,-2.3505729999999794,1.1424269999999588,-3.7955730000000294,-1.598573000000027,-2.3955729999999384,-2.2905729999999203,-1.5035729999999994,0.3654269999999151,-5.091572999999965,-3.0745730000000258,-2.2825729999999957,-4.196572999999983,-2.409573000000062,0.3374270000000088,-0.0425729999999866,-5.065573000000011,-1.0175729999998957,-2.887573000000014,-2.230572999999975,-0.696572999999983,-3.575573000000002,-2.352572999999932,-4.034573000000062,-4.0905729999999885,-1.182572999999973,-2.30857299999995,-3.4475729999999594,-0.405573000000043,-2.2615730000000376,-0.7575730000000185,-2.151573000000024,-1.4125729999999912,-1.8885729999999905,-2.775572999999934,-2.804573000000044,-1.3785729999999994,-0.8685730000000085,-0.6645730000000576,0.3634269999999624,-2.6295730000000894,1.5574269999999224,-1.0885730000000358,-4.308572999999949,-3.0945730000000076,-2.4625730000000594,-1.1505730000000476,-0.8505729999999794,-3.533572999999972,-2.917572999999986,0.7974269999999315],\"y\":[-0.9158174686478064,-2.853611259443403,-2.8944042514474746,-1.9440554932386382,-1.6823852153846621,-0.7737654595367782,-3.0691643304612803,-4.151770370268917,-2.0656336066656236,0.7079451542564996,-4.239873229069522,-1.7160714967124755,-2.708412384519953,-1.845039263781394,-1.9704257398036567,0.34544542090340796,-4.712199221794007,-2.987799170441479,-2.2478188064766687,-3.827324948595708,-2.031583523195604,-0.3885599171465757,-0.4168873757294759,-4.6048449139594645,-1.0339878563671507,-2.7907513910983255,-1.979031344082878,-0.7396336149577806,-2.94783551474251,-2.318314155176123,-4.329774149848688,-3.8323755857583146,-0.7982471705679496,-2.1281691160667853,-3.3976906397654423,-0.5502921847905059,-1.990694621633837,-0.8929624741256291,-2.4885945035793946,-1.6410133154858892,-1.4290309274086128,-2.5474745781381753,-2.162393417608123,-1.8995182303962939,-1.3913590673225793,-0.9558161851520268,0.18766065792666614,-2.670861719091233,1.13596758472976,-1.6688026157087799,-4.197102730979831,-2.971473617851999,-2.400424610507361,-1.7402541065976764,-1.2663062983299067,-3.1642771502691383,-2.2997716846545604,0.6019330952193278],\"type\":\"scatter\"},{\"hoverinfo\":\"text+x+y\",\"legendgroup\":\"Cd\",\"marker\":{\"color\":\"rgba(136,86,167,1)\",\"line\":{\"color\":\"black\",\"width\":1},\"opacity\":1,\"size\":12,\"symbol\":0},\"mode\":\"markers\",\"name\":\"Cd\",\"showlegend\":true,\"text\":[\"Cd_Fe_N_din6_as_c3_164\",\"Cd_Fe_N_din6_as_c2_25\",\"Cd_Fe_C_din6_s_c6\",\"Cd_Fe_N_din6_as_c3_254\",\"Cd_Fe_N_din6_as_c4_6125\",\"Cd_Fe_N_din6_as_c3_165\",\"Cd_Fe_N_din4_x2_c2_d\",\"Cd_Fe_N_din6_as_c4_3456\",\"Cd_Fe_N_din6_as_c4_2456\",\"Cd_Fe_N_din4_x2_c4_b\",\"Cd_Fe_N_din6_as_c3_346\",\"Cd_Fe_N_din6_s_c1\",\"Cd_Fe_N_din6_as_c2_36\",\"Cd_Fe_N_din6_as_c3_236\",\"Cd_Fe_N_din6_as_c3_216\",\"Cd_Fe_N_din6_as_c3_123\",\"Cd_Fe_N_din6_as_c2_24\",\"Cd_Fe_N_din4_x2_c3_a\",\"Cd_Fe_N_din4_x2_c3_d\",\"Cd_Fe_N_din6_as_c0\",\"Cd_Fe_N_din6_as_c5_12345\",\"Cd_Fe_N_din6_s_c5\",\"Cd_Fe_N_din6_s_c2_01\",\"Cd_Fe_N_din6_as_c4_6124\",\"Cd_Fe_N_din6_s_c2_12\",\"Cd_Fe_N_din4_x2_c4_d\",\"Cd_Fe_N_din6_s_c4_0124\",\"Cd_Fe_N_din6_as_c2_14\",\"Cd_Fe_N_din4_x2_c2_g\",\"Cd_Fe_N_din6_as_c5_12346\",\"Cd_Fe_N_din4_x2_c3_c\",\"Cd_Fe_N_din4_x2_c2_c\",\"Cd_Fe_N_din6_as_c2_35\",\"Cd_Fe_N_din6_s_c3_013\",\"Cd_Fe_N_din6_s_c4_0123\",\"Cd_Fe_N_din4_x2_c2_b\",\"Cd_Fe_C_din4_x2_c6\",\"Cd_Fe_N_din6_as_c2_26\",\"Cd_Fe_N_din6_as_c4_3216\",\"Cd_Fe_N_din4_x2_c1_b\",\"Cd_Fe_N_din4_x2_c1_a\",\"Cd_Fe_N_din4_x2_c2_a\",\"Cd_Fe_N_din4_x2_c2_f\",\"Cd_Fe_N_din6_as_c3_125\",\"Cd_Fe_N_din4_x2_c3_b\",\"Cd_Fe_N_din4_x2_c0\",\"Cd_Fe_C_din6_as_c6\",\"Cd_Fe_N_din6_as_c4_2346\",\"Cd_Fe_N_din4_x2_c5_b\",\"Cd_Fe_N_din6_s_c4_0134\",\"Cd_Fe_N_din4_x2_c4_c\"],\"x\":[-1.2922237999999808,-2.87922379999997,-3.210223799999987,-2.980223799999969,-2.914223799999938,-1.870223800000069,-2.613223800000007,-1.2532237999999936,-2.090223799999982,-3.10222380000004,-0.6032238000000163,0.1307761999999073,-1.6552238000000372,-2.7492237999999745,-1.9932238000000029,-2.53222379999999,-2.3302237999999917,-2.859223799999988,-1.37922379999997,-0.7332238000000117,-2.3882237999999845,-2.446223799999977,-1.0982238000000208,-2.42022379999991,-0.5932238000000254,-2.4552237999999917,-2.3292237999999017,-1.4552237999999915,-2.21322380000003,-1.120223800000069,-2.000223799999951,-1.6392237999999608,-1.7552237999999465,-1.2752238000000418,-2.2542238000000836,-0.6402237999999372,-4.168223799999957,-2.6582237999999663,-2.207223800000058,-4.062223800000076,-1.1082238000000115,-0.7902238000000281,-3.994223799999979,-3.10222380000004,-1.5982238000000208,-4.37922379999997,-1.61622380000005,-1.9602237999999872,-3.1562238000000136,-2.4232238000000663,-1.8912238000000272],\"y\":[-1.242321562298917,-2.5351521272396345,-2.956307680094591,-2.835368076883767,-2.5415153197585867,-1.7900466315560086,-2.5635862248175423,-1.8588186384027348,-2.0454312583914334,-3.3796679540922177,-1.383997673083574,0.3189539906571587,-1.7592118350666766,-2.6824605526706007,-1.6173736535408367,-2.5809433918822844,-2.0840115927880793,-3.217989850919597,-1.5417059500047168,-0.7291401124347046,-2.5629347687310773,-2.330390902612637,-0.6597573210227925,-1.940679943717197,-0.4244543138134021,-2.4005937460671163,-2.195450794871727,-1.4469002552804262,-2.201594062261648,-1.5271183570317863,-2.1151522628860597,-1.382021733854108,-2.0124978072323763,-1.17037859165761,-1.9681011297341267,-1.0229488868904657,-3.9719616122857597,-2.0810589463713938,-1.9364265931462998,-3.9463589625455446,-1.1209865359519668,-1.2015836836084748,-4.139190767642069,-2.839138426141334,-1.4347282263833487,-4.138025716583267,-1.9200645595692512,-2.1408389106898316,-3.2100200014077784,-2.2041465447123962,-2.0782078509830866],\"type\":\"scatter\"},{\"hoverinfo\":\"text+x+y\",\"legendgroup\":\"Co\",\"marker\":{\"color\":\"rgba(136,86,167,1)\",\"line\":{\"color\":\"black\",\"width\":1},\"opacity\":1,\"size\":12,\"symbol\":0},\"mode\":\"markers\",\"name\":\"Co\",\"showlegend\":true,\"text\":[\"Co_Fe_N_din6_as_c2_24\",\"Co_Fe_N_din6_as_c3_163\",\"Co_Fe_N_din6_as_c3_124\",\"Co_Fe_N_din6_as_c2_13\",\"Co_Fe_N_din6_as_c4_6125\",\"Co_Fe_N_din6_as_c2_26\",\"Co_Fe_N_din6_as_c4_3216\",\"Co_Fe_N_din6_as_c3_164\",\"Co_Fe_N_din6_s_c2_02\",\"Co_Fe_N_din6_as_c2_35\",\"Co_Fe_N_din6_s_c4_0124\",\"Co_Fe_N_din6_s_c2_15\",\"Co_Fe_N_din6_s_c2_01\",\"Co_Fe_N_din4_x2_c4_b\",\"Co_Fe_N_din6_as_c1_1\",\"Co_Fe_N_din6_as_c3_236\",\"Co_Fe_N_din4_x2_c4_d\",\"Co_Fe_N_din4_x2_c2_g\",\"Co_Fe_N_din6_as_c3_125\",\"Co_Fe_N_din4_x2_c3_a\",\"Co_Fe_N_din4_x2_c4_a\",\"Co_Fe_N_din4_x2_c2_e\",\"Co_Fe_C_din6_as_c6\",\"Co_Fe_N_din4_x2_c1_b\",\"Co_Fe_N_din4_x2_c2_d\",\"Co_Fe_N_din6_as_c3_346\",\"Co_Fe_N_din4_x2_c3_c\",\"Co_Fe_N_din6_as_c3_254\",\"Co_Fe_N_din6_s_c4_0134\",\"Co_Fe_C_din4_x2_c6\",\"Co_Fe_N_din6_as_c4_3456\",\"Co_Fe_N_din4_x2_c5_b\",\"Co_Fe_N_din6_s_c4_0123\",\"Co_Fe_N_din6_as_c4_6124\",\"Co_Fe_N_din6_s_c3_024\",\"Co_Fe_N_din6_s_c2_12\",\"Co_Fe_N_din6_as_c2_16\",\"Co_Fe_N_din6_s_c5\",\"Co_Fe_C_din6_s_c6\",\"Co_Fe_N_din6_as_c4_2456\",\"Co_Fe_N_din4_x2_c4_c\",\"Co_Fe_N_din6_as_c2_14\",\"Co_Fe_N_din4_x2_c0\",\"Co_Fe_N_din6_as_c2_34\",\"Co_Fe_N_din6_as_c1_3\",\"Co_Fe_N_din6_as_c0\",\"Co_Fe_N_din6_s_c3_013\",\"Co_Fe_N_din6_as_c3_123\",\"Co_Fe_N_din6_as_c3_216\",\"Co_Fe_N_din6_s_c1\",\"Co_Fe_N_din4_x2_c4_e\"],\"x\":[-2.88884300000003,-2.173842999999998,-3.3048429999999698,-2.4878429999999625,-3.6188429999999343,-2.960842999999919,-3.0398429999999834,-2.1348430000000107,0.0811569999999974,-2.878842999999925,-1.871842999999977,-0.2988429999999979,-0.2648430000000061,-5.6688430000000025,-1.847842999999976,-3.6858429999999416,-4.455842999999923,-5.37484300000002,-4.015843000000096,-6.386842999999963,-4.638842999999916,-4.925842999999951,-3.104843000000038,-7.418843000000003,-5.879843000000015,-2.250842999999996,-4.933842999999989,-4.031842999999945,-1.3848430000000107,-6.064842999999961,-3.0468430000000453,-5.203843000000084,-1.5698430000000698,-2.8248429999999516,-0.9668430000000044,-0.2308430000000143,-1.569842999999956,-2.6548429999999925,-3.6688430000000025,-3.5018429999999725,-4.382843000000058,-2.4088430000000116,-7.197842999999999,-1.5628429999998945,-1.9078430000000353,-1.5908429999999143,-1.434843000000079,-3.460842999999919,-2.45784299999999,0.6121569999999465,-5.178842999999993],\"y\":[-2.742267465726902,-2.429867003985465,-2.9830081091839045,-2.534828577774422,-3.594565019218481,-2.805310787424806,-3.04139775158353,-2.0177057568748866,-0.08711972670765948,-2.8040685999248067,-2.142122155832972,-0.2483870289302946,-0.2864401765568882,-5.742320356669235,-1.8997248327873484,-3.6377086128406217,-4.6493169434823605,-5.088268448716916,-3.8895736698440238,-6.271580277615979,-4.70042553918334,-4.8660737503289,-3.0499254278592387,-7.182426984693002,-5.528197692394497,-2.437757486667757,-4.824567192187066,-3.909970844162171,-2.124657067239815,-6.047664531677351,-3.0045504307005526,-5.2663465631504,-1.798250217082339,-2.8189348372429888,-1.101967067861376,-0.2745949563743914,-1.777858846972476,-2.7586062104863185,-3.5915681354597644,-3.103019981598512,-4.646783948302068,-2.2333467078166658,-7.124213258944713,-1.7746675202862785,-1.9115412312685753,-1.5952025315623986,-1.4142329726156893,-3.5971586658812016,-2.513511976317504,0.38283183582794256,-5.248639518410761],\"type\":\"scatter\"},{\"hoverinfo\":\"text+x+y\",\"legendgroup\":\"Cu\",\"marker\":{\"color\":\"rgba(136,86,167,1)\",\"line\":{\"color\":\"black\",\"width\":1},\"opacity\":1,\"size\":12,\"symbol\":0},\"mode\":\"markers\",\"name\":\"Cu\",\"showlegend\":true,\"text\":[\"Cu_Fe_N_din4_x2_c3_b\",\"Cu_Fe_N_din6_as_c2_23\",\"Cu_Fe_N_din6_as_c2_25\",\"Cu_Fe_N_din4_x2_c2_g\",\"Cu_Fe_N_din6_as_c2_36\",\"Cu_Fe_N_din6_as_c4_2346\",\"Cu_Fe_N_din6_as_c2_35\",\"Cu_Fe_N_din6_as_c5_12346\",\"Cu_Fe_N_din4_x2_c1_a\",\"Cu_Fe_N_din4_x2_c2_d\",\"Cu_Fe_N_din6_as_c1_1\",\"Cu_Fe_N_din6_s_c2_15\",\"Cu_Fe_N_din4_x2_c4_a\",\"Cu_Fe_N_din6_as_c1_2\",\"Cu_Fe_N_din4_x2_c0\",\"Cu_Fe_N_din4_x2_c4_d\",\"Cu_Fe_C_din6_as_c6\",\"Cu_Fe_N_din6_as_c2_14\",\"Cu_Fe_N_din6_s_c2_02\",\"Cu_Fe_N_din4_x2_c2_b\",\"Cu_Fe_N_din6_as_c3_125\",\"Cu_Fe_N_din6_s_c3_013\",\"Cu_Fe_N_din6_s_c4_0124\",\"Cu_Fe_N_din6_as_c4_6125\",\"Cu_Fe_N_din6_s_c4_0134\",\"Cu_Fe_C_din4_x2_c6\",\"Cu_Fe_N_din6_as_c5_12345\",\"Cu_Fe_N_din6_as_c3_163\",\"Cu_Fe_N_din6_as_c3_165\",\"Cu_Fe_N_din4_x2_c4_c\",\"Cu_Fe_N_din6_s_c2_12\",\"Cu_Fe_N_din4_x2_c1_b\",\"Cu_Fe_N_din4_x2_c4_e\",\"Cu_Fe_N_din6_as_c2_24\",\"Cu_Fe_N_din4_x2_c3_a\",\"Cu_Fe_N_din6_as_c2_26\",\"Cu_Fe_N_din6_as_c3_123\",\"Cu_Fe_N_din6_as_c3_254\",\"Cu_Fe_N_din6_as_c3_164\",\"Cu_Fe_N_din4_x2_c2_e\",\"Cu_Fe_N_din6_as_c4_3456\",\"Cu_Fe_N_din4_x2_c2_a\",\"Cu_Fe_N_din4_x2_c3_d\",\"Cu_Fe_N_din6_as_c3_235\",\"Cu_Fe_N_din6_as_c4_6124\",\"Cu_Fe_N_din6_as_c2_16\",\"Cu_Fe_N_din6_s_c4_0123\",\"Cu_Fe_N_din4_x2_c4_b\",\"Cu_Fe_N_din6_as_c2_13\",\"Cu_Fe_N_din6_as_c3_253\",\"Cu_Fe_N_din4_x2_c5_b\",\"Cu_Fe_N_din4_x2_c3_c\",\"Cu_Fe_N_din4_x2_c2_c\"],\"x\":[-1.0546942499999918,-2.972694249999998,-3.6996942499999736,-3.2276942499999937,-2.0466942499999536,-3.2516942499999946,-2.2716942499999764,-2.405694249999991,-1.3756942500000182,-4.045694249999977,-1.9636942499999837,-0.1926942500000255,-3.956694249999922,-2.8176942500000255,-5.030694249999991,-3.9386942500000064,-3.0756942500000637,-2.5286942500000382,0.0223057500000063,-1.6746942499999964,-3.9776942500001073,-1.0496942499999964,-2.3136942499998927,-3.5766942499999264,-2.1136942500000746,-5.917694250000048,-3.8206942499999546,-1.5826942500000118,-2.3356942500000546,-3.416694250000072,-0.6026942499999937,-5.29869425000002,-4.059694249999987,-3.065694249999959,-4.901694249999972,-3.433694250000011,-3.2786942499999245,-3.9066942499999673,-2.166694250000072,-3.1756942499999727,-2.458694249999988,-1.5916942500000264,-1.9086942500000337,-3.89569425,-3.06169424999994,-1.8276942499999027,-2.094694250000069,-5.149694250000019,-2.068694250000002,-3.89569425,-3.375694250000018,-3.56169424999994,-0.20169425000004],\"y\":[-1.2965737447296308,-3.048007620100789,-3.2732382765403396,-3.2402335148778096,-2.591632516399945,-3.1730946892110725,-2.7877009152383168,-2.4558533054118934,-1.5485740750501922,-3.499365428080807,-1.9377730439780523,-0.2228392970927224,-3.6113100855759765,-2.6268230606783223,-5.2318006007185565,-3.589643345010305,-3.0103925711801787,-2.2571839747510754,-0.05372187589003793,-1.9859106072461237,-3.86237448444087,-1.3771454183684475,-2.2215904290828608,-3.5595165649580554,-2.2272098505869837,-5.439482400200629,-3.58330951782852,-2.326386944146593,-2.615971336114055,-3.2979725960006525,-0.33863245795244407,-5.307242709651761,-3.8543685964753114,-2.7615949398943553,-5.045395611858354,-2.7883415402383167,-3.5691955373681616,-3.8752334831433166,-2.035482661871142,-2.9779378598398214,-2.936398332826946,-1.3907714154143382,-2.059538928754127,-3.9477313069707236,-2.7639753593704985,-1.8495753164749116,-1.9981646721396977,-5.03997501269049,-2.4939296656928556,-3.9477313069707236,-3.7731784789025578,-3.2328124044856232,-0.7577836474630371],\"type\":\"scatter\"},{\"hoverinfo\":\"text+x+y\",\"legendgroup\":\"Fe\",\"marker\":{\"color\":\"rgba(136,86,167,1)\",\"line\":{\"color\":\"black\",\"width\":1},\"opacity\":1,\"size\":12,\"symbol\":0},\"mode\":\"markers\",\"name\":\"Fe\",\"showlegend\":true,\"text\":[\"Fe_Fe_N_din6_as_c2_35\",\"Fe_Fe_N_din6_s_c3_012\",\"Fe_Fe_N_din6_s_c3_013\",\"Fe_Fe_N_din6_as_c3_165\",\"Fe_Fe_N_din6_as_c3_124\",\"Fe_Fe_N_din6_as_c3_236\",\"Fe_Fe_N_din6_as_c1_1\",\"Fe_Fe_N_din6_s_c2_01\",\"Fe_Fe_N_din6_as_c2_16\",\"Fe_Fe_N_din6_as_c4_6125\",\"Fe_Fe_N_din6_s_c2_15\",\"Fe_Fe_N_din6_as_c0\",\"Fe_Fe_N_din6_as_c2_13\",\"Fe_Fe_N_din6_as_c2_23\",\"Fe_Fe_N_din6_as_c4_2456\",\"Fe_Fe_N_din6_s_c4_0123\",\"Fe_Fe_N_din6_s_c2_12\",\"Fe_Fe_N_din6_as_c3_235\",\"Fe_Fe_N_din6_s_c2_02\",\"Fe_Fe_N_din6_as_c5_12345\",\"Fe_Fe_N_din6_as_c5_12346\",\"Fe_Fe_N_din6_as_c4_6124\",\"Fe_Fe_N_din6_as_c3_254\",\"Fe_Fe_N_din6_as_c2_26\",\"Fe_Fe_N_din6_as_c3_123\",\"Fe_Fe_N_din6_as_c4_3456\",\"Fe_Fe_N_din6_as_c3_346\",\"Fe_Fe_N_din6_as_c4_3216\",\"Fe_Fe_N_din6_as_c2_24\",\"Fe_Fe_N_din6_as_c2_15\",\"Fe_Fe_N_din6_as_c1_3\",\"Fe_Fe_N_din6_s_c4_0124\",\"Fe_Fe_N_din6_as_c3_216\",\"Fe_Fe_N_din6_as_c3_253\",\"Fe_Fe_N_din6_s_c5\",\"Fe_Fe_N_din6_s_c4_0134\",\"Fe_Fe_N_din6_as_c1_2\",\"Fe_Fe_C_din6_as_c6\",\"Fe_Fe_C_din6_s_c6\",\"Fe_Fe_N_din4_x2_c4_e\",\"Fe_Fe_N_din4_x2_c4_b\",\"Fe_Fe_N_din6_as_c2_25\",\"Fe_Fe_N_din4_x2_c3_a\",\"Fe_Fe_N_din4_x2_c0\",\"Fe_Fe_C_din4_x2_c6\",\"Fe_Fe_N_din4_x2_c3_c\",\"Fe_Fe_N_din4_x2_c2_e\",\"Fe_Fe_N_din4_x2_c4_a\",\"Fe_Fe_N_din4_x2_c1_b\",\"Fe_Fe_N_din4_x2_c4_c\",\"Fe_Fe_N_din4_x2_c5_b\",\"Fe_Fe_N_din4_x2_c2_g\",\"Fe_Fe_N_din4_x2_c2_f\",\"Fe_Fe_N_din4_x2_c2_d\",\"Fe_Fe_N_din4_x2_c3_b\",\"Fe_Fe_N_din4_x2_c4_d\",\"Fe_Fe_N_din6_as_c2_12\"],\"x\":[-2.7215650000000124,-0.854564999999937,-1.289564999999996,-2.4855650000000225,-3.042565000000039,-3.4545649999999597,-1.6265649999999852,-0.5135650000000425,-1.2795649999998917,-3.6335649999999338,-0.3465650000000124,-1.3155649999999497,-2.2695650000000143,-2.8465650000000124,-3.3185649999999924,-1.5625650000000206,-0.4435649999999924,-4.110564999999909,0.1044350000000093,-3.8565650000000034,-2.1905650000000634,-2.6905649999999497,-3.916564999999949,-2.854564999999937,-3.337564999999998,-2.9355649999999542,-1.851565000000008,-2.934564999999978,-2.6595650000000006,-2.6635650000000197,-1.660564999999977,-1.7925649999999251,-2.1415649999999715,-4.110564999999909,-2.979564999999937,-1.532565000000048,-2.2885650000000197,-3.0935649999999697,-3.987564999999975,-5.0865650000000215,-5.486564999999999,-3.472564999999989,-6.222564999999989,-7.5165649999999715,-5.8605650000000225,-4.674564999999987,-4.701565000000031,-4.519565000000014,-7.473565000000079,-4.2915650000000625,-5.074565000000078,-5.230565000000027,-7.428565000000006,-5.797565000000034,-4.446565000000035,-4.267564999999948,-2.5585650000000015],\"y\":[-2.7614964454928272,-0.9704108953453435,-1.3310128668994747,-2.647671939549027,-2.918791839595452,-3.619029475743771,-1.7512390328360907,-0.3673284848568105,-1.6654958747063993,-3.5991881675588187,-0.2878004030167373,-1.4557503974851977,-2.489561326428179,-3.0475898123674883,-3.076005966854251,-1.766944877675435,-0.34952088841562984,-3.949769514376516,-0.13546326450550147,-3.614547771335769,-2.3996351109289686,-2.775885700564881,-3.8760741668372463,-2.7614964454928272,-3.573327401458984,-2.9796041202687285,-2.3706952963370673,-3.019362695129261,-2.697042089917333,-2.6579606214463025,-1.7917861071121939,-2.114457333792439,-2.4504685297996645,-3.949769514376516,-2.7768882020400505,-2.1210984202378578,-2.505625833642323,-3.0251507225574628,-3.7405516681518125,-5.132104904934544,-5.5708276123840745,-3.224112333242017,-6.10818316115885,-7.157170431557576,-5.891029376858269,-4.648138908905189,-4.691926549523499,-4.569219340960136,-7.104385148625469,-4.503846376966336,-5.147912292795965,-4.910701663935949,-7.129581974911979,-5.442302258699731,-4.293201528413519,-4.485997965572155,-2.6262108494714456],\"type\":\"scatter\"},{\"hoverinfo\":\"text+x+y\",\"legendgroup\":\"Ir\",\"marker\":{\"color\":\"rgba(136,86,167,1)\",\"line\":{\"color\":\"black\",\"width\":1},\"opacity\":1,\"size\":12,\"symbol\":0},\"mode\":\"markers\",\"name\":\"Ir\",\"showlegend\":true,\"text\":[\"Ir_Fe_N_din6_as_c3_235\",\"Ir_Fe_N_din4_x2_c2_a\",\"Ir_Fe_N_din4_x2_c1_b\",\"Ir_Fe_N_din6_as_c4_3216\",\"Ir_Fe_N_din6_as_c2_34\",\"Ir_Fe_N_din6_as_c4_6124\",\"Ir_Fe_N_din6_as_c4_2346\",\"Ir_Fe_C_din6_s_c6\",\"Ir_Fe_N_din6_s_c4_0124\",\"Ir_Fe_N_din6_as_c2_16\",\"Ir_Fe_N_din6_as_c3_124\",\"Ir_Fe_N_din4_x2_c3_b\",\"Ir_Fe_N_din6_as_c3_163\",\"Ir_Fe_N_din4_x2_c4_c\",\"Ir_Fe_N_din6_as_c5_12345\",\"Ir_Fe_N_din4_x2_c2_b\",\"Ir_Fe_N_din6_s_c2_12\",\"Ir_Fe_N_din4_x2_c3_c\",\"Ir_Fe_N_din4_x2_c4_e\",\"Ir_Fe_N_din6_as_c2_35\",\"Ir_Fe_N_din6_as_c3_164\",\"Ir_Fe_N_din6_as_c3_253\",\"Ir_Fe_N_din6_as_c3_254\",\"Ir_Fe_N_din6_as_c4_6125\",\"Ir_Fe_N_din4_x2_c2_g\",\"Ir_Fe_N_din6_as_c2_36\",\"Ir_Fe_N_din6_as_c2_24\",\"Ir_Fe_N_din6_s_c5\",\"Ir_Fe_N_din6_s_c3_012\",\"Ir_Fe_N_din4_x2_c3_a\",\"Ir_Fe_N_din6_as_c2_23\",\"Ir_Fe_N_din4_x2_c2_e\",\"Ir_Fe_N_din6_as_c3_236\",\"Ir_Fe_N_din4_x2_c4_d\",\"Ir_Fe_N_din6_as_c1_1\",\"Ir_Fe_N_din6_as_c4_2456\",\"Ir_Fe_N_din4_x2_c2_c\",\"Ir_Fe_N_din4_x2_c3_d\",\"Ir_Fe_C_din4_x2_c6\",\"Ir_Fe_N_din4_x2_c4_b\",\"Ir_Fe_N_din6_s_c3_013\",\"Ir_Fe_C_din6_as_c6\",\"Ir_Fe_N_din6_as_c1_2\",\"Ir_Fe_N_din6_s_c3_024\",\"Ir_Fe_N_din6_as_c2_14\",\"Ir_Fe_N_din6_s_c4_0134\",\"Ir_Fe_N_din6_as_c2_15\",\"Ir_Fe_N_din4_x2_c1_a\",\"Ir_Fe_N_din4_x2_c0\",\"Ir_Fe_N_din6_as_c5_12346\",\"Ir_Fe_N_din6_as_c3_123\",\"Ir_Fe_N_din6_as_c2_26\",\"Ir_Fe_N_din4_x2_c2_f\",\"Ir_Fe_N_din4_x2_c2_d\",\"Ir_Fe_N_din4_x2_c4_a\"],\"x\":[-3.614198749999982,-2.543198749999956,-6.325198749999995,-2.114198749999982,-1.0171987499998885,-1.7281987499999012,-2.5621987499999612,-3.809198750000032,-1.3331987499999194,-0.3761987499999257,-2.3511987499999485,-3.6061987500000576,-1.4271987499999703,-3.4311987499999894,-3.3581987499998966,-3.846198749999953,0.9398012499999916,-3.953198749999924,-4.42719874999997,-2.2921987499999794,-1.1401987500000494,-3.614198749999982,-3.2341987499999867,-2.727198749999925,-4.375198750000063,-1.7431987500000012,-1.9731987500000192,-2.3711987499999303,0.0588012500000196,-5.440198750000004,-2.281198750000012,-3.891198750000026,-2.8711987499999303,-3.4511987499999712,-0.7411987500000485,-2.8421987500000476,-3.6751987500000176,-2.8411987499999576,-5.53819874999996,-4.665198750000027,-0.3041987500000367,-2.7471987500000203,-1.235198749999963,-0.4281987499999466,-1.5631987500000513,-2.348198750000019,-1.9041987500000592,-3.666198750000003,-6.017198750000002,-1.809198750000032,-2.7371987499999157,-1.828198749999924,-6.720198749999977,-4.881198750000035,-3.7851987499999176],\"y\":[-3.426071372656086,-2.9232475298760376,-6.288417719545656,-2.4559082425833645,-0.9437305967071026,-2.1376658931738404,-2.6251797991446137,-3.634661164459021,-1.9266158201097288,-0.8255675316632791,-2.237972302026974,-3.504768923033613,-1.7869828968924055,-3.7196029959860106,-3.0512269637196745,-3.896917125805749,0.4796790642458869,-3.8082347976107687,-4.464516131640404,-2.1285827193765834,-1.12117485129022,-3.426071372656086,-3.1747676925202084,-2.8635932126872388,-4.0198020836406485,-1.983609907861163,-2.02038287997145,-2.4725713149653643,-0.26390596701963287,-5.498866786781349,-2.312720632612592,-3.7716028641250485,-2.965808483250329,-3.6490355359419135,-0.9651700861422411,-2.5744644529674336,-3.496841290627496,-3.0615002863870844,-5.3985435398398085,-5.006190369718578,-0.5360500641036655,-2.623319269885563,-1.5176880978052831,-0.44643467154604893,-1.3028193538585562,-2.0687158862283908,-2.0095061207414298,-3.5569545506033666,-6.146648261340834,-1.988513976076331,-2.831990924637013,-2.0441098135220988,-6.268067372348205,-4.613087909859629,-3.856593036695125],\"type\":\"scatter\"},{\"hoverinfo\":\"text+x+y\",\"legendgroup\":\"Ni\",\"marker\":{\"color\":\"rgba(136,86,167,1)\",\"line\":{\"color\":\"black\",\"width\":1},\"opacity\":1,\"size\":12,\"symbol\":0},\"mode\":\"markers\",\"name\":\"Ni\",\"showlegend\":true,\"text\":[\"Ni_Fe_N_din6_as_c3_125\",\"Ni_Fe_N_din6_as_c3_165\",\"Ni_Fe_N_din4_x2_c3_a\",\"Ni_Fe_C_din4_x2_c6\",\"Ni_Fe_N_din4_x2_c3_c\",\"Ni_Fe_N_din6_as_c2_36\",\"Ni_Fe_N_din6_s_c4_0123\",\"Ni_Fe_N_din6_s_c2_01\",\"Ni_Fe_N_din6_as_c1_3\",\"Ni_Fe_N_din4_x2_c2_a\",\"Ni_Fe_N_din6_as_c2_16\",\"Ni_Fe_N_din6_as_c3_124\",\"Ni_Fe_N_din4_x2_c4_d\",\"Ni_Fe_N_din4_x2_c4_a\",\"Ni_Fe_N_din6_as_c2_15\",\"Ni_Fe_N_din4_x2_c5_b\",\"Ni_Fe_N_din4_x2_c1_b\",\"Ni_Fe_N_din6_as_c1_1\",\"Ni_Fe_N_din6_as_c4_2346\",\"Ni_Fe_N_din4_x2_c1_a\",\"Ni_Fe_N_din4_x2_c4_e\",\"Ni_Fe_N_din4_x2_c0\",\"Ni_Fe_N_din4_x2_c2_g\",\"Ni_Fe_N_din6_as_c3_164\",\"Ni_Fe_N_din6_s_c3_012\",\"Ni_Fe_N_din6_as_c1_2\",\"Ni_Fe_N_din4_x2_c2_e\",\"Ni_Fe_N_din6_s_c2_12\",\"Ni_Fe_N_din4_x2_c2_f\",\"Ni_Fe_N_din6_as_c3_216\",\"Ni_Fe_N_din6_s_c2_02\",\"Ni_Fe_N_din6_as_c5_12346\",\"Ni_Fe_N_din4_x2_c2_d\",\"Ni_Fe_N_din4_x2_c5_a\",\"Ni_Fe_N_din6_as_c4_2456\",\"Ni_Fe_N_din6_s_c4_0124\",\"Ni_Fe_N_din6_as_c3_235\",\"Ni_Fe_N_din6_as_c4_3216\",\"Ni_Fe_N_din6_as_c4_6124\",\"Ni_Fe_N_din6_as_c2_23\",\"Ni_Fe_N_din6_as_c2_12\",\"Ni_Fe_N_din4_x2_c3_b\",\"Ni_Fe_N_din6_s_c2_15\",\"Ni_Fe_N_din6_as_c2_34\",\"Ni_Fe_N_din4_x2_c4_b\",\"Ni_Fe_N_din6_s_c1\",\"Ni_Fe_N_din6_as_c2_24\",\"Ni_Fe_N_din6_as_c2_14\",\"Ni_Fe_N_din6_s_c4_0134\",\"Ni_Fe_N_din6_as_c4_6125\",\"Ni_Fe_N_din6_as_c3_346\",\"Ni_Fe_N_din6_as_c3_163\",\"Ni_Fe_N_din6_as_c3_123\",\"Ni_Fe_N_din6_as_c3_253\",\"Ni_Fe_N_din6_s_c3_013\",\"Ni_Fe_N_din6_as_c3_254\",\"Ni_Fe_C_din6_s_c6\",\"Ni_Fe_N_din6_as_c4_3456\",\"Ni_Fe_N_din6_s_c3_024\"],\"x\":[-4.358493750000093,-2.7584937500000706,-6.4624937500000215,-6.383493749999957,-5.030493750000005,-2.8434937499999933,-2.3274937500000306,-0.4504937500000778,-2.2744937500000333,-3.102493750000008,-1.8794937499999376,-3.7874937499999537,-4.856493749999913,-4.898493749999943,-3.0314937499999814,-5.585493750000069,-6.988493750000089,-2.4524937500000306,-3.915493749999996,-4.116493750000018,-5.201493750000054,-6.689493749999997,-4.916493749999972,-2.4974937499999896,-1.2044937499999833,-3.071493749999945,-4.740493749999928,-0.4694937500000833,-7.6154937500000415,-2.773493750000057,-0.1774937500000533,-2.8214937500000588,-5.547493749999944,-5.505493749999914,-4.137493749999976,-2.422493749999944,-4.584493749999979,-3.572493750000035,-3.428493749999916,-3.366493750000018,-3.325493749999964,-4.685493749999978,-0.4784937499999842,-1.8854937499999096,-6.084493749999979,0.5745062499998994,-3.2854937500000005,-2.8684937499999705,-2.586493750000045,-4.064493749999997,-2.6844937500000015,-2.438493750000021,-3.925493749999987,-4.585493749999955,-1.6184937500000842,-4.390493750000019,-3.842493750000017,-3.5414937499999724,-1.0934937499999933],\"y\":[-4.093736704415725,-2.877615184445569,-6.337750715312553,-6.185556205158177,-4.8326544420674455,-2.882111669395984,-2.09245650135182,-0.34492855511089043,-2.1149013876482208,-3.548327534214572,-1.9614402879947506,-3.143777023154108,-4.727012540845378,-4.777575098875502,-2.884544403304069,-5.385250067206197,-6.9919477865226245,-2.084522838002816,-3.470281670347731,-4.067516136477644,-5.321647834856093,-6.871646008690977,-4.990374335573323,-2.231333758876162,-1.095933637836631,-2.7658480020842577,-4.76041248900671,-0.3303441743652412,-7.16991156279425,-2.685602250755241,-0.14320135511440388,-2.6249746823700524,-5.434077404647018,-5.458487135235917,-3.3591392405246374,-2.411420671247927,-4.264232954929163,-3.2977133727311227,-3.0298719492413535,-3.236907399320194,-2.8811958707766294,-4.391061119480672,-0.2979411044011471,-1.958912695195271,-5.871097675343415,0.35846502216975,-2.9059475694067207,-2.467952006004162,-2.441204282338564,-3.7854023914653894,-2.567970830970303,-2.5607527663869694,-3.766461866010727,-4.264232954929163,-1.5269918886167189,-4.129775695300069,-3.7102485584235065,-3.255413022555677,-1.1141564869923426],\"type\":\"scatter\"},{\"hoverinfo\":\"text+x+y\",\"legendgroup\":\"Os\",\"marker\":{\"color\":\"rgba(136,86,167,1)\",\"line\":{\"color\":\"black\",\"width\":1},\"opacity\":1,\"size\":12,\"symbol\":0},\"mode\":\"markers\",\"name\":\"Os\",\"showlegend\":true,\"text\":[\"Os_Fe_N_din4_x2_c4_c\",\"Os_Fe_N_din6_as_c2_16\",\"Os_Fe_N_din4_x2_c2_c\",\"Os_Fe_N_din4_x2_c4_b\",\"Os_Fe_N_din4_x2_c3_d\",\"Os_Fe_N_din6_s_c1\",\"Os_Fe_N_din4_x2_c2_b\",\"Os_Fe_N_din6_s_c3_013\",\"Os_Fe_N_din6_s_c4_0123\",\"Os_Fe_N_din4_x2_c2_a\",\"Os_Fe_N_din6_as_c3_253\",\"Os_Fe_N_din6_as_c1_2\",\"Os_Fe_N_din6_as_c4_6124\",\"Os_Fe_N_din4_x2_c2_e\",\"Os_Fe_N_din6_as_c3_165\",\"Os_Fe_N_din4_x2_c3_a\",\"Os_Fe_N_din6_as_c4_2456\",\"Os_Fe_N_din6_as_c3_254\",\"Os_Fe_N_din4_x2_c2_f\",\"Os_Fe_N_din6_s_c2_01\",\"Os_Fe_N_din6_as_c2_25\",\"Os_Fe_N_din6_as_c3_124\",\"Os_Fe_N_din6_as_c4_3216\",\"Os_Fe_N_din4_x2_c4_e\",\"Os_Fe_N_din6_as_c2_24\",\"Os_Fe_N_din4_x2_c5_a\",\"Os_Fe_N_din6_as_c4_3456\",\"Os_Fe_N_din4_x2_c5_b\",\"Os_Fe_C_din6_as_c6\",\"Os_Fe_N_din4_x2_c1_b\",\"Os_Fe_N_din6_as_c3_164\",\"Os_Fe_N_din6_as_c3_125\",\"Os_Fe_N_din6_s_c3_012\",\"Os_Fe_N_din4_x2_c3_c\",\"Os_Fe_N_din4_x2_c1_a\",\"Os_Fe_N_din6_s_c2_15\",\"Os_Fe_N_din4_x2_c3_b\",\"Os_Fe_N_din4_x2_c2_d\",\"Os_Fe_N_din6_as_c1_1\",\"Os_Fe_C_din6_s_c6\",\"Os_Fe_N_din6_as_c2_13\",\"Os_Fe_N_din6_as_c1_3\",\"Os_Fe_N_din6_as_c0\",\"Os_Fe_N_din4_x2_c2_g\",\"Os_Fe_N_din6_as_c5_12345\",\"Os_Fe_N_din6_as_c4_2346\",\"Os_Fe_N_din6_as_c3_346\",\"Os_Fe_N_din4_x2_c0\",\"Os_Fe_N_din6_s_c2_02\",\"Os_Fe_N_din6_as_c2_36\",\"Os_Fe_N_din4_x2_c4_d\",\"Os_Fe_N_din4_x2_c4_a\",\"Os_Fe_N_din6_as_c2_34\",\"Os_Fe_N_din6_s_c4_0134\",\"Os_Fe_N_din6_as_c3_123\"],\"x\":[-2.7559045000000317,0.5940955000001047,-3.1529044999999662,-4.099904499999969,-2.087904500000026,2.5640954999999046,-3.148904499999947,0.3920954999999928,-0.4769045000000353,-2.190904499999977,-2.4319044999999626,-0.3529045000000117,-1.019904499999928,-2.9899044999999553,-0.6499045000000372,-4.56890450000002,-1.6919044999999535,-2.4999044999999462,-5.72190450000004,1.4470954999999428,-1.724904499999969,-1.5749044999999915,-0.937904500000048,-3.6859044999999817,-1.1439045000000654,-3.916904499999976,-1.214904499999978,-3.816904500000067,-2.15290450000008,-5.901904500000104,0.0750954999999855,-2.1969045000000627,0.8970954999999883,-2.9209044999999954,-3.5149045000000463,1.09809550000001,-2.925904499999991,-4.333904500000006,0.011095500000021,-2.766904499999999,-0.7879044999999572,-0.1789045000000335,0.8110955000000892,-3.6679045000000663,-2.724904499999969,-1.725904499999945,-0.2689044999999517,-5.819904499999996,1.538095499999951,-0.6269045000000126,-2.829904499999987,-2.811904499999958,0.039095500000041,-1.447904500000039,-1.5649045000000008],\"y\":[-3.0138916766155277,0.14975385034747554,-3.052687989478031,-4.23999486503671,-2.5852260573032138,2.1065835947655454,-3.3637929950317043,0.2288959368484433,-0.8298802424865248,-2.584794150042978,-2.4428535370330713,-0.6865353052272686,-1.2819035411783466,-3.105069399831465,-1.0765842179905891,-4.837034683851434,-1.5679896103335362,-2.375491085771586,-5.7274501385472085,1.2121661394656615,-1.743529893541678,-1.4610851111657461,-1.4297203281133168,-3.887899979323267,-1.3328495472103936,-3.9306914234323433,-1.4242150125224164,-3.9235929251894164,-1.8525202900351734,-5.912405851372255,-0.08289199746410646,-2.2901855773297664,0.6772917626265059,-3.0246190232390715,-3.250403142126409,1.216976203724567,-2.9339637040409596,-4.1223962306200255,0.05925107284000348,-2.7572619178569417,-0.9817351887270409,-0.2074724043790825,0.4809552220347213,-3.5454697432864744,-2.3278110354254085,-1.678200226300292,-0.7274641602922434,-5.812838555547125,1.3606987283102503,-1.0807589169023464,-2.9951978533320314,-3.1521003366442204,0.03596522204575156,-1.501659380626088,-1.956713650858837],\"type\":\"scatter\"},{\"hoverinfo\":\"text+x+y\",\"legendgroup\":\"Pd\",\"marker\":{\"color\":\"rgba(136,86,167,1)\",\"line\":{\"color\":\"black\",\"width\":1},\"opacity\":1,\"size\":12,\"symbol\":0},\"mode\":\"markers\",\"name\":\"Pd\",\"showlegend\":true,\"text\":[\"Pd_Fe_N_din6_s_c3_024\",\"Pd_Fe_N_din6_as_c4_2346\",\"Pd_Fe_N_din4_x2_c4_c\",\"Pd_Fe_N_din4_x2_c1_a\",\"Pd_Fe_N_din6_as_c2_14\",\"Pd_Fe_N_din4_x2_c3_a\",\"Pd_Fe_N_din6_s_c4_0134\",\"Pd_Fe_N_din6_as_c3_125\",\"Pd_Fe_N_din6_as_c2_16\",\"Pd_Fe_N_din6_as_c4_6124\",\"Pd_Fe_N_din6_as_c2_15\",\"Pd_Fe_N_din4_x2_c4_e\",\"Pd_Fe_N_din4_x2_c4_b\",\"Pd_Fe_N_din6_as_c3_124\",\"Pd_Fe_N_din6_s_c4_0123\",\"Pd_Fe_N_din6_as_c4_2456\",\"Pd_Fe_N_din4_x2_c2_g\",\"Pd_Fe_N_din6_as_c3_123\",\"Pd_Fe_N_din4_x2_c5_b\",\"Pd_Fe_N_din4_x2_c2_c\",\"Pd_Fe_N_din6_as_c3_253\",\"Pd_Fe_N_din6_as_c4_3216\",\"Pd_Fe_N_din6_as_c5_12345\",\"Pd_Fe_N_din6_as_c1_2\",\"Pd_Fe_N_din4_x2_c1_b\",\"Pd_Fe_N_din4_x2_c4_a\",\"Pd_Fe_N_din4_x2_c5_a\",\"Pd_Fe_N_din6_as_c1_1\",\"Pd_Fe_C_din6_s_c6\",\"Pd_Fe_N_din6_s_c2_01\",\"Pd_Fe_N_din6_s_c2_12\",\"Pd_Fe_N_din4_x2_c4_d\",\"Pd_Fe_N_din6_as_c4_3456\",\"Pd_Fe_N_din4_x2_c2_e\",\"Pd_Fe_N_din6_as_c2_24\",\"Pd_Fe_N_din6_as_c2_23\",\"Pd_Fe_N_din6_as_c2_34\",\"Pd_Fe_N_din4_x2_c2_b\",\"Pd_Fe_N_din6_as_c3_165\",\"Pd_Fe_N_din6_s_c3_012\",\"Pd_Fe_N_din4_x2_c0\",\"Pd_Fe_N_din4_x2_c3_b\",\"Pd_Fe_C_din4_x2_c6\",\"Pd_Fe_N_din4_x2_c2_a\",\"Pd_Fe_N_din6_s_c5\",\"Pd_Fe_N_din4_x2_c2_d\",\"Pd_Fe_N_din6_s_c2_15\",\"Pd_Fe_N_din6_as_c1_3\",\"Pd_Fe_N_din6_as_c5_12346\",\"Pd_Fe_C_din6_as_c6\",\"Pd_Fe_N_din6_as_c2_25\",\"Pd_Fe_N_din6_as_c2_12\",\"Pd_Fe_N_din6_as_c0\",\"Pd_Fe_N_din4_x2_c3_d\",\"Pd_Fe_N_din6_as_c3_254\"],\"x\":[-0.884779249999978,-3.2607792499999544,-3.5327792500000026,-3.2197792500000144,-2.1057792499999817,-5.414779249999951,-2.90577925000005,-3.591779250000086,-1.0917792499999717,-2.651779249999917,-2.2447792499999917,-4.142779250000016,-4.919779249999946,-3.0317792500000262,-1.8047792500000508,-3.686779249999999,-3.964779250000019,-3.34977925000001,-4.291779250000017,-3.3907792500000635,-4.049779249999942,-3.005779249999959,-3.824779249999919,-2.166779250000017,-5.993779250000015,-3.721779249999967,-4.359779250000001,-1.6227792500000344,-4.100779249999986,-0.2147792500000189,-0.2157792499999953,-3.6767792499998944,-3.1267792500000535,-3.6077792499999344,-2.575779250000009,-2.7657792500000635,-1.4447792499999237,-3.392779250000016,-2.25277925000003,-0.6717792500000126,-5.586779249999976,-3.624779249999987,-4.982779250000048,-2.068779249999947,-2.9177792499999935,-4.547779249999989,-0.0217792500000353,-1.6937792499999471,-2.2317792500000717,-3.2137792500000426,-3.18277924999998,-2.4707792499999908,-0.9147792499999507,-2.740779249999973,-3.7687792499999926],\"y\":[-0.9401721836664941,-3.2650083205404687,-3.675084449055026,-3.4390817367446846,-1.9524628140700107,-5.2499318547684455,-2.5162106564451356,-3.8127265135055923,-1.51962036029948,-2.817004696544813,-2.5944728775542805,-4.289765012852136,-4.936758419690869,-2.8974654205944477,-2.027513442351014,-3.171741931789225,-3.914180053436204,-3.5544072110842975,-4.359217875407035,-3.403692511839101,-3.984752386255204,-3.1121047216751325,-3.6391506368070847,-2.3561142088599,-5.828327528687574,-3.776638835838757,-4.369554792451606,-1.6322231273874932,-3.910418510092954,-0.25590167690693205,-0.22269717322229485,-3.6315247625026124,-3.070364198077301,-3.664044579854103,-2.6298607014629503,-2.964042617857414,-1.5544031052716902,-3.5972004805088367,-2.6669000312345124,-0.872381644684084,-5.695231177477886,-3.4678627622255784,-5.041981249469494,-2.7816159893843073,-2.904082675106386,-4.382225815805482,-0.17320034626263847,-1.7293515663530425,-2.482224931132733,-3.110762128249503,-3.0833958126934755,-2.5757260555125856,-1.240688865773115,-2.9837152796652497,-3.8537403726547477],\"type\":\"scatter\"},{\"hoverinfo\":\"text+x+y\",\"legendgroup\":\"Pt\",\"marker\":{\"color\":\"rgba(136,86,167,1)\",\"line\":{\"color\":\"black\",\"width\":1},\"opacity\":1,\"size\":12,\"symbol\":0},\"mode\":\"markers\",\"name\":\"Pt\",\"showlegend\":true,\"text\":[\"Pt_Fe_N_din6_as_c2_25\",\"Pt_Fe_N_din4_x2_c3_a\",\"Pt_Fe_N_din6_as_c4_3456\",\"Pt_Fe_N_din6_as_c2_15\",\"Pt_Fe_N_din6_as_c5_12346\",\"Pt_Fe_N_din4_x2_c2_a\",\"Pt_Fe_N_din6_as_c3_165\",\"Pt_Fe_N_din4_x2_c4_d\",\"Pt_Fe_N_din6_as_c2_34\",\"Pt_Fe_N_din6_s_c4_0134\",\"Pt_Fe_N_din6_s_c4_0124\",\"Pt_Fe_N_din6_as_c3_253\",\"Pt_Fe_N_din4_x2_c0\",\"Pt_Fe_N_din6_as_c2_26\",\"Pt_Fe_N_din4_x2_c4_c\",\"Pt_Fe_N_din4_x2_c5_b\",\"Pt_Fe_N_din4_x2_c5_a\",\"Pt_Fe_N_din4_x2_c2_d\",\"Pt_Fe_N_din6_as_c2_16\",\"Pt_Fe_N_din4_x2_c3_c\",\"Pt_Fe_N_din4_x2_c3_b\",\"Pt_Fe_N_din6_as_c4_3216\",\"Pt_Fe_N_din6_as_c2_13\",\"Pt_Fe_N_din4_x2_c3_d\",\"Pt_Fe_N_din6_as_c4_2346\",\"Pt_Fe_N_din4_x2_c1_b\",\"Pt_Fe_N_din4_x2_c2_e\",\"Pt_Fe_N_din6_as_c2_23\",\"Pt_Fe_N_din6_as_c4_6125\",\"Pt_Fe_C_din6_s_c6\",\"Pt_Fe_N_din6_s_c5\",\"Pt_Fe_N_din6_as_c3_163\",\"Pt_Fe_N_din6_as_c3_125\",\"Pt_Fe_N_din4_x2_c2_b\",\"Pt_Fe_N_din4_x2_c2_g\",\"Pt_Fe_N_din6_as_c3_123\",\"Pt_Fe_N_din6_as_c1_1\",\"Pt_Fe_N_din6_as_c2_24\",\"Pt_Fe_N_din6_as_c1_2\",\"Pt_Fe_C_din4_x2_c6\",\"Pt_Fe_N_din6_s_c3_013\",\"Pt_Fe_C_din6_as_c6\",\"Pt_Fe_N_din6_as_c3_216\",\"Pt_Fe_N_din4_x2_c4_b\",\"Pt_Fe_N_din4_x2_c4_e\",\"Pt_Fe_N_din6_as_c1_3\",\"Pt_Fe_N_din6_as_c2_12\",\"Pt_Fe_N_din6_as_c3_346\",\"Pt_Fe_N_din6_as_c5_12345\",\"Pt_Fe_N_din6_as_c3_235\",\"Pt_Fe_N_din4_x2_c4_a\",\"Pt_Fe_N_din6_as_c3_254\",\"Pt_Fe_N_din4_x2_c2_c\",\"Pt_Fe_N_din4_x2_c1_a\"],\"x\":[-3.306763999999893,-5.883764000000005,-3.3767640000000565,-2.283763999999982,-2.5437640000000865,-2.1947639999999264,-2.2417640000000656,-4.233763999999914,-1.745763999999971,-3.1877639999999783,-1.8227639999999692,-4.414763999999954,-5.643763999999996,-2.6037639999999183,-3.974764000000013,-5.145764000000062,-5.107763999999937,-4.854764000000008,-1.005763999999962,-4.377763999999919,-4.045764000000039,-3.281764000000029,-2.4217640000000156,-2.97176399999997,-3.622763999999924,-6.210764000000003,-4.008764000000005,-3.16676400000002,-3.529763999999963,-4.614763999999999,-3.0527639999999874,-2.1777639999999874,-3.794764000000063,-3.7567639999999383,-4.266764000000043,-3.667763999999997,-1.603764000000032,-2.66676400000002,-2.2827640000000056,-6.165764000000044,-1.436764000000002,-3.6617640000000247,-2.134763999999981,-5.488764000000023,-4.772764000000015,-1.8247640000000356,-2.5737639999999455,-2.4417639999999974,-4.263764,-4.414763999999954,-4.439763999999931,-3.9687639999999273,-3.6917639999999974,-3.350764000000103],\"y\":[-3.1510000215113716,-5.594063694401449,-3.0785533778852536,-2.500140010529905,-2.4169974449422638,-2.985615046437931,-2.5548873003944843,-3.865628057804226,-1.4731583336249885,-2.51240264009028,-2.245649540548611,-4.067584233013154,-5.927246003858771,-2.621812071897782,-3.9038242240712355,-4.673899968663013,-4.682850994357906,-4.699438356807252,-1.4154220238480901,-3.9945141190434317,-3.625979479495374,-3.115760190797182,-2.4109470226883345,-3.179949965192155,-3.3170031539025233,-6.141347249496461,-3.930818469174592,-3.0140813615914945,-3.6390217146878916,-4.073689273545463,-2.888388307888817,-2.35774331829253,-3.850596094371664,-3.9501620406054747,-4.17770199319303,-3.59451828824762,-1.508528372821235,-2.531396861562151,-2.284632304026,-5.516228150566728,-1.2415723222259216,-3.229061604332,-2.405234513063712,-5.290602250266044,-4.587442617443239,-1.6477365482700133,-2.474774786957109,-2.366913562368051,-3.7287300053908283,-4.067584233013154,-4.052487024033506,-3.898517431536747,-3.598919373564952,-3.6516524716713055],\"type\":\"scatter\"},{\"hoverinfo\":\"text+x+y\",\"legendgroup\":\"Rh\",\"marker\":{\"color\":\"rgba(136,86,167,1)\",\"line\":{\"color\":\"black\",\"width\":1},\"opacity\":1,\"size\":12,\"symbol\":0},\"mode\":\"markers\",\"name\":\"Rh\",\"showlegend\":true,\"text\":[\"Rh_Fe_N_din6_as_c3_235\",\"Rh_Fe_N_din4_x2_c4_d\",\"Rh_Fe_N_din4_x2_c5_b\",\"Rh_Fe_N_din4_x2_c4_c\",\"Rh_Fe_N_din6_as_c4_2456\",\"Rh_Fe_N_din4_x2_c2_c\",\"Rh_Fe_N_din6_as_c4_3456\",\"Rh_Fe_C_din4_x2_c6\",\"Rh_Fe_N_din4_x2_c3_b\",\"Rh_Fe_N_din6_s_c2_15\",\"Rh_Fe_C_din6_s_c6\",\"Rh_Fe_N_din6_s_c2_01\",\"Rh_Fe_N_din6_as_c2_14\",\"Rh_Fe_N_din4_x2_c2_g\",\"Rh_Fe_N_din4_x2_c2_e\",\"Rh_Fe_N_din6_as_c3_164\",\"Rh_Fe_N_din6_as_c4_6124\",\"Rh_Fe_N_din6_as_c3_236\",\"Rh_Fe_N_din6_as_c3_216\",\"Rh_Fe_N_din6_as_c2_36\",\"Rh_Fe_N_din6_as_c3_346\",\"Rh_Fe_N_din6_s_c2_12\",\"Rh_Fe_N_din6_as_c3_123\",\"Rh_Fe_N_din6_as_c1_3\",\"Rh_Fe_N_din6_as_c2_15\",\"Rh_Fe_N_din6_as_c3_124\",\"Rh_Fe_N_din6_as_c1_2\",\"Rh_Fe_N_din6_s_c4_0123\",\"Rh_Fe_N_din6_as_c4_6125\",\"Rh_Fe_N_din6_s_c5\",\"Rh_Fe_N_din6_as_c2_26\",\"Rh_Fe_N_din6_as_c2_25\",\"Rh_Fe_N_din6_as_c3_125\",\"Rh_Fe_N_din6_s_c3_013\",\"Rh_Fe_N_din6_as_c3_165\",\"Rh_Fe_N_din6_as_c3_253\",\"Rh_Fe_N_din6_as_c2_24\",\"Rh_Fe_N_din6_as_c2_34\",\"Rh_Fe_N_din6_as_c1_1\",\"Rh_Fe_N_din4_x2_c1_a\",\"Rh_Fe_N_din6_as_c0\",\"Rh_Fe_N_din6_s_c3_012\",\"Rh_Fe_N_din6_s_c4_0124\",\"Rh_Fe_N_din4_x2_c2_d\",\"Rh_Fe_N_din6_as_c5_12346\",\"Rh_Fe_N_din6_as_c2_35\",\"Rh_Fe_N_din4_x2_c3_a\",\"Rh_Fe_N_din6_s_c2_02\",\"Rh_Fe_N_din6_as_c4_2346\",\"Rh_Fe_N_din6_as_c2_23\",\"Rh_Fe_N_din4_x2_c0\",\"Rh_Fe_C_din6_as_c6\",\"Rh_Fe_N_din4_x2_c1_b\",\"Rh_Fe_N_din6_as_c3_163\"],\"x\":[-3.8534604999999544,-3.453460499999977,-3.9204605000000754,-3.495460500000007,-3.224460500000049,-3.860460500000016,-2.8024605000000236,-4.082460499999996,-3.699460499999958,0.2155395000000055,-3.974460500000049,-0.0914605000000108,-2.0904605000000345,-4.660460499999971,-4.0104604999999935,-1.7634605000000363,-2.17746049999991,-3.2344604999999262,-1.853460500000068,-2.251460499999979,-1.9794604999999308,0.1225394999999309,-3.0204604999999844,-1.599460500000049,-2.439460499999967,-2.7904604999999663,-1.797460500000028,-2.4334604999999954,-3.195460499999939,-2.8154604999999435,-2.382460499999951,-3.0994604999999353,-3.5944605000000536,-0.8204605000000527,-2.3124605000000145,-3.8534604999999544,-2.4024605000000463,-1.3534604999999544,-1.4124605000000372,-4.102460500000092,-0.8154604999999435,-0.8524604999999781,-1.998460499999936,-5.058460499999995,-2.131460500000088,-2.6824604999999053,-5.512460499999946,0.206539499999991,-2.904460499999999,-2.5544604999999763,-6.463460499999968,-2.91446049999999,-6.647460500000051,-1.9274605000000236],\"y\":[-3.6379943470762903,-3.7006678226439926,-4.272235266165063,-3.7278796060499277,-2.713368257915221,-3.670661988477342,-2.616079629344154,-4.668378353034371,-3.618679992118262,0.19738968172812796,-3.626314094464956,0.0075682588985036495,-1.7962643222479002,-4.1321863976646895,-3.8219247500101536,-1.5735214240308577,-2.3764827977141114,-3.25863370339136,-2.0728924921635303,-2.3217231716451106,-2.0307968355267922,0.10358594797741336,-3.149114676331077,-1.612901208483159,-2.3399471702162584,-2.5052690443933794,-1.9938909223246302,-2.0724363059086817,-3.101991981967189,-2.739350173275668,-2.407875477744082,-2.877660490529988,-3.4106999891212553,-1.119661601100429,-2.284870864623143,-3.6379943470762903,-2.3710878653526093,-1.4693908292803441,-1.431350758578296,-3.75424618669922,-0.9691112574177934,-0.7690375928403598,-2.217473075126251,-4.563967217060987,-2.14221707713791,-2.4140038237502837,-5.2745696085185205,0.24975939589259094,-2.8381441489265655,-2.7288808272466842,-6.194523137568422,-2.7450229105120543,-6.270391716149181,-2.0250267394981463],\"type\":\"scatter\"},{\"hoverinfo\":\"text+x+y\",\"legendgroup\":\"Ru\",\"marker\":{\"color\":\"rgba(136,86,167,1)\",\"line\":{\"color\":\"black\",\"width\":1},\"opacity\":1,\"size\":12,\"symbol\":0},\"mode\":\"markers\",\"name\":\"Ru\",\"showlegend\":true,\"text\":[\"Ru_Fe_C_din6_as_c6\",\"Ru_Fe_N_din6_as_c2_25\",\"Ru_Fe_N_din4_x2_c2_b\",\"Ru_Fe_N_din6_as_c4_3456\",\"Ru_Fe_N_din4_x2_c5_a\",\"Ru_Fe_N_din6_as_c2_34\",\"Ru_Fe_N_din4_x2_c4_b\",\"Ru_Fe_N_din6_as_c4_2456\",\"Ru_Fe_N_din6_as_c3_164\",\"Ru_Fe_N_din6_s_c4_0134\",\"Ru_Fe_N_din6_s_c2_01\",\"Ru_Fe_N_din4_x2_c3_b\",\"Ru_Fe_N_din6_s_c4_0124\",\"Ru_Fe_N_din4_x2_c4_e\",\"Ru_Fe_N_din4_x2_c4_d\",\"Ru_Fe_N_din6_as_c3_163\",\"Ru_Fe_N_din6_as_c3_216\",\"Ru_Fe_N_din6_as_c4_3216\",\"Ru_Fe_N_din4_x2_c2_g\",\"Ru_Fe_N_din4_x2_c5_b\",\"Ru_Fe_C_din6_s_c6\",\"Ru_Fe_N_din6_as_c2_35\",\"Ru_Fe_N_din6_as_c1_1\",\"Ru_Fe_N_din6_as_c2_15\",\"Ru_Fe_N_din6_s_c3_024\",\"Ru_Fe_N_din4_x2_c3_d\",\"Ru_Fe_N_din6_as_c4_6124\",\"Ru_Fe_N_din6_as_c2_16\",\"Ru_Fe_N_din6_as_c2_23\",\"Ru_Fe_N_din4_x2_c2_e\",\"Ru_Fe_N_din4_x2_c4_a\",\"Ru_Fe_N_din4_x2_c3_a\",\"Ru_Fe_N_din6_s_c5\",\"Ru_Fe_N_din6_as_c2_13\",\"Ru_Fe_N_din6_s_c1\",\"Ru_Fe_N_din6_as_c0\",\"Ru_Fe_N_din4_x2_c2_f\",\"Ru_Fe_N_din6_s_c3_012\",\"Ru_Fe_N_din6_as_c2_12\",\"Ru_Fe_N_din6_as_c2_36\",\"Ru_Fe_N_din4_x2_c4_c\",\"Ru_Fe_N_din6_as_c4_2346\",\"Ru_Fe_N_din6_as_c3_123\",\"Ru_Fe_N_din6_as_c2_26\",\"Ru_Fe_N_din6_as_c3_254\",\"Ru_Fe_N_din4_x2_c2_c\",\"Ru_Fe_N_din4_x2_c2_d\",\"Ru_Fe_N_din6_as_c3_236\",\"Ru_Fe_N_din6_as_c3_346\",\"Ru_Fe_N_din6_as_c1_2\",\"Ru_Fe_N_din6_as_c3_165\",\"Ru_Fe_N_din6_as_c3_125\",\"Ru_Fe_N_din6_s_c3_013\",\"Ru_Fe_N_din6_s_c2_12\",\"Ru_Fe_N_din6_as_c3_253\",\"Ru_Fe_N_din6_as_c4_6125\",\"Ru_Fe_N_din6_s_c2_02\"],\"x\":[-2.3908159999999796,-2.3178160000000005,-3.4878159999999596,-1.6848159999999623,-4.022815999999928,-0.492815999999955,-4.214816000000049,-2.288816000000004,-0.6408159999999796,-2.0298159999999896,0.3961839999999412,-3.1298160000000124,-1.6718159999999287,-3.851815999999992,-3.065815999999934,-0.7888160000000042,-0.6968160000000196,-1.5798160000000578,-4.006815999999965,-4.068816000000091,-3.0648160000000715,-1.8888159999999132,-0.7288160000000588,-1.7928160000000233,-0.5258159999999705,-2.3908159999999796,-1.754815999999899,-0.2678159999999323,-1.614816000000026,-3.343815999999954,-3.322815999999996,-4.759816000000008,-2.030815999999966,-1.3838160000000317,1.5451839999999422,-0.0748159999999487,-6.002815999999946,-0.2308160000000114,-1.381815999999965,-1.3358160000000296,-2.927816000000014,-2.308815999999986,-1.9028159999999232,-1.4248159999999714,-3.0078159999999414,-3.3838160000000315,-4.57181600000002,-1.9948160000000217,-0.9158159999999568,-0.9738159999999496,-1.3968160000000651,-2.7068160000000105,-0.3518159999999923,1.0161839999999458,-2.8478159999999733,-2.229816000000035,0.524183999999984],\"y\":[-2.1529928980089132,-2.0540599791965017,-3.634166837721006,-1.8267152806093991,-4.07605732914827,-0.6529524175157624,-4.396929149348449,-1.9074469203317366,-0.7165694909809313,-1.9233069148162814,0.45648689985167973,-3.2856332310512766,-1.834608952058106,-4.030640859742275,-3.336856771594314,-1.1782305492648644,-1.2521635387658734,-1.8294017386353911,-3.851759470860085,-4.096886672259545,-3.107498309011663,-1.7155121208265247,-0.5988671795866988,-1.671803968863859,-0.4680855670847176,-2.9031242865831652,-1.7127657217745356,-0.5736738158691957,-1.9173457080090233,-3.495803148797563,-3.4760105068412512,-4.948612253606234,-2.228353858721028,-1.436071612008937,1.338567151808865,-0.3118620551651153,-5.915812672199827,-0.3061806383675301,-1.4885630203236966,-1.5506696279562187,-3.372981580130675,-2.0449845815570726,-2.156810826094526,-1.6645219559815114,-2.652980772164079,-3.3653144652087477,-4.335816766247723,-2.286079646840078,-1.1713394901828325,-1.1864360177152664,-1.5010892404351697,-2.5835558387377513,-0.5316325505351429,0.6079898581328314,-2.729609500304667,-2.248603380870112,0.6838622478473251],\"type\":\"scatter\"},{\"hoverinfo\":\"text+x+y\",\"legendgroup\":\"Zn\",\"marker\":{\"color\":\"rgba(136,86,167,1)\",\"line\":{\"color\":\"black\",\"width\":1},\"opacity\":1,\"size\":12,\"symbol\":0},\"mode\":\"markers\",\"name\":\"Zn\",\"showlegend\":true,\"text\":[\"Zn_Fe_N_din6_as_c2_12\",\"Zn_Fe_N_din6_as_c4_2346\",\"Zn_Fe_N_din4_x2_c4_b\",\"Zn_Fe_N_din4_x2_c5_a\",\"Zn_Fe_N_din4_x2_c4_c\",\"Zn_Fe_N_din6_as_c5_12345\",\"Zn_Fe_N_din6_as_c1_3\",\"Zn_Fe_N_din4_x2_c4_e\",\"Zn_Fe_N_din4_x2_c3_b\",\"Zn_Fe_N_din4_x2_c5_b\",\"Zn_Fe_N_din6_as_c4_6124\",\"Zn_Fe_N_din6_as_c2_16\",\"Zn_Fe_N_din4_x2_c0\",\"Zn_Fe_N_din6_as_c3_216\",\"Zn_Fe_C_din6_s_c6\",\"Zn_Fe_N_din6_as_c2_36\",\"Zn_Fe_N_din6_s_c2_01\",\"Zn_Fe_N_din6_s_c2_15\",\"Zn_Fe_N_din4_x2_c3_a\",\"Zn_Fe_N_din6_as_c3_125\",\"Zn_Fe_N_din4_x2_c2_a\",\"Zn_Fe_N_din6_s_c2_12\",\"Zn_Fe_N_din6_as_c2_26\",\"Zn_Fe_N_din6_s_c5\",\"Zn_Fe_N_din6_as_c1_2\",\"Zn_Fe_N_din6_as_c2_14\",\"Zn_Fe_N_din6_as_c4_2456\",\"Zn_Fe_N_din6_s_c3_012\",\"Zn_Fe_N_din4_x2_c1_a\",\"Zn_Fe_N_din4_x2_c2_f\",\"Zn_Fe_N_din4_x2_c2_c\",\"Zn_Fe_N_din6_as_c3_165\",\"Zn_Fe_N_din6_as_c3_163\",\"Zn_Fe_N_din6_as_c3_164\",\"Zn_Fe_N_din6_s_c3_013\",\"Zn_Fe_N_din6_as_c2_34\",\"Zn_Fe_N_din6_as_c2_25\",\"Zn_Fe_N_din4_x2_c4_a\",\"Zn_Fe_N_din4_x2_c2_e\",\"Zn_Fe_N_din4_x2_c4_d\",\"Zn_Fe_N_din6_as_c3_123\",\"Zn_Fe_N_din6_s_c4_0123\",\"Zn_Fe_N_din6_as_c5_12346\",\"Zn_Fe_N_din6_as_c4_3216\",\"Zn_Fe_N_din6_as_c3_254\",\"Zn_Fe_N_din6_as_c2_24\",\"Zn_Fe_C_din4_x2_c6\",\"Zn_Fe_N_din6_as_c2_13\",\"Zn_Fe_N_din4_x2_c2_b\",\"Zn_Fe_N_din6_as_c4_6125\",\"Zn_Fe_N_din4_x2_c3_d\",\"Zn_Fe_N_din4_x2_c2_g\",\"Zn_Fe_N_din6_as_c3_124\",\"Zn_Fe_N_din4_x2_c1_b\"],\"x\":[-3.716038349999975,-3.307038349999983,-4.23503834999998,-4.115038349999976,-1.6080383500000277,-3.6520383499998967,-1.6830383499999595,-3.3540383500000086,-1.5650383500000211,-3.69403835000004,-3.879038349999986,-1.8710383499999477,-5.538038349999978,-3.338038350000046,-3.728038350000032,-2.3810383500000523,-1.369038349999995,-1.1670383499999968,-4.37403834999999,-4.482038350000051,-1.787038350000001,-1.3680383500000186,-4.041038349999907,-3.3850383499999577,-3.2310383499999613,-2.7700383500000623,-3.251038350000057,-2.2290383500000086,-1.4890383499999995,-5.080038350000008,-1.290038350000044,-2.9550383500000077,-1.9690383500000177,-2.6220383500000377,-1.9020383500000104,-1.1380383500000004,-4.273038349999991,-2.998038350000014,-2.459038350000027,-2.726038349999966,-3.758038350000005,-2.9780383500000323,-2.4280383500000777,-3.3820383500000286,-4.337038349999956,-3.758038350000005,-4.766038350000043,-2.193038350000064,-1.7520383500000332,-4.261038349999934,-2.1360383500000477,-2.905038350000053,-4.101038349999966,-5.190038350000021],\"y\":[-3.1087565630733227,-3.4494705582487257,-4.425904122449552,-3.7750095079678796,-2.3673547573254377,-3.7813530538733517,-1.9080600645300412,-3.4181877103623943,-1.6640570182489964,-3.63006670771725,-3.134011466558651,-1.802996641562458,-5.339282106406482,-2.802973995141892,-3.752165553143411,-2.8165089623209756,-1.2333442908959966,-1.0875386651147445,-4.581444062591241,-4.095004407493973,-1.6491386163490578,-1.204925650417486,-3.2525652174418926,-3.166648681894255,-2.944694659574403,-2.363056314475126,-3.2869745665441563,-1.8680287430870433,-1.6161409912372389,-5.1030452602148335,-1.3870823728950767,-2.9948807274155644,-2.629435549773724,-2.288791077422445,-1.9436689337695248,-1.7653033022297788,-3.7149896692482893,-2.982597800003001,-2.4259252349729863,-2.7617196184241846,-3.7751059175958335,-2.5887295987665975,-2.6546752777012492,-3.286833150650223,-4.117502352778193,-3.227133888655558,-4.815704747967462,-2.695760890761395,-1.9410594291702272,-3.794055975500494,-2.07201537986865,-2.6593432334006994,-3.3236575364315724,-5.150074627879175],\"type\":\"scatter\"},{\"hoverinfo\":\"text+x+y\",\"legendgroup\":\"Ag\",\"marker\":{\"color\":\"rgba(28,144,153,1)\",\"line\":{\"color\":\"black\",\"width\":1},\"opacity\":1,\"size\":12,\"symbol\":0},\"mode\":\"markers\",\"name\":\"Ag\",\"showlegend\":false,\"text\":[\"Ag_Fe_N_din6_as_c2_26\",\"Ag_Fe_N_din6_as_c4_2346\",\"Ag_Fe_N_din6_as_c3_236\",\"Ag_Fe_N_din6_s_c2_02\",\"Ag_Fe_N_din6_as_c2_15\"],\"x\":[-2.0342767499999894,-2.080276749999925,-2.3322767499999912,0.7607232499999697,-1.3122767500000094],\"y\":[-1.5426068010125447,-1.9607956761471543,-2.5267945333312145,0.5382345423017186,-1.679780210904306],\"type\":\"scatter\"},{\"hoverinfo\":\"text+x+y\",\"legendgroup\":\"Au\",\"marker\":{\"color\":\"rgba(28,144,153,1)\",\"line\":{\"color\":\"black\",\"width\":1},\"opacity\":1,\"size\":12,\"symbol\":0},\"mode\":\"markers\",\"name\":\"Au\",\"showlegend\":false,\"text\":[\"Au_Fe_N_din6_as_c1_2\",\"Au_Fe_N_din6_as_c3_254\",\"Au_Fe_N_din6_as_c2_16\",\"Au_Fe_N_din6_as_c4_2346\"],\"x\":[-1.7405729999999655,-3.287572999999991,-0.404572999999953,-2.882572999999905],\"y\":[-1.5738610820647068,-2.996041031177404,-1.011905896581492,-2.3671357432833666],\"type\":\"scatter\"},{\"hoverinfo\":\"text+x+y\",\"legendgroup\":\"Cd\",\"marker\":{\"color\":\"rgba(28,144,153,1)\",\"line\":{\"color\":\"black\",\"width\":1},\"opacity\":1,\"size\":12,\"symbol\":0},\"mode\":\"markers\",\"name\":\"Cd\",\"showlegend\":false,\"text\":[\"Cd_Fe_N_din6_as_c1_1\",\"Cd_Fe_N_din6_as_c2_12\",\"Cd_Fe_N_din6_as_c1_3\",\"Cd_Fe_N_din6_as_c1_2\",\"Cd_Fe_N_din6_as_c2_13\"],\"x\":[-1.21322380000003,-2.32322379999993,-0.970223799999978,-2.009223799999966,-1.3942237999999565],\"y\":[-1.0678085253077572,-1.9015546731380593,-1.1381344653868752,-1.652006023578888,-1.733947639249821],\"type\":\"scatter\"},{\"hoverinfo\":\"text+x+y\",\"legendgroup\":\"Co\",\"marker\":{\"color\":\"rgba(28,144,153,1)\",\"line\":{\"color\":\"black\",\"width\":1},\"opacity\":1,\"size\":12,\"symbol\":0},\"mode\":\"markers\",\"name\":\"Co\",\"showlegend\":false,\"text\":[\"Co_Fe_N_din6_as_c2_23\",\"Co_Fe_N_din6_as_c1_2\",\"Co_Fe_N_din6_as_c2_25\",\"Co_Fe_N_din6_as_c5_12346\",\"Co_Fe_N_din6_as_c2_36\",\"Co_Fe_N_din6_as_c3_165\"],\"x\":[-3.0638429999999843,-2.548842999999998,-3.534842999999988,-2.3108430000000553,-2.586843000000009,-2.572842999999999],\"y\":[-3.0673680641117094,-2.576176170116254,-3.221475843918016,-2.4738057226240953,-2.6573887311639033,-2.6997272023659926],\"type\":\"scatter\"},{\"hoverinfo\":\"text+x+y\",\"legendgroup\":\"Cu\",\"marker\":{\"color\":\"rgba(28,144,153,1)\",\"line\":{\"color\":\"black\",\"width\":1},\"opacity\":1,\"size\":12,\"symbol\":0},\"mode\":\"markers\",\"name\":\"Cu\",\"showlegend\":false,\"text\":[\"Cu_Fe_N_din6_s_c3_012\",\"Cu_Fe_N_din6_as_c2_15\",\"Cu_Fe_N_din6_s_c1\",\"Cu_Fe_N_din6_s_c3_024\",\"Cu_Fe_N_din6_as_c3_216\",\"Cu_Fe_N_din6_as_c4_2456\",\"Cu_Fe_C_din6_s_c6\",\"Cu_Fe_N_din6_s_c5\",\"Cu_Fe_N_din6_as_c3_236\",\"Cu_Fe_N_din6_as_c0\",\"Cu_Fe_N_din6_s_c2_01\"],\"x\":[-1.7056942499999457,-2.5876942500000073,0.7853057499999263,-0.7106942499999409,-2.86869425000007,-3.2516942499999946,-3.292694250000048,-2.5636942500000064,-3.43669424999994,-1.0326942499999436,-0.2526942500000846],\"y\":[-1.1021515002315136,-2.724436371944933,0.3184014312063661,-1.1206868150427143,-2.4184511683649417,-3.050084186373183,-3.460070383407295,-2.7003455134858165,-3.608785605270178,-1.5403934054692192,-0.3536877107056275],\"type\":\"scatter\"},{\"hoverinfo\":\"text+x+y\",\"legendgroup\":\"Fe\",\"marker\":{\"color\":\"rgba(28,144,153,1)\",\"line\":{\"color\":\"black\",\"width\":1},\"opacity\":1,\"size\":12,\"symbol\":0},\"mode\":\"markers\",\"name\":\"Fe\",\"showlegend\":false,\"text\":[\"Fe_Fe_N_din6_as_c3_164\",\"Fe_Fe_N_din6_as_c2_36\",\"Fe_Fe_N_din6_as_c2_34\",\"Fe_Fe_N_din6_s_c3_024\",\"Fe_Fe_N_din6_as_c3_125\"],\"x\":[-1.7425649999999706,-2.3305650000000497,-1.447564999999898,-0.9615650000000217,-3.9165650000000625],\"y\":[-1.9274182666979105,-2.6314480167299803,-1.6732516027565303,-1.0286224365676528,-3.853034542971728],\"type\":\"scatter\"},{\"hoverinfo\":\"text+x+y\",\"legendgroup\":\"Ir\",\"marker\":{\"color\":\"rgba(28,144,153,1)\",\"line\":{\"color\":\"black\",\"width\":1},\"opacity\":1,\"size\":12,\"symbol\":0},\"mode\":\"markers\",\"name\":\"Ir\",\"showlegend\":false,\"text\":[\"Ir_Fe_N_din6_as_c2_12\",\"Ir_Fe_N_din6_as_c3_165\",\"Ir_Fe_N_din6_as_c4_3456\",\"Ir_Fe_N_din6_s_c2_02\",\"Ir_Fe_N_din6_s_c2_01\",\"Ir_Fe_N_din6_as_c3_125\",\"Ir_Fe_N_din6_as_c2_13\",\"Ir_Fe_N_din6_as_c3_346\",\"Ir_Fe_N_din6_s_c2_15\",\"Ir_Fe_N_din6_s_c4_0123\",\"Ir_Fe_N_din6_as_c1_3\"],\"x\":[-1.763198749999983,-1.694198750000023,-2.353198750000015,1.0888012499999924,0.7778012499999569,-3.1741987500000413,-1.7571987500000112,-1.5871987499999385,0.500801250000027,-1.837198750000052,-1.083198750000033],\"y\":[-1.8453054412429912,-2.0581586421645808,-2.449308961927765,0.543920632778222,0.34845895571527846,-3.119513887164617,-1.8012333763614252,-1.788007355486156,0.4699942839295058,-1.4030130352155035,-1.155061469578702],\"type\":\"scatter\"},{\"hoverinfo\":\"text+x+y\",\"legendgroup\":\"Ni\",\"marker\":{\"color\":\"rgba(28,144,153,1)\",\"line\":{\"color\":\"black\",\"width\":1},\"opacity\":1,\"size\":12,\"symbol\":0},\"mode\":\"markers\",\"name\":\"Ni\",\"showlegend\":false,\"text\":[\"Ni_Fe_N_din6_as_c3_236\",\"Ni_Fe_N_din6_as_c2_26\",\"Ni_Fe_N_din6_as_c5_12345\",\"Ni_Fe_C_din6_as_c6\",\"Ni_Fe_N_din6_as_c2_25\",\"Ni_Fe_N_din6_as_c2_35\"],\"x\":[-4.1464937499999905,-3.401493749999986,-4.389493749999929,-3.7754937500000096,-4.029493749999915,-3.1634937499999296],\"y\":[-3.826089108283766,-2.9876971732391695,-3.781081339070829,-3.242802546196031,-3.4095944811159673,-2.9870565482391696],\"type\":\"scatter\"},{\"hoverinfo\":\"text+x+y\",\"legendgroup\":\"Os\",\"marker\":{\"color\":\"rgba(28,144,153,1)\",\"line\":{\"color\":\"black\",\"width\":1},\"opacity\":1,\"size\":12,\"symbol\":0},\"mode\":\"markers\",\"name\":\"Os\",\"showlegend\":false,\"text\":[\"Os_Fe_N_din6_as_c2_15\",\"Os_Fe_N_din6_as_c2_35\",\"Os_Fe_N_din6_as_c2_23\",\"Os_Fe_N_din6_as_c3_235\"],\"x\":[-1.114904500000069,-1.325904499999968,-1.15290450000008,-2.4309044999999863],\"y\":[-1.332753072194116,-1.3993092950115305,-1.6415904859041637,-2.4428535370330713],\"type\":\"scatter\"},{\"hoverinfo\":\"text+x+y\",\"legendgroup\":\"Pd\",\"marker\":{\"color\":\"rgba(28,144,153,1)\",\"line\":{\"color\":\"black\",\"width\":1},\"opacity\":1,\"size\":12,\"symbol\":0},\"mode\":\"markers\",\"name\":\"Pd\",\"showlegend\":false,\"text\":[\"Pd_Fe_N_din6_s_c2_02\",\"Pd_Fe_N_din6_as_c3_346\",\"Pd_Fe_N_din6_as_c2_35\",\"Pd_Fe_N_din6_s_c4_0124\",\"Pd_Fe_N_din6_as_c2_13\",\"Pd_Fe_N_din6_s_c3_013\",\"Pd_Fe_N_din6_as_c3_235\",\"Pd_Fe_N_din6_as_c2_26\",\"Pd_Fe_N_din6_as_c3_163\"],\"x\":[0.1992207499999683,-2.2327792499999344,-2.7917792499999035,-1.9507792499998953,-2.295779250000036,-1.382779250000025,-4.049779249999942,-2.5807792500000044,-2.0807792500000044],\"y\":[-0.10042491102758945,-2.435609612920961,-2.7079313859204164,-2.3922664373459743,-2.479158805869142,-1.2555273309432256,-3.984752386255204,-2.7079313859204164,-2.4264393688454393],\"type\":\"scatter\"},{\"hoverinfo\":\"text+x+y\",\"legendgroup\":\"Pt\",\"marker\":{\"color\":\"rgba(28,144,153,1)\",\"line\":{\"color\":\"black\",\"width\":1},\"opacity\":1,\"size\":12,\"symbol\":0},\"mode\":\"markers\",\"name\":\"Pt\",\"showlegend\":false,\"text\":[\"Pt_Fe_N_din6_as_c3_236\",\"Pt_Fe_N_din6_as_c4_6124\",\"Pt_Fe_N_din6_as_c2_14\",\"Pt_Fe_N_din6_as_c2_35\",\"Pt_Fe_N_din6_as_c4_2456\",\"Pt_Fe_N_din6_as_c0\",\"Pt_Fe_N_din6_s_c3_024\",\"Pt_Fe_N_din6_s_c4_0123\",\"Pt_Fe_N_din6_as_c3_124\"],\"x\":[-3.859764000000004,-2.780763999999939,-2.322763999999969,-2.9237639999999683,-3.938763999999954,-0.8467639999999701,-0.9287639999999636,-1.7837640000000956,-3.2297640000000083],\"y\":[-3.6694247924710535,-2.6972908466702075,-1.8152757713663201,-2.6218120718977826,-3.1053097039674107,-1.1601560524175485,-0.9718963743354673,-2.1086175272670054,-2.732502130136957],\"type\":\"scatter\"},{\"hoverinfo\":\"text+x+y\",\"legendgroup\":\"Rh\",\"marker\":{\"color\":\"rgba(28,144,153,1)\",\"line\":{\"color\":\"black\",\"width\":1},\"opacity\":1,\"size\":12,\"symbol\":0},\"mode\":\"markers\",\"name\":\"Rh\",\"showlegend\":false,\"text\":[\"Rh_Fe_N_din6_as_c2_12\",\"Rh_Fe_N_din6_s_c3_024\",\"Rh_Fe_N_din6_as_c4_3216\"],\"x\":[-2.257460499999951,-1.015460499999989,-2.501460499999979],\"y\":[-2.257437173608306,-0.8499834168774795,-2.6438608802070567],\"type\":\"scatter\"},{\"hoverinfo\":\"text+x+y\",\"legendgroup\":\"Ru\",\"marker\":{\"color\":\"rgba(28,144,153,1)\",\"line\":{\"color\":\"black\",\"width\":1},\"opacity\":1,\"size\":12,\"symbol\":0},\"mode\":\"markers\",\"name\":\"Ru\",\"showlegend\":false,\"text\":[\"Ru_Fe_N_din6_as_c2_24\",\"Ru_Fe_N_din6_s_c4_0123\",\"Ru_Fe_N_din6_as_c1_3\",\"Ru_Fe_N_din6_as_c5_12346\"],\"x\":[-1.7278159999999687,-0.962816000000096,-0.7888160000000042,-1.5538159999999903],\"y\":[-1.673042346931195,-1.482534238972744,-0.7693667353894971,-1.5895109951331874],\"type\":\"scatter\"},{\"hoverinfo\":\"text+x+y\",\"legendgroup\":\"Zn\",\"marker\":{\"color\":\"rgba(28,144,153,1)\",\"line\":{\"color\":\"black\",\"width\":1},\"opacity\":1,\"size\":12,\"symbol\":0},\"mode\":\"markers\",\"name\":\"Zn\",\"showlegend\":false,\"text\":[\"Zn_Fe_N_din6_s_c4_0134\",\"Zn_Fe_N_din6_as_c2_23\",\"Zn_Fe_N_din6_as_c3_346\",\"Zn_Fe_N_din6_s_c1\"],\"x\":[-3.220038349999994,-3.3820383500000286,-1.7150383499999986,-0.2970383500001059],\"y\":[-2.849890245606812,-3.4759990990597296,-2.6364216353205996,-0.580834544041444],\"type\":\"scatter\"},{\"hoverinfo\":\"skip\",\"line\":{\"color\":\"black\",\"dash\":\"dash\",\"width\":2},\"mode\":\"lines\",\"showlegend\":false,\"x\":[-8.378962943750038,3.3275646937499004],\"y\":[-8.378962943750038,3.3275646937499004],\"type\":\"scatter\"}],                        {\"template\":{\"data\":{\"histogram2dcontour\":[{\"type\":\"histogram2dcontour\",\"colorbar\":{\"outlinewidth\":0,\"ticks\":\"\"},\"colorscale\":[[0.0,\"#0d0887\"],[0.1111111111111111,\"#46039f\"],[0.2222222222222222,\"#7201a8\"],[0.3333333333333333,\"#9c179e\"],[0.4444444444444444,\"#bd3786\"],[0.5555555555555556,\"#d8576b\"],[0.6666666666666666,\"#ed7953\"],[0.7777777777777778,\"#fb9f3a\"],[0.8888888888888888,\"#fdca26\"],[1.0,\"#f0f921\"]]}],\"choropleth\":[{\"type\":\"choropleth\",\"colorbar\":{\"outlinewidth\":0,\"ticks\":\"\"}}],\"histogram2d\":[{\"type\":\"histogram2d\",\"colorbar\":{\"outlinewidth\":0,\"ticks\":\"\"},\"colorscale\":[[0.0,\"#0d0887\"],[0.1111111111111111,\"#46039f\"],[0.2222222222222222,\"#7201a8\"],[0.3333333333333333,\"#9c179e\"],[0.4444444444444444,\"#bd3786\"],[0.5555555555555556,\"#d8576b\"],[0.6666666666666666,\"#ed7953\"],[0.7777777777777778,\"#fb9f3a\"],[0.8888888888888888,\"#fdca26\"],[1.0,\"#f0f921\"]]}],\"heatmap\":[{\"type\":\"heatmap\",\"colorbar\":{\"outlinewidth\":0,\"ticks\":\"\"},\"colorscale\":[[0.0,\"#0d0887\"],[0.1111111111111111,\"#46039f\"],[0.2222222222222222,\"#7201a8\"],[0.3333333333333333,\"#9c179e\"],[0.4444444444444444,\"#bd3786\"],[0.5555555555555556,\"#d8576b\"],[0.6666666666666666,\"#ed7953\"],[0.7777777777777778,\"#fb9f3a\"],[0.8888888888888888,\"#fdca26\"],[1.0,\"#f0f921\"]]}],\"heatmapgl\":[{\"type\":\"heatmapgl\",\"colorbar\":{\"outlinewidth\":0,\"ticks\":\"\"},\"colorscale\":[[0.0,\"#0d0887\"],[0.1111111111111111,\"#46039f\"],[0.2222222222222222,\"#7201a8\"],[0.3333333333333333,\"#9c179e\"],[0.4444444444444444,\"#bd3786\"],[0.5555555555555556,\"#d8576b\"],[0.6666666666666666,\"#ed7953\"],[0.7777777777777778,\"#fb9f3a\"],[0.8888888888888888,\"#fdca26\"],[1.0,\"#f0f921\"]]}],\"contourcarpet\":[{\"type\":\"contourcarpet\",\"colorbar\":{\"outlinewidth\":0,\"ticks\":\"\"}}],\"contour\":[{\"type\":\"contour\",\"colorbar\":{\"outlinewidth\":0,\"ticks\":\"\"},\"colorscale\":[[0.0,\"#0d0887\"],[0.1111111111111111,\"#46039f\"],[0.2222222222222222,\"#7201a8\"],[0.3333333333333333,\"#9c179e\"],[0.4444444444444444,\"#bd3786\"],[0.5555555555555556,\"#d8576b\"],[0.6666666666666666,\"#ed7953\"],[0.7777777777777778,\"#fb9f3a\"],[0.8888888888888888,\"#fdca26\"],[1.0,\"#f0f921\"]]}],\"surface\":[{\"type\":\"surface\",\"colorbar\":{\"outlinewidth\":0,\"ticks\":\"\"},\"colorscale\":[[0.0,\"#0d0887\"],[0.1111111111111111,\"#46039f\"],[0.2222222222222222,\"#7201a8\"],[0.3333333333333333,\"#9c179e\"],[0.4444444444444444,\"#bd3786\"],[0.5555555555555556,\"#d8576b\"],[0.6666666666666666,\"#ed7953\"],[0.7777777777777778,\"#fb9f3a\"],[0.8888888888888888,\"#fdca26\"],[1.0,\"#f0f921\"]]}],\"mesh3d\":[{\"type\":\"mesh3d\",\"colorbar\":{\"outlinewidth\":0,\"ticks\":\"\"}}],\"scatter\":[{\"fillpattern\":{\"fillmode\":\"overlay\",\"size\":10,\"solidity\":0.2},\"type\":\"scatter\"}],\"parcoords\":[{\"type\":\"parcoords\",\"line\":{\"colorbar\":{\"outlinewidth\":0,\"ticks\":\"\"}}}],\"scatterpolargl\":[{\"type\":\"scatterpolargl\",\"marker\":{\"colorbar\":{\"outlinewidth\":0,\"ticks\":\"\"}}}],\"bar\":[{\"error_x\":{\"color\":\"#2a3f5f\"},\"error_y\":{\"color\":\"#2a3f5f\"},\"marker\":{\"line\":{\"color\":\"#E5ECF6\",\"width\":0.5},\"pattern\":{\"fillmode\":\"overlay\",\"size\":10,\"solidity\":0.2}},\"type\":\"bar\"}],\"scattergeo\":[{\"type\":\"scattergeo\",\"marker\":{\"colorbar\":{\"outlinewidth\":0,\"ticks\":\"\"}}}],\"scatterpolar\":[{\"type\":\"scatterpolar\",\"marker\":{\"colorbar\":{\"outlinewidth\":0,\"ticks\":\"\"}}}],\"histogram\":[{\"marker\":{\"pattern\":{\"fillmode\":\"overlay\",\"size\":10,\"solidity\":0.2}},\"type\":\"histogram\"}],\"scattergl\":[{\"type\":\"scattergl\",\"marker\":{\"colorbar\":{\"outlinewidth\":0,\"ticks\":\"\"}}}],\"scatter3d\":[{\"type\":\"scatter3d\",\"line\":{\"colorbar\":{\"outlinewidth\":0,\"ticks\":\"\"}},\"marker\":{\"colorbar\":{\"outlinewidth\":0,\"ticks\":\"\"}}}],\"scattermapbox\":[{\"type\":\"scattermapbox\",\"marker\":{\"colorbar\":{\"outlinewidth\":0,\"ticks\":\"\"}}}],\"scatterternary\":[{\"type\":\"scatterternary\",\"marker\":{\"colorbar\":{\"outlinewidth\":0,\"ticks\":\"\"}}}],\"scattercarpet\":[{\"type\":\"scattercarpet\",\"marker\":{\"colorbar\":{\"outlinewidth\":0,\"ticks\":\"\"}}}],\"carpet\":[{\"aaxis\":{\"endlinecolor\":\"#2a3f5f\",\"gridcolor\":\"white\",\"linecolor\":\"white\",\"minorgridcolor\":\"white\",\"startlinecolor\":\"#2a3f5f\"},\"baxis\":{\"endlinecolor\":\"#2a3f5f\",\"gridcolor\":\"white\",\"linecolor\":\"white\",\"minorgridcolor\":\"white\",\"startlinecolor\":\"#2a3f5f\"},\"type\":\"carpet\"}],\"table\":[{\"cells\":{\"fill\":{\"color\":\"#EBF0F8\"},\"line\":{\"color\":\"white\"}},\"header\":{\"fill\":{\"color\":\"#C8D4E3\"},\"line\":{\"color\":\"white\"}},\"type\":\"table\"}],\"barpolar\":[{\"marker\":{\"line\":{\"color\":\"#E5ECF6\",\"width\":0.5},\"pattern\":{\"fillmode\":\"overlay\",\"size\":10,\"solidity\":0.2}},\"type\":\"barpolar\"}],\"pie\":[{\"automargin\":true,\"type\":\"pie\"}]},\"layout\":{\"autotypenumbers\":\"strict\",\"colorway\":[\"#636efa\",\"#EF553B\",\"#00cc96\",\"#ab63fa\",\"#FFA15A\",\"#19d3f3\",\"#FF6692\",\"#B6E880\",\"#FF97FF\",\"#FECB52\"],\"font\":{\"color\":\"#2a3f5f\"},\"hovermode\":\"closest\",\"hoverlabel\":{\"align\":\"left\"},\"paper_bgcolor\":\"white\",\"plot_bgcolor\":\"#E5ECF6\",\"polar\":{\"bgcolor\":\"#E5ECF6\",\"angularaxis\":{\"gridcolor\":\"white\",\"linecolor\":\"white\",\"ticks\":\"\"},\"radialaxis\":{\"gridcolor\":\"white\",\"linecolor\":\"white\",\"ticks\":\"\"}},\"ternary\":{\"bgcolor\":\"#E5ECF6\",\"aaxis\":{\"gridcolor\":\"white\",\"linecolor\":\"white\",\"ticks\":\"\"},\"baxis\":{\"gridcolor\":\"white\",\"linecolor\":\"white\",\"ticks\":\"\"},\"caxis\":{\"gridcolor\":\"white\",\"linecolor\":\"white\",\"ticks\":\"\"}},\"coloraxis\":{\"colorbar\":{\"outlinewidth\":0,\"ticks\":\"\"}},\"colorscale\":{\"sequential\":[[0.0,\"#0d0887\"],[0.1111111111111111,\"#46039f\"],[0.2222222222222222,\"#7201a8\"],[0.3333333333333333,\"#9c179e\"],[0.4444444444444444,\"#bd3786\"],[0.5555555555555556,\"#d8576b\"],[0.6666666666666666,\"#ed7953\"],[0.7777777777777778,\"#fb9f3a\"],[0.8888888888888888,\"#fdca26\"],[1.0,\"#f0f921\"]],\"sequentialminus\":[[0.0,\"#0d0887\"],[0.1111111111111111,\"#46039f\"],[0.2222222222222222,\"#7201a8\"],[0.3333333333333333,\"#9c179e\"],[0.4444444444444444,\"#bd3786\"],[0.5555555555555556,\"#d8576b\"],[0.6666666666666666,\"#ed7953\"],[0.7777777777777778,\"#fb9f3a\"],[0.8888888888888888,\"#fdca26\"],[1.0,\"#f0f921\"]],\"diverging\":[[0,\"#8e0152\"],[0.1,\"#c51b7d\"],[0.2,\"#de77ae\"],[0.3,\"#f1b6da\"],[0.4,\"#fde0ef\"],[0.5,\"#f7f7f7\"],[0.6,\"#e6f5d0\"],[0.7,\"#b8e186\"],[0.8,\"#7fbc41\"],[0.9,\"#4d9221\"],[1,\"#276419\"]]},\"xaxis\":{\"gridcolor\":\"white\",\"linecolor\":\"white\",\"ticks\":\"\",\"title\":{\"standoff\":15},\"zerolinecolor\":\"white\",\"automargin\":true,\"zerolinewidth\":2},\"yaxis\":{\"gridcolor\":\"white\",\"linecolor\":\"white\",\"ticks\":\"\",\"title\":{\"standoff\":15},\"zerolinecolor\":\"white\",\"automargin\":true,\"zerolinewidth\":2},\"scene\":{\"xaxis\":{\"backgroundcolor\":\"#E5ECF6\",\"gridcolor\":\"white\",\"linecolor\":\"white\",\"showbackground\":true,\"ticks\":\"\",\"zerolinecolor\":\"white\",\"gridwidth\":2},\"yaxis\":{\"backgroundcolor\":\"#E5ECF6\",\"gridcolor\":\"white\",\"linecolor\":\"white\",\"showbackground\":true,\"ticks\":\"\",\"zerolinecolor\":\"white\",\"gridwidth\":2},\"zaxis\":{\"backgroundcolor\":\"#E5ECF6\",\"gridcolor\":\"white\",\"linecolor\":\"white\",\"showbackground\":true,\"ticks\":\"\",\"zerolinecolor\":\"white\",\"gridwidth\":2}},\"shapedefaults\":{\"line\":{\"color\":\"#2a3f5f\"}},\"annotationdefaults\":{\"arrowcolor\":\"#2a3f5f\",\"arrowhead\":0,\"arrowwidth\":1},\"geo\":{\"bgcolor\":\"white\",\"landcolor\":\"#E5ECF6\",\"subunitcolor\":\"white\",\"showland\":true,\"showlakes\":true,\"lakecolor\":\"white\"},\"title\":{\"x\":0.05},\"mapbox\":{\"style\":\"light\"}}},\"annotations\":[{\"align\":\"left\",\"bgcolor\":\"rgba(0,0,0,0.1)\",\"font\":{\"family\":\"Arial\",\"size\":26},\"showarrow\":false,\"text\":\"Train:\\u003cbr\\u003eR\\u003csup\\u003e2\\u003c\\u002fsup\\u003e = 0.9724 &#177; 0.0012\\u003cbr\\u003eRMSE = 0.2651 &#177; 0.0018\\u003cbr\\u003eMAE = 0.2073 &#177; 0.0015\\u003cbr\\u003eTest:\\u003cbr\\u003eR\\u003csup\\u003e2\\u003c\\u002fsup\\u003e = 0.8980 &#177; 0.0218\\u003cbr\\u003eRMSE = 0.4305 &#177; 0.0806\\u003cbr\\u003eMAE = 0.3358 &#177; 0.0587\",\"x\":0,\"xanchor\":\"left\",\"xref\":\"paper\",\"y\":1,\"yanchor\":\"top\",\"yref\":\"paper\"}],\"font\":{\"color\":\"black\",\"family\":\"Arial\",\"size\":26},\"hoverlabel\":{\"namelength\":-1},\"legend\":{\"font\":{\"size\":26},\"bgcolor\":\"rgba(0,0,0,0.1)\",\"tracegroupgap\":2,\"x\":1,\"xanchor\":\"right\",\"y\":0,\"yanchor\":\"bottom\"},\"margin\":{\"b\":0,\"l\":0,\"r\":0,\"t\":0},\"xaxis\":{\"title\":{\"font\":{\"size\":30},\"text\":\"E\\u003csub\\u003eDFT\\u003c\\u002fsub\\u003e \\u002f eV\"},\"tickfont\":{\"size\":26},\"linecolor\":\"black\",\"linewidth\":3,\"mirror\":true,\"showgrid\":false,\"showline\":true,\"tickformat\":\".1f\",\"ticklen\":6,\"ticks\":\"outside\",\"tickwidth\":3,\"zeroline\":false,\"range\":[-8.378962943750038,3.3275646937499004]},\"yaxis\":{\"title\":{\"font\":{\"size\":30},\"text\":\"E\\u003csub\\u003epred\\u003c\\u002fsub\\u003e \\u002f eV\"},\"tickfont\":{\"size\":26},\"linecolor\":\"black\",\"linewidth\":3,\"mirror\":true,\"showgrid\":false,\"showline\":true,\"tickformat\":\".1f\",\"ticklen\":6,\"ticks\":\"outside\",\"tickwidth\":3,\"zeroline\":false,\"range\":[-8.378962943750038,3.3275646937499004]},\"height\":600,\"paper_bgcolor\":\"white\",\"plot_bgcolor\":\"white\",\"width\":600},                        {\"responsive\": true}                    ).then(function(){\n",
       "                            \n",
       "var gd = document.getElementById('8f76fce2-bbac-4ed7-8cbe-2cd4e14bc1d8');\n",
       "var x = new MutationObserver(function (mutations, observer) {{\n",
       "        var display = window.getComputedStyle(gd).display;\n",
       "        if (!display || display === 'none') {{\n",
       "            console.log([gd, 'removed!']);\n",
       "            Plotly.purge(gd);\n",
       "            observer.disconnect();\n",
       "        }}\n",
       "}});\n",
       "\n",
       "// Listen for the removal of the full notebook cells\n",
       "var notebookContainer = gd.closest('#notebook-container');\n",
       "if (notebookContainer) {{\n",
       "    x.observe(notebookContainer, {childList: true});\n",
       "}}\n",
       "\n",
       "// Listen for the clearing of the current output cell\n",
       "var outputEl = gd.closest('.output');\n",
       "if (outputEl) {{\n",
       "    x.observe(outputEl, {childList: true});\n",
       "}}\n",
       "\n",
       "                        })                };                });            </script>        </div>"
      ]
     },
     "metadata": {},
     "output_type": "display_data"
    }
   ],
   "source": [
    "#K-Fold\n",
    "\n",
    "#%%capture\n",
    "figs = evaluate_features_rf(df_in=Edft_balanced_df_kfold, feature_sets=trial_feature_sets,rf_dict=rf_dict,\n",
    "    target=target)\n",
    "for fig in figs:\n",
    "#     pio.write_image(fig, '../../../data/figures/rfr_results/rfr_selected_features.svg', format='svg')\n",
    "#     pio.write_image(fig, '../../../data/figures/rfr_results/rfr_selected_features.png', format='png',scale = 3)\n",
    "#     pio.write_image(fig, '../../../data/figures/rfr_results/rfr_selected_features.pdf', format='pdf')\n",
    "      fig.show()\n",
    "\n"
   ]
  },
  {
   "cell_type": "markdown",
   "metadata": {},
   "source": [
    "### RFR with Dual-Metal LOGOCV"
   ]
  },
  {
   "cell_type": "code",
   "execution_count": 8,
   "metadata": {},
   "outputs": [],
   "source": [
    "# #Dual Metal LOGOCV\n",
    "\n",
    "# #%%capture\n",
    "# figs = evaluate_features_rf(df_in=Edft_balanced_df_logocv_metal, feature_sets=trial_feature_sets, rf_dict=rf_dict,\n",
    "#      target=target)\n",
    "# for fig in figs:\n",
    "#     # pio.write_image(fig, '../../../data/figures/rfr_results/rfr_metal_logocv.svg', format='svg')\n",
    "#     # pio.write_image(fig, '../../../data/figures/rfr_results/rfr_metal_logocv.png', format='png',scale = 3)\n",
    "#     # pio.write_image(fig, '../../../data/figures/rfr_results/rfr_metal_logocv.pdf', format='pdf')\n",
    "#     fig.show()\n",
    "\n"
   ]
  },
  {
   "cell_type": "markdown",
   "metadata": {},
   "source": [
    "### RFR with Cavity LOGOCV"
   ]
  },
  {
   "cell_type": "code",
   "execution_count": 9,
   "metadata": {},
   "outputs": [],
   "source": [
    "# #Dual Metal LOGOCV\n",
    "\n",
    "# #%%capture\n",
    "# figs = evaluate_features_rf(df_in=Edft_balanced_df_logocv_cavity, feature_sets=trial_feature_sets, rf_dict=rf_dict,\n",
    "#      target=target)\n",
    "# for fig in figs:\n",
    "#     # pio.write_image(fig, '../../../data/figures/rfr_results/rfr_cavity_logocv.svg', format='svg')\n",
    "#     # pio.write_image(fig, '../../../data/figures/rfr_results/rfr_cavity_logocv.png', format='png',scale = 3)\n",
    "#     # pio.write_image(fig, '../../../dacs_ml/data/figures/rfr_results/rfr_cavity_logocv.pdf', format='pdf')\n",
    "#     fig.show()\n",
    "\n"
   ]
  },
  {
   "cell_type": "markdown",
   "metadata": {},
   "source": [
    "## Hyperparameter Tuning for RFR"
   ]
  },
  {
   "cell_type": "markdown",
   "metadata": {},
   "source": [
    "This code performs hyperparameter tuning for a `RandomForestRegressor` by varying the `max_depth`. It evaluates model performance using selected features and returns an error plot showing training and test errors. "
   ]
  },
  {
   "cell_type": "code",
   "execution_count": 10,
   "metadata": {},
   "outputs": [
    {
     "name": "stderr",
     "output_type": "stream",
     "text": [
      "  0%|          | 0/8 [00:00<?, ?it/s]/Users/mariaminotaki/miniconda3/envs/bms/lib/python3.10/site-packages/sklearn/metrics/_regression.py:492: FutureWarning:\n",
      "\n",
      "'squared' is deprecated in version 1.4 and will be removed in 1.6. To calculate the root mean squared error, use the function'root_mean_squared_error'.\n",
      "\n",
      "/Users/mariaminotaki/miniconda3/envs/bms/lib/python3.10/site-packages/sklearn/metrics/_regression.py:492: FutureWarning:\n",
      "\n",
      "'squared' is deprecated in version 1.4 and will be removed in 1.6. To calculate the root mean squared error, use the function'root_mean_squared_error'.\n",
      "\n",
      "/Users/mariaminotaki/miniconda3/envs/bms/lib/python3.10/site-packages/sklearn/metrics/_regression.py:492: FutureWarning:\n",
      "\n",
      "'squared' is deprecated in version 1.4 and will be removed in 1.6. To calculate the root mean squared error, use the function'root_mean_squared_error'.\n",
      "\n",
      "/Users/mariaminotaki/miniconda3/envs/bms/lib/python3.10/site-packages/sklearn/metrics/_regression.py:492: FutureWarning:\n",
      "\n",
      "'squared' is deprecated in version 1.4 and will be removed in 1.6. To calculate the root mean squared error, use the function'root_mean_squared_error'.\n",
      "\n",
      "/Users/mariaminotaki/miniconda3/envs/bms/lib/python3.10/site-packages/sklearn/metrics/_regression.py:492: FutureWarning:\n",
      "\n",
      "'squared' is deprecated in version 1.4 and will be removed in 1.6. To calculate the root mean squared error, use the function'root_mean_squared_error'.\n",
      "\n",
      "/Users/mariaminotaki/miniconda3/envs/bms/lib/python3.10/site-packages/sklearn/metrics/_regression.py:492: FutureWarning:\n",
      "\n",
      "'squared' is deprecated in version 1.4 and will be removed in 1.6. To calculate the root mean squared error, use the function'root_mean_squared_error'.\n",
      "\n",
      "/Users/mariaminotaki/miniconda3/envs/bms/lib/python3.10/site-packages/sklearn/metrics/_regression.py:492: FutureWarning:\n",
      "\n",
      "'squared' is deprecated in version 1.4 and will be removed in 1.6. To calculate the root mean squared error, use the function'root_mean_squared_error'.\n",
      "\n",
      "/Users/mariaminotaki/miniconda3/envs/bms/lib/python3.10/site-packages/sklearn/metrics/_regression.py:492: FutureWarning:\n",
      "\n",
      "'squared' is deprecated in version 1.4 and will be removed in 1.6. To calculate the root mean squared error, use the function'root_mean_squared_error'.\n",
      "\n",
      "/Users/mariaminotaki/miniconda3/envs/bms/lib/python3.10/site-packages/sklearn/metrics/_regression.py:492: FutureWarning:\n",
      "\n",
      "'squared' is deprecated in version 1.4 and will be removed in 1.6. To calculate the root mean squared error, use the function'root_mean_squared_error'.\n",
      "\n",
      "/Users/mariaminotaki/miniconda3/envs/bms/lib/python3.10/site-packages/sklearn/metrics/_regression.py:492: FutureWarning:\n",
      "\n",
      "'squared' is deprecated in version 1.4 and will be removed in 1.6. To calculate the root mean squared error, use the function'root_mean_squared_error'.\n",
      "\n",
      "/Users/mariaminotaki/miniconda3/envs/bms/lib/python3.10/site-packages/sklearn/metrics/_regression.py:492: FutureWarning:\n",
      "\n",
      "'squared' is deprecated in version 1.4 and will be removed in 1.6. To calculate the root mean squared error, use the function'root_mean_squared_error'.\n",
      "\n",
      "/Users/mariaminotaki/miniconda3/envs/bms/lib/python3.10/site-packages/sklearn/metrics/_regression.py:492: FutureWarning:\n",
      "\n",
      "'squared' is deprecated in version 1.4 and will be removed in 1.6. To calculate the root mean squared error, use the function'root_mean_squared_error'.\n",
      "\n",
      "/Users/mariaminotaki/miniconda3/envs/bms/lib/python3.10/site-packages/sklearn/metrics/_regression.py:492: FutureWarning:\n",
      "\n",
      "'squared' is deprecated in version 1.4 and will be removed in 1.6. To calculate the root mean squared error, use the function'root_mean_squared_error'.\n",
      "\n",
      "/Users/mariaminotaki/miniconda3/envs/bms/lib/python3.10/site-packages/sklearn/metrics/_regression.py:492: FutureWarning:\n",
      "\n",
      "'squared' is deprecated in version 1.4 and will be removed in 1.6. To calculate the root mean squared error, use the function'root_mean_squared_error'.\n",
      "\n",
      "/Users/mariaminotaki/miniconda3/envs/bms/lib/python3.10/site-packages/sklearn/metrics/_regression.py:492: FutureWarning:\n",
      "\n",
      "'squared' is deprecated in version 1.4 and will be removed in 1.6. To calculate the root mean squared error, use the function'root_mean_squared_error'.\n",
      "\n",
      "/Users/mariaminotaki/miniconda3/envs/bms/lib/python3.10/site-packages/sklearn/metrics/_regression.py:492: FutureWarning:\n",
      "\n",
      "'squared' is deprecated in version 1.4 and will be removed in 1.6. To calculate the root mean squared error, use the function'root_mean_squared_error'.\n",
      "\n",
      "/Users/mariaminotaki/miniconda3/envs/bms/lib/python3.10/site-packages/sklearn/metrics/_regression.py:492: FutureWarning:\n",
      "\n",
      "'squared' is deprecated in version 1.4 and will be removed in 1.6. To calculate the root mean squared error, use the function'root_mean_squared_error'.\n",
      "\n",
      "/Users/mariaminotaki/miniconda3/envs/bms/lib/python3.10/site-packages/sklearn/metrics/_regression.py:492: FutureWarning:\n",
      "\n",
      "'squared' is deprecated in version 1.4 and will be removed in 1.6. To calculate the root mean squared error, use the function'root_mean_squared_error'.\n",
      "\n",
      "/Users/mariaminotaki/miniconda3/envs/bms/lib/python3.10/site-packages/sklearn/metrics/_regression.py:492: FutureWarning:\n",
      "\n",
      "'squared' is deprecated in version 1.4 and will be removed in 1.6. To calculate the root mean squared error, use the function'root_mean_squared_error'.\n",
      "\n",
      "/Users/mariaminotaki/miniconda3/envs/bms/lib/python3.10/site-packages/sklearn/metrics/_regression.py:492: FutureWarning:\n",
      "\n",
      "'squared' is deprecated in version 1.4 and will be removed in 1.6. To calculate the root mean squared error, use the function'root_mean_squared_error'.\n",
      "\n",
      "/Users/mariaminotaki/miniconda3/envs/bms/lib/python3.10/site-packages/sklearn/metrics/_regression.py:492: FutureWarning:\n",
      "\n",
      "'squared' is deprecated in version 1.4 and will be removed in 1.6. To calculate the root mean squared error, use the function'root_mean_squared_error'.\n",
      "\n",
      "/Users/mariaminotaki/miniconda3/envs/bms/lib/python3.10/site-packages/sklearn/metrics/_regression.py:492: FutureWarning:\n",
      "\n",
      "'squared' is deprecated in version 1.4 and will be removed in 1.6. To calculate the root mean squared error, use the function'root_mean_squared_error'.\n",
      "\n",
      "/Users/mariaminotaki/miniconda3/envs/bms/lib/python3.10/site-packages/sklearn/metrics/_regression.py:492: FutureWarning:\n",
      "\n",
      "'squared' is deprecated in version 1.4 and will be removed in 1.6. To calculate the root mean squared error, use the function'root_mean_squared_error'.\n",
      "\n",
      "/Users/mariaminotaki/miniconda3/envs/bms/lib/python3.10/site-packages/sklearn/metrics/_regression.py:492: FutureWarning:\n",
      "\n",
      "'squared' is deprecated in version 1.4 and will be removed in 1.6. To calculate the root mean squared error, use the function'root_mean_squared_error'.\n",
      "\n",
      "/Users/mariaminotaki/miniconda3/envs/bms/lib/python3.10/site-packages/sklearn/metrics/_regression.py:492: FutureWarning:\n",
      "\n",
      "'squared' is deprecated in version 1.4 and will be removed in 1.6. To calculate the root mean squared error, use the function'root_mean_squared_error'.\n",
      "\n",
      "/Users/mariaminotaki/miniconda3/envs/bms/lib/python3.10/site-packages/sklearn/metrics/_regression.py:492: FutureWarning:\n",
      "\n",
      "'squared' is deprecated in version 1.4 and will be removed in 1.6. To calculate the root mean squared error, use the function'root_mean_squared_error'.\n",
      "\n",
      "/Users/mariaminotaki/miniconda3/envs/bms/lib/python3.10/site-packages/sklearn/metrics/_regression.py:492: FutureWarning:\n",
      "\n",
      "'squared' is deprecated in version 1.4 and will be removed in 1.6. To calculate the root mean squared error, use the function'root_mean_squared_error'.\n",
      "\n",
      "/Users/mariaminotaki/miniconda3/envs/bms/lib/python3.10/site-packages/sklearn/metrics/_regression.py:492: FutureWarning:\n",
      "\n",
      "'squared' is deprecated in version 1.4 and will be removed in 1.6. To calculate the root mean squared error, use the function'root_mean_squared_error'.\n",
      "\n",
      "/Users/mariaminotaki/miniconda3/envs/bms/lib/python3.10/site-packages/sklearn/metrics/_regression.py:492: FutureWarning:\n",
      "\n",
      "'squared' is deprecated in version 1.4 and will be removed in 1.6. To calculate the root mean squared error, use the function'root_mean_squared_error'.\n",
      "\n",
      "/Users/mariaminotaki/miniconda3/envs/bms/lib/python3.10/site-packages/sklearn/metrics/_regression.py:492: FutureWarning:\n",
      "\n",
      "'squared' is deprecated in version 1.4 and will be removed in 1.6. To calculate the root mean squared error, use the function'root_mean_squared_error'.\n",
      "\n",
      " 12%|█▎        | 1/8 [00:01<00:07,  1.10s/it]/Users/mariaminotaki/miniconda3/envs/bms/lib/python3.10/site-packages/sklearn/metrics/_regression.py:492: FutureWarning:\n",
      "\n",
      "'squared' is deprecated in version 1.4 and will be removed in 1.6. To calculate the root mean squared error, use the function'root_mean_squared_error'.\n",
      "\n",
      "/Users/mariaminotaki/miniconda3/envs/bms/lib/python3.10/site-packages/sklearn/metrics/_regression.py:492: FutureWarning:\n",
      "\n",
      "'squared' is deprecated in version 1.4 and will be removed in 1.6. To calculate the root mean squared error, use the function'root_mean_squared_error'.\n",
      "\n",
      "/Users/mariaminotaki/miniconda3/envs/bms/lib/python3.10/site-packages/sklearn/metrics/_regression.py:492: FutureWarning:\n",
      "\n",
      "'squared' is deprecated in version 1.4 and will be removed in 1.6. To calculate the root mean squared error, use the function'root_mean_squared_error'.\n",
      "\n",
      "/Users/mariaminotaki/miniconda3/envs/bms/lib/python3.10/site-packages/sklearn/metrics/_regression.py:492: FutureWarning:\n",
      "\n",
      "'squared' is deprecated in version 1.4 and will be removed in 1.6. To calculate the root mean squared error, use the function'root_mean_squared_error'.\n",
      "\n",
      "/Users/mariaminotaki/miniconda3/envs/bms/lib/python3.10/site-packages/sklearn/metrics/_regression.py:492: FutureWarning:\n",
      "\n",
      "'squared' is deprecated in version 1.4 and will be removed in 1.6. To calculate the root mean squared error, use the function'root_mean_squared_error'.\n",
      "\n",
      "/Users/mariaminotaki/miniconda3/envs/bms/lib/python3.10/site-packages/sklearn/metrics/_regression.py:492: FutureWarning:\n",
      "\n",
      "'squared' is deprecated in version 1.4 and will be removed in 1.6. To calculate the root mean squared error, use the function'root_mean_squared_error'.\n",
      "\n",
      "/Users/mariaminotaki/miniconda3/envs/bms/lib/python3.10/site-packages/sklearn/metrics/_regression.py:492: FutureWarning:\n",
      "\n",
      "'squared' is deprecated in version 1.4 and will be removed in 1.6. To calculate the root mean squared error, use the function'root_mean_squared_error'.\n",
      "\n",
      "/Users/mariaminotaki/miniconda3/envs/bms/lib/python3.10/site-packages/sklearn/metrics/_regression.py:492: FutureWarning:\n",
      "\n",
      "'squared' is deprecated in version 1.4 and will be removed in 1.6. To calculate the root mean squared error, use the function'root_mean_squared_error'.\n",
      "\n",
      "/Users/mariaminotaki/miniconda3/envs/bms/lib/python3.10/site-packages/sklearn/metrics/_regression.py:492: FutureWarning:\n",
      "\n",
      "'squared' is deprecated in version 1.4 and will be removed in 1.6. To calculate the root mean squared error, use the function'root_mean_squared_error'.\n",
      "\n",
      "/Users/mariaminotaki/miniconda3/envs/bms/lib/python3.10/site-packages/sklearn/metrics/_regression.py:492: FutureWarning:\n",
      "\n",
      "'squared' is deprecated in version 1.4 and will be removed in 1.6. To calculate the root mean squared error, use the function'root_mean_squared_error'.\n",
      "\n",
      "/Users/mariaminotaki/miniconda3/envs/bms/lib/python3.10/site-packages/sklearn/metrics/_regression.py:492: FutureWarning:\n",
      "\n",
      "'squared' is deprecated in version 1.4 and will be removed in 1.6. To calculate the root mean squared error, use the function'root_mean_squared_error'.\n",
      "\n",
      "/Users/mariaminotaki/miniconda3/envs/bms/lib/python3.10/site-packages/sklearn/metrics/_regression.py:492: FutureWarning:\n",
      "\n",
      "'squared' is deprecated in version 1.4 and will be removed in 1.6. To calculate the root mean squared error, use the function'root_mean_squared_error'.\n",
      "\n",
      "/Users/mariaminotaki/miniconda3/envs/bms/lib/python3.10/site-packages/sklearn/metrics/_regression.py:492: FutureWarning:\n",
      "\n",
      "'squared' is deprecated in version 1.4 and will be removed in 1.6. To calculate the root mean squared error, use the function'root_mean_squared_error'.\n",
      "\n",
      "/Users/mariaminotaki/miniconda3/envs/bms/lib/python3.10/site-packages/sklearn/metrics/_regression.py:492: FutureWarning:\n",
      "\n",
      "'squared' is deprecated in version 1.4 and will be removed in 1.6. To calculate the root mean squared error, use the function'root_mean_squared_error'.\n",
      "\n",
      "/Users/mariaminotaki/miniconda3/envs/bms/lib/python3.10/site-packages/sklearn/metrics/_regression.py:492: FutureWarning:\n",
      "\n",
      "'squared' is deprecated in version 1.4 and will be removed in 1.6. To calculate the root mean squared error, use the function'root_mean_squared_error'.\n",
      "\n",
      "/Users/mariaminotaki/miniconda3/envs/bms/lib/python3.10/site-packages/sklearn/metrics/_regression.py:492: FutureWarning:\n",
      "\n",
      "'squared' is deprecated in version 1.4 and will be removed in 1.6. To calculate the root mean squared error, use the function'root_mean_squared_error'.\n",
      "\n",
      "/Users/mariaminotaki/miniconda3/envs/bms/lib/python3.10/site-packages/sklearn/metrics/_regression.py:492: FutureWarning:\n",
      "\n",
      "'squared' is deprecated in version 1.4 and will be removed in 1.6. To calculate the root mean squared error, use the function'root_mean_squared_error'.\n",
      "\n",
      "/Users/mariaminotaki/miniconda3/envs/bms/lib/python3.10/site-packages/sklearn/metrics/_regression.py:492: FutureWarning:\n",
      "\n",
      "'squared' is deprecated in version 1.4 and will be removed in 1.6. To calculate the root mean squared error, use the function'root_mean_squared_error'.\n",
      "\n",
      "/Users/mariaminotaki/miniconda3/envs/bms/lib/python3.10/site-packages/sklearn/metrics/_regression.py:492: FutureWarning:\n",
      "\n",
      "'squared' is deprecated in version 1.4 and will be removed in 1.6. To calculate the root mean squared error, use the function'root_mean_squared_error'.\n",
      "\n",
      "/Users/mariaminotaki/miniconda3/envs/bms/lib/python3.10/site-packages/sklearn/metrics/_regression.py:492: FutureWarning:\n",
      "\n",
      "'squared' is deprecated in version 1.4 and will be removed in 1.6. To calculate the root mean squared error, use the function'root_mean_squared_error'.\n",
      "\n",
      "/Users/mariaminotaki/miniconda3/envs/bms/lib/python3.10/site-packages/sklearn/metrics/_regression.py:492: FutureWarning:\n",
      "\n",
      "'squared' is deprecated in version 1.4 and will be removed in 1.6. To calculate the root mean squared error, use the function'root_mean_squared_error'.\n",
      "\n",
      "/Users/mariaminotaki/miniconda3/envs/bms/lib/python3.10/site-packages/sklearn/metrics/_regression.py:492: FutureWarning:\n",
      "\n",
      "'squared' is deprecated in version 1.4 and will be removed in 1.6. To calculate the root mean squared error, use the function'root_mean_squared_error'.\n",
      "\n",
      "/Users/mariaminotaki/miniconda3/envs/bms/lib/python3.10/site-packages/sklearn/metrics/_regression.py:492: FutureWarning:\n",
      "\n",
      "'squared' is deprecated in version 1.4 and will be removed in 1.6. To calculate the root mean squared error, use the function'root_mean_squared_error'.\n",
      "\n",
      "/Users/mariaminotaki/miniconda3/envs/bms/lib/python3.10/site-packages/sklearn/metrics/_regression.py:492: FutureWarning:\n",
      "\n",
      "'squared' is deprecated in version 1.4 and will be removed in 1.6. To calculate the root mean squared error, use the function'root_mean_squared_error'.\n",
      "\n",
      "/Users/mariaminotaki/miniconda3/envs/bms/lib/python3.10/site-packages/sklearn/metrics/_regression.py:492: FutureWarning:\n",
      "\n",
      "'squared' is deprecated in version 1.4 and will be removed in 1.6. To calculate the root mean squared error, use the function'root_mean_squared_error'.\n",
      "\n",
      "/Users/mariaminotaki/miniconda3/envs/bms/lib/python3.10/site-packages/sklearn/metrics/_regression.py:492: FutureWarning:\n",
      "\n",
      "'squared' is deprecated in version 1.4 and will be removed in 1.6. To calculate the root mean squared error, use the function'root_mean_squared_error'.\n",
      "\n",
      "/Users/mariaminotaki/miniconda3/envs/bms/lib/python3.10/site-packages/sklearn/metrics/_regression.py:492: FutureWarning:\n",
      "\n",
      "'squared' is deprecated in version 1.4 and will be removed in 1.6. To calculate the root mean squared error, use the function'root_mean_squared_error'.\n",
      "\n",
      "/Users/mariaminotaki/miniconda3/envs/bms/lib/python3.10/site-packages/sklearn/metrics/_regression.py:492: FutureWarning:\n",
      "\n",
      "'squared' is deprecated in version 1.4 and will be removed in 1.6. To calculate the root mean squared error, use the function'root_mean_squared_error'.\n",
      "\n",
      "/Users/mariaminotaki/miniconda3/envs/bms/lib/python3.10/site-packages/sklearn/metrics/_regression.py:492: FutureWarning:\n",
      "\n",
      "'squared' is deprecated in version 1.4 and will be removed in 1.6. To calculate the root mean squared error, use the function'root_mean_squared_error'.\n",
      "\n",
      "/Users/mariaminotaki/miniconda3/envs/bms/lib/python3.10/site-packages/sklearn/metrics/_regression.py:492: FutureWarning:\n",
      "\n",
      "'squared' is deprecated in version 1.4 and will be removed in 1.6. To calculate the root mean squared error, use the function'root_mean_squared_error'.\n",
      "\n",
      " 25%|██▌       | 2/8 [00:02<00:06,  1.05s/it]/Users/mariaminotaki/miniconda3/envs/bms/lib/python3.10/site-packages/sklearn/metrics/_regression.py:492: FutureWarning:\n",
      "\n",
      "'squared' is deprecated in version 1.4 and will be removed in 1.6. To calculate the root mean squared error, use the function'root_mean_squared_error'.\n",
      "\n",
      "/Users/mariaminotaki/miniconda3/envs/bms/lib/python3.10/site-packages/sklearn/metrics/_regression.py:492: FutureWarning:\n",
      "\n",
      "'squared' is deprecated in version 1.4 and will be removed in 1.6. To calculate the root mean squared error, use the function'root_mean_squared_error'.\n",
      "\n",
      "/Users/mariaminotaki/miniconda3/envs/bms/lib/python3.10/site-packages/sklearn/metrics/_regression.py:492: FutureWarning:\n",
      "\n",
      "'squared' is deprecated in version 1.4 and will be removed in 1.6. To calculate the root mean squared error, use the function'root_mean_squared_error'.\n",
      "\n",
      "/Users/mariaminotaki/miniconda3/envs/bms/lib/python3.10/site-packages/sklearn/metrics/_regression.py:492: FutureWarning:\n",
      "\n",
      "'squared' is deprecated in version 1.4 and will be removed in 1.6. To calculate the root mean squared error, use the function'root_mean_squared_error'.\n",
      "\n",
      "/Users/mariaminotaki/miniconda3/envs/bms/lib/python3.10/site-packages/sklearn/metrics/_regression.py:492: FutureWarning:\n",
      "\n",
      "'squared' is deprecated in version 1.4 and will be removed in 1.6. To calculate the root mean squared error, use the function'root_mean_squared_error'.\n",
      "\n",
      "/Users/mariaminotaki/miniconda3/envs/bms/lib/python3.10/site-packages/sklearn/metrics/_regression.py:492: FutureWarning:\n",
      "\n",
      "'squared' is deprecated in version 1.4 and will be removed in 1.6. To calculate the root mean squared error, use the function'root_mean_squared_error'.\n",
      "\n",
      "/Users/mariaminotaki/miniconda3/envs/bms/lib/python3.10/site-packages/sklearn/metrics/_regression.py:492: FutureWarning:\n",
      "\n",
      "'squared' is deprecated in version 1.4 and will be removed in 1.6. To calculate the root mean squared error, use the function'root_mean_squared_error'.\n",
      "\n",
      "/Users/mariaminotaki/miniconda3/envs/bms/lib/python3.10/site-packages/sklearn/metrics/_regression.py:492: FutureWarning:\n",
      "\n",
      "'squared' is deprecated in version 1.4 and will be removed in 1.6. To calculate the root mean squared error, use the function'root_mean_squared_error'.\n",
      "\n",
      "/Users/mariaminotaki/miniconda3/envs/bms/lib/python3.10/site-packages/sklearn/metrics/_regression.py:492: FutureWarning:\n",
      "\n",
      "'squared' is deprecated in version 1.4 and will be removed in 1.6. To calculate the root mean squared error, use the function'root_mean_squared_error'.\n",
      "\n",
      "/Users/mariaminotaki/miniconda3/envs/bms/lib/python3.10/site-packages/sklearn/metrics/_regression.py:492: FutureWarning:\n",
      "\n",
      "'squared' is deprecated in version 1.4 and will be removed in 1.6. To calculate the root mean squared error, use the function'root_mean_squared_error'.\n",
      "\n",
      "/Users/mariaminotaki/miniconda3/envs/bms/lib/python3.10/site-packages/sklearn/metrics/_regression.py:492: FutureWarning:\n",
      "\n",
      "'squared' is deprecated in version 1.4 and will be removed in 1.6. To calculate the root mean squared error, use the function'root_mean_squared_error'.\n",
      "\n",
      "/Users/mariaminotaki/miniconda3/envs/bms/lib/python3.10/site-packages/sklearn/metrics/_regression.py:492: FutureWarning:\n",
      "\n",
      "'squared' is deprecated in version 1.4 and will be removed in 1.6. To calculate the root mean squared error, use the function'root_mean_squared_error'.\n",
      "\n",
      "/Users/mariaminotaki/miniconda3/envs/bms/lib/python3.10/site-packages/sklearn/metrics/_regression.py:492: FutureWarning:\n",
      "\n",
      "'squared' is deprecated in version 1.4 and will be removed in 1.6. To calculate the root mean squared error, use the function'root_mean_squared_error'.\n",
      "\n",
      "/Users/mariaminotaki/miniconda3/envs/bms/lib/python3.10/site-packages/sklearn/metrics/_regression.py:492: FutureWarning:\n",
      "\n",
      "'squared' is deprecated in version 1.4 and will be removed in 1.6. To calculate the root mean squared error, use the function'root_mean_squared_error'.\n",
      "\n",
      "/Users/mariaminotaki/miniconda3/envs/bms/lib/python3.10/site-packages/sklearn/metrics/_regression.py:492: FutureWarning:\n",
      "\n",
      "'squared' is deprecated in version 1.4 and will be removed in 1.6. To calculate the root mean squared error, use the function'root_mean_squared_error'.\n",
      "\n",
      "/Users/mariaminotaki/miniconda3/envs/bms/lib/python3.10/site-packages/sklearn/metrics/_regression.py:492: FutureWarning:\n",
      "\n",
      "'squared' is deprecated in version 1.4 and will be removed in 1.6. To calculate the root mean squared error, use the function'root_mean_squared_error'.\n",
      "\n",
      "/Users/mariaminotaki/miniconda3/envs/bms/lib/python3.10/site-packages/sklearn/metrics/_regression.py:492: FutureWarning:\n",
      "\n",
      "'squared' is deprecated in version 1.4 and will be removed in 1.6. To calculate the root mean squared error, use the function'root_mean_squared_error'.\n",
      "\n",
      "/Users/mariaminotaki/miniconda3/envs/bms/lib/python3.10/site-packages/sklearn/metrics/_regression.py:492: FutureWarning:\n",
      "\n",
      "'squared' is deprecated in version 1.4 and will be removed in 1.6. To calculate the root mean squared error, use the function'root_mean_squared_error'.\n",
      "\n",
      "/Users/mariaminotaki/miniconda3/envs/bms/lib/python3.10/site-packages/sklearn/metrics/_regression.py:492: FutureWarning:\n",
      "\n",
      "'squared' is deprecated in version 1.4 and will be removed in 1.6. To calculate the root mean squared error, use the function'root_mean_squared_error'.\n",
      "\n",
      "/Users/mariaminotaki/miniconda3/envs/bms/lib/python3.10/site-packages/sklearn/metrics/_regression.py:492: FutureWarning:\n",
      "\n",
      "'squared' is deprecated in version 1.4 and will be removed in 1.6. To calculate the root mean squared error, use the function'root_mean_squared_error'.\n",
      "\n",
      "/Users/mariaminotaki/miniconda3/envs/bms/lib/python3.10/site-packages/sklearn/metrics/_regression.py:492: FutureWarning:\n",
      "\n",
      "'squared' is deprecated in version 1.4 and will be removed in 1.6. To calculate the root mean squared error, use the function'root_mean_squared_error'.\n",
      "\n",
      "/Users/mariaminotaki/miniconda3/envs/bms/lib/python3.10/site-packages/sklearn/metrics/_regression.py:492: FutureWarning:\n",
      "\n",
      "'squared' is deprecated in version 1.4 and will be removed in 1.6. To calculate the root mean squared error, use the function'root_mean_squared_error'.\n",
      "\n",
      "/Users/mariaminotaki/miniconda3/envs/bms/lib/python3.10/site-packages/sklearn/metrics/_regression.py:492: FutureWarning:\n",
      "\n",
      "'squared' is deprecated in version 1.4 and will be removed in 1.6. To calculate the root mean squared error, use the function'root_mean_squared_error'.\n",
      "\n",
      "/Users/mariaminotaki/miniconda3/envs/bms/lib/python3.10/site-packages/sklearn/metrics/_regression.py:492: FutureWarning:\n",
      "\n",
      "'squared' is deprecated in version 1.4 and will be removed in 1.6. To calculate the root mean squared error, use the function'root_mean_squared_error'.\n",
      "\n",
      "/Users/mariaminotaki/miniconda3/envs/bms/lib/python3.10/site-packages/sklearn/metrics/_regression.py:492: FutureWarning:\n",
      "\n",
      "'squared' is deprecated in version 1.4 and will be removed in 1.6. To calculate the root mean squared error, use the function'root_mean_squared_error'.\n",
      "\n",
      "/Users/mariaminotaki/miniconda3/envs/bms/lib/python3.10/site-packages/sklearn/metrics/_regression.py:492: FutureWarning:\n",
      "\n",
      "'squared' is deprecated in version 1.4 and will be removed in 1.6. To calculate the root mean squared error, use the function'root_mean_squared_error'.\n",
      "\n",
      "/Users/mariaminotaki/miniconda3/envs/bms/lib/python3.10/site-packages/sklearn/metrics/_regression.py:492: FutureWarning:\n",
      "\n",
      "'squared' is deprecated in version 1.4 and will be removed in 1.6. To calculate the root mean squared error, use the function'root_mean_squared_error'.\n",
      "\n",
      "/Users/mariaminotaki/miniconda3/envs/bms/lib/python3.10/site-packages/sklearn/metrics/_regression.py:492: FutureWarning:\n",
      "\n",
      "'squared' is deprecated in version 1.4 and will be removed in 1.6. To calculate the root mean squared error, use the function'root_mean_squared_error'.\n",
      "\n",
      "/Users/mariaminotaki/miniconda3/envs/bms/lib/python3.10/site-packages/sklearn/metrics/_regression.py:492: FutureWarning:\n",
      "\n",
      "'squared' is deprecated in version 1.4 and will be removed in 1.6. To calculate the root mean squared error, use the function'root_mean_squared_error'.\n",
      "\n",
      "/Users/mariaminotaki/miniconda3/envs/bms/lib/python3.10/site-packages/sklearn/metrics/_regression.py:492: FutureWarning:\n",
      "\n",
      "'squared' is deprecated in version 1.4 and will be removed in 1.6. To calculate the root mean squared error, use the function'root_mean_squared_error'.\n",
      "\n",
      " 38%|███▊      | 3/8 [00:03<00:05,  1.04s/it]/Users/mariaminotaki/miniconda3/envs/bms/lib/python3.10/site-packages/sklearn/metrics/_regression.py:492: FutureWarning:\n",
      "\n",
      "'squared' is deprecated in version 1.4 and will be removed in 1.6. To calculate the root mean squared error, use the function'root_mean_squared_error'.\n",
      "\n",
      "/Users/mariaminotaki/miniconda3/envs/bms/lib/python3.10/site-packages/sklearn/metrics/_regression.py:492: FutureWarning:\n",
      "\n",
      "'squared' is deprecated in version 1.4 and will be removed in 1.6. To calculate the root mean squared error, use the function'root_mean_squared_error'.\n",
      "\n",
      "/Users/mariaminotaki/miniconda3/envs/bms/lib/python3.10/site-packages/sklearn/metrics/_regression.py:492: FutureWarning:\n",
      "\n",
      "'squared' is deprecated in version 1.4 and will be removed in 1.6. To calculate the root mean squared error, use the function'root_mean_squared_error'.\n",
      "\n",
      "/Users/mariaminotaki/miniconda3/envs/bms/lib/python3.10/site-packages/sklearn/metrics/_regression.py:492: FutureWarning:\n",
      "\n",
      "'squared' is deprecated in version 1.4 and will be removed in 1.6. To calculate the root mean squared error, use the function'root_mean_squared_error'.\n",
      "\n",
      "/Users/mariaminotaki/miniconda3/envs/bms/lib/python3.10/site-packages/sklearn/metrics/_regression.py:492: FutureWarning:\n",
      "\n",
      "'squared' is deprecated in version 1.4 and will be removed in 1.6. To calculate the root mean squared error, use the function'root_mean_squared_error'.\n",
      "\n",
      "/Users/mariaminotaki/miniconda3/envs/bms/lib/python3.10/site-packages/sklearn/metrics/_regression.py:492: FutureWarning:\n",
      "\n",
      "'squared' is deprecated in version 1.4 and will be removed in 1.6. To calculate the root mean squared error, use the function'root_mean_squared_error'.\n",
      "\n",
      "/Users/mariaminotaki/miniconda3/envs/bms/lib/python3.10/site-packages/sklearn/metrics/_regression.py:492: FutureWarning:\n",
      "\n",
      "'squared' is deprecated in version 1.4 and will be removed in 1.6. To calculate the root mean squared error, use the function'root_mean_squared_error'.\n",
      "\n",
      "/Users/mariaminotaki/miniconda3/envs/bms/lib/python3.10/site-packages/sklearn/metrics/_regression.py:492: FutureWarning:\n",
      "\n",
      "'squared' is deprecated in version 1.4 and will be removed in 1.6. To calculate the root mean squared error, use the function'root_mean_squared_error'.\n",
      "\n",
      "/Users/mariaminotaki/miniconda3/envs/bms/lib/python3.10/site-packages/sklearn/metrics/_regression.py:492: FutureWarning:\n",
      "\n",
      "'squared' is deprecated in version 1.4 and will be removed in 1.6. To calculate the root mean squared error, use the function'root_mean_squared_error'.\n",
      "\n",
      "/Users/mariaminotaki/miniconda3/envs/bms/lib/python3.10/site-packages/sklearn/metrics/_regression.py:492: FutureWarning:\n",
      "\n",
      "'squared' is deprecated in version 1.4 and will be removed in 1.6. To calculate the root mean squared error, use the function'root_mean_squared_error'.\n",
      "\n",
      "/Users/mariaminotaki/miniconda3/envs/bms/lib/python3.10/site-packages/sklearn/metrics/_regression.py:492: FutureWarning:\n",
      "\n",
      "'squared' is deprecated in version 1.4 and will be removed in 1.6. To calculate the root mean squared error, use the function'root_mean_squared_error'.\n",
      "\n",
      "/Users/mariaminotaki/miniconda3/envs/bms/lib/python3.10/site-packages/sklearn/metrics/_regression.py:492: FutureWarning:\n",
      "\n",
      "'squared' is deprecated in version 1.4 and will be removed in 1.6. To calculate the root mean squared error, use the function'root_mean_squared_error'.\n",
      "\n",
      "/Users/mariaminotaki/miniconda3/envs/bms/lib/python3.10/site-packages/sklearn/metrics/_regression.py:492: FutureWarning:\n",
      "\n",
      "'squared' is deprecated in version 1.4 and will be removed in 1.6. To calculate the root mean squared error, use the function'root_mean_squared_error'.\n",
      "\n",
      "/Users/mariaminotaki/miniconda3/envs/bms/lib/python3.10/site-packages/sklearn/metrics/_regression.py:492: FutureWarning:\n",
      "\n",
      "'squared' is deprecated in version 1.4 and will be removed in 1.6. To calculate the root mean squared error, use the function'root_mean_squared_error'.\n",
      "\n",
      "/Users/mariaminotaki/miniconda3/envs/bms/lib/python3.10/site-packages/sklearn/metrics/_regression.py:492: FutureWarning:\n",
      "\n",
      "'squared' is deprecated in version 1.4 and will be removed in 1.6. To calculate the root mean squared error, use the function'root_mean_squared_error'.\n",
      "\n",
      "/Users/mariaminotaki/miniconda3/envs/bms/lib/python3.10/site-packages/sklearn/metrics/_regression.py:492: FutureWarning:\n",
      "\n",
      "'squared' is deprecated in version 1.4 and will be removed in 1.6. To calculate the root mean squared error, use the function'root_mean_squared_error'.\n",
      "\n",
      "/Users/mariaminotaki/miniconda3/envs/bms/lib/python3.10/site-packages/sklearn/metrics/_regression.py:492: FutureWarning:\n",
      "\n",
      "'squared' is deprecated in version 1.4 and will be removed in 1.6. To calculate the root mean squared error, use the function'root_mean_squared_error'.\n",
      "\n",
      "/Users/mariaminotaki/miniconda3/envs/bms/lib/python3.10/site-packages/sklearn/metrics/_regression.py:492: FutureWarning:\n",
      "\n",
      "'squared' is deprecated in version 1.4 and will be removed in 1.6. To calculate the root mean squared error, use the function'root_mean_squared_error'.\n",
      "\n",
      "/Users/mariaminotaki/miniconda3/envs/bms/lib/python3.10/site-packages/sklearn/metrics/_regression.py:492: FutureWarning:\n",
      "\n",
      "'squared' is deprecated in version 1.4 and will be removed in 1.6. To calculate the root mean squared error, use the function'root_mean_squared_error'.\n",
      "\n",
      "/Users/mariaminotaki/miniconda3/envs/bms/lib/python3.10/site-packages/sklearn/metrics/_regression.py:492: FutureWarning:\n",
      "\n",
      "'squared' is deprecated in version 1.4 and will be removed in 1.6. To calculate the root mean squared error, use the function'root_mean_squared_error'.\n",
      "\n",
      "/Users/mariaminotaki/miniconda3/envs/bms/lib/python3.10/site-packages/sklearn/metrics/_regression.py:492: FutureWarning:\n",
      "\n",
      "'squared' is deprecated in version 1.4 and will be removed in 1.6. To calculate the root mean squared error, use the function'root_mean_squared_error'.\n",
      "\n",
      "/Users/mariaminotaki/miniconda3/envs/bms/lib/python3.10/site-packages/sklearn/metrics/_regression.py:492: FutureWarning:\n",
      "\n",
      "'squared' is deprecated in version 1.4 and will be removed in 1.6. To calculate the root mean squared error, use the function'root_mean_squared_error'.\n",
      "\n",
      "/Users/mariaminotaki/miniconda3/envs/bms/lib/python3.10/site-packages/sklearn/metrics/_regression.py:492: FutureWarning:\n",
      "\n",
      "'squared' is deprecated in version 1.4 and will be removed in 1.6. To calculate the root mean squared error, use the function'root_mean_squared_error'.\n",
      "\n",
      "/Users/mariaminotaki/miniconda3/envs/bms/lib/python3.10/site-packages/sklearn/metrics/_regression.py:492: FutureWarning:\n",
      "\n",
      "'squared' is deprecated in version 1.4 and will be removed in 1.6. To calculate the root mean squared error, use the function'root_mean_squared_error'.\n",
      "\n",
      "/Users/mariaminotaki/miniconda3/envs/bms/lib/python3.10/site-packages/sklearn/metrics/_regression.py:492: FutureWarning:\n",
      "\n",
      "'squared' is deprecated in version 1.4 and will be removed in 1.6. To calculate the root mean squared error, use the function'root_mean_squared_error'.\n",
      "\n",
      "/Users/mariaminotaki/miniconda3/envs/bms/lib/python3.10/site-packages/sklearn/metrics/_regression.py:492: FutureWarning:\n",
      "\n",
      "'squared' is deprecated in version 1.4 and will be removed in 1.6. To calculate the root mean squared error, use the function'root_mean_squared_error'.\n",
      "\n",
      "/Users/mariaminotaki/miniconda3/envs/bms/lib/python3.10/site-packages/sklearn/metrics/_regression.py:492: FutureWarning:\n",
      "\n",
      "'squared' is deprecated in version 1.4 and will be removed in 1.6. To calculate the root mean squared error, use the function'root_mean_squared_error'.\n",
      "\n",
      "/Users/mariaminotaki/miniconda3/envs/bms/lib/python3.10/site-packages/sklearn/metrics/_regression.py:492: FutureWarning:\n",
      "\n",
      "'squared' is deprecated in version 1.4 and will be removed in 1.6. To calculate the root mean squared error, use the function'root_mean_squared_error'.\n",
      "\n",
      "/Users/mariaminotaki/miniconda3/envs/bms/lib/python3.10/site-packages/sklearn/metrics/_regression.py:492: FutureWarning:\n",
      "\n",
      "'squared' is deprecated in version 1.4 and will be removed in 1.6. To calculate the root mean squared error, use the function'root_mean_squared_error'.\n",
      "\n",
      "/Users/mariaminotaki/miniconda3/envs/bms/lib/python3.10/site-packages/sklearn/metrics/_regression.py:492: FutureWarning:\n",
      "\n",
      "'squared' is deprecated in version 1.4 and will be removed in 1.6. To calculate the root mean squared error, use the function'root_mean_squared_error'.\n",
      "\n",
      " 50%|█████     | 4/8 [00:04<00:04,  1.03s/it]/Users/mariaminotaki/miniconda3/envs/bms/lib/python3.10/site-packages/sklearn/metrics/_regression.py:492: FutureWarning:\n",
      "\n",
      "'squared' is deprecated in version 1.4 and will be removed in 1.6. To calculate the root mean squared error, use the function'root_mean_squared_error'.\n",
      "\n",
      "/Users/mariaminotaki/miniconda3/envs/bms/lib/python3.10/site-packages/sklearn/metrics/_regression.py:492: FutureWarning:\n",
      "\n",
      "'squared' is deprecated in version 1.4 and will be removed in 1.6. To calculate the root mean squared error, use the function'root_mean_squared_error'.\n",
      "\n",
      "/Users/mariaminotaki/miniconda3/envs/bms/lib/python3.10/site-packages/sklearn/metrics/_regression.py:492: FutureWarning:\n",
      "\n",
      "'squared' is deprecated in version 1.4 and will be removed in 1.6. To calculate the root mean squared error, use the function'root_mean_squared_error'.\n",
      "\n",
      "/Users/mariaminotaki/miniconda3/envs/bms/lib/python3.10/site-packages/sklearn/metrics/_regression.py:492: FutureWarning:\n",
      "\n",
      "'squared' is deprecated in version 1.4 and will be removed in 1.6. To calculate the root mean squared error, use the function'root_mean_squared_error'.\n",
      "\n",
      "/Users/mariaminotaki/miniconda3/envs/bms/lib/python3.10/site-packages/sklearn/metrics/_regression.py:492: FutureWarning:\n",
      "\n",
      "'squared' is deprecated in version 1.4 and will be removed in 1.6. To calculate the root mean squared error, use the function'root_mean_squared_error'.\n",
      "\n",
      "/Users/mariaminotaki/miniconda3/envs/bms/lib/python3.10/site-packages/sklearn/metrics/_regression.py:492: FutureWarning:\n",
      "\n",
      "'squared' is deprecated in version 1.4 and will be removed in 1.6. To calculate the root mean squared error, use the function'root_mean_squared_error'.\n",
      "\n",
      "/Users/mariaminotaki/miniconda3/envs/bms/lib/python3.10/site-packages/sklearn/metrics/_regression.py:492: FutureWarning:\n",
      "\n",
      "'squared' is deprecated in version 1.4 and will be removed in 1.6. To calculate the root mean squared error, use the function'root_mean_squared_error'.\n",
      "\n",
      "/Users/mariaminotaki/miniconda3/envs/bms/lib/python3.10/site-packages/sklearn/metrics/_regression.py:492: FutureWarning:\n",
      "\n",
      "'squared' is deprecated in version 1.4 and will be removed in 1.6. To calculate the root mean squared error, use the function'root_mean_squared_error'.\n",
      "\n",
      "/Users/mariaminotaki/miniconda3/envs/bms/lib/python3.10/site-packages/sklearn/metrics/_regression.py:492: FutureWarning:\n",
      "\n",
      "'squared' is deprecated in version 1.4 and will be removed in 1.6. To calculate the root mean squared error, use the function'root_mean_squared_error'.\n",
      "\n",
      "/Users/mariaminotaki/miniconda3/envs/bms/lib/python3.10/site-packages/sklearn/metrics/_regression.py:492: FutureWarning:\n",
      "\n",
      "'squared' is deprecated in version 1.4 and will be removed in 1.6. To calculate the root mean squared error, use the function'root_mean_squared_error'.\n",
      "\n",
      "/Users/mariaminotaki/miniconda3/envs/bms/lib/python3.10/site-packages/sklearn/metrics/_regression.py:492: FutureWarning:\n",
      "\n",
      "'squared' is deprecated in version 1.4 and will be removed in 1.6. To calculate the root mean squared error, use the function'root_mean_squared_error'.\n",
      "\n",
      "/Users/mariaminotaki/miniconda3/envs/bms/lib/python3.10/site-packages/sklearn/metrics/_regression.py:492: FutureWarning:\n",
      "\n",
      "'squared' is deprecated in version 1.4 and will be removed in 1.6. To calculate the root mean squared error, use the function'root_mean_squared_error'.\n",
      "\n",
      "/Users/mariaminotaki/miniconda3/envs/bms/lib/python3.10/site-packages/sklearn/metrics/_regression.py:492: FutureWarning:\n",
      "\n",
      "'squared' is deprecated in version 1.4 and will be removed in 1.6. To calculate the root mean squared error, use the function'root_mean_squared_error'.\n",
      "\n",
      "/Users/mariaminotaki/miniconda3/envs/bms/lib/python3.10/site-packages/sklearn/metrics/_regression.py:492: FutureWarning:\n",
      "\n",
      "'squared' is deprecated in version 1.4 and will be removed in 1.6. To calculate the root mean squared error, use the function'root_mean_squared_error'.\n",
      "\n",
      "/Users/mariaminotaki/miniconda3/envs/bms/lib/python3.10/site-packages/sklearn/metrics/_regression.py:492: FutureWarning:\n",
      "\n",
      "'squared' is deprecated in version 1.4 and will be removed in 1.6. To calculate the root mean squared error, use the function'root_mean_squared_error'.\n",
      "\n",
      "/Users/mariaminotaki/miniconda3/envs/bms/lib/python3.10/site-packages/sklearn/metrics/_regression.py:492: FutureWarning:\n",
      "\n",
      "'squared' is deprecated in version 1.4 and will be removed in 1.6. To calculate the root mean squared error, use the function'root_mean_squared_error'.\n",
      "\n",
      "/Users/mariaminotaki/miniconda3/envs/bms/lib/python3.10/site-packages/sklearn/metrics/_regression.py:492: FutureWarning:\n",
      "\n",
      "'squared' is deprecated in version 1.4 and will be removed in 1.6. To calculate the root mean squared error, use the function'root_mean_squared_error'.\n",
      "\n",
      "/Users/mariaminotaki/miniconda3/envs/bms/lib/python3.10/site-packages/sklearn/metrics/_regression.py:492: FutureWarning:\n",
      "\n",
      "'squared' is deprecated in version 1.4 and will be removed in 1.6. To calculate the root mean squared error, use the function'root_mean_squared_error'.\n",
      "\n",
      "/Users/mariaminotaki/miniconda3/envs/bms/lib/python3.10/site-packages/sklearn/metrics/_regression.py:492: FutureWarning:\n",
      "\n",
      "'squared' is deprecated in version 1.4 and will be removed in 1.6. To calculate the root mean squared error, use the function'root_mean_squared_error'.\n",
      "\n",
      "/Users/mariaminotaki/miniconda3/envs/bms/lib/python3.10/site-packages/sklearn/metrics/_regression.py:492: FutureWarning:\n",
      "\n",
      "'squared' is deprecated in version 1.4 and will be removed in 1.6. To calculate the root mean squared error, use the function'root_mean_squared_error'.\n",
      "\n",
      "/Users/mariaminotaki/miniconda3/envs/bms/lib/python3.10/site-packages/sklearn/metrics/_regression.py:492: FutureWarning:\n",
      "\n",
      "'squared' is deprecated in version 1.4 and will be removed in 1.6. To calculate the root mean squared error, use the function'root_mean_squared_error'.\n",
      "\n",
      "/Users/mariaminotaki/miniconda3/envs/bms/lib/python3.10/site-packages/sklearn/metrics/_regression.py:492: FutureWarning:\n",
      "\n",
      "'squared' is deprecated in version 1.4 and will be removed in 1.6. To calculate the root mean squared error, use the function'root_mean_squared_error'.\n",
      "\n",
      "/Users/mariaminotaki/miniconda3/envs/bms/lib/python3.10/site-packages/sklearn/metrics/_regression.py:492: FutureWarning:\n",
      "\n",
      "'squared' is deprecated in version 1.4 and will be removed in 1.6. To calculate the root mean squared error, use the function'root_mean_squared_error'.\n",
      "\n",
      "/Users/mariaminotaki/miniconda3/envs/bms/lib/python3.10/site-packages/sklearn/metrics/_regression.py:492: FutureWarning:\n",
      "\n",
      "'squared' is deprecated in version 1.4 and will be removed in 1.6. To calculate the root mean squared error, use the function'root_mean_squared_error'.\n",
      "\n",
      "/Users/mariaminotaki/miniconda3/envs/bms/lib/python3.10/site-packages/sklearn/metrics/_regression.py:492: FutureWarning:\n",
      "\n",
      "'squared' is deprecated in version 1.4 and will be removed in 1.6. To calculate the root mean squared error, use the function'root_mean_squared_error'.\n",
      "\n",
      "/Users/mariaminotaki/miniconda3/envs/bms/lib/python3.10/site-packages/sklearn/metrics/_regression.py:492: FutureWarning:\n",
      "\n",
      "'squared' is deprecated in version 1.4 and will be removed in 1.6. To calculate the root mean squared error, use the function'root_mean_squared_error'.\n",
      "\n",
      "/Users/mariaminotaki/miniconda3/envs/bms/lib/python3.10/site-packages/sklearn/metrics/_regression.py:492: FutureWarning:\n",
      "\n",
      "'squared' is deprecated in version 1.4 and will be removed in 1.6. To calculate the root mean squared error, use the function'root_mean_squared_error'.\n",
      "\n",
      "/Users/mariaminotaki/miniconda3/envs/bms/lib/python3.10/site-packages/sklearn/metrics/_regression.py:492: FutureWarning:\n",
      "\n",
      "'squared' is deprecated in version 1.4 and will be removed in 1.6. To calculate the root mean squared error, use the function'root_mean_squared_error'.\n",
      "\n",
      "/Users/mariaminotaki/miniconda3/envs/bms/lib/python3.10/site-packages/sklearn/metrics/_regression.py:492: FutureWarning:\n",
      "\n",
      "'squared' is deprecated in version 1.4 and will be removed in 1.6. To calculate the root mean squared error, use the function'root_mean_squared_error'.\n",
      "\n",
      "/Users/mariaminotaki/miniconda3/envs/bms/lib/python3.10/site-packages/sklearn/metrics/_regression.py:492: FutureWarning:\n",
      "\n",
      "'squared' is deprecated in version 1.4 and will be removed in 1.6. To calculate the root mean squared error, use the function'root_mean_squared_error'.\n",
      "\n",
      " 62%|██████▎   | 5/8 [00:05<00:03,  1.04s/it]/Users/mariaminotaki/miniconda3/envs/bms/lib/python3.10/site-packages/sklearn/metrics/_regression.py:492: FutureWarning:\n",
      "\n",
      "'squared' is deprecated in version 1.4 and will be removed in 1.6. To calculate the root mean squared error, use the function'root_mean_squared_error'.\n",
      "\n",
      "/Users/mariaminotaki/miniconda3/envs/bms/lib/python3.10/site-packages/sklearn/metrics/_regression.py:492: FutureWarning:\n",
      "\n",
      "'squared' is deprecated in version 1.4 and will be removed in 1.6. To calculate the root mean squared error, use the function'root_mean_squared_error'.\n",
      "\n",
      "/Users/mariaminotaki/miniconda3/envs/bms/lib/python3.10/site-packages/sklearn/metrics/_regression.py:492: FutureWarning:\n",
      "\n",
      "'squared' is deprecated in version 1.4 and will be removed in 1.6. To calculate the root mean squared error, use the function'root_mean_squared_error'.\n",
      "\n",
      "/Users/mariaminotaki/miniconda3/envs/bms/lib/python3.10/site-packages/sklearn/metrics/_regression.py:492: FutureWarning:\n",
      "\n",
      "'squared' is deprecated in version 1.4 and will be removed in 1.6. To calculate the root mean squared error, use the function'root_mean_squared_error'.\n",
      "\n",
      "/Users/mariaminotaki/miniconda3/envs/bms/lib/python3.10/site-packages/sklearn/metrics/_regression.py:492: FutureWarning:\n",
      "\n",
      "'squared' is deprecated in version 1.4 and will be removed in 1.6. To calculate the root mean squared error, use the function'root_mean_squared_error'.\n",
      "\n",
      "/Users/mariaminotaki/miniconda3/envs/bms/lib/python3.10/site-packages/sklearn/metrics/_regression.py:492: FutureWarning:\n",
      "\n",
      "'squared' is deprecated in version 1.4 and will be removed in 1.6. To calculate the root mean squared error, use the function'root_mean_squared_error'.\n",
      "\n",
      "/Users/mariaminotaki/miniconda3/envs/bms/lib/python3.10/site-packages/sklearn/metrics/_regression.py:492: FutureWarning:\n",
      "\n",
      "'squared' is deprecated in version 1.4 and will be removed in 1.6. To calculate the root mean squared error, use the function'root_mean_squared_error'.\n",
      "\n",
      "/Users/mariaminotaki/miniconda3/envs/bms/lib/python3.10/site-packages/sklearn/metrics/_regression.py:492: FutureWarning:\n",
      "\n",
      "'squared' is deprecated in version 1.4 and will be removed in 1.6. To calculate the root mean squared error, use the function'root_mean_squared_error'.\n",
      "\n",
      "/Users/mariaminotaki/miniconda3/envs/bms/lib/python3.10/site-packages/sklearn/metrics/_regression.py:492: FutureWarning:\n",
      "\n",
      "'squared' is deprecated in version 1.4 and will be removed in 1.6. To calculate the root mean squared error, use the function'root_mean_squared_error'.\n",
      "\n",
      "/Users/mariaminotaki/miniconda3/envs/bms/lib/python3.10/site-packages/sklearn/metrics/_regression.py:492: FutureWarning:\n",
      "\n",
      "'squared' is deprecated in version 1.4 and will be removed in 1.6. To calculate the root mean squared error, use the function'root_mean_squared_error'.\n",
      "\n",
      "/Users/mariaminotaki/miniconda3/envs/bms/lib/python3.10/site-packages/sklearn/metrics/_regression.py:492: FutureWarning:\n",
      "\n",
      "'squared' is deprecated in version 1.4 and will be removed in 1.6. To calculate the root mean squared error, use the function'root_mean_squared_error'.\n",
      "\n",
      "/Users/mariaminotaki/miniconda3/envs/bms/lib/python3.10/site-packages/sklearn/metrics/_regression.py:492: FutureWarning:\n",
      "\n",
      "'squared' is deprecated in version 1.4 and will be removed in 1.6. To calculate the root mean squared error, use the function'root_mean_squared_error'.\n",
      "\n",
      "/Users/mariaminotaki/miniconda3/envs/bms/lib/python3.10/site-packages/sklearn/metrics/_regression.py:492: FutureWarning:\n",
      "\n",
      "'squared' is deprecated in version 1.4 and will be removed in 1.6. To calculate the root mean squared error, use the function'root_mean_squared_error'.\n",
      "\n",
      "/Users/mariaminotaki/miniconda3/envs/bms/lib/python3.10/site-packages/sklearn/metrics/_regression.py:492: FutureWarning:\n",
      "\n",
      "'squared' is deprecated in version 1.4 and will be removed in 1.6. To calculate the root mean squared error, use the function'root_mean_squared_error'.\n",
      "\n",
      "/Users/mariaminotaki/miniconda3/envs/bms/lib/python3.10/site-packages/sklearn/metrics/_regression.py:492: FutureWarning:\n",
      "\n",
      "'squared' is deprecated in version 1.4 and will be removed in 1.6. To calculate the root mean squared error, use the function'root_mean_squared_error'.\n",
      "\n",
      "/Users/mariaminotaki/miniconda3/envs/bms/lib/python3.10/site-packages/sklearn/metrics/_regression.py:492: FutureWarning:\n",
      "\n",
      "'squared' is deprecated in version 1.4 and will be removed in 1.6. To calculate the root mean squared error, use the function'root_mean_squared_error'.\n",
      "\n",
      "/Users/mariaminotaki/miniconda3/envs/bms/lib/python3.10/site-packages/sklearn/metrics/_regression.py:492: FutureWarning:\n",
      "\n",
      "'squared' is deprecated in version 1.4 and will be removed in 1.6. To calculate the root mean squared error, use the function'root_mean_squared_error'.\n",
      "\n",
      "/Users/mariaminotaki/miniconda3/envs/bms/lib/python3.10/site-packages/sklearn/metrics/_regression.py:492: FutureWarning:\n",
      "\n",
      "'squared' is deprecated in version 1.4 and will be removed in 1.6. To calculate the root mean squared error, use the function'root_mean_squared_error'.\n",
      "\n",
      "/Users/mariaminotaki/miniconda3/envs/bms/lib/python3.10/site-packages/sklearn/metrics/_regression.py:492: FutureWarning:\n",
      "\n",
      "'squared' is deprecated in version 1.4 and will be removed in 1.6. To calculate the root mean squared error, use the function'root_mean_squared_error'.\n",
      "\n",
      "/Users/mariaminotaki/miniconda3/envs/bms/lib/python3.10/site-packages/sklearn/metrics/_regression.py:492: FutureWarning:\n",
      "\n",
      "'squared' is deprecated in version 1.4 and will be removed in 1.6. To calculate the root mean squared error, use the function'root_mean_squared_error'.\n",
      "\n",
      "/Users/mariaminotaki/miniconda3/envs/bms/lib/python3.10/site-packages/sklearn/metrics/_regression.py:492: FutureWarning:\n",
      "\n",
      "'squared' is deprecated in version 1.4 and will be removed in 1.6. To calculate the root mean squared error, use the function'root_mean_squared_error'.\n",
      "\n",
      "/Users/mariaminotaki/miniconda3/envs/bms/lib/python3.10/site-packages/sklearn/metrics/_regression.py:492: FutureWarning:\n",
      "\n",
      "'squared' is deprecated in version 1.4 and will be removed in 1.6. To calculate the root mean squared error, use the function'root_mean_squared_error'.\n",
      "\n",
      "/Users/mariaminotaki/miniconda3/envs/bms/lib/python3.10/site-packages/sklearn/metrics/_regression.py:492: FutureWarning:\n",
      "\n",
      "'squared' is deprecated in version 1.4 and will be removed in 1.6. To calculate the root mean squared error, use the function'root_mean_squared_error'.\n",
      "\n",
      "/Users/mariaminotaki/miniconda3/envs/bms/lib/python3.10/site-packages/sklearn/metrics/_regression.py:492: FutureWarning:\n",
      "\n",
      "'squared' is deprecated in version 1.4 and will be removed in 1.6. To calculate the root mean squared error, use the function'root_mean_squared_error'.\n",
      "\n",
      "/Users/mariaminotaki/miniconda3/envs/bms/lib/python3.10/site-packages/sklearn/metrics/_regression.py:492: FutureWarning:\n",
      "\n",
      "'squared' is deprecated in version 1.4 and will be removed in 1.6. To calculate the root mean squared error, use the function'root_mean_squared_error'.\n",
      "\n",
      "/Users/mariaminotaki/miniconda3/envs/bms/lib/python3.10/site-packages/sklearn/metrics/_regression.py:492: FutureWarning:\n",
      "\n",
      "'squared' is deprecated in version 1.4 and will be removed in 1.6. To calculate the root mean squared error, use the function'root_mean_squared_error'.\n",
      "\n",
      "/Users/mariaminotaki/miniconda3/envs/bms/lib/python3.10/site-packages/sklearn/metrics/_regression.py:492: FutureWarning:\n",
      "\n",
      "'squared' is deprecated in version 1.4 and will be removed in 1.6. To calculate the root mean squared error, use the function'root_mean_squared_error'.\n",
      "\n",
      "/Users/mariaminotaki/miniconda3/envs/bms/lib/python3.10/site-packages/sklearn/metrics/_regression.py:492: FutureWarning:\n",
      "\n",
      "'squared' is deprecated in version 1.4 and will be removed in 1.6. To calculate the root mean squared error, use the function'root_mean_squared_error'.\n",
      "\n",
      "/Users/mariaminotaki/miniconda3/envs/bms/lib/python3.10/site-packages/sklearn/metrics/_regression.py:492: FutureWarning:\n",
      "\n",
      "'squared' is deprecated in version 1.4 and will be removed in 1.6. To calculate the root mean squared error, use the function'root_mean_squared_error'.\n",
      "\n",
      "/Users/mariaminotaki/miniconda3/envs/bms/lib/python3.10/site-packages/sklearn/metrics/_regression.py:492: FutureWarning:\n",
      "\n",
      "'squared' is deprecated in version 1.4 and will be removed in 1.6. To calculate the root mean squared error, use the function'root_mean_squared_error'.\n",
      "\n",
      " 75%|███████▌  | 6/8 [00:06<00:02,  1.05s/it]/Users/mariaminotaki/miniconda3/envs/bms/lib/python3.10/site-packages/sklearn/metrics/_regression.py:492: FutureWarning:\n",
      "\n",
      "'squared' is deprecated in version 1.4 and will be removed in 1.6. To calculate the root mean squared error, use the function'root_mean_squared_error'.\n",
      "\n",
      "/Users/mariaminotaki/miniconda3/envs/bms/lib/python3.10/site-packages/sklearn/metrics/_regression.py:492: FutureWarning:\n",
      "\n",
      "'squared' is deprecated in version 1.4 and will be removed in 1.6. To calculate the root mean squared error, use the function'root_mean_squared_error'.\n",
      "\n",
      "/Users/mariaminotaki/miniconda3/envs/bms/lib/python3.10/site-packages/sklearn/metrics/_regression.py:492: FutureWarning:\n",
      "\n",
      "'squared' is deprecated in version 1.4 and will be removed in 1.6. To calculate the root mean squared error, use the function'root_mean_squared_error'.\n",
      "\n",
      "/Users/mariaminotaki/miniconda3/envs/bms/lib/python3.10/site-packages/sklearn/metrics/_regression.py:492: FutureWarning:\n",
      "\n",
      "'squared' is deprecated in version 1.4 and will be removed in 1.6. To calculate the root mean squared error, use the function'root_mean_squared_error'.\n",
      "\n",
      "/Users/mariaminotaki/miniconda3/envs/bms/lib/python3.10/site-packages/sklearn/metrics/_regression.py:492: FutureWarning:\n",
      "\n",
      "'squared' is deprecated in version 1.4 and will be removed in 1.6. To calculate the root mean squared error, use the function'root_mean_squared_error'.\n",
      "\n",
      "/Users/mariaminotaki/miniconda3/envs/bms/lib/python3.10/site-packages/sklearn/metrics/_regression.py:492: FutureWarning:\n",
      "\n",
      "'squared' is deprecated in version 1.4 and will be removed in 1.6. To calculate the root mean squared error, use the function'root_mean_squared_error'.\n",
      "\n",
      "/Users/mariaminotaki/miniconda3/envs/bms/lib/python3.10/site-packages/sklearn/metrics/_regression.py:492: FutureWarning:\n",
      "\n",
      "'squared' is deprecated in version 1.4 and will be removed in 1.6. To calculate the root mean squared error, use the function'root_mean_squared_error'.\n",
      "\n",
      "/Users/mariaminotaki/miniconda3/envs/bms/lib/python3.10/site-packages/sklearn/metrics/_regression.py:492: FutureWarning:\n",
      "\n",
      "'squared' is deprecated in version 1.4 and will be removed in 1.6. To calculate the root mean squared error, use the function'root_mean_squared_error'.\n",
      "\n",
      "/Users/mariaminotaki/miniconda3/envs/bms/lib/python3.10/site-packages/sklearn/metrics/_regression.py:492: FutureWarning:\n",
      "\n",
      "'squared' is deprecated in version 1.4 and will be removed in 1.6. To calculate the root mean squared error, use the function'root_mean_squared_error'.\n",
      "\n",
      "/Users/mariaminotaki/miniconda3/envs/bms/lib/python3.10/site-packages/sklearn/metrics/_regression.py:492: FutureWarning:\n",
      "\n",
      "'squared' is deprecated in version 1.4 and will be removed in 1.6. To calculate the root mean squared error, use the function'root_mean_squared_error'.\n",
      "\n",
      "/Users/mariaminotaki/miniconda3/envs/bms/lib/python3.10/site-packages/sklearn/metrics/_regression.py:492: FutureWarning:\n",
      "\n",
      "'squared' is deprecated in version 1.4 and will be removed in 1.6. To calculate the root mean squared error, use the function'root_mean_squared_error'.\n",
      "\n",
      "/Users/mariaminotaki/miniconda3/envs/bms/lib/python3.10/site-packages/sklearn/metrics/_regression.py:492: FutureWarning:\n",
      "\n",
      "'squared' is deprecated in version 1.4 and will be removed in 1.6. To calculate the root mean squared error, use the function'root_mean_squared_error'.\n",
      "\n",
      "/Users/mariaminotaki/miniconda3/envs/bms/lib/python3.10/site-packages/sklearn/metrics/_regression.py:492: FutureWarning:\n",
      "\n",
      "'squared' is deprecated in version 1.4 and will be removed in 1.6. To calculate the root mean squared error, use the function'root_mean_squared_error'.\n",
      "\n",
      "/Users/mariaminotaki/miniconda3/envs/bms/lib/python3.10/site-packages/sklearn/metrics/_regression.py:492: FutureWarning:\n",
      "\n",
      "'squared' is deprecated in version 1.4 and will be removed in 1.6. To calculate the root mean squared error, use the function'root_mean_squared_error'.\n",
      "\n",
      "/Users/mariaminotaki/miniconda3/envs/bms/lib/python3.10/site-packages/sklearn/metrics/_regression.py:492: FutureWarning:\n",
      "\n",
      "'squared' is deprecated in version 1.4 and will be removed in 1.6. To calculate the root mean squared error, use the function'root_mean_squared_error'.\n",
      "\n",
      "/Users/mariaminotaki/miniconda3/envs/bms/lib/python3.10/site-packages/sklearn/metrics/_regression.py:492: FutureWarning:\n",
      "\n",
      "'squared' is deprecated in version 1.4 and will be removed in 1.6. To calculate the root mean squared error, use the function'root_mean_squared_error'.\n",
      "\n",
      "/Users/mariaminotaki/miniconda3/envs/bms/lib/python3.10/site-packages/sklearn/metrics/_regression.py:492: FutureWarning:\n",
      "\n",
      "'squared' is deprecated in version 1.4 and will be removed in 1.6. To calculate the root mean squared error, use the function'root_mean_squared_error'.\n",
      "\n",
      "/Users/mariaminotaki/miniconda3/envs/bms/lib/python3.10/site-packages/sklearn/metrics/_regression.py:492: FutureWarning:\n",
      "\n",
      "'squared' is deprecated in version 1.4 and will be removed in 1.6. To calculate the root mean squared error, use the function'root_mean_squared_error'.\n",
      "\n",
      "/Users/mariaminotaki/miniconda3/envs/bms/lib/python3.10/site-packages/sklearn/metrics/_regression.py:492: FutureWarning:\n",
      "\n",
      "'squared' is deprecated in version 1.4 and will be removed in 1.6. To calculate the root mean squared error, use the function'root_mean_squared_error'.\n",
      "\n",
      "/Users/mariaminotaki/miniconda3/envs/bms/lib/python3.10/site-packages/sklearn/metrics/_regression.py:492: FutureWarning:\n",
      "\n",
      "'squared' is deprecated in version 1.4 and will be removed in 1.6. To calculate the root mean squared error, use the function'root_mean_squared_error'.\n",
      "\n",
      "/Users/mariaminotaki/miniconda3/envs/bms/lib/python3.10/site-packages/sklearn/metrics/_regression.py:492: FutureWarning:\n",
      "\n",
      "'squared' is deprecated in version 1.4 and will be removed in 1.6. To calculate the root mean squared error, use the function'root_mean_squared_error'.\n",
      "\n",
      "/Users/mariaminotaki/miniconda3/envs/bms/lib/python3.10/site-packages/sklearn/metrics/_regression.py:492: FutureWarning:\n",
      "\n",
      "'squared' is deprecated in version 1.4 and will be removed in 1.6. To calculate the root mean squared error, use the function'root_mean_squared_error'.\n",
      "\n",
      "/Users/mariaminotaki/miniconda3/envs/bms/lib/python3.10/site-packages/sklearn/metrics/_regression.py:492: FutureWarning:\n",
      "\n",
      "'squared' is deprecated in version 1.4 and will be removed in 1.6. To calculate the root mean squared error, use the function'root_mean_squared_error'.\n",
      "\n",
      "/Users/mariaminotaki/miniconda3/envs/bms/lib/python3.10/site-packages/sklearn/metrics/_regression.py:492: FutureWarning:\n",
      "\n",
      "'squared' is deprecated in version 1.4 and will be removed in 1.6. To calculate the root mean squared error, use the function'root_mean_squared_error'.\n",
      "\n",
      "/Users/mariaminotaki/miniconda3/envs/bms/lib/python3.10/site-packages/sklearn/metrics/_regression.py:492: FutureWarning:\n",
      "\n",
      "'squared' is deprecated in version 1.4 and will be removed in 1.6. To calculate the root mean squared error, use the function'root_mean_squared_error'.\n",
      "\n",
      "/Users/mariaminotaki/miniconda3/envs/bms/lib/python3.10/site-packages/sklearn/metrics/_regression.py:492: FutureWarning:\n",
      "\n",
      "'squared' is deprecated in version 1.4 and will be removed in 1.6. To calculate the root mean squared error, use the function'root_mean_squared_error'.\n",
      "\n",
      "/Users/mariaminotaki/miniconda3/envs/bms/lib/python3.10/site-packages/sklearn/metrics/_regression.py:492: FutureWarning:\n",
      "\n",
      "'squared' is deprecated in version 1.4 and will be removed in 1.6. To calculate the root mean squared error, use the function'root_mean_squared_error'.\n",
      "\n",
      "/Users/mariaminotaki/miniconda3/envs/bms/lib/python3.10/site-packages/sklearn/metrics/_regression.py:492: FutureWarning:\n",
      "\n",
      "'squared' is deprecated in version 1.4 and will be removed in 1.6. To calculate the root mean squared error, use the function'root_mean_squared_error'.\n",
      "\n",
      "/Users/mariaminotaki/miniconda3/envs/bms/lib/python3.10/site-packages/sklearn/metrics/_regression.py:492: FutureWarning:\n",
      "\n",
      "'squared' is deprecated in version 1.4 and will be removed in 1.6. To calculate the root mean squared error, use the function'root_mean_squared_error'.\n",
      "\n",
      "/Users/mariaminotaki/miniconda3/envs/bms/lib/python3.10/site-packages/sklearn/metrics/_regression.py:492: FutureWarning:\n",
      "\n",
      "'squared' is deprecated in version 1.4 and will be removed in 1.6. To calculate the root mean squared error, use the function'root_mean_squared_error'.\n",
      "\n",
      " 88%|████████▊ | 7/8 [00:07<00:01,  1.05s/it]/Users/mariaminotaki/miniconda3/envs/bms/lib/python3.10/site-packages/sklearn/metrics/_regression.py:492: FutureWarning:\n",
      "\n",
      "'squared' is deprecated in version 1.4 and will be removed in 1.6. To calculate the root mean squared error, use the function'root_mean_squared_error'.\n",
      "\n",
      "/Users/mariaminotaki/miniconda3/envs/bms/lib/python3.10/site-packages/sklearn/metrics/_regression.py:492: FutureWarning:\n",
      "\n",
      "'squared' is deprecated in version 1.4 and will be removed in 1.6. To calculate the root mean squared error, use the function'root_mean_squared_error'.\n",
      "\n",
      "/Users/mariaminotaki/miniconda3/envs/bms/lib/python3.10/site-packages/sklearn/metrics/_regression.py:492: FutureWarning:\n",
      "\n",
      "'squared' is deprecated in version 1.4 and will be removed in 1.6. To calculate the root mean squared error, use the function'root_mean_squared_error'.\n",
      "\n",
      "/Users/mariaminotaki/miniconda3/envs/bms/lib/python3.10/site-packages/sklearn/metrics/_regression.py:492: FutureWarning:\n",
      "\n",
      "'squared' is deprecated in version 1.4 and will be removed in 1.6. To calculate the root mean squared error, use the function'root_mean_squared_error'.\n",
      "\n",
      "/Users/mariaminotaki/miniconda3/envs/bms/lib/python3.10/site-packages/sklearn/metrics/_regression.py:492: FutureWarning:\n",
      "\n",
      "'squared' is deprecated in version 1.4 and will be removed in 1.6. To calculate the root mean squared error, use the function'root_mean_squared_error'.\n",
      "\n",
      "/Users/mariaminotaki/miniconda3/envs/bms/lib/python3.10/site-packages/sklearn/metrics/_regression.py:492: FutureWarning:\n",
      "\n",
      "'squared' is deprecated in version 1.4 and will be removed in 1.6. To calculate the root mean squared error, use the function'root_mean_squared_error'.\n",
      "\n",
      "/Users/mariaminotaki/miniconda3/envs/bms/lib/python3.10/site-packages/sklearn/metrics/_regression.py:492: FutureWarning:\n",
      "\n",
      "'squared' is deprecated in version 1.4 and will be removed in 1.6. To calculate the root mean squared error, use the function'root_mean_squared_error'.\n",
      "\n",
      "/Users/mariaminotaki/miniconda3/envs/bms/lib/python3.10/site-packages/sklearn/metrics/_regression.py:492: FutureWarning:\n",
      "\n",
      "'squared' is deprecated in version 1.4 and will be removed in 1.6. To calculate the root mean squared error, use the function'root_mean_squared_error'.\n",
      "\n",
      "/Users/mariaminotaki/miniconda3/envs/bms/lib/python3.10/site-packages/sklearn/metrics/_regression.py:492: FutureWarning:\n",
      "\n",
      "'squared' is deprecated in version 1.4 and will be removed in 1.6. To calculate the root mean squared error, use the function'root_mean_squared_error'.\n",
      "\n",
      "/Users/mariaminotaki/miniconda3/envs/bms/lib/python3.10/site-packages/sklearn/metrics/_regression.py:492: FutureWarning:\n",
      "\n",
      "'squared' is deprecated in version 1.4 and will be removed in 1.6. To calculate the root mean squared error, use the function'root_mean_squared_error'.\n",
      "\n",
      "/Users/mariaminotaki/miniconda3/envs/bms/lib/python3.10/site-packages/sklearn/metrics/_regression.py:492: FutureWarning:\n",
      "\n",
      "'squared' is deprecated in version 1.4 and will be removed in 1.6. To calculate the root mean squared error, use the function'root_mean_squared_error'.\n",
      "\n",
      "/Users/mariaminotaki/miniconda3/envs/bms/lib/python3.10/site-packages/sklearn/metrics/_regression.py:492: FutureWarning:\n",
      "\n",
      "'squared' is deprecated in version 1.4 and will be removed in 1.6. To calculate the root mean squared error, use the function'root_mean_squared_error'.\n",
      "\n",
      "/Users/mariaminotaki/miniconda3/envs/bms/lib/python3.10/site-packages/sklearn/metrics/_regression.py:492: FutureWarning:\n",
      "\n",
      "'squared' is deprecated in version 1.4 and will be removed in 1.6. To calculate the root mean squared error, use the function'root_mean_squared_error'.\n",
      "\n",
      "/Users/mariaminotaki/miniconda3/envs/bms/lib/python3.10/site-packages/sklearn/metrics/_regression.py:492: FutureWarning:\n",
      "\n",
      "'squared' is deprecated in version 1.4 and will be removed in 1.6. To calculate the root mean squared error, use the function'root_mean_squared_error'.\n",
      "\n",
      "/Users/mariaminotaki/miniconda3/envs/bms/lib/python3.10/site-packages/sklearn/metrics/_regression.py:492: FutureWarning:\n",
      "\n",
      "'squared' is deprecated in version 1.4 and will be removed in 1.6. To calculate the root mean squared error, use the function'root_mean_squared_error'.\n",
      "\n",
      "/Users/mariaminotaki/miniconda3/envs/bms/lib/python3.10/site-packages/sklearn/metrics/_regression.py:492: FutureWarning:\n",
      "\n",
      "'squared' is deprecated in version 1.4 and will be removed in 1.6. To calculate the root mean squared error, use the function'root_mean_squared_error'.\n",
      "\n",
      "/Users/mariaminotaki/miniconda3/envs/bms/lib/python3.10/site-packages/sklearn/metrics/_regression.py:492: FutureWarning:\n",
      "\n",
      "'squared' is deprecated in version 1.4 and will be removed in 1.6. To calculate the root mean squared error, use the function'root_mean_squared_error'.\n",
      "\n",
      "/Users/mariaminotaki/miniconda3/envs/bms/lib/python3.10/site-packages/sklearn/metrics/_regression.py:492: FutureWarning:\n",
      "\n",
      "'squared' is deprecated in version 1.4 and will be removed in 1.6. To calculate the root mean squared error, use the function'root_mean_squared_error'.\n",
      "\n",
      "/Users/mariaminotaki/miniconda3/envs/bms/lib/python3.10/site-packages/sklearn/metrics/_regression.py:492: FutureWarning:\n",
      "\n",
      "'squared' is deprecated in version 1.4 and will be removed in 1.6. To calculate the root mean squared error, use the function'root_mean_squared_error'.\n",
      "\n",
      "/Users/mariaminotaki/miniconda3/envs/bms/lib/python3.10/site-packages/sklearn/metrics/_regression.py:492: FutureWarning:\n",
      "\n",
      "'squared' is deprecated in version 1.4 and will be removed in 1.6. To calculate the root mean squared error, use the function'root_mean_squared_error'.\n",
      "\n",
      "/Users/mariaminotaki/miniconda3/envs/bms/lib/python3.10/site-packages/sklearn/metrics/_regression.py:492: FutureWarning:\n",
      "\n",
      "'squared' is deprecated in version 1.4 and will be removed in 1.6. To calculate the root mean squared error, use the function'root_mean_squared_error'.\n",
      "\n",
      "/Users/mariaminotaki/miniconda3/envs/bms/lib/python3.10/site-packages/sklearn/metrics/_regression.py:492: FutureWarning:\n",
      "\n",
      "'squared' is deprecated in version 1.4 and will be removed in 1.6. To calculate the root mean squared error, use the function'root_mean_squared_error'.\n",
      "\n",
      "/Users/mariaminotaki/miniconda3/envs/bms/lib/python3.10/site-packages/sklearn/metrics/_regression.py:492: FutureWarning:\n",
      "\n",
      "'squared' is deprecated in version 1.4 and will be removed in 1.6. To calculate the root mean squared error, use the function'root_mean_squared_error'.\n",
      "\n",
      "/Users/mariaminotaki/miniconda3/envs/bms/lib/python3.10/site-packages/sklearn/metrics/_regression.py:492: FutureWarning:\n",
      "\n",
      "'squared' is deprecated in version 1.4 and will be removed in 1.6. To calculate the root mean squared error, use the function'root_mean_squared_error'.\n",
      "\n",
      "/Users/mariaminotaki/miniconda3/envs/bms/lib/python3.10/site-packages/sklearn/metrics/_regression.py:492: FutureWarning:\n",
      "\n",
      "'squared' is deprecated in version 1.4 and will be removed in 1.6. To calculate the root mean squared error, use the function'root_mean_squared_error'.\n",
      "\n",
      "/Users/mariaminotaki/miniconda3/envs/bms/lib/python3.10/site-packages/sklearn/metrics/_regression.py:492: FutureWarning:\n",
      "\n",
      "'squared' is deprecated in version 1.4 and will be removed in 1.6. To calculate the root mean squared error, use the function'root_mean_squared_error'.\n",
      "\n",
      "/Users/mariaminotaki/miniconda3/envs/bms/lib/python3.10/site-packages/sklearn/metrics/_regression.py:492: FutureWarning:\n",
      "\n",
      "'squared' is deprecated in version 1.4 and will be removed in 1.6. To calculate the root mean squared error, use the function'root_mean_squared_error'.\n",
      "\n",
      "/Users/mariaminotaki/miniconda3/envs/bms/lib/python3.10/site-packages/sklearn/metrics/_regression.py:492: FutureWarning:\n",
      "\n",
      "'squared' is deprecated in version 1.4 and will be removed in 1.6. To calculate the root mean squared error, use the function'root_mean_squared_error'.\n",
      "\n",
      "/Users/mariaminotaki/miniconda3/envs/bms/lib/python3.10/site-packages/sklearn/metrics/_regression.py:492: FutureWarning:\n",
      "\n",
      "'squared' is deprecated in version 1.4 and will be removed in 1.6. To calculate the root mean squared error, use the function'root_mean_squared_error'.\n",
      "\n",
      "/Users/mariaminotaki/miniconda3/envs/bms/lib/python3.10/site-packages/sklearn/metrics/_regression.py:492: FutureWarning:\n",
      "\n",
      "'squared' is deprecated in version 1.4 and will be removed in 1.6. To calculate the root mean squared error, use the function'root_mean_squared_error'.\n",
      "\n",
      "100%|██████████| 8/8 [00:08<00:00,  1.05s/it]\n",
      "/Users/mariaminotaki/miniconda3/envs/bms/lib/python3.10/site-packages/sklearn/metrics/_regression.py:492: FutureWarning:\n",
      "\n",
      "'squared' is deprecated in version 1.4 and will be removed in 1.6. To calculate the root mean squared error, use the function'root_mean_squared_error'.\n",
      "\n",
      "/Users/mariaminotaki/miniconda3/envs/bms/lib/python3.10/site-packages/sklearn/metrics/_regression.py:492: FutureWarning:\n",
      "\n",
      "'squared' is deprecated in version 1.4 and will be removed in 1.6. To calculate the root mean squared error, use the function'root_mean_squared_error'.\n",
      "\n",
      "/Users/mariaminotaki/miniconda3/envs/bms/lib/python3.10/site-packages/sklearn/metrics/_regression.py:492: FutureWarning:\n",
      "\n",
      "'squared' is deprecated in version 1.4 and will be removed in 1.6. To calculate the root mean squared error, use the function'root_mean_squared_error'.\n",
      "\n",
      "/Users/mariaminotaki/miniconda3/envs/bms/lib/python3.10/site-packages/sklearn/metrics/_regression.py:492: FutureWarning:\n",
      "\n",
      "'squared' is deprecated in version 1.4 and will be removed in 1.6. To calculate the root mean squared error, use the function'root_mean_squared_error'.\n",
      "\n",
      "/Users/mariaminotaki/miniconda3/envs/bms/lib/python3.10/site-packages/sklearn/metrics/_regression.py:492: FutureWarning:\n",
      "\n",
      "'squared' is deprecated in version 1.4 and will be removed in 1.6. To calculate the root mean squared error, use the function'root_mean_squared_error'.\n",
      "\n",
      "/Users/mariaminotaki/miniconda3/envs/bms/lib/python3.10/site-packages/sklearn/metrics/_regression.py:492: FutureWarning:\n",
      "\n",
      "'squared' is deprecated in version 1.4 and will be removed in 1.6. To calculate the root mean squared error, use the function'root_mean_squared_error'.\n",
      "\n",
      "/Users/mariaminotaki/miniconda3/envs/bms/lib/python3.10/site-packages/sklearn/metrics/_regression.py:492: FutureWarning:\n",
      "\n",
      "'squared' is deprecated in version 1.4 and will be removed in 1.6. To calculate the root mean squared error, use the function'root_mean_squared_error'.\n",
      "\n",
      "/Users/mariaminotaki/miniconda3/envs/bms/lib/python3.10/site-packages/sklearn/metrics/_regression.py:492: FutureWarning:\n",
      "\n",
      "'squared' is deprecated in version 1.4 and will be removed in 1.6. To calculate the root mean squared error, use the function'root_mean_squared_error'.\n",
      "\n",
      "/Users/mariaminotaki/miniconda3/envs/bms/lib/python3.10/site-packages/sklearn/metrics/_regression.py:492: FutureWarning:\n",
      "\n",
      "'squared' is deprecated in version 1.4 and will be removed in 1.6. To calculate the root mean squared error, use the function'root_mean_squared_error'.\n",
      "\n",
      "/Users/mariaminotaki/miniconda3/envs/bms/lib/python3.10/site-packages/sklearn/metrics/_regression.py:492: FutureWarning:\n",
      "\n",
      "'squared' is deprecated in version 1.4 and will be removed in 1.6. To calculate the root mean squared error, use the function'root_mean_squared_error'.\n",
      "\n",
      "/Users/mariaminotaki/miniconda3/envs/bms/lib/python3.10/site-packages/sklearn/metrics/_regression.py:492: FutureWarning:\n",
      "\n",
      "'squared' is deprecated in version 1.4 and will be removed in 1.6. To calculate the root mean squared error, use the function'root_mean_squared_error'.\n",
      "\n",
      "/Users/mariaminotaki/miniconda3/envs/bms/lib/python3.10/site-packages/sklearn/metrics/_regression.py:492: FutureWarning:\n",
      "\n",
      "'squared' is deprecated in version 1.4 and will be removed in 1.6. To calculate the root mean squared error, use the function'root_mean_squared_error'.\n",
      "\n",
      "/Users/mariaminotaki/miniconda3/envs/bms/lib/python3.10/site-packages/sklearn/metrics/_regression.py:492: FutureWarning:\n",
      "\n",
      "'squared' is deprecated in version 1.4 and will be removed in 1.6. To calculate the root mean squared error, use the function'root_mean_squared_error'.\n",
      "\n",
      "/Users/mariaminotaki/miniconda3/envs/bms/lib/python3.10/site-packages/sklearn/metrics/_regression.py:492: FutureWarning:\n",
      "\n",
      "'squared' is deprecated in version 1.4 and will be removed in 1.6. To calculate the root mean squared error, use the function'root_mean_squared_error'.\n",
      "\n",
      "/Users/mariaminotaki/miniconda3/envs/bms/lib/python3.10/site-packages/sklearn/metrics/_regression.py:492: FutureWarning:\n",
      "\n",
      "'squared' is deprecated in version 1.4 and will be removed in 1.6. To calculate the root mean squared error, use the function'root_mean_squared_error'.\n",
      "\n",
      "/Users/mariaminotaki/miniconda3/envs/bms/lib/python3.10/site-packages/sklearn/metrics/_regression.py:492: FutureWarning:\n",
      "\n",
      "'squared' is deprecated in version 1.4 and will be removed in 1.6. To calculate the root mean squared error, use the function'root_mean_squared_error'.\n",
      "\n",
      "/Users/mariaminotaki/miniconda3/envs/bms/lib/python3.10/site-packages/sklearn/metrics/_regression.py:492: FutureWarning:\n",
      "\n",
      "'squared' is deprecated in version 1.4 and will be removed in 1.6. To calculate the root mean squared error, use the function'root_mean_squared_error'.\n",
      "\n",
      "/Users/mariaminotaki/miniconda3/envs/bms/lib/python3.10/site-packages/sklearn/metrics/_regression.py:492: FutureWarning:\n",
      "\n",
      "'squared' is deprecated in version 1.4 and will be removed in 1.6. To calculate the root mean squared error, use the function'root_mean_squared_error'.\n",
      "\n",
      "/Users/mariaminotaki/miniconda3/envs/bms/lib/python3.10/site-packages/sklearn/metrics/_regression.py:492: FutureWarning:\n",
      "\n",
      "'squared' is deprecated in version 1.4 and will be removed in 1.6. To calculate the root mean squared error, use the function'root_mean_squared_error'.\n",
      "\n",
      "/Users/mariaminotaki/miniconda3/envs/bms/lib/python3.10/site-packages/sklearn/metrics/_regression.py:492: FutureWarning:\n",
      "\n",
      "'squared' is deprecated in version 1.4 and will be removed in 1.6. To calculate the root mean squared error, use the function'root_mean_squared_error'.\n",
      "\n",
      "/Users/mariaminotaki/miniconda3/envs/bms/lib/python3.10/site-packages/sklearn/metrics/_regression.py:492: FutureWarning:\n",
      "\n",
      "'squared' is deprecated in version 1.4 and will be removed in 1.6. To calculate the root mean squared error, use the function'root_mean_squared_error'.\n",
      "\n",
      "/Users/mariaminotaki/miniconda3/envs/bms/lib/python3.10/site-packages/sklearn/metrics/_regression.py:492: FutureWarning:\n",
      "\n",
      "'squared' is deprecated in version 1.4 and will be removed in 1.6. To calculate the root mean squared error, use the function'root_mean_squared_error'.\n",
      "\n",
      "/Users/mariaminotaki/miniconda3/envs/bms/lib/python3.10/site-packages/sklearn/metrics/_regression.py:492: FutureWarning:\n",
      "\n",
      "'squared' is deprecated in version 1.4 and will be removed in 1.6. To calculate the root mean squared error, use the function'root_mean_squared_error'.\n",
      "\n",
      "/Users/mariaminotaki/miniconda3/envs/bms/lib/python3.10/site-packages/sklearn/metrics/_regression.py:492: FutureWarning:\n",
      "\n",
      "'squared' is deprecated in version 1.4 and will be removed in 1.6. To calculate the root mean squared error, use the function'root_mean_squared_error'.\n",
      "\n",
      "/Users/mariaminotaki/miniconda3/envs/bms/lib/python3.10/site-packages/sklearn/metrics/_regression.py:492: FutureWarning:\n",
      "\n",
      "'squared' is deprecated in version 1.4 and will be removed in 1.6. To calculate the root mean squared error, use the function'root_mean_squared_error'.\n",
      "\n",
      "/Users/mariaminotaki/miniconda3/envs/bms/lib/python3.10/site-packages/sklearn/metrics/_regression.py:492: FutureWarning:\n",
      "\n",
      "'squared' is deprecated in version 1.4 and will be removed in 1.6. To calculate the root mean squared error, use the function'root_mean_squared_error'.\n",
      "\n",
      "/Users/mariaminotaki/miniconda3/envs/bms/lib/python3.10/site-packages/sklearn/metrics/_regression.py:492: FutureWarning:\n",
      "\n",
      "'squared' is deprecated in version 1.4 and will be removed in 1.6. To calculate the root mean squared error, use the function'root_mean_squared_error'.\n",
      "\n",
      "/Users/mariaminotaki/miniconda3/envs/bms/lib/python3.10/site-packages/sklearn/metrics/_regression.py:492: FutureWarning:\n",
      "\n",
      "'squared' is deprecated in version 1.4 and will be removed in 1.6. To calculate the root mean squared error, use the function'root_mean_squared_error'.\n",
      "\n",
      "/Users/mariaminotaki/miniconda3/envs/bms/lib/python3.10/site-packages/sklearn/metrics/_regression.py:492: FutureWarning:\n",
      "\n",
      "'squared' is deprecated in version 1.4 and will be removed in 1.6. To calculate the root mean squared error, use the function'root_mean_squared_error'.\n",
      "\n",
      "/Users/mariaminotaki/miniconda3/envs/bms/lib/python3.10/site-packages/sklearn/metrics/_regression.py:492: FutureWarning:\n",
      "\n",
      "'squared' is deprecated in version 1.4 and will be removed in 1.6. To calculate the root mean squared error, use the function'root_mean_squared_error'.\n",
      "\n"
     ]
    },
    {
     "data": {
      "application/vnd.plotly.v1+json": {
       "config": {
        "plotlyServerURL": "https://plot.ly"
       },
       "data": [
        {
         "hoverinfo": "x+y",
         "line": {
          "color": "blue",
          "width": 3
         },
         "mode": "lines",
         "name": "RMSE (train)",
         "showlegend": true,
         "type": "scatter",
         "x": [
          1,
          3,
          5,
          7,
          9,
          11,
          13,
          15
         ],
         "xaxis": "x",
         "y": [
          1.33,
          0.79,
          0.48,
          0.32,
          0.22,
          0.17,
          0.15,
          0.14
         ],
         "yaxis": "y"
        },
        {
         "hoverinfo": "x+y",
         "line": {
          "color": "blue",
          "dash": "dash",
          "width": 3
         },
         "mode": "lines",
         "name": "RMSE (test)",
         "showlegend": true,
         "type": "scatter",
         "x": [
          1,
          3,
          5,
          7,
          9,
          11,
          13,
          15
         ],
         "xaxis": "x",
         "y": [
          1.33,
          0.82,
          0.56,
          0.45,
          0.42,
          0.41,
          0.4,
          0.41
         ],
         "yaxis": "y"
        },
        {
         "hoverinfo": "x+y",
         "line": {
          "color": "red",
          "width": 3
         },
         "mode": "lines",
         "name": "R<sup>2</sup> (train)",
         "showlegend": true,
         "type": "scatter",
         "x": [
          1,
          3,
          5,
          7,
          9,
          11,
          13,
          15
         ],
         "xaxis": "x",
         "y": [
          0.31,
          0.75,
          0.91,
          0.96,
          0.98,
          0.99,
          0.99,
          0.99
         ],
         "yaxis": "y2"
        },
        {
         "hoverinfo": "x+y",
         "line": {
          "color": "red",
          "dash": "dash",
          "width": 3
         },
         "mode": "lines",
         "name": "R<sup>2</sup> (test)",
         "showlegend": true,
         "type": "scatter",
         "x": [
          1,
          3,
          5,
          7,
          9,
          11,
          13,
          15
         ],
         "xaxis": "x",
         "y": [
          0.04,
          0.63,
          0.82,
          0.89,
          0.9,
          0.91,
          0.91,
          0.91
         ],
         "yaxis": "y2"
        },
        {
         "hoverinfo": "x+y",
         "line": {
          "color": "green",
          "width": 3
         },
         "mode": "lines",
         "name": "MAE (train)",
         "showlegend": true,
         "type": "scatter",
         "x": [
          1,
          3,
          5,
          7,
          9,
          11,
          13,
          15
         ],
         "xaxis": "x",
         "y": [
          1.04,
          0.63,
          0.38,
          0.25,
          0.17,
          0.13,
          0.11,
          0.11
         ],
         "yaxis": "y"
        },
        {
         "hoverinfo": "x+y",
         "line": {
          "color": "green",
          "dash": "dash",
          "width": 3
         },
         "mode": "lines",
         "name": "MAE (test)",
         "showlegend": true,
         "type": "scatter",
         "x": [
          1,
          3,
          5,
          7,
          9,
          11,
          13,
          15
         ],
         "xaxis": "x",
         "y": [
          1.05,
          0.65,
          0.44,
          0.36,
          0.32,
          0.31,
          0.31,
          0.31
         ],
         "yaxis": "y"
        },
        {
         "hoverinfo": "text",
         "line": {
          "color": "blue",
          "width": 0.001
         },
         "mode": "lines",
         "name": "RMSE (train)",
         "showlegend": false,
         "text": [
          "",
          "",
          "",
          "",
          "",
          "",
          "",
          ""
         ],
         "type": "scatter",
         "x": [
          1,
          3,
          5,
          7,
          9,
          11,
          13,
          15
         ],
         "y": [
          1.0531367597491674,
          0.6547254069210414,
          0.4448750440208452,
          0.35679706552211987,
          0.32259732985813233,
          0.31185819137697324,
          0.31035757716057705,
          0.3102005313780245
         ]
        }
       ],
       "layout": {
        "font": {
         "color": "black",
         "family": "Arial"
        },
        "height": 500,
        "hoverlabel": {
         "namelength": -1
        },
        "hovermode": "x unified",
        "legend": {
         "bgcolor": "rgba(0,0,0,0.1)",
         "font": {
          "size": 26
         },
         "x": 0.5,
         "xanchor": "center",
         "y": 1,
         "yanchor": "top"
        },
        "margin": {
         "b": 0,
         "l": 0,
         "r": 0,
         "t": 0
        },
        "paper_bgcolor": "white",
        "plot_bgcolor": "white",
        "template": {
         "data": {
          "bar": [
           {
            "error_x": {
             "color": "#2a3f5f"
            },
            "error_y": {
             "color": "#2a3f5f"
            },
            "marker": {
             "line": {
              "color": "#E5ECF6",
              "width": 0.5
             },
             "pattern": {
              "fillmode": "overlay",
              "size": 10,
              "solidity": 0.2
             }
            },
            "type": "bar"
           }
          ],
          "barpolar": [
           {
            "marker": {
             "line": {
              "color": "#E5ECF6",
              "width": 0.5
             },
             "pattern": {
              "fillmode": "overlay",
              "size": 10,
              "solidity": 0.2
             }
            },
            "type": "barpolar"
           }
          ],
          "carpet": [
           {
            "aaxis": {
             "endlinecolor": "#2a3f5f",
             "gridcolor": "white",
             "linecolor": "white",
             "minorgridcolor": "white",
             "startlinecolor": "#2a3f5f"
            },
            "baxis": {
             "endlinecolor": "#2a3f5f",
             "gridcolor": "white",
             "linecolor": "white",
             "minorgridcolor": "white",
             "startlinecolor": "#2a3f5f"
            },
            "type": "carpet"
           }
          ],
          "choropleth": [
           {
            "colorbar": {
             "outlinewidth": 0,
             "ticks": ""
            },
            "type": "choropleth"
           }
          ],
          "contour": [
           {
            "colorbar": {
             "outlinewidth": 0,
             "ticks": ""
            },
            "colorscale": [
             [
              0,
              "#0d0887"
             ],
             [
              0.1111111111111111,
              "#46039f"
             ],
             [
              0.2222222222222222,
              "#7201a8"
             ],
             [
              0.3333333333333333,
              "#9c179e"
             ],
             [
              0.4444444444444444,
              "#bd3786"
             ],
             [
              0.5555555555555556,
              "#d8576b"
             ],
             [
              0.6666666666666666,
              "#ed7953"
             ],
             [
              0.7777777777777778,
              "#fb9f3a"
             ],
             [
              0.8888888888888888,
              "#fdca26"
             ],
             [
              1,
              "#f0f921"
             ]
            ],
            "type": "contour"
           }
          ],
          "contourcarpet": [
           {
            "colorbar": {
             "outlinewidth": 0,
             "ticks": ""
            },
            "type": "contourcarpet"
           }
          ],
          "heatmap": [
           {
            "colorbar": {
             "outlinewidth": 0,
             "ticks": ""
            },
            "colorscale": [
             [
              0,
              "#0d0887"
             ],
             [
              0.1111111111111111,
              "#46039f"
             ],
             [
              0.2222222222222222,
              "#7201a8"
             ],
             [
              0.3333333333333333,
              "#9c179e"
             ],
             [
              0.4444444444444444,
              "#bd3786"
             ],
             [
              0.5555555555555556,
              "#d8576b"
             ],
             [
              0.6666666666666666,
              "#ed7953"
             ],
             [
              0.7777777777777778,
              "#fb9f3a"
             ],
             [
              0.8888888888888888,
              "#fdca26"
             ],
             [
              1,
              "#f0f921"
             ]
            ],
            "type": "heatmap"
           }
          ],
          "heatmapgl": [
           {
            "colorbar": {
             "outlinewidth": 0,
             "ticks": ""
            },
            "colorscale": [
             [
              0,
              "#0d0887"
             ],
             [
              0.1111111111111111,
              "#46039f"
             ],
             [
              0.2222222222222222,
              "#7201a8"
             ],
             [
              0.3333333333333333,
              "#9c179e"
             ],
             [
              0.4444444444444444,
              "#bd3786"
             ],
             [
              0.5555555555555556,
              "#d8576b"
             ],
             [
              0.6666666666666666,
              "#ed7953"
             ],
             [
              0.7777777777777778,
              "#fb9f3a"
             ],
             [
              0.8888888888888888,
              "#fdca26"
             ],
             [
              1,
              "#f0f921"
             ]
            ],
            "type": "heatmapgl"
           }
          ],
          "histogram": [
           {
            "marker": {
             "pattern": {
              "fillmode": "overlay",
              "size": 10,
              "solidity": 0.2
             }
            },
            "type": "histogram"
           }
          ],
          "histogram2d": [
           {
            "colorbar": {
             "outlinewidth": 0,
             "ticks": ""
            },
            "colorscale": [
             [
              0,
              "#0d0887"
             ],
             [
              0.1111111111111111,
              "#46039f"
             ],
             [
              0.2222222222222222,
              "#7201a8"
             ],
             [
              0.3333333333333333,
              "#9c179e"
             ],
             [
              0.4444444444444444,
              "#bd3786"
             ],
             [
              0.5555555555555556,
              "#d8576b"
             ],
             [
              0.6666666666666666,
              "#ed7953"
             ],
             [
              0.7777777777777778,
              "#fb9f3a"
             ],
             [
              0.8888888888888888,
              "#fdca26"
             ],
             [
              1,
              "#f0f921"
             ]
            ],
            "type": "histogram2d"
           }
          ],
          "histogram2dcontour": [
           {
            "colorbar": {
             "outlinewidth": 0,
             "ticks": ""
            },
            "colorscale": [
             [
              0,
              "#0d0887"
             ],
             [
              0.1111111111111111,
              "#46039f"
             ],
             [
              0.2222222222222222,
              "#7201a8"
             ],
             [
              0.3333333333333333,
              "#9c179e"
             ],
             [
              0.4444444444444444,
              "#bd3786"
             ],
             [
              0.5555555555555556,
              "#d8576b"
             ],
             [
              0.6666666666666666,
              "#ed7953"
             ],
             [
              0.7777777777777778,
              "#fb9f3a"
             ],
             [
              0.8888888888888888,
              "#fdca26"
             ],
             [
              1,
              "#f0f921"
             ]
            ],
            "type": "histogram2dcontour"
           }
          ],
          "mesh3d": [
           {
            "colorbar": {
             "outlinewidth": 0,
             "ticks": ""
            },
            "type": "mesh3d"
           }
          ],
          "parcoords": [
           {
            "line": {
             "colorbar": {
              "outlinewidth": 0,
              "ticks": ""
             }
            },
            "type": "parcoords"
           }
          ],
          "pie": [
           {
            "automargin": true,
            "type": "pie"
           }
          ],
          "scatter": [
           {
            "fillpattern": {
             "fillmode": "overlay",
             "size": 10,
             "solidity": 0.2
            },
            "type": "scatter"
           }
          ],
          "scatter3d": [
           {
            "line": {
             "colorbar": {
              "outlinewidth": 0,
              "ticks": ""
             }
            },
            "marker": {
             "colorbar": {
              "outlinewidth": 0,
              "ticks": ""
             }
            },
            "type": "scatter3d"
           }
          ],
          "scattercarpet": [
           {
            "marker": {
             "colorbar": {
              "outlinewidth": 0,
              "ticks": ""
             }
            },
            "type": "scattercarpet"
           }
          ],
          "scattergeo": [
           {
            "marker": {
             "colorbar": {
              "outlinewidth": 0,
              "ticks": ""
             }
            },
            "type": "scattergeo"
           }
          ],
          "scattergl": [
           {
            "marker": {
             "colorbar": {
              "outlinewidth": 0,
              "ticks": ""
             }
            },
            "type": "scattergl"
           }
          ],
          "scattermapbox": [
           {
            "marker": {
             "colorbar": {
              "outlinewidth": 0,
              "ticks": ""
             }
            },
            "type": "scattermapbox"
           }
          ],
          "scatterpolar": [
           {
            "marker": {
             "colorbar": {
              "outlinewidth": 0,
              "ticks": ""
             }
            },
            "type": "scatterpolar"
           }
          ],
          "scatterpolargl": [
           {
            "marker": {
             "colorbar": {
              "outlinewidth": 0,
              "ticks": ""
             }
            },
            "type": "scatterpolargl"
           }
          ],
          "scatterternary": [
           {
            "marker": {
             "colorbar": {
              "outlinewidth": 0,
              "ticks": ""
             }
            },
            "type": "scatterternary"
           }
          ],
          "surface": [
           {
            "colorbar": {
             "outlinewidth": 0,
             "ticks": ""
            },
            "colorscale": [
             [
              0,
              "#0d0887"
             ],
             [
              0.1111111111111111,
              "#46039f"
             ],
             [
              0.2222222222222222,
              "#7201a8"
             ],
             [
              0.3333333333333333,
              "#9c179e"
             ],
             [
              0.4444444444444444,
              "#bd3786"
             ],
             [
              0.5555555555555556,
              "#d8576b"
             ],
             [
              0.6666666666666666,
              "#ed7953"
             ],
             [
              0.7777777777777778,
              "#fb9f3a"
             ],
             [
              0.8888888888888888,
              "#fdca26"
             ],
             [
              1,
              "#f0f921"
             ]
            ],
            "type": "surface"
           }
          ],
          "table": [
           {
            "cells": {
             "fill": {
              "color": "#EBF0F8"
             },
             "line": {
              "color": "white"
             }
            },
            "header": {
             "fill": {
              "color": "#C8D4E3"
             },
             "line": {
              "color": "white"
             }
            },
            "type": "table"
           }
          ]
         },
         "layout": {
          "annotationdefaults": {
           "arrowcolor": "#2a3f5f",
           "arrowhead": 0,
           "arrowwidth": 1
          },
          "autotypenumbers": "strict",
          "coloraxis": {
           "colorbar": {
            "outlinewidth": 0,
            "ticks": ""
           }
          },
          "colorscale": {
           "diverging": [
            [
             0,
             "#8e0152"
            ],
            [
             0.1,
             "#c51b7d"
            ],
            [
             0.2,
             "#de77ae"
            ],
            [
             0.3,
             "#f1b6da"
            ],
            [
             0.4,
             "#fde0ef"
            ],
            [
             0.5,
             "#f7f7f7"
            ],
            [
             0.6,
             "#e6f5d0"
            ],
            [
             0.7,
             "#b8e186"
            ],
            [
             0.8,
             "#7fbc41"
            ],
            [
             0.9,
             "#4d9221"
            ],
            [
             1,
             "#276419"
            ]
           ],
           "sequential": [
            [
             0,
             "#0d0887"
            ],
            [
             0.1111111111111111,
             "#46039f"
            ],
            [
             0.2222222222222222,
             "#7201a8"
            ],
            [
             0.3333333333333333,
             "#9c179e"
            ],
            [
             0.4444444444444444,
             "#bd3786"
            ],
            [
             0.5555555555555556,
             "#d8576b"
            ],
            [
             0.6666666666666666,
             "#ed7953"
            ],
            [
             0.7777777777777778,
             "#fb9f3a"
            ],
            [
             0.8888888888888888,
             "#fdca26"
            ],
            [
             1,
             "#f0f921"
            ]
           ],
           "sequentialminus": [
            [
             0,
             "#0d0887"
            ],
            [
             0.1111111111111111,
             "#46039f"
            ],
            [
             0.2222222222222222,
             "#7201a8"
            ],
            [
             0.3333333333333333,
             "#9c179e"
            ],
            [
             0.4444444444444444,
             "#bd3786"
            ],
            [
             0.5555555555555556,
             "#d8576b"
            ],
            [
             0.6666666666666666,
             "#ed7953"
            ],
            [
             0.7777777777777778,
             "#fb9f3a"
            ],
            [
             0.8888888888888888,
             "#fdca26"
            ],
            [
             1,
             "#f0f921"
            ]
           ]
          },
          "colorway": [
           "#636efa",
           "#EF553B",
           "#00cc96",
           "#ab63fa",
           "#FFA15A",
           "#19d3f3",
           "#FF6692",
           "#B6E880",
           "#FF97FF",
           "#FECB52"
          ],
          "font": {
           "color": "#2a3f5f"
          },
          "geo": {
           "bgcolor": "white",
           "lakecolor": "white",
           "landcolor": "#E5ECF6",
           "showlakes": true,
           "showland": true,
           "subunitcolor": "white"
          },
          "hoverlabel": {
           "align": "left"
          },
          "hovermode": "closest",
          "mapbox": {
           "style": "light"
          },
          "paper_bgcolor": "white",
          "plot_bgcolor": "#E5ECF6",
          "polar": {
           "angularaxis": {
            "gridcolor": "white",
            "linecolor": "white",
            "ticks": ""
           },
           "bgcolor": "#E5ECF6",
           "radialaxis": {
            "gridcolor": "white",
            "linecolor": "white",
            "ticks": ""
           }
          },
          "scene": {
           "xaxis": {
            "backgroundcolor": "#E5ECF6",
            "gridcolor": "white",
            "gridwidth": 2,
            "linecolor": "white",
            "showbackground": true,
            "ticks": "",
            "zerolinecolor": "white"
           },
           "yaxis": {
            "backgroundcolor": "#E5ECF6",
            "gridcolor": "white",
            "gridwidth": 2,
            "linecolor": "white",
            "showbackground": true,
            "ticks": "",
            "zerolinecolor": "white"
           },
           "zaxis": {
            "backgroundcolor": "#E5ECF6",
            "gridcolor": "white",
            "gridwidth": 2,
            "linecolor": "white",
            "showbackground": true,
            "ticks": "",
            "zerolinecolor": "white"
           }
          },
          "shapedefaults": {
           "line": {
            "color": "#2a3f5f"
           }
          },
          "ternary": {
           "aaxis": {
            "gridcolor": "white",
            "linecolor": "white",
            "ticks": ""
           },
           "baxis": {
            "gridcolor": "white",
            "linecolor": "white",
            "ticks": ""
           },
           "bgcolor": "#E5ECF6",
           "caxis": {
            "gridcolor": "white",
            "linecolor": "white",
            "ticks": ""
           }
          },
          "title": {
           "x": 0.05
          },
          "xaxis": {
           "automargin": true,
           "gridcolor": "white",
           "linecolor": "white",
           "ticks": "",
           "title": {
            "standoff": 15
           },
           "zerolinecolor": "white",
           "zerolinewidth": 2
          },
          "yaxis": {
           "automargin": true,
           "gridcolor": "white",
           "linecolor": "white",
           "ticks": "",
           "title": {
            "standoff": 15
           },
           "zerolinecolor": "white",
           "zerolinewidth": 2
          }
         }
        },
        "width": 809,
        "xaxis": {
         "anchor": "y",
         "domain": [
          0,
          0.94
         ],
         "gridcolor": "rgba(0,0,0,0.3)",
         "linecolor": "black",
         "linewidth": 3,
         "mirror": true,
         "range": [
          1,
          15
         ],
         "showgrid": false,
         "showline": true,
         "tickfont": {
          "size": 26
         },
         "ticklen": 6,
         "ticks": "outside",
         "tickwidth": 3,
         "title": {
          "font": {
           "size": 30
          },
          "text": "max_depth"
         },
         "zeroline": false
        },
        "yaxis": {
         "anchor": "x",
         "color": "blue",
         "domain": [
          0,
          1
         ],
         "gridcolor": "rgba(0,0,0,0.3)",
         "linecolor": "black",
         "linewidth": 3,
         "showgrid": false,
         "showline": true,
         "tickfont": {
          "size": 26
         },
         "ticklen": 6,
         "ticks": "outside",
         "tickwidth": 3,
         "title": {
          "font": {
           "color": "blue",
           "size": 30
          },
          "text": "RMSE / eV"
         },
         "zeroline": false
        },
        "yaxis2": {
         "anchor": "x",
         "color": "red",
         "gridcolor": "rgba(0,0,0,0.3)",
         "linecolor": "black",
         "linewidth": 3,
         "overlaying": "y",
         "showgrid": false,
         "showline": true,
         "side": "right",
         "tickfont": {
          "size": 26
         },
         "ticklen": 6,
         "ticks": "outside",
         "tickwidth": 3,
         "title": {
          "font": {
           "color": "red",
           "size": 30
          },
          "text": "R<sup>2</sup>"
         },
         "zeroline": false
        }
       }
      },
      "text/html": [
       "<div>                            <div id=\"e7779315-daa6-48d7-8b32-c04a11123c3b\" class=\"plotly-graph-div\" style=\"height:500px; width:809px;\"></div>            <script type=\"text/javascript\">                require([\"plotly\"], function(Plotly) {                    window.PLOTLYENV=window.PLOTLYENV || {};                                    if (document.getElementById(\"e7779315-daa6-48d7-8b32-c04a11123c3b\")) {                    Plotly.newPlot(                        \"e7779315-daa6-48d7-8b32-c04a11123c3b\",                        [{\"hoverinfo\":\"x+y\",\"line\":{\"color\":\"blue\",\"width\":3},\"mode\":\"lines\",\"name\":\"RMSE (train)\",\"showlegend\":true,\"x\":[1.0,3.0,5.0,7.0,9.0,11.0,13.0,15.0],\"y\":[1.33,0.79,0.48,0.32,0.22,0.17,0.15,0.14],\"yaxis\":\"y\",\"type\":\"scatter\",\"xaxis\":\"x\"},{\"hoverinfo\":\"x+y\",\"line\":{\"color\":\"blue\",\"dash\":\"dash\",\"width\":3},\"mode\":\"lines\",\"name\":\"RMSE (test)\",\"showlegend\":true,\"x\":[1.0,3.0,5.0,7.0,9.0,11.0,13.0,15.0],\"y\":[1.33,0.82,0.56,0.45,0.42,0.41,0.4,0.41],\"yaxis\":\"y\",\"type\":\"scatter\",\"xaxis\":\"x\"},{\"hoverinfo\":\"x+y\",\"line\":{\"color\":\"red\",\"width\":3},\"mode\":\"lines\",\"name\":\"R\\u003csup\\u003e2\\u003c\\u002fsup\\u003e (train)\",\"showlegend\":true,\"x\":[1.0,3.0,5.0,7.0,9.0,11.0,13.0,15.0],\"y\":[0.31,0.75,0.91,0.96,0.98,0.99,0.99,0.99],\"yaxis\":\"y2\",\"type\":\"scatter\",\"xaxis\":\"x\"},{\"hoverinfo\":\"x+y\",\"line\":{\"color\":\"red\",\"dash\":\"dash\",\"width\":3},\"mode\":\"lines\",\"name\":\"R\\u003csup\\u003e2\\u003c\\u002fsup\\u003e (test)\",\"showlegend\":true,\"x\":[1.0,3.0,5.0,7.0,9.0,11.0,13.0,15.0],\"y\":[0.04,0.63,0.82,0.89,0.9,0.91,0.91,0.91],\"yaxis\":\"y2\",\"type\":\"scatter\",\"xaxis\":\"x\"},{\"hoverinfo\":\"x+y\",\"line\":{\"color\":\"green\",\"width\":3},\"mode\":\"lines\",\"name\":\"MAE (train)\",\"showlegend\":true,\"x\":[1.0,3.0,5.0,7.0,9.0,11.0,13.0,15.0],\"y\":[1.04,0.63,0.38,0.25,0.17,0.13,0.11,0.11],\"yaxis\":\"y\",\"type\":\"scatter\",\"xaxis\":\"x\"},{\"hoverinfo\":\"x+y\",\"line\":{\"color\":\"green\",\"dash\":\"dash\",\"width\":3},\"mode\":\"lines\",\"name\":\"MAE (test)\",\"showlegend\":true,\"x\":[1.0,3.0,5.0,7.0,9.0,11.0,13.0,15.0],\"y\":[1.05,0.65,0.44,0.36,0.32,0.31,0.31,0.31],\"yaxis\":\"y\",\"type\":\"scatter\",\"xaxis\":\"x\"},{\"hoverinfo\":\"text\",\"line\":{\"color\":\"blue\",\"width\":0.001},\"mode\":\"lines\",\"name\":\"RMSE (train)\",\"showlegend\":false,\"text\":[\"\",\"\",\"\",\"\",\"\",\"\",\"\",\"\"],\"x\":[1.0,3.0,5.0,7.0,9.0,11.0,13.0,15.0],\"y\":[1.0531367597491674,0.6547254069210414,0.4448750440208452,0.35679706552211987,0.32259732985813233,0.31185819137697324,0.31035757716057705,0.3102005313780245],\"type\":\"scatter\"}],                        {\"template\":{\"data\":{\"histogram2dcontour\":[{\"type\":\"histogram2dcontour\",\"colorbar\":{\"outlinewidth\":0,\"ticks\":\"\"},\"colorscale\":[[0.0,\"#0d0887\"],[0.1111111111111111,\"#46039f\"],[0.2222222222222222,\"#7201a8\"],[0.3333333333333333,\"#9c179e\"],[0.4444444444444444,\"#bd3786\"],[0.5555555555555556,\"#d8576b\"],[0.6666666666666666,\"#ed7953\"],[0.7777777777777778,\"#fb9f3a\"],[0.8888888888888888,\"#fdca26\"],[1.0,\"#f0f921\"]]}],\"choropleth\":[{\"type\":\"choropleth\",\"colorbar\":{\"outlinewidth\":0,\"ticks\":\"\"}}],\"histogram2d\":[{\"type\":\"histogram2d\",\"colorbar\":{\"outlinewidth\":0,\"ticks\":\"\"},\"colorscale\":[[0.0,\"#0d0887\"],[0.1111111111111111,\"#46039f\"],[0.2222222222222222,\"#7201a8\"],[0.3333333333333333,\"#9c179e\"],[0.4444444444444444,\"#bd3786\"],[0.5555555555555556,\"#d8576b\"],[0.6666666666666666,\"#ed7953\"],[0.7777777777777778,\"#fb9f3a\"],[0.8888888888888888,\"#fdca26\"],[1.0,\"#f0f921\"]]}],\"heatmap\":[{\"type\":\"heatmap\",\"colorbar\":{\"outlinewidth\":0,\"ticks\":\"\"},\"colorscale\":[[0.0,\"#0d0887\"],[0.1111111111111111,\"#46039f\"],[0.2222222222222222,\"#7201a8\"],[0.3333333333333333,\"#9c179e\"],[0.4444444444444444,\"#bd3786\"],[0.5555555555555556,\"#d8576b\"],[0.6666666666666666,\"#ed7953\"],[0.7777777777777778,\"#fb9f3a\"],[0.8888888888888888,\"#fdca26\"],[1.0,\"#f0f921\"]]}],\"heatmapgl\":[{\"type\":\"heatmapgl\",\"colorbar\":{\"outlinewidth\":0,\"ticks\":\"\"},\"colorscale\":[[0.0,\"#0d0887\"],[0.1111111111111111,\"#46039f\"],[0.2222222222222222,\"#7201a8\"],[0.3333333333333333,\"#9c179e\"],[0.4444444444444444,\"#bd3786\"],[0.5555555555555556,\"#d8576b\"],[0.6666666666666666,\"#ed7953\"],[0.7777777777777778,\"#fb9f3a\"],[0.8888888888888888,\"#fdca26\"],[1.0,\"#f0f921\"]]}],\"contourcarpet\":[{\"type\":\"contourcarpet\",\"colorbar\":{\"outlinewidth\":0,\"ticks\":\"\"}}],\"contour\":[{\"type\":\"contour\",\"colorbar\":{\"outlinewidth\":0,\"ticks\":\"\"},\"colorscale\":[[0.0,\"#0d0887\"],[0.1111111111111111,\"#46039f\"],[0.2222222222222222,\"#7201a8\"],[0.3333333333333333,\"#9c179e\"],[0.4444444444444444,\"#bd3786\"],[0.5555555555555556,\"#d8576b\"],[0.6666666666666666,\"#ed7953\"],[0.7777777777777778,\"#fb9f3a\"],[0.8888888888888888,\"#fdca26\"],[1.0,\"#f0f921\"]]}],\"surface\":[{\"type\":\"surface\",\"colorbar\":{\"outlinewidth\":0,\"ticks\":\"\"},\"colorscale\":[[0.0,\"#0d0887\"],[0.1111111111111111,\"#46039f\"],[0.2222222222222222,\"#7201a8\"],[0.3333333333333333,\"#9c179e\"],[0.4444444444444444,\"#bd3786\"],[0.5555555555555556,\"#d8576b\"],[0.6666666666666666,\"#ed7953\"],[0.7777777777777778,\"#fb9f3a\"],[0.8888888888888888,\"#fdca26\"],[1.0,\"#f0f921\"]]}],\"mesh3d\":[{\"type\":\"mesh3d\",\"colorbar\":{\"outlinewidth\":0,\"ticks\":\"\"}}],\"scatter\":[{\"fillpattern\":{\"fillmode\":\"overlay\",\"size\":10,\"solidity\":0.2},\"type\":\"scatter\"}],\"parcoords\":[{\"type\":\"parcoords\",\"line\":{\"colorbar\":{\"outlinewidth\":0,\"ticks\":\"\"}}}],\"scatterpolargl\":[{\"type\":\"scatterpolargl\",\"marker\":{\"colorbar\":{\"outlinewidth\":0,\"ticks\":\"\"}}}],\"bar\":[{\"error_x\":{\"color\":\"#2a3f5f\"},\"error_y\":{\"color\":\"#2a3f5f\"},\"marker\":{\"line\":{\"color\":\"#E5ECF6\",\"width\":0.5},\"pattern\":{\"fillmode\":\"overlay\",\"size\":10,\"solidity\":0.2}},\"type\":\"bar\"}],\"scattergeo\":[{\"type\":\"scattergeo\",\"marker\":{\"colorbar\":{\"outlinewidth\":0,\"ticks\":\"\"}}}],\"scatterpolar\":[{\"type\":\"scatterpolar\",\"marker\":{\"colorbar\":{\"outlinewidth\":0,\"ticks\":\"\"}}}],\"histogram\":[{\"marker\":{\"pattern\":{\"fillmode\":\"overlay\",\"size\":10,\"solidity\":0.2}},\"type\":\"histogram\"}],\"scattergl\":[{\"type\":\"scattergl\",\"marker\":{\"colorbar\":{\"outlinewidth\":0,\"ticks\":\"\"}}}],\"scatter3d\":[{\"type\":\"scatter3d\",\"line\":{\"colorbar\":{\"outlinewidth\":0,\"ticks\":\"\"}},\"marker\":{\"colorbar\":{\"outlinewidth\":0,\"ticks\":\"\"}}}],\"scattermapbox\":[{\"type\":\"scattermapbox\",\"marker\":{\"colorbar\":{\"outlinewidth\":0,\"ticks\":\"\"}}}],\"scatterternary\":[{\"type\":\"scatterternary\",\"marker\":{\"colorbar\":{\"outlinewidth\":0,\"ticks\":\"\"}}}],\"scattercarpet\":[{\"type\":\"scattercarpet\",\"marker\":{\"colorbar\":{\"outlinewidth\":0,\"ticks\":\"\"}}}],\"carpet\":[{\"aaxis\":{\"endlinecolor\":\"#2a3f5f\",\"gridcolor\":\"white\",\"linecolor\":\"white\",\"minorgridcolor\":\"white\",\"startlinecolor\":\"#2a3f5f\"},\"baxis\":{\"endlinecolor\":\"#2a3f5f\",\"gridcolor\":\"white\",\"linecolor\":\"white\",\"minorgridcolor\":\"white\",\"startlinecolor\":\"#2a3f5f\"},\"type\":\"carpet\"}],\"table\":[{\"cells\":{\"fill\":{\"color\":\"#EBF0F8\"},\"line\":{\"color\":\"white\"}},\"header\":{\"fill\":{\"color\":\"#C8D4E3\"},\"line\":{\"color\":\"white\"}},\"type\":\"table\"}],\"barpolar\":[{\"marker\":{\"line\":{\"color\":\"#E5ECF6\",\"width\":0.5},\"pattern\":{\"fillmode\":\"overlay\",\"size\":10,\"solidity\":0.2}},\"type\":\"barpolar\"}],\"pie\":[{\"automargin\":true,\"type\":\"pie\"}]},\"layout\":{\"autotypenumbers\":\"strict\",\"colorway\":[\"#636efa\",\"#EF553B\",\"#00cc96\",\"#ab63fa\",\"#FFA15A\",\"#19d3f3\",\"#FF6692\",\"#B6E880\",\"#FF97FF\",\"#FECB52\"],\"font\":{\"color\":\"#2a3f5f\"},\"hovermode\":\"closest\",\"hoverlabel\":{\"align\":\"left\"},\"paper_bgcolor\":\"white\",\"plot_bgcolor\":\"#E5ECF6\",\"polar\":{\"bgcolor\":\"#E5ECF6\",\"angularaxis\":{\"gridcolor\":\"white\",\"linecolor\":\"white\",\"ticks\":\"\"},\"radialaxis\":{\"gridcolor\":\"white\",\"linecolor\":\"white\",\"ticks\":\"\"}},\"ternary\":{\"bgcolor\":\"#E5ECF6\",\"aaxis\":{\"gridcolor\":\"white\",\"linecolor\":\"white\",\"ticks\":\"\"},\"baxis\":{\"gridcolor\":\"white\",\"linecolor\":\"white\",\"ticks\":\"\"},\"caxis\":{\"gridcolor\":\"white\",\"linecolor\":\"white\",\"ticks\":\"\"}},\"coloraxis\":{\"colorbar\":{\"outlinewidth\":0,\"ticks\":\"\"}},\"colorscale\":{\"sequential\":[[0.0,\"#0d0887\"],[0.1111111111111111,\"#46039f\"],[0.2222222222222222,\"#7201a8\"],[0.3333333333333333,\"#9c179e\"],[0.4444444444444444,\"#bd3786\"],[0.5555555555555556,\"#d8576b\"],[0.6666666666666666,\"#ed7953\"],[0.7777777777777778,\"#fb9f3a\"],[0.8888888888888888,\"#fdca26\"],[1.0,\"#f0f921\"]],\"sequentialminus\":[[0.0,\"#0d0887\"],[0.1111111111111111,\"#46039f\"],[0.2222222222222222,\"#7201a8\"],[0.3333333333333333,\"#9c179e\"],[0.4444444444444444,\"#bd3786\"],[0.5555555555555556,\"#d8576b\"],[0.6666666666666666,\"#ed7953\"],[0.7777777777777778,\"#fb9f3a\"],[0.8888888888888888,\"#fdca26\"],[1.0,\"#f0f921\"]],\"diverging\":[[0,\"#8e0152\"],[0.1,\"#c51b7d\"],[0.2,\"#de77ae\"],[0.3,\"#f1b6da\"],[0.4,\"#fde0ef\"],[0.5,\"#f7f7f7\"],[0.6,\"#e6f5d0\"],[0.7,\"#b8e186\"],[0.8,\"#7fbc41\"],[0.9,\"#4d9221\"],[1,\"#276419\"]]},\"xaxis\":{\"gridcolor\":\"white\",\"linecolor\":\"white\",\"ticks\":\"\",\"title\":{\"standoff\":15},\"zerolinecolor\":\"white\",\"automargin\":true,\"zerolinewidth\":2},\"yaxis\":{\"gridcolor\":\"white\",\"linecolor\":\"white\",\"ticks\":\"\",\"title\":{\"standoff\":15},\"zerolinecolor\":\"white\",\"automargin\":true,\"zerolinewidth\":2},\"scene\":{\"xaxis\":{\"backgroundcolor\":\"#E5ECF6\",\"gridcolor\":\"white\",\"linecolor\":\"white\",\"showbackground\":true,\"ticks\":\"\",\"zerolinecolor\":\"white\",\"gridwidth\":2},\"yaxis\":{\"backgroundcolor\":\"#E5ECF6\",\"gridcolor\":\"white\",\"linecolor\":\"white\",\"showbackground\":true,\"ticks\":\"\",\"zerolinecolor\":\"white\",\"gridwidth\":2},\"zaxis\":{\"backgroundcolor\":\"#E5ECF6\",\"gridcolor\":\"white\",\"linecolor\":\"white\",\"showbackground\":true,\"ticks\":\"\",\"zerolinecolor\":\"white\",\"gridwidth\":2}},\"shapedefaults\":{\"line\":{\"color\":\"#2a3f5f\"}},\"annotationdefaults\":{\"arrowcolor\":\"#2a3f5f\",\"arrowhead\":0,\"arrowwidth\":1},\"geo\":{\"bgcolor\":\"white\",\"landcolor\":\"#E5ECF6\",\"subunitcolor\":\"white\",\"showland\":true,\"showlakes\":true,\"lakecolor\":\"white\"},\"title\":{\"x\":0.05},\"mapbox\":{\"style\":\"light\"}}},\"xaxis\":{\"anchor\":\"y\",\"domain\":[0.0,0.94],\"title\":{\"font\":{\"size\":30},\"text\":\"max_depth\"},\"tickfont\":{\"size\":26},\"gridcolor\":\"rgba(0,0,0,0.3)\",\"linecolor\":\"black\",\"linewidth\":3,\"mirror\":true,\"range\":[1,15],\"showgrid\":false,\"showline\":true,\"ticklen\":6,\"ticks\":\"outside\",\"tickwidth\":3,\"zeroline\":false},\"yaxis\":{\"anchor\":\"x\",\"domain\":[0.0,1.0],\"title\":{\"font\":{\"size\":30,\"color\":\"blue\"},\"text\":\"RMSE \\u002f eV\"},\"tickfont\":{\"size\":26},\"color\":\"blue\",\"gridcolor\":\"rgba(0,0,0,0.3)\",\"linecolor\":\"black\",\"linewidth\":3,\"showgrid\":false,\"showline\":true,\"ticklen\":6,\"ticks\":\"outside\",\"tickwidth\":3,\"zeroline\":false},\"yaxis2\":{\"anchor\":\"x\",\"overlaying\":\"y\",\"side\":\"right\",\"title\":{\"font\":{\"size\":30,\"color\":\"red\"},\"text\":\"R\\u003csup\\u003e2\\u003c\\u002fsup\\u003e\"},\"tickfont\":{\"size\":26},\"color\":\"red\",\"gridcolor\":\"rgba(0,0,0,0.3)\",\"linecolor\":\"black\",\"linewidth\":3,\"showgrid\":false,\"showline\":true,\"ticklen\":6,\"ticks\":\"outside\",\"tickwidth\":3,\"zeroline\":false},\"font\":{\"color\":\"black\",\"family\":\"Arial\"},\"hoverlabel\":{\"namelength\":-1},\"legend\":{\"font\":{\"size\":26},\"bgcolor\":\"rgba(0,0,0,0.1)\",\"x\":0.5,\"xanchor\":\"center\",\"y\":1,\"yanchor\":\"top\"},\"margin\":{\"b\":0,\"l\":0,\"r\":0,\"t\":0},\"height\":500,\"hovermode\":\"x unified\",\"paper_bgcolor\":\"white\",\"plot_bgcolor\":\"white\",\"width\":809},                        {\"responsive\": true}                    ).then(function(){\n",
       "                            \n",
       "var gd = document.getElementById('e7779315-daa6-48d7-8b32-c04a11123c3b');\n",
       "var x = new MutationObserver(function (mutations, observer) {{\n",
       "        var display = window.getComputedStyle(gd).display;\n",
       "        if (!display || display === 'none') {{\n",
       "            console.log([gd, 'removed!']);\n",
       "            Plotly.purge(gd);\n",
       "            observer.disconnect();\n",
       "        }}\n",
       "}});\n",
       "\n",
       "// Listen for the removal of the full notebook cells\n",
       "var notebookContainer = gd.closest('#notebook-container');\n",
       "if (notebookContainer) {{\n",
       "    x.observe(notebookContainer, {childList: true});\n",
       "}}\n",
       "\n",
       "// Listen for the clearing of the current output cell\n",
       "var outputEl = gd.closest('.output');\n",
       "if (outputEl) {{\n",
       "    x.observe(outputEl, {childList: true});\n",
       "}}\n",
       "\n",
       "                        })                };                });            </script>        </div>"
      ]
     },
     "metadata": {},
     "output_type": "display_data"
    }
   ],
   "source": [
    "rf_dict = {\n",
    "    \"bootstrap\": True,\n",
    "    \"ccp_alpha\": 0.0,\n",
    "    \"criterion\": \"squared_error\",\n",
    "    #\"max_depth\":8, #8\n",
    "    \"max_features\": 0.4,\n",
    "    \"max_leaf_nodes\": None,\n",
    "    \"max_samples\":None,\n",
    "    \"min_impurity_decrease\": 0.0,\n",
    "    # \"min_impurity_split\": None,\n",
    "    \"min_samples_leaf\": 1,\n",
    "    \"min_samples_split\": 2,\n",
    "    \"min_weight_fraction_leaf\": 0.0,\n",
    "    \"n_estimators\": 128,#128,\n",
    "    \"n_jobs\": -1,\n",
    "    \"oob_score\": False,\n",
    "    \"random_state\": 0,\n",
    "    \"verbose\": 0,\n",
    "    \"warm_start\": False,\n",
    "}\n",
    "\n",
    "\n",
    "rf_estimator_dict = vary_ml_param(\n",
    "    df_in=Edft_balanced_df_kfold,\n",
    "    ml_base_model=RandomForestRegressor(**rf_dict),\n",
    "    ml_features=selected_features,\n",
    "    ml_targets=target,\n",
    "    ml_param_dict={'max_depth': list(range(1, 16, 2))},\n",
    "    verbose=False,  \n",
    "    color_setup=color_setup \n",
    "    )\n",
    "\n",
    "rf_estimator_dict['error_fig'].show()"
   ]
  },
  {
   "cell_type": "markdown",
   "metadata": {},
   "source": [
    "This code performs hyperparameter tuning for a `RandomForestRegressor` by varying the `n_estimators`. It evaluates model performance using selected features and returns an error plot showing training and test errors. "
   ]
  },
  {
   "cell_type": "code",
   "execution_count": 11,
   "metadata": {},
   "outputs": [
    {
     "name": "stderr",
     "output_type": "stream",
     "text": [
      "  0%|          | 0/7 [00:00<?, ?it/s]/Users/mariaminotaki/miniconda3/envs/bms/lib/python3.10/site-packages/sklearn/metrics/_regression.py:492: FutureWarning:\n",
      "\n",
      "'squared' is deprecated in version 1.4 and will be removed in 1.6. To calculate the root mean squared error, use the function'root_mean_squared_error'.\n",
      "\n",
      "/Users/mariaminotaki/miniconda3/envs/bms/lib/python3.10/site-packages/sklearn/metrics/_regression.py:492: FutureWarning:\n",
      "\n",
      "'squared' is deprecated in version 1.4 and will be removed in 1.6. To calculate the root mean squared error, use the function'root_mean_squared_error'.\n",
      "\n",
      "/Users/mariaminotaki/miniconda3/envs/bms/lib/python3.10/site-packages/sklearn/metrics/_regression.py:492: FutureWarning:\n",
      "\n",
      "'squared' is deprecated in version 1.4 and will be removed in 1.6. To calculate the root mean squared error, use the function'root_mean_squared_error'.\n",
      "\n",
      "/Users/mariaminotaki/miniconda3/envs/bms/lib/python3.10/site-packages/sklearn/metrics/_regression.py:492: FutureWarning:\n",
      "\n",
      "'squared' is deprecated in version 1.4 and will be removed in 1.6. To calculate the root mean squared error, use the function'root_mean_squared_error'.\n",
      "\n",
      "/Users/mariaminotaki/miniconda3/envs/bms/lib/python3.10/site-packages/sklearn/metrics/_regression.py:492: FutureWarning:\n",
      "\n",
      "'squared' is deprecated in version 1.4 and will be removed in 1.6. To calculate the root mean squared error, use the function'root_mean_squared_error'.\n",
      "\n",
      "/Users/mariaminotaki/miniconda3/envs/bms/lib/python3.10/site-packages/sklearn/metrics/_regression.py:492: FutureWarning:\n",
      "\n",
      "'squared' is deprecated in version 1.4 and will be removed in 1.6. To calculate the root mean squared error, use the function'root_mean_squared_error'.\n",
      "\n",
      "/Users/mariaminotaki/miniconda3/envs/bms/lib/python3.10/site-packages/sklearn/metrics/_regression.py:492: FutureWarning:\n",
      "\n",
      "'squared' is deprecated in version 1.4 and will be removed in 1.6. To calculate the root mean squared error, use the function'root_mean_squared_error'.\n",
      "\n",
      "/Users/mariaminotaki/miniconda3/envs/bms/lib/python3.10/site-packages/sklearn/metrics/_regression.py:492: FutureWarning:\n",
      "\n",
      "'squared' is deprecated in version 1.4 and will be removed in 1.6. To calculate the root mean squared error, use the function'root_mean_squared_error'.\n",
      "\n",
      "/Users/mariaminotaki/miniconda3/envs/bms/lib/python3.10/site-packages/sklearn/metrics/_regression.py:492: FutureWarning:\n",
      "\n",
      "'squared' is deprecated in version 1.4 and will be removed in 1.6. To calculate the root mean squared error, use the function'root_mean_squared_error'.\n",
      "\n",
      "/Users/mariaminotaki/miniconda3/envs/bms/lib/python3.10/site-packages/sklearn/metrics/_regression.py:492: FutureWarning:\n",
      "\n",
      "'squared' is deprecated in version 1.4 and will be removed in 1.6. To calculate the root mean squared error, use the function'root_mean_squared_error'.\n",
      "\n",
      "/Users/mariaminotaki/miniconda3/envs/bms/lib/python3.10/site-packages/sklearn/metrics/_regression.py:492: FutureWarning:\n",
      "\n",
      "'squared' is deprecated in version 1.4 and will be removed in 1.6. To calculate the root mean squared error, use the function'root_mean_squared_error'.\n",
      "\n",
      "/Users/mariaminotaki/miniconda3/envs/bms/lib/python3.10/site-packages/sklearn/metrics/_regression.py:492: FutureWarning:\n",
      "\n",
      "'squared' is deprecated in version 1.4 and will be removed in 1.6. To calculate the root mean squared error, use the function'root_mean_squared_error'.\n",
      "\n",
      "/Users/mariaminotaki/miniconda3/envs/bms/lib/python3.10/site-packages/sklearn/metrics/_regression.py:492: FutureWarning:\n",
      "\n",
      "'squared' is deprecated in version 1.4 and will be removed in 1.6. To calculate the root mean squared error, use the function'root_mean_squared_error'.\n",
      "\n",
      "/Users/mariaminotaki/miniconda3/envs/bms/lib/python3.10/site-packages/sklearn/metrics/_regression.py:492: FutureWarning:\n",
      "\n",
      "'squared' is deprecated in version 1.4 and will be removed in 1.6. To calculate the root mean squared error, use the function'root_mean_squared_error'.\n",
      "\n",
      "/Users/mariaminotaki/miniconda3/envs/bms/lib/python3.10/site-packages/sklearn/metrics/_regression.py:492: FutureWarning:\n",
      "\n",
      "'squared' is deprecated in version 1.4 and will be removed in 1.6. To calculate the root mean squared error, use the function'root_mean_squared_error'.\n",
      "\n",
      "/Users/mariaminotaki/miniconda3/envs/bms/lib/python3.10/site-packages/sklearn/metrics/_regression.py:492: FutureWarning:\n",
      "\n",
      "'squared' is deprecated in version 1.4 and will be removed in 1.6. To calculate the root mean squared error, use the function'root_mean_squared_error'.\n",
      "\n",
      "/Users/mariaminotaki/miniconda3/envs/bms/lib/python3.10/site-packages/sklearn/metrics/_regression.py:492: FutureWarning:\n",
      "\n",
      "'squared' is deprecated in version 1.4 and will be removed in 1.6. To calculate the root mean squared error, use the function'root_mean_squared_error'.\n",
      "\n",
      "/Users/mariaminotaki/miniconda3/envs/bms/lib/python3.10/site-packages/sklearn/metrics/_regression.py:492: FutureWarning:\n",
      "\n",
      "'squared' is deprecated in version 1.4 and will be removed in 1.6. To calculate the root mean squared error, use the function'root_mean_squared_error'.\n",
      "\n",
      "/Users/mariaminotaki/miniconda3/envs/bms/lib/python3.10/site-packages/sklearn/metrics/_regression.py:492: FutureWarning:\n",
      "\n",
      "'squared' is deprecated in version 1.4 and will be removed in 1.6. To calculate the root mean squared error, use the function'root_mean_squared_error'.\n",
      "\n",
      "/Users/mariaminotaki/miniconda3/envs/bms/lib/python3.10/site-packages/sklearn/metrics/_regression.py:492: FutureWarning:\n",
      "\n",
      "'squared' is deprecated in version 1.4 and will be removed in 1.6. To calculate the root mean squared error, use the function'root_mean_squared_error'.\n",
      "\n",
      "/Users/mariaminotaki/miniconda3/envs/bms/lib/python3.10/site-packages/sklearn/metrics/_regression.py:492: FutureWarning:\n",
      "\n",
      "'squared' is deprecated in version 1.4 and will be removed in 1.6. To calculate the root mean squared error, use the function'root_mean_squared_error'.\n",
      "\n",
      "/Users/mariaminotaki/miniconda3/envs/bms/lib/python3.10/site-packages/sklearn/metrics/_regression.py:492: FutureWarning:\n",
      "\n",
      "'squared' is deprecated in version 1.4 and will be removed in 1.6. To calculate the root mean squared error, use the function'root_mean_squared_error'.\n",
      "\n",
      "/Users/mariaminotaki/miniconda3/envs/bms/lib/python3.10/site-packages/sklearn/metrics/_regression.py:492: FutureWarning:\n",
      "\n",
      "'squared' is deprecated in version 1.4 and will be removed in 1.6. To calculate the root mean squared error, use the function'root_mean_squared_error'.\n",
      "\n",
      "/Users/mariaminotaki/miniconda3/envs/bms/lib/python3.10/site-packages/sklearn/metrics/_regression.py:492: FutureWarning:\n",
      "\n",
      "'squared' is deprecated in version 1.4 and will be removed in 1.6. To calculate the root mean squared error, use the function'root_mean_squared_error'.\n",
      "\n",
      "/Users/mariaminotaki/miniconda3/envs/bms/lib/python3.10/site-packages/sklearn/metrics/_regression.py:492: FutureWarning:\n",
      "\n",
      "'squared' is deprecated in version 1.4 and will be removed in 1.6. To calculate the root mean squared error, use the function'root_mean_squared_error'.\n",
      "\n",
      "/Users/mariaminotaki/miniconda3/envs/bms/lib/python3.10/site-packages/sklearn/metrics/_regression.py:492: FutureWarning:\n",
      "\n",
      "'squared' is deprecated in version 1.4 and will be removed in 1.6. To calculate the root mean squared error, use the function'root_mean_squared_error'.\n",
      "\n",
      "/Users/mariaminotaki/miniconda3/envs/bms/lib/python3.10/site-packages/sklearn/metrics/_regression.py:492: FutureWarning:\n",
      "\n",
      "'squared' is deprecated in version 1.4 and will be removed in 1.6. To calculate the root mean squared error, use the function'root_mean_squared_error'.\n",
      "\n",
      "/Users/mariaminotaki/miniconda3/envs/bms/lib/python3.10/site-packages/sklearn/metrics/_regression.py:492: FutureWarning:\n",
      "\n",
      "'squared' is deprecated in version 1.4 and will be removed in 1.6. To calculate the root mean squared error, use the function'root_mean_squared_error'.\n",
      "\n",
      "/Users/mariaminotaki/miniconda3/envs/bms/lib/python3.10/site-packages/sklearn/metrics/_regression.py:492: FutureWarning:\n",
      "\n",
      "'squared' is deprecated in version 1.4 and will be removed in 1.6. To calculate the root mean squared error, use the function'root_mean_squared_error'.\n",
      "\n",
      "/Users/mariaminotaki/miniconda3/envs/bms/lib/python3.10/site-packages/sklearn/metrics/_regression.py:492: FutureWarning:\n",
      "\n",
      "'squared' is deprecated in version 1.4 and will be removed in 1.6. To calculate the root mean squared error, use the function'root_mean_squared_error'.\n",
      "\n",
      " 14%|█▍        | 1/7 [00:00<00:01,  5.03it/s]/Users/mariaminotaki/miniconda3/envs/bms/lib/python3.10/site-packages/sklearn/metrics/_regression.py:492: FutureWarning:\n",
      "\n",
      "'squared' is deprecated in version 1.4 and will be removed in 1.6. To calculate the root mean squared error, use the function'root_mean_squared_error'.\n",
      "\n",
      "/Users/mariaminotaki/miniconda3/envs/bms/lib/python3.10/site-packages/sklearn/metrics/_regression.py:492: FutureWarning:\n",
      "\n",
      "'squared' is deprecated in version 1.4 and will be removed in 1.6. To calculate the root mean squared error, use the function'root_mean_squared_error'.\n",
      "\n",
      "/Users/mariaminotaki/miniconda3/envs/bms/lib/python3.10/site-packages/sklearn/metrics/_regression.py:492: FutureWarning:\n",
      "\n",
      "'squared' is deprecated in version 1.4 and will be removed in 1.6. To calculate the root mean squared error, use the function'root_mean_squared_error'.\n",
      "\n",
      "/Users/mariaminotaki/miniconda3/envs/bms/lib/python3.10/site-packages/sklearn/metrics/_regression.py:492: FutureWarning:\n",
      "\n",
      "'squared' is deprecated in version 1.4 and will be removed in 1.6. To calculate the root mean squared error, use the function'root_mean_squared_error'.\n",
      "\n",
      "/Users/mariaminotaki/miniconda3/envs/bms/lib/python3.10/site-packages/sklearn/metrics/_regression.py:492: FutureWarning:\n",
      "\n",
      "'squared' is deprecated in version 1.4 and will be removed in 1.6. To calculate the root mean squared error, use the function'root_mean_squared_error'.\n",
      "\n",
      "/Users/mariaminotaki/miniconda3/envs/bms/lib/python3.10/site-packages/sklearn/metrics/_regression.py:492: FutureWarning:\n",
      "\n",
      "'squared' is deprecated in version 1.4 and will be removed in 1.6. To calculate the root mean squared error, use the function'root_mean_squared_error'.\n",
      "\n",
      "/Users/mariaminotaki/miniconda3/envs/bms/lib/python3.10/site-packages/sklearn/metrics/_regression.py:492: FutureWarning:\n",
      "\n",
      "'squared' is deprecated in version 1.4 and will be removed in 1.6. To calculate the root mean squared error, use the function'root_mean_squared_error'.\n",
      "\n",
      "/Users/mariaminotaki/miniconda3/envs/bms/lib/python3.10/site-packages/sklearn/metrics/_regression.py:492: FutureWarning:\n",
      "\n",
      "'squared' is deprecated in version 1.4 and will be removed in 1.6. To calculate the root mean squared error, use the function'root_mean_squared_error'.\n",
      "\n",
      "/Users/mariaminotaki/miniconda3/envs/bms/lib/python3.10/site-packages/sklearn/metrics/_regression.py:492: FutureWarning:\n",
      "\n",
      "'squared' is deprecated in version 1.4 and will be removed in 1.6. To calculate the root mean squared error, use the function'root_mean_squared_error'.\n",
      "\n",
      "/Users/mariaminotaki/miniconda3/envs/bms/lib/python3.10/site-packages/sklearn/metrics/_regression.py:492: FutureWarning:\n",
      "\n",
      "'squared' is deprecated in version 1.4 and will be removed in 1.6. To calculate the root mean squared error, use the function'root_mean_squared_error'.\n",
      "\n",
      "/Users/mariaminotaki/miniconda3/envs/bms/lib/python3.10/site-packages/sklearn/metrics/_regression.py:492: FutureWarning:\n",
      "\n",
      "'squared' is deprecated in version 1.4 and will be removed in 1.6. To calculate the root mean squared error, use the function'root_mean_squared_error'.\n",
      "\n",
      "/Users/mariaminotaki/miniconda3/envs/bms/lib/python3.10/site-packages/sklearn/metrics/_regression.py:492: FutureWarning:\n",
      "\n",
      "'squared' is deprecated in version 1.4 and will be removed in 1.6. To calculate the root mean squared error, use the function'root_mean_squared_error'.\n",
      "\n",
      "/Users/mariaminotaki/miniconda3/envs/bms/lib/python3.10/site-packages/sklearn/metrics/_regression.py:492: FutureWarning:\n",
      "\n",
      "'squared' is deprecated in version 1.4 and will be removed in 1.6. To calculate the root mean squared error, use the function'root_mean_squared_error'.\n",
      "\n",
      "/Users/mariaminotaki/miniconda3/envs/bms/lib/python3.10/site-packages/sklearn/metrics/_regression.py:492: FutureWarning:\n",
      "\n",
      "'squared' is deprecated in version 1.4 and will be removed in 1.6. To calculate the root mean squared error, use the function'root_mean_squared_error'.\n",
      "\n",
      "/Users/mariaminotaki/miniconda3/envs/bms/lib/python3.10/site-packages/sklearn/metrics/_regression.py:492: FutureWarning:\n",
      "\n",
      "'squared' is deprecated in version 1.4 and will be removed in 1.6. To calculate the root mean squared error, use the function'root_mean_squared_error'.\n",
      "\n",
      "/Users/mariaminotaki/miniconda3/envs/bms/lib/python3.10/site-packages/sklearn/metrics/_regression.py:492: FutureWarning:\n",
      "\n",
      "'squared' is deprecated in version 1.4 and will be removed in 1.6. To calculate the root mean squared error, use the function'root_mean_squared_error'.\n",
      "\n",
      "/Users/mariaminotaki/miniconda3/envs/bms/lib/python3.10/site-packages/sklearn/metrics/_regression.py:492: FutureWarning:\n",
      "\n",
      "'squared' is deprecated in version 1.4 and will be removed in 1.6. To calculate the root mean squared error, use the function'root_mean_squared_error'.\n",
      "\n",
      "/Users/mariaminotaki/miniconda3/envs/bms/lib/python3.10/site-packages/sklearn/metrics/_regression.py:492: FutureWarning:\n",
      "\n",
      "'squared' is deprecated in version 1.4 and will be removed in 1.6. To calculate the root mean squared error, use the function'root_mean_squared_error'.\n",
      "\n",
      "/Users/mariaminotaki/miniconda3/envs/bms/lib/python3.10/site-packages/sklearn/metrics/_regression.py:492: FutureWarning:\n",
      "\n",
      "'squared' is deprecated in version 1.4 and will be removed in 1.6. To calculate the root mean squared error, use the function'root_mean_squared_error'.\n",
      "\n",
      "/Users/mariaminotaki/miniconda3/envs/bms/lib/python3.10/site-packages/sklearn/metrics/_regression.py:492: FutureWarning:\n",
      "\n",
      "'squared' is deprecated in version 1.4 and will be removed in 1.6. To calculate the root mean squared error, use the function'root_mean_squared_error'.\n",
      "\n",
      "/Users/mariaminotaki/miniconda3/envs/bms/lib/python3.10/site-packages/sklearn/metrics/_regression.py:492: FutureWarning:\n",
      "\n",
      "'squared' is deprecated in version 1.4 and will be removed in 1.6. To calculate the root mean squared error, use the function'root_mean_squared_error'.\n",
      "\n",
      "/Users/mariaminotaki/miniconda3/envs/bms/lib/python3.10/site-packages/sklearn/metrics/_regression.py:492: FutureWarning:\n",
      "\n",
      "'squared' is deprecated in version 1.4 and will be removed in 1.6. To calculate the root mean squared error, use the function'root_mean_squared_error'.\n",
      "\n",
      "/Users/mariaminotaki/miniconda3/envs/bms/lib/python3.10/site-packages/sklearn/metrics/_regression.py:492: FutureWarning:\n",
      "\n",
      "'squared' is deprecated in version 1.4 and will be removed in 1.6. To calculate the root mean squared error, use the function'root_mean_squared_error'.\n",
      "\n",
      "/Users/mariaminotaki/miniconda3/envs/bms/lib/python3.10/site-packages/sklearn/metrics/_regression.py:492: FutureWarning:\n",
      "\n",
      "'squared' is deprecated in version 1.4 and will be removed in 1.6. To calculate the root mean squared error, use the function'root_mean_squared_error'.\n",
      "\n",
      "/Users/mariaminotaki/miniconda3/envs/bms/lib/python3.10/site-packages/sklearn/metrics/_regression.py:492: FutureWarning:\n",
      "\n",
      "'squared' is deprecated in version 1.4 and will be removed in 1.6. To calculate the root mean squared error, use the function'root_mean_squared_error'.\n",
      "\n",
      "/Users/mariaminotaki/miniconda3/envs/bms/lib/python3.10/site-packages/sklearn/metrics/_regression.py:492: FutureWarning:\n",
      "\n",
      "'squared' is deprecated in version 1.4 and will be removed in 1.6. To calculate the root mean squared error, use the function'root_mean_squared_error'.\n",
      "\n",
      "/Users/mariaminotaki/miniconda3/envs/bms/lib/python3.10/site-packages/sklearn/metrics/_regression.py:492: FutureWarning:\n",
      "\n",
      "'squared' is deprecated in version 1.4 and will be removed in 1.6. To calculate the root mean squared error, use the function'root_mean_squared_error'.\n",
      "\n",
      "/Users/mariaminotaki/miniconda3/envs/bms/lib/python3.10/site-packages/sklearn/metrics/_regression.py:492: FutureWarning:\n",
      "\n",
      "'squared' is deprecated in version 1.4 and will be removed in 1.6. To calculate the root mean squared error, use the function'root_mean_squared_error'.\n",
      "\n",
      "/Users/mariaminotaki/miniconda3/envs/bms/lib/python3.10/site-packages/sklearn/metrics/_regression.py:492: FutureWarning:\n",
      "\n",
      "'squared' is deprecated in version 1.4 and will be removed in 1.6. To calculate the root mean squared error, use the function'root_mean_squared_error'.\n",
      "\n",
      "/Users/mariaminotaki/miniconda3/envs/bms/lib/python3.10/site-packages/sklearn/metrics/_regression.py:492: FutureWarning:\n",
      "\n",
      "'squared' is deprecated in version 1.4 and will be removed in 1.6. To calculate the root mean squared error, use the function'root_mean_squared_error'.\n",
      "\n",
      " 29%|██▊       | 2/7 [00:00<00:02,  2.10it/s]/Users/mariaminotaki/miniconda3/envs/bms/lib/python3.10/site-packages/sklearn/metrics/_regression.py:492: FutureWarning:\n",
      "\n",
      "'squared' is deprecated in version 1.4 and will be removed in 1.6. To calculate the root mean squared error, use the function'root_mean_squared_error'.\n",
      "\n",
      "/Users/mariaminotaki/miniconda3/envs/bms/lib/python3.10/site-packages/sklearn/metrics/_regression.py:492: FutureWarning:\n",
      "\n",
      "'squared' is deprecated in version 1.4 and will be removed in 1.6. To calculate the root mean squared error, use the function'root_mean_squared_error'.\n",
      "\n",
      "/Users/mariaminotaki/miniconda3/envs/bms/lib/python3.10/site-packages/sklearn/metrics/_regression.py:492: FutureWarning:\n",
      "\n",
      "'squared' is deprecated in version 1.4 and will be removed in 1.6. To calculate the root mean squared error, use the function'root_mean_squared_error'.\n",
      "\n",
      "/Users/mariaminotaki/miniconda3/envs/bms/lib/python3.10/site-packages/sklearn/metrics/_regression.py:492: FutureWarning:\n",
      "\n",
      "'squared' is deprecated in version 1.4 and will be removed in 1.6. To calculate the root mean squared error, use the function'root_mean_squared_error'.\n",
      "\n",
      "/Users/mariaminotaki/miniconda3/envs/bms/lib/python3.10/site-packages/sklearn/metrics/_regression.py:492: FutureWarning:\n",
      "\n",
      "'squared' is deprecated in version 1.4 and will be removed in 1.6. To calculate the root mean squared error, use the function'root_mean_squared_error'.\n",
      "\n",
      "/Users/mariaminotaki/miniconda3/envs/bms/lib/python3.10/site-packages/sklearn/metrics/_regression.py:492: FutureWarning:\n",
      "\n",
      "'squared' is deprecated in version 1.4 and will be removed in 1.6. To calculate the root mean squared error, use the function'root_mean_squared_error'.\n",
      "\n",
      "/Users/mariaminotaki/miniconda3/envs/bms/lib/python3.10/site-packages/sklearn/metrics/_regression.py:492: FutureWarning:\n",
      "\n",
      "'squared' is deprecated in version 1.4 and will be removed in 1.6. To calculate the root mean squared error, use the function'root_mean_squared_error'.\n",
      "\n",
      "/Users/mariaminotaki/miniconda3/envs/bms/lib/python3.10/site-packages/sklearn/metrics/_regression.py:492: FutureWarning:\n",
      "\n",
      "'squared' is deprecated in version 1.4 and will be removed in 1.6. To calculate the root mean squared error, use the function'root_mean_squared_error'.\n",
      "\n",
      "/Users/mariaminotaki/miniconda3/envs/bms/lib/python3.10/site-packages/sklearn/metrics/_regression.py:492: FutureWarning:\n",
      "\n",
      "'squared' is deprecated in version 1.4 and will be removed in 1.6. To calculate the root mean squared error, use the function'root_mean_squared_error'.\n",
      "\n",
      "/Users/mariaminotaki/miniconda3/envs/bms/lib/python3.10/site-packages/sklearn/metrics/_regression.py:492: FutureWarning:\n",
      "\n",
      "'squared' is deprecated in version 1.4 and will be removed in 1.6. To calculate the root mean squared error, use the function'root_mean_squared_error'.\n",
      "\n",
      "/Users/mariaminotaki/miniconda3/envs/bms/lib/python3.10/site-packages/sklearn/metrics/_regression.py:492: FutureWarning:\n",
      "\n",
      "'squared' is deprecated in version 1.4 and will be removed in 1.6. To calculate the root mean squared error, use the function'root_mean_squared_error'.\n",
      "\n",
      "/Users/mariaminotaki/miniconda3/envs/bms/lib/python3.10/site-packages/sklearn/metrics/_regression.py:492: FutureWarning:\n",
      "\n",
      "'squared' is deprecated in version 1.4 and will be removed in 1.6. To calculate the root mean squared error, use the function'root_mean_squared_error'.\n",
      "\n",
      "/Users/mariaminotaki/miniconda3/envs/bms/lib/python3.10/site-packages/sklearn/metrics/_regression.py:492: FutureWarning:\n",
      "\n",
      "'squared' is deprecated in version 1.4 and will be removed in 1.6. To calculate the root mean squared error, use the function'root_mean_squared_error'.\n",
      "\n",
      "/Users/mariaminotaki/miniconda3/envs/bms/lib/python3.10/site-packages/sklearn/metrics/_regression.py:492: FutureWarning:\n",
      "\n",
      "'squared' is deprecated in version 1.4 and will be removed in 1.6. To calculate the root mean squared error, use the function'root_mean_squared_error'.\n",
      "\n",
      "/Users/mariaminotaki/miniconda3/envs/bms/lib/python3.10/site-packages/sklearn/metrics/_regression.py:492: FutureWarning:\n",
      "\n",
      "'squared' is deprecated in version 1.4 and will be removed in 1.6. To calculate the root mean squared error, use the function'root_mean_squared_error'.\n",
      "\n",
      "/Users/mariaminotaki/miniconda3/envs/bms/lib/python3.10/site-packages/sklearn/metrics/_regression.py:492: FutureWarning:\n",
      "\n",
      "'squared' is deprecated in version 1.4 and will be removed in 1.6. To calculate the root mean squared error, use the function'root_mean_squared_error'.\n",
      "\n",
      "/Users/mariaminotaki/miniconda3/envs/bms/lib/python3.10/site-packages/sklearn/metrics/_regression.py:492: FutureWarning:\n",
      "\n",
      "'squared' is deprecated in version 1.4 and will be removed in 1.6. To calculate the root mean squared error, use the function'root_mean_squared_error'.\n",
      "\n",
      "/Users/mariaminotaki/miniconda3/envs/bms/lib/python3.10/site-packages/sklearn/metrics/_regression.py:492: FutureWarning:\n",
      "\n",
      "'squared' is deprecated in version 1.4 and will be removed in 1.6. To calculate the root mean squared error, use the function'root_mean_squared_error'.\n",
      "\n",
      "/Users/mariaminotaki/miniconda3/envs/bms/lib/python3.10/site-packages/sklearn/metrics/_regression.py:492: FutureWarning:\n",
      "\n",
      "'squared' is deprecated in version 1.4 and will be removed in 1.6. To calculate the root mean squared error, use the function'root_mean_squared_error'.\n",
      "\n",
      "/Users/mariaminotaki/miniconda3/envs/bms/lib/python3.10/site-packages/sklearn/metrics/_regression.py:492: FutureWarning:\n",
      "\n",
      "'squared' is deprecated in version 1.4 and will be removed in 1.6. To calculate the root mean squared error, use the function'root_mean_squared_error'.\n",
      "\n",
      "/Users/mariaminotaki/miniconda3/envs/bms/lib/python3.10/site-packages/sklearn/metrics/_regression.py:492: FutureWarning:\n",
      "\n",
      "'squared' is deprecated in version 1.4 and will be removed in 1.6. To calculate the root mean squared error, use the function'root_mean_squared_error'.\n",
      "\n",
      "/Users/mariaminotaki/miniconda3/envs/bms/lib/python3.10/site-packages/sklearn/metrics/_regression.py:492: FutureWarning:\n",
      "\n",
      "'squared' is deprecated in version 1.4 and will be removed in 1.6. To calculate the root mean squared error, use the function'root_mean_squared_error'.\n",
      "\n",
      "/Users/mariaminotaki/miniconda3/envs/bms/lib/python3.10/site-packages/sklearn/metrics/_regression.py:492: FutureWarning:\n",
      "\n",
      "'squared' is deprecated in version 1.4 and will be removed in 1.6. To calculate the root mean squared error, use the function'root_mean_squared_error'.\n",
      "\n",
      "/Users/mariaminotaki/miniconda3/envs/bms/lib/python3.10/site-packages/sklearn/metrics/_regression.py:492: FutureWarning:\n",
      "\n",
      "'squared' is deprecated in version 1.4 and will be removed in 1.6. To calculate the root mean squared error, use the function'root_mean_squared_error'.\n",
      "\n",
      "/Users/mariaminotaki/miniconda3/envs/bms/lib/python3.10/site-packages/sklearn/metrics/_regression.py:492: FutureWarning:\n",
      "\n",
      "'squared' is deprecated in version 1.4 and will be removed in 1.6. To calculate the root mean squared error, use the function'root_mean_squared_error'.\n",
      "\n",
      "/Users/mariaminotaki/miniconda3/envs/bms/lib/python3.10/site-packages/sklearn/metrics/_regression.py:492: FutureWarning:\n",
      "\n",
      "'squared' is deprecated in version 1.4 and will be removed in 1.6. To calculate the root mean squared error, use the function'root_mean_squared_error'.\n",
      "\n",
      "/Users/mariaminotaki/miniconda3/envs/bms/lib/python3.10/site-packages/sklearn/metrics/_regression.py:492: FutureWarning:\n",
      "\n",
      "'squared' is deprecated in version 1.4 and will be removed in 1.6. To calculate the root mean squared error, use the function'root_mean_squared_error'.\n",
      "\n",
      "/Users/mariaminotaki/miniconda3/envs/bms/lib/python3.10/site-packages/sklearn/metrics/_regression.py:492: FutureWarning:\n",
      "\n",
      "'squared' is deprecated in version 1.4 and will be removed in 1.6. To calculate the root mean squared error, use the function'root_mean_squared_error'.\n",
      "\n",
      "/Users/mariaminotaki/miniconda3/envs/bms/lib/python3.10/site-packages/sklearn/metrics/_regression.py:492: FutureWarning:\n",
      "\n",
      "'squared' is deprecated in version 1.4 and will be removed in 1.6. To calculate the root mean squared error, use the function'root_mean_squared_error'.\n",
      "\n",
      "/Users/mariaminotaki/miniconda3/envs/bms/lib/python3.10/site-packages/sklearn/metrics/_regression.py:492: FutureWarning:\n",
      "\n",
      "'squared' is deprecated in version 1.4 and will be removed in 1.6. To calculate the root mean squared error, use the function'root_mean_squared_error'.\n",
      "\n",
      " 43%|████▎     | 3/7 [00:01<00:02,  1.48it/s]/Users/mariaminotaki/miniconda3/envs/bms/lib/python3.10/site-packages/sklearn/metrics/_regression.py:492: FutureWarning:\n",
      "\n",
      "'squared' is deprecated in version 1.4 and will be removed in 1.6. To calculate the root mean squared error, use the function'root_mean_squared_error'.\n",
      "\n",
      "/Users/mariaminotaki/miniconda3/envs/bms/lib/python3.10/site-packages/sklearn/metrics/_regression.py:492: FutureWarning:\n",
      "\n",
      "'squared' is deprecated in version 1.4 and will be removed in 1.6. To calculate the root mean squared error, use the function'root_mean_squared_error'.\n",
      "\n",
      "/Users/mariaminotaki/miniconda3/envs/bms/lib/python3.10/site-packages/sklearn/metrics/_regression.py:492: FutureWarning:\n",
      "\n",
      "'squared' is deprecated in version 1.4 and will be removed in 1.6. To calculate the root mean squared error, use the function'root_mean_squared_error'.\n",
      "\n",
      "/Users/mariaminotaki/miniconda3/envs/bms/lib/python3.10/site-packages/sklearn/metrics/_regression.py:492: FutureWarning:\n",
      "\n",
      "'squared' is deprecated in version 1.4 and will be removed in 1.6. To calculate the root mean squared error, use the function'root_mean_squared_error'.\n",
      "\n",
      "/Users/mariaminotaki/miniconda3/envs/bms/lib/python3.10/site-packages/sklearn/metrics/_regression.py:492: FutureWarning:\n",
      "\n",
      "'squared' is deprecated in version 1.4 and will be removed in 1.6. To calculate the root mean squared error, use the function'root_mean_squared_error'.\n",
      "\n",
      "/Users/mariaminotaki/miniconda3/envs/bms/lib/python3.10/site-packages/sklearn/metrics/_regression.py:492: FutureWarning:\n",
      "\n",
      "'squared' is deprecated in version 1.4 and will be removed in 1.6. To calculate the root mean squared error, use the function'root_mean_squared_error'.\n",
      "\n",
      "/Users/mariaminotaki/miniconda3/envs/bms/lib/python3.10/site-packages/sklearn/metrics/_regression.py:492: FutureWarning:\n",
      "\n",
      "'squared' is deprecated in version 1.4 and will be removed in 1.6. To calculate the root mean squared error, use the function'root_mean_squared_error'.\n",
      "\n",
      "/Users/mariaminotaki/miniconda3/envs/bms/lib/python3.10/site-packages/sklearn/metrics/_regression.py:492: FutureWarning:\n",
      "\n",
      "'squared' is deprecated in version 1.4 and will be removed in 1.6. To calculate the root mean squared error, use the function'root_mean_squared_error'.\n",
      "\n",
      "/Users/mariaminotaki/miniconda3/envs/bms/lib/python3.10/site-packages/sklearn/metrics/_regression.py:492: FutureWarning:\n",
      "\n",
      "'squared' is deprecated in version 1.4 and will be removed in 1.6. To calculate the root mean squared error, use the function'root_mean_squared_error'.\n",
      "\n",
      "/Users/mariaminotaki/miniconda3/envs/bms/lib/python3.10/site-packages/sklearn/metrics/_regression.py:492: FutureWarning:\n",
      "\n",
      "'squared' is deprecated in version 1.4 and will be removed in 1.6. To calculate the root mean squared error, use the function'root_mean_squared_error'.\n",
      "\n",
      "/Users/mariaminotaki/miniconda3/envs/bms/lib/python3.10/site-packages/sklearn/metrics/_regression.py:492: FutureWarning:\n",
      "\n",
      "'squared' is deprecated in version 1.4 and will be removed in 1.6. To calculate the root mean squared error, use the function'root_mean_squared_error'.\n",
      "\n",
      "/Users/mariaminotaki/miniconda3/envs/bms/lib/python3.10/site-packages/sklearn/metrics/_regression.py:492: FutureWarning:\n",
      "\n",
      "'squared' is deprecated in version 1.4 and will be removed in 1.6. To calculate the root mean squared error, use the function'root_mean_squared_error'.\n",
      "\n",
      "/Users/mariaminotaki/miniconda3/envs/bms/lib/python3.10/site-packages/sklearn/metrics/_regression.py:492: FutureWarning:\n",
      "\n",
      "'squared' is deprecated in version 1.4 and will be removed in 1.6. To calculate the root mean squared error, use the function'root_mean_squared_error'.\n",
      "\n",
      "/Users/mariaminotaki/miniconda3/envs/bms/lib/python3.10/site-packages/sklearn/metrics/_regression.py:492: FutureWarning:\n",
      "\n",
      "'squared' is deprecated in version 1.4 and will be removed in 1.6. To calculate the root mean squared error, use the function'root_mean_squared_error'.\n",
      "\n",
      "/Users/mariaminotaki/miniconda3/envs/bms/lib/python3.10/site-packages/sklearn/metrics/_regression.py:492: FutureWarning:\n",
      "\n",
      "'squared' is deprecated in version 1.4 and will be removed in 1.6. To calculate the root mean squared error, use the function'root_mean_squared_error'.\n",
      "\n",
      "/Users/mariaminotaki/miniconda3/envs/bms/lib/python3.10/site-packages/sklearn/metrics/_regression.py:492: FutureWarning:\n",
      "\n",
      "'squared' is deprecated in version 1.4 and will be removed in 1.6. To calculate the root mean squared error, use the function'root_mean_squared_error'.\n",
      "\n",
      "/Users/mariaminotaki/miniconda3/envs/bms/lib/python3.10/site-packages/sklearn/metrics/_regression.py:492: FutureWarning:\n",
      "\n",
      "'squared' is deprecated in version 1.4 and will be removed in 1.6. To calculate the root mean squared error, use the function'root_mean_squared_error'.\n",
      "\n",
      "/Users/mariaminotaki/miniconda3/envs/bms/lib/python3.10/site-packages/sklearn/metrics/_regression.py:492: FutureWarning:\n",
      "\n",
      "'squared' is deprecated in version 1.4 and will be removed in 1.6. To calculate the root mean squared error, use the function'root_mean_squared_error'.\n",
      "\n",
      "/Users/mariaminotaki/miniconda3/envs/bms/lib/python3.10/site-packages/sklearn/metrics/_regression.py:492: FutureWarning:\n",
      "\n",
      "'squared' is deprecated in version 1.4 and will be removed in 1.6. To calculate the root mean squared error, use the function'root_mean_squared_error'.\n",
      "\n",
      "/Users/mariaminotaki/miniconda3/envs/bms/lib/python3.10/site-packages/sklearn/metrics/_regression.py:492: FutureWarning:\n",
      "\n",
      "'squared' is deprecated in version 1.4 and will be removed in 1.6. To calculate the root mean squared error, use the function'root_mean_squared_error'.\n",
      "\n",
      "/Users/mariaminotaki/miniconda3/envs/bms/lib/python3.10/site-packages/sklearn/metrics/_regression.py:492: FutureWarning:\n",
      "\n",
      "'squared' is deprecated in version 1.4 and will be removed in 1.6. To calculate the root mean squared error, use the function'root_mean_squared_error'.\n",
      "\n",
      "/Users/mariaminotaki/miniconda3/envs/bms/lib/python3.10/site-packages/sklearn/metrics/_regression.py:492: FutureWarning:\n",
      "\n",
      "'squared' is deprecated in version 1.4 and will be removed in 1.6. To calculate the root mean squared error, use the function'root_mean_squared_error'.\n",
      "\n",
      "/Users/mariaminotaki/miniconda3/envs/bms/lib/python3.10/site-packages/sklearn/metrics/_regression.py:492: FutureWarning:\n",
      "\n",
      "'squared' is deprecated in version 1.4 and will be removed in 1.6. To calculate the root mean squared error, use the function'root_mean_squared_error'.\n",
      "\n",
      "/Users/mariaminotaki/miniconda3/envs/bms/lib/python3.10/site-packages/sklearn/metrics/_regression.py:492: FutureWarning:\n",
      "\n",
      "'squared' is deprecated in version 1.4 and will be removed in 1.6. To calculate the root mean squared error, use the function'root_mean_squared_error'.\n",
      "\n",
      "/Users/mariaminotaki/miniconda3/envs/bms/lib/python3.10/site-packages/sklearn/metrics/_regression.py:492: FutureWarning:\n",
      "\n",
      "'squared' is deprecated in version 1.4 and will be removed in 1.6. To calculate the root mean squared error, use the function'root_mean_squared_error'.\n",
      "\n",
      "/Users/mariaminotaki/miniconda3/envs/bms/lib/python3.10/site-packages/sklearn/metrics/_regression.py:492: FutureWarning:\n",
      "\n",
      "'squared' is deprecated in version 1.4 and will be removed in 1.6. To calculate the root mean squared error, use the function'root_mean_squared_error'.\n",
      "\n",
      "/Users/mariaminotaki/miniconda3/envs/bms/lib/python3.10/site-packages/sklearn/metrics/_regression.py:492: FutureWarning:\n",
      "\n",
      "'squared' is deprecated in version 1.4 and will be removed in 1.6. To calculate the root mean squared error, use the function'root_mean_squared_error'.\n",
      "\n",
      "/Users/mariaminotaki/miniconda3/envs/bms/lib/python3.10/site-packages/sklearn/metrics/_regression.py:492: FutureWarning:\n",
      "\n",
      "'squared' is deprecated in version 1.4 and will be removed in 1.6. To calculate the root mean squared error, use the function'root_mean_squared_error'.\n",
      "\n",
      "/Users/mariaminotaki/miniconda3/envs/bms/lib/python3.10/site-packages/sklearn/metrics/_regression.py:492: FutureWarning:\n",
      "\n",
      "'squared' is deprecated in version 1.4 and will be removed in 1.6. To calculate the root mean squared error, use the function'root_mean_squared_error'.\n",
      "\n",
      "/Users/mariaminotaki/miniconda3/envs/bms/lib/python3.10/site-packages/sklearn/metrics/_regression.py:492: FutureWarning:\n",
      "\n",
      "'squared' is deprecated in version 1.4 and will be removed in 1.6. To calculate the root mean squared error, use the function'root_mean_squared_error'.\n",
      "\n",
      " 57%|█████▋    | 4/7 [00:02<00:02,  1.15it/s]/Users/mariaminotaki/miniconda3/envs/bms/lib/python3.10/site-packages/sklearn/metrics/_regression.py:492: FutureWarning:\n",
      "\n",
      "'squared' is deprecated in version 1.4 and will be removed in 1.6. To calculate the root mean squared error, use the function'root_mean_squared_error'.\n",
      "\n",
      "/Users/mariaminotaki/miniconda3/envs/bms/lib/python3.10/site-packages/sklearn/metrics/_regression.py:492: FutureWarning:\n",
      "\n",
      "'squared' is deprecated in version 1.4 and will be removed in 1.6. To calculate the root mean squared error, use the function'root_mean_squared_error'.\n",
      "\n",
      "/Users/mariaminotaki/miniconda3/envs/bms/lib/python3.10/site-packages/sklearn/metrics/_regression.py:492: FutureWarning:\n",
      "\n",
      "'squared' is deprecated in version 1.4 and will be removed in 1.6. To calculate the root mean squared error, use the function'root_mean_squared_error'.\n",
      "\n",
      "/Users/mariaminotaki/miniconda3/envs/bms/lib/python3.10/site-packages/sklearn/metrics/_regression.py:492: FutureWarning:\n",
      "\n",
      "'squared' is deprecated in version 1.4 and will be removed in 1.6. To calculate the root mean squared error, use the function'root_mean_squared_error'.\n",
      "\n",
      "/Users/mariaminotaki/miniconda3/envs/bms/lib/python3.10/site-packages/sklearn/metrics/_regression.py:492: FutureWarning:\n",
      "\n",
      "'squared' is deprecated in version 1.4 and will be removed in 1.6. To calculate the root mean squared error, use the function'root_mean_squared_error'.\n",
      "\n",
      "/Users/mariaminotaki/miniconda3/envs/bms/lib/python3.10/site-packages/sklearn/metrics/_regression.py:492: FutureWarning:\n",
      "\n",
      "'squared' is deprecated in version 1.4 and will be removed in 1.6. To calculate the root mean squared error, use the function'root_mean_squared_error'.\n",
      "\n",
      "/Users/mariaminotaki/miniconda3/envs/bms/lib/python3.10/site-packages/sklearn/metrics/_regression.py:492: FutureWarning:\n",
      "\n",
      "'squared' is deprecated in version 1.4 and will be removed in 1.6. To calculate the root mean squared error, use the function'root_mean_squared_error'.\n",
      "\n",
      "/Users/mariaminotaki/miniconda3/envs/bms/lib/python3.10/site-packages/sklearn/metrics/_regression.py:492: FutureWarning:\n",
      "\n",
      "'squared' is deprecated in version 1.4 and will be removed in 1.6. To calculate the root mean squared error, use the function'root_mean_squared_error'.\n",
      "\n",
      "/Users/mariaminotaki/miniconda3/envs/bms/lib/python3.10/site-packages/sklearn/metrics/_regression.py:492: FutureWarning:\n",
      "\n",
      "'squared' is deprecated in version 1.4 and will be removed in 1.6. To calculate the root mean squared error, use the function'root_mean_squared_error'.\n",
      "\n",
      "/Users/mariaminotaki/miniconda3/envs/bms/lib/python3.10/site-packages/sklearn/metrics/_regression.py:492: FutureWarning:\n",
      "\n",
      "'squared' is deprecated in version 1.4 and will be removed in 1.6. To calculate the root mean squared error, use the function'root_mean_squared_error'.\n",
      "\n",
      "/Users/mariaminotaki/miniconda3/envs/bms/lib/python3.10/site-packages/sklearn/metrics/_regression.py:492: FutureWarning:\n",
      "\n",
      "'squared' is deprecated in version 1.4 and will be removed in 1.6. To calculate the root mean squared error, use the function'root_mean_squared_error'.\n",
      "\n",
      "/Users/mariaminotaki/miniconda3/envs/bms/lib/python3.10/site-packages/sklearn/metrics/_regression.py:492: FutureWarning:\n",
      "\n",
      "'squared' is deprecated in version 1.4 and will be removed in 1.6. To calculate the root mean squared error, use the function'root_mean_squared_error'.\n",
      "\n",
      "/Users/mariaminotaki/miniconda3/envs/bms/lib/python3.10/site-packages/sklearn/metrics/_regression.py:492: FutureWarning:\n",
      "\n",
      "'squared' is deprecated in version 1.4 and will be removed in 1.6. To calculate the root mean squared error, use the function'root_mean_squared_error'.\n",
      "\n",
      "/Users/mariaminotaki/miniconda3/envs/bms/lib/python3.10/site-packages/sklearn/metrics/_regression.py:492: FutureWarning:\n",
      "\n",
      "'squared' is deprecated in version 1.4 and will be removed in 1.6. To calculate the root mean squared error, use the function'root_mean_squared_error'.\n",
      "\n",
      "/Users/mariaminotaki/miniconda3/envs/bms/lib/python3.10/site-packages/sklearn/metrics/_regression.py:492: FutureWarning:\n",
      "\n",
      "'squared' is deprecated in version 1.4 and will be removed in 1.6. To calculate the root mean squared error, use the function'root_mean_squared_error'.\n",
      "\n",
      "/Users/mariaminotaki/miniconda3/envs/bms/lib/python3.10/site-packages/sklearn/metrics/_regression.py:492: FutureWarning:\n",
      "\n",
      "'squared' is deprecated in version 1.4 and will be removed in 1.6. To calculate the root mean squared error, use the function'root_mean_squared_error'.\n",
      "\n",
      "/Users/mariaminotaki/miniconda3/envs/bms/lib/python3.10/site-packages/sklearn/metrics/_regression.py:492: FutureWarning:\n",
      "\n",
      "'squared' is deprecated in version 1.4 and will be removed in 1.6. To calculate the root mean squared error, use the function'root_mean_squared_error'.\n",
      "\n",
      "/Users/mariaminotaki/miniconda3/envs/bms/lib/python3.10/site-packages/sklearn/metrics/_regression.py:492: FutureWarning:\n",
      "\n",
      "'squared' is deprecated in version 1.4 and will be removed in 1.6. To calculate the root mean squared error, use the function'root_mean_squared_error'.\n",
      "\n",
      "/Users/mariaminotaki/miniconda3/envs/bms/lib/python3.10/site-packages/sklearn/metrics/_regression.py:492: FutureWarning:\n",
      "\n",
      "'squared' is deprecated in version 1.4 and will be removed in 1.6. To calculate the root mean squared error, use the function'root_mean_squared_error'.\n",
      "\n",
      "/Users/mariaminotaki/miniconda3/envs/bms/lib/python3.10/site-packages/sklearn/metrics/_regression.py:492: FutureWarning:\n",
      "\n",
      "'squared' is deprecated in version 1.4 and will be removed in 1.6. To calculate the root mean squared error, use the function'root_mean_squared_error'.\n",
      "\n",
      "/Users/mariaminotaki/miniconda3/envs/bms/lib/python3.10/site-packages/sklearn/metrics/_regression.py:492: FutureWarning:\n",
      "\n",
      "'squared' is deprecated in version 1.4 and will be removed in 1.6. To calculate the root mean squared error, use the function'root_mean_squared_error'.\n",
      "\n",
      "/Users/mariaminotaki/miniconda3/envs/bms/lib/python3.10/site-packages/sklearn/metrics/_regression.py:492: FutureWarning:\n",
      "\n",
      "'squared' is deprecated in version 1.4 and will be removed in 1.6. To calculate the root mean squared error, use the function'root_mean_squared_error'.\n",
      "\n",
      "/Users/mariaminotaki/miniconda3/envs/bms/lib/python3.10/site-packages/sklearn/metrics/_regression.py:492: FutureWarning:\n",
      "\n",
      "'squared' is deprecated in version 1.4 and will be removed in 1.6. To calculate the root mean squared error, use the function'root_mean_squared_error'.\n",
      "\n",
      "/Users/mariaminotaki/miniconda3/envs/bms/lib/python3.10/site-packages/sklearn/metrics/_regression.py:492: FutureWarning:\n",
      "\n",
      "'squared' is deprecated in version 1.4 and will be removed in 1.6. To calculate the root mean squared error, use the function'root_mean_squared_error'.\n",
      "\n",
      "/Users/mariaminotaki/miniconda3/envs/bms/lib/python3.10/site-packages/sklearn/metrics/_regression.py:492: FutureWarning:\n",
      "\n",
      "'squared' is deprecated in version 1.4 and will be removed in 1.6. To calculate the root mean squared error, use the function'root_mean_squared_error'.\n",
      "\n",
      "/Users/mariaminotaki/miniconda3/envs/bms/lib/python3.10/site-packages/sklearn/metrics/_regression.py:492: FutureWarning:\n",
      "\n",
      "'squared' is deprecated in version 1.4 and will be removed in 1.6. To calculate the root mean squared error, use the function'root_mean_squared_error'.\n",
      "\n",
      "/Users/mariaminotaki/miniconda3/envs/bms/lib/python3.10/site-packages/sklearn/metrics/_regression.py:492: FutureWarning:\n",
      "\n",
      "'squared' is deprecated in version 1.4 and will be removed in 1.6. To calculate the root mean squared error, use the function'root_mean_squared_error'.\n",
      "\n",
      "/Users/mariaminotaki/miniconda3/envs/bms/lib/python3.10/site-packages/sklearn/metrics/_regression.py:492: FutureWarning:\n",
      "\n",
      "'squared' is deprecated in version 1.4 and will be removed in 1.6. To calculate the root mean squared error, use the function'root_mean_squared_error'.\n",
      "\n",
      "/Users/mariaminotaki/miniconda3/envs/bms/lib/python3.10/site-packages/sklearn/metrics/_regression.py:492: FutureWarning:\n",
      "\n",
      "'squared' is deprecated in version 1.4 and will be removed in 1.6. To calculate the root mean squared error, use the function'root_mean_squared_error'.\n",
      "\n",
      "/Users/mariaminotaki/miniconda3/envs/bms/lib/python3.10/site-packages/sklearn/metrics/_regression.py:492: FutureWarning:\n",
      "\n",
      "'squared' is deprecated in version 1.4 and will be removed in 1.6. To calculate the root mean squared error, use the function'root_mean_squared_error'.\n",
      "\n",
      " 71%|███████▏  | 5/7 [00:04<00:02,  1.12s/it]/Users/mariaminotaki/miniconda3/envs/bms/lib/python3.10/site-packages/sklearn/metrics/_regression.py:492: FutureWarning:\n",
      "\n",
      "'squared' is deprecated in version 1.4 and will be removed in 1.6. To calculate the root mean squared error, use the function'root_mean_squared_error'.\n",
      "\n",
      "/Users/mariaminotaki/miniconda3/envs/bms/lib/python3.10/site-packages/sklearn/metrics/_regression.py:492: FutureWarning:\n",
      "\n",
      "'squared' is deprecated in version 1.4 and will be removed in 1.6. To calculate the root mean squared error, use the function'root_mean_squared_error'.\n",
      "\n",
      "/Users/mariaminotaki/miniconda3/envs/bms/lib/python3.10/site-packages/sklearn/metrics/_regression.py:492: FutureWarning:\n",
      "\n",
      "'squared' is deprecated in version 1.4 and will be removed in 1.6. To calculate the root mean squared error, use the function'root_mean_squared_error'.\n",
      "\n",
      "/Users/mariaminotaki/miniconda3/envs/bms/lib/python3.10/site-packages/sklearn/metrics/_regression.py:492: FutureWarning:\n",
      "\n",
      "'squared' is deprecated in version 1.4 and will be removed in 1.6. To calculate the root mean squared error, use the function'root_mean_squared_error'.\n",
      "\n",
      "/Users/mariaminotaki/miniconda3/envs/bms/lib/python3.10/site-packages/sklearn/metrics/_regression.py:492: FutureWarning:\n",
      "\n",
      "'squared' is deprecated in version 1.4 and will be removed in 1.6. To calculate the root mean squared error, use the function'root_mean_squared_error'.\n",
      "\n",
      "/Users/mariaminotaki/miniconda3/envs/bms/lib/python3.10/site-packages/sklearn/metrics/_regression.py:492: FutureWarning:\n",
      "\n",
      "'squared' is deprecated in version 1.4 and will be removed in 1.6. To calculate the root mean squared error, use the function'root_mean_squared_error'.\n",
      "\n",
      "/Users/mariaminotaki/miniconda3/envs/bms/lib/python3.10/site-packages/sklearn/metrics/_regression.py:492: FutureWarning:\n",
      "\n",
      "'squared' is deprecated in version 1.4 and will be removed in 1.6. To calculate the root mean squared error, use the function'root_mean_squared_error'.\n",
      "\n",
      "/Users/mariaminotaki/miniconda3/envs/bms/lib/python3.10/site-packages/sklearn/metrics/_regression.py:492: FutureWarning:\n",
      "\n",
      "'squared' is deprecated in version 1.4 and will be removed in 1.6. To calculate the root mean squared error, use the function'root_mean_squared_error'.\n",
      "\n",
      "/Users/mariaminotaki/miniconda3/envs/bms/lib/python3.10/site-packages/sklearn/metrics/_regression.py:492: FutureWarning:\n",
      "\n",
      "'squared' is deprecated in version 1.4 and will be removed in 1.6. To calculate the root mean squared error, use the function'root_mean_squared_error'.\n",
      "\n",
      "/Users/mariaminotaki/miniconda3/envs/bms/lib/python3.10/site-packages/sklearn/metrics/_regression.py:492: FutureWarning:\n",
      "\n",
      "'squared' is deprecated in version 1.4 and will be removed in 1.6. To calculate the root mean squared error, use the function'root_mean_squared_error'.\n",
      "\n",
      "/Users/mariaminotaki/miniconda3/envs/bms/lib/python3.10/site-packages/sklearn/metrics/_regression.py:492: FutureWarning:\n",
      "\n",
      "'squared' is deprecated in version 1.4 and will be removed in 1.6. To calculate the root mean squared error, use the function'root_mean_squared_error'.\n",
      "\n",
      "/Users/mariaminotaki/miniconda3/envs/bms/lib/python3.10/site-packages/sklearn/metrics/_regression.py:492: FutureWarning:\n",
      "\n",
      "'squared' is deprecated in version 1.4 and will be removed in 1.6. To calculate the root mean squared error, use the function'root_mean_squared_error'.\n",
      "\n",
      "/Users/mariaminotaki/miniconda3/envs/bms/lib/python3.10/site-packages/sklearn/metrics/_regression.py:492: FutureWarning:\n",
      "\n",
      "'squared' is deprecated in version 1.4 and will be removed in 1.6. To calculate the root mean squared error, use the function'root_mean_squared_error'.\n",
      "\n",
      "/Users/mariaminotaki/miniconda3/envs/bms/lib/python3.10/site-packages/sklearn/metrics/_regression.py:492: FutureWarning:\n",
      "\n",
      "'squared' is deprecated in version 1.4 and will be removed in 1.6. To calculate the root mean squared error, use the function'root_mean_squared_error'.\n",
      "\n",
      "/Users/mariaminotaki/miniconda3/envs/bms/lib/python3.10/site-packages/sklearn/metrics/_regression.py:492: FutureWarning:\n",
      "\n",
      "'squared' is deprecated in version 1.4 and will be removed in 1.6. To calculate the root mean squared error, use the function'root_mean_squared_error'.\n",
      "\n",
      "/Users/mariaminotaki/miniconda3/envs/bms/lib/python3.10/site-packages/sklearn/metrics/_regression.py:492: FutureWarning:\n",
      "\n",
      "'squared' is deprecated in version 1.4 and will be removed in 1.6. To calculate the root mean squared error, use the function'root_mean_squared_error'.\n",
      "\n",
      "/Users/mariaminotaki/miniconda3/envs/bms/lib/python3.10/site-packages/sklearn/metrics/_regression.py:492: FutureWarning:\n",
      "\n",
      "'squared' is deprecated in version 1.4 and will be removed in 1.6. To calculate the root mean squared error, use the function'root_mean_squared_error'.\n",
      "\n",
      "/Users/mariaminotaki/miniconda3/envs/bms/lib/python3.10/site-packages/sklearn/metrics/_regression.py:492: FutureWarning:\n",
      "\n",
      "'squared' is deprecated in version 1.4 and will be removed in 1.6. To calculate the root mean squared error, use the function'root_mean_squared_error'.\n",
      "\n",
      "/Users/mariaminotaki/miniconda3/envs/bms/lib/python3.10/site-packages/sklearn/metrics/_regression.py:492: FutureWarning:\n",
      "\n",
      "'squared' is deprecated in version 1.4 and will be removed in 1.6. To calculate the root mean squared error, use the function'root_mean_squared_error'.\n",
      "\n",
      "/Users/mariaminotaki/miniconda3/envs/bms/lib/python3.10/site-packages/sklearn/metrics/_regression.py:492: FutureWarning:\n",
      "\n",
      "'squared' is deprecated in version 1.4 and will be removed in 1.6. To calculate the root mean squared error, use the function'root_mean_squared_error'.\n",
      "\n",
      "/Users/mariaminotaki/miniconda3/envs/bms/lib/python3.10/site-packages/sklearn/metrics/_regression.py:492: FutureWarning:\n",
      "\n",
      "'squared' is deprecated in version 1.4 and will be removed in 1.6. To calculate the root mean squared error, use the function'root_mean_squared_error'.\n",
      "\n",
      "/Users/mariaminotaki/miniconda3/envs/bms/lib/python3.10/site-packages/sklearn/metrics/_regression.py:492: FutureWarning:\n",
      "\n",
      "'squared' is deprecated in version 1.4 and will be removed in 1.6. To calculate the root mean squared error, use the function'root_mean_squared_error'.\n",
      "\n",
      "/Users/mariaminotaki/miniconda3/envs/bms/lib/python3.10/site-packages/sklearn/metrics/_regression.py:492: FutureWarning:\n",
      "\n",
      "'squared' is deprecated in version 1.4 and will be removed in 1.6. To calculate the root mean squared error, use the function'root_mean_squared_error'.\n",
      "\n",
      "/Users/mariaminotaki/miniconda3/envs/bms/lib/python3.10/site-packages/sklearn/metrics/_regression.py:492: FutureWarning:\n",
      "\n",
      "'squared' is deprecated in version 1.4 and will be removed in 1.6. To calculate the root mean squared error, use the function'root_mean_squared_error'.\n",
      "\n",
      "/Users/mariaminotaki/miniconda3/envs/bms/lib/python3.10/site-packages/sklearn/metrics/_regression.py:492: FutureWarning:\n",
      "\n",
      "'squared' is deprecated in version 1.4 and will be removed in 1.6. To calculate the root mean squared error, use the function'root_mean_squared_error'.\n",
      "\n",
      "/Users/mariaminotaki/miniconda3/envs/bms/lib/python3.10/site-packages/sklearn/metrics/_regression.py:492: FutureWarning:\n",
      "\n",
      "'squared' is deprecated in version 1.4 and will be removed in 1.6. To calculate the root mean squared error, use the function'root_mean_squared_error'.\n",
      "\n",
      "/Users/mariaminotaki/miniconda3/envs/bms/lib/python3.10/site-packages/sklearn/metrics/_regression.py:492: FutureWarning:\n",
      "\n",
      "'squared' is deprecated in version 1.4 and will be removed in 1.6. To calculate the root mean squared error, use the function'root_mean_squared_error'.\n",
      "\n",
      "/Users/mariaminotaki/miniconda3/envs/bms/lib/python3.10/site-packages/sklearn/metrics/_regression.py:492: FutureWarning:\n",
      "\n",
      "'squared' is deprecated in version 1.4 and will be removed in 1.6. To calculate the root mean squared error, use the function'root_mean_squared_error'.\n",
      "\n",
      "/Users/mariaminotaki/miniconda3/envs/bms/lib/python3.10/site-packages/sklearn/metrics/_regression.py:492: FutureWarning:\n",
      "\n",
      "'squared' is deprecated in version 1.4 and will be removed in 1.6. To calculate the root mean squared error, use the function'root_mean_squared_error'.\n",
      "\n",
      "/Users/mariaminotaki/miniconda3/envs/bms/lib/python3.10/site-packages/sklearn/metrics/_regression.py:492: FutureWarning:\n",
      "\n",
      "'squared' is deprecated in version 1.4 and will be removed in 1.6. To calculate the root mean squared error, use the function'root_mean_squared_error'.\n",
      "\n",
      " 86%|████████▌ | 6/7 [00:06<00:01,  1.36s/it]/Users/mariaminotaki/miniconda3/envs/bms/lib/python3.10/site-packages/sklearn/metrics/_regression.py:492: FutureWarning:\n",
      "\n",
      "'squared' is deprecated in version 1.4 and will be removed in 1.6. To calculate the root mean squared error, use the function'root_mean_squared_error'.\n",
      "\n",
      "/Users/mariaminotaki/miniconda3/envs/bms/lib/python3.10/site-packages/sklearn/metrics/_regression.py:492: FutureWarning:\n",
      "\n",
      "'squared' is deprecated in version 1.4 and will be removed in 1.6. To calculate the root mean squared error, use the function'root_mean_squared_error'.\n",
      "\n",
      "/Users/mariaminotaki/miniconda3/envs/bms/lib/python3.10/site-packages/sklearn/metrics/_regression.py:492: FutureWarning:\n",
      "\n",
      "'squared' is deprecated in version 1.4 and will be removed in 1.6. To calculate the root mean squared error, use the function'root_mean_squared_error'.\n",
      "\n",
      "/Users/mariaminotaki/miniconda3/envs/bms/lib/python3.10/site-packages/sklearn/metrics/_regression.py:492: FutureWarning:\n",
      "\n",
      "'squared' is deprecated in version 1.4 and will be removed in 1.6. To calculate the root mean squared error, use the function'root_mean_squared_error'.\n",
      "\n",
      "/Users/mariaminotaki/miniconda3/envs/bms/lib/python3.10/site-packages/sklearn/metrics/_regression.py:492: FutureWarning:\n",
      "\n",
      "'squared' is deprecated in version 1.4 and will be removed in 1.6. To calculate the root mean squared error, use the function'root_mean_squared_error'.\n",
      "\n",
      "/Users/mariaminotaki/miniconda3/envs/bms/lib/python3.10/site-packages/sklearn/metrics/_regression.py:492: FutureWarning:\n",
      "\n",
      "'squared' is deprecated in version 1.4 and will be removed in 1.6. To calculate the root mean squared error, use the function'root_mean_squared_error'.\n",
      "\n",
      "/Users/mariaminotaki/miniconda3/envs/bms/lib/python3.10/site-packages/sklearn/metrics/_regression.py:492: FutureWarning:\n",
      "\n",
      "'squared' is deprecated in version 1.4 and will be removed in 1.6. To calculate the root mean squared error, use the function'root_mean_squared_error'.\n",
      "\n",
      "/Users/mariaminotaki/miniconda3/envs/bms/lib/python3.10/site-packages/sklearn/metrics/_regression.py:492: FutureWarning:\n",
      "\n",
      "'squared' is deprecated in version 1.4 and will be removed in 1.6. To calculate the root mean squared error, use the function'root_mean_squared_error'.\n",
      "\n",
      "/Users/mariaminotaki/miniconda3/envs/bms/lib/python3.10/site-packages/sklearn/metrics/_regression.py:492: FutureWarning:\n",
      "\n",
      "'squared' is deprecated in version 1.4 and will be removed in 1.6. To calculate the root mean squared error, use the function'root_mean_squared_error'.\n",
      "\n",
      "/Users/mariaminotaki/miniconda3/envs/bms/lib/python3.10/site-packages/sklearn/metrics/_regression.py:492: FutureWarning:\n",
      "\n",
      "'squared' is deprecated in version 1.4 and will be removed in 1.6. To calculate the root mean squared error, use the function'root_mean_squared_error'.\n",
      "\n",
      "/Users/mariaminotaki/miniconda3/envs/bms/lib/python3.10/site-packages/sklearn/metrics/_regression.py:492: FutureWarning:\n",
      "\n",
      "'squared' is deprecated in version 1.4 and will be removed in 1.6. To calculate the root mean squared error, use the function'root_mean_squared_error'.\n",
      "\n",
      "/Users/mariaminotaki/miniconda3/envs/bms/lib/python3.10/site-packages/sklearn/metrics/_regression.py:492: FutureWarning:\n",
      "\n",
      "'squared' is deprecated in version 1.4 and will be removed in 1.6. To calculate the root mean squared error, use the function'root_mean_squared_error'.\n",
      "\n",
      "/Users/mariaminotaki/miniconda3/envs/bms/lib/python3.10/site-packages/sklearn/metrics/_regression.py:492: FutureWarning:\n",
      "\n",
      "'squared' is deprecated in version 1.4 and will be removed in 1.6. To calculate the root mean squared error, use the function'root_mean_squared_error'.\n",
      "\n",
      "/Users/mariaminotaki/miniconda3/envs/bms/lib/python3.10/site-packages/sklearn/metrics/_regression.py:492: FutureWarning:\n",
      "\n",
      "'squared' is deprecated in version 1.4 and will be removed in 1.6. To calculate the root mean squared error, use the function'root_mean_squared_error'.\n",
      "\n",
      "/Users/mariaminotaki/miniconda3/envs/bms/lib/python3.10/site-packages/sklearn/metrics/_regression.py:492: FutureWarning:\n",
      "\n",
      "'squared' is deprecated in version 1.4 and will be removed in 1.6. To calculate the root mean squared error, use the function'root_mean_squared_error'.\n",
      "\n",
      "/Users/mariaminotaki/miniconda3/envs/bms/lib/python3.10/site-packages/sklearn/metrics/_regression.py:492: FutureWarning:\n",
      "\n",
      "'squared' is deprecated in version 1.4 and will be removed in 1.6. To calculate the root mean squared error, use the function'root_mean_squared_error'.\n",
      "\n",
      "/Users/mariaminotaki/miniconda3/envs/bms/lib/python3.10/site-packages/sklearn/metrics/_regression.py:492: FutureWarning:\n",
      "\n",
      "'squared' is deprecated in version 1.4 and will be removed in 1.6. To calculate the root mean squared error, use the function'root_mean_squared_error'.\n",
      "\n",
      "/Users/mariaminotaki/miniconda3/envs/bms/lib/python3.10/site-packages/sklearn/metrics/_regression.py:492: FutureWarning:\n",
      "\n",
      "'squared' is deprecated in version 1.4 and will be removed in 1.6. To calculate the root mean squared error, use the function'root_mean_squared_error'.\n",
      "\n",
      "/Users/mariaminotaki/miniconda3/envs/bms/lib/python3.10/site-packages/sklearn/metrics/_regression.py:492: FutureWarning:\n",
      "\n",
      "'squared' is deprecated in version 1.4 and will be removed in 1.6. To calculate the root mean squared error, use the function'root_mean_squared_error'.\n",
      "\n",
      "/Users/mariaminotaki/miniconda3/envs/bms/lib/python3.10/site-packages/sklearn/metrics/_regression.py:492: FutureWarning:\n",
      "\n",
      "'squared' is deprecated in version 1.4 and will be removed in 1.6. To calculate the root mean squared error, use the function'root_mean_squared_error'.\n",
      "\n",
      "/Users/mariaminotaki/miniconda3/envs/bms/lib/python3.10/site-packages/sklearn/metrics/_regression.py:492: FutureWarning:\n",
      "\n",
      "'squared' is deprecated in version 1.4 and will be removed in 1.6. To calculate the root mean squared error, use the function'root_mean_squared_error'.\n",
      "\n",
      "/Users/mariaminotaki/miniconda3/envs/bms/lib/python3.10/site-packages/sklearn/metrics/_regression.py:492: FutureWarning:\n",
      "\n",
      "'squared' is deprecated in version 1.4 and will be removed in 1.6. To calculate the root mean squared error, use the function'root_mean_squared_error'.\n",
      "\n",
      "/Users/mariaminotaki/miniconda3/envs/bms/lib/python3.10/site-packages/sklearn/metrics/_regression.py:492: FutureWarning:\n",
      "\n",
      "'squared' is deprecated in version 1.4 and will be removed in 1.6. To calculate the root mean squared error, use the function'root_mean_squared_error'.\n",
      "\n",
      "/Users/mariaminotaki/miniconda3/envs/bms/lib/python3.10/site-packages/sklearn/metrics/_regression.py:492: FutureWarning:\n",
      "\n",
      "'squared' is deprecated in version 1.4 and will be removed in 1.6. To calculate the root mean squared error, use the function'root_mean_squared_error'.\n",
      "\n",
      "/Users/mariaminotaki/miniconda3/envs/bms/lib/python3.10/site-packages/sklearn/metrics/_regression.py:492: FutureWarning:\n",
      "\n",
      "'squared' is deprecated in version 1.4 and will be removed in 1.6. To calculate the root mean squared error, use the function'root_mean_squared_error'.\n",
      "\n",
      "/Users/mariaminotaki/miniconda3/envs/bms/lib/python3.10/site-packages/sklearn/metrics/_regression.py:492: FutureWarning:\n",
      "\n",
      "'squared' is deprecated in version 1.4 and will be removed in 1.6. To calculate the root mean squared error, use the function'root_mean_squared_error'.\n",
      "\n",
      "/Users/mariaminotaki/miniconda3/envs/bms/lib/python3.10/site-packages/sklearn/metrics/_regression.py:492: FutureWarning:\n",
      "\n",
      "'squared' is deprecated in version 1.4 and will be removed in 1.6. To calculate the root mean squared error, use the function'root_mean_squared_error'.\n",
      "\n",
      "/Users/mariaminotaki/miniconda3/envs/bms/lib/python3.10/site-packages/sklearn/metrics/_regression.py:492: FutureWarning:\n",
      "\n",
      "'squared' is deprecated in version 1.4 and will be removed in 1.6. To calculate the root mean squared error, use the function'root_mean_squared_error'.\n",
      "\n",
      "/Users/mariaminotaki/miniconda3/envs/bms/lib/python3.10/site-packages/sklearn/metrics/_regression.py:492: FutureWarning:\n",
      "\n",
      "'squared' is deprecated in version 1.4 and will be removed in 1.6. To calculate the root mean squared error, use the function'root_mean_squared_error'.\n",
      "\n",
      "/Users/mariaminotaki/miniconda3/envs/bms/lib/python3.10/site-packages/sklearn/metrics/_regression.py:492: FutureWarning:\n",
      "\n",
      "'squared' is deprecated in version 1.4 and will be removed in 1.6. To calculate the root mean squared error, use the function'root_mean_squared_error'.\n",
      "\n",
      "100%|██████████| 7/7 [00:09<00:00,  1.29s/it]\n",
      "/Users/mariaminotaki/miniconda3/envs/bms/lib/python3.10/site-packages/sklearn/metrics/_regression.py:492: FutureWarning:\n",
      "\n",
      "'squared' is deprecated in version 1.4 and will be removed in 1.6. To calculate the root mean squared error, use the function'root_mean_squared_error'.\n",
      "\n",
      "/Users/mariaminotaki/miniconda3/envs/bms/lib/python3.10/site-packages/sklearn/metrics/_regression.py:492: FutureWarning:\n",
      "\n",
      "'squared' is deprecated in version 1.4 and will be removed in 1.6. To calculate the root mean squared error, use the function'root_mean_squared_error'.\n",
      "\n",
      "/Users/mariaminotaki/miniconda3/envs/bms/lib/python3.10/site-packages/sklearn/metrics/_regression.py:492: FutureWarning:\n",
      "\n",
      "'squared' is deprecated in version 1.4 and will be removed in 1.6. To calculate the root mean squared error, use the function'root_mean_squared_error'.\n",
      "\n",
      "/Users/mariaminotaki/miniconda3/envs/bms/lib/python3.10/site-packages/sklearn/metrics/_regression.py:492: FutureWarning:\n",
      "\n",
      "'squared' is deprecated in version 1.4 and will be removed in 1.6. To calculate the root mean squared error, use the function'root_mean_squared_error'.\n",
      "\n",
      "/Users/mariaminotaki/miniconda3/envs/bms/lib/python3.10/site-packages/sklearn/metrics/_regression.py:492: FutureWarning:\n",
      "\n",
      "'squared' is deprecated in version 1.4 and will be removed in 1.6. To calculate the root mean squared error, use the function'root_mean_squared_error'.\n",
      "\n",
      "/Users/mariaminotaki/miniconda3/envs/bms/lib/python3.10/site-packages/sklearn/metrics/_regression.py:492: FutureWarning:\n",
      "\n",
      "'squared' is deprecated in version 1.4 and will be removed in 1.6. To calculate the root mean squared error, use the function'root_mean_squared_error'.\n",
      "\n",
      "/Users/mariaminotaki/miniconda3/envs/bms/lib/python3.10/site-packages/sklearn/metrics/_regression.py:492: FutureWarning:\n",
      "\n",
      "'squared' is deprecated in version 1.4 and will be removed in 1.6. To calculate the root mean squared error, use the function'root_mean_squared_error'.\n",
      "\n",
      "/Users/mariaminotaki/miniconda3/envs/bms/lib/python3.10/site-packages/sklearn/metrics/_regression.py:492: FutureWarning:\n",
      "\n",
      "'squared' is deprecated in version 1.4 and will be removed in 1.6. To calculate the root mean squared error, use the function'root_mean_squared_error'.\n",
      "\n",
      "/Users/mariaminotaki/miniconda3/envs/bms/lib/python3.10/site-packages/sklearn/metrics/_regression.py:492: FutureWarning:\n",
      "\n",
      "'squared' is deprecated in version 1.4 and will be removed in 1.6. To calculate the root mean squared error, use the function'root_mean_squared_error'.\n",
      "\n",
      "/Users/mariaminotaki/miniconda3/envs/bms/lib/python3.10/site-packages/sklearn/metrics/_regression.py:492: FutureWarning:\n",
      "\n",
      "'squared' is deprecated in version 1.4 and will be removed in 1.6. To calculate the root mean squared error, use the function'root_mean_squared_error'.\n",
      "\n",
      "/Users/mariaminotaki/miniconda3/envs/bms/lib/python3.10/site-packages/sklearn/metrics/_regression.py:492: FutureWarning:\n",
      "\n",
      "'squared' is deprecated in version 1.4 and will be removed in 1.6. To calculate the root mean squared error, use the function'root_mean_squared_error'.\n",
      "\n",
      "/Users/mariaminotaki/miniconda3/envs/bms/lib/python3.10/site-packages/sklearn/metrics/_regression.py:492: FutureWarning:\n",
      "\n",
      "'squared' is deprecated in version 1.4 and will be removed in 1.6. To calculate the root mean squared error, use the function'root_mean_squared_error'.\n",
      "\n",
      "/Users/mariaminotaki/miniconda3/envs/bms/lib/python3.10/site-packages/sklearn/metrics/_regression.py:492: FutureWarning:\n",
      "\n",
      "'squared' is deprecated in version 1.4 and will be removed in 1.6. To calculate the root mean squared error, use the function'root_mean_squared_error'.\n",
      "\n",
      "/Users/mariaminotaki/miniconda3/envs/bms/lib/python3.10/site-packages/sklearn/metrics/_regression.py:492: FutureWarning:\n",
      "\n",
      "'squared' is deprecated in version 1.4 and will be removed in 1.6. To calculate the root mean squared error, use the function'root_mean_squared_error'.\n",
      "\n",
      "/Users/mariaminotaki/miniconda3/envs/bms/lib/python3.10/site-packages/sklearn/metrics/_regression.py:492: FutureWarning:\n",
      "\n",
      "'squared' is deprecated in version 1.4 and will be removed in 1.6. To calculate the root mean squared error, use the function'root_mean_squared_error'.\n",
      "\n",
      "/Users/mariaminotaki/miniconda3/envs/bms/lib/python3.10/site-packages/sklearn/metrics/_regression.py:492: FutureWarning:\n",
      "\n",
      "'squared' is deprecated in version 1.4 and will be removed in 1.6. To calculate the root mean squared error, use the function'root_mean_squared_error'.\n",
      "\n",
      "/Users/mariaminotaki/miniconda3/envs/bms/lib/python3.10/site-packages/sklearn/metrics/_regression.py:492: FutureWarning:\n",
      "\n",
      "'squared' is deprecated in version 1.4 and will be removed in 1.6. To calculate the root mean squared error, use the function'root_mean_squared_error'.\n",
      "\n",
      "/Users/mariaminotaki/miniconda3/envs/bms/lib/python3.10/site-packages/sklearn/metrics/_regression.py:492: FutureWarning:\n",
      "\n",
      "'squared' is deprecated in version 1.4 and will be removed in 1.6. To calculate the root mean squared error, use the function'root_mean_squared_error'.\n",
      "\n",
      "/Users/mariaminotaki/miniconda3/envs/bms/lib/python3.10/site-packages/sklearn/metrics/_regression.py:492: FutureWarning:\n",
      "\n",
      "'squared' is deprecated in version 1.4 and will be removed in 1.6. To calculate the root mean squared error, use the function'root_mean_squared_error'.\n",
      "\n",
      "/Users/mariaminotaki/miniconda3/envs/bms/lib/python3.10/site-packages/sklearn/metrics/_regression.py:492: FutureWarning:\n",
      "\n",
      "'squared' is deprecated in version 1.4 and will be removed in 1.6. To calculate the root mean squared error, use the function'root_mean_squared_error'.\n",
      "\n",
      "/Users/mariaminotaki/miniconda3/envs/bms/lib/python3.10/site-packages/sklearn/metrics/_regression.py:492: FutureWarning:\n",
      "\n",
      "'squared' is deprecated in version 1.4 and will be removed in 1.6. To calculate the root mean squared error, use the function'root_mean_squared_error'.\n",
      "\n",
      "/Users/mariaminotaki/miniconda3/envs/bms/lib/python3.10/site-packages/sklearn/metrics/_regression.py:492: FutureWarning:\n",
      "\n",
      "'squared' is deprecated in version 1.4 and will be removed in 1.6. To calculate the root mean squared error, use the function'root_mean_squared_error'.\n",
      "\n",
      "/Users/mariaminotaki/miniconda3/envs/bms/lib/python3.10/site-packages/sklearn/metrics/_regression.py:492: FutureWarning:\n",
      "\n",
      "'squared' is deprecated in version 1.4 and will be removed in 1.6. To calculate the root mean squared error, use the function'root_mean_squared_error'.\n",
      "\n",
      "/Users/mariaminotaki/miniconda3/envs/bms/lib/python3.10/site-packages/sklearn/metrics/_regression.py:492: FutureWarning:\n",
      "\n",
      "'squared' is deprecated in version 1.4 and will be removed in 1.6. To calculate the root mean squared error, use the function'root_mean_squared_error'.\n",
      "\n",
      "/Users/mariaminotaki/miniconda3/envs/bms/lib/python3.10/site-packages/sklearn/metrics/_regression.py:492: FutureWarning:\n",
      "\n",
      "'squared' is deprecated in version 1.4 and will be removed in 1.6. To calculate the root mean squared error, use the function'root_mean_squared_error'.\n",
      "\n",
      "/Users/mariaminotaki/miniconda3/envs/bms/lib/python3.10/site-packages/sklearn/metrics/_regression.py:492: FutureWarning:\n",
      "\n",
      "'squared' is deprecated in version 1.4 and will be removed in 1.6. To calculate the root mean squared error, use the function'root_mean_squared_error'.\n",
      "\n",
      "/Users/mariaminotaki/miniconda3/envs/bms/lib/python3.10/site-packages/sklearn/metrics/_regression.py:492: FutureWarning:\n",
      "\n",
      "'squared' is deprecated in version 1.4 and will be removed in 1.6. To calculate the root mean squared error, use the function'root_mean_squared_error'.\n",
      "\n",
      "/Users/mariaminotaki/miniconda3/envs/bms/lib/python3.10/site-packages/sklearn/metrics/_regression.py:492: FutureWarning:\n",
      "\n",
      "'squared' is deprecated in version 1.4 and will be removed in 1.6. To calculate the root mean squared error, use the function'root_mean_squared_error'.\n",
      "\n",
      "/Users/mariaminotaki/miniconda3/envs/bms/lib/python3.10/site-packages/sklearn/metrics/_regression.py:492: FutureWarning:\n",
      "\n",
      "'squared' is deprecated in version 1.4 and will be removed in 1.6. To calculate the root mean squared error, use the function'root_mean_squared_error'.\n",
      "\n",
      "/Users/mariaminotaki/miniconda3/envs/bms/lib/python3.10/site-packages/sklearn/metrics/_regression.py:492: FutureWarning:\n",
      "\n",
      "'squared' is deprecated in version 1.4 and will be removed in 1.6. To calculate the root mean squared error, use the function'root_mean_squared_error'.\n",
      "\n"
     ]
    },
    {
     "data": {
      "application/vnd.plotly.v1+json": {
       "config": {
        "plotlyServerURL": "https://plot.ly"
       },
       "data": [
        {
         "hoverinfo": "x+y",
         "line": {
          "color": "blue",
          "width": 3
         },
         "mode": "lines",
         "name": "RMSE (train)",
         "showlegend": true,
         "type": "scatter",
         "x": [
          1,
          51,
          101,
          151,
          201,
          251,
          301
         ],
         "xaxis": "x",
         "y": [
          0.49,
          0.27,
          0.27,
          0.26,
          0.26,
          0.26,
          0.26
         ],
         "yaxis": "y"
        },
        {
         "hoverinfo": "x+y",
         "line": {
          "color": "blue",
          "dash": "dash",
          "width": 3
         },
         "mode": "lines",
         "name": "RMSE (test)",
         "showlegend": true,
         "type": "scatter",
         "x": [
          1,
          51,
          101,
          151,
          201,
          251,
          301
         ],
         "xaxis": "x",
         "y": [
          0.69,
          0.43,
          0.43,
          0.43,
          0.43,
          0.43,
          0.43
         ],
         "yaxis": "y"
        },
        {
         "hoverinfo": "x+y",
         "line": {
          "color": "red",
          "width": 3
         },
         "mode": "lines",
         "name": "R<sup>2</sup> (train)",
         "showlegend": true,
         "type": "scatter",
         "x": [
          1,
          51,
          101,
          151,
          201,
          251,
          301
         ],
         "xaxis": "x",
         "y": [
          0.91,
          0.97,
          0.97,
          0.97,
          0.97,
          0.97,
          0.97
         ],
         "yaxis": "y2"
        },
        {
         "hoverinfo": "x+y",
         "line": {
          "color": "red",
          "dash": "dash",
          "width": 3
         },
         "mode": "lines",
         "name": "R<sup>2</sup> (test)",
         "showlegend": true,
         "type": "scatter",
         "x": [
          1,
          51,
          101,
          151,
          201,
          251,
          301
         ],
         "xaxis": "x",
         "y": [
          0.74,
          0.9,
          0.9,
          0.9,
          0.9,
          0.9,
          0.9
         ],
         "yaxis": "y2"
        },
        {
         "hoverinfo": "x+y",
         "line": {
          "color": "green",
          "width": 3
         },
         "mode": "lines",
         "name": "MAE (train)",
         "showlegend": true,
         "type": "scatter",
         "x": [
          1,
          51,
          101,
          151,
          201,
          251,
          301
         ],
         "xaxis": "x",
         "y": [
          0.33,
          0.21,
          0.21,
          0.21,
          0.21,
          0.21,
          0.21
         ],
         "yaxis": "y"
        },
        {
         "hoverinfo": "x+y",
         "line": {
          "color": "green",
          "dash": "dash",
          "width": 3
         },
         "mode": "lines",
         "name": "MAE (test)",
         "showlegend": true,
         "type": "scatter",
         "x": [
          1,
          51,
          101,
          151,
          201,
          251,
          301
         ],
         "xaxis": "x",
         "y": [
          0.54,
          0.34,
          0.34,
          0.34,
          0.34,
          0.34,
          0.34
         ],
         "yaxis": "y"
        },
        {
         "hoverinfo": "text",
         "line": {
          "color": "blue",
          "width": 0.001
         },
         "mode": "lines",
         "name": "RMSE (train)",
         "showlegend": false,
         "text": [
          "",
          "",
          "",
          "",
          "",
          "",
          ""
         ],
         "type": "scatter",
         "x": [
          1,
          51,
          101,
          151,
          201,
          251,
          301
         ],
         "y": [
          0.5444997271764539,
          0.3356034715875528,
          0.33545860001826855,
          0.3364527991942322,
          0.33561726083305804,
          0.3362055997343082,
          0.33519028786345617
         ]
        }
       ],
       "layout": {
        "font": {
         "color": "black",
         "family": "Arial"
        },
        "height": 500,
        "hoverlabel": {
         "namelength": -1
        },
        "hovermode": "x unified",
        "legend": {
         "bgcolor": "rgba(0,0,0,0.1)",
         "font": {
          "size": 26
         },
         "x": 0.5,
         "xanchor": "center",
         "y": 1,
         "yanchor": "top"
        },
        "margin": {
         "b": 0,
         "l": 0,
         "r": 0,
         "t": 0
        },
        "paper_bgcolor": "white",
        "plot_bgcolor": "white",
        "template": {
         "data": {
          "bar": [
           {
            "error_x": {
             "color": "#2a3f5f"
            },
            "error_y": {
             "color": "#2a3f5f"
            },
            "marker": {
             "line": {
              "color": "#E5ECF6",
              "width": 0.5
             },
             "pattern": {
              "fillmode": "overlay",
              "size": 10,
              "solidity": 0.2
             }
            },
            "type": "bar"
           }
          ],
          "barpolar": [
           {
            "marker": {
             "line": {
              "color": "#E5ECF6",
              "width": 0.5
             },
             "pattern": {
              "fillmode": "overlay",
              "size": 10,
              "solidity": 0.2
             }
            },
            "type": "barpolar"
           }
          ],
          "carpet": [
           {
            "aaxis": {
             "endlinecolor": "#2a3f5f",
             "gridcolor": "white",
             "linecolor": "white",
             "minorgridcolor": "white",
             "startlinecolor": "#2a3f5f"
            },
            "baxis": {
             "endlinecolor": "#2a3f5f",
             "gridcolor": "white",
             "linecolor": "white",
             "minorgridcolor": "white",
             "startlinecolor": "#2a3f5f"
            },
            "type": "carpet"
           }
          ],
          "choropleth": [
           {
            "colorbar": {
             "outlinewidth": 0,
             "ticks": ""
            },
            "type": "choropleth"
           }
          ],
          "contour": [
           {
            "colorbar": {
             "outlinewidth": 0,
             "ticks": ""
            },
            "colorscale": [
             [
              0,
              "#0d0887"
             ],
             [
              0.1111111111111111,
              "#46039f"
             ],
             [
              0.2222222222222222,
              "#7201a8"
             ],
             [
              0.3333333333333333,
              "#9c179e"
             ],
             [
              0.4444444444444444,
              "#bd3786"
             ],
             [
              0.5555555555555556,
              "#d8576b"
             ],
             [
              0.6666666666666666,
              "#ed7953"
             ],
             [
              0.7777777777777778,
              "#fb9f3a"
             ],
             [
              0.8888888888888888,
              "#fdca26"
             ],
             [
              1,
              "#f0f921"
             ]
            ],
            "type": "contour"
           }
          ],
          "contourcarpet": [
           {
            "colorbar": {
             "outlinewidth": 0,
             "ticks": ""
            },
            "type": "contourcarpet"
           }
          ],
          "heatmap": [
           {
            "colorbar": {
             "outlinewidth": 0,
             "ticks": ""
            },
            "colorscale": [
             [
              0,
              "#0d0887"
             ],
             [
              0.1111111111111111,
              "#46039f"
             ],
             [
              0.2222222222222222,
              "#7201a8"
             ],
             [
              0.3333333333333333,
              "#9c179e"
             ],
             [
              0.4444444444444444,
              "#bd3786"
             ],
             [
              0.5555555555555556,
              "#d8576b"
             ],
             [
              0.6666666666666666,
              "#ed7953"
             ],
             [
              0.7777777777777778,
              "#fb9f3a"
             ],
             [
              0.8888888888888888,
              "#fdca26"
             ],
             [
              1,
              "#f0f921"
             ]
            ],
            "type": "heatmap"
           }
          ],
          "heatmapgl": [
           {
            "colorbar": {
             "outlinewidth": 0,
             "ticks": ""
            },
            "colorscale": [
             [
              0,
              "#0d0887"
             ],
             [
              0.1111111111111111,
              "#46039f"
             ],
             [
              0.2222222222222222,
              "#7201a8"
             ],
             [
              0.3333333333333333,
              "#9c179e"
             ],
             [
              0.4444444444444444,
              "#bd3786"
             ],
             [
              0.5555555555555556,
              "#d8576b"
             ],
             [
              0.6666666666666666,
              "#ed7953"
             ],
             [
              0.7777777777777778,
              "#fb9f3a"
             ],
             [
              0.8888888888888888,
              "#fdca26"
             ],
             [
              1,
              "#f0f921"
             ]
            ],
            "type": "heatmapgl"
           }
          ],
          "histogram": [
           {
            "marker": {
             "pattern": {
              "fillmode": "overlay",
              "size": 10,
              "solidity": 0.2
             }
            },
            "type": "histogram"
           }
          ],
          "histogram2d": [
           {
            "colorbar": {
             "outlinewidth": 0,
             "ticks": ""
            },
            "colorscale": [
             [
              0,
              "#0d0887"
             ],
             [
              0.1111111111111111,
              "#46039f"
             ],
             [
              0.2222222222222222,
              "#7201a8"
             ],
             [
              0.3333333333333333,
              "#9c179e"
             ],
             [
              0.4444444444444444,
              "#bd3786"
             ],
             [
              0.5555555555555556,
              "#d8576b"
             ],
             [
              0.6666666666666666,
              "#ed7953"
             ],
             [
              0.7777777777777778,
              "#fb9f3a"
             ],
             [
              0.8888888888888888,
              "#fdca26"
             ],
             [
              1,
              "#f0f921"
             ]
            ],
            "type": "histogram2d"
           }
          ],
          "histogram2dcontour": [
           {
            "colorbar": {
             "outlinewidth": 0,
             "ticks": ""
            },
            "colorscale": [
             [
              0,
              "#0d0887"
             ],
             [
              0.1111111111111111,
              "#46039f"
             ],
             [
              0.2222222222222222,
              "#7201a8"
             ],
             [
              0.3333333333333333,
              "#9c179e"
             ],
             [
              0.4444444444444444,
              "#bd3786"
             ],
             [
              0.5555555555555556,
              "#d8576b"
             ],
             [
              0.6666666666666666,
              "#ed7953"
             ],
             [
              0.7777777777777778,
              "#fb9f3a"
             ],
             [
              0.8888888888888888,
              "#fdca26"
             ],
             [
              1,
              "#f0f921"
             ]
            ],
            "type": "histogram2dcontour"
           }
          ],
          "mesh3d": [
           {
            "colorbar": {
             "outlinewidth": 0,
             "ticks": ""
            },
            "type": "mesh3d"
           }
          ],
          "parcoords": [
           {
            "line": {
             "colorbar": {
              "outlinewidth": 0,
              "ticks": ""
             }
            },
            "type": "parcoords"
           }
          ],
          "pie": [
           {
            "automargin": true,
            "type": "pie"
           }
          ],
          "scatter": [
           {
            "fillpattern": {
             "fillmode": "overlay",
             "size": 10,
             "solidity": 0.2
            },
            "type": "scatter"
           }
          ],
          "scatter3d": [
           {
            "line": {
             "colorbar": {
              "outlinewidth": 0,
              "ticks": ""
             }
            },
            "marker": {
             "colorbar": {
              "outlinewidth": 0,
              "ticks": ""
             }
            },
            "type": "scatter3d"
           }
          ],
          "scattercarpet": [
           {
            "marker": {
             "colorbar": {
              "outlinewidth": 0,
              "ticks": ""
             }
            },
            "type": "scattercarpet"
           }
          ],
          "scattergeo": [
           {
            "marker": {
             "colorbar": {
              "outlinewidth": 0,
              "ticks": ""
             }
            },
            "type": "scattergeo"
           }
          ],
          "scattergl": [
           {
            "marker": {
             "colorbar": {
              "outlinewidth": 0,
              "ticks": ""
             }
            },
            "type": "scattergl"
           }
          ],
          "scattermapbox": [
           {
            "marker": {
             "colorbar": {
              "outlinewidth": 0,
              "ticks": ""
             }
            },
            "type": "scattermapbox"
           }
          ],
          "scatterpolar": [
           {
            "marker": {
             "colorbar": {
              "outlinewidth": 0,
              "ticks": ""
             }
            },
            "type": "scatterpolar"
           }
          ],
          "scatterpolargl": [
           {
            "marker": {
             "colorbar": {
              "outlinewidth": 0,
              "ticks": ""
             }
            },
            "type": "scatterpolargl"
           }
          ],
          "scatterternary": [
           {
            "marker": {
             "colorbar": {
              "outlinewidth": 0,
              "ticks": ""
             }
            },
            "type": "scatterternary"
           }
          ],
          "surface": [
           {
            "colorbar": {
             "outlinewidth": 0,
             "ticks": ""
            },
            "colorscale": [
             [
              0,
              "#0d0887"
             ],
             [
              0.1111111111111111,
              "#46039f"
             ],
             [
              0.2222222222222222,
              "#7201a8"
             ],
             [
              0.3333333333333333,
              "#9c179e"
             ],
             [
              0.4444444444444444,
              "#bd3786"
             ],
             [
              0.5555555555555556,
              "#d8576b"
             ],
             [
              0.6666666666666666,
              "#ed7953"
             ],
             [
              0.7777777777777778,
              "#fb9f3a"
             ],
             [
              0.8888888888888888,
              "#fdca26"
             ],
             [
              1,
              "#f0f921"
             ]
            ],
            "type": "surface"
           }
          ],
          "table": [
           {
            "cells": {
             "fill": {
              "color": "#EBF0F8"
             },
             "line": {
              "color": "white"
             }
            },
            "header": {
             "fill": {
              "color": "#C8D4E3"
             },
             "line": {
              "color": "white"
             }
            },
            "type": "table"
           }
          ]
         },
         "layout": {
          "annotationdefaults": {
           "arrowcolor": "#2a3f5f",
           "arrowhead": 0,
           "arrowwidth": 1
          },
          "autotypenumbers": "strict",
          "coloraxis": {
           "colorbar": {
            "outlinewidth": 0,
            "ticks": ""
           }
          },
          "colorscale": {
           "diverging": [
            [
             0,
             "#8e0152"
            ],
            [
             0.1,
             "#c51b7d"
            ],
            [
             0.2,
             "#de77ae"
            ],
            [
             0.3,
             "#f1b6da"
            ],
            [
             0.4,
             "#fde0ef"
            ],
            [
             0.5,
             "#f7f7f7"
            ],
            [
             0.6,
             "#e6f5d0"
            ],
            [
             0.7,
             "#b8e186"
            ],
            [
             0.8,
             "#7fbc41"
            ],
            [
             0.9,
             "#4d9221"
            ],
            [
             1,
             "#276419"
            ]
           ],
           "sequential": [
            [
             0,
             "#0d0887"
            ],
            [
             0.1111111111111111,
             "#46039f"
            ],
            [
             0.2222222222222222,
             "#7201a8"
            ],
            [
             0.3333333333333333,
             "#9c179e"
            ],
            [
             0.4444444444444444,
             "#bd3786"
            ],
            [
             0.5555555555555556,
             "#d8576b"
            ],
            [
             0.6666666666666666,
             "#ed7953"
            ],
            [
             0.7777777777777778,
             "#fb9f3a"
            ],
            [
             0.8888888888888888,
             "#fdca26"
            ],
            [
             1,
             "#f0f921"
            ]
           ],
           "sequentialminus": [
            [
             0,
             "#0d0887"
            ],
            [
             0.1111111111111111,
             "#46039f"
            ],
            [
             0.2222222222222222,
             "#7201a8"
            ],
            [
             0.3333333333333333,
             "#9c179e"
            ],
            [
             0.4444444444444444,
             "#bd3786"
            ],
            [
             0.5555555555555556,
             "#d8576b"
            ],
            [
             0.6666666666666666,
             "#ed7953"
            ],
            [
             0.7777777777777778,
             "#fb9f3a"
            ],
            [
             0.8888888888888888,
             "#fdca26"
            ],
            [
             1,
             "#f0f921"
            ]
           ]
          },
          "colorway": [
           "#636efa",
           "#EF553B",
           "#00cc96",
           "#ab63fa",
           "#FFA15A",
           "#19d3f3",
           "#FF6692",
           "#B6E880",
           "#FF97FF",
           "#FECB52"
          ],
          "font": {
           "color": "#2a3f5f"
          },
          "geo": {
           "bgcolor": "white",
           "lakecolor": "white",
           "landcolor": "#E5ECF6",
           "showlakes": true,
           "showland": true,
           "subunitcolor": "white"
          },
          "hoverlabel": {
           "align": "left"
          },
          "hovermode": "closest",
          "mapbox": {
           "style": "light"
          },
          "paper_bgcolor": "white",
          "plot_bgcolor": "#E5ECF6",
          "polar": {
           "angularaxis": {
            "gridcolor": "white",
            "linecolor": "white",
            "ticks": ""
           },
           "bgcolor": "#E5ECF6",
           "radialaxis": {
            "gridcolor": "white",
            "linecolor": "white",
            "ticks": ""
           }
          },
          "scene": {
           "xaxis": {
            "backgroundcolor": "#E5ECF6",
            "gridcolor": "white",
            "gridwidth": 2,
            "linecolor": "white",
            "showbackground": true,
            "ticks": "",
            "zerolinecolor": "white"
           },
           "yaxis": {
            "backgroundcolor": "#E5ECF6",
            "gridcolor": "white",
            "gridwidth": 2,
            "linecolor": "white",
            "showbackground": true,
            "ticks": "",
            "zerolinecolor": "white"
           },
           "zaxis": {
            "backgroundcolor": "#E5ECF6",
            "gridcolor": "white",
            "gridwidth": 2,
            "linecolor": "white",
            "showbackground": true,
            "ticks": "",
            "zerolinecolor": "white"
           }
          },
          "shapedefaults": {
           "line": {
            "color": "#2a3f5f"
           }
          },
          "ternary": {
           "aaxis": {
            "gridcolor": "white",
            "linecolor": "white",
            "ticks": ""
           },
           "baxis": {
            "gridcolor": "white",
            "linecolor": "white",
            "ticks": ""
           },
           "bgcolor": "#E5ECF6",
           "caxis": {
            "gridcolor": "white",
            "linecolor": "white",
            "ticks": ""
           }
          },
          "title": {
           "x": 0.05
          },
          "xaxis": {
           "automargin": true,
           "gridcolor": "white",
           "linecolor": "white",
           "ticks": "",
           "title": {
            "standoff": 15
           },
           "zerolinecolor": "white",
           "zerolinewidth": 2
          },
          "yaxis": {
           "automargin": true,
           "gridcolor": "white",
           "linecolor": "white",
           "ticks": "",
           "title": {
            "standoff": 15
           },
           "zerolinecolor": "white",
           "zerolinewidth": 2
          }
         }
        },
        "width": 809,
        "xaxis": {
         "anchor": "y",
         "domain": [
          0,
          0.94
         ],
         "gridcolor": "rgba(0,0,0,0.3)",
         "linecolor": "black",
         "linewidth": 3,
         "mirror": true,
         "range": [
          1,
          301
         ],
         "showgrid": false,
         "showline": true,
         "tickfont": {
          "size": 26
         },
         "ticklen": 6,
         "ticks": "outside",
         "tickwidth": 3,
         "title": {
          "font": {
           "size": 30
          },
          "text": "n_estimators"
         },
         "zeroline": false
        },
        "yaxis": {
         "anchor": "x",
         "color": "blue",
         "domain": [
          0,
          1
         ],
         "gridcolor": "rgba(0,0,0,0.3)",
         "linecolor": "black",
         "linewidth": 3,
         "showgrid": false,
         "showline": true,
         "tickfont": {
          "size": 26
         },
         "ticklen": 6,
         "ticks": "outside",
         "tickwidth": 3,
         "title": {
          "font": {
           "color": "blue",
           "size": 30
          },
          "text": "RMSE / eV"
         },
         "zeroline": false
        },
        "yaxis2": {
         "anchor": "x",
         "color": "red",
         "gridcolor": "rgba(0,0,0,0.3)",
         "linecolor": "black",
         "linewidth": 3,
         "overlaying": "y",
         "showgrid": false,
         "showline": true,
         "side": "right",
         "tickfont": {
          "size": 26
         },
         "ticklen": 6,
         "ticks": "outside",
         "tickwidth": 3,
         "title": {
          "font": {
           "color": "red",
           "size": 30
          },
          "text": "R<sup>2</sup>"
         },
         "zeroline": false
        }
       }
      },
      "text/html": [
       "<div>                            <div id=\"2433dbd8-872a-4d6e-b9f9-25cdb64de04f\" class=\"plotly-graph-div\" style=\"height:500px; width:809px;\"></div>            <script type=\"text/javascript\">                require([\"plotly\"], function(Plotly) {                    window.PLOTLYENV=window.PLOTLYENV || {};                                    if (document.getElementById(\"2433dbd8-872a-4d6e-b9f9-25cdb64de04f\")) {                    Plotly.newPlot(                        \"2433dbd8-872a-4d6e-b9f9-25cdb64de04f\",                        [{\"hoverinfo\":\"x+y\",\"line\":{\"color\":\"blue\",\"width\":3},\"mode\":\"lines\",\"name\":\"RMSE (train)\",\"showlegend\":true,\"x\":[1.0,51.0,101.0,151.0,201.0,251.0,301.0],\"y\":[0.49,0.27,0.27,0.26,0.26,0.26,0.26],\"yaxis\":\"y\",\"type\":\"scatter\",\"xaxis\":\"x\"},{\"hoverinfo\":\"x+y\",\"line\":{\"color\":\"blue\",\"dash\":\"dash\",\"width\":3},\"mode\":\"lines\",\"name\":\"RMSE (test)\",\"showlegend\":true,\"x\":[1.0,51.0,101.0,151.0,201.0,251.0,301.0],\"y\":[0.69,0.43,0.43,0.43,0.43,0.43,0.43],\"yaxis\":\"y\",\"type\":\"scatter\",\"xaxis\":\"x\"},{\"hoverinfo\":\"x+y\",\"line\":{\"color\":\"red\",\"width\":3},\"mode\":\"lines\",\"name\":\"R\\u003csup\\u003e2\\u003c\\u002fsup\\u003e (train)\",\"showlegend\":true,\"x\":[1.0,51.0,101.0,151.0,201.0,251.0,301.0],\"y\":[0.91,0.97,0.97,0.97,0.97,0.97,0.97],\"yaxis\":\"y2\",\"type\":\"scatter\",\"xaxis\":\"x\"},{\"hoverinfo\":\"x+y\",\"line\":{\"color\":\"red\",\"dash\":\"dash\",\"width\":3},\"mode\":\"lines\",\"name\":\"R\\u003csup\\u003e2\\u003c\\u002fsup\\u003e (test)\",\"showlegend\":true,\"x\":[1.0,51.0,101.0,151.0,201.0,251.0,301.0],\"y\":[0.74,0.9,0.9,0.9,0.9,0.9,0.9],\"yaxis\":\"y2\",\"type\":\"scatter\",\"xaxis\":\"x\"},{\"hoverinfo\":\"x+y\",\"line\":{\"color\":\"green\",\"width\":3},\"mode\":\"lines\",\"name\":\"MAE (train)\",\"showlegend\":true,\"x\":[1.0,51.0,101.0,151.0,201.0,251.0,301.0],\"y\":[0.33,0.21,0.21,0.21,0.21,0.21,0.21],\"yaxis\":\"y\",\"type\":\"scatter\",\"xaxis\":\"x\"},{\"hoverinfo\":\"x+y\",\"line\":{\"color\":\"green\",\"dash\":\"dash\",\"width\":3},\"mode\":\"lines\",\"name\":\"MAE (test)\",\"showlegend\":true,\"x\":[1.0,51.0,101.0,151.0,201.0,251.0,301.0],\"y\":[0.54,0.34,0.34,0.34,0.34,0.34,0.34],\"yaxis\":\"y\",\"type\":\"scatter\",\"xaxis\":\"x\"},{\"hoverinfo\":\"text\",\"line\":{\"color\":\"blue\",\"width\":0.001},\"mode\":\"lines\",\"name\":\"RMSE (train)\",\"showlegend\":false,\"text\":[\"\",\"\",\"\",\"\",\"\",\"\",\"\"],\"x\":[1.0,51.0,101.0,151.0,201.0,251.0,301.0],\"y\":[0.5444997271764539,0.3356034715875528,0.33545860001826855,0.3364527991942322,0.33561726083305804,0.3362055997343082,0.33519028786345617],\"type\":\"scatter\"}],                        {\"template\":{\"data\":{\"histogram2dcontour\":[{\"type\":\"histogram2dcontour\",\"colorbar\":{\"outlinewidth\":0,\"ticks\":\"\"},\"colorscale\":[[0.0,\"#0d0887\"],[0.1111111111111111,\"#46039f\"],[0.2222222222222222,\"#7201a8\"],[0.3333333333333333,\"#9c179e\"],[0.4444444444444444,\"#bd3786\"],[0.5555555555555556,\"#d8576b\"],[0.6666666666666666,\"#ed7953\"],[0.7777777777777778,\"#fb9f3a\"],[0.8888888888888888,\"#fdca26\"],[1.0,\"#f0f921\"]]}],\"choropleth\":[{\"type\":\"choropleth\",\"colorbar\":{\"outlinewidth\":0,\"ticks\":\"\"}}],\"histogram2d\":[{\"type\":\"histogram2d\",\"colorbar\":{\"outlinewidth\":0,\"ticks\":\"\"},\"colorscale\":[[0.0,\"#0d0887\"],[0.1111111111111111,\"#46039f\"],[0.2222222222222222,\"#7201a8\"],[0.3333333333333333,\"#9c179e\"],[0.4444444444444444,\"#bd3786\"],[0.5555555555555556,\"#d8576b\"],[0.6666666666666666,\"#ed7953\"],[0.7777777777777778,\"#fb9f3a\"],[0.8888888888888888,\"#fdca26\"],[1.0,\"#f0f921\"]]}],\"heatmap\":[{\"type\":\"heatmap\",\"colorbar\":{\"outlinewidth\":0,\"ticks\":\"\"},\"colorscale\":[[0.0,\"#0d0887\"],[0.1111111111111111,\"#46039f\"],[0.2222222222222222,\"#7201a8\"],[0.3333333333333333,\"#9c179e\"],[0.4444444444444444,\"#bd3786\"],[0.5555555555555556,\"#d8576b\"],[0.6666666666666666,\"#ed7953\"],[0.7777777777777778,\"#fb9f3a\"],[0.8888888888888888,\"#fdca26\"],[1.0,\"#f0f921\"]]}],\"heatmapgl\":[{\"type\":\"heatmapgl\",\"colorbar\":{\"outlinewidth\":0,\"ticks\":\"\"},\"colorscale\":[[0.0,\"#0d0887\"],[0.1111111111111111,\"#46039f\"],[0.2222222222222222,\"#7201a8\"],[0.3333333333333333,\"#9c179e\"],[0.4444444444444444,\"#bd3786\"],[0.5555555555555556,\"#d8576b\"],[0.6666666666666666,\"#ed7953\"],[0.7777777777777778,\"#fb9f3a\"],[0.8888888888888888,\"#fdca26\"],[1.0,\"#f0f921\"]]}],\"contourcarpet\":[{\"type\":\"contourcarpet\",\"colorbar\":{\"outlinewidth\":0,\"ticks\":\"\"}}],\"contour\":[{\"type\":\"contour\",\"colorbar\":{\"outlinewidth\":0,\"ticks\":\"\"},\"colorscale\":[[0.0,\"#0d0887\"],[0.1111111111111111,\"#46039f\"],[0.2222222222222222,\"#7201a8\"],[0.3333333333333333,\"#9c179e\"],[0.4444444444444444,\"#bd3786\"],[0.5555555555555556,\"#d8576b\"],[0.6666666666666666,\"#ed7953\"],[0.7777777777777778,\"#fb9f3a\"],[0.8888888888888888,\"#fdca26\"],[1.0,\"#f0f921\"]]}],\"surface\":[{\"type\":\"surface\",\"colorbar\":{\"outlinewidth\":0,\"ticks\":\"\"},\"colorscale\":[[0.0,\"#0d0887\"],[0.1111111111111111,\"#46039f\"],[0.2222222222222222,\"#7201a8\"],[0.3333333333333333,\"#9c179e\"],[0.4444444444444444,\"#bd3786\"],[0.5555555555555556,\"#d8576b\"],[0.6666666666666666,\"#ed7953\"],[0.7777777777777778,\"#fb9f3a\"],[0.8888888888888888,\"#fdca26\"],[1.0,\"#f0f921\"]]}],\"mesh3d\":[{\"type\":\"mesh3d\",\"colorbar\":{\"outlinewidth\":0,\"ticks\":\"\"}}],\"scatter\":[{\"fillpattern\":{\"fillmode\":\"overlay\",\"size\":10,\"solidity\":0.2},\"type\":\"scatter\"}],\"parcoords\":[{\"type\":\"parcoords\",\"line\":{\"colorbar\":{\"outlinewidth\":0,\"ticks\":\"\"}}}],\"scatterpolargl\":[{\"type\":\"scatterpolargl\",\"marker\":{\"colorbar\":{\"outlinewidth\":0,\"ticks\":\"\"}}}],\"bar\":[{\"error_x\":{\"color\":\"#2a3f5f\"},\"error_y\":{\"color\":\"#2a3f5f\"},\"marker\":{\"line\":{\"color\":\"#E5ECF6\",\"width\":0.5},\"pattern\":{\"fillmode\":\"overlay\",\"size\":10,\"solidity\":0.2}},\"type\":\"bar\"}],\"scattergeo\":[{\"type\":\"scattergeo\",\"marker\":{\"colorbar\":{\"outlinewidth\":0,\"ticks\":\"\"}}}],\"scatterpolar\":[{\"type\":\"scatterpolar\",\"marker\":{\"colorbar\":{\"outlinewidth\":0,\"ticks\":\"\"}}}],\"histogram\":[{\"marker\":{\"pattern\":{\"fillmode\":\"overlay\",\"size\":10,\"solidity\":0.2}},\"type\":\"histogram\"}],\"scattergl\":[{\"type\":\"scattergl\",\"marker\":{\"colorbar\":{\"outlinewidth\":0,\"ticks\":\"\"}}}],\"scatter3d\":[{\"type\":\"scatter3d\",\"line\":{\"colorbar\":{\"outlinewidth\":0,\"ticks\":\"\"}},\"marker\":{\"colorbar\":{\"outlinewidth\":0,\"ticks\":\"\"}}}],\"scattermapbox\":[{\"type\":\"scattermapbox\",\"marker\":{\"colorbar\":{\"outlinewidth\":0,\"ticks\":\"\"}}}],\"scatterternary\":[{\"type\":\"scatterternary\",\"marker\":{\"colorbar\":{\"outlinewidth\":0,\"ticks\":\"\"}}}],\"scattercarpet\":[{\"type\":\"scattercarpet\",\"marker\":{\"colorbar\":{\"outlinewidth\":0,\"ticks\":\"\"}}}],\"carpet\":[{\"aaxis\":{\"endlinecolor\":\"#2a3f5f\",\"gridcolor\":\"white\",\"linecolor\":\"white\",\"minorgridcolor\":\"white\",\"startlinecolor\":\"#2a3f5f\"},\"baxis\":{\"endlinecolor\":\"#2a3f5f\",\"gridcolor\":\"white\",\"linecolor\":\"white\",\"minorgridcolor\":\"white\",\"startlinecolor\":\"#2a3f5f\"},\"type\":\"carpet\"}],\"table\":[{\"cells\":{\"fill\":{\"color\":\"#EBF0F8\"},\"line\":{\"color\":\"white\"}},\"header\":{\"fill\":{\"color\":\"#C8D4E3\"},\"line\":{\"color\":\"white\"}},\"type\":\"table\"}],\"barpolar\":[{\"marker\":{\"line\":{\"color\":\"#E5ECF6\",\"width\":0.5},\"pattern\":{\"fillmode\":\"overlay\",\"size\":10,\"solidity\":0.2}},\"type\":\"barpolar\"}],\"pie\":[{\"automargin\":true,\"type\":\"pie\"}]},\"layout\":{\"autotypenumbers\":\"strict\",\"colorway\":[\"#636efa\",\"#EF553B\",\"#00cc96\",\"#ab63fa\",\"#FFA15A\",\"#19d3f3\",\"#FF6692\",\"#B6E880\",\"#FF97FF\",\"#FECB52\"],\"font\":{\"color\":\"#2a3f5f\"},\"hovermode\":\"closest\",\"hoverlabel\":{\"align\":\"left\"},\"paper_bgcolor\":\"white\",\"plot_bgcolor\":\"#E5ECF6\",\"polar\":{\"bgcolor\":\"#E5ECF6\",\"angularaxis\":{\"gridcolor\":\"white\",\"linecolor\":\"white\",\"ticks\":\"\"},\"radialaxis\":{\"gridcolor\":\"white\",\"linecolor\":\"white\",\"ticks\":\"\"}},\"ternary\":{\"bgcolor\":\"#E5ECF6\",\"aaxis\":{\"gridcolor\":\"white\",\"linecolor\":\"white\",\"ticks\":\"\"},\"baxis\":{\"gridcolor\":\"white\",\"linecolor\":\"white\",\"ticks\":\"\"},\"caxis\":{\"gridcolor\":\"white\",\"linecolor\":\"white\",\"ticks\":\"\"}},\"coloraxis\":{\"colorbar\":{\"outlinewidth\":0,\"ticks\":\"\"}},\"colorscale\":{\"sequential\":[[0.0,\"#0d0887\"],[0.1111111111111111,\"#46039f\"],[0.2222222222222222,\"#7201a8\"],[0.3333333333333333,\"#9c179e\"],[0.4444444444444444,\"#bd3786\"],[0.5555555555555556,\"#d8576b\"],[0.6666666666666666,\"#ed7953\"],[0.7777777777777778,\"#fb9f3a\"],[0.8888888888888888,\"#fdca26\"],[1.0,\"#f0f921\"]],\"sequentialminus\":[[0.0,\"#0d0887\"],[0.1111111111111111,\"#46039f\"],[0.2222222222222222,\"#7201a8\"],[0.3333333333333333,\"#9c179e\"],[0.4444444444444444,\"#bd3786\"],[0.5555555555555556,\"#d8576b\"],[0.6666666666666666,\"#ed7953\"],[0.7777777777777778,\"#fb9f3a\"],[0.8888888888888888,\"#fdca26\"],[1.0,\"#f0f921\"]],\"diverging\":[[0,\"#8e0152\"],[0.1,\"#c51b7d\"],[0.2,\"#de77ae\"],[0.3,\"#f1b6da\"],[0.4,\"#fde0ef\"],[0.5,\"#f7f7f7\"],[0.6,\"#e6f5d0\"],[0.7,\"#b8e186\"],[0.8,\"#7fbc41\"],[0.9,\"#4d9221\"],[1,\"#276419\"]]},\"xaxis\":{\"gridcolor\":\"white\",\"linecolor\":\"white\",\"ticks\":\"\",\"title\":{\"standoff\":15},\"zerolinecolor\":\"white\",\"automargin\":true,\"zerolinewidth\":2},\"yaxis\":{\"gridcolor\":\"white\",\"linecolor\":\"white\",\"ticks\":\"\",\"title\":{\"standoff\":15},\"zerolinecolor\":\"white\",\"automargin\":true,\"zerolinewidth\":2},\"scene\":{\"xaxis\":{\"backgroundcolor\":\"#E5ECF6\",\"gridcolor\":\"white\",\"linecolor\":\"white\",\"showbackground\":true,\"ticks\":\"\",\"zerolinecolor\":\"white\",\"gridwidth\":2},\"yaxis\":{\"backgroundcolor\":\"#E5ECF6\",\"gridcolor\":\"white\",\"linecolor\":\"white\",\"showbackground\":true,\"ticks\":\"\",\"zerolinecolor\":\"white\",\"gridwidth\":2},\"zaxis\":{\"backgroundcolor\":\"#E5ECF6\",\"gridcolor\":\"white\",\"linecolor\":\"white\",\"showbackground\":true,\"ticks\":\"\",\"zerolinecolor\":\"white\",\"gridwidth\":2}},\"shapedefaults\":{\"line\":{\"color\":\"#2a3f5f\"}},\"annotationdefaults\":{\"arrowcolor\":\"#2a3f5f\",\"arrowhead\":0,\"arrowwidth\":1},\"geo\":{\"bgcolor\":\"white\",\"landcolor\":\"#E5ECF6\",\"subunitcolor\":\"white\",\"showland\":true,\"showlakes\":true,\"lakecolor\":\"white\"},\"title\":{\"x\":0.05},\"mapbox\":{\"style\":\"light\"}}},\"xaxis\":{\"anchor\":\"y\",\"domain\":[0.0,0.94],\"title\":{\"font\":{\"size\":30},\"text\":\"n_estimators\"},\"tickfont\":{\"size\":26},\"gridcolor\":\"rgba(0,0,0,0.3)\",\"linecolor\":\"black\",\"linewidth\":3,\"mirror\":true,\"range\":[1,301],\"showgrid\":false,\"showline\":true,\"ticklen\":6,\"ticks\":\"outside\",\"tickwidth\":3,\"zeroline\":false},\"yaxis\":{\"anchor\":\"x\",\"domain\":[0.0,1.0],\"title\":{\"font\":{\"size\":30,\"color\":\"blue\"},\"text\":\"RMSE \\u002f eV\"},\"tickfont\":{\"size\":26},\"color\":\"blue\",\"gridcolor\":\"rgba(0,0,0,0.3)\",\"linecolor\":\"black\",\"linewidth\":3,\"showgrid\":false,\"showline\":true,\"ticklen\":6,\"ticks\":\"outside\",\"tickwidth\":3,\"zeroline\":false},\"yaxis2\":{\"anchor\":\"x\",\"overlaying\":\"y\",\"side\":\"right\",\"title\":{\"font\":{\"size\":30,\"color\":\"red\"},\"text\":\"R\\u003csup\\u003e2\\u003c\\u002fsup\\u003e\"},\"tickfont\":{\"size\":26},\"color\":\"red\",\"gridcolor\":\"rgba(0,0,0,0.3)\",\"linecolor\":\"black\",\"linewidth\":3,\"showgrid\":false,\"showline\":true,\"ticklen\":6,\"ticks\":\"outside\",\"tickwidth\":3,\"zeroline\":false},\"font\":{\"color\":\"black\",\"family\":\"Arial\"},\"hoverlabel\":{\"namelength\":-1},\"legend\":{\"font\":{\"size\":26},\"bgcolor\":\"rgba(0,0,0,0.1)\",\"x\":0.5,\"xanchor\":\"center\",\"y\":1,\"yanchor\":\"top\"},\"margin\":{\"b\":0,\"l\":0,\"r\":0,\"t\":0},\"height\":500,\"hovermode\":\"x unified\",\"paper_bgcolor\":\"white\",\"plot_bgcolor\":\"white\",\"width\":809},                        {\"responsive\": true}                    ).then(function(){\n",
       "                            \n",
       "var gd = document.getElementById('2433dbd8-872a-4d6e-b9f9-25cdb64de04f');\n",
       "var x = new MutationObserver(function (mutations, observer) {{\n",
       "        var display = window.getComputedStyle(gd).display;\n",
       "        if (!display || display === 'none') {{\n",
       "            console.log([gd, 'removed!']);\n",
       "            Plotly.purge(gd);\n",
       "            observer.disconnect();\n",
       "        }}\n",
       "}});\n",
       "\n",
       "// Listen for the removal of the full notebook cells\n",
       "var notebookContainer = gd.closest('#notebook-container');\n",
       "if (notebookContainer) {{\n",
       "    x.observe(notebookContainer, {childList: true});\n",
       "}}\n",
       "\n",
       "// Listen for the clearing of the current output cell\n",
       "var outputEl = gd.closest('.output');\n",
       "if (outputEl) {{\n",
       "    x.observe(outputEl, {childList: true});\n",
       "}}\n",
       "\n",
       "                        })                };                });            </script>        </div>"
      ]
     },
     "metadata": {},
     "output_type": "display_data"
    }
   ],
   "source": [
    "rf_dict = {\n",
    "    \"bootstrap\": True,\n",
    "    \"ccp_alpha\": 0.0,\n",
    "    \"criterion\": \"squared_error\",\n",
    "    \"max_depth\":8, #8\n",
    "    \"max_features\": 0.4,\n",
    "    \"max_leaf_nodes\": None,\n",
    "    \"max_samples\":None,\n",
    "    \"min_impurity_decrease\": 0.0,\n",
    "    # \"min_impurity_split\": None,\n",
    "    \"min_samples_leaf\": 1,\n",
    "    \"min_samples_split\": 2,\n",
    "    \"min_weight_fraction_leaf\": 0.0,\n",
    "    #\"n_estimators\": 128,#128,\n",
    "    \"n_jobs\": -1,\n",
    "    \"oob_score\": False,\n",
    "    \"random_state\": 0,\n",
    "    \"verbose\": 0,\n",
    "    \"warm_start\": False,\n",
    "}\n",
    "\n",
    "\n",
    "rf_estimator_dict = vary_ml_param(\n",
    "    df_in=Edft_balanced_df_kfold,\n",
    "    ml_base_model=RandomForestRegressor(**rf_dict),\n",
    "    ml_features=selected_features,\n",
    "    ml_targets=target,\n",
    "    ml_param_dict={'n_estimators': list(range(1, 350, 50))},\n",
    "    verbose=False,  \n",
    "    color_setup=color_setup \n",
    "    )\n",
    "\n",
    "\n",
    "rf_estimator_dict['error_fig'].show()"
   ]
  },
  {
   "cell_type": "markdown",
   "metadata": {},
   "source": [
    "This code performs hyperparameter tuning for a `RandomForestRegressor` by varying the `max_features`. It evaluates model performance using selected features and returns an error plot showing training and test errors. "
   ]
  },
  {
   "cell_type": "code",
   "execution_count": 12,
   "metadata": {},
   "outputs": [
    {
     "name": "stderr",
     "output_type": "stream",
     "text": [
      "  0%|          | 0/10 [00:00<?, ?it/s]/Users/mariaminotaki/miniconda3/envs/bms/lib/python3.10/site-packages/sklearn/metrics/_regression.py:492: FutureWarning:\n",
      "\n",
      "'squared' is deprecated in version 1.4 and will be removed in 1.6. To calculate the root mean squared error, use the function'root_mean_squared_error'.\n",
      "\n",
      "/Users/mariaminotaki/miniconda3/envs/bms/lib/python3.10/site-packages/sklearn/metrics/_regression.py:492: FutureWarning:\n",
      "\n",
      "'squared' is deprecated in version 1.4 and will be removed in 1.6. To calculate the root mean squared error, use the function'root_mean_squared_error'.\n",
      "\n",
      "/Users/mariaminotaki/miniconda3/envs/bms/lib/python3.10/site-packages/sklearn/metrics/_regression.py:492: FutureWarning:\n",
      "\n",
      "'squared' is deprecated in version 1.4 and will be removed in 1.6. To calculate the root mean squared error, use the function'root_mean_squared_error'.\n",
      "\n",
      "/Users/mariaminotaki/miniconda3/envs/bms/lib/python3.10/site-packages/sklearn/metrics/_regression.py:492: FutureWarning:\n",
      "\n",
      "'squared' is deprecated in version 1.4 and will be removed in 1.6. To calculate the root mean squared error, use the function'root_mean_squared_error'.\n",
      "\n",
      "/Users/mariaminotaki/miniconda3/envs/bms/lib/python3.10/site-packages/sklearn/metrics/_regression.py:492: FutureWarning:\n",
      "\n",
      "'squared' is deprecated in version 1.4 and will be removed in 1.6. To calculate the root mean squared error, use the function'root_mean_squared_error'.\n",
      "\n",
      "/Users/mariaminotaki/miniconda3/envs/bms/lib/python3.10/site-packages/sklearn/metrics/_regression.py:492: FutureWarning:\n",
      "\n",
      "'squared' is deprecated in version 1.4 and will be removed in 1.6. To calculate the root mean squared error, use the function'root_mean_squared_error'.\n",
      "\n",
      "/Users/mariaminotaki/miniconda3/envs/bms/lib/python3.10/site-packages/sklearn/metrics/_regression.py:492: FutureWarning:\n",
      "\n",
      "'squared' is deprecated in version 1.4 and will be removed in 1.6. To calculate the root mean squared error, use the function'root_mean_squared_error'.\n",
      "\n",
      "/Users/mariaminotaki/miniconda3/envs/bms/lib/python3.10/site-packages/sklearn/metrics/_regression.py:492: FutureWarning:\n",
      "\n",
      "'squared' is deprecated in version 1.4 and will be removed in 1.6. To calculate the root mean squared error, use the function'root_mean_squared_error'.\n",
      "\n",
      "/Users/mariaminotaki/miniconda3/envs/bms/lib/python3.10/site-packages/sklearn/metrics/_regression.py:492: FutureWarning:\n",
      "\n",
      "'squared' is deprecated in version 1.4 and will be removed in 1.6. To calculate the root mean squared error, use the function'root_mean_squared_error'.\n",
      "\n",
      "/Users/mariaminotaki/miniconda3/envs/bms/lib/python3.10/site-packages/sklearn/metrics/_regression.py:492: FutureWarning:\n",
      "\n",
      "'squared' is deprecated in version 1.4 and will be removed in 1.6. To calculate the root mean squared error, use the function'root_mean_squared_error'.\n",
      "\n",
      "/Users/mariaminotaki/miniconda3/envs/bms/lib/python3.10/site-packages/sklearn/metrics/_regression.py:492: FutureWarning:\n",
      "\n",
      "'squared' is deprecated in version 1.4 and will be removed in 1.6. To calculate the root mean squared error, use the function'root_mean_squared_error'.\n",
      "\n",
      "/Users/mariaminotaki/miniconda3/envs/bms/lib/python3.10/site-packages/sklearn/metrics/_regression.py:492: FutureWarning:\n",
      "\n",
      "'squared' is deprecated in version 1.4 and will be removed in 1.6. To calculate the root mean squared error, use the function'root_mean_squared_error'.\n",
      "\n",
      "/Users/mariaminotaki/miniconda3/envs/bms/lib/python3.10/site-packages/sklearn/metrics/_regression.py:492: FutureWarning:\n",
      "\n",
      "'squared' is deprecated in version 1.4 and will be removed in 1.6. To calculate the root mean squared error, use the function'root_mean_squared_error'.\n",
      "\n",
      "/Users/mariaminotaki/miniconda3/envs/bms/lib/python3.10/site-packages/sklearn/metrics/_regression.py:492: FutureWarning:\n",
      "\n",
      "'squared' is deprecated in version 1.4 and will be removed in 1.6. To calculate the root mean squared error, use the function'root_mean_squared_error'.\n",
      "\n",
      "/Users/mariaminotaki/miniconda3/envs/bms/lib/python3.10/site-packages/sklearn/metrics/_regression.py:492: FutureWarning:\n",
      "\n",
      "'squared' is deprecated in version 1.4 and will be removed in 1.6. To calculate the root mean squared error, use the function'root_mean_squared_error'.\n",
      "\n",
      "/Users/mariaminotaki/miniconda3/envs/bms/lib/python3.10/site-packages/sklearn/metrics/_regression.py:492: FutureWarning:\n",
      "\n",
      "'squared' is deprecated in version 1.4 and will be removed in 1.6. To calculate the root mean squared error, use the function'root_mean_squared_error'.\n",
      "\n",
      "/Users/mariaminotaki/miniconda3/envs/bms/lib/python3.10/site-packages/sklearn/metrics/_regression.py:492: FutureWarning:\n",
      "\n",
      "'squared' is deprecated in version 1.4 and will be removed in 1.6. To calculate the root mean squared error, use the function'root_mean_squared_error'.\n",
      "\n",
      "/Users/mariaminotaki/miniconda3/envs/bms/lib/python3.10/site-packages/sklearn/metrics/_regression.py:492: FutureWarning:\n",
      "\n",
      "'squared' is deprecated in version 1.4 and will be removed in 1.6. To calculate the root mean squared error, use the function'root_mean_squared_error'.\n",
      "\n",
      "/Users/mariaminotaki/miniconda3/envs/bms/lib/python3.10/site-packages/sklearn/metrics/_regression.py:492: FutureWarning:\n",
      "\n",
      "'squared' is deprecated in version 1.4 and will be removed in 1.6. To calculate the root mean squared error, use the function'root_mean_squared_error'.\n",
      "\n",
      "/Users/mariaminotaki/miniconda3/envs/bms/lib/python3.10/site-packages/sklearn/metrics/_regression.py:492: FutureWarning:\n",
      "\n",
      "'squared' is deprecated in version 1.4 and will be removed in 1.6. To calculate the root mean squared error, use the function'root_mean_squared_error'.\n",
      "\n",
      "/Users/mariaminotaki/miniconda3/envs/bms/lib/python3.10/site-packages/sklearn/metrics/_regression.py:492: FutureWarning:\n",
      "\n",
      "'squared' is deprecated in version 1.4 and will be removed in 1.6. To calculate the root mean squared error, use the function'root_mean_squared_error'.\n",
      "\n",
      "/Users/mariaminotaki/miniconda3/envs/bms/lib/python3.10/site-packages/sklearn/metrics/_regression.py:492: FutureWarning:\n",
      "\n",
      "'squared' is deprecated in version 1.4 and will be removed in 1.6. To calculate the root mean squared error, use the function'root_mean_squared_error'.\n",
      "\n",
      "/Users/mariaminotaki/miniconda3/envs/bms/lib/python3.10/site-packages/sklearn/metrics/_regression.py:492: FutureWarning:\n",
      "\n",
      "'squared' is deprecated in version 1.4 and will be removed in 1.6. To calculate the root mean squared error, use the function'root_mean_squared_error'.\n",
      "\n",
      "/Users/mariaminotaki/miniconda3/envs/bms/lib/python3.10/site-packages/sklearn/metrics/_regression.py:492: FutureWarning:\n",
      "\n",
      "'squared' is deprecated in version 1.4 and will be removed in 1.6. To calculate the root mean squared error, use the function'root_mean_squared_error'.\n",
      "\n",
      "/Users/mariaminotaki/miniconda3/envs/bms/lib/python3.10/site-packages/sklearn/metrics/_regression.py:492: FutureWarning:\n",
      "\n",
      "'squared' is deprecated in version 1.4 and will be removed in 1.6. To calculate the root mean squared error, use the function'root_mean_squared_error'.\n",
      "\n",
      "/Users/mariaminotaki/miniconda3/envs/bms/lib/python3.10/site-packages/sklearn/metrics/_regression.py:492: FutureWarning:\n",
      "\n",
      "'squared' is deprecated in version 1.4 and will be removed in 1.6. To calculate the root mean squared error, use the function'root_mean_squared_error'.\n",
      "\n",
      "/Users/mariaminotaki/miniconda3/envs/bms/lib/python3.10/site-packages/sklearn/metrics/_regression.py:492: FutureWarning:\n",
      "\n",
      "'squared' is deprecated in version 1.4 and will be removed in 1.6. To calculate the root mean squared error, use the function'root_mean_squared_error'.\n",
      "\n",
      "/Users/mariaminotaki/miniconda3/envs/bms/lib/python3.10/site-packages/sklearn/metrics/_regression.py:492: FutureWarning:\n",
      "\n",
      "'squared' is deprecated in version 1.4 and will be removed in 1.6. To calculate the root mean squared error, use the function'root_mean_squared_error'.\n",
      "\n",
      "/Users/mariaminotaki/miniconda3/envs/bms/lib/python3.10/site-packages/sklearn/metrics/_regression.py:492: FutureWarning:\n",
      "\n",
      "'squared' is deprecated in version 1.4 and will be removed in 1.6. To calculate the root mean squared error, use the function'root_mean_squared_error'.\n",
      "\n",
      "/Users/mariaminotaki/miniconda3/envs/bms/lib/python3.10/site-packages/sklearn/metrics/_regression.py:492: FutureWarning:\n",
      "\n",
      "'squared' is deprecated in version 1.4 and will be removed in 1.6. To calculate the root mean squared error, use the function'root_mean_squared_error'.\n",
      "\n",
      " 10%|█         | 1/10 [00:01<00:09,  1.08s/it]/Users/mariaminotaki/miniconda3/envs/bms/lib/python3.10/site-packages/sklearn/metrics/_regression.py:492: FutureWarning:\n",
      "\n",
      "'squared' is deprecated in version 1.4 and will be removed in 1.6. To calculate the root mean squared error, use the function'root_mean_squared_error'.\n",
      "\n",
      "/Users/mariaminotaki/miniconda3/envs/bms/lib/python3.10/site-packages/sklearn/metrics/_regression.py:492: FutureWarning:\n",
      "\n",
      "'squared' is deprecated in version 1.4 and will be removed in 1.6. To calculate the root mean squared error, use the function'root_mean_squared_error'.\n",
      "\n",
      "/Users/mariaminotaki/miniconda3/envs/bms/lib/python3.10/site-packages/sklearn/metrics/_regression.py:492: FutureWarning:\n",
      "\n",
      "'squared' is deprecated in version 1.4 and will be removed in 1.6. To calculate the root mean squared error, use the function'root_mean_squared_error'.\n",
      "\n",
      "/Users/mariaminotaki/miniconda3/envs/bms/lib/python3.10/site-packages/sklearn/metrics/_regression.py:492: FutureWarning:\n",
      "\n",
      "'squared' is deprecated in version 1.4 and will be removed in 1.6. To calculate the root mean squared error, use the function'root_mean_squared_error'.\n",
      "\n",
      "/Users/mariaminotaki/miniconda3/envs/bms/lib/python3.10/site-packages/sklearn/metrics/_regression.py:492: FutureWarning:\n",
      "\n",
      "'squared' is deprecated in version 1.4 and will be removed in 1.6. To calculate the root mean squared error, use the function'root_mean_squared_error'.\n",
      "\n",
      "/Users/mariaminotaki/miniconda3/envs/bms/lib/python3.10/site-packages/sklearn/metrics/_regression.py:492: FutureWarning:\n",
      "\n",
      "'squared' is deprecated in version 1.4 and will be removed in 1.6. To calculate the root mean squared error, use the function'root_mean_squared_error'.\n",
      "\n",
      "/Users/mariaminotaki/miniconda3/envs/bms/lib/python3.10/site-packages/sklearn/metrics/_regression.py:492: FutureWarning:\n",
      "\n",
      "'squared' is deprecated in version 1.4 and will be removed in 1.6. To calculate the root mean squared error, use the function'root_mean_squared_error'.\n",
      "\n",
      "/Users/mariaminotaki/miniconda3/envs/bms/lib/python3.10/site-packages/sklearn/metrics/_regression.py:492: FutureWarning:\n",
      "\n",
      "'squared' is deprecated in version 1.4 and will be removed in 1.6. To calculate the root mean squared error, use the function'root_mean_squared_error'.\n",
      "\n",
      "/Users/mariaminotaki/miniconda3/envs/bms/lib/python3.10/site-packages/sklearn/metrics/_regression.py:492: FutureWarning:\n",
      "\n",
      "'squared' is deprecated in version 1.4 and will be removed in 1.6. To calculate the root mean squared error, use the function'root_mean_squared_error'.\n",
      "\n",
      "/Users/mariaminotaki/miniconda3/envs/bms/lib/python3.10/site-packages/sklearn/metrics/_regression.py:492: FutureWarning:\n",
      "\n",
      "'squared' is deprecated in version 1.4 and will be removed in 1.6. To calculate the root mean squared error, use the function'root_mean_squared_error'.\n",
      "\n",
      "/Users/mariaminotaki/miniconda3/envs/bms/lib/python3.10/site-packages/sklearn/metrics/_regression.py:492: FutureWarning:\n",
      "\n",
      "'squared' is deprecated in version 1.4 and will be removed in 1.6. To calculate the root mean squared error, use the function'root_mean_squared_error'.\n",
      "\n",
      "/Users/mariaminotaki/miniconda3/envs/bms/lib/python3.10/site-packages/sklearn/metrics/_regression.py:492: FutureWarning:\n",
      "\n",
      "'squared' is deprecated in version 1.4 and will be removed in 1.6. To calculate the root mean squared error, use the function'root_mean_squared_error'.\n",
      "\n",
      "/Users/mariaminotaki/miniconda3/envs/bms/lib/python3.10/site-packages/sklearn/metrics/_regression.py:492: FutureWarning:\n",
      "\n",
      "'squared' is deprecated in version 1.4 and will be removed in 1.6. To calculate the root mean squared error, use the function'root_mean_squared_error'.\n",
      "\n",
      "/Users/mariaminotaki/miniconda3/envs/bms/lib/python3.10/site-packages/sklearn/metrics/_regression.py:492: FutureWarning:\n",
      "\n",
      "'squared' is deprecated in version 1.4 and will be removed in 1.6. To calculate the root mean squared error, use the function'root_mean_squared_error'.\n",
      "\n",
      "/Users/mariaminotaki/miniconda3/envs/bms/lib/python3.10/site-packages/sklearn/metrics/_regression.py:492: FutureWarning:\n",
      "\n",
      "'squared' is deprecated in version 1.4 and will be removed in 1.6. To calculate the root mean squared error, use the function'root_mean_squared_error'.\n",
      "\n",
      "/Users/mariaminotaki/miniconda3/envs/bms/lib/python3.10/site-packages/sklearn/metrics/_regression.py:492: FutureWarning:\n",
      "\n",
      "'squared' is deprecated in version 1.4 and will be removed in 1.6. To calculate the root mean squared error, use the function'root_mean_squared_error'.\n",
      "\n",
      "/Users/mariaminotaki/miniconda3/envs/bms/lib/python3.10/site-packages/sklearn/metrics/_regression.py:492: FutureWarning:\n",
      "\n",
      "'squared' is deprecated in version 1.4 and will be removed in 1.6. To calculate the root mean squared error, use the function'root_mean_squared_error'.\n",
      "\n",
      "/Users/mariaminotaki/miniconda3/envs/bms/lib/python3.10/site-packages/sklearn/metrics/_regression.py:492: FutureWarning:\n",
      "\n",
      "'squared' is deprecated in version 1.4 and will be removed in 1.6. To calculate the root mean squared error, use the function'root_mean_squared_error'.\n",
      "\n",
      "/Users/mariaminotaki/miniconda3/envs/bms/lib/python3.10/site-packages/sklearn/metrics/_regression.py:492: FutureWarning:\n",
      "\n",
      "'squared' is deprecated in version 1.4 and will be removed in 1.6. To calculate the root mean squared error, use the function'root_mean_squared_error'.\n",
      "\n",
      "/Users/mariaminotaki/miniconda3/envs/bms/lib/python3.10/site-packages/sklearn/metrics/_regression.py:492: FutureWarning:\n",
      "\n",
      "'squared' is deprecated in version 1.4 and will be removed in 1.6. To calculate the root mean squared error, use the function'root_mean_squared_error'.\n",
      "\n",
      "/Users/mariaminotaki/miniconda3/envs/bms/lib/python3.10/site-packages/sklearn/metrics/_regression.py:492: FutureWarning:\n",
      "\n",
      "'squared' is deprecated in version 1.4 and will be removed in 1.6. To calculate the root mean squared error, use the function'root_mean_squared_error'.\n",
      "\n",
      "/Users/mariaminotaki/miniconda3/envs/bms/lib/python3.10/site-packages/sklearn/metrics/_regression.py:492: FutureWarning:\n",
      "\n",
      "'squared' is deprecated in version 1.4 and will be removed in 1.6. To calculate the root mean squared error, use the function'root_mean_squared_error'.\n",
      "\n",
      "/Users/mariaminotaki/miniconda3/envs/bms/lib/python3.10/site-packages/sklearn/metrics/_regression.py:492: FutureWarning:\n",
      "\n",
      "'squared' is deprecated in version 1.4 and will be removed in 1.6. To calculate the root mean squared error, use the function'root_mean_squared_error'.\n",
      "\n",
      "/Users/mariaminotaki/miniconda3/envs/bms/lib/python3.10/site-packages/sklearn/metrics/_regression.py:492: FutureWarning:\n",
      "\n",
      "'squared' is deprecated in version 1.4 and will be removed in 1.6. To calculate the root mean squared error, use the function'root_mean_squared_error'.\n",
      "\n",
      "/Users/mariaminotaki/miniconda3/envs/bms/lib/python3.10/site-packages/sklearn/metrics/_regression.py:492: FutureWarning:\n",
      "\n",
      "'squared' is deprecated in version 1.4 and will be removed in 1.6. To calculate the root mean squared error, use the function'root_mean_squared_error'.\n",
      "\n",
      "/Users/mariaminotaki/miniconda3/envs/bms/lib/python3.10/site-packages/sklearn/metrics/_regression.py:492: FutureWarning:\n",
      "\n",
      "'squared' is deprecated in version 1.4 and will be removed in 1.6. To calculate the root mean squared error, use the function'root_mean_squared_error'.\n",
      "\n",
      "/Users/mariaminotaki/miniconda3/envs/bms/lib/python3.10/site-packages/sklearn/metrics/_regression.py:492: FutureWarning:\n",
      "\n",
      "'squared' is deprecated in version 1.4 and will be removed in 1.6. To calculate the root mean squared error, use the function'root_mean_squared_error'.\n",
      "\n",
      "/Users/mariaminotaki/miniconda3/envs/bms/lib/python3.10/site-packages/sklearn/metrics/_regression.py:492: FutureWarning:\n",
      "\n",
      "'squared' is deprecated in version 1.4 and will be removed in 1.6. To calculate the root mean squared error, use the function'root_mean_squared_error'.\n",
      "\n",
      "/Users/mariaminotaki/miniconda3/envs/bms/lib/python3.10/site-packages/sklearn/metrics/_regression.py:492: FutureWarning:\n",
      "\n",
      "'squared' is deprecated in version 1.4 and will be removed in 1.6. To calculate the root mean squared error, use the function'root_mean_squared_error'.\n",
      "\n",
      "/Users/mariaminotaki/miniconda3/envs/bms/lib/python3.10/site-packages/sklearn/metrics/_regression.py:492: FutureWarning:\n",
      "\n",
      "'squared' is deprecated in version 1.4 and will be removed in 1.6. To calculate the root mean squared error, use the function'root_mean_squared_error'.\n",
      "\n",
      " 20%|██        | 2/10 [00:02<00:08,  1.06s/it]/Users/mariaminotaki/miniconda3/envs/bms/lib/python3.10/site-packages/sklearn/metrics/_regression.py:492: FutureWarning:\n",
      "\n",
      "'squared' is deprecated in version 1.4 and will be removed in 1.6. To calculate the root mean squared error, use the function'root_mean_squared_error'.\n",
      "\n",
      "/Users/mariaminotaki/miniconda3/envs/bms/lib/python3.10/site-packages/sklearn/metrics/_regression.py:492: FutureWarning:\n",
      "\n",
      "'squared' is deprecated in version 1.4 and will be removed in 1.6. To calculate the root mean squared error, use the function'root_mean_squared_error'.\n",
      "\n",
      "/Users/mariaminotaki/miniconda3/envs/bms/lib/python3.10/site-packages/sklearn/metrics/_regression.py:492: FutureWarning:\n",
      "\n",
      "'squared' is deprecated in version 1.4 and will be removed in 1.6. To calculate the root mean squared error, use the function'root_mean_squared_error'.\n",
      "\n",
      "/Users/mariaminotaki/miniconda3/envs/bms/lib/python3.10/site-packages/sklearn/metrics/_regression.py:492: FutureWarning:\n",
      "\n",
      "'squared' is deprecated in version 1.4 and will be removed in 1.6. To calculate the root mean squared error, use the function'root_mean_squared_error'.\n",
      "\n",
      "/Users/mariaminotaki/miniconda3/envs/bms/lib/python3.10/site-packages/sklearn/metrics/_regression.py:492: FutureWarning:\n",
      "\n",
      "'squared' is deprecated in version 1.4 and will be removed in 1.6. To calculate the root mean squared error, use the function'root_mean_squared_error'.\n",
      "\n",
      "/Users/mariaminotaki/miniconda3/envs/bms/lib/python3.10/site-packages/sklearn/metrics/_regression.py:492: FutureWarning:\n",
      "\n",
      "'squared' is deprecated in version 1.4 and will be removed in 1.6. To calculate the root mean squared error, use the function'root_mean_squared_error'.\n",
      "\n",
      "/Users/mariaminotaki/miniconda3/envs/bms/lib/python3.10/site-packages/sklearn/metrics/_regression.py:492: FutureWarning:\n",
      "\n",
      "'squared' is deprecated in version 1.4 and will be removed in 1.6. To calculate the root mean squared error, use the function'root_mean_squared_error'.\n",
      "\n",
      "/Users/mariaminotaki/miniconda3/envs/bms/lib/python3.10/site-packages/sklearn/metrics/_regression.py:492: FutureWarning:\n",
      "\n",
      "'squared' is deprecated in version 1.4 and will be removed in 1.6. To calculate the root mean squared error, use the function'root_mean_squared_error'.\n",
      "\n",
      "/Users/mariaminotaki/miniconda3/envs/bms/lib/python3.10/site-packages/sklearn/metrics/_regression.py:492: FutureWarning:\n",
      "\n",
      "'squared' is deprecated in version 1.4 and will be removed in 1.6. To calculate the root mean squared error, use the function'root_mean_squared_error'.\n",
      "\n",
      "/Users/mariaminotaki/miniconda3/envs/bms/lib/python3.10/site-packages/sklearn/metrics/_regression.py:492: FutureWarning:\n",
      "\n",
      "'squared' is deprecated in version 1.4 and will be removed in 1.6. To calculate the root mean squared error, use the function'root_mean_squared_error'.\n",
      "\n",
      "/Users/mariaminotaki/miniconda3/envs/bms/lib/python3.10/site-packages/sklearn/metrics/_regression.py:492: FutureWarning:\n",
      "\n",
      "'squared' is deprecated in version 1.4 and will be removed in 1.6. To calculate the root mean squared error, use the function'root_mean_squared_error'.\n",
      "\n",
      "/Users/mariaminotaki/miniconda3/envs/bms/lib/python3.10/site-packages/sklearn/metrics/_regression.py:492: FutureWarning:\n",
      "\n",
      "'squared' is deprecated in version 1.4 and will be removed in 1.6. To calculate the root mean squared error, use the function'root_mean_squared_error'.\n",
      "\n",
      "/Users/mariaminotaki/miniconda3/envs/bms/lib/python3.10/site-packages/sklearn/metrics/_regression.py:492: FutureWarning:\n",
      "\n",
      "'squared' is deprecated in version 1.4 and will be removed in 1.6. To calculate the root mean squared error, use the function'root_mean_squared_error'.\n",
      "\n",
      "/Users/mariaminotaki/miniconda3/envs/bms/lib/python3.10/site-packages/sklearn/metrics/_regression.py:492: FutureWarning:\n",
      "\n",
      "'squared' is deprecated in version 1.4 and will be removed in 1.6. To calculate the root mean squared error, use the function'root_mean_squared_error'.\n",
      "\n",
      "/Users/mariaminotaki/miniconda3/envs/bms/lib/python3.10/site-packages/sklearn/metrics/_regression.py:492: FutureWarning:\n",
      "\n",
      "'squared' is deprecated in version 1.4 and will be removed in 1.6. To calculate the root mean squared error, use the function'root_mean_squared_error'.\n",
      "\n",
      "/Users/mariaminotaki/miniconda3/envs/bms/lib/python3.10/site-packages/sklearn/metrics/_regression.py:492: FutureWarning:\n",
      "\n",
      "'squared' is deprecated in version 1.4 and will be removed in 1.6. To calculate the root mean squared error, use the function'root_mean_squared_error'.\n",
      "\n",
      "/Users/mariaminotaki/miniconda3/envs/bms/lib/python3.10/site-packages/sklearn/metrics/_regression.py:492: FutureWarning:\n",
      "\n",
      "'squared' is deprecated in version 1.4 and will be removed in 1.6. To calculate the root mean squared error, use the function'root_mean_squared_error'.\n",
      "\n",
      "/Users/mariaminotaki/miniconda3/envs/bms/lib/python3.10/site-packages/sklearn/metrics/_regression.py:492: FutureWarning:\n",
      "\n",
      "'squared' is deprecated in version 1.4 and will be removed in 1.6. To calculate the root mean squared error, use the function'root_mean_squared_error'.\n",
      "\n",
      "/Users/mariaminotaki/miniconda3/envs/bms/lib/python3.10/site-packages/sklearn/metrics/_regression.py:492: FutureWarning:\n",
      "\n",
      "'squared' is deprecated in version 1.4 and will be removed in 1.6. To calculate the root mean squared error, use the function'root_mean_squared_error'.\n",
      "\n",
      "/Users/mariaminotaki/miniconda3/envs/bms/lib/python3.10/site-packages/sklearn/metrics/_regression.py:492: FutureWarning:\n",
      "\n",
      "'squared' is deprecated in version 1.4 and will be removed in 1.6. To calculate the root mean squared error, use the function'root_mean_squared_error'.\n",
      "\n",
      "/Users/mariaminotaki/miniconda3/envs/bms/lib/python3.10/site-packages/sklearn/metrics/_regression.py:492: FutureWarning:\n",
      "\n",
      "'squared' is deprecated in version 1.4 and will be removed in 1.6. To calculate the root mean squared error, use the function'root_mean_squared_error'.\n",
      "\n",
      "/Users/mariaminotaki/miniconda3/envs/bms/lib/python3.10/site-packages/sklearn/metrics/_regression.py:492: FutureWarning:\n",
      "\n",
      "'squared' is deprecated in version 1.4 and will be removed in 1.6. To calculate the root mean squared error, use the function'root_mean_squared_error'.\n",
      "\n",
      "/Users/mariaminotaki/miniconda3/envs/bms/lib/python3.10/site-packages/sklearn/metrics/_regression.py:492: FutureWarning:\n",
      "\n",
      "'squared' is deprecated in version 1.4 and will be removed in 1.6. To calculate the root mean squared error, use the function'root_mean_squared_error'.\n",
      "\n",
      "/Users/mariaminotaki/miniconda3/envs/bms/lib/python3.10/site-packages/sklearn/metrics/_regression.py:492: FutureWarning:\n",
      "\n",
      "'squared' is deprecated in version 1.4 and will be removed in 1.6. To calculate the root mean squared error, use the function'root_mean_squared_error'.\n",
      "\n",
      "/Users/mariaminotaki/miniconda3/envs/bms/lib/python3.10/site-packages/sklearn/metrics/_regression.py:492: FutureWarning:\n",
      "\n",
      "'squared' is deprecated in version 1.4 and will be removed in 1.6. To calculate the root mean squared error, use the function'root_mean_squared_error'.\n",
      "\n",
      "/Users/mariaminotaki/miniconda3/envs/bms/lib/python3.10/site-packages/sklearn/metrics/_regression.py:492: FutureWarning:\n",
      "\n",
      "'squared' is deprecated in version 1.4 and will be removed in 1.6. To calculate the root mean squared error, use the function'root_mean_squared_error'.\n",
      "\n",
      "/Users/mariaminotaki/miniconda3/envs/bms/lib/python3.10/site-packages/sklearn/metrics/_regression.py:492: FutureWarning:\n",
      "\n",
      "'squared' is deprecated in version 1.4 and will be removed in 1.6. To calculate the root mean squared error, use the function'root_mean_squared_error'.\n",
      "\n",
      "/Users/mariaminotaki/miniconda3/envs/bms/lib/python3.10/site-packages/sklearn/metrics/_regression.py:492: FutureWarning:\n",
      "\n",
      "'squared' is deprecated in version 1.4 and will be removed in 1.6. To calculate the root mean squared error, use the function'root_mean_squared_error'.\n",
      "\n",
      "/Users/mariaminotaki/miniconda3/envs/bms/lib/python3.10/site-packages/sklearn/metrics/_regression.py:492: FutureWarning:\n",
      "\n",
      "'squared' is deprecated in version 1.4 and will be removed in 1.6. To calculate the root mean squared error, use the function'root_mean_squared_error'.\n",
      "\n",
      "/Users/mariaminotaki/miniconda3/envs/bms/lib/python3.10/site-packages/sklearn/metrics/_regression.py:492: FutureWarning:\n",
      "\n",
      "'squared' is deprecated in version 1.4 and will be removed in 1.6. To calculate the root mean squared error, use the function'root_mean_squared_error'.\n",
      "\n",
      " 30%|███       | 3/10 [00:03<00:07,  1.06s/it]/Users/mariaminotaki/miniconda3/envs/bms/lib/python3.10/site-packages/sklearn/metrics/_regression.py:492: FutureWarning:\n",
      "\n",
      "'squared' is deprecated in version 1.4 and will be removed in 1.6. To calculate the root mean squared error, use the function'root_mean_squared_error'.\n",
      "\n",
      "/Users/mariaminotaki/miniconda3/envs/bms/lib/python3.10/site-packages/sklearn/metrics/_regression.py:492: FutureWarning:\n",
      "\n",
      "'squared' is deprecated in version 1.4 and will be removed in 1.6. To calculate the root mean squared error, use the function'root_mean_squared_error'.\n",
      "\n",
      "/Users/mariaminotaki/miniconda3/envs/bms/lib/python3.10/site-packages/sklearn/metrics/_regression.py:492: FutureWarning:\n",
      "\n",
      "'squared' is deprecated in version 1.4 and will be removed in 1.6. To calculate the root mean squared error, use the function'root_mean_squared_error'.\n",
      "\n",
      "/Users/mariaminotaki/miniconda3/envs/bms/lib/python3.10/site-packages/sklearn/metrics/_regression.py:492: FutureWarning:\n",
      "\n",
      "'squared' is deprecated in version 1.4 and will be removed in 1.6. To calculate the root mean squared error, use the function'root_mean_squared_error'.\n",
      "\n",
      "/Users/mariaminotaki/miniconda3/envs/bms/lib/python3.10/site-packages/sklearn/metrics/_regression.py:492: FutureWarning:\n",
      "\n",
      "'squared' is deprecated in version 1.4 and will be removed in 1.6. To calculate the root mean squared error, use the function'root_mean_squared_error'.\n",
      "\n",
      "/Users/mariaminotaki/miniconda3/envs/bms/lib/python3.10/site-packages/sklearn/metrics/_regression.py:492: FutureWarning:\n",
      "\n",
      "'squared' is deprecated in version 1.4 and will be removed in 1.6. To calculate the root mean squared error, use the function'root_mean_squared_error'.\n",
      "\n",
      "/Users/mariaminotaki/miniconda3/envs/bms/lib/python3.10/site-packages/sklearn/metrics/_regression.py:492: FutureWarning:\n",
      "\n",
      "'squared' is deprecated in version 1.4 and will be removed in 1.6. To calculate the root mean squared error, use the function'root_mean_squared_error'.\n",
      "\n",
      "/Users/mariaminotaki/miniconda3/envs/bms/lib/python3.10/site-packages/sklearn/metrics/_regression.py:492: FutureWarning:\n",
      "\n",
      "'squared' is deprecated in version 1.4 and will be removed in 1.6. To calculate the root mean squared error, use the function'root_mean_squared_error'.\n",
      "\n",
      "/Users/mariaminotaki/miniconda3/envs/bms/lib/python3.10/site-packages/sklearn/metrics/_regression.py:492: FutureWarning:\n",
      "\n",
      "'squared' is deprecated in version 1.4 and will be removed in 1.6. To calculate the root mean squared error, use the function'root_mean_squared_error'.\n",
      "\n",
      "/Users/mariaminotaki/miniconda3/envs/bms/lib/python3.10/site-packages/sklearn/metrics/_regression.py:492: FutureWarning:\n",
      "\n",
      "'squared' is deprecated in version 1.4 and will be removed in 1.6. To calculate the root mean squared error, use the function'root_mean_squared_error'.\n",
      "\n",
      "/Users/mariaminotaki/miniconda3/envs/bms/lib/python3.10/site-packages/sklearn/metrics/_regression.py:492: FutureWarning:\n",
      "\n",
      "'squared' is deprecated in version 1.4 and will be removed in 1.6. To calculate the root mean squared error, use the function'root_mean_squared_error'.\n",
      "\n",
      "/Users/mariaminotaki/miniconda3/envs/bms/lib/python3.10/site-packages/sklearn/metrics/_regression.py:492: FutureWarning:\n",
      "\n",
      "'squared' is deprecated in version 1.4 and will be removed in 1.6. To calculate the root mean squared error, use the function'root_mean_squared_error'.\n",
      "\n",
      "/Users/mariaminotaki/miniconda3/envs/bms/lib/python3.10/site-packages/sklearn/metrics/_regression.py:492: FutureWarning:\n",
      "\n",
      "'squared' is deprecated in version 1.4 and will be removed in 1.6. To calculate the root mean squared error, use the function'root_mean_squared_error'.\n",
      "\n",
      "/Users/mariaminotaki/miniconda3/envs/bms/lib/python3.10/site-packages/sklearn/metrics/_regression.py:492: FutureWarning:\n",
      "\n",
      "'squared' is deprecated in version 1.4 and will be removed in 1.6. To calculate the root mean squared error, use the function'root_mean_squared_error'.\n",
      "\n",
      "/Users/mariaminotaki/miniconda3/envs/bms/lib/python3.10/site-packages/sklearn/metrics/_regression.py:492: FutureWarning:\n",
      "\n",
      "'squared' is deprecated in version 1.4 and will be removed in 1.6. To calculate the root mean squared error, use the function'root_mean_squared_error'.\n",
      "\n",
      "/Users/mariaminotaki/miniconda3/envs/bms/lib/python3.10/site-packages/sklearn/metrics/_regression.py:492: FutureWarning:\n",
      "\n",
      "'squared' is deprecated in version 1.4 and will be removed in 1.6. To calculate the root mean squared error, use the function'root_mean_squared_error'.\n",
      "\n",
      "/Users/mariaminotaki/miniconda3/envs/bms/lib/python3.10/site-packages/sklearn/metrics/_regression.py:492: FutureWarning:\n",
      "\n",
      "'squared' is deprecated in version 1.4 and will be removed in 1.6. To calculate the root mean squared error, use the function'root_mean_squared_error'.\n",
      "\n",
      "/Users/mariaminotaki/miniconda3/envs/bms/lib/python3.10/site-packages/sklearn/metrics/_regression.py:492: FutureWarning:\n",
      "\n",
      "'squared' is deprecated in version 1.4 and will be removed in 1.6. To calculate the root mean squared error, use the function'root_mean_squared_error'.\n",
      "\n",
      "/Users/mariaminotaki/miniconda3/envs/bms/lib/python3.10/site-packages/sklearn/metrics/_regression.py:492: FutureWarning:\n",
      "\n",
      "'squared' is deprecated in version 1.4 and will be removed in 1.6. To calculate the root mean squared error, use the function'root_mean_squared_error'.\n",
      "\n",
      "/Users/mariaminotaki/miniconda3/envs/bms/lib/python3.10/site-packages/sklearn/metrics/_regression.py:492: FutureWarning:\n",
      "\n",
      "'squared' is deprecated in version 1.4 and will be removed in 1.6. To calculate the root mean squared error, use the function'root_mean_squared_error'.\n",
      "\n",
      "/Users/mariaminotaki/miniconda3/envs/bms/lib/python3.10/site-packages/sklearn/metrics/_regression.py:492: FutureWarning:\n",
      "\n",
      "'squared' is deprecated in version 1.4 and will be removed in 1.6. To calculate the root mean squared error, use the function'root_mean_squared_error'.\n",
      "\n",
      "/Users/mariaminotaki/miniconda3/envs/bms/lib/python3.10/site-packages/sklearn/metrics/_regression.py:492: FutureWarning:\n",
      "\n",
      "'squared' is deprecated in version 1.4 and will be removed in 1.6. To calculate the root mean squared error, use the function'root_mean_squared_error'.\n",
      "\n",
      "/Users/mariaminotaki/miniconda3/envs/bms/lib/python3.10/site-packages/sklearn/metrics/_regression.py:492: FutureWarning:\n",
      "\n",
      "'squared' is deprecated in version 1.4 and will be removed in 1.6. To calculate the root mean squared error, use the function'root_mean_squared_error'.\n",
      "\n",
      "/Users/mariaminotaki/miniconda3/envs/bms/lib/python3.10/site-packages/sklearn/metrics/_regression.py:492: FutureWarning:\n",
      "\n",
      "'squared' is deprecated in version 1.4 and will be removed in 1.6. To calculate the root mean squared error, use the function'root_mean_squared_error'.\n",
      "\n",
      "/Users/mariaminotaki/miniconda3/envs/bms/lib/python3.10/site-packages/sklearn/metrics/_regression.py:492: FutureWarning:\n",
      "\n",
      "'squared' is deprecated in version 1.4 and will be removed in 1.6. To calculate the root mean squared error, use the function'root_mean_squared_error'.\n",
      "\n",
      "/Users/mariaminotaki/miniconda3/envs/bms/lib/python3.10/site-packages/sklearn/metrics/_regression.py:492: FutureWarning:\n",
      "\n",
      "'squared' is deprecated in version 1.4 and will be removed in 1.6. To calculate the root mean squared error, use the function'root_mean_squared_error'.\n",
      "\n",
      "/Users/mariaminotaki/miniconda3/envs/bms/lib/python3.10/site-packages/sklearn/metrics/_regression.py:492: FutureWarning:\n",
      "\n",
      "'squared' is deprecated in version 1.4 and will be removed in 1.6. To calculate the root mean squared error, use the function'root_mean_squared_error'.\n",
      "\n",
      "/Users/mariaminotaki/miniconda3/envs/bms/lib/python3.10/site-packages/sklearn/metrics/_regression.py:492: FutureWarning:\n",
      "\n",
      "'squared' is deprecated in version 1.4 and will be removed in 1.6. To calculate the root mean squared error, use the function'root_mean_squared_error'.\n",
      "\n",
      "/Users/mariaminotaki/miniconda3/envs/bms/lib/python3.10/site-packages/sklearn/metrics/_regression.py:492: FutureWarning:\n",
      "\n",
      "'squared' is deprecated in version 1.4 and will be removed in 1.6. To calculate the root mean squared error, use the function'root_mean_squared_error'.\n",
      "\n",
      "/Users/mariaminotaki/miniconda3/envs/bms/lib/python3.10/site-packages/sklearn/metrics/_regression.py:492: FutureWarning:\n",
      "\n",
      "'squared' is deprecated in version 1.4 and will be removed in 1.6. To calculate the root mean squared error, use the function'root_mean_squared_error'.\n",
      "\n",
      " 40%|████      | 4/10 [00:04<00:06,  1.07s/it]/Users/mariaminotaki/miniconda3/envs/bms/lib/python3.10/site-packages/sklearn/metrics/_regression.py:492: FutureWarning:\n",
      "\n",
      "'squared' is deprecated in version 1.4 and will be removed in 1.6. To calculate the root mean squared error, use the function'root_mean_squared_error'.\n",
      "\n",
      "/Users/mariaminotaki/miniconda3/envs/bms/lib/python3.10/site-packages/sklearn/metrics/_regression.py:492: FutureWarning:\n",
      "\n",
      "'squared' is deprecated in version 1.4 and will be removed in 1.6. To calculate the root mean squared error, use the function'root_mean_squared_error'.\n",
      "\n",
      "/Users/mariaminotaki/miniconda3/envs/bms/lib/python3.10/site-packages/sklearn/metrics/_regression.py:492: FutureWarning:\n",
      "\n",
      "'squared' is deprecated in version 1.4 and will be removed in 1.6. To calculate the root mean squared error, use the function'root_mean_squared_error'.\n",
      "\n",
      "/Users/mariaminotaki/miniconda3/envs/bms/lib/python3.10/site-packages/sklearn/metrics/_regression.py:492: FutureWarning:\n",
      "\n",
      "'squared' is deprecated in version 1.4 and will be removed in 1.6. To calculate the root mean squared error, use the function'root_mean_squared_error'.\n",
      "\n",
      "/Users/mariaminotaki/miniconda3/envs/bms/lib/python3.10/site-packages/sklearn/metrics/_regression.py:492: FutureWarning:\n",
      "\n",
      "'squared' is deprecated in version 1.4 and will be removed in 1.6. To calculate the root mean squared error, use the function'root_mean_squared_error'.\n",
      "\n",
      "/Users/mariaminotaki/miniconda3/envs/bms/lib/python3.10/site-packages/sklearn/metrics/_regression.py:492: FutureWarning:\n",
      "\n",
      "'squared' is deprecated in version 1.4 and will be removed in 1.6. To calculate the root mean squared error, use the function'root_mean_squared_error'.\n",
      "\n",
      "/Users/mariaminotaki/miniconda3/envs/bms/lib/python3.10/site-packages/sklearn/metrics/_regression.py:492: FutureWarning:\n",
      "\n",
      "'squared' is deprecated in version 1.4 and will be removed in 1.6. To calculate the root mean squared error, use the function'root_mean_squared_error'.\n",
      "\n",
      "/Users/mariaminotaki/miniconda3/envs/bms/lib/python3.10/site-packages/sklearn/metrics/_regression.py:492: FutureWarning:\n",
      "\n",
      "'squared' is deprecated in version 1.4 and will be removed in 1.6. To calculate the root mean squared error, use the function'root_mean_squared_error'.\n",
      "\n",
      "/Users/mariaminotaki/miniconda3/envs/bms/lib/python3.10/site-packages/sklearn/metrics/_regression.py:492: FutureWarning:\n",
      "\n",
      "'squared' is deprecated in version 1.4 and will be removed in 1.6. To calculate the root mean squared error, use the function'root_mean_squared_error'.\n",
      "\n",
      "/Users/mariaminotaki/miniconda3/envs/bms/lib/python3.10/site-packages/sklearn/metrics/_regression.py:492: FutureWarning:\n",
      "\n",
      "'squared' is deprecated in version 1.4 and will be removed in 1.6. To calculate the root mean squared error, use the function'root_mean_squared_error'.\n",
      "\n",
      "/Users/mariaminotaki/miniconda3/envs/bms/lib/python3.10/site-packages/sklearn/metrics/_regression.py:492: FutureWarning:\n",
      "\n",
      "'squared' is deprecated in version 1.4 and will be removed in 1.6. To calculate the root mean squared error, use the function'root_mean_squared_error'.\n",
      "\n",
      "/Users/mariaminotaki/miniconda3/envs/bms/lib/python3.10/site-packages/sklearn/metrics/_regression.py:492: FutureWarning:\n",
      "\n",
      "'squared' is deprecated in version 1.4 and will be removed in 1.6. To calculate the root mean squared error, use the function'root_mean_squared_error'.\n",
      "\n",
      "/Users/mariaminotaki/miniconda3/envs/bms/lib/python3.10/site-packages/sklearn/metrics/_regression.py:492: FutureWarning:\n",
      "\n",
      "'squared' is deprecated in version 1.4 and will be removed in 1.6. To calculate the root mean squared error, use the function'root_mean_squared_error'.\n",
      "\n",
      "/Users/mariaminotaki/miniconda3/envs/bms/lib/python3.10/site-packages/sklearn/metrics/_regression.py:492: FutureWarning:\n",
      "\n",
      "'squared' is deprecated in version 1.4 and will be removed in 1.6. To calculate the root mean squared error, use the function'root_mean_squared_error'.\n",
      "\n",
      "/Users/mariaminotaki/miniconda3/envs/bms/lib/python3.10/site-packages/sklearn/metrics/_regression.py:492: FutureWarning:\n",
      "\n",
      "'squared' is deprecated in version 1.4 and will be removed in 1.6. To calculate the root mean squared error, use the function'root_mean_squared_error'.\n",
      "\n",
      "/Users/mariaminotaki/miniconda3/envs/bms/lib/python3.10/site-packages/sklearn/metrics/_regression.py:492: FutureWarning:\n",
      "\n",
      "'squared' is deprecated in version 1.4 and will be removed in 1.6. To calculate the root mean squared error, use the function'root_mean_squared_error'.\n",
      "\n",
      "/Users/mariaminotaki/miniconda3/envs/bms/lib/python3.10/site-packages/sklearn/metrics/_regression.py:492: FutureWarning:\n",
      "\n",
      "'squared' is deprecated in version 1.4 and will be removed in 1.6. To calculate the root mean squared error, use the function'root_mean_squared_error'.\n",
      "\n",
      "/Users/mariaminotaki/miniconda3/envs/bms/lib/python3.10/site-packages/sklearn/metrics/_regression.py:492: FutureWarning:\n",
      "\n",
      "'squared' is deprecated in version 1.4 and will be removed in 1.6. To calculate the root mean squared error, use the function'root_mean_squared_error'.\n",
      "\n",
      "/Users/mariaminotaki/miniconda3/envs/bms/lib/python3.10/site-packages/sklearn/metrics/_regression.py:492: FutureWarning:\n",
      "\n",
      "'squared' is deprecated in version 1.4 and will be removed in 1.6. To calculate the root mean squared error, use the function'root_mean_squared_error'.\n",
      "\n",
      "/Users/mariaminotaki/miniconda3/envs/bms/lib/python3.10/site-packages/sklearn/metrics/_regression.py:492: FutureWarning:\n",
      "\n",
      "'squared' is deprecated in version 1.4 and will be removed in 1.6. To calculate the root mean squared error, use the function'root_mean_squared_error'.\n",
      "\n",
      "/Users/mariaminotaki/miniconda3/envs/bms/lib/python3.10/site-packages/sklearn/metrics/_regression.py:492: FutureWarning:\n",
      "\n",
      "'squared' is deprecated in version 1.4 and will be removed in 1.6. To calculate the root mean squared error, use the function'root_mean_squared_error'.\n",
      "\n",
      "/Users/mariaminotaki/miniconda3/envs/bms/lib/python3.10/site-packages/sklearn/metrics/_regression.py:492: FutureWarning:\n",
      "\n",
      "'squared' is deprecated in version 1.4 and will be removed in 1.6. To calculate the root mean squared error, use the function'root_mean_squared_error'.\n",
      "\n",
      "/Users/mariaminotaki/miniconda3/envs/bms/lib/python3.10/site-packages/sklearn/metrics/_regression.py:492: FutureWarning:\n",
      "\n",
      "'squared' is deprecated in version 1.4 and will be removed in 1.6. To calculate the root mean squared error, use the function'root_mean_squared_error'.\n",
      "\n",
      "/Users/mariaminotaki/miniconda3/envs/bms/lib/python3.10/site-packages/sklearn/metrics/_regression.py:492: FutureWarning:\n",
      "\n",
      "'squared' is deprecated in version 1.4 and will be removed in 1.6. To calculate the root mean squared error, use the function'root_mean_squared_error'.\n",
      "\n",
      "/Users/mariaminotaki/miniconda3/envs/bms/lib/python3.10/site-packages/sklearn/metrics/_regression.py:492: FutureWarning:\n",
      "\n",
      "'squared' is deprecated in version 1.4 and will be removed in 1.6. To calculate the root mean squared error, use the function'root_mean_squared_error'.\n",
      "\n",
      "/Users/mariaminotaki/miniconda3/envs/bms/lib/python3.10/site-packages/sklearn/metrics/_regression.py:492: FutureWarning:\n",
      "\n",
      "'squared' is deprecated in version 1.4 and will be removed in 1.6. To calculate the root mean squared error, use the function'root_mean_squared_error'.\n",
      "\n",
      "/Users/mariaminotaki/miniconda3/envs/bms/lib/python3.10/site-packages/sklearn/metrics/_regression.py:492: FutureWarning:\n",
      "\n",
      "'squared' is deprecated in version 1.4 and will be removed in 1.6. To calculate the root mean squared error, use the function'root_mean_squared_error'.\n",
      "\n",
      "/Users/mariaminotaki/miniconda3/envs/bms/lib/python3.10/site-packages/sklearn/metrics/_regression.py:492: FutureWarning:\n",
      "\n",
      "'squared' is deprecated in version 1.4 and will be removed in 1.6. To calculate the root mean squared error, use the function'root_mean_squared_error'.\n",
      "\n",
      "/Users/mariaminotaki/miniconda3/envs/bms/lib/python3.10/site-packages/sklearn/metrics/_regression.py:492: FutureWarning:\n",
      "\n",
      "'squared' is deprecated in version 1.4 and will be removed in 1.6. To calculate the root mean squared error, use the function'root_mean_squared_error'.\n",
      "\n",
      "/Users/mariaminotaki/miniconda3/envs/bms/lib/python3.10/site-packages/sklearn/metrics/_regression.py:492: FutureWarning:\n",
      "\n",
      "'squared' is deprecated in version 1.4 and will be removed in 1.6. To calculate the root mean squared error, use the function'root_mean_squared_error'.\n",
      "\n",
      " 50%|█████     | 5/10 [00:05<00:05,  1.06s/it]/Users/mariaminotaki/miniconda3/envs/bms/lib/python3.10/site-packages/sklearn/metrics/_regression.py:492: FutureWarning:\n",
      "\n",
      "'squared' is deprecated in version 1.4 and will be removed in 1.6. To calculate the root mean squared error, use the function'root_mean_squared_error'.\n",
      "\n",
      "/Users/mariaminotaki/miniconda3/envs/bms/lib/python3.10/site-packages/sklearn/metrics/_regression.py:492: FutureWarning:\n",
      "\n",
      "'squared' is deprecated in version 1.4 and will be removed in 1.6. To calculate the root mean squared error, use the function'root_mean_squared_error'.\n",
      "\n",
      "/Users/mariaminotaki/miniconda3/envs/bms/lib/python3.10/site-packages/sklearn/metrics/_regression.py:492: FutureWarning:\n",
      "\n",
      "'squared' is deprecated in version 1.4 and will be removed in 1.6. To calculate the root mean squared error, use the function'root_mean_squared_error'.\n",
      "\n",
      "/Users/mariaminotaki/miniconda3/envs/bms/lib/python3.10/site-packages/sklearn/metrics/_regression.py:492: FutureWarning:\n",
      "\n",
      "'squared' is deprecated in version 1.4 and will be removed in 1.6. To calculate the root mean squared error, use the function'root_mean_squared_error'.\n",
      "\n",
      "/Users/mariaminotaki/miniconda3/envs/bms/lib/python3.10/site-packages/sklearn/metrics/_regression.py:492: FutureWarning:\n",
      "\n",
      "'squared' is deprecated in version 1.4 and will be removed in 1.6. To calculate the root mean squared error, use the function'root_mean_squared_error'.\n",
      "\n",
      "/Users/mariaminotaki/miniconda3/envs/bms/lib/python3.10/site-packages/sklearn/metrics/_regression.py:492: FutureWarning:\n",
      "\n",
      "'squared' is deprecated in version 1.4 and will be removed in 1.6. To calculate the root mean squared error, use the function'root_mean_squared_error'.\n",
      "\n",
      "/Users/mariaminotaki/miniconda3/envs/bms/lib/python3.10/site-packages/sklearn/metrics/_regression.py:492: FutureWarning:\n",
      "\n",
      "'squared' is deprecated in version 1.4 and will be removed in 1.6. To calculate the root mean squared error, use the function'root_mean_squared_error'.\n",
      "\n",
      "/Users/mariaminotaki/miniconda3/envs/bms/lib/python3.10/site-packages/sklearn/metrics/_regression.py:492: FutureWarning:\n",
      "\n",
      "'squared' is deprecated in version 1.4 and will be removed in 1.6. To calculate the root mean squared error, use the function'root_mean_squared_error'.\n",
      "\n",
      "/Users/mariaminotaki/miniconda3/envs/bms/lib/python3.10/site-packages/sklearn/metrics/_regression.py:492: FutureWarning:\n",
      "\n",
      "'squared' is deprecated in version 1.4 and will be removed in 1.6. To calculate the root mean squared error, use the function'root_mean_squared_error'.\n",
      "\n",
      "/Users/mariaminotaki/miniconda3/envs/bms/lib/python3.10/site-packages/sklearn/metrics/_regression.py:492: FutureWarning:\n",
      "\n",
      "'squared' is deprecated in version 1.4 and will be removed in 1.6. To calculate the root mean squared error, use the function'root_mean_squared_error'.\n",
      "\n",
      "/Users/mariaminotaki/miniconda3/envs/bms/lib/python3.10/site-packages/sklearn/metrics/_regression.py:492: FutureWarning:\n",
      "\n",
      "'squared' is deprecated in version 1.4 and will be removed in 1.6. To calculate the root mean squared error, use the function'root_mean_squared_error'.\n",
      "\n",
      "/Users/mariaminotaki/miniconda3/envs/bms/lib/python3.10/site-packages/sklearn/metrics/_regression.py:492: FutureWarning:\n",
      "\n",
      "'squared' is deprecated in version 1.4 and will be removed in 1.6. To calculate the root mean squared error, use the function'root_mean_squared_error'.\n",
      "\n",
      "/Users/mariaminotaki/miniconda3/envs/bms/lib/python3.10/site-packages/sklearn/metrics/_regression.py:492: FutureWarning:\n",
      "\n",
      "'squared' is deprecated in version 1.4 and will be removed in 1.6. To calculate the root mean squared error, use the function'root_mean_squared_error'.\n",
      "\n",
      "/Users/mariaminotaki/miniconda3/envs/bms/lib/python3.10/site-packages/sklearn/metrics/_regression.py:492: FutureWarning:\n",
      "\n",
      "'squared' is deprecated in version 1.4 and will be removed in 1.6. To calculate the root mean squared error, use the function'root_mean_squared_error'.\n",
      "\n",
      "/Users/mariaminotaki/miniconda3/envs/bms/lib/python3.10/site-packages/sklearn/metrics/_regression.py:492: FutureWarning:\n",
      "\n",
      "'squared' is deprecated in version 1.4 and will be removed in 1.6. To calculate the root mean squared error, use the function'root_mean_squared_error'.\n",
      "\n",
      "/Users/mariaminotaki/miniconda3/envs/bms/lib/python3.10/site-packages/sklearn/metrics/_regression.py:492: FutureWarning:\n",
      "\n",
      "'squared' is deprecated in version 1.4 and will be removed in 1.6. To calculate the root mean squared error, use the function'root_mean_squared_error'.\n",
      "\n",
      "/Users/mariaminotaki/miniconda3/envs/bms/lib/python3.10/site-packages/sklearn/metrics/_regression.py:492: FutureWarning:\n",
      "\n",
      "'squared' is deprecated in version 1.4 and will be removed in 1.6. To calculate the root mean squared error, use the function'root_mean_squared_error'.\n",
      "\n",
      "/Users/mariaminotaki/miniconda3/envs/bms/lib/python3.10/site-packages/sklearn/metrics/_regression.py:492: FutureWarning:\n",
      "\n",
      "'squared' is deprecated in version 1.4 and will be removed in 1.6. To calculate the root mean squared error, use the function'root_mean_squared_error'.\n",
      "\n",
      "/Users/mariaminotaki/miniconda3/envs/bms/lib/python3.10/site-packages/sklearn/metrics/_regression.py:492: FutureWarning:\n",
      "\n",
      "'squared' is deprecated in version 1.4 and will be removed in 1.6. To calculate the root mean squared error, use the function'root_mean_squared_error'.\n",
      "\n",
      "/Users/mariaminotaki/miniconda3/envs/bms/lib/python3.10/site-packages/sklearn/metrics/_regression.py:492: FutureWarning:\n",
      "\n",
      "'squared' is deprecated in version 1.4 and will be removed in 1.6. To calculate the root mean squared error, use the function'root_mean_squared_error'.\n",
      "\n",
      "/Users/mariaminotaki/miniconda3/envs/bms/lib/python3.10/site-packages/sklearn/metrics/_regression.py:492: FutureWarning:\n",
      "\n",
      "'squared' is deprecated in version 1.4 and will be removed in 1.6. To calculate the root mean squared error, use the function'root_mean_squared_error'.\n",
      "\n",
      "/Users/mariaminotaki/miniconda3/envs/bms/lib/python3.10/site-packages/sklearn/metrics/_regression.py:492: FutureWarning:\n",
      "\n",
      "'squared' is deprecated in version 1.4 and will be removed in 1.6. To calculate the root mean squared error, use the function'root_mean_squared_error'.\n",
      "\n",
      "/Users/mariaminotaki/miniconda3/envs/bms/lib/python3.10/site-packages/sklearn/metrics/_regression.py:492: FutureWarning:\n",
      "\n",
      "'squared' is deprecated in version 1.4 and will be removed in 1.6. To calculate the root mean squared error, use the function'root_mean_squared_error'.\n",
      "\n",
      "/Users/mariaminotaki/miniconda3/envs/bms/lib/python3.10/site-packages/sklearn/metrics/_regression.py:492: FutureWarning:\n",
      "\n",
      "'squared' is deprecated in version 1.4 and will be removed in 1.6. To calculate the root mean squared error, use the function'root_mean_squared_error'.\n",
      "\n",
      "/Users/mariaminotaki/miniconda3/envs/bms/lib/python3.10/site-packages/sklearn/metrics/_regression.py:492: FutureWarning:\n",
      "\n",
      "'squared' is deprecated in version 1.4 and will be removed in 1.6. To calculate the root mean squared error, use the function'root_mean_squared_error'.\n",
      "\n",
      "/Users/mariaminotaki/miniconda3/envs/bms/lib/python3.10/site-packages/sklearn/metrics/_regression.py:492: FutureWarning:\n",
      "\n",
      "'squared' is deprecated in version 1.4 and will be removed in 1.6. To calculate the root mean squared error, use the function'root_mean_squared_error'.\n",
      "\n",
      "/Users/mariaminotaki/miniconda3/envs/bms/lib/python3.10/site-packages/sklearn/metrics/_regression.py:492: FutureWarning:\n",
      "\n",
      "'squared' is deprecated in version 1.4 and will be removed in 1.6. To calculate the root mean squared error, use the function'root_mean_squared_error'.\n",
      "\n",
      "/Users/mariaminotaki/miniconda3/envs/bms/lib/python3.10/site-packages/sklearn/metrics/_regression.py:492: FutureWarning:\n",
      "\n",
      "'squared' is deprecated in version 1.4 and will be removed in 1.6. To calculate the root mean squared error, use the function'root_mean_squared_error'.\n",
      "\n",
      "/Users/mariaminotaki/miniconda3/envs/bms/lib/python3.10/site-packages/sklearn/metrics/_regression.py:492: FutureWarning:\n",
      "\n",
      "'squared' is deprecated in version 1.4 and will be removed in 1.6. To calculate the root mean squared error, use the function'root_mean_squared_error'.\n",
      "\n",
      "/Users/mariaminotaki/miniconda3/envs/bms/lib/python3.10/site-packages/sklearn/metrics/_regression.py:492: FutureWarning:\n",
      "\n",
      "'squared' is deprecated in version 1.4 and will be removed in 1.6. To calculate the root mean squared error, use the function'root_mean_squared_error'.\n",
      "\n",
      " 60%|██████    | 6/10 [00:06<00:04,  1.06s/it]/Users/mariaminotaki/miniconda3/envs/bms/lib/python3.10/site-packages/sklearn/metrics/_regression.py:492: FutureWarning:\n",
      "\n",
      "'squared' is deprecated in version 1.4 and will be removed in 1.6. To calculate the root mean squared error, use the function'root_mean_squared_error'.\n",
      "\n",
      "/Users/mariaminotaki/miniconda3/envs/bms/lib/python3.10/site-packages/sklearn/metrics/_regression.py:492: FutureWarning:\n",
      "\n",
      "'squared' is deprecated in version 1.4 and will be removed in 1.6. To calculate the root mean squared error, use the function'root_mean_squared_error'.\n",
      "\n",
      "/Users/mariaminotaki/miniconda3/envs/bms/lib/python3.10/site-packages/sklearn/metrics/_regression.py:492: FutureWarning:\n",
      "\n",
      "'squared' is deprecated in version 1.4 and will be removed in 1.6. To calculate the root mean squared error, use the function'root_mean_squared_error'.\n",
      "\n",
      "/Users/mariaminotaki/miniconda3/envs/bms/lib/python3.10/site-packages/sklearn/metrics/_regression.py:492: FutureWarning:\n",
      "\n",
      "'squared' is deprecated in version 1.4 and will be removed in 1.6. To calculate the root mean squared error, use the function'root_mean_squared_error'.\n",
      "\n",
      "/Users/mariaminotaki/miniconda3/envs/bms/lib/python3.10/site-packages/sklearn/metrics/_regression.py:492: FutureWarning:\n",
      "\n",
      "'squared' is deprecated in version 1.4 and will be removed in 1.6. To calculate the root mean squared error, use the function'root_mean_squared_error'.\n",
      "\n",
      "/Users/mariaminotaki/miniconda3/envs/bms/lib/python3.10/site-packages/sklearn/metrics/_regression.py:492: FutureWarning:\n",
      "\n",
      "'squared' is deprecated in version 1.4 and will be removed in 1.6. To calculate the root mean squared error, use the function'root_mean_squared_error'.\n",
      "\n",
      "/Users/mariaminotaki/miniconda3/envs/bms/lib/python3.10/site-packages/sklearn/metrics/_regression.py:492: FutureWarning:\n",
      "\n",
      "'squared' is deprecated in version 1.4 and will be removed in 1.6. To calculate the root mean squared error, use the function'root_mean_squared_error'.\n",
      "\n",
      "/Users/mariaminotaki/miniconda3/envs/bms/lib/python3.10/site-packages/sklearn/metrics/_regression.py:492: FutureWarning:\n",
      "\n",
      "'squared' is deprecated in version 1.4 and will be removed in 1.6. To calculate the root mean squared error, use the function'root_mean_squared_error'.\n",
      "\n",
      "/Users/mariaminotaki/miniconda3/envs/bms/lib/python3.10/site-packages/sklearn/metrics/_regression.py:492: FutureWarning:\n",
      "\n",
      "'squared' is deprecated in version 1.4 and will be removed in 1.6. To calculate the root mean squared error, use the function'root_mean_squared_error'.\n",
      "\n",
      "/Users/mariaminotaki/miniconda3/envs/bms/lib/python3.10/site-packages/sklearn/metrics/_regression.py:492: FutureWarning:\n",
      "\n",
      "'squared' is deprecated in version 1.4 and will be removed in 1.6. To calculate the root mean squared error, use the function'root_mean_squared_error'.\n",
      "\n",
      "/Users/mariaminotaki/miniconda3/envs/bms/lib/python3.10/site-packages/sklearn/metrics/_regression.py:492: FutureWarning:\n",
      "\n",
      "'squared' is deprecated in version 1.4 and will be removed in 1.6. To calculate the root mean squared error, use the function'root_mean_squared_error'.\n",
      "\n",
      "/Users/mariaminotaki/miniconda3/envs/bms/lib/python3.10/site-packages/sklearn/metrics/_regression.py:492: FutureWarning:\n",
      "\n",
      "'squared' is deprecated in version 1.4 and will be removed in 1.6. To calculate the root mean squared error, use the function'root_mean_squared_error'.\n",
      "\n",
      "/Users/mariaminotaki/miniconda3/envs/bms/lib/python3.10/site-packages/sklearn/metrics/_regression.py:492: FutureWarning:\n",
      "\n",
      "'squared' is deprecated in version 1.4 and will be removed in 1.6. To calculate the root mean squared error, use the function'root_mean_squared_error'.\n",
      "\n",
      "/Users/mariaminotaki/miniconda3/envs/bms/lib/python3.10/site-packages/sklearn/metrics/_regression.py:492: FutureWarning:\n",
      "\n",
      "'squared' is deprecated in version 1.4 and will be removed in 1.6. To calculate the root mean squared error, use the function'root_mean_squared_error'.\n",
      "\n",
      "/Users/mariaminotaki/miniconda3/envs/bms/lib/python3.10/site-packages/sklearn/metrics/_regression.py:492: FutureWarning:\n",
      "\n",
      "'squared' is deprecated in version 1.4 and will be removed in 1.6. To calculate the root mean squared error, use the function'root_mean_squared_error'.\n",
      "\n",
      "/Users/mariaminotaki/miniconda3/envs/bms/lib/python3.10/site-packages/sklearn/metrics/_regression.py:492: FutureWarning:\n",
      "\n",
      "'squared' is deprecated in version 1.4 and will be removed in 1.6. To calculate the root mean squared error, use the function'root_mean_squared_error'.\n",
      "\n",
      "/Users/mariaminotaki/miniconda3/envs/bms/lib/python3.10/site-packages/sklearn/metrics/_regression.py:492: FutureWarning:\n",
      "\n",
      "'squared' is deprecated in version 1.4 and will be removed in 1.6. To calculate the root mean squared error, use the function'root_mean_squared_error'.\n",
      "\n",
      "/Users/mariaminotaki/miniconda3/envs/bms/lib/python3.10/site-packages/sklearn/metrics/_regression.py:492: FutureWarning:\n",
      "\n",
      "'squared' is deprecated in version 1.4 and will be removed in 1.6. To calculate the root mean squared error, use the function'root_mean_squared_error'.\n",
      "\n",
      "/Users/mariaminotaki/miniconda3/envs/bms/lib/python3.10/site-packages/sklearn/metrics/_regression.py:492: FutureWarning:\n",
      "\n",
      "'squared' is deprecated in version 1.4 and will be removed in 1.6. To calculate the root mean squared error, use the function'root_mean_squared_error'.\n",
      "\n",
      "/Users/mariaminotaki/miniconda3/envs/bms/lib/python3.10/site-packages/sklearn/metrics/_regression.py:492: FutureWarning:\n",
      "\n",
      "'squared' is deprecated in version 1.4 and will be removed in 1.6. To calculate the root mean squared error, use the function'root_mean_squared_error'.\n",
      "\n",
      "/Users/mariaminotaki/miniconda3/envs/bms/lib/python3.10/site-packages/sklearn/metrics/_regression.py:492: FutureWarning:\n",
      "\n",
      "'squared' is deprecated in version 1.4 and will be removed in 1.6. To calculate the root mean squared error, use the function'root_mean_squared_error'.\n",
      "\n",
      "/Users/mariaminotaki/miniconda3/envs/bms/lib/python3.10/site-packages/sklearn/metrics/_regression.py:492: FutureWarning:\n",
      "\n",
      "'squared' is deprecated in version 1.4 and will be removed in 1.6. To calculate the root mean squared error, use the function'root_mean_squared_error'.\n",
      "\n",
      "/Users/mariaminotaki/miniconda3/envs/bms/lib/python3.10/site-packages/sklearn/metrics/_regression.py:492: FutureWarning:\n",
      "\n",
      "'squared' is deprecated in version 1.4 and will be removed in 1.6. To calculate the root mean squared error, use the function'root_mean_squared_error'.\n",
      "\n",
      "/Users/mariaminotaki/miniconda3/envs/bms/lib/python3.10/site-packages/sklearn/metrics/_regression.py:492: FutureWarning:\n",
      "\n",
      "'squared' is deprecated in version 1.4 and will be removed in 1.6. To calculate the root mean squared error, use the function'root_mean_squared_error'.\n",
      "\n",
      "/Users/mariaminotaki/miniconda3/envs/bms/lib/python3.10/site-packages/sklearn/metrics/_regression.py:492: FutureWarning:\n",
      "\n",
      "'squared' is deprecated in version 1.4 and will be removed in 1.6. To calculate the root mean squared error, use the function'root_mean_squared_error'.\n",
      "\n",
      "/Users/mariaminotaki/miniconda3/envs/bms/lib/python3.10/site-packages/sklearn/metrics/_regression.py:492: FutureWarning:\n",
      "\n",
      "'squared' is deprecated in version 1.4 and will be removed in 1.6. To calculate the root mean squared error, use the function'root_mean_squared_error'.\n",
      "\n",
      "/Users/mariaminotaki/miniconda3/envs/bms/lib/python3.10/site-packages/sklearn/metrics/_regression.py:492: FutureWarning:\n",
      "\n",
      "'squared' is deprecated in version 1.4 and will be removed in 1.6. To calculate the root mean squared error, use the function'root_mean_squared_error'.\n",
      "\n",
      "/Users/mariaminotaki/miniconda3/envs/bms/lib/python3.10/site-packages/sklearn/metrics/_regression.py:492: FutureWarning:\n",
      "\n",
      "'squared' is deprecated in version 1.4 and will be removed in 1.6. To calculate the root mean squared error, use the function'root_mean_squared_error'.\n",
      "\n",
      "/Users/mariaminotaki/miniconda3/envs/bms/lib/python3.10/site-packages/sklearn/metrics/_regression.py:492: FutureWarning:\n",
      "\n",
      "'squared' is deprecated in version 1.4 and will be removed in 1.6. To calculate the root mean squared error, use the function'root_mean_squared_error'.\n",
      "\n",
      "/Users/mariaminotaki/miniconda3/envs/bms/lib/python3.10/site-packages/sklearn/metrics/_regression.py:492: FutureWarning:\n",
      "\n",
      "'squared' is deprecated in version 1.4 and will be removed in 1.6. To calculate the root mean squared error, use the function'root_mean_squared_error'.\n",
      "\n",
      " 70%|███████   | 7/10 [00:07<00:03,  1.07s/it]/Users/mariaminotaki/miniconda3/envs/bms/lib/python3.10/site-packages/sklearn/metrics/_regression.py:492: FutureWarning:\n",
      "\n",
      "'squared' is deprecated in version 1.4 and will be removed in 1.6. To calculate the root mean squared error, use the function'root_mean_squared_error'.\n",
      "\n",
      "/Users/mariaminotaki/miniconda3/envs/bms/lib/python3.10/site-packages/sklearn/metrics/_regression.py:492: FutureWarning:\n",
      "\n",
      "'squared' is deprecated in version 1.4 and will be removed in 1.6. To calculate the root mean squared error, use the function'root_mean_squared_error'.\n",
      "\n",
      "/Users/mariaminotaki/miniconda3/envs/bms/lib/python3.10/site-packages/sklearn/metrics/_regression.py:492: FutureWarning:\n",
      "\n",
      "'squared' is deprecated in version 1.4 and will be removed in 1.6. To calculate the root mean squared error, use the function'root_mean_squared_error'.\n",
      "\n",
      "/Users/mariaminotaki/miniconda3/envs/bms/lib/python3.10/site-packages/sklearn/metrics/_regression.py:492: FutureWarning:\n",
      "\n",
      "'squared' is deprecated in version 1.4 and will be removed in 1.6. To calculate the root mean squared error, use the function'root_mean_squared_error'.\n",
      "\n",
      "/Users/mariaminotaki/miniconda3/envs/bms/lib/python3.10/site-packages/sklearn/metrics/_regression.py:492: FutureWarning:\n",
      "\n",
      "'squared' is deprecated in version 1.4 and will be removed in 1.6. To calculate the root mean squared error, use the function'root_mean_squared_error'.\n",
      "\n",
      "/Users/mariaminotaki/miniconda3/envs/bms/lib/python3.10/site-packages/sklearn/metrics/_regression.py:492: FutureWarning:\n",
      "\n",
      "'squared' is deprecated in version 1.4 and will be removed in 1.6. To calculate the root mean squared error, use the function'root_mean_squared_error'.\n",
      "\n",
      "/Users/mariaminotaki/miniconda3/envs/bms/lib/python3.10/site-packages/sklearn/metrics/_regression.py:492: FutureWarning:\n",
      "\n",
      "'squared' is deprecated in version 1.4 and will be removed in 1.6. To calculate the root mean squared error, use the function'root_mean_squared_error'.\n",
      "\n",
      "/Users/mariaminotaki/miniconda3/envs/bms/lib/python3.10/site-packages/sklearn/metrics/_regression.py:492: FutureWarning:\n",
      "\n",
      "'squared' is deprecated in version 1.4 and will be removed in 1.6. To calculate the root mean squared error, use the function'root_mean_squared_error'.\n",
      "\n",
      "/Users/mariaminotaki/miniconda3/envs/bms/lib/python3.10/site-packages/sklearn/metrics/_regression.py:492: FutureWarning:\n",
      "\n",
      "'squared' is deprecated in version 1.4 and will be removed in 1.6. To calculate the root mean squared error, use the function'root_mean_squared_error'.\n",
      "\n",
      "/Users/mariaminotaki/miniconda3/envs/bms/lib/python3.10/site-packages/sklearn/metrics/_regression.py:492: FutureWarning:\n",
      "\n",
      "'squared' is deprecated in version 1.4 and will be removed in 1.6. To calculate the root mean squared error, use the function'root_mean_squared_error'.\n",
      "\n",
      "/Users/mariaminotaki/miniconda3/envs/bms/lib/python3.10/site-packages/sklearn/metrics/_regression.py:492: FutureWarning:\n",
      "\n",
      "'squared' is deprecated in version 1.4 and will be removed in 1.6. To calculate the root mean squared error, use the function'root_mean_squared_error'.\n",
      "\n",
      "/Users/mariaminotaki/miniconda3/envs/bms/lib/python3.10/site-packages/sklearn/metrics/_regression.py:492: FutureWarning:\n",
      "\n",
      "'squared' is deprecated in version 1.4 and will be removed in 1.6. To calculate the root mean squared error, use the function'root_mean_squared_error'.\n",
      "\n",
      "/Users/mariaminotaki/miniconda3/envs/bms/lib/python3.10/site-packages/sklearn/metrics/_regression.py:492: FutureWarning:\n",
      "\n",
      "'squared' is deprecated in version 1.4 and will be removed in 1.6. To calculate the root mean squared error, use the function'root_mean_squared_error'.\n",
      "\n",
      "/Users/mariaminotaki/miniconda3/envs/bms/lib/python3.10/site-packages/sklearn/metrics/_regression.py:492: FutureWarning:\n",
      "\n",
      "'squared' is deprecated in version 1.4 and will be removed in 1.6. To calculate the root mean squared error, use the function'root_mean_squared_error'.\n",
      "\n",
      "/Users/mariaminotaki/miniconda3/envs/bms/lib/python3.10/site-packages/sklearn/metrics/_regression.py:492: FutureWarning:\n",
      "\n",
      "'squared' is deprecated in version 1.4 and will be removed in 1.6. To calculate the root mean squared error, use the function'root_mean_squared_error'.\n",
      "\n",
      "/Users/mariaminotaki/miniconda3/envs/bms/lib/python3.10/site-packages/sklearn/metrics/_regression.py:492: FutureWarning:\n",
      "\n",
      "'squared' is deprecated in version 1.4 and will be removed in 1.6. To calculate the root mean squared error, use the function'root_mean_squared_error'.\n",
      "\n",
      "/Users/mariaminotaki/miniconda3/envs/bms/lib/python3.10/site-packages/sklearn/metrics/_regression.py:492: FutureWarning:\n",
      "\n",
      "'squared' is deprecated in version 1.4 and will be removed in 1.6. To calculate the root mean squared error, use the function'root_mean_squared_error'.\n",
      "\n",
      "/Users/mariaminotaki/miniconda3/envs/bms/lib/python3.10/site-packages/sklearn/metrics/_regression.py:492: FutureWarning:\n",
      "\n",
      "'squared' is deprecated in version 1.4 and will be removed in 1.6. To calculate the root mean squared error, use the function'root_mean_squared_error'.\n",
      "\n",
      "/Users/mariaminotaki/miniconda3/envs/bms/lib/python3.10/site-packages/sklearn/metrics/_regression.py:492: FutureWarning:\n",
      "\n",
      "'squared' is deprecated in version 1.4 and will be removed in 1.6. To calculate the root mean squared error, use the function'root_mean_squared_error'.\n",
      "\n",
      "/Users/mariaminotaki/miniconda3/envs/bms/lib/python3.10/site-packages/sklearn/metrics/_regression.py:492: FutureWarning:\n",
      "\n",
      "'squared' is deprecated in version 1.4 and will be removed in 1.6. To calculate the root mean squared error, use the function'root_mean_squared_error'.\n",
      "\n",
      "/Users/mariaminotaki/miniconda3/envs/bms/lib/python3.10/site-packages/sklearn/metrics/_regression.py:492: FutureWarning:\n",
      "\n",
      "'squared' is deprecated in version 1.4 and will be removed in 1.6. To calculate the root mean squared error, use the function'root_mean_squared_error'.\n",
      "\n",
      "/Users/mariaminotaki/miniconda3/envs/bms/lib/python3.10/site-packages/sklearn/metrics/_regression.py:492: FutureWarning:\n",
      "\n",
      "'squared' is deprecated in version 1.4 and will be removed in 1.6. To calculate the root mean squared error, use the function'root_mean_squared_error'.\n",
      "\n",
      "/Users/mariaminotaki/miniconda3/envs/bms/lib/python3.10/site-packages/sklearn/metrics/_regression.py:492: FutureWarning:\n",
      "\n",
      "'squared' is deprecated in version 1.4 and will be removed in 1.6. To calculate the root mean squared error, use the function'root_mean_squared_error'.\n",
      "\n",
      "/Users/mariaminotaki/miniconda3/envs/bms/lib/python3.10/site-packages/sklearn/metrics/_regression.py:492: FutureWarning:\n",
      "\n",
      "'squared' is deprecated in version 1.4 and will be removed in 1.6. To calculate the root mean squared error, use the function'root_mean_squared_error'.\n",
      "\n",
      "/Users/mariaminotaki/miniconda3/envs/bms/lib/python3.10/site-packages/sklearn/metrics/_regression.py:492: FutureWarning:\n",
      "\n",
      "'squared' is deprecated in version 1.4 and will be removed in 1.6. To calculate the root mean squared error, use the function'root_mean_squared_error'.\n",
      "\n",
      "/Users/mariaminotaki/miniconda3/envs/bms/lib/python3.10/site-packages/sklearn/metrics/_regression.py:492: FutureWarning:\n",
      "\n",
      "'squared' is deprecated in version 1.4 and will be removed in 1.6. To calculate the root mean squared error, use the function'root_mean_squared_error'.\n",
      "\n",
      "/Users/mariaminotaki/miniconda3/envs/bms/lib/python3.10/site-packages/sklearn/metrics/_regression.py:492: FutureWarning:\n",
      "\n",
      "'squared' is deprecated in version 1.4 and will be removed in 1.6. To calculate the root mean squared error, use the function'root_mean_squared_error'.\n",
      "\n",
      "/Users/mariaminotaki/miniconda3/envs/bms/lib/python3.10/site-packages/sklearn/metrics/_regression.py:492: FutureWarning:\n",
      "\n",
      "'squared' is deprecated in version 1.4 and will be removed in 1.6. To calculate the root mean squared error, use the function'root_mean_squared_error'.\n",
      "\n",
      "/Users/mariaminotaki/miniconda3/envs/bms/lib/python3.10/site-packages/sklearn/metrics/_regression.py:492: FutureWarning:\n",
      "\n",
      "'squared' is deprecated in version 1.4 and will be removed in 1.6. To calculate the root mean squared error, use the function'root_mean_squared_error'.\n",
      "\n",
      "/Users/mariaminotaki/miniconda3/envs/bms/lib/python3.10/site-packages/sklearn/metrics/_regression.py:492: FutureWarning:\n",
      "\n",
      "'squared' is deprecated in version 1.4 and will be removed in 1.6. To calculate the root mean squared error, use the function'root_mean_squared_error'.\n",
      "\n",
      " 80%|████████  | 8/10 [00:08<00:02,  1.07s/it]/Users/mariaminotaki/miniconda3/envs/bms/lib/python3.10/site-packages/sklearn/metrics/_regression.py:492: FutureWarning:\n",
      "\n",
      "'squared' is deprecated in version 1.4 and will be removed in 1.6. To calculate the root mean squared error, use the function'root_mean_squared_error'.\n",
      "\n",
      "/Users/mariaminotaki/miniconda3/envs/bms/lib/python3.10/site-packages/sklearn/metrics/_regression.py:492: FutureWarning:\n",
      "\n",
      "'squared' is deprecated in version 1.4 and will be removed in 1.6. To calculate the root mean squared error, use the function'root_mean_squared_error'.\n",
      "\n",
      "/Users/mariaminotaki/miniconda3/envs/bms/lib/python3.10/site-packages/sklearn/metrics/_regression.py:492: FutureWarning:\n",
      "\n",
      "'squared' is deprecated in version 1.4 and will be removed in 1.6. To calculate the root mean squared error, use the function'root_mean_squared_error'.\n",
      "\n",
      "/Users/mariaminotaki/miniconda3/envs/bms/lib/python3.10/site-packages/sklearn/metrics/_regression.py:492: FutureWarning:\n",
      "\n",
      "'squared' is deprecated in version 1.4 and will be removed in 1.6. To calculate the root mean squared error, use the function'root_mean_squared_error'.\n",
      "\n",
      "/Users/mariaminotaki/miniconda3/envs/bms/lib/python3.10/site-packages/sklearn/metrics/_regression.py:492: FutureWarning:\n",
      "\n",
      "'squared' is deprecated in version 1.4 and will be removed in 1.6. To calculate the root mean squared error, use the function'root_mean_squared_error'.\n",
      "\n",
      "/Users/mariaminotaki/miniconda3/envs/bms/lib/python3.10/site-packages/sklearn/metrics/_regression.py:492: FutureWarning:\n",
      "\n",
      "'squared' is deprecated in version 1.4 and will be removed in 1.6. To calculate the root mean squared error, use the function'root_mean_squared_error'.\n",
      "\n",
      "/Users/mariaminotaki/miniconda3/envs/bms/lib/python3.10/site-packages/sklearn/metrics/_regression.py:492: FutureWarning:\n",
      "\n",
      "'squared' is deprecated in version 1.4 and will be removed in 1.6. To calculate the root mean squared error, use the function'root_mean_squared_error'.\n",
      "\n",
      "/Users/mariaminotaki/miniconda3/envs/bms/lib/python3.10/site-packages/sklearn/metrics/_regression.py:492: FutureWarning:\n",
      "\n",
      "'squared' is deprecated in version 1.4 and will be removed in 1.6. To calculate the root mean squared error, use the function'root_mean_squared_error'.\n",
      "\n",
      "/Users/mariaminotaki/miniconda3/envs/bms/lib/python3.10/site-packages/sklearn/metrics/_regression.py:492: FutureWarning:\n",
      "\n",
      "'squared' is deprecated in version 1.4 and will be removed in 1.6. To calculate the root mean squared error, use the function'root_mean_squared_error'.\n",
      "\n",
      "/Users/mariaminotaki/miniconda3/envs/bms/lib/python3.10/site-packages/sklearn/metrics/_regression.py:492: FutureWarning:\n",
      "\n",
      "'squared' is deprecated in version 1.4 and will be removed in 1.6. To calculate the root mean squared error, use the function'root_mean_squared_error'.\n",
      "\n",
      "/Users/mariaminotaki/miniconda3/envs/bms/lib/python3.10/site-packages/sklearn/metrics/_regression.py:492: FutureWarning:\n",
      "\n",
      "'squared' is deprecated in version 1.4 and will be removed in 1.6. To calculate the root mean squared error, use the function'root_mean_squared_error'.\n",
      "\n",
      "/Users/mariaminotaki/miniconda3/envs/bms/lib/python3.10/site-packages/sklearn/metrics/_regression.py:492: FutureWarning:\n",
      "\n",
      "'squared' is deprecated in version 1.4 and will be removed in 1.6. To calculate the root mean squared error, use the function'root_mean_squared_error'.\n",
      "\n",
      "/Users/mariaminotaki/miniconda3/envs/bms/lib/python3.10/site-packages/sklearn/metrics/_regression.py:492: FutureWarning:\n",
      "\n",
      "'squared' is deprecated in version 1.4 and will be removed in 1.6. To calculate the root mean squared error, use the function'root_mean_squared_error'.\n",
      "\n",
      "/Users/mariaminotaki/miniconda3/envs/bms/lib/python3.10/site-packages/sklearn/metrics/_regression.py:492: FutureWarning:\n",
      "\n",
      "'squared' is deprecated in version 1.4 and will be removed in 1.6. To calculate the root mean squared error, use the function'root_mean_squared_error'.\n",
      "\n",
      "/Users/mariaminotaki/miniconda3/envs/bms/lib/python3.10/site-packages/sklearn/metrics/_regression.py:492: FutureWarning:\n",
      "\n",
      "'squared' is deprecated in version 1.4 and will be removed in 1.6. To calculate the root mean squared error, use the function'root_mean_squared_error'.\n",
      "\n",
      "/Users/mariaminotaki/miniconda3/envs/bms/lib/python3.10/site-packages/sklearn/metrics/_regression.py:492: FutureWarning:\n",
      "\n",
      "'squared' is deprecated in version 1.4 and will be removed in 1.6. To calculate the root mean squared error, use the function'root_mean_squared_error'.\n",
      "\n",
      "/Users/mariaminotaki/miniconda3/envs/bms/lib/python3.10/site-packages/sklearn/metrics/_regression.py:492: FutureWarning:\n",
      "\n",
      "'squared' is deprecated in version 1.4 and will be removed in 1.6. To calculate the root mean squared error, use the function'root_mean_squared_error'.\n",
      "\n",
      "/Users/mariaminotaki/miniconda3/envs/bms/lib/python3.10/site-packages/sklearn/metrics/_regression.py:492: FutureWarning:\n",
      "\n",
      "'squared' is deprecated in version 1.4 and will be removed in 1.6. To calculate the root mean squared error, use the function'root_mean_squared_error'.\n",
      "\n",
      "/Users/mariaminotaki/miniconda3/envs/bms/lib/python3.10/site-packages/sklearn/metrics/_regression.py:492: FutureWarning:\n",
      "\n",
      "'squared' is deprecated in version 1.4 and will be removed in 1.6. To calculate the root mean squared error, use the function'root_mean_squared_error'.\n",
      "\n",
      "/Users/mariaminotaki/miniconda3/envs/bms/lib/python3.10/site-packages/sklearn/metrics/_regression.py:492: FutureWarning:\n",
      "\n",
      "'squared' is deprecated in version 1.4 and will be removed in 1.6. To calculate the root mean squared error, use the function'root_mean_squared_error'.\n",
      "\n",
      "/Users/mariaminotaki/miniconda3/envs/bms/lib/python3.10/site-packages/sklearn/metrics/_regression.py:492: FutureWarning:\n",
      "\n",
      "'squared' is deprecated in version 1.4 and will be removed in 1.6. To calculate the root mean squared error, use the function'root_mean_squared_error'.\n",
      "\n",
      "/Users/mariaminotaki/miniconda3/envs/bms/lib/python3.10/site-packages/sklearn/metrics/_regression.py:492: FutureWarning:\n",
      "\n",
      "'squared' is deprecated in version 1.4 and will be removed in 1.6. To calculate the root mean squared error, use the function'root_mean_squared_error'.\n",
      "\n",
      "/Users/mariaminotaki/miniconda3/envs/bms/lib/python3.10/site-packages/sklearn/metrics/_regression.py:492: FutureWarning:\n",
      "\n",
      "'squared' is deprecated in version 1.4 and will be removed in 1.6. To calculate the root mean squared error, use the function'root_mean_squared_error'.\n",
      "\n",
      "/Users/mariaminotaki/miniconda3/envs/bms/lib/python3.10/site-packages/sklearn/metrics/_regression.py:492: FutureWarning:\n",
      "\n",
      "'squared' is deprecated in version 1.4 and will be removed in 1.6. To calculate the root mean squared error, use the function'root_mean_squared_error'.\n",
      "\n",
      "/Users/mariaminotaki/miniconda3/envs/bms/lib/python3.10/site-packages/sklearn/metrics/_regression.py:492: FutureWarning:\n",
      "\n",
      "'squared' is deprecated in version 1.4 and will be removed in 1.6. To calculate the root mean squared error, use the function'root_mean_squared_error'.\n",
      "\n",
      "/Users/mariaminotaki/miniconda3/envs/bms/lib/python3.10/site-packages/sklearn/metrics/_regression.py:492: FutureWarning:\n",
      "\n",
      "'squared' is deprecated in version 1.4 and will be removed in 1.6. To calculate the root mean squared error, use the function'root_mean_squared_error'.\n",
      "\n",
      "/Users/mariaminotaki/miniconda3/envs/bms/lib/python3.10/site-packages/sklearn/metrics/_regression.py:492: FutureWarning:\n",
      "\n",
      "'squared' is deprecated in version 1.4 and will be removed in 1.6. To calculate the root mean squared error, use the function'root_mean_squared_error'.\n",
      "\n",
      "/Users/mariaminotaki/miniconda3/envs/bms/lib/python3.10/site-packages/sklearn/metrics/_regression.py:492: FutureWarning:\n",
      "\n",
      "'squared' is deprecated in version 1.4 and will be removed in 1.6. To calculate the root mean squared error, use the function'root_mean_squared_error'.\n",
      "\n",
      "/Users/mariaminotaki/miniconda3/envs/bms/lib/python3.10/site-packages/sklearn/metrics/_regression.py:492: FutureWarning:\n",
      "\n",
      "'squared' is deprecated in version 1.4 and will be removed in 1.6. To calculate the root mean squared error, use the function'root_mean_squared_error'.\n",
      "\n",
      "/Users/mariaminotaki/miniconda3/envs/bms/lib/python3.10/site-packages/sklearn/metrics/_regression.py:492: FutureWarning:\n",
      "\n",
      "'squared' is deprecated in version 1.4 and will be removed in 1.6. To calculate the root mean squared error, use the function'root_mean_squared_error'.\n",
      "\n",
      " 90%|█████████ | 9/10 [00:09<00:01,  1.09s/it]/Users/mariaminotaki/miniconda3/envs/bms/lib/python3.10/site-packages/sklearn/metrics/_regression.py:492: FutureWarning:\n",
      "\n",
      "'squared' is deprecated in version 1.4 and will be removed in 1.6. To calculate the root mean squared error, use the function'root_mean_squared_error'.\n",
      "\n",
      "/Users/mariaminotaki/miniconda3/envs/bms/lib/python3.10/site-packages/sklearn/metrics/_regression.py:492: FutureWarning:\n",
      "\n",
      "'squared' is deprecated in version 1.4 and will be removed in 1.6. To calculate the root mean squared error, use the function'root_mean_squared_error'.\n",
      "\n",
      "/Users/mariaminotaki/miniconda3/envs/bms/lib/python3.10/site-packages/sklearn/metrics/_regression.py:492: FutureWarning:\n",
      "\n",
      "'squared' is deprecated in version 1.4 and will be removed in 1.6. To calculate the root mean squared error, use the function'root_mean_squared_error'.\n",
      "\n",
      "/Users/mariaminotaki/miniconda3/envs/bms/lib/python3.10/site-packages/sklearn/metrics/_regression.py:492: FutureWarning:\n",
      "\n",
      "'squared' is deprecated in version 1.4 and will be removed in 1.6. To calculate the root mean squared error, use the function'root_mean_squared_error'.\n",
      "\n",
      "/Users/mariaminotaki/miniconda3/envs/bms/lib/python3.10/site-packages/sklearn/metrics/_regression.py:492: FutureWarning:\n",
      "\n",
      "'squared' is deprecated in version 1.4 and will be removed in 1.6. To calculate the root mean squared error, use the function'root_mean_squared_error'.\n",
      "\n",
      "/Users/mariaminotaki/miniconda3/envs/bms/lib/python3.10/site-packages/sklearn/metrics/_regression.py:492: FutureWarning:\n",
      "\n",
      "'squared' is deprecated in version 1.4 and will be removed in 1.6. To calculate the root mean squared error, use the function'root_mean_squared_error'.\n",
      "\n",
      "/Users/mariaminotaki/miniconda3/envs/bms/lib/python3.10/site-packages/sklearn/metrics/_regression.py:492: FutureWarning:\n",
      "\n",
      "'squared' is deprecated in version 1.4 and will be removed in 1.6. To calculate the root mean squared error, use the function'root_mean_squared_error'.\n",
      "\n",
      "/Users/mariaminotaki/miniconda3/envs/bms/lib/python3.10/site-packages/sklearn/metrics/_regression.py:492: FutureWarning:\n",
      "\n",
      "'squared' is deprecated in version 1.4 and will be removed in 1.6. To calculate the root mean squared error, use the function'root_mean_squared_error'.\n",
      "\n",
      "/Users/mariaminotaki/miniconda3/envs/bms/lib/python3.10/site-packages/sklearn/metrics/_regression.py:492: FutureWarning:\n",
      "\n",
      "'squared' is deprecated in version 1.4 and will be removed in 1.6. To calculate the root mean squared error, use the function'root_mean_squared_error'.\n",
      "\n",
      "/Users/mariaminotaki/miniconda3/envs/bms/lib/python3.10/site-packages/sklearn/metrics/_regression.py:492: FutureWarning:\n",
      "\n",
      "'squared' is deprecated in version 1.4 and will be removed in 1.6. To calculate the root mean squared error, use the function'root_mean_squared_error'.\n",
      "\n",
      "/Users/mariaminotaki/miniconda3/envs/bms/lib/python3.10/site-packages/sklearn/metrics/_regression.py:492: FutureWarning:\n",
      "\n",
      "'squared' is deprecated in version 1.4 and will be removed in 1.6. To calculate the root mean squared error, use the function'root_mean_squared_error'.\n",
      "\n",
      "/Users/mariaminotaki/miniconda3/envs/bms/lib/python3.10/site-packages/sklearn/metrics/_regression.py:492: FutureWarning:\n",
      "\n",
      "'squared' is deprecated in version 1.4 and will be removed in 1.6. To calculate the root mean squared error, use the function'root_mean_squared_error'.\n",
      "\n",
      "/Users/mariaminotaki/miniconda3/envs/bms/lib/python3.10/site-packages/sklearn/metrics/_regression.py:492: FutureWarning:\n",
      "\n",
      "'squared' is deprecated in version 1.4 and will be removed in 1.6. To calculate the root mean squared error, use the function'root_mean_squared_error'.\n",
      "\n",
      "/Users/mariaminotaki/miniconda3/envs/bms/lib/python3.10/site-packages/sklearn/metrics/_regression.py:492: FutureWarning:\n",
      "\n",
      "'squared' is deprecated in version 1.4 and will be removed in 1.6. To calculate the root mean squared error, use the function'root_mean_squared_error'.\n",
      "\n",
      "/Users/mariaminotaki/miniconda3/envs/bms/lib/python3.10/site-packages/sklearn/metrics/_regression.py:492: FutureWarning:\n",
      "\n",
      "'squared' is deprecated in version 1.4 and will be removed in 1.6. To calculate the root mean squared error, use the function'root_mean_squared_error'.\n",
      "\n",
      "/Users/mariaminotaki/miniconda3/envs/bms/lib/python3.10/site-packages/sklearn/metrics/_regression.py:492: FutureWarning:\n",
      "\n",
      "'squared' is deprecated in version 1.4 and will be removed in 1.6. To calculate the root mean squared error, use the function'root_mean_squared_error'.\n",
      "\n",
      "/Users/mariaminotaki/miniconda3/envs/bms/lib/python3.10/site-packages/sklearn/metrics/_regression.py:492: FutureWarning:\n",
      "\n",
      "'squared' is deprecated in version 1.4 and will be removed in 1.6. To calculate the root mean squared error, use the function'root_mean_squared_error'.\n",
      "\n",
      "/Users/mariaminotaki/miniconda3/envs/bms/lib/python3.10/site-packages/sklearn/metrics/_regression.py:492: FutureWarning:\n",
      "\n",
      "'squared' is deprecated in version 1.4 and will be removed in 1.6. To calculate the root mean squared error, use the function'root_mean_squared_error'.\n",
      "\n",
      "/Users/mariaminotaki/miniconda3/envs/bms/lib/python3.10/site-packages/sklearn/metrics/_regression.py:492: FutureWarning:\n",
      "\n",
      "'squared' is deprecated in version 1.4 and will be removed in 1.6. To calculate the root mean squared error, use the function'root_mean_squared_error'.\n",
      "\n",
      "/Users/mariaminotaki/miniconda3/envs/bms/lib/python3.10/site-packages/sklearn/metrics/_regression.py:492: FutureWarning:\n",
      "\n",
      "'squared' is deprecated in version 1.4 and will be removed in 1.6. To calculate the root mean squared error, use the function'root_mean_squared_error'.\n",
      "\n",
      "/Users/mariaminotaki/miniconda3/envs/bms/lib/python3.10/site-packages/sklearn/metrics/_regression.py:492: FutureWarning:\n",
      "\n",
      "'squared' is deprecated in version 1.4 and will be removed in 1.6. To calculate the root mean squared error, use the function'root_mean_squared_error'.\n",
      "\n",
      "/Users/mariaminotaki/miniconda3/envs/bms/lib/python3.10/site-packages/sklearn/metrics/_regression.py:492: FutureWarning:\n",
      "\n",
      "'squared' is deprecated in version 1.4 and will be removed in 1.6. To calculate the root mean squared error, use the function'root_mean_squared_error'.\n",
      "\n",
      "/Users/mariaminotaki/miniconda3/envs/bms/lib/python3.10/site-packages/sklearn/metrics/_regression.py:492: FutureWarning:\n",
      "\n",
      "'squared' is deprecated in version 1.4 and will be removed in 1.6. To calculate the root mean squared error, use the function'root_mean_squared_error'.\n",
      "\n",
      "/Users/mariaminotaki/miniconda3/envs/bms/lib/python3.10/site-packages/sklearn/metrics/_regression.py:492: FutureWarning:\n",
      "\n",
      "'squared' is deprecated in version 1.4 and will be removed in 1.6. To calculate the root mean squared error, use the function'root_mean_squared_error'.\n",
      "\n",
      "/Users/mariaminotaki/miniconda3/envs/bms/lib/python3.10/site-packages/sklearn/metrics/_regression.py:492: FutureWarning:\n",
      "\n",
      "'squared' is deprecated in version 1.4 and will be removed in 1.6. To calculate the root mean squared error, use the function'root_mean_squared_error'.\n",
      "\n",
      "/Users/mariaminotaki/miniconda3/envs/bms/lib/python3.10/site-packages/sklearn/metrics/_regression.py:492: FutureWarning:\n",
      "\n",
      "'squared' is deprecated in version 1.4 and will be removed in 1.6. To calculate the root mean squared error, use the function'root_mean_squared_error'.\n",
      "\n",
      "/Users/mariaminotaki/miniconda3/envs/bms/lib/python3.10/site-packages/sklearn/metrics/_regression.py:492: FutureWarning:\n",
      "\n",
      "'squared' is deprecated in version 1.4 and will be removed in 1.6. To calculate the root mean squared error, use the function'root_mean_squared_error'.\n",
      "\n",
      "/Users/mariaminotaki/miniconda3/envs/bms/lib/python3.10/site-packages/sklearn/metrics/_regression.py:492: FutureWarning:\n",
      "\n",
      "'squared' is deprecated in version 1.4 and will be removed in 1.6. To calculate the root mean squared error, use the function'root_mean_squared_error'.\n",
      "\n",
      "/Users/mariaminotaki/miniconda3/envs/bms/lib/python3.10/site-packages/sklearn/metrics/_regression.py:492: FutureWarning:\n",
      "\n",
      "'squared' is deprecated in version 1.4 and will be removed in 1.6. To calculate the root mean squared error, use the function'root_mean_squared_error'.\n",
      "\n",
      "/Users/mariaminotaki/miniconda3/envs/bms/lib/python3.10/site-packages/sklearn/metrics/_regression.py:492: FutureWarning:\n",
      "\n",
      "'squared' is deprecated in version 1.4 and will be removed in 1.6. To calculate the root mean squared error, use the function'root_mean_squared_error'.\n",
      "\n",
      "100%|██████████| 10/10 [00:10<00:00,  1.08s/it]\n",
      "/Users/mariaminotaki/miniconda3/envs/bms/lib/python3.10/site-packages/sklearn/metrics/_regression.py:492: FutureWarning:\n",
      "\n",
      "'squared' is deprecated in version 1.4 and will be removed in 1.6. To calculate the root mean squared error, use the function'root_mean_squared_error'.\n",
      "\n",
      "/Users/mariaminotaki/miniconda3/envs/bms/lib/python3.10/site-packages/sklearn/metrics/_regression.py:492: FutureWarning:\n",
      "\n",
      "'squared' is deprecated in version 1.4 and will be removed in 1.6. To calculate the root mean squared error, use the function'root_mean_squared_error'.\n",
      "\n",
      "/Users/mariaminotaki/miniconda3/envs/bms/lib/python3.10/site-packages/sklearn/metrics/_regression.py:492: FutureWarning:\n",
      "\n",
      "'squared' is deprecated in version 1.4 and will be removed in 1.6. To calculate the root mean squared error, use the function'root_mean_squared_error'.\n",
      "\n",
      "/Users/mariaminotaki/miniconda3/envs/bms/lib/python3.10/site-packages/sklearn/metrics/_regression.py:492: FutureWarning:\n",
      "\n",
      "'squared' is deprecated in version 1.4 and will be removed in 1.6. To calculate the root mean squared error, use the function'root_mean_squared_error'.\n",
      "\n",
      "/Users/mariaminotaki/miniconda3/envs/bms/lib/python3.10/site-packages/sklearn/metrics/_regression.py:492: FutureWarning:\n",
      "\n",
      "'squared' is deprecated in version 1.4 and will be removed in 1.6. To calculate the root mean squared error, use the function'root_mean_squared_error'.\n",
      "\n",
      "/Users/mariaminotaki/miniconda3/envs/bms/lib/python3.10/site-packages/sklearn/metrics/_regression.py:492: FutureWarning:\n",
      "\n",
      "'squared' is deprecated in version 1.4 and will be removed in 1.6. To calculate the root mean squared error, use the function'root_mean_squared_error'.\n",
      "\n",
      "/Users/mariaminotaki/miniconda3/envs/bms/lib/python3.10/site-packages/sklearn/metrics/_regression.py:492: FutureWarning:\n",
      "\n",
      "'squared' is deprecated in version 1.4 and will be removed in 1.6. To calculate the root mean squared error, use the function'root_mean_squared_error'.\n",
      "\n",
      "/Users/mariaminotaki/miniconda3/envs/bms/lib/python3.10/site-packages/sklearn/metrics/_regression.py:492: FutureWarning:\n",
      "\n",
      "'squared' is deprecated in version 1.4 and will be removed in 1.6. To calculate the root mean squared error, use the function'root_mean_squared_error'.\n",
      "\n",
      "/Users/mariaminotaki/miniconda3/envs/bms/lib/python3.10/site-packages/sklearn/metrics/_regression.py:492: FutureWarning:\n",
      "\n",
      "'squared' is deprecated in version 1.4 and will be removed in 1.6. To calculate the root mean squared error, use the function'root_mean_squared_error'.\n",
      "\n",
      "/Users/mariaminotaki/miniconda3/envs/bms/lib/python3.10/site-packages/sklearn/metrics/_regression.py:492: FutureWarning:\n",
      "\n",
      "'squared' is deprecated in version 1.4 and will be removed in 1.6. To calculate the root mean squared error, use the function'root_mean_squared_error'.\n",
      "\n",
      "/Users/mariaminotaki/miniconda3/envs/bms/lib/python3.10/site-packages/sklearn/metrics/_regression.py:492: FutureWarning:\n",
      "\n",
      "'squared' is deprecated in version 1.4 and will be removed in 1.6. To calculate the root mean squared error, use the function'root_mean_squared_error'.\n",
      "\n",
      "/Users/mariaminotaki/miniconda3/envs/bms/lib/python3.10/site-packages/sklearn/metrics/_regression.py:492: FutureWarning:\n",
      "\n",
      "'squared' is deprecated in version 1.4 and will be removed in 1.6. To calculate the root mean squared error, use the function'root_mean_squared_error'.\n",
      "\n",
      "/Users/mariaminotaki/miniconda3/envs/bms/lib/python3.10/site-packages/sklearn/metrics/_regression.py:492: FutureWarning:\n",
      "\n",
      "'squared' is deprecated in version 1.4 and will be removed in 1.6. To calculate the root mean squared error, use the function'root_mean_squared_error'.\n",
      "\n",
      "/Users/mariaminotaki/miniconda3/envs/bms/lib/python3.10/site-packages/sklearn/metrics/_regression.py:492: FutureWarning:\n",
      "\n",
      "'squared' is deprecated in version 1.4 and will be removed in 1.6. To calculate the root mean squared error, use the function'root_mean_squared_error'.\n",
      "\n",
      "/Users/mariaminotaki/miniconda3/envs/bms/lib/python3.10/site-packages/sklearn/metrics/_regression.py:492: FutureWarning:\n",
      "\n",
      "'squared' is deprecated in version 1.4 and will be removed in 1.6. To calculate the root mean squared error, use the function'root_mean_squared_error'.\n",
      "\n",
      "/Users/mariaminotaki/miniconda3/envs/bms/lib/python3.10/site-packages/sklearn/metrics/_regression.py:492: FutureWarning:\n",
      "\n",
      "'squared' is deprecated in version 1.4 and will be removed in 1.6. To calculate the root mean squared error, use the function'root_mean_squared_error'.\n",
      "\n",
      "/Users/mariaminotaki/miniconda3/envs/bms/lib/python3.10/site-packages/sklearn/metrics/_regression.py:492: FutureWarning:\n",
      "\n",
      "'squared' is deprecated in version 1.4 and will be removed in 1.6. To calculate the root mean squared error, use the function'root_mean_squared_error'.\n",
      "\n",
      "/Users/mariaminotaki/miniconda3/envs/bms/lib/python3.10/site-packages/sklearn/metrics/_regression.py:492: FutureWarning:\n",
      "\n",
      "'squared' is deprecated in version 1.4 and will be removed in 1.6. To calculate the root mean squared error, use the function'root_mean_squared_error'.\n",
      "\n",
      "/Users/mariaminotaki/miniconda3/envs/bms/lib/python3.10/site-packages/sklearn/metrics/_regression.py:492: FutureWarning:\n",
      "\n",
      "'squared' is deprecated in version 1.4 and will be removed in 1.6. To calculate the root mean squared error, use the function'root_mean_squared_error'.\n",
      "\n",
      "/Users/mariaminotaki/miniconda3/envs/bms/lib/python3.10/site-packages/sklearn/metrics/_regression.py:492: FutureWarning:\n",
      "\n",
      "'squared' is deprecated in version 1.4 and will be removed in 1.6. To calculate the root mean squared error, use the function'root_mean_squared_error'.\n",
      "\n",
      "/Users/mariaminotaki/miniconda3/envs/bms/lib/python3.10/site-packages/sklearn/metrics/_regression.py:492: FutureWarning:\n",
      "\n",
      "'squared' is deprecated in version 1.4 and will be removed in 1.6. To calculate the root mean squared error, use the function'root_mean_squared_error'.\n",
      "\n",
      "/Users/mariaminotaki/miniconda3/envs/bms/lib/python3.10/site-packages/sklearn/metrics/_regression.py:492: FutureWarning:\n",
      "\n",
      "'squared' is deprecated in version 1.4 and will be removed in 1.6. To calculate the root mean squared error, use the function'root_mean_squared_error'.\n",
      "\n",
      "/Users/mariaminotaki/miniconda3/envs/bms/lib/python3.10/site-packages/sklearn/metrics/_regression.py:492: FutureWarning:\n",
      "\n",
      "'squared' is deprecated in version 1.4 and will be removed in 1.6. To calculate the root mean squared error, use the function'root_mean_squared_error'.\n",
      "\n",
      "/Users/mariaminotaki/miniconda3/envs/bms/lib/python3.10/site-packages/sklearn/metrics/_regression.py:492: FutureWarning:\n",
      "\n",
      "'squared' is deprecated in version 1.4 and will be removed in 1.6. To calculate the root mean squared error, use the function'root_mean_squared_error'.\n",
      "\n",
      "/Users/mariaminotaki/miniconda3/envs/bms/lib/python3.10/site-packages/sklearn/metrics/_regression.py:492: FutureWarning:\n",
      "\n",
      "'squared' is deprecated in version 1.4 and will be removed in 1.6. To calculate the root mean squared error, use the function'root_mean_squared_error'.\n",
      "\n",
      "/Users/mariaminotaki/miniconda3/envs/bms/lib/python3.10/site-packages/sklearn/metrics/_regression.py:492: FutureWarning:\n",
      "\n",
      "'squared' is deprecated in version 1.4 and will be removed in 1.6. To calculate the root mean squared error, use the function'root_mean_squared_error'.\n",
      "\n",
      "/Users/mariaminotaki/miniconda3/envs/bms/lib/python3.10/site-packages/sklearn/metrics/_regression.py:492: FutureWarning:\n",
      "\n",
      "'squared' is deprecated in version 1.4 and will be removed in 1.6. To calculate the root mean squared error, use the function'root_mean_squared_error'.\n",
      "\n",
      "/Users/mariaminotaki/miniconda3/envs/bms/lib/python3.10/site-packages/sklearn/metrics/_regression.py:492: FutureWarning:\n",
      "\n",
      "'squared' is deprecated in version 1.4 and will be removed in 1.6. To calculate the root mean squared error, use the function'root_mean_squared_error'.\n",
      "\n",
      "/Users/mariaminotaki/miniconda3/envs/bms/lib/python3.10/site-packages/sklearn/metrics/_regression.py:492: FutureWarning:\n",
      "\n",
      "'squared' is deprecated in version 1.4 and will be removed in 1.6. To calculate the root mean squared error, use the function'root_mean_squared_error'.\n",
      "\n",
      "/Users/mariaminotaki/miniconda3/envs/bms/lib/python3.10/site-packages/sklearn/metrics/_regression.py:492: FutureWarning:\n",
      "\n",
      "'squared' is deprecated in version 1.4 and will be removed in 1.6. To calculate the root mean squared error, use the function'root_mean_squared_error'.\n",
      "\n"
     ]
    },
    {
     "data": {
      "application/vnd.plotly.v1+json": {
       "config": {
        "plotlyServerURL": "https://plot.ly"
       },
       "data": [
        {
         "hoverinfo": "x+y",
         "line": {
          "color": "blue",
          "width": 3
         },
         "mode": "lines",
         "name": "RMSE (train)",
         "showlegend": true,
         "type": "scatter",
         "x": [
          0.1,
          0.2,
          0.3,
          0.4,
          0.5,
          0.6,
          0.7,
          0.8,
          0.9,
          1
         ],
         "xaxis": "x",
         "y": [
          0.37,
          0.37,
          0.3,
          0.27,
          0.25,
          0.25,
          0.25,
          0.25,
          0.26,
          0.26
         ],
         "yaxis": "y"
        },
        {
         "hoverinfo": "x+y",
         "line": {
          "color": "blue",
          "dash": "dash",
          "width": 3
         },
         "mode": "lines",
         "name": "RMSE (test)",
         "showlegend": true,
         "type": "scatter",
         "x": [
          0.1,
          0.2,
          0.3,
          0.4,
          0.5,
          0.6,
          0.7,
          0.8,
          0.9,
          1
         ],
         "xaxis": "x",
         "y": [
          0.56,
          0.56,
          0.46,
          0.43,
          0.42,
          0.42,
          0.42,
          0.43,
          0.44,
          0.44
         ],
         "yaxis": "y"
        },
        {
         "hoverinfo": "x+y",
         "line": {
          "color": "red",
          "width": 3
         },
         "mode": "lines",
         "name": "R<sup>2</sup> (train)",
         "showlegend": true,
         "type": "scatter",
         "x": [
          0.1,
          0.2,
          0.3,
          0.4,
          0.5,
          0.6,
          0.7,
          0.8,
          0.9,
          1
         ],
         "xaxis": "x",
         "y": [
          0.95,
          0.95,
          0.97,
          0.97,
          0.97,
          0.97,
          0.98,
          0.98,
          0.97,
          0.97
         ],
         "yaxis": "y2"
        },
        {
         "hoverinfo": "x+y",
         "line": {
          "color": "red",
          "dash": "dash",
          "width": 3
         },
         "mode": "lines",
         "name": "R<sup>2</sup> (test)",
         "showlegend": true,
         "type": "scatter",
         "x": [
          0.1,
          0.2,
          0.3,
          0.4,
          0.5,
          0.6,
          0.7,
          0.8,
          0.9,
          1
         ],
         "xaxis": "x",
         "y": [
          0.83,
          0.83,
          0.88,
          0.9,
          0.9,
          0.9,
          0.9,
          0.9,
          0.9,
          0.89
         ],
         "yaxis": "y2"
        },
        {
         "hoverinfo": "x+y",
         "line": {
          "color": "green",
          "width": 3
         },
         "mode": "lines",
         "name": "MAE (train)",
         "showlegend": true,
         "type": "scatter",
         "x": [
          0.1,
          0.2,
          0.3,
          0.4,
          0.5,
          0.6,
          0.7,
          0.8,
          0.9,
          1
         ],
         "xaxis": "x",
         "y": [
          0.3,
          0.3,
          0.23,
          0.21,
          0.2,
          0.2,
          0.19,
          0.19,
          0.2,
          0.2
         ],
         "yaxis": "y"
        },
        {
         "hoverinfo": "x+y",
         "line": {
          "color": "green",
          "dash": "dash",
          "width": 3
         },
         "mode": "lines",
         "name": "MAE (test)",
         "showlegend": true,
         "type": "scatter",
         "x": [
          0.1,
          0.2,
          0.3,
          0.4,
          0.5,
          0.6,
          0.7,
          0.8,
          0.9,
          1
         ],
         "xaxis": "x",
         "y": [
          0.44,
          0.44,
          0.36,
          0.34,
          0.33,
          0.33,
          0.33,
          0.34,
          0.34,
          0.35
         ],
         "yaxis": "y"
        },
        {
         "hoverinfo": "text",
         "line": {
          "color": "blue",
          "width": 0.001
         },
         "mode": "lines",
         "name": "RMSE (train)",
         "showlegend": false,
         "text": [
          "",
          "",
          "",
          "",
          "",
          "",
          "",
          "",
          "",
          ""
         ],
         "type": "scatter",
         "x": [
          0.1,
          0.2,
          0.3,
          0.4,
          0.5,
          0.6,
          0.7,
          0.8,
          0.9,
          1
         ],
         "y": [
          0.43572242253259735,
          0.43572242253259735,
          0.3592184291225312,
          0.3357820348906184,
          0.3305215400986177,
          0.33052154009861767,
          0.3302474250283903,
          0.3352212871699858,
          0.3417430654052982,
          0.34752633288255674
         ]
        }
       ],
       "layout": {
        "font": {
         "color": "black",
         "family": "Arial"
        },
        "height": 500,
        "hoverlabel": {
         "namelength": -1
        },
        "hovermode": "x unified",
        "legend": {
         "bgcolor": "rgba(0,0,0,0.1)",
         "font": {
          "size": 26
         },
         "x": 0.5,
         "xanchor": "center",
         "y": 1,
         "yanchor": "top"
        },
        "margin": {
         "b": 0,
         "l": 0,
         "r": 0,
         "t": 0
        },
        "paper_bgcolor": "white",
        "plot_bgcolor": "white",
        "template": {
         "data": {
          "bar": [
           {
            "error_x": {
             "color": "#2a3f5f"
            },
            "error_y": {
             "color": "#2a3f5f"
            },
            "marker": {
             "line": {
              "color": "#E5ECF6",
              "width": 0.5
             },
             "pattern": {
              "fillmode": "overlay",
              "size": 10,
              "solidity": 0.2
             }
            },
            "type": "bar"
           }
          ],
          "barpolar": [
           {
            "marker": {
             "line": {
              "color": "#E5ECF6",
              "width": 0.5
             },
             "pattern": {
              "fillmode": "overlay",
              "size": 10,
              "solidity": 0.2
             }
            },
            "type": "barpolar"
           }
          ],
          "carpet": [
           {
            "aaxis": {
             "endlinecolor": "#2a3f5f",
             "gridcolor": "white",
             "linecolor": "white",
             "minorgridcolor": "white",
             "startlinecolor": "#2a3f5f"
            },
            "baxis": {
             "endlinecolor": "#2a3f5f",
             "gridcolor": "white",
             "linecolor": "white",
             "minorgridcolor": "white",
             "startlinecolor": "#2a3f5f"
            },
            "type": "carpet"
           }
          ],
          "choropleth": [
           {
            "colorbar": {
             "outlinewidth": 0,
             "ticks": ""
            },
            "type": "choropleth"
           }
          ],
          "contour": [
           {
            "colorbar": {
             "outlinewidth": 0,
             "ticks": ""
            },
            "colorscale": [
             [
              0,
              "#0d0887"
             ],
             [
              0.1111111111111111,
              "#46039f"
             ],
             [
              0.2222222222222222,
              "#7201a8"
             ],
             [
              0.3333333333333333,
              "#9c179e"
             ],
             [
              0.4444444444444444,
              "#bd3786"
             ],
             [
              0.5555555555555556,
              "#d8576b"
             ],
             [
              0.6666666666666666,
              "#ed7953"
             ],
             [
              0.7777777777777778,
              "#fb9f3a"
             ],
             [
              0.8888888888888888,
              "#fdca26"
             ],
             [
              1,
              "#f0f921"
             ]
            ],
            "type": "contour"
           }
          ],
          "contourcarpet": [
           {
            "colorbar": {
             "outlinewidth": 0,
             "ticks": ""
            },
            "type": "contourcarpet"
           }
          ],
          "heatmap": [
           {
            "colorbar": {
             "outlinewidth": 0,
             "ticks": ""
            },
            "colorscale": [
             [
              0,
              "#0d0887"
             ],
             [
              0.1111111111111111,
              "#46039f"
             ],
             [
              0.2222222222222222,
              "#7201a8"
             ],
             [
              0.3333333333333333,
              "#9c179e"
             ],
             [
              0.4444444444444444,
              "#bd3786"
             ],
             [
              0.5555555555555556,
              "#d8576b"
             ],
             [
              0.6666666666666666,
              "#ed7953"
             ],
             [
              0.7777777777777778,
              "#fb9f3a"
             ],
             [
              0.8888888888888888,
              "#fdca26"
             ],
             [
              1,
              "#f0f921"
             ]
            ],
            "type": "heatmap"
           }
          ],
          "heatmapgl": [
           {
            "colorbar": {
             "outlinewidth": 0,
             "ticks": ""
            },
            "colorscale": [
             [
              0,
              "#0d0887"
             ],
             [
              0.1111111111111111,
              "#46039f"
             ],
             [
              0.2222222222222222,
              "#7201a8"
             ],
             [
              0.3333333333333333,
              "#9c179e"
             ],
             [
              0.4444444444444444,
              "#bd3786"
             ],
             [
              0.5555555555555556,
              "#d8576b"
             ],
             [
              0.6666666666666666,
              "#ed7953"
             ],
             [
              0.7777777777777778,
              "#fb9f3a"
             ],
             [
              0.8888888888888888,
              "#fdca26"
             ],
             [
              1,
              "#f0f921"
             ]
            ],
            "type": "heatmapgl"
           }
          ],
          "histogram": [
           {
            "marker": {
             "pattern": {
              "fillmode": "overlay",
              "size": 10,
              "solidity": 0.2
             }
            },
            "type": "histogram"
           }
          ],
          "histogram2d": [
           {
            "colorbar": {
             "outlinewidth": 0,
             "ticks": ""
            },
            "colorscale": [
             [
              0,
              "#0d0887"
             ],
             [
              0.1111111111111111,
              "#46039f"
             ],
             [
              0.2222222222222222,
              "#7201a8"
             ],
             [
              0.3333333333333333,
              "#9c179e"
             ],
             [
              0.4444444444444444,
              "#bd3786"
             ],
             [
              0.5555555555555556,
              "#d8576b"
             ],
             [
              0.6666666666666666,
              "#ed7953"
             ],
             [
              0.7777777777777778,
              "#fb9f3a"
             ],
             [
              0.8888888888888888,
              "#fdca26"
             ],
             [
              1,
              "#f0f921"
             ]
            ],
            "type": "histogram2d"
           }
          ],
          "histogram2dcontour": [
           {
            "colorbar": {
             "outlinewidth": 0,
             "ticks": ""
            },
            "colorscale": [
             [
              0,
              "#0d0887"
             ],
             [
              0.1111111111111111,
              "#46039f"
             ],
             [
              0.2222222222222222,
              "#7201a8"
             ],
             [
              0.3333333333333333,
              "#9c179e"
             ],
             [
              0.4444444444444444,
              "#bd3786"
             ],
             [
              0.5555555555555556,
              "#d8576b"
             ],
             [
              0.6666666666666666,
              "#ed7953"
             ],
             [
              0.7777777777777778,
              "#fb9f3a"
             ],
             [
              0.8888888888888888,
              "#fdca26"
             ],
             [
              1,
              "#f0f921"
             ]
            ],
            "type": "histogram2dcontour"
           }
          ],
          "mesh3d": [
           {
            "colorbar": {
             "outlinewidth": 0,
             "ticks": ""
            },
            "type": "mesh3d"
           }
          ],
          "parcoords": [
           {
            "line": {
             "colorbar": {
              "outlinewidth": 0,
              "ticks": ""
             }
            },
            "type": "parcoords"
           }
          ],
          "pie": [
           {
            "automargin": true,
            "type": "pie"
           }
          ],
          "scatter": [
           {
            "fillpattern": {
             "fillmode": "overlay",
             "size": 10,
             "solidity": 0.2
            },
            "type": "scatter"
           }
          ],
          "scatter3d": [
           {
            "line": {
             "colorbar": {
              "outlinewidth": 0,
              "ticks": ""
             }
            },
            "marker": {
             "colorbar": {
              "outlinewidth": 0,
              "ticks": ""
             }
            },
            "type": "scatter3d"
           }
          ],
          "scattercarpet": [
           {
            "marker": {
             "colorbar": {
              "outlinewidth": 0,
              "ticks": ""
             }
            },
            "type": "scattercarpet"
           }
          ],
          "scattergeo": [
           {
            "marker": {
             "colorbar": {
              "outlinewidth": 0,
              "ticks": ""
             }
            },
            "type": "scattergeo"
           }
          ],
          "scattergl": [
           {
            "marker": {
             "colorbar": {
              "outlinewidth": 0,
              "ticks": ""
             }
            },
            "type": "scattergl"
           }
          ],
          "scattermapbox": [
           {
            "marker": {
             "colorbar": {
              "outlinewidth": 0,
              "ticks": ""
             }
            },
            "type": "scattermapbox"
           }
          ],
          "scatterpolar": [
           {
            "marker": {
             "colorbar": {
              "outlinewidth": 0,
              "ticks": ""
             }
            },
            "type": "scatterpolar"
           }
          ],
          "scatterpolargl": [
           {
            "marker": {
             "colorbar": {
              "outlinewidth": 0,
              "ticks": ""
             }
            },
            "type": "scatterpolargl"
           }
          ],
          "scatterternary": [
           {
            "marker": {
             "colorbar": {
              "outlinewidth": 0,
              "ticks": ""
             }
            },
            "type": "scatterternary"
           }
          ],
          "surface": [
           {
            "colorbar": {
             "outlinewidth": 0,
             "ticks": ""
            },
            "colorscale": [
             [
              0,
              "#0d0887"
             ],
             [
              0.1111111111111111,
              "#46039f"
             ],
             [
              0.2222222222222222,
              "#7201a8"
             ],
             [
              0.3333333333333333,
              "#9c179e"
             ],
             [
              0.4444444444444444,
              "#bd3786"
             ],
             [
              0.5555555555555556,
              "#d8576b"
             ],
             [
              0.6666666666666666,
              "#ed7953"
             ],
             [
              0.7777777777777778,
              "#fb9f3a"
             ],
             [
              0.8888888888888888,
              "#fdca26"
             ],
             [
              1,
              "#f0f921"
             ]
            ],
            "type": "surface"
           }
          ],
          "table": [
           {
            "cells": {
             "fill": {
              "color": "#EBF0F8"
             },
             "line": {
              "color": "white"
             }
            },
            "header": {
             "fill": {
              "color": "#C8D4E3"
             },
             "line": {
              "color": "white"
             }
            },
            "type": "table"
           }
          ]
         },
         "layout": {
          "annotationdefaults": {
           "arrowcolor": "#2a3f5f",
           "arrowhead": 0,
           "arrowwidth": 1
          },
          "autotypenumbers": "strict",
          "coloraxis": {
           "colorbar": {
            "outlinewidth": 0,
            "ticks": ""
           }
          },
          "colorscale": {
           "diverging": [
            [
             0,
             "#8e0152"
            ],
            [
             0.1,
             "#c51b7d"
            ],
            [
             0.2,
             "#de77ae"
            ],
            [
             0.3,
             "#f1b6da"
            ],
            [
             0.4,
             "#fde0ef"
            ],
            [
             0.5,
             "#f7f7f7"
            ],
            [
             0.6,
             "#e6f5d0"
            ],
            [
             0.7,
             "#b8e186"
            ],
            [
             0.8,
             "#7fbc41"
            ],
            [
             0.9,
             "#4d9221"
            ],
            [
             1,
             "#276419"
            ]
           ],
           "sequential": [
            [
             0,
             "#0d0887"
            ],
            [
             0.1111111111111111,
             "#46039f"
            ],
            [
             0.2222222222222222,
             "#7201a8"
            ],
            [
             0.3333333333333333,
             "#9c179e"
            ],
            [
             0.4444444444444444,
             "#bd3786"
            ],
            [
             0.5555555555555556,
             "#d8576b"
            ],
            [
             0.6666666666666666,
             "#ed7953"
            ],
            [
             0.7777777777777778,
             "#fb9f3a"
            ],
            [
             0.8888888888888888,
             "#fdca26"
            ],
            [
             1,
             "#f0f921"
            ]
           ],
           "sequentialminus": [
            [
             0,
             "#0d0887"
            ],
            [
             0.1111111111111111,
             "#46039f"
            ],
            [
             0.2222222222222222,
             "#7201a8"
            ],
            [
             0.3333333333333333,
             "#9c179e"
            ],
            [
             0.4444444444444444,
             "#bd3786"
            ],
            [
             0.5555555555555556,
             "#d8576b"
            ],
            [
             0.6666666666666666,
             "#ed7953"
            ],
            [
             0.7777777777777778,
             "#fb9f3a"
            ],
            [
             0.8888888888888888,
             "#fdca26"
            ],
            [
             1,
             "#f0f921"
            ]
           ]
          },
          "colorway": [
           "#636efa",
           "#EF553B",
           "#00cc96",
           "#ab63fa",
           "#FFA15A",
           "#19d3f3",
           "#FF6692",
           "#B6E880",
           "#FF97FF",
           "#FECB52"
          ],
          "font": {
           "color": "#2a3f5f"
          },
          "geo": {
           "bgcolor": "white",
           "lakecolor": "white",
           "landcolor": "#E5ECF6",
           "showlakes": true,
           "showland": true,
           "subunitcolor": "white"
          },
          "hoverlabel": {
           "align": "left"
          },
          "hovermode": "closest",
          "mapbox": {
           "style": "light"
          },
          "paper_bgcolor": "white",
          "plot_bgcolor": "#E5ECF6",
          "polar": {
           "angularaxis": {
            "gridcolor": "white",
            "linecolor": "white",
            "ticks": ""
           },
           "bgcolor": "#E5ECF6",
           "radialaxis": {
            "gridcolor": "white",
            "linecolor": "white",
            "ticks": ""
           }
          },
          "scene": {
           "xaxis": {
            "backgroundcolor": "#E5ECF6",
            "gridcolor": "white",
            "gridwidth": 2,
            "linecolor": "white",
            "showbackground": true,
            "ticks": "",
            "zerolinecolor": "white"
           },
           "yaxis": {
            "backgroundcolor": "#E5ECF6",
            "gridcolor": "white",
            "gridwidth": 2,
            "linecolor": "white",
            "showbackground": true,
            "ticks": "",
            "zerolinecolor": "white"
           },
           "zaxis": {
            "backgroundcolor": "#E5ECF6",
            "gridcolor": "white",
            "gridwidth": 2,
            "linecolor": "white",
            "showbackground": true,
            "ticks": "",
            "zerolinecolor": "white"
           }
          },
          "shapedefaults": {
           "line": {
            "color": "#2a3f5f"
           }
          },
          "ternary": {
           "aaxis": {
            "gridcolor": "white",
            "linecolor": "white",
            "ticks": ""
           },
           "baxis": {
            "gridcolor": "white",
            "linecolor": "white",
            "ticks": ""
           },
           "bgcolor": "#E5ECF6",
           "caxis": {
            "gridcolor": "white",
            "linecolor": "white",
            "ticks": ""
           }
          },
          "title": {
           "x": 0.05
          },
          "xaxis": {
           "automargin": true,
           "gridcolor": "white",
           "linecolor": "white",
           "ticks": "",
           "title": {
            "standoff": 15
           },
           "zerolinecolor": "white",
           "zerolinewidth": 2
          },
          "yaxis": {
           "automargin": true,
           "gridcolor": "white",
           "linecolor": "white",
           "ticks": "",
           "title": {
            "standoff": 15
           },
           "zerolinecolor": "white",
           "zerolinewidth": 2
          }
         }
        },
        "width": 809,
        "xaxis": {
         "anchor": "y",
         "domain": [
          0,
          0.94
         ],
         "gridcolor": "rgba(0,0,0,0.3)",
         "linecolor": "black",
         "linewidth": 3,
         "mirror": true,
         "range": [
          0.1,
          1
         ],
         "showgrid": false,
         "showline": true,
         "tickfont": {
          "size": 26
         },
         "ticklen": 6,
         "ticks": "outside",
         "tickwidth": 3,
         "title": {
          "font": {
           "size": 30
          },
          "text": "max_features"
         },
         "zeroline": false
        },
        "yaxis": {
         "anchor": "x",
         "color": "blue",
         "domain": [
          0,
          1
         ],
         "gridcolor": "rgba(0,0,0,0.3)",
         "linecolor": "black",
         "linewidth": 3,
         "showgrid": false,
         "showline": true,
         "tickfont": {
          "size": 26
         },
         "ticklen": 6,
         "ticks": "outside",
         "tickwidth": 3,
         "title": {
          "font": {
           "color": "blue",
           "size": 30
          },
          "text": "RMSE / eV"
         },
         "zeroline": false
        },
        "yaxis2": {
         "anchor": "x",
         "color": "red",
         "gridcolor": "rgba(0,0,0,0.3)",
         "linecolor": "black",
         "linewidth": 3,
         "overlaying": "y",
         "showgrid": false,
         "showline": true,
         "side": "right",
         "tickfont": {
          "size": 26
         },
         "ticklen": 6,
         "ticks": "outside",
         "tickwidth": 3,
         "title": {
          "font": {
           "color": "red",
           "size": 30
          },
          "text": "R<sup>2</sup>"
         },
         "zeroline": false
        }
       }
      },
      "text/html": [
       "<div>                            <div id=\"4fb5a488-46a9-4d95-8bb9-d61e96c25582\" class=\"plotly-graph-div\" style=\"height:500px; width:809px;\"></div>            <script type=\"text/javascript\">                require([\"plotly\"], function(Plotly) {                    window.PLOTLYENV=window.PLOTLYENV || {};                                    if (document.getElementById(\"4fb5a488-46a9-4d95-8bb9-d61e96c25582\")) {                    Plotly.newPlot(                        \"4fb5a488-46a9-4d95-8bb9-d61e96c25582\",                        [{\"hoverinfo\":\"x+y\",\"line\":{\"color\":\"blue\",\"width\":3},\"mode\":\"lines\",\"name\":\"RMSE (train)\",\"showlegend\":true,\"x\":[0.1,0.2,0.3,0.4,0.5,0.6,0.7,0.8,0.9,1.0],\"y\":[0.37,0.37,0.3,0.27,0.25,0.25,0.25,0.25,0.26,0.26],\"yaxis\":\"y\",\"type\":\"scatter\",\"xaxis\":\"x\"},{\"hoverinfo\":\"x+y\",\"line\":{\"color\":\"blue\",\"dash\":\"dash\",\"width\":3},\"mode\":\"lines\",\"name\":\"RMSE (test)\",\"showlegend\":true,\"x\":[0.1,0.2,0.3,0.4,0.5,0.6,0.7,0.8,0.9,1.0],\"y\":[0.56,0.56,0.46,0.43,0.42,0.42,0.42,0.43,0.44,0.44],\"yaxis\":\"y\",\"type\":\"scatter\",\"xaxis\":\"x\"},{\"hoverinfo\":\"x+y\",\"line\":{\"color\":\"red\",\"width\":3},\"mode\":\"lines\",\"name\":\"R\\u003csup\\u003e2\\u003c\\u002fsup\\u003e (train)\",\"showlegend\":true,\"x\":[0.1,0.2,0.3,0.4,0.5,0.6,0.7,0.8,0.9,1.0],\"y\":[0.95,0.95,0.97,0.97,0.97,0.97,0.98,0.98,0.97,0.97],\"yaxis\":\"y2\",\"type\":\"scatter\",\"xaxis\":\"x\"},{\"hoverinfo\":\"x+y\",\"line\":{\"color\":\"red\",\"dash\":\"dash\",\"width\":3},\"mode\":\"lines\",\"name\":\"R\\u003csup\\u003e2\\u003c\\u002fsup\\u003e (test)\",\"showlegend\":true,\"x\":[0.1,0.2,0.3,0.4,0.5,0.6,0.7,0.8,0.9,1.0],\"y\":[0.83,0.83,0.88,0.9,0.9,0.9,0.9,0.9,0.9,0.89],\"yaxis\":\"y2\",\"type\":\"scatter\",\"xaxis\":\"x\"},{\"hoverinfo\":\"x+y\",\"line\":{\"color\":\"green\",\"width\":3},\"mode\":\"lines\",\"name\":\"MAE (train)\",\"showlegend\":true,\"x\":[0.1,0.2,0.3,0.4,0.5,0.6,0.7,0.8,0.9,1.0],\"y\":[0.3,0.3,0.23,0.21,0.2,0.2,0.19,0.19,0.2,0.2],\"yaxis\":\"y\",\"type\":\"scatter\",\"xaxis\":\"x\"},{\"hoverinfo\":\"x+y\",\"line\":{\"color\":\"green\",\"dash\":\"dash\",\"width\":3},\"mode\":\"lines\",\"name\":\"MAE (test)\",\"showlegend\":true,\"x\":[0.1,0.2,0.3,0.4,0.5,0.6,0.7,0.8,0.9,1.0],\"y\":[0.44,0.44,0.36,0.34,0.33,0.33,0.33,0.34,0.34,0.35],\"yaxis\":\"y\",\"type\":\"scatter\",\"xaxis\":\"x\"},{\"hoverinfo\":\"text\",\"line\":{\"color\":\"blue\",\"width\":0.001},\"mode\":\"lines\",\"name\":\"RMSE (train)\",\"showlegend\":false,\"text\":[\"\",\"\",\"\",\"\",\"\",\"\",\"\",\"\",\"\",\"\"],\"x\":[0.1,0.2,0.3,0.4,0.5,0.6,0.7,0.8,0.9,1.0],\"y\":[0.43572242253259735,0.43572242253259735,0.3592184291225312,0.3357820348906184,0.3305215400986177,0.33052154009861767,0.3302474250283903,0.3352212871699858,0.3417430654052982,0.34752633288255674],\"type\":\"scatter\"}],                        {\"template\":{\"data\":{\"histogram2dcontour\":[{\"type\":\"histogram2dcontour\",\"colorbar\":{\"outlinewidth\":0,\"ticks\":\"\"},\"colorscale\":[[0.0,\"#0d0887\"],[0.1111111111111111,\"#46039f\"],[0.2222222222222222,\"#7201a8\"],[0.3333333333333333,\"#9c179e\"],[0.4444444444444444,\"#bd3786\"],[0.5555555555555556,\"#d8576b\"],[0.6666666666666666,\"#ed7953\"],[0.7777777777777778,\"#fb9f3a\"],[0.8888888888888888,\"#fdca26\"],[1.0,\"#f0f921\"]]}],\"choropleth\":[{\"type\":\"choropleth\",\"colorbar\":{\"outlinewidth\":0,\"ticks\":\"\"}}],\"histogram2d\":[{\"type\":\"histogram2d\",\"colorbar\":{\"outlinewidth\":0,\"ticks\":\"\"},\"colorscale\":[[0.0,\"#0d0887\"],[0.1111111111111111,\"#46039f\"],[0.2222222222222222,\"#7201a8\"],[0.3333333333333333,\"#9c179e\"],[0.4444444444444444,\"#bd3786\"],[0.5555555555555556,\"#d8576b\"],[0.6666666666666666,\"#ed7953\"],[0.7777777777777778,\"#fb9f3a\"],[0.8888888888888888,\"#fdca26\"],[1.0,\"#f0f921\"]]}],\"heatmap\":[{\"type\":\"heatmap\",\"colorbar\":{\"outlinewidth\":0,\"ticks\":\"\"},\"colorscale\":[[0.0,\"#0d0887\"],[0.1111111111111111,\"#46039f\"],[0.2222222222222222,\"#7201a8\"],[0.3333333333333333,\"#9c179e\"],[0.4444444444444444,\"#bd3786\"],[0.5555555555555556,\"#d8576b\"],[0.6666666666666666,\"#ed7953\"],[0.7777777777777778,\"#fb9f3a\"],[0.8888888888888888,\"#fdca26\"],[1.0,\"#f0f921\"]]}],\"heatmapgl\":[{\"type\":\"heatmapgl\",\"colorbar\":{\"outlinewidth\":0,\"ticks\":\"\"},\"colorscale\":[[0.0,\"#0d0887\"],[0.1111111111111111,\"#46039f\"],[0.2222222222222222,\"#7201a8\"],[0.3333333333333333,\"#9c179e\"],[0.4444444444444444,\"#bd3786\"],[0.5555555555555556,\"#d8576b\"],[0.6666666666666666,\"#ed7953\"],[0.7777777777777778,\"#fb9f3a\"],[0.8888888888888888,\"#fdca26\"],[1.0,\"#f0f921\"]]}],\"contourcarpet\":[{\"type\":\"contourcarpet\",\"colorbar\":{\"outlinewidth\":0,\"ticks\":\"\"}}],\"contour\":[{\"type\":\"contour\",\"colorbar\":{\"outlinewidth\":0,\"ticks\":\"\"},\"colorscale\":[[0.0,\"#0d0887\"],[0.1111111111111111,\"#46039f\"],[0.2222222222222222,\"#7201a8\"],[0.3333333333333333,\"#9c179e\"],[0.4444444444444444,\"#bd3786\"],[0.5555555555555556,\"#d8576b\"],[0.6666666666666666,\"#ed7953\"],[0.7777777777777778,\"#fb9f3a\"],[0.8888888888888888,\"#fdca26\"],[1.0,\"#f0f921\"]]}],\"surface\":[{\"type\":\"surface\",\"colorbar\":{\"outlinewidth\":0,\"ticks\":\"\"},\"colorscale\":[[0.0,\"#0d0887\"],[0.1111111111111111,\"#46039f\"],[0.2222222222222222,\"#7201a8\"],[0.3333333333333333,\"#9c179e\"],[0.4444444444444444,\"#bd3786\"],[0.5555555555555556,\"#d8576b\"],[0.6666666666666666,\"#ed7953\"],[0.7777777777777778,\"#fb9f3a\"],[0.8888888888888888,\"#fdca26\"],[1.0,\"#f0f921\"]]}],\"mesh3d\":[{\"type\":\"mesh3d\",\"colorbar\":{\"outlinewidth\":0,\"ticks\":\"\"}}],\"scatter\":[{\"fillpattern\":{\"fillmode\":\"overlay\",\"size\":10,\"solidity\":0.2},\"type\":\"scatter\"}],\"parcoords\":[{\"type\":\"parcoords\",\"line\":{\"colorbar\":{\"outlinewidth\":0,\"ticks\":\"\"}}}],\"scatterpolargl\":[{\"type\":\"scatterpolargl\",\"marker\":{\"colorbar\":{\"outlinewidth\":0,\"ticks\":\"\"}}}],\"bar\":[{\"error_x\":{\"color\":\"#2a3f5f\"},\"error_y\":{\"color\":\"#2a3f5f\"},\"marker\":{\"line\":{\"color\":\"#E5ECF6\",\"width\":0.5},\"pattern\":{\"fillmode\":\"overlay\",\"size\":10,\"solidity\":0.2}},\"type\":\"bar\"}],\"scattergeo\":[{\"type\":\"scattergeo\",\"marker\":{\"colorbar\":{\"outlinewidth\":0,\"ticks\":\"\"}}}],\"scatterpolar\":[{\"type\":\"scatterpolar\",\"marker\":{\"colorbar\":{\"outlinewidth\":0,\"ticks\":\"\"}}}],\"histogram\":[{\"marker\":{\"pattern\":{\"fillmode\":\"overlay\",\"size\":10,\"solidity\":0.2}},\"type\":\"histogram\"}],\"scattergl\":[{\"type\":\"scattergl\",\"marker\":{\"colorbar\":{\"outlinewidth\":0,\"ticks\":\"\"}}}],\"scatter3d\":[{\"type\":\"scatter3d\",\"line\":{\"colorbar\":{\"outlinewidth\":0,\"ticks\":\"\"}},\"marker\":{\"colorbar\":{\"outlinewidth\":0,\"ticks\":\"\"}}}],\"scattermapbox\":[{\"type\":\"scattermapbox\",\"marker\":{\"colorbar\":{\"outlinewidth\":0,\"ticks\":\"\"}}}],\"scatterternary\":[{\"type\":\"scatterternary\",\"marker\":{\"colorbar\":{\"outlinewidth\":0,\"ticks\":\"\"}}}],\"scattercarpet\":[{\"type\":\"scattercarpet\",\"marker\":{\"colorbar\":{\"outlinewidth\":0,\"ticks\":\"\"}}}],\"carpet\":[{\"aaxis\":{\"endlinecolor\":\"#2a3f5f\",\"gridcolor\":\"white\",\"linecolor\":\"white\",\"minorgridcolor\":\"white\",\"startlinecolor\":\"#2a3f5f\"},\"baxis\":{\"endlinecolor\":\"#2a3f5f\",\"gridcolor\":\"white\",\"linecolor\":\"white\",\"minorgridcolor\":\"white\",\"startlinecolor\":\"#2a3f5f\"},\"type\":\"carpet\"}],\"table\":[{\"cells\":{\"fill\":{\"color\":\"#EBF0F8\"},\"line\":{\"color\":\"white\"}},\"header\":{\"fill\":{\"color\":\"#C8D4E3\"},\"line\":{\"color\":\"white\"}},\"type\":\"table\"}],\"barpolar\":[{\"marker\":{\"line\":{\"color\":\"#E5ECF6\",\"width\":0.5},\"pattern\":{\"fillmode\":\"overlay\",\"size\":10,\"solidity\":0.2}},\"type\":\"barpolar\"}],\"pie\":[{\"automargin\":true,\"type\":\"pie\"}]},\"layout\":{\"autotypenumbers\":\"strict\",\"colorway\":[\"#636efa\",\"#EF553B\",\"#00cc96\",\"#ab63fa\",\"#FFA15A\",\"#19d3f3\",\"#FF6692\",\"#B6E880\",\"#FF97FF\",\"#FECB52\"],\"font\":{\"color\":\"#2a3f5f\"},\"hovermode\":\"closest\",\"hoverlabel\":{\"align\":\"left\"},\"paper_bgcolor\":\"white\",\"plot_bgcolor\":\"#E5ECF6\",\"polar\":{\"bgcolor\":\"#E5ECF6\",\"angularaxis\":{\"gridcolor\":\"white\",\"linecolor\":\"white\",\"ticks\":\"\"},\"radialaxis\":{\"gridcolor\":\"white\",\"linecolor\":\"white\",\"ticks\":\"\"}},\"ternary\":{\"bgcolor\":\"#E5ECF6\",\"aaxis\":{\"gridcolor\":\"white\",\"linecolor\":\"white\",\"ticks\":\"\"},\"baxis\":{\"gridcolor\":\"white\",\"linecolor\":\"white\",\"ticks\":\"\"},\"caxis\":{\"gridcolor\":\"white\",\"linecolor\":\"white\",\"ticks\":\"\"}},\"coloraxis\":{\"colorbar\":{\"outlinewidth\":0,\"ticks\":\"\"}},\"colorscale\":{\"sequential\":[[0.0,\"#0d0887\"],[0.1111111111111111,\"#46039f\"],[0.2222222222222222,\"#7201a8\"],[0.3333333333333333,\"#9c179e\"],[0.4444444444444444,\"#bd3786\"],[0.5555555555555556,\"#d8576b\"],[0.6666666666666666,\"#ed7953\"],[0.7777777777777778,\"#fb9f3a\"],[0.8888888888888888,\"#fdca26\"],[1.0,\"#f0f921\"]],\"sequentialminus\":[[0.0,\"#0d0887\"],[0.1111111111111111,\"#46039f\"],[0.2222222222222222,\"#7201a8\"],[0.3333333333333333,\"#9c179e\"],[0.4444444444444444,\"#bd3786\"],[0.5555555555555556,\"#d8576b\"],[0.6666666666666666,\"#ed7953\"],[0.7777777777777778,\"#fb9f3a\"],[0.8888888888888888,\"#fdca26\"],[1.0,\"#f0f921\"]],\"diverging\":[[0,\"#8e0152\"],[0.1,\"#c51b7d\"],[0.2,\"#de77ae\"],[0.3,\"#f1b6da\"],[0.4,\"#fde0ef\"],[0.5,\"#f7f7f7\"],[0.6,\"#e6f5d0\"],[0.7,\"#b8e186\"],[0.8,\"#7fbc41\"],[0.9,\"#4d9221\"],[1,\"#276419\"]]},\"xaxis\":{\"gridcolor\":\"white\",\"linecolor\":\"white\",\"ticks\":\"\",\"title\":{\"standoff\":15},\"zerolinecolor\":\"white\",\"automargin\":true,\"zerolinewidth\":2},\"yaxis\":{\"gridcolor\":\"white\",\"linecolor\":\"white\",\"ticks\":\"\",\"title\":{\"standoff\":15},\"zerolinecolor\":\"white\",\"automargin\":true,\"zerolinewidth\":2},\"scene\":{\"xaxis\":{\"backgroundcolor\":\"#E5ECF6\",\"gridcolor\":\"white\",\"linecolor\":\"white\",\"showbackground\":true,\"ticks\":\"\",\"zerolinecolor\":\"white\",\"gridwidth\":2},\"yaxis\":{\"backgroundcolor\":\"#E5ECF6\",\"gridcolor\":\"white\",\"linecolor\":\"white\",\"showbackground\":true,\"ticks\":\"\",\"zerolinecolor\":\"white\",\"gridwidth\":2},\"zaxis\":{\"backgroundcolor\":\"#E5ECF6\",\"gridcolor\":\"white\",\"linecolor\":\"white\",\"showbackground\":true,\"ticks\":\"\",\"zerolinecolor\":\"white\",\"gridwidth\":2}},\"shapedefaults\":{\"line\":{\"color\":\"#2a3f5f\"}},\"annotationdefaults\":{\"arrowcolor\":\"#2a3f5f\",\"arrowhead\":0,\"arrowwidth\":1},\"geo\":{\"bgcolor\":\"white\",\"landcolor\":\"#E5ECF6\",\"subunitcolor\":\"white\",\"showland\":true,\"showlakes\":true,\"lakecolor\":\"white\"},\"title\":{\"x\":0.05},\"mapbox\":{\"style\":\"light\"}}},\"xaxis\":{\"anchor\":\"y\",\"domain\":[0.0,0.94],\"title\":{\"font\":{\"size\":30},\"text\":\"max_features\"},\"tickfont\":{\"size\":26},\"gridcolor\":\"rgba(0,0,0,0.3)\",\"linecolor\":\"black\",\"linewidth\":3,\"mirror\":true,\"range\":[0.1,1.0],\"showgrid\":false,\"showline\":true,\"ticklen\":6,\"ticks\":\"outside\",\"tickwidth\":3,\"zeroline\":false},\"yaxis\":{\"anchor\":\"x\",\"domain\":[0.0,1.0],\"title\":{\"font\":{\"size\":30,\"color\":\"blue\"},\"text\":\"RMSE \\u002f eV\"},\"tickfont\":{\"size\":26},\"color\":\"blue\",\"gridcolor\":\"rgba(0,0,0,0.3)\",\"linecolor\":\"black\",\"linewidth\":3,\"showgrid\":false,\"showline\":true,\"ticklen\":6,\"ticks\":\"outside\",\"tickwidth\":3,\"zeroline\":false},\"yaxis2\":{\"anchor\":\"x\",\"overlaying\":\"y\",\"side\":\"right\",\"title\":{\"font\":{\"size\":30,\"color\":\"red\"},\"text\":\"R\\u003csup\\u003e2\\u003c\\u002fsup\\u003e\"},\"tickfont\":{\"size\":26},\"color\":\"red\",\"gridcolor\":\"rgba(0,0,0,0.3)\",\"linecolor\":\"black\",\"linewidth\":3,\"showgrid\":false,\"showline\":true,\"ticklen\":6,\"ticks\":\"outside\",\"tickwidth\":3,\"zeroline\":false},\"font\":{\"color\":\"black\",\"family\":\"Arial\"},\"hoverlabel\":{\"namelength\":-1},\"legend\":{\"font\":{\"size\":26},\"bgcolor\":\"rgba(0,0,0,0.1)\",\"x\":0.5,\"xanchor\":\"center\",\"y\":1,\"yanchor\":\"top\"},\"margin\":{\"b\":0,\"l\":0,\"r\":0,\"t\":0},\"height\":500,\"hovermode\":\"x unified\",\"paper_bgcolor\":\"white\",\"plot_bgcolor\":\"white\",\"width\":809},                        {\"responsive\": true}                    ).then(function(){\n",
       "                            \n",
       "var gd = document.getElementById('4fb5a488-46a9-4d95-8bb9-d61e96c25582');\n",
       "var x = new MutationObserver(function (mutations, observer) {{\n",
       "        var display = window.getComputedStyle(gd).display;\n",
       "        if (!display || display === 'none') {{\n",
       "            console.log([gd, 'removed!']);\n",
       "            Plotly.purge(gd);\n",
       "            observer.disconnect();\n",
       "        }}\n",
       "}});\n",
       "\n",
       "// Listen for the removal of the full notebook cells\n",
       "var notebookContainer = gd.closest('#notebook-container');\n",
       "if (notebookContainer) {{\n",
       "    x.observe(notebookContainer, {childList: true});\n",
       "}}\n",
       "\n",
       "// Listen for the clearing of the current output cell\n",
       "var outputEl = gd.closest('.output');\n",
       "if (outputEl) {{\n",
       "    x.observe(outputEl, {childList: true});\n",
       "}}\n",
       "\n",
       "                        })                };                });            </script>        </div>"
      ]
     },
     "metadata": {},
     "output_type": "display_data"
    }
   ],
   "source": [
    "rf_dict = {\n",
    "    \"bootstrap\": True,\n",
    "    \"ccp_alpha\": 0.0,\n",
    "    \"criterion\": \"squared_error\",\n",
    "    \"max_depth\":8, #8\n",
    "    #\"max_features\": 0.4,#0.4\n",
    "    \"max_leaf_nodes\": None,\n",
    "    \"max_samples\":None,\n",
    "    \"min_impurity_decrease\": 0.0,\n",
    "    # \"min_impurity_split\": None,\n",
    "    \"min_samples_leaf\": 1,\n",
    "    \"min_samples_split\": 2,\n",
    "    \"min_weight_fraction_leaf\": 0.0,\n",
    "    \"n_estimators\": 128,#128,\n",
    "    \"n_jobs\": -1,\n",
    "    \"oob_score\": False,\n",
    "    \"random_state\": 0,\n",
    "    \"verbose\": 0,\n",
    "    \"warm_start\": False,\n",
    "}\n",
    "\n",
    "\n",
    "rf_estimator_dict = vary_ml_param(\n",
    "    df_in=Edft_balanced_df_kfold,\n",
    "    ml_base_model=RandomForestRegressor(**rf_dict),\n",
    "    ml_features=selected_features,\n",
    "    ml_targets=target,\n",
    "    ml_param_dict={'max_features': np.linspace(0.1, 1, 10)},\n",
    "    verbose=False,  \n",
    "    color_setup=color_setup \n",
    "    )\n",
    "\n",
    "\n",
    "rf_estimator_dict['error_fig'].show()"
   ]
  }
 ],
 "metadata": {
  "kernelspec": {
   "display_name": "bms",
   "language": "python",
   "name": "python3"
  },
  "language_info": {
   "codemirror_mode": {
    "name": "ipython",
    "version": 3
   },
   "file_extension": ".py",
   "mimetype": "text/x-python",
   "name": "python",
   "nbconvert_exporter": "python",
   "pygments_lexer": "ipython3",
   "version": "3.10.13"
  }
 },
 "nbformat": 4,
 "nbformat_minor": 2
}
