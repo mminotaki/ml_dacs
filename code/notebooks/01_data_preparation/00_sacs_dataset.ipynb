{
 "cells": [
  {
   "cell_type": "markdown",
   "metadata": {},
   "source": [
    "# 1.0 Importing the SACs on doped carbon dataset\n"
   ]
  },
  {
   "cell_type": "markdown",
   "metadata": {},
   "source": [
    "## Notebook Setup: Imports and Configuration\n"
   ]
  },
  {
   "cell_type": "code",
   "execution_count": null,
   "metadata": {},
   "outputs": [],
   "source": [
    "# ─────────────────────────────\n",
    "# Standard Library Imports\n",
    "# ─────────────────────────────\n",
    "import os\n",
    "import sys\n",
    "\n",
    "# ─────────────────────────────\n",
    "# Adjust sys.path for Local Modules\n",
    "# ─────────────────────────────\n",
    "src_dir = os.path.abspath(os.path.join('..', '..', 'src'))\n",
    "if src_dir not in sys.path:\n",
    "    sys.path.append(src_dir)\n",
    "\n",
    "# ─────────────────────────────\n",
    "# Project-Specific Imports\n",
    "# ─────────────────────────────\n",
    "from settings import *\n",
    "from utils import *\n",
    "from vis import *"
   ]
  },
  {
   "cell_type": "markdown",
   "metadata": {},
   "source": [
    "## Define the input and outpout directories"
   ]
  },
  {
   "cell_type": "code",
   "execution_count": null,
   "metadata": {},
   "outputs": [],
   "source": [
    "# Define input and output paths\n",
    "rfr_ads_in_dir = '../../../data/processed/rfr_logocv_in'\n",
    "rfr_ads_out_dir = '../../../data/external/rfr_logocv_out'"
   ]
  },
  {
   "cell_type": "markdown",
   "metadata": {},
   "source": [
    "\n",
    "This cell loads RFR LOOCV results from CSV files.\n",
    "\n",
    "It filters out unwanted entries (with `Hetatom` = P or S and training samples), merges all filtered data into a single DataFrame, creates a new `sac_cavity` feature, and saves the result to disk.\n"
   ]
  },
  {
   "cell_type": "code",
   "execution_count": null,
   "metadata": {},
   "outputs": [],
   "source": [
    "# List of dataframe names\n",
    "dataframe_names = [\n",
    "    'Ag_df_logocv_rfr', 'Au_df_logocv_rfr', 'Cd_df_logocv_rfr', 'Co_df_logocv_rfr', 'Cu_df_logocv_rfr', \n",
    "    'Fe_df_logocv_rfr', 'Ir_df_logocv_rfr', 'Ni_df_logocv_rfr', 'Os_df_logocv_rfr', 'Pd_df_logocv_rfr', \n",
    "    'Pt_df_logocv_rfr', 'Rh_df_logocv_rfr', 'Ru_df_logocv_rfr', 'Zn_df_logocv_rfr'\n",
    "]\n",
    "\n",
    "# Dictionary to hold the original dataframes\n",
    "dataframes = {}\n",
    "\n",
    "# Dictionary to hold the filtered dataframes\n",
    "filtered_dataframes = {}\n",
    "\n",
    "# Loop through the dataframe names, read and store them in the dictionary\n",
    "for name in dataframe_names:\n",
    "    file_path = os.path.join(rfr_ads_in_dir, f'{name}.csv')\n",
    "    df = pd.read_csv(file_path)\n",
    "    dataframes[name] = df\n",
    "\n",
    "# Function to filter dataframes\n",
    "def filter_df(dataframe):\n",
    "    return dataframe[~dataframe['Hetatom'].isin(['P', 'S']) & (dataframe['Train_00000'] == False)]\n",
    "\n",
    "# Apply the filtering and save the filtered dataframes in the dictionary\n",
    "for name, df in dataframes.items():\n",
    "    df_filtered = filter_df(df)\n",
    "    filtered_dataframes[name] = df_filtered\n",
    "\n",
    "# Concatenate all filtered dataframes into one\n",
    "rfr_mlogocv_df = pd.concat(filtered_dataframes.values(), ignore_index=True)\n",
    "\n",
    "rfr_mlogocv_df['sac_cavity'] = rfr_mlogocv_df['Hetatom'].str[:2] + '_' + rfr_mlogocv_df['Cavity']\n",
    "\n",
    "# Optionally save the merged dataframe to a new CSV file\n",
    "rfr_mlogocv_df.to_csv(os.path.join(rfr_ads_out_dir, 'rfr_mlogocv.csv'), index=False)\n"
   ]
  },
  {
   "cell_type": "markdown",
   "metadata": {},
   "source": [
    "#  SACs on N-doped carbon dataset overview and summary statistics"
   ]
  },
  {
   "cell_type": "markdown",
   "metadata": {},
   "source": [
    "### Dataset Column Descriptions\n",
    "\n",
    "| Column Name     | Description                                                                 |\n",
    "|------------------|-----------------------------------------------------------------------------|\n",
    "| `System`         | Unique identifier for each system (adsorbate–surface combination).          |\n",
    "| `Metal`          | The central transition metal involved in the catalytic system.              |\n",
    "| `Hetatom`        | The heteroatom (e.g., N, O, P, S) involved in the adsorbate structure.      |\n",
    "| `Cavity`         | Specific site or configuration name where the adsorbate binds.              |\n",
    "| `Base_Cavity`    | Generalized or canonical version of the cavity name.                        |\n",
    "| `y`              | Target DFT adsorption energy value (in eV).                                 |\n",
    "| `Pred_00000`     | Predicted adsorption energy from the machine learning model.                |\n",
    "| `Train_00000`    | Boolean flag indicating whether the sample was used in the training set.    |\n",
    "| `sac_cavity`     | Combined feature: heteroatom type and cavity (e.g., `N_ontop`).             |\n"
   ]
  },
  {
   "cell_type": "code",
   "execution_count": null,
   "metadata": {},
   "outputs": [],
   "source": [
    "rfr_mlogocv_df.shape"
   ]
  },
  {
   "cell_type": "code",
   "execution_count": null,
   "metadata": {},
   "outputs": [],
   "source": [
    "print(\", \".join(rfr_mlogocv_df.columns))"
   ]
  },
  {
   "cell_type": "code",
   "execution_count": null,
   "metadata": {},
   "outputs": [],
   "source": [
    "rfr_mlogocv_df.sample()"
   ]
  },
  {
   "cell_type": "code",
   "execution_count": null,
   "metadata": {},
   "outputs": [],
   "source": [
    "rfr_mlogocv_df.describe().T.round(2)"
   ]
  },
  {
   "cell_type": "code",
   "execution_count": null,
   "metadata": {},
   "outputs": [],
   "source": [
    "rfr_mlogocv_df.isnull().sum()"
   ]
  },
  {
   "cell_type": "code",
   "execution_count": null,
   "metadata": {},
   "outputs": [],
   "source": [
    "# Selecting specific cavity\n",
    "selected_row = rfr_mlogocv_df.loc[rfr_mlogocv_df['System'] == 'Fe_N_din4']\n",
    "selected_row\n"
   ]
  },
  {
   "cell_type": "markdown",
   "metadata": {},
   "source": [
    "## Boxplot for adsorption energy by metal for SACs on N-doped carbon"
   ]
  },
  {
   "cell_type": "code",
   "execution_count": null,
   "metadata": {},
   "outputs": [],
   "source": [
    "fig = plot_categorical_energy_boxplot(\n",
    "    rfr_mlogocv_df,\n",
    "    x_col='Metal',\n",
    "    color_map=metal_colors,\n",
    "    y_col='y',\n",
    "    hover_col='System',\n",
    "    save_dir=\"../../../data/figures/sacs_eda\",\n",
    "    x_title='Metal',\n",
    "    y_title='E_dft_SAC Energy'\n",
    ")\n",
    "fig.show()\n"
   ]
  },
  {
   "cell_type": "markdown",
   "metadata": {},
   "source": [
    "## Boxplot for adsorption energy by cavity type for SACs on N-doped carbon"
   ]
  },
  {
   "cell_type": "code",
   "execution_count": null,
   "metadata": {},
   "outputs": [],
   "source": [
    "fig = plot_categorical_energy_boxplot(\n",
    "    rfr_mlogocv_df,\n",
    "    x_col='Cavity',\n",
    "    color_map=cavity_colors_sacs,\n",
    "    y_col='y',\n",
    "    hover_col='System',\n",
    "    save_dir=\"../../../data/figures/sacs_eda\",\n",
    "    x_title='Cavity',\n",
    "    y_title='E_dft_M1M2 Energy',\n",
    "    file_name='cavity_energy_boxplot'\n",
    ")\n",
    "fig.show()\n",
    "\n"
   ]
  }
 ],
 "metadata": {
  "kernelspec": {
   "display_name": "bms",
   "language": "python",
   "name": "python3"
  },
  "language_info": {
   "codemirror_mode": {
    "name": "ipython",
    "version": 3
   },
   "file_extension": ".py",
   "mimetype": "text/x-python",
   "name": "python",
   "nbconvert_exporter": "python",
   "pygments_lexer": "ipython3",
   "version": "3.10.13"
  }
 },
 "nbformat": 4,
 "nbformat_minor": 2
}
