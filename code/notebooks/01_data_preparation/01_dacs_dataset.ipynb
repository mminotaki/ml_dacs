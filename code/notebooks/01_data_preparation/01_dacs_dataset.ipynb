{
 "cells": [
  {
   "cell_type": "markdown",
   "metadata": {},
   "source": [
    "# 0.1 Importing the DACs on N-doped carbon dataset"
   ]
  },
  {
   "cell_type": "markdown",
   "metadata": {},
   "source": [
    "## Notebook Setup: Imports and Configuration\n"
   ]
  },
  {
   "cell_type": "code",
   "execution_count": null,
   "metadata": {},
   "outputs": [],
   "source": [
    "# ─────────────────────────────\n",
    "# Standard Library Imports\n",
    "# ─────────────────────────────\n",
    "import os\n",
    "import sys\n",
    "\n",
    "# ─────────────────────────────\n",
    "# Adjust sys.path for Local Modules\n",
    "# ─────────────────────────────\n",
    "src_dir = os.path.abspath(os.path.join('..', '..', 'src'))\n",
    "if src_dir not in sys.path:\n",
    "    sys.path.append(src_dir)\n",
    "\n",
    "# ─────────────────────────────\n",
    "# Project-Specific Imports\n",
    "# ─────────────────────────────\n",
    "from settings import *\n",
    "from utils import *\n",
    "from vis import *"
   ]
  },
  {
   "cell_type": "markdown",
   "metadata": {},
   "source": [
    "## Import the DACs on N-doped carbon data"
   ]
  },
  {
   "cell_type": "code",
   "execution_count": null,
   "metadata": {},
   "outputs": [],
   "source": [
    "# Define input and output directories\n",
    "dft_dir = '../../../data/raw'\n",
    "dacs_energies_out_dir = '../../../data/external/dacs_energies_out'"
   ]
  },
  {
   "cell_type": "code",
   "execution_count": null,
   "metadata": {},
   "outputs": [],
   "source": [
    "# Load cohesive energy data for individual metals\n",
    "metal_df = pd.read_csv(os.path.join(dft_dir, 'metal_data.csv'))\n",
    "\n",
    "# Load DFT total energy data for various DACs on N-doped carbon structures\n",
    "total_energy_dacs_df = pd.read_csv(os.path.join(dft_dir, 'total_energy_dacs.csv'))\n",
    "\n",
    "# Load DFT total energy data for pristine DACs local coordination environment (no adsorbates)\n",
    "total_energy_sacs_dc_prist_df = pd.read_csv(os.path.join(dft_dir, 'total_energy_sacs_dc_prist.csv'))\n",
    "\n",
    "# Load DFT total energy data for single metal on DACs local coordination\n",
    "total_energy_sacs_df = pd.read_csv(os.path.join(dft_dir, 'total_energy_sacs_dc.csv'))\n"
   ]
  },
  {
   "cell_type": "markdown",
   "metadata": {},
   "source": [
    "### Cohesive metal dataset"
   ]
  },
  {
   "cell_type": "code",
   "execution_count": null,
   "metadata": {},
   "outputs": [],
   "source": [
    "metal_df.shape"
   ]
  },
  {
   "cell_type": "code",
   "execution_count": null,
   "metadata": {},
   "outputs": [],
   "source": [
    "print(\", \".join(metal_df.columns))"
   ]
  },
  {
   "cell_type": "code",
   "execution_count": null,
   "metadata": {},
   "outputs": [],
   "source": [
    "metal_df.sample()"
   ]
  },
  {
   "cell_type": "code",
   "execution_count": null,
   "metadata": {},
   "outputs": [],
   "source": [
    "metal_df.describe().T.round(2)\n"
   ]
  },
  {
   "cell_type": "markdown",
   "metadata": {},
   "source": [
    "### DACs on N-doped carbon total energy dataset"
   ]
  },
  {
   "cell_type": "code",
   "execution_count": null,
   "metadata": {},
   "outputs": [],
   "source": [
    "total_energy_dacs_df.shape"
   ]
  },
  {
   "cell_type": "code",
   "execution_count": null,
   "metadata": {},
   "outputs": [],
   "source": [
    "print(\", \".join(total_energy_dacs_df.columns))"
   ]
  },
  {
   "cell_type": "code",
   "execution_count": null,
   "metadata": {},
   "outputs": [],
   "source": [
    "total_energy_dacs_df.sample()"
   ]
  },
  {
   "cell_type": "code",
   "execution_count": null,
   "metadata": {},
   "outputs": [],
   "source": [
    "total_energy_dacs_df.head() \n"
   ]
  },
  {
   "cell_type": "code",
   "execution_count": null,
   "metadata": {},
   "outputs": [],
   "source": [
    "total_energy_dacs_df.describe().T.round(2)\n"
   ]
  },
  {
   "cell_type": "markdown",
   "metadata": {},
   "source": [
    "### Pristine DACs on N-doped carbon total energy dataset"
   ]
  },
  {
   "cell_type": "code",
   "execution_count": null,
   "metadata": {},
   "outputs": [],
   "source": [
    "total_energy_dacs_df.shape"
   ]
  },
  {
   "cell_type": "code",
   "execution_count": null,
   "metadata": {},
   "outputs": [],
   "source": [
    "print(\", \".join(total_energy_sacs_dc_prist_df.columns))"
   ]
  },
  {
   "cell_type": "code",
   "execution_count": null,
   "metadata": {},
   "outputs": [],
   "source": [
    "total_energy_sacs_dc_prist_df.sample()"
   ]
  },
  {
   "cell_type": "code",
   "execution_count": null,
   "metadata": {},
   "outputs": [],
   "source": [
    "total_energy_sacs_dc_prist_df.describe().T.round(2)\n"
   ]
  },
  {
   "cell_type": "markdown",
   "metadata": {},
   "source": [
    "### Single atom on DACs local coordination enviroment total energies dataset"
   ]
  },
  {
   "cell_type": "code",
   "execution_count": null,
   "metadata": {},
   "outputs": [],
   "source": [
    "total_energy_sacs_df.shape"
   ]
  },
  {
   "cell_type": "code",
   "execution_count": null,
   "metadata": {},
   "outputs": [],
   "source": [
    "print(\", \".join(total_energy_sacs_df.columns))"
   ]
  },
  {
   "cell_type": "code",
   "execution_count": null,
   "metadata": {},
   "outputs": [],
   "source": [
    "total_energy_sacs_df.sample()"
   ]
  },
  {
   "cell_type": "code",
   "execution_count": null,
   "metadata": {},
   "outputs": [],
   "source": [
    "total_energy_sacs_df.describe().T.round(2)\n"
   ]
  },
  {
   "cell_type": "markdown",
   "metadata": {},
   "source": [
    "## Extract Structural Features for DACs on N-doped carbon total energy dataset"
   ]
  },
  {
   "cell_type": "markdown",
   "metadata": {},
   "source": [
    "This cell parses the `system` string column in the DAC total energy dataset to extract key structural and compositional features. \n",
    "New columns are created for metal identifiers (`M1`, `M2`), heteroatoms, cavity types, and engineered cavity labels used for analysis. \n",
    "This enables downstream grouping, filtering, or visualization based on atomic configuration.\n"
   ]
  },
  {
   "cell_type": "code",
   "execution_count": null,
   "metadata": {},
   "outputs": [],
   "source": [
    "total_energy_dacs_df['M1'] = total_energy_dacs_df['system'].str[:2]\n",
    "total_energy_dacs_df['M2'] = total_energy_dacs_df['system'].str[3:5]\n",
    "total_energy_dacs_df['heteroatom'] = total_energy_dacs_df['system'].str[6]\n",
    "total_energy_dacs_df['basic_cavity'] = total_energy_dacs_df['system'].str[8:12]\n",
    "total_energy_dacs_df['cavity'] = total_energy_dacs_df['system'].str[6:]\n",
    "total_energy_dacs_df['cavity_v2'] = total_energy_dacs_df['system'].str[6:]\n",
    "#total_energy_dacs_df['cavity_3'] = total_energy_dacs_df['cavity'].str.extract(r'(.*c.)')\n",
    "total_energy_dacs_df['cavity_3'] = total_energy_dacs_df['cavity'].str.extract(r'c(\\d)')\n",
    "total_energy_dacs_df['M1_cavity'] = total_energy_dacs_df['system'].str[:2] + '_' + total_energy_dacs_df['heteroatom'] +'_' + total_energy_dacs_df['system'].str[8:]\n",
    "# Create a new column 'cavity_4' based on the values in 'cavity'\n",
    "total_energy_dacs_df['cavity_4'] = total_energy_dacs_df['cavity'].apply(\n",
    "    lambda x: 'din4_x2' if 'din4_x2' in x else \n",
    "              ('din6_s' if 'din6_s' in x else \n",
    "              ('din6_as' if 'din6_as' in x else \n",
    "               'other'))  # Default value if none of the specified values are found\n",
    ")\n",
    "\n",
    "\n",
    "total_energy_dacs_df['M2_cavity'] = total_energy_dacs_df['system'].str[3:5] + '_' + total_energy_dacs_df['heteroatom'] +'_' + total_energy_dacs_df['system'].str[8:]\n"
   ]
  },
  {
   "cell_type": "markdown",
   "metadata": {},
   "source": [
    "### Column Descriptions\n",
    "\n",
    "| Column         | Description |\n",
    "|----------------|-------------|\n",
    "| `system`       | Unique identifier for each DAC structure, encoding metal atoms, heteroatom, and cavity configuration. |\n",
    "| `tot_energy`   | Total DFT-calculated energy of the DAC system (in eV). |\n",
    "| `M1`           | Symbol of the first metal atom (first two characters of `system`). |\n",
    "| `M2`           | Symbol of the second metal atom (characters 4–5 of `system`). |\n",
    "| `heteroatom`   | The non-metal heteroatom (e.g., N, O, S) present in the cavity (character 6 of `system`). |\n",
    "| `basic_cavity` | Basic label for the cavity configuration (characters 8–11 of `system`). |\n",
    "| `cavity`       | Substring of `system` starting from the heteroatom, describing full cavity configuration. |\n",
    "| `cavity_v2`    | Duplicate of `cavity` (used for flexible processing or alternate mappings). |\n",
    "| `cavity_3`     | Numeric identifier of the cavity (extracted from pattern `c#` in the `cavity` string). |\n",
    "| `M1_cavity`    | Concatenation of `M1`, `heteroatom`, and `basic_cavity` to create a composite identifier for M1-cavity configuration. |\n",
    "| `cavity_4`     | Simplified cavity label categorizing into `din4_x2`, `din6_s`, `din6_as`, or `other`, based on string patterns. |\n",
    "| `M2_cavity`    | Concatenation of `M2`, `heteroatom`, and `basic_cavity` to create a composite identifier for M2-cavity configuration. |\n"
   ]
  },
  {
   "cell_type": "code",
   "execution_count": null,
   "metadata": {},
   "outputs": [],
   "source": [
    "total_energy_sacs_df.shape"
   ]
  },
  {
   "cell_type": "code",
   "execution_count": null,
   "metadata": {},
   "outputs": [],
   "source": [
    "print(\", \".join(total_energy_dacs_df.columns))"
   ]
  },
  {
   "cell_type": "code",
   "execution_count": null,
   "metadata": {},
   "outputs": [],
   "source": [
    "total_energy_dacs_df.sample()"
   ]
  },
  {
   "cell_type": "code",
   "execution_count": null,
   "metadata": {},
   "outputs": [],
   "source": [
    "total_energy_dacs_df.describe().T.round(2)\n"
   ]
  },
  {
   "cell_type": "markdown",
   "metadata": {},
   "source": [
    "## Extract Structural Features for pristine DACs on N-doped carbon total energy dataset"
   ]
  },
  {
   "cell_type": "code",
   "execution_count": null,
   "metadata": {},
   "outputs": [],
   "source": [
    "total_energy_sacs_dc_prist_df['heteroatom'] = total_energy_sacs_dc_prist_df['system'].str[0]\n",
    "total_energy_sacs_dc_prist_df['basic_cavity'] = total_energy_sacs_dc_prist_df['system'].str[2:6]\n"
   ]
  },
  {
   "cell_type": "markdown",
   "metadata": {},
   "source": [
    "### Column Descriptions\n",
    "\n",
    "| Column         | Description |\n",
    "|----------------|-------------|\n",
    "| `system`       | Unique identifier for each pristine DAC system, encoding the heteroatom and cavity structure. |\n",
    "| `tot_energy`   | Total DFT-calculated energy of the pristine DAC system (in eV). |\n",
    "| `heteroatom`   | The non-metal heteroatom present in the cavity (first character of `system`). |\n",
    "| `basic_cavity` | Basic cavity configuration label extracted from characters 2 to 5 of `system`. |\n"
   ]
  },
  {
   "cell_type": "code",
   "execution_count": null,
   "metadata": {},
   "outputs": [],
   "source": [
    "total_energy_sacs_dc_prist_df.shape"
   ]
  },
  {
   "cell_type": "code",
   "execution_count": null,
   "metadata": {},
   "outputs": [],
   "source": [
    "print(\", \".join(total_energy_sacs_dc_prist_df.columns))"
   ]
  },
  {
   "cell_type": "code",
   "execution_count": null,
   "metadata": {},
   "outputs": [],
   "source": [
    "total_energy_sacs_dc_prist_df.sample()"
   ]
  },
  {
   "cell_type": "code",
   "execution_count": null,
   "metadata": {},
   "outputs": [],
   "source": [
    "total_energy_sacs_dc_prist_df.describe().T.round(2)\n"
   ]
  },
  {
   "cell_type": "markdown",
   "metadata": {},
   "source": [
    "## Extract Structural Features for single atoms on DACs on N-doped carbon total energy dataset"
   ]
  },
  {
   "cell_type": "code",
   "execution_count": null,
   "metadata": {},
   "outputs": [],
   "source": [
    "total_energy_sacs_df['metal'] = total_energy_sacs_df['system'].str[:2]\n",
    "total_energy_sacs_df['heteroatom'] = total_energy_sacs_df['system'].str[3]\n",
    "total_energy_sacs_df['basic_cavity'] = total_energy_sacs_df['system'].str[5:9]\n",
    "total_energy_sacs_df['cavity'] = total_energy_sacs_df['system'].str[3:]"
   ]
  },
  {
   "cell_type": "markdown",
   "metadata": {},
   "source": [
    "### Column Descriptions\n",
    "\n",
    "| Column         | Description |\n",
    "|----------------|-------------|\n",
    "| `system`       | Unique identifier for each SAC system, encoding the metal, heteroatom, and cavity configuration. |\n",
    "| `tot_energy`   | Total DFT-calculated energy of the SAC system (in eV). |\n",
    "| `metal`        | The single metal atom in the SAC, extracted from the first two characters of `system`. |\n",
    "| `heteroatom`   | The non-metal heteroatom coordinated to the metal atom, extracted from the 4th character of `system`. |\n",
    "| `basic_cavity` | Basic cavity structure, typically 4 characters long, extracted from positions 5 to 8 in `system`. |\n",
    "| `cavity`       | Full cavity description including heteroatom and structure, extracted from character 4 onward in `system`. |\n"
   ]
  },
  {
   "cell_type": "code",
   "execution_count": null,
   "metadata": {},
   "outputs": [],
   "source": [
    "total_energy_sacs_df.shape"
   ]
  },
  {
   "cell_type": "code",
   "execution_count": null,
   "metadata": {},
   "outputs": [],
   "source": [
    "print(\", \".join(total_energy_sacs_df.columns))"
   ]
  },
  {
   "cell_type": "code",
   "execution_count": null,
   "metadata": {},
   "outputs": [],
   "source": [
    "total_energy_sacs_df.sample()"
   ]
  },
  {
   "cell_type": "code",
   "execution_count": null,
   "metadata": {},
   "outputs": [],
   "source": [
    "total_energy_sacs_df.describe().T.round(2)\n"
   ]
  },
  {
   "cell_type": "markdown",
   "metadata": {},
   "source": [
    "# Calculating the Energies of the DACs on N-doped carbon dataset"
   ]
  },
  {
   "cell_type": "markdown",
   "metadata": {},
   "source": [
    "The adsorption energy for the DACs is defined:\n",
    "\n",
    "$$\n",
    "E_{\\text{ads}} = E_{\\text{M1,M2,cc}} - E_{\\text{cc}} - E_{\\text{M1}} - E_{\\text{M2}}\n",
    "$$\n",
    "\n",
    "where:\\\n",
    "$E_{\\text{M1,M2,cc}}$ is the total energy of the adsorbed metal pair\n",
    "on the N-doped carbon\\\n",
    "$E_{\\text{cc}}$ is the energy of the pristine N-doped\n",
    "carbon\\\n",
    "$E_{\\text{M1}}$ is the cohesive energy of the metal M1 \\\n",
    "$E_{\\text{M2}}$ is the cohesive energy of the metal M2"
   ]
  },
  {
   "cell_type": "markdown",
   "metadata": {},
   "source": [
    "## Merging DFT Energies and Calculating Adsorption Energy"
   ]
  },
  {
   "cell_type": "markdown",
   "metadata": {},
   "source": [
    "This step merges DFT energy datasets of DAC and SAC systems with cohesive energies of individual metals to compute the adsorption energy (E_dft_M1M2) of heteroatoms on DAC surfaces. The final energy is calculated by subtracting the SAC pristine energy and the cohesive energies of both metals from the total DAC energy. The resulting dataset is saved for further analysis."
   ]
  },
  {
   "cell_type": "code",
   "execution_count": null,
   "metadata": {},
   "outputs": [],
   "source": [
    "# Apply the adjust_names function to the 'cavity' column\n",
    "total_energy_dacs_df['cavity'] = total_energy_dacs_df['cavity'].apply(adjust_names)\n",
    "\n",
    "# Merge the dataframes: left on 'cavity', right on 'system'\n",
    "merged_df = pd.merge(total_energy_dacs_df, total_energy_sacs_dc_prist_df, left_on='cavity', right_on='system', suffixes=('_dacs', '_sacs_pristine'))\n",
    "\n",
    "# Merge the merged_df with metal_df to get Ecoh for M1\n",
    "merged_m1_df = pd.merge(merged_df, metal_df[['metal', 'Ecoh']], left_on='M1', right_on='metal', how='left')\n",
    "# Create a new column 'Ecoh_m1' by assigning the values from the 'Ecoh' column and drop 'metal' column\n",
    "merged_m1_df.rename(columns={'Ecoh': 'Ecoh_m1'}, inplace=True)\n",
    "merged_m1_df.drop(columns=['metal'], inplace=True)\n",
    "\n",
    "# Merge the merged_df with metal_df to get Ecoh for M2\n",
    "merged_m1_m2_df = pd.merge(merged_m1_df, metal_df[['metal', 'Ecoh']], left_on='M2', right_on='metal', how='left')\n",
    "# Create a new column 'Ecoh_m2' by assigning the values from the 'Ecoh' column and drop 'metal' column\n",
    "merged_m1_m2_df.rename(columns={'Ecoh': 'Ecoh_m2'}, inplace=True)\n",
    "merged_m1_m2_df.drop(columns=['metal'], inplace=True)\n",
    "\n",
    "# Calculate the E_dft_M1M2 value by subtracting the energy columns and cohesive energies\n",
    "merged_m1_m2_df['E_dft_M1M2'] = (\n",
    "    merged_m1_m2_df['tot_energy_dacs'] -\n",
    "    merged_m1_m2_df['tot_energy_sacs_pristine'] -\n",
    "    merged_m1_m2_df['Ecoh_m1'] -\n",
    "    merged_m1_m2_df['Ecoh_m2']\n",
    ")\n",
    "\n",
    "# Copy the merged_df to Edft_coh_df for saving\n",
    "Edft_coh_df = merged_m1_m2_df.copy()\n",
    "\n",
    "# Define the path where you want to save the CSV file\n",
    "save_path = os.path.join(dacs_energies_out_dir, 'Edft_coh_df.csv')\n",
    "\n",
    "# # Save the dataframe to a CSV file\n",
    "Edft_coh_df.to_csv(save_path, index=False, header=True)\n",
    "\n",
    "\n",
    "# Define the path where you want to save the pickle file\n",
    "save_path_pkl = os.path.join(dacs_energies_out_dir, 'Edft_coh_df.pkl')\n",
    "\n",
    "# Save the dataframe to a pickle file\n",
    "Edft_coh_df.to_pickle(save_path_pkl)"
   ]
  },
  {
   "cell_type": "markdown",
   "metadata": {},
   "source": [
    "| **Feature**               | **Description**                                                                                  |\n",
    "|---------------------------|------------------------------------------------------------------------------------------------|\n",
    "| `system_dacs`             | Identifier for the DAC system (dual-atom catalyst)                                             |\n",
    "| `tot_energy_dacs`         | Total DFT energy of the DAC system                                                             |\n",
    "| `M1`                      | Metal 1 element symbol in the DAC system                                                       |\n",
    "| `M2`                      | Metal 2 element symbol in the DAC system                                                       |\n",
    "| `heteroatom_dacs`         | Heteroatom element symbol in the DAC system                                                    |\n",
    "| `basic_cavity_dacs`       | Basic cavity structure identifier in the DAC system                                           |\n",
    "| `cavity`                  | Adjusted cavity identifier used for merging                                                    |\n",
    "| `cavity_v2`               | Alternative cavity identifier (same as `cavity`)                                               |\n",
    "| `cavity_3`                | Extracted cavity subtype (e.g., numeric pattern)                                               |\n",
    "| `M1_cavity`               | Combination of M1 metal, heteroatom, and cavity details                                        |\n",
    "| `cavity_4`                | Categorized cavity type (e.g., `din4_x2`, `din6_s`, `din6_as`, `other`)                        |\n",
    "| `M2_cavity`               | Combination of M2 metal, heteroatom, and cavity details                                        |\n",
    "| `system_sacs_pristine`    | Identifier for the pristine SAC system (single-atom catalyst)                                 |\n",
    "| `tot_energy_sacs_pristine`| Total DFT energy of the pristine SAC system                                                   |\n",
    "| `heteroatom_sacs_pristine`| Heteroatom element symbol in the pristine SAC system                                          |\n",
    "| `basic_cavity_sacs_pristine` | Basic cavity structure identifier in the pristine SAC system                             |\n",
    "| `Ecoh_m1`                 | Cohesive energy of metal M1                                                                   |\n",
    "| `Ecoh_m2`                 | Cohesive energy of metal M2                                                                   |\n",
    "| `E_dft_M1M2`              | Calculated adsorption energy: total DAC energy minus pristine SAC energy and cohesive energies |\n"
   ]
  },
  {
   "cell_type": "code",
   "execution_count": null,
   "metadata": {},
   "outputs": [],
   "source": [
    "Edft_coh_df.shape"
   ]
  },
  {
   "cell_type": "code",
   "execution_count": null,
   "metadata": {},
   "outputs": [],
   "source": [
    "print(\", \".join(Edft_coh_df.columns))"
   ]
  },
  {
   "cell_type": "code",
   "execution_count": null,
   "metadata": {},
   "outputs": [],
   "source": [
    "Edft_coh_df.sample()"
   ]
  },
  {
   "cell_type": "code",
   "execution_count": null,
   "metadata": {},
   "outputs": [],
   "source": [
    "Edft_coh_df.describe().T.round(2)\n"
   ]
  },
  {
   "cell_type": "code",
   "execution_count": null,
   "metadata": {},
   "outputs": [],
   "source": [
    "# # Select specific configuration\n",
    "# print(Edft_coh_df[Edft_coh_df['system_dacs'] == 'Ni_Fe_N_din6_as_c0']['E_dft_M1M2'])"
   ]
  },
  {
   "cell_type": "markdown",
   "metadata": {},
   "source": [
    "#### Remove not stable cavity M_N_din4_x2_c4_f"
   ]
  },
  {
   "cell_type": "code",
   "execution_count": null,
   "metadata": {},
   "outputs": [],
   "source": [
    "Edft_coh_df = Edft_coh_df[~(Edft_coh_df['cavity_v2'] == 'N_din4_x2_c4_f') & ~Edft_coh_df['cavity_v2'].str.endswith('_v2')]#&~(Edft_coh_df['cavity_v2'] == 'N_din6_s_c4_0134')]"
   ]
  },
  {
   "cell_type": "code",
   "execution_count": null,
   "metadata": {},
   "outputs": [],
   "source": [
    "Edft_coh_df.shape\n"
   ]
  },
  {
   "cell_type": "code",
   "execution_count": null,
   "metadata": {},
   "outputs": [],
   "source": [
    "total_energy_dacs_df.shape"
   ]
  },
  {
   "cell_type": "markdown",
   "metadata": {},
   "source": [
    "## Boxplot of the E_dft_M1M2 categorized by metal"
   ]
  },
  {
   "cell_type": "code",
   "execution_count": null,
   "metadata": {},
   "outputs": [],
   "source": [
    "fig = plot_categorical_energy_boxplot(\n",
    "    df=Edft_coh_df,\n",
    "    x_col='M1',\n",
    "    color_map=metal_colors,\n",
    "    y_col='E_dft_M1M2',\n",
    "    hover_col='system_dacs',\n",
    "    save_dir='../../../data/figures/dacs_eda',\n",
    "    x_title='Metal',\n",
    "    y_title='E_dft_M1M2 Energy',\n",
    "    file_name='Ecoh_M1_boxplot_1'\n",
    ")\n",
    "\n",
    "fig.show()\n"
   ]
  },
  {
   "cell_type": "markdown",
   "metadata": {},
   "source": [
    "## Boxplot of the E_dft_M1M2 categorized by metal - no outliers"
   ]
  },
  {
   "cell_type": "code",
   "execution_count": null,
   "metadata": {},
   "outputs": [],
   "source": [
    "\n",
    "# Assuming Edft_coh_df and metal_colors are already defined\n",
    "\n",
    "# Map colors to the metal types in the dataframe\n",
    "Edft_coh_df['color'] = Edft_coh_df['M1'].map(metal_colors)\n",
    "\n",
    "\n",
    "# Detect outliers\n",
    "outliers_dacs_metal = detect_outliers(Edft_coh_df, 'M1', 'E_dft_M1M2')\n",
    "\n",
    "\n",
    "# Save the outliers to a CSV file\n",
    "outliers_path = os.path.join(dacs_energies_out_dir, 'outliers_dacs_metal.csv')\n",
    "outliers_dacs_metal.to_csv(outliers_path, index=False, header=True)\n",
    "\n",
    "# Remove outliers from the dataset\n",
    "Edft_coh_df_no_outliers_metal = Edft_coh_df[~Edft_coh_df.index.isin(outliers_dacs_metal.index)]\n",
    "\n",
    "fig_no_outliers = plot_categorical_energy_boxplot(\n",
    "    df=Edft_coh_df_no_outliers_metal,\n",
    "    x_col='M1',\n",
    "    color_map=metal_colors,\n",
    "    y_col='E_dft_M1M2',\n",
    "    hover_col='system_dacs',\n",
    "    save_dir='../../../data/figures/dacs_eda',\n",
    "    x_title='Metal',\n",
    "    y_title='E_dft_M1M2 Energy',\n",
    "    file_name='Ecoh_M1_boxplot_no_outliers'\n",
    ")\n",
    "\n",
    "fig_no_outliers.show()\n",
    "\n"
   ]
  },
  {
   "cell_type": "code",
   "execution_count": null,
   "metadata": {},
   "outputs": [],
   "source": [
    "metal_summary = Edft_coh_df_no_outliers_metal.groupby('M1')['E_dft_M1M2'].describe().T\n",
    "print(metal_summary)"
   ]
  },
  {
   "cell_type": "markdown",
   "metadata": {},
   "source": [
    "## Boxplot of the E_dft_M1M2 categorized by cavity "
   ]
  },
  {
   "cell_type": "code",
   "execution_count": null,
   "metadata": {},
   "outputs": [],
   "source": [
    "fig_cavity = plot_categorical_energy_boxplot(\n",
    "    df=Edft_coh_df,\n",
    "    x_col='cavity_v2',\n",
    "    color_map=cavity_colors,\n",
    "    y_col='E_dft_M1M2',\n",
    "    hover_col='system_dacs',\n",
    "    x_title='Cavity',\n",
    "    y_title='E_dft_M1M2 Energy',\n",
    "    save_dir='../../../data/figures/dacs_eda',\n",
    "    file_name='Ecoh_M1_boxplot_cavity'\n",
    ")\n",
    "\n",
    "fig_cavity.show()\n"
   ]
  },
  {
   "cell_type": "markdown",
   "metadata": {},
   "source": [
    "## Boxplot of the E_dft_M1M2 categorized by cavity - no outliers"
   ]
  },
  {
   "cell_type": "code",
   "execution_count": null,
   "metadata": {},
   "outputs": [],
   "source": [
    "# Map colors to the metal types in the dataframe\n",
    "Edft_coh_df['color'] = Edft_coh_df['cavity_v2'].map(cavity_colors)\n",
    "\n",
    "# Detect outliers\n",
    "outliers_cavity_dacs = detect_outliers(Edft_coh_df, 'cavity_v2', 'E_dft_M1M2')\n",
    "\n",
    "# Save the outliers to a CSV file\n",
    "outliers_path = os.path.join(dacs_energies_out_dir, 'outliers_dacs_cavity.csv')\n",
    "outliers_cavity_dacs.to_csv(outliers_path, index=False, header=True)\n",
    "\n",
    "# Remove outliers from the dataset\n",
    "Edft_coh_df_no_outliers_cav = Edft_coh_df[~Edft_coh_df.index.isin(outliers_cavity_dacs.index)]\n",
    "\n",
    "fig_no_outliers_cavity = plot_categorical_energy_boxplot(\n",
    "    df=Edft_coh_df_no_outliers_cav,\n",
    "    x_col='cavity_v2',\n",
    "    color_map=cavity_colors,\n",
    "    y_col='E_dft_M1M2',\n",
    "    hover_col='system_dacs',\n",
    "    x_title='Cavity',\n",
    "    y_title='E_dft_M1M2 Energy',\n",
    "    save_dir='../../../data/figures/dacs_eda',\n",
    "    file_name='Ecoh_M1_boxplot_cavity_no_outliers'\n",
    ")\n",
    "\n",
    "fig_no_outliers_cavity.show()\n",
    "\n"
   ]
  },
  {
   "cell_type": "code",
   "execution_count": null,
   "metadata": {},
   "outputs": [],
   "source": [
    "cavity_summary = Edft_coh_df_no_outliers_cav.groupby('cavity_v2')['E_dft_M1M2'].describe().T\n",
    "print(cavity_summary)"
   ]
  },
  {
   "cell_type": "markdown",
   "metadata": {},
   "source": [
    "## Data Cleaning: Removing Metal and Cavity Outliers"
   ]
  },
  {
   "cell_type": "code",
   "execution_count": null,
   "metadata": {},
   "outputs": [],
   "source": [
    "# Combine indices from outliers_dacs_metal and outliers_dacs_cavity\n",
    "combined_outliers_indices = outliers_dacs_metal.index.union(outliers_cavity_dacs.index)\n",
    "\n",
    "Edft_coh_df_iqr = Edft_coh_df[~Edft_coh_df.index.isin(combined_outliers_indices)]"
   ]
  },
  {
   "cell_type": "code",
   "execution_count": null,
   "metadata": {},
   "outputs": [],
   "source": [
    "Edft_coh_df_iqr.shape"
   ]
  },
  {
   "cell_type": "code",
   "execution_count": null,
   "metadata": {},
   "outputs": [],
   "source": [
    "print(\", \".join(Edft_coh_df_iqr.columns))"
   ]
  },
  {
   "cell_type": "code",
   "execution_count": null,
   "metadata": {},
   "outputs": [],
   "source": [
    "Edft_coh_df_iqr.sample()"
   ]
  },
  {
   "cell_type": "code",
   "execution_count": null,
   "metadata": {},
   "outputs": [],
   "source": [
    "Edft_coh_df_iqr.describe().T.round(2)\n"
   ]
  },
  {
   "cell_type": "markdown",
   "metadata": {},
   "source": [
    "## Boxplot of the E_dft_M1M2 categorized by metal - no total outliers"
   ]
  },
  {
   "cell_type": "code",
   "execution_count": null,
   "metadata": {},
   "outputs": [],
   "source": [
    "fig = plot_categorical_energy_boxplot(\n",
    "    df=Edft_coh_df_iqr,\n",
    "    x_col='M1',\n",
    "    color_map=metal_colors,\n",
    "    y_col='E_dft_M1M2',\n",
    "    hover_col='system_dacs',\n",
    "    x_title='Metal',\n",
    "    y_title='E_dft_M1M2 Energy',\n",
    "    save_dir='../../../data/figures/dacs_eda',\n",
    "    file_name='Ecoh_M1_boxplot_metal_iqr'\n",
    ")\n",
    "\n",
    "fig.show()\n"
   ]
  },
  {
   "cell_type": "code",
   "execution_count": null,
   "metadata": {},
   "outputs": [],
   "source": [
    "metal_summary = Edft_coh_df_iqr.groupby('M1')['E_dft_M1M2'].describe().T\n",
    "print(metal_summary)\n"
   ]
  },
  {
   "cell_type": "markdown",
   "metadata": {},
   "source": [
    "## Boxplot of the E_dft_M1M2 categorized by cavity - no total outliers"
   ]
  },
  {
   "cell_type": "code",
   "execution_count": null,
   "metadata": {},
   "outputs": [],
   "source": [
    "fig = plot_categorical_energy_boxplot(\n",
    "    df=Edft_coh_df_iqr,\n",
    "    x_col='cavity_v2',\n",
    "    color_map=cavity_colors,\n",
    "    y_col='E_dft_M1M2',\n",
    "    hover_col='system_dacs',\n",
    "    x_title='Cavity',\n",
    "    y_title='E_dft_M1M2 Energy',\n",
    "    save_dir='../../../data/figures/dacs_eda',\n",
    "    file_name='Ecoh_M1_boxplot_cavity_iqr'\n",
    ")\n",
    "\n",
    "fig.show()\n"
   ]
  },
  {
   "cell_type": "code",
   "execution_count": null,
   "metadata": {},
   "outputs": [],
   "source": [
    "cavity_summary = Edft_coh_df_iqr.groupby('cavity_v2')['E_dft_M1M2'].describe().T\n",
    "print(cavity_summary)"
   ]
  },
  {
   "cell_type": "markdown",
   "metadata": {},
   "source": [
    "## Dataset with the DACs on N-doped carbon without outliers"
   ]
  },
  {
   "cell_type": "markdown",
   "metadata": {},
   "source": [
    "Filtered Dataset of DACs on N-Doped Carbon After Outlier Removal Using IQR Method"
   ]
  },
  {
   "cell_type": "code",
   "execution_count": null,
   "metadata": {},
   "outputs": [],
   "source": [
    "# Define the path where you want to save the CSV file\n",
    "save_path_csv = os.path.join(dacs_energies_out_dir, 'Edft_coh_df_iqr.csv')\n",
    "\n",
    "# Save the dataframe to a CSV file\n",
    "Edft_coh_df_iqr.to_csv(save_path_csv, index=False, header=True)\n",
    "\n",
    "# Define the path where you want to save the pickle file\n",
    "save_path_pkl = os.path.join(dacs_energies_out_dir, 'Edft_coh_df_iqr.pkl')\n",
    "\n",
    "# Save the dataframe to a pickle file\n",
    "Edft_coh_df_iqr.to_pickle(save_path_pkl)\n"
   ]
  },
  {
   "cell_type": "markdown",
   "metadata": {},
   "source": [
    "| Feature                  | Description                                                                                       |\n",
    "|--------------------------|-------------------------------------------------------------------------------------------------|\n",
    "| 'system_dacs'          | Identifier for the dual-atom catalyst (DAC) system                                              |\n",
    "| 'tot_energy_dacs'      | Total DFT energy of the DAC system                                                              |\n",
    "| 'M1'                   | Symbol of the first metal atom in the DAC                                                       |\n",
    "| 'M2'                   | Symbol of the second metal atom in the DAC                                                      |\n",
    "| 'heteroatom_dacs'      | Heteroatom type present in the DAC system                                                       |\n",
    "| 'basic_cavity_dacs'    | Basic cavity environment descriptor of the DAC                                                  |\n",
    "| 'cavity'               | Detailed cavity environment string related to the DAC                                           |\n",
    "| 'cavity_v2'            | Modified/standardized cavity environment name                                                   |\n",
    "| 'cavity_3'             | Numeric identifier extracted from cavity description                                            |\n",
    "| 'M1_cavity'            | Concatenation of M1 metal, heteroatom, and cavity environment                                   |\n",
    "| 'cavity_4'             | Categorized cavity type based on specific substrings (e.g., 'din4_x2', 'din6_s', 'din6_as', 'other') |\n",
    "| 'M2_cavity'            | Concatenation of M2 metal, heteroatom, and cavity environment                                   |\n",
    "| 'system_sacs_pristine' | Identifier for the single-atom catalyst (SAC) pristine system                                   |\n",
    "| 'tot_energy_sacs_pristine' | Total DFT energy of the pristine SAC system                                               |\n",
    "| 'heteroatom_sacs_pristine' | Heteroatom type in the pristine SAC system                                               |\n",
    "| 'basic_cavity_sacs_pristine' | Basic cavity environment descriptor of the pristine SAC                               |\n",
    "| 'Ecoh_m1'              | Cohesive energy of the first metal (M1)                                                        |\n",
    "| 'Ecoh_m2'              | Cohesive energy of the second metal (M2)                                                       |\n",
    "| 'E_dft_M1M2'           | Calculated interaction energy combining DFT energies and cohesive energies                      |\n",
    "| 'color'                | Color code mapped to the metal type or cavity for visualization                                 |\n"
   ]
  },
  {
   "cell_type": "code",
   "execution_count": null,
   "metadata": {},
   "outputs": [],
   "source": [
    "Edft_coh_df_iqr.shape"
   ]
  },
  {
   "cell_type": "code",
   "execution_count": null,
   "metadata": {},
   "outputs": [],
   "source": [
    "print(\", \".join(Edft_coh_df_iqr.columns))"
   ]
  },
  {
   "cell_type": "code",
   "execution_count": null,
   "metadata": {},
   "outputs": [],
   "source": [
    "Edft_coh_df_iqr.sample()"
   ]
  },
  {
   "cell_type": "code",
   "execution_count": null,
   "metadata": {},
   "outputs": [],
   "source": [
    "Edft_coh_df_iqr.describe().T.round(2)"
   ]
  },
  {
   "cell_type": "markdown",
   "metadata": {},
   "source": [
    "## Interaction Energy"
   ]
  },
  {
   "cell_type": "markdown",
   "metadata": {},
   "source": [
    "The interaction energy between the two metals M1 and M2 is defined:\n",
    "$$\n",
    "E_{\\text{int}} = E_{\\text{M1,M2,cc}} + E_{\\text{cc}} - E_{\\text{M1/cc}} - E_{\\text{M2/cc}}\n",
    "$$\n",
    "\n",
    "where:\\\n",
    "$E_{\\text{M1,M2,cc}}$ is the total energy of the dual-atom\n",
    "catalyst with both metals co-adsorbed\\\n",
    "$E_{\\text{cc}}$ is the total energy of\n",
    "the pristine support\\\n",
    "$E_{\\text{M1/cc}}$ is total energy of the M1 metal center adsorbed individually into the support\\\n",
    "$E_{\\text{M2/cc}}$ is total energy of the M2 metal center adsorbed individually into the support"
   ]
  },
  {
   "cell_type": "markdown",
   "metadata": {},
   "source": [
    "# Merging Datasets of Single-Atom Adsorption on DAC Local Coordination Environments "
   ]
  },
  {
   "cell_type": "markdown",
   "metadata": {},
   "source": [
    "This script merges datasets related to dual-atom catalysts (DACs), pristine supports, and single-atom adsorbed systems. It aligns the local coordination environments of adsorbed metal atoms (M1 and M2) on DACs with their corresponding reference energies, enabling the calculation of interaction energies (Eint) for the adsorbed configurations. The result is a unified dataset suitable for analyzing adsorption behavior and energetics across different catalyst structures."
   ]
  },
  {
   "cell_type": "code",
   "execution_count": null,
   "metadata": {},
   "outputs": [],
   "source": [
    "\n",
    "total_energy_dacs_df['cavity'] = total_energy_dacs_df['cavity'].apply(adjust_names)\n",
    "\n",
    "\n",
    "# Merge the dataframes: left on 'cavity', right on 'system'\n",
    "merged_df = pd.merge(total_energy_dacs_df, total_energy_sacs_dc_prist_df, left_on='cavity', right_on='system', suffixes=('_dacs', '_sacs_pristine'))\n",
    "\n",
    "print(merged_df.shape)\n",
    "\n",
    "merged_n1_df = pd.merge(merged_df, total_energy_sacs_df[['system', 'tot_energy']].rename(columns={'tot_energy': 'tot_energy_M1'}), left_on='M1_cavity', right_on='system')\n",
    "\n",
    "# Dropping duplicates\n",
    "merged_n1_df = merged_n1_df.drop_duplicates()\n",
    "\n",
    "\n",
    "print(merged_n1_df.shape)\n",
    "\n",
    "merged_n1_n2_df = pd.merge(merged_n1_df, total_energy_sacs_df[['system', 'tot_energy']].rename(columns={'tot_energy': 'tot_energy_M2'}), left_on='M2_cavity', right_on='system')\n",
    "\n",
    "# Subtract the 'tot_energy' columns\n",
    "merged_n1_n2_df['Eint'] = merged_n1_n2_df['tot_energy_dacs'] + merged_n1_n2_df['tot_energy_sacs_pristine'] - merged_n1_n2_df['tot_energy_M1'] - merged_n1_n2_df['tot_energy_M2']\n",
    "\n",
    "# Dropping duplicates\n",
    "merged_n1_n2_df = merged_n1_n2_df.drop_duplicates()\n",
    "\n",
    "print(merged_n1_n2_df.shape)\n",
    "\n",
    "Eint_df =merged_n1_n2_df\n",
    "\n",
    "# Define the path where you want to save the CSV file\n",
    "save_path = os.path.join(dacs_energies_out_dir, 'Eint_df.csv')\n",
    "\n",
    "# Save the dataframe to a CSV file\n",
    "Eint_df.to_csv(save_path, index=False, header=True)"
   ]
  },
  {
   "cell_type": "code",
   "execution_count": null,
   "metadata": {},
   "outputs": [],
   "source": [
    "Eint_df.shape"
   ]
  },
  {
   "cell_type": "code",
   "execution_count": null,
   "metadata": {},
   "outputs": [],
   "source": [
    "print(\", \".join(Eint_df.columns))"
   ]
  },
  {
   "cell_type": "code",
   "execution_count": null,
   "metadata": {},
   "outputs": [],
   "source": [
    "Eint_df.sample()"
   ]
  },
  {
   "cell_type": "code",
   "execution_count": null,
   "metadata": {},
   "outputs": [],
   "source": [
    "Eint_df.describe().T.round(2)\n"
   ]
  },
  {
   "cell_type": "markdown",
   "metadata": {},
   "source": [
    "## Boxplot of the Eint categorized by metal type"
   ]
  },
  {
   "cell_type": "code",
   "execution_count": null,
   "metadata": {},
   "outputs": [],
   "source": [
    "plot_categorical_energy_boxplot(\n",
    "    df=Eint_df,\n",
    "    x_col='M1',\n",
    "    y_col='Eint',\n",
    "    color_map=metal_colors,\n",
    "    hover_col='system_dacs',\n",
    "    save_dir='../../../data/figures/dacs_eda',\n",
    "    x_title='Metal Type',\n",
    "    y_title='Interaction Energy (Eint)',\n",
    "    file_name='Eint_M1_metal_boxplot'\n",
    ")\n"
   ]
  },
  {
   "cell_type": "markdown",
   "metadata": {},
   "source": [
    "## Boxplot of the Eint categorized by metal type - no outliers"
   ]
  },
  {
   "cell_type": "code",
   "execution_count": null,
   "metadata": {},
   "outputs": [],
   "source": [
    "# Map colors to the metal types in the dataframe\n",
    "Eint_df['color'] = Eint_df['M1'].map(metal_colors)\n",
    "\n",
    "# Detect outliers\n",
    "outliers_dacs_metal_Eint = detect_outliers(Eint_df, 'M1', 'Eint')\n",
    "\n",
    "# Save the outliers to a CSV file\n",
    "outliers_path = os.path.join(dacs_energies_out_dir, 'outliers_dacs_metal_Eint.csv')\n",
    "outliers_dacs_metal_Eint.to_csv(outliers_path, index=False, header=True)\n",
    "\n",
    "# Remove outliers from the dataset\n",
    "Eint_df_no_outliers_metal = Eint_df[~Eint_df.index.isin(outliers_dacs_metal_Eint.index)]\n",
    "\n",
    "plot_categorical_energy_boxplot(\n",
    "    df=Eint_df_no_outliers_metal,\n",
    "    x_col='M1',\n",
    "    y_col='Eint',\n",
    "    color_map=metal_colors,\n",
    "    hover_col='system_dacs',\n",
    "    save_dir='../../../data/figures/dacs_eda',\n",
    "    x_title='Metal Type',\n",
    "    y_title='Interaction Energy (Eint)',\n",
    "    file_name='Eint_M1_metal_no_outliers_boxplot'\n",
    ")"
   ]
  },
  {
   "cell_type": "markdown",
   "metadata": {},
   "source": [
    "## Boxplot of the Eint categorized by cavity type"
   ]
  },
  {
   "cell_type": "code",
   "execution_count": null,
   "metadata": {},
   "outputs": [],
   "source": [
    "plot_categorical_energy_boxplot(\n",
    "    df=Eint_df,\n",
    "    x_col='cavity_v2',\n",
    "    y_col='Eint',\n",
    "    color_map=cavity_colors,\n",
    "    hover_col='system_dacs',\n",
    "    save_dir='../../../data/figures/dacs_eda',\n",
    "    x_title='Cavity',\n",
    "    y_title='E_dft_M1M2 Energy',\n",
    "    file_name='Eint_M1_cavity_boxplot'\n",
    ")\n"
   ]
  },
  {
   "cell_type": "markdown",
   "metadata": {},
   "source": [
    "## Boxplot of the Eint categorized by cavity type"
   ]
  },
  {
   "cell_type": "code",
   "execution_count": null,
   "metadata": {},
   "outputs": [],
   "source": [
    "# Map colors to the metal types in the dataframe\n",
    "Eint_df['color'] = Eint_df['cavity_v2'].map(cavity_colors)\n",
    "\n",
    "# Detect outliers\n",
    "outliers_cavity_dacs_Eint = detect_outliers(Eint_df, 'cavity_v2', 'Eint')\n",
    "\n",
    "# Save the outliers to a CSV file\n",
    "outliers_path = os.path.join(dacs_energies_out_dir, 'outliers_dacs_cavity_Eint.csv')\n",
    "outliers_cavity_dacs_Eint.to_csv(outliers_path, index=False, header=True)\n",
    "\n",
    "# Remove outliers from the dataset\n",
    "Eint_df_no_outliers_cav = Eint_df[~Eint_df.index.isin(outliers_cavity_dacs_Eint.index)]\n",
    "\n",
    "\n",
    "plot_categorical_energy_boxplot(\n",
    "    df=Eint_df,\n",
    "    x_col='cavity_v2',\n",
    "    y_col='Eint',\n",
    "    color_map=cavity_colors,\n",
    "    hover_col='system_dacs',\n",
    "    save_dir='../../../data/figures/dacs_eda',\n",
    "    x_title='Cavity',\n",
    "    y_title='E_dft_M1M2 Energy',\n",
    "    file_name='Eint_M1_cavity_no_outliers_boxplot'\n",
    ")\n"
   ]
  },
  {
   "cell_type": "markdown",
   "metadata": {},
   "source": [
    "## Data Cleaning: Removing Metal and Cavity outliers"
   ]
  },
  {
   "cell_type": "code",
   "execution_count": null,
   "metadata": {},
   "outputs": [],
   "source": [
    "# Combine indices from outliers_dacs_metal and outliers_dacs_cavity\n",
    "combined_outliers_indices = outliers_dacs_metal_Eint.index.union(outliers_cavity_dacs_Eint.index)\n",
    "\n",
    "Eint_df_iqr = Eint_df[~Eint_df.index.isin(combined_outliers_indices)]"
   ]
  },
  {
   "cell_type": "code",
   "execution_count": null,
   "metadata": {},
   "outputs": [],
   "source": [
    "# Define the path where you want to save the CSV file\n",
    "save_path_csv = os.path.join(dacs_energies_out_dir, 'Eint_df_iqr.csv')\n",
    "\n",
    "# Save the dataframe to a CSV file\n",
    "Eint_df_iqr.to_csv(save_path_csv, index=False, header=True)\n",
    "\n",
    "# Define the path where you want to save the pickle file\n",
    "save_path_pkl = os.path.join(dacs_energies_out_dir, 'Eint_df_iqr.pkl')\n",
    "\n",
    "# Save the dataframe to a pickle file\n",
    "Eint_df_iqr.to_pickle(save_path_pkl)\n"
   ]
  },
  {
   "cell_type": "markdown",
   "metadata": {},
   "source": [
    "### 🔍 Feature Description Table\n",
    "\n",
    "| **Feature Name**         | **Description**                                                                 |\n",
    "|--------------------------|----------------------------------------------------------------------------------|\n",
    "| `system_dacs`            | Identifier for the dual-atom catalyst (DAC) system (e.g., M1-M2 bound to cavity). |\n",
    "| `tot_energy_dacs`        | Total DFT energy of the DAC system with both M1 and M2 adsorbed.                |\n",
    "| `M1`                     | First metal atom type in the DAC (e.g., Fe, Co, Ni).                             |\n",
    "| `M2`                     | Second metal atom type in the DAC.                                               |\n",
    "| `heteroatom_dacs`        | Type of heteroatom(s) present in the DAC support (e.g., N, B, O).               |\n",
    "| `basic_cavity_dacs`      | Simplified representation of the DAC binding site or cavity.                    |\n",
    "| `cavity`                 | Original cavity identifier from the DAC structure.                              |\n",
    "| `cavity_v2`              | Cleaned or renamed version of `cavity` (standardized for analysis/plotting).    |\n",
    "| `cavity_3`               | Further refined cavity label (possibly grouped or reclassified).                |\n",
    "| `M1_cavity`              | Identifier of the single-metal site where only M1 is adsorbed.                  |\n",
    "| `cavity_4`               | Another variant of the cavity name (used for additional grouping or filtering). |\n",
    "| `M2_cavity`              | Identifier of the single-metal site where only M2 is adsorbed.                  |\n",
    "| `system_sacs_pristine`   | Identifier for the pristine (metal-free) single-atom catalyst (SAC) system.     |\n",
    "| `tot_energy_sacs_pristine` | Total DFT energy of the pristine SACS system (without any metal).             |\n",
    "| `heteroatom_sacs_pristine` | Type of heteroatom(s) in the pristine SACS.                                  |\n",
    "| `basic_cavity_sacs_pristine` | Simplified representation of the pristine cavity site.                     |\n",
    "| `system_x`               | Reference to M1-cavity system used in energy comparison.                        |\n",
    "| `tot_energy_M1`          | Total DFT energy of the system with only M1 adsorbed.                           |\n",
    "| `system_y`               | Reference to M2-cavity system used in energy comparison.                        |\n",
    "| `tot_energy_M2`          | Total DFT energy of the system with only M2 adsorbed.                           |\n",
    "| `Eint`                   | Interaction energy of the full DAC system with both metals, relative to parts.  |\n",
    "| `color`                  | Color code (used for plotting) mapped from either `M1` or `cavity_v2`.          |\n"
   ]
  },
  {
   "cell_type": "code",
   "execution_count": null,
   "metadata": {},
   "outputs": [],
   "source": [
    "Eint_df_iqr.shape"
   ]
  },
  {
   "cell_type": "code",
   "execution_count": null,
   "metadata": {},
   "outputs": [],
   "source": [
    "print(\", \".join(Eint_df_iqr.columns))"
   ]
  },
  {
   "cell_type": "code",
   "execution_count": null,
   "metadata": {},
   "outputs": [],
   "source": [
    "Eint_df_iqr.sample()"
   ]
  },
  {
   "cell_type": "code",
   "execution_count": null,
   "metadata": {},
   "outputs": [],
   "source": [
    "Eint_df_iqr.describe().T.round(2)"
   ]
  },
  {
   "cell_type": "code",
   "execution_count": null,
   "metadata": {},
   "outputs": [],
   "source": []
  },
  {
   "cell_type": "markdown",
   "metadata": {},
   "source": [
    "## Adsorption energy calculation (after Fe adsorption)"
   ]
  },
  {
   "cell_type": "markdown",
   "metadata": {},
   "source": [
    "The adsorption energy for the DACs on N-doped carbon (after Fe adsoprtion)is defined:\n",
    "\n",
    "$$\n",
    "E_{\\text{DFT}} = E_{\\text{total, M1M2}} - E_{\\text{pristine}} - E_{\\text{M1}} - E_{\\text{M2/cavity}}\n",
    "$$\n",
    "\n",
    "where\\\n",
    "$E_{\\text{total, M1M2}}$ is the total energy of the DAC with the two metals adsorbed\\\n",
    "$E_{\\text{pristine}}$ is the total energy of the pristine structure\\\n",
    "$E_{\\text{M1}}$ is the cohesive energy of the M1 adsorbate\\\n",
    "$E_{\\text{M2/cavity}}$ is the total energy of the M2 adsorbed in the pristine cavity"
   ]
  },
  {
   "cell_type": "markdown",
   "metadata": {},
   "source": [
    "This code computes the **adsorption energy** (`Edft_fe`) for dual-atom catalysts by assessing the energy change when metal **M1** is added to a site where **M2** is already adsorbed. Also, it adds the features from the SACs on doped carbon."
   ]
  },
  {
   "cell_type": "code",
   "execution_count": null,
   "metadata": {},
   "outputs": [],
   "source": [
    "total_energy_dacs_df['cavity'] = total_energy_dacs_df['cavity'].apply(adjust_names)\n",
    "\n",
    "\n",
    "# Merge the dataframes: left on 'cavity', right on 'system'\n",
    "merged_df = pd.merge(total_energy_dacs_df, total_energy_sacs_dc_prist_df, left_on='cavity', right_on='system', suffixes=('_dacs', '_sacs_pristine'))\n",
    "\n",
    "merged_x1_df = pd.merge(merged_df, metal_df, left_on='M1', right_on='metal')\n",
    "\n",
    "# Create a new column 'Ecoh_m1' by assigning the values from the 'Ecoh' column\n",
    "merged_x1_df['Ecoh_m1'] = merged_x1_df['Ecoh']\n",
    "\n",
    "\n",
    "merged_x1_x2_df = pd.merge(merged_x1_df, total_energy_sacs_df[['system', 'tot_energy']].rename(columns={'tot_energy': 'tot_energy_M2'}), left_on='M2_cavity', right_on='system')\n",
    "\n",
    "# Subtract the 'tot_energy' columns\n",
    "merged_x1_x2_df['Edft_fe'] = merged_x1_x2_df['tot_energy_dacs'] - merged_x1_x2_df['Ecoh_m1'] - merged_x1_x2_df['tot_energy_M2']\n",
    "\n",
    "# Dropping duplicates\n",
    "merged_x1_x2_df = merged_x1_x2_df.drop_duplicates()\n",
    "\n",
    "\n",
    "Edft_fe_df =merged_x1_x2_df\n",
    "\n",
    "# Define the path where you want to save the CSV file\n",
    "save_path = os.path.join(dacs_energies_out_dir, 'Edft_fe_df.csv')\n",
    "\n",
    "# Save the dataframe to a CSV file\n",
    "Edft_fe_df.to_csv(save_path, index=False, header=True)\n"
   ]
  },
  {
   "cell_type": "markdown",
   "metadata": {},
   "source": [
    "| **Feature Name**             | **Description**                                                                                   |\n",
    "|------------------------------|-------------------------------------------------------------------------------------------------|\n",
    "| `system_dacs`                | Identifier for the dual-atom catalyst (DAC) system, combining M1 and M2 adsorbed on a cavity.   |\n",
    "| `tot_energy_dacs`            | Total DFT energy of the DAC system with both M1 and M2 metals adsorbed.                         |\n",
    "| `M1`                        | Symbol or type of the first metal atom in the DAC.                                              |\n",
    "| `M2`                        | Symbol or type of the second metal atom in the DAC.                                             |\n",
    "| `heteroatom_dacs`            | Type of heteroatom(s) present in the DAC support structure (e.g., N, B, O).                     |\n",
    "| `basic_cavity_dacs`          | Simplified or generalized descriptor of the DAC binding site or cavity.                         |\n",
    "| `cavity`                    | Original cavity identifier associated with the DAC structure.                                  |\n",
    "| `cavity_v2`                 | Cleaned or standardized version of `cavity` for consistent analysis and plotting.              |\n",
    "| `cavity_3`                  | Additional refined or grouped cavity classification.                                            |\n",
    "| `M1_cavity`                 | Identifier for the site or cavity associated with the first metal (M1) adsorbed singly.         |\n",
    "| `cavity_4`                  | Another variant of cavity categorization used for filtering or grouping.                        |\n",
    "| `M2_cavity`                 | Identifier for the site or cavity associated with the second metal (M2) adsorbed singly.        |\n",
    "| `system_sacs_pristine`      | Identifier for pristine single-atom catalyst (SAC) systems without metals adsorbed.             |\n",
    "| `tot_energy_sacs_pristine`  | Total DFT energy of the pristine SAC system (without metal adsorption).                         |\n",
    "| `heteroatom_sacs_pristine`  | Heteroatom type(s) present in the pristine SAC support.                                        |\n",
    "| `basic_cavity_sacs_pristine`| Simplified descriptor of the pristine SAC cavity site.                                         |\n",
    "| `metal`                     | Metal type or symbol associated with cohesive and atomic properties.                           |\n",
    "| `Ecoh`                      | Cohesive energy of the metal atom, representing the energy needed to break it into atoms.      |\n",
    "| `atomic_mass`               | Atomic mass of the metal (in atomic mass units).                                               |\n",
    "| `vdw_radius`                | Van der Waals radius of the metal atom (in angstroms).                                        |\n",
    "| `r_cov_sb`                  | Covalent radius for single bonds (in angstroms).                                              |\n",
    "| `r_cov_db`                  | Covalent radius for double bonds (in angstroms).                                              |\n",
    "| `dipole_polarizability`    | Dipole polarizability of the metal atom, indicating how easily its electron cloud distorts.    |\n",
    "| `ionic_radii_crystals`     | Ionic radius of the metal in crystal structures (in angstroms).                               |\n",
    "| `d_center_sp`               | d-band center position relative to the Fermi level, an electronic descriptor relevant to catalysis. |\n",
    "| `Paul_electroneg`           | Pauling electronegativity of the metal atom.                                                  |\n",
    "| `MB_electroneg`             | Mulliken–Brønsted electronegativity, another measure of electronegativity.                    |\n",
    "| `electron_affinity`         | Electron affinity of the metal atom (energy released when adding an electron).                 |\n",
    "| `covalent_radius`           | Covalent radius of the metal atom (in angstroms).                                             |\n",
    "| `atomic_number`             | Atomic number (number of protons) of the metal element.                                       |\n",
    "| `Ion_energ_I`               | First ionization energy of the metal atom (energy to remove first electron).                   |\n",
    "| `Ion_energ_II`              | Second ionization energy of the metal atom.                                                   |\n",
    "| `Zung_radius`               | Zunger effective ionic radius (a specific empirical radius).                                 |\n",
    "| `Coh_radius`                | Cohn effective atomic radius.                                                                 |\n",
    "| `Waber_radius`              | Waber atomic radius, another empirical measure of atomic size.                                |\n",
    "| `mied_param_h`              | Miedema model parameter h, related to enthalpy calculations in alloys.                        |\n",
    "| `mied_param_phi`            | Miedema model parameter phi, related to electronegativity differences in alloys.              |\n",
    "| `HOMO`                      | Highest Occupied Molecular Orbital energy level of the metal atom or system.                   |\n",
    "| `LUMO`                      | Lowest Unoccupied Molecular Orbital energy level.                                             |\n",
    "| `mag_moment_bulk_d`         | Magnetic moment of the metal in bulk form, from d-electrons.                                 |\n",
    "| `E_Fermi`                   | Fermi energy level of the metal or system (in eV).                                           |\n",
    "| `E_Fermi2`                  | Secondary Fermi energy measurement or corrected value.                                       |\n",
    "| `Ecoh_m1`                   | Cohesive energy specifically assigned to M1 in the merged dataset.                           |\n",
    "| `system`                    | Generic system identifier used in merged datasets for M2 or other references.                 |\n",
    "| `tot_energy_M2`             | Total DFT energy of the system with only M2 adsorbed.                                        |\n",
    "| `Edft_fe`                   | Calculated stepwise adsorption energy measuring the energy change when adding M1 to M2/cavity.|\n"
   ]
  },
  {
   "cell_type": "code",
   "execution_count": null,
   "metadata": {},
   "outputs": [],
   "source": [
    "Edft_fe_df.shape"
   ]
  },
  {
   "cell_type": "code",
   "execution_count": null,
   "metadata": {},
   "outputs": [],
   "source": [
    "print(\", \".join(Edft_fe_df.columns))"
   ]
  },
  {
   "cell_type": "code",
   "execution_count": null,
   "metadata": {},
   "outputs": [],
   "source": [
    "Edft_fe_df.sample()"
   ]
  },
  {
   "cell_type": "code",
   "execution_count": null,
   "metadata": {},
   "outputs": [],
   "source": [
    "Edft_fe_df.describe().T.round(2)"
   ]
  },
  {
   "cell_type": "markdown",
   "metadata": {},
   "source": [
    "## Boxplot of the Edft_fe by metal "
   ]
  },
  {
   "cell_type": "code",
   "execution_count": null,
   "metadata": {},
   "outputs": [],
   "source": [
    "fig = plot_categorical_energy_boxplot(\n",
    "    df=Edft_fe_df,\n",
    "    x_col='M1',\n",
    "    y_col='Edft_fe',\n",
    "    color_map=metal_colors,\n",
    "    hover_col='system_dacs',\n",
    "    x_title='Metal',\n",
    "    y_title='Edft_fe Energy',\n",
    "\n",
    "    save_dir='../../../data/figures/dacs_eda',\n",
    "    file_name='Edft_fe_M1_metal_boxplot'\n",
    ")\n",
    "\n",
    "fig.show()\n"
   ]
  },
  {
   "cell_type": "markdown",
   "metadata": {},
   "source": [
    "## Boxplot of the Edft_fe by metal - no outliers"
   ]
  },
  {
   "cell_type": "code",
   "execution_count": null,
   "metadata": {},
   "outputs": [],
   "source": [
    "# Map colors to the metal types in the dataframe\n",
    "Edft_fe_df['color'] = Edft_fe_df['M1'].map(metal_colors)\n",
    "\n",
    "# Detect outliers\n",
    "outliers_dacs_metal_Edft_fe = detect_outliers(Edft_fe_df, 'M1', 'Edft_fe')\n",
    "\n",
    "# Save the outliers to a CSV file\n",
    "outliers_path = os.path.join(dacs_energies_out_dir, 'outliers_dacs_metal_dft_Edft_fe.csv')\n",
    "outliers_dacs_metal_Edft_fe.to_csv(outliers_path, index=False, header=True)\n",
    "\n",
    "# Remove outliers from the dataset\n",
    "Edft_fe_df_no_outliers_metal = Edft_fe_df[~Edft_fe_df.index.isin(outliers_dacs_metal_Edft_fe.index)]\n",
    "\n",
    "fig = plot_categorical_energy_boxplot(\n",
    "    df=Edft_fe_df_no_outliers_metal,\n",
    "    x_col='M1',\n",
    "    y_col='Edft_fe',\n",
    "    color_map=metal_colors,\n",
    "    hover_col='system_dacs',\n",
    "    x_title='Metal',\n",
    "    y_title='Edft_fe Energy',\n",
    "    save_dir='../../../data/figures/dacs_eda',\n",
    "    file_name='Edft_fe_M1_metal_boxplot_no_outliers'\n",
    ")\n",
    "\n",
    "fig.show()\n"
   ]
  },
  {
   "cell_type": "markdown",
   "metadata": {},
   "source": [
    "## Boxplot of the Edft_fe by cavity"
   ]
  },
  {
   "cell_type": "code",
   "execution_count": null,
   "metadata": {},
   "outputs": [],
   "source": [
    "plot_categorical_energy_boxplot(\n",
    "    df=Edft_fe_df,\n",
    "    x_col='cavity_v2',\n",
    "    y_col='Edft_fe',\n",
    "    color_map=cavity_colors,\n",
    "    hover_col='system_dacs',\n",
    "    save_dir='../../../data/figures/dacs_eda',\n",
    "    x_title='Cavity',\n",
    "    y_title='E_dft_Fe Energy',\n",
    "    file_name='Edft_fe_M1_cavity_boxplot'\n",
    ")\n",
    "\n"
   ]
  },
  {
   "cell_type": "markdown",
   "metadata": {},
   "source": [
    "## Boxplot of the Edft_fe by cavity - no outliers"
   ]
  },
  {
   "cell_type": "code",
   "execution_count": null,
   "metadata": {},
   "outputs": [],
   "source": [
    "# Assuming Edft_coh_df and metal_colors are already defined\n",
    "\n",
    "# Map colors to the metal types in the dataframe\n",
    "Edft_fe_df['color'] = Edft_fe_df['cavity_v2'].map(cavity_colors)\n",
    "\n",
    "# Detect outliers\n",
    "outliers_cavity_dacs_Edft_fe = detect_outliers(Edft_fe_df, 'cavity_v2', 'Edft_fe')\n",
    "\n",
    "\n",
    "\n",
    "# Save the outliers to a CSV file\n",
    "outliers_path = os.path.join(dacs_energies_out_dir, 'outliers_dacs_cavity_Edft_fe.csv')\n",
    "outliers_cavity_dacs_Edft_fe.to_csv(outliers_path, index=False, header=True)\n",
    "\n",
    "# Remove outliers from the dataset\n",
    "Edft_fe_df_no_outliers_cav = Edft_fe_df[~Edft_fe_df.index.isin(outliers_cavity_dacs_Edft_fe.index)]\n",
    "\n",
    "plot_categorical_energy_boxplot(\n",
    "    df=Edft_fe_df_no_outliers_cav,\n",
    "    x_col='cavity_v2',\n",
    "    y_col='Edft_fe',\n",
    "    color_map=cavity_colors,\n",
    "    hover_col='system_dacs',\n",
    "    save_dir='../../../data/figures/dacs_eda',\n",
    "    x_title='Cavity',\n",
    "    y_title='E_dft_Fe Energy',\n",
    "    file_name='Edft_fe_M1_cavity_boxplot_no_outliers'\n",
    ")\n",
    "\n"
   ]
  },
  {
   "cell_type": "markdown",
   "metadata": {},
   "source": [
    "## Data Cleaning: Removing Metal and Cavity Outliers"
   ]
  },
  {
   "cell_type": "code",
   "execution_count": null,
   "metadata": {},
   "outputs": [],
   "source": [
    "# Combine indices from outliers_dacs_metal and outliers_dacs_cavity\n",
    "combined_outliers_indices = outliers_dacs_metal_Edft_fe.index.union(outliers_cavity_dacs_Edft_fe.index)\n",
    "\n",
    "Edft_fe_df_iqr = Edft_fe_df[~Edft_fe_df.index.isin(combined_outliers_indices)]"
   ]
  },
  {
   "cell_type": "code",
   "execution_count": null,
   "metadata": {},
   "outputs": [],
   "source": [
    "# Define the path where you want to save the CSV file\n",
    "save_path_csv = os.path.join(dacs_energies_out_dir, 'Edft_fe_df_iqr.csv')\n",
    "\n",
    "# Save the dataframe to a CSV file\n",
    "Edft_fe_df_iqr.to_csv(save_path_csv, index=False, header=True)\n",
    "\n",
    "# Define the path where you want to save the pickle file\n",
    "save_path_pkl = os.path.join(dacs_energies_out_dir, 'Edft_fe_df_iqr.pkl')\n",
    "\n",
    "# Save the dataframe to a pickle file\n",
    "Edft_fe_df_iqr.to_pickle(save_path_pkl)\n"
   ]
  },
  {
   "cell_type": "markdown",
   "metadata": {},
   "source": [
    "| **Feature Name**             | **Description**                                                                                   |\n",
    "|------------------------------|-------------------------------------------------------------------------------------------------|\n",
    "| `system_dacs`                | Identifier for the dual-atom catalyst (DAC) system, combining M1 and M2 adsorbed on a cavity.   |\n",
    "| `tot_energy_dacs`            | Total DFT energy of the DAC system with both M1 and M2 metals adsorbed.                         |\n",
    "| `M1`                        | Symbol or type of the first metal atom in the DAC.                                              |\n",
    "| `M2`                        | Symbol or type of the second metal atom in the DAC.                                             |\n",
    "| `heteroatom_dacs`            | Type of heteroatom(s) present in the DAC support structure (e.g., N, B, O).                     |\n",
    "| `basic_cavity_dacs`          | Simplified or generalized descriptor of the DAC binding site or cavity.                         |\n",
    "| `cavity`                    | Original cavity identifier associated with the DAC structure.                                  |\n",
    "| `cavity_v2`                 | Cleaned or standardized version of `cavity` for consistent analysis and plotting.              |\n",
    "| `cavity_3`                  | Additional refined or grouped cavity classification.                                            |\n",
    "| `M1_cavity`                 | Identifier for the site or cavity associated with the first metal (M1) adsorbed singly.         |\n",
    "| `cavity_4`                  | Another variant of cavity categorization used for filtering or grouping.                        |\n",
    "| `M2_cavity`                 | Identifier for the site or cavity associated with the second metal (M2) adsorbed singly.        |\n",
    "| `system_sacs_pristine`      | Identifier for pristine single-atom catalyst (SAC) systems without metals adsorbed.             |\n",
    "| `tot_energy_sacs_pristine`  | Total DFT energy of the pristine SAC system (without metal adsorption).                         |\n",
    "| `heteroatom_sacs_pristine`  | Heteroatom type(s) present in the pristine SAC support.                                        |\n",
    "| `basic_cavity_sacs_pristine`| Simplified descriptor of the pristine SAC cavity site.                                         |\n",
    "| `metal`                     | Metal type or symbol associated with cohesive and atomic properties.                           |\n",
    "| `Ecoh`                      | Cohesive energy of the metal atom, representing the energy needed to break it into atoms.      |\n",
    "| `atomic_mass`               | Atomic mass of the metal (in atomic mass units).                                               |\n",
    "| `vdw_radius`                | Van der Waals radius of the metal atom (in angstroms).                                        |\n",
    "| `r_cov_sb`                  | Covalent radius for single bonds (in angstroms).                                              |\n",
    "| `r_cov_db`                  | Covalent radius for double bonds (in angstroms).                                              |\n",
    "| `dipole_polarizability`    | Dipole polarizability of the metal atom, indicating how easily its electron cloud distorts.    |\n",
    "| `ionic_radii_crystals`     | Ionic radius of the metal in crystal structures (in angstroms).                               |\n",
    "| `d_center_sp`               | d-band center position relative to the Fermi level, an electronic descriptor relevant to catalysis. |\n",
    "| `Paul_electroneg`           | Pauling electronegativity of the metal atom.                                                  |\n",
    "| `MB_electroneg`             | Mulliken–Brønsted electronegativity, another measure of electronegativity.                    |\n",
    "| `electron_affinity`         | Electron affinity of the metal atom (energy released when adding an electron).                 |\n",
    "| `covalent_radius`           | Covalent radius of the metal atom (in angstroms).                                             |\n",
    "| `atomic_number`             | Atomic number (number of protons) of the metal element.                                       |\n",
    "| `Ion_energ_I`               | First ionization energy of the metal atom (energy to remove first electron).                   |\n",
    "| `Ion_energ_II`              | Second ionization energy of the metal atom.                                                   |\n",
    "| `Zung_radius`               | Zunger effective ionic radius (a specific empirical radius).                                 |\n",
    "| `Coh_radius`                | Cohn effective atomic radius.                                                                 |\n",
    "| `Waber_radius`              | Waber atomic radius, another empirical measure of atomic size.                                |\n",
    "| `mied_param_h`              | Miedema model parameter h, related to enthalpy calculations in alloys.                        |\n",
    "| `mied_param_phi`            | Miedema model parameter phi, related to electronegativity differences in alloys.              |\n",
    "| `HOMO`                      | Highest Occupied Molecular Orbital energy level of the metal atom or system.                   |\n",
    "| `LUMO`                      | Lowest Unoccupied Molecular Orbital energy level.                                             |\n",
    "| `mag_moment_bulk_d`         | Magnetic moment of the metal in bulk form, from d-electrons.                                 |\n",
    "| `E_Fermi`                   | Fermi energy level of the metal or system (in eV).                                           |\n",
    "| `E_Fermi2`                  | Secondary Fermi energy measurement or corrected value.                                       |\n",
    "| `Ecoh_m1`                   | Cohesive energy specifically assigned to M1 in the merged dataset.                           |\n",
    "| `system`                    | Generic system identifier used in merged datasets for M2 or other references.                 |\n",
    "| `tot_energy_M2`             | Total DFT energy of the system with only M2 adsorbed.                                        |\n",
    "| `Edft_fe`                   | Calculated stepwise adsorption energy measuring the energy change when adding M1 to M2/cavity.|\n",
    "| `color`                    | Color code assigned based on categorical mapping (e.g., metal or cavity) for plotting purposes.|\n"
   ]
  },
  {
   "cell_type": "code",
   "execution_count": null,
   "metadata": {},
   "outputs": [],
   "source": [
    "Edft_fe_df_iqr.shape"
   ]
  },
  {
   "cell_type": "code",
   "execution_count": null,
   "metadata": {},
   "outputs": [],
   "source": [
    "print(\", \".join(Edft_fe_df_iqr.columns))"
   ]
  },
  {
   "cell_type": "code",
   "execution_count": null,
   "metadata": {},
   "outputs": [],
   "source": [
    "Edft_fe_df_iqr.sample()"
   ]
  },
  {
   "cell_type": "code",
   "execution_count": null,
   "metadata": {},
   "outputs": [],
   "source": [
    "Edft_fe_df_iqr.describe().T.round(2)"
   ]
  }
 ],
 "metadata": {
  "kernelspec": {
   "display_name": "bms",
   "language": "python",
   "name": "python3"
  },
  "language_info": {
   "codemirror_mode": {
    "name": "ipython",
    "version": 3
   },
   "file_extension": ".py",
   "mimetype": "text/x-python",
   "name": "python",
   "nbconvert_exporter": "python",
   "pygments_lexer": "ipython3",
   "version": "3.10.13"
  }
 },
 "nbformat": 4,
 "nbformat_minor": 2
}
