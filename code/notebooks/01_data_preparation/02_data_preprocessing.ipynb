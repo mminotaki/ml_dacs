{
 "cells": [
  {
   "cell_type": "markdown",
   "metadata": {},
   "source": [
    "# 0.2 Merging SACs on doped carbon features to DACs dataset\n"
   ]
  },
  {
   "cell_type": "markdown",
   "metadata": {},
   "source": [
    "## Notebook Setup: Imports and Configuration"
   ]
  },
  {
   "cell_type": "code",
   "execution_count": null,
   "metadata": {},
   "outputs": [],
   "source": [
    "# ─────────────────────────────\n",
    "# Standard Library Imports\n",
    "# ─────────────────────────────\n",
    "import os\n",
    "import sys\n",
    "\n",
    "# ─────────────────────────────\n",
    "# Adjust sys.path for Local Modules\n",
    "# ─────────────────────────────\n",
    "src_dir = os.path.abspath(os.path.join('..', '..', 'src'))\n",
    "if src_dir not in sys.path:\n",
    "    sys.path.append(src_dir)\n",
    "\n",
    "# ─────────────────────────────\n",
    "# Project-Specific Imports\n",
    "# ─────────────────────────────\n",
    "from utils import *\n",
    "from vis import *\n",
    "from settings import *"
   ]
  },
  {
   "cell_type": "markdown",
   "metadata": {},
   "source": [
    "## Load Processed Datasets and Feature Files"
   ]
  },
  {
   "cell_type": "markdown",
   "metadata": {},
   "source": [
    "This section loads all necessary input data for model evaluation and energy analysis, including:\n",
    "- Main energy datasets (`Edft_coh`, `Eint`, `Edft_fe`)\n",
    "- ML prediction results (`rfr_mlogocv_df`)\n",
    "- Geometric and electronic features for SACs and DACs"
   ]
  },
  {
   "cell_type": "code",
   "execution_count": null,
   "metadata": {},
   "outputs": [],
   "source": [
    "# Define data directories\n",
    "rfr_ads_out_dir = '../../../data/external/rfr_logocv_out'\n",
    "dacs_energies_out_dir = '../../../data/external/dacs_energies_out'\n",
    "sacs_features_out_dir = '../../../data/raw'\n",
    "ratio_features_out_dir = '../../../data/external/features_out'\n",
    "\n",
    "#Main datasets\n",
    "rfr_mlogocv_df = pd.read_csv(os.path.join(rfr_ads_out_dir, 'rfr_mlogocv.csv'))\n",
    "Edft_coh_df = pd.read_csv(os.path.join(dacs_energies_out_dir, 'Edft_coh_df.csv'))\n",
    "Edft_coh_df_iqr = pd.read_csv(os.path.join(dacs_energies_out_dir, 'Edft_coh_df_iqr.csv'))\n",
    "\n",
    "#Feature Datasets\n",
    "sacs_features_df = pd.read_csv(os.path.join(sacs_features_out_dir, 'features_sacs_ml.csv'))\n",
    "bimetallic_int_energies_df = pd.read_csv(os.path.join(sacs_features_out_dir, 'bimetallic_interaction_energies.csv'))\n",
    "Eratio_df = pd.read_csv(os.path.join(ratio_features_out_dir, 'aspect_ratio.csv'))\n",
    "convex_hull_df = pd.read_csv(os.path.join(ratio_features_out_dir, 'convex_hull.csv'))\n",
    "mean_dist_df = pd.read_csv(os.path.join(ratio_features_out_dir, 'mean_distance.csv'))\n",
    "\n",
    "#Energies\n",
    "Eint_df_iqr = pd.read_csv(os.path.join(dacs_energies_out_dir, 'Eint_df_iqr.csv'))\n",
    "Edft_fe_df_iqr = pd.read_csv(os.path.join(dacs_energies_out_dir, 'Edft_fe_df_iqr.csv'))\n"
   ]
  },
  {
   "cell_type": "markdown",
   "metadata": {},
   "source": [
    "# DACs on N-doped carbon dataset"
   ]
  },
  {
   "cell_type": "markdown",
   "metadata": {},
   "source": [
    "| Feature                     | Description                                                                 |\n",
    "|----------------------------|-----------------------------------------------------------------------------|\n",
    "| `system_dacs`              | Identifier for the full DAC (dual-atom catalyst) system.                    |\n",
    "| `tot_energy_dacs`          | Total DFT-calculated energy of the DAC system.                              |\n",
    "| `M1`                       | Symbol of the first metal atom in the DAC.                                  |\n",
    "| `M2`                       | Symbol of the second metal atom in the DAC.                                 |\n",
    "| `heteroatom_dacs`          | Indicates whether a heteroatom is present in the DAC structure.             |\n",
    "| `basic_cavity_dacs`        | Basic cavity label defining the DAC geometry/topology.                      |\n",
    "| `cavity`                   | Standardized label for the DAC cavity.                                      |\n",
    "| `cavity_v2`                | Refined version of `cavity` with cleaner or grouped labels.                 |\n",
    "| `cavity_3`                 | Variant of the cavity label (e.g., for plotting/grouping).                  |\n",
    "| `M1_cavity`                | Cavity structure specific to the M1 metal atom.                              |\n",
    "| `cavity_4`                 | Another variant of cavity, potentially for multilevel grouping.             |\n",
    "| `M2_cavity`                | Cavity structure specific to the M2 metal atom.                              |\n",
    "| `system_sacs_pristine`     | Identifier for the pristine SAC system used as a reference.                |\n",
    "| `tot_energy_sacs_pristine`| Total energy of the pristine single-atom catalyst structure.                |\n",
    "| `heteroatom_sacs_pristine`| Indicates heteroatom presence in the pristine SAC.                          |\n",
    "| `basic_cavity_sacs_pristine`| Basic cavity geometry of the pristine SAC structure.                      |\n",
    "| `Ecoh_m1`                  | Cohesive energy of the M1 metal atom (used as reference).                   |\n",
    "| `Ecoh_m2`                  | Cohesive energy of the M2 metal atom (used as reference).                   |\n",
    "| `E_dft_M1M2`               | Adsorption energy of the M1–M2 DAC system, referenced to cohesive energies. |\n",
    "| `color`                    | Color assigned to the system or metal for plotting/visualization.           |\n"
   ]
  },
  {
   "cell_type": "markdown",
   "metadata": {},
   "source": [
    "> 💡 **Note:** We selected `E_dft_coh_df_iqr` as the main dataset for constructing the final feature set.  "
   ]
  },
  {
   "cell_type": "code",
   "execution_count": null,
   "metadata": {},
   "outputs": [],
   "source": [
    "Edft_coh_df_iqr.shape"
   ]
  },
  {
   "cell_type": "code",
   "execution_count": null,
   "metadata": {},
   "outputs": [],
   "source": [
    "print(\", \".join(Edft_coh_df_iqr.columns))"
   ]
  },
  {
   "cell_type": "code",
   "execution_count": null,
   "metadata": {},
   "outputs": [],
   "source": [
    "Edft_coh_df_iqr.sample()"
   ]
  },
  {
   "cell_type": "code",
   "execution_count": null,
   "metadata": {},
   "outputs": [],
   "source": [
    "Edft_coh_df_iqr.describe().T.round(2)\n"
   ]
  },
  {
   "cell_type": "markdown",
   "metadata": {},
   "source": [
    "## Adding M1 and M2 System Columns\n"
   ]
  },
  {
   "cell_type": "markdown",
   "metadata": {},
   "source": [
    "This step creates two new columns — `M1_System` and `M2_System` — that uniquely represent the identity of each metal (M1 and M2) together with its associated coordination environment (cavity).  \n",
    "The cavity roles are mapped using `dacs_dict`, which defines the position of each metal in the DAC structure."
   ]
  },
  {
   "cell_type": "code",
   "execution_count": null,
   "metadata": {},
   "outputs": [],
   "source": [
    "# M1_System -> M1, cavity\n",
    "# M2_System -> M2, cavity\n",
    "\n",
    "Edft_coh_df_iqr['M1_System'] = Edft_coh_df_iqr.apply(\n",
    "    lambda row: f\"{row['M1']}_{dacs_dict.get(row['cavity'], [None, None])[0]}\", axis=1)\n",
    "\n",
    "Edft_coh_df_iqr['M2_System'] = Edft_coh_df_iqr.apply(\n",
    "    lambda row: f\"{row['M2']}_{dacs_dict.get(row['cavity'], [None, None])[1]}\", axis=1)"
   ]
  },
  {
   "cell_type": "markdown",
   "metadata": {},
   "source": [
    "## Merging rfr_logocv_df into Edft_coh_df_iqr"
   ]
  },
  {
   "cell_type": "markdown",
   "metadata": {},
   "source": [
    "This code merges the `Edft_coh_df_iqr` dataset with the SACs on doped carbon dataset `rfr_mlogocv_df`:\n",
    "\n",
    "1. **First Merge**: Joins with `rfr_mlogocv_df` on `M1_System` to fetch the DFT simulated adsorption energy (`y`) and stores it as `y_M1_System`.\n",
    "2. **Second Merge**: Repeats the process for `M2_System`, storing the result in `y_M2_System`."
   ]
  },
  {
   "cell_type": "code",
   "execution_count": null,
   "metadata": {},
   "outputs": [],
   "source": [
    "# Merge Edft_coh_df with rfr_mlogocv_df on 'M1_System' to get y_M1_System\n",
    "Edft_coh_df_iqr= Edft_coh_df_iqr.merge(\n",
    "    rfr_mlogocv_df[['System', 'y']].rename(columns={'System': 'M1_System', 'y': 'y_M1_System'}),\n",
    "    on='M1_System',\n",
    "    how='left'\n",
    ")\n",
    "\n",
    "# Merge Edft_coh_df with rfr_mlogocv_df on 'M2_System' to get y_M2_System\n",
    "Edft_coh_df_iqr = Edft_coh_df_iqr.merge(\n",
    "    rfr_mlogocv_df[['System', 'y']].rename(columns={'System': 'M2_System', 'y': 'y_M2_System'}),\n",
    "    on='M2_System',\n",
    "    how='left'\n",
    ")\n"
   ]
  },
  {
   "cell_type": "markdown",
   "metadata": {},
   "source": [
    "3. **Final Step**: Adds a new feature, `y_System`, calculated as the sum of `y_M1_System` and `y_M2_System`, representing the combined DFT simulated adsorption energy of the dual-metal system."
   ]
  },
  {
   "cell_type": "code",
   "execution_count": null,
   "metadata": {},
   "outputs": [],
   "source": [
    "Edft_coh_df_iqr['y_System'] = Edft_coh_df_iqr['y_M1_System']+Edft_coh_df_iqr['y_M2_System']"
   ]
  },
  {
   "cell_type": "markdown",
   "metadata": {},
   "source": [
    "| Feature                    | Description                                                                 |\n",
    "|---------------------------|-----------------------------------------------------------------------------|\n",
    "| `system_dacs`             | Identifier for the dual-atom catalyst (DAC) system.                         |\n",
    "| `tot_energy_dacs`         | Total DFT energy of the DAC structure with both M1 and M2 adsorbed.        |\n",
    "| `M1`                      | First metal atom in the DAC system.                                         |\n",
    "| `M2`                      | Second metal atom in the DAC system.                                        |\n",
    "| `heteroatom_dacs`         | Heteroatom(s) present in the DAC structure.                                 |\n",
    "| `basic_cavity_dacs`       | Description of the base cavity type in the DAC.                             |\n",
    "| `cavity`                  | Canonical cavity label used in the DAC.                                     |\n",
    "| `cavity_v2`               | Alternative or updated naming version for the cavity.                       |\n",
    "| `cavity_3`                | Variant or subclassification of the cavity.                                 |\n",
    "| `M1_cavity`               | Cavity type associated with the M1 atom.                                    |\n",
    "| `cavity_4`                | Further detailed version of the cavity label.                               |\n",
    "| `M2_cavity`               | Cavity type associated with the M2 atom.                                    |\n",
    "| `system_sacs_pristine`    | Identifier for the pristine SAC (single-atom catalyst) system.              |\n",
    "| `tot_energy_sacs_pristine`| Total energy of the pristine (unmodified) SAC structure.                    |\n",
    "| `heteroatom_sacs_pristine`| Heteroatoms in the pristine SAC.                                            |\n",
    "| `basic_cavity_sacs_pristine` | Base cavity type in the pristine SAC.                                 |\n",
    "| `Ecoh_m1`                 | Cohesive energy of metal M1.                                                |\n",
    "| `Ecoh_m2`                 | Cohesive energy of metal M2.                                                |\n",
    "| `E_dft_M1M2`              | Adsorption energy for the DAC system: total energy minus individual contributions. |\n",
    "| `color`                   | Color label used for plotting (e.g., by metal or cavity).                   |\n",
    "| `M1_System`               | Unique label combining M1 and its cavity (e.g., `Fe_C1`).                   |\n",
    "| `M2_System`               | Unique label combining M2 and its cavity.                                   |\n",
    "| `y_M1_System`             | Predicted adsorption energy for the M1 single-metal system.                 |\n",
    "| `y_M2_System`             | Predicted adsorption energy for the M2 single-metal system.                 |\n",
    "| `y_System`                | Combined predicted adsorption energy for the DAC (`y_M1_System + y_M2_System`). |\n"
   ]
  },
  {
   "cell_type": "code",
   "execution_count": null,
   "metadata": {},
   "outputs": [],
   "source": [
    "Edft_coh_df_iqr.shape"
   ]
  },
  {
   "cell_type": "code",
   "execution_count": null,
   "metadata": {},
   "outputs": [],
   "source": [
    "print(\", \".join(Edft_coh_df_iqr.columns))"
   ]
  },
  {
   "cell_type": "code",
   "execution_count": null,
   "metadata": {},
   "outputs": [],
   "source": [
    "Edft_coh_df_iqr.sample()"
   ]
  },
  {
   "cell_type": "code",
   "execution_count": null,
   "metadata": {},
   "outputs": [],
   "source": [
    "Edft_coh_df_iqr.describe().T.round(2)\n"
   ]
  },
  {
   "cell_type": "markdown",
   "metadata": {},
   "source": [
    "## Merging SACs on doped carbon features with the DACs on N-doped carbon dataset"
   ]
  },
  {
   "cell_type": "markdown",
   "metadata": {},
   "source": [
    "We filtered the `sacs_features_df` dataset to include only entries where the heteroatom in the local coordination environment is either **carbon (C)** or **nitrogen (N)**. "
   ]
  },
  {
   "cell_type": "code",
   "execution_count": null,
   "metadata": {},
   "outputs": [],
   "source": [
    "sacs_features_df = sacs_features_df[sacs_features_df['hetatom'].isin(['N', 'C'])]"
   ]
  },
  {
   "cell_type": "markdown",
   "metadata": {},
   "source": [
    "| `Feature`                | Description                                                 |\n",
    "|--------------------------|-------------------------------------------------------------|\n",
    "| `System`                 | Identifier for each catalytic system                         |\n",
    "| `Eads_gas`               | Adsorption energy in gas phase                               |\n",
    "| `Eads`                   | Adsorption energy                                           |\n",
    "| `calc_energy`            | Calculated energy of the system                             |\n",
    "| `metal`                  | Metal atom type                                            |\n",
    "| `cavity`                 | Identifier for the cavity structure                         |\n",
    "| `plot_label`             | Label used for plotting                                    |\n",
    "| `metal_energy`           | Energy related to the metal atom                           |\n",
    "| `atomic_mass`            | Atomic mass of the metal                                   |\n",
    "| `vdw_radius`             | Van der Waals radius                                      |\n",
    "| `r_cov_sb`               | Covalent radius single bond                               |\n",
    "| `r_cov_db`               | Covalent radius double bond                               |\n",
    "| `dipole_polarizability`  | Dipole polarizability of the metal atom                   |\n",
    "| `ionic_radii_crystals`   | Ionic radius in crystal form                              |\n",
    "| `d_center_sp`            | Distance to center of sp orbitals                         |\n",
    "| `Paul_electroneg`        | Pauling electronegativity                                |\n",
    "| `MB_electroneg`          | Mulliken–Becke electronegativity                         |\n",
    "| `electron_affinity`      | Electron affinity                                        |\n",
    "| `covalent_radius`        | Covalent radius                                         |\n",
    "| `atomic_number`          | Atomic number                                          |\n",
    "| `Ion_energ_I`            | First ionization energy                                 |\n",
    "| `Ion_energ_II`           | Second ionization energy                                |\n",
    "| `Zung_radius`            | Zunger radius                                         |\n",
    "| `Coh_radius`             | Cohesion radius                                      |\n",
    "| `Waber_radius`           | Waber radius                                         |\n",
    "| `mied_param_h`           | Miedema parameter h                                  |\n",
    "| `mied_param_phi`         | Miedema parameter phi                                |\n",
    "| `HOMO`                   | Highest occupied molecular orbital                   |\n",
    "| `LUMO`                   | Lowest unoccupied molecular orbital                  |\n",
    "| `mag_moment_bulk_d`      | Magnetic moment in bulk metal                         |\n",
    "| `E_Fermi`                | Fermi energy                                         |\n",
    "| `E_Fermi2`               | Secondary Fermi energy                               |\n",
    "| `d_electrons`            | Number of d-electrons                                |\n",
    "| `vdw_radius2`            | Secondary Van der Waals radius                      |\n",
    "| `total_metal_gas_energy` | Total energy of metal in gas phase                    |\n",
    "| `n_e`                    | Number of electrons                                 |\n",
    "| `U_diss_0`               | Dissociation energy                                |\n",
    "| `ncoord`                 | Coordination number                               |\n",
    "| `number_C`               | Number of carbon atoms                            |\n",
    "| `number_hetero`          | Number of heteroatoms                           |\n",
    "| `frac_hetero`            | Fraction of heteroatoms                         |\n",
    "| `frac_C`                 | Fraction of carbon atoms                       |\n",
    "| `number_hetero_six`      | Number of heteroatoms in six coordination       |\n",
    "| `frac_hetero_six`        | Fraction heteroatoms in six coordination        |\n",
    "| `number_hetero_five`     | Number of heteroatoms in five coordination      |\n",
    "| `frac_hetero_five`       | Fraction heteroatoms in five coordination       |\n",
    "| `hetatom`                | Type of heteroatom present                      |\n",
    "| `r1, r2, ..., r8`        | Distances to first to eighth nearest neighbors  |\n",
    "| `en1, en2, ..., en8`     | Electronegativity of neighbors 1 to 8             |\n",
    "| `min(r), mean(r), ...`   | Minimum, mean, max, std, and sum of distances   |\n",
    "| `min(en), mean(en), ...` | Minimum, mean, max, std, and sum of electronegativities |\n",
    "| `abs_path, rel_path`     | Absolute and relative file paths                  |\n",
    "| `sc, dc`                 | Structural and distance coordination metrics     |\n",
    "| `chem_formula`           | Chemical formula of the system                    |\n",
    "| `num_atoms`              | Number of atoms in the system                     |\n",
    "| `cavity_ids`             | Identifiers for cavities                          |\n",
    "| `cont_cavity_ds`         | Continuous cavity distance metrics                |\n",
    "| `cont_cavity_ang`        | Continuous cavity angle metrics                   |\n",
    "| `cavity_nd`              | Number density in cavity                          |\n",
    "| `cavity_ang`             | Cavity angle                                      |\n",
    "| `posc_cavity_ds`         | Positive cavity distance                          |\n",
    "| `posc_cavity_ang`        | Positive cavity angle                             |\n",
    "| `min(cont_cavity_ds), max(cont_cavity_ds), mean(cont_cavity_ds), std(cont_cavity_ds)` | Statistical metrics on continuous cavity distances |\n",
    "| `min(posc_cavity_ds), max(posc_cavity_ds), mean(posc_cavity_ds), std(posc_cavity_ds)` | Statistical metrics on positive cavity distances   |\n",
    "| `min(cont_cavity_ang), max(cont_cavity_ang), mean(cont_cavity_ang), std(cont_cavity_ang)` | Statistical metrics on continuous cavity angles    |\n",
    "| `min(posc_cavity_ang), max(posc_cavity_ang), mean(posc_cavity_ang), std(posc_cavity_ang)` | Statistical metrics on positive cavity angles      |\n",
    "| `delta_min_ds, delta_max_ds` | Change in min and max cavity distances          |\n",
    "| `cavity_energy`          | Energy associated with the cavity                   |\n",
    "| `fermi_energy_cavity`    | Fermi energy of cavity                              |\n",
    "| `surface`                | Surface area                                      |\n",
    "| `perimeter`              | Perimeter of the cavity                            |\n",
    "| `z_max, z_min, z_std, z_mean` | Z-coordinates max, min, std, mean             |\n",
    "| `z_max_sec, z_min_sec, z_std_sec, z_mean_sec` | Secondary z-coordinate statistics         |\n",
    "| `phi`                    | Work function or related property                  |\n"
   ]
  },
  {
   "cell_type": "markdown",
   "metadata": {},
   "source": [
    "## Merging sacs_features_df into  Edft_coh_df_iqr"
   ]
  },
  {
   "cell_type": "markdown",
   "metadata": {},
   "source": [
    "This code renames the `cavity` column in `sacs_features_df` to `cavity_dc` to prevent naming conflicts. Then, it merges `Edft_coh_df_iqr` with `sacs_features_df` by matching the `M1_cavity` column in the former with the `plot_label` column in the latter, using an inner join to retain only common entries. After the merge, the redundant `cavity_dc` column is dropped. The resulting merged DataFrame is saved as `Edft_coh_df_iqr_2` for further analysis.\n"
   ]
  },
  {
   "cell_type": "code",
   "execution_count": null,
   "metadata": {},
   "outputs": [],
   "source": [
    "# Rename the 'cavity' column in sacs_features_df to avoid confusion\n",
    "sacs_features_df = sacs_features_df.rename(columns={'cavity': 'cavity_dc'})\n",
    "\n",
    "# Merge the dataframes on 'cavity' from sacs_features_df and 'M1_cavity' from Edft_coh_df_clean\n",
    "merged_df = pd.merge(Edft_coh_df_iqr, sacs_features_df, left_on='M1_cavity', right_on='plot_label', how='inner') \n",
    "\n",
    "# Drop the 'cavity_dc' column from sacs_features_df that was included in the merge\n",
    "merged_df = merged_df.drop(columns=['cavity_dc'])\n",
    "\n",
    "\n",
    "# Update Edft_coh_df_clean with the merged DataFrame\n",
    "Edft_coh_df_iqr_2 = merged_df\n"
   ]
  },
  {
   "cell_type": "code",
   "execution_count": null,
   "metadata": {},
   "outputs": [],
   "source": [
    "Edft_coh_df_iqr_2.shape"
   ]
  },
  {
   "cell_type": "markdown",
   "metadata": {},
   "source": [
    "💡 **Note:**  \n",
    "The merged dataset has fewer rows than the original because an inner join was used. This means only rows with matching keys in both dataframes (`M1_cavity` and `plot_label`) were retained. Rows without a match were excluded, resulting in a smaller dataset.\n"
   ]
  },
  {
   "cell_type": "markdown",
   "metadata": {},
   "source": [
    "## Merging various other properties into Edft_coh_df_iqr"
   ]
  },
  {
   "cell_type": "markdown",
   "metadata": {},
   "source": [
    "💡 The dataset `Edft_coh_df_iqr_2` was merged with the `bimetallic_int_energies_df` dataframe on the `M1` column to include bimetallic interaction energy features. The resulting enriched dataset is stored in `Edft_coh_df_iqr_3`.\n"
   ]
  },
  {
   "cell_type": "code",
   "execution_count": null,
   "metadata": {},
   "outputs": [],
   "source": [
    "\n",
    "# Merge the dataframes on the 'M1' column\n",
    "merged_df_bimetallic_int = pd.merge(\n",
    "    Edft_coh_df_iqr_2,\n",
    "    bimetallic_int_energies_df,\n",
    "    on='M1',\n",
    "    how='inner'\n",
    ")\n",
    "\n",
    "# Update Edft_coh_df_clean with the merged DataFrame\n",
    "Edft_coh_df_iqr_3 = merged_df_bimetallic_int\n"
   ]
  },
  {
   "cell_type": "markdown",
   "metadata": {},
   "source": [
    "💡 The dataset `Edft_coh_df_iqr_3` was merged with the `convex_hull_df` on the `cavity_v2` column to incorporate structural features related to the convex hull of the coordination environment. The updated dataset is stored as `Edft_coh_df_iqr_4`."
   ]
  },
  {
   "cell_type": "code",
   "execution_count": null,
   "metadata": {},
   "outputs": [],
   "source": [
    "\n",
    "# Merge the dataframes on the 'M1' column \n",
    "merged_df_convex_hull = pd.merge(\n",
    "    Edft_coh_df_iqr_3,\n",
    "    convex_hull_df,\n",
    "    on='cavity_v2',\n",
    "    how='inner'\n",
    ")\n",
    "\n",
    "# Update Edft_coh_df_clean with the merged DataFrame\n",
    "Edft_coh_df_iqr_4 = merged_df_convex_hull\n"
   ]
  },
  {
   "cell_type": "markdown",
   "metadata": {},
   "source": [
    "💡 The dataset `Edft_coh_df_iqr_4` was merged with the `mean_dist_df` on the `cavity_v2` column to add mean distance features related to the cavity's geometry. The resulting dataset is stored as `Edft_coh_df_iqr_5`."
   ]
  },
  {
   "cell_type": "code",
   "execution_count": null,
   "metadata": {},
   "outputs": [],
   "source": [
    "\n",
    "# Merge the dataframes on the 'M1' column \n",
    "merged_df_mean_distance = pd.merge(\n",
    "    Edft_coh_df_iqr_4,\n",
    "    mean_dist_df,\n",
    "    on='cavity_v2',\n",
    "    how='inner'\n",
    ")\n",
    "\n",
    "# Update Edft_coh_df_clean with the merged DataFrame\n",
    "Edft_coh_df_iqr_5 = merged_df_mean_distance\n"
   ]
  },
  {
   "cell_type": "code",
   "execution_count": null,
   "metadata": {},
   "outputs": [],
   "source": [
    "Edft_coh_df_iqr_5.shape"
   ]
  },
  {
   "cell_type": "markdown",
   "metadata": {},
   "source": [
    "## Merging Eint_df into  Edft_coh_df_iqr"
   ]
  },
  {
   "cell_type": "code",
   "execution_count": null,
   "metadata": {},
   "outputs": [],
   "source": [
    "# Assuming Edft_coh_df_clean and Eint_df are your DataFrames\n",
    "\n",
    "# Perform the merge\n",
    "Edft_coh_df_iqr_5 = pd.merge(\n",
    "    Edft_coh_df_iqr_5,\n",
    "    Eint_df_iqr[['system_dacs', 'Eint']],\n",
    "    on='system_dacs',\n",
    "    how='inner'\n",
    ")\n",
    "\n",
    "#TODO ! Detect NaN\n",
    "#Edft_coh_df_clean_2 = Edft_coh_df_clean_2.dropna(axis=0)\n",
    "\n",
    "# Drop duplicate columns from the merged DataFrame\n",
    "Edft_coh_df_iqr_6 = Edft_coh_df_iqr_5.loc[:, ~Edft_coh_df_iqr_5.columns.duplicated()]\n"
   ]
  },
  {
   "cell_type": "code",
   "execution_count": null,
   "metadata": {},
   "outputs": [],
   "source": [
    "Edft_coh_df_iqr_6.shape"
   ]
  },
  {
   "cell_type": "markdown",
   "metadata": {},
   "source": [
    "💡 The dataset `Edft_coh_df_iqr_6` was merged with `Eratio_df` on the `cavity_v2` column to incorporate aspect ratio and distance-related geometric features (`r_min_max`, `dist_min`, and `dist_max`). The resulting dataset, with duplicate columns removed, is stored as `Edft_coh_df_iqr_7`. A `TODO` is noted to handle any missing (`NaN`) values in future preprocessing.\n"
   ]
  },
  {
   "cell_type": "code",
   "execution_count": null,
   "metadata": {},
   "outputs": [],
   "source": [
    "# Perform the merge\n",
    "Edft_coh_df_iqr_6 = pd.merge(\n",
    "    Edft_coh_df_iqr_6,\n",
    "    Eratio_df[['cavity_v2', 'r_min_max','dist_min','dist_max']],\n",
    "    on='cavity_v2',\n",
    "    how='left'\n",
    ")\n",
    "\n",
    "#TODO ! Detect NaN\n",
    "#Edft_coh_df_clean_2 = Edft_coh_df_clean_2.dropna(axis=0)\n",
    "\n",
    "# Drop duplicate columns from the merged DataFrame\n",
    "Edft_coh_df_iqr_7 = Edft_coh_df_iqr_6.loc[:, ~Edft_coh_df_iqr_6.columns.duplicated()]\n"
   ]
  },
  {
   "cell_type": "code",
   "execution_count": null,
   "metadata": {},
   "outputs": [],
   "source": [
    "Edft_coh_df_iqr_7.shape"
   ]
  },
  {
   "cell_type": "code",
   "execution_count": null,
   "metadata": {},
   "outputs": [],
   "source": [
    "print(\", \".join(Edft_coh_df_iqr_7.columns))"
   ]
  },
  {
   "cell_type": "code",
   "execution_count": null,
   "metadata": {},
   "outputs": [],
   "source": [
    "Edft_coh_df_iqr_7.sample()"
   ]
  },
  {
   "cell_type": "code",
   "execution_count": null,
   "metadata": {},
   "outputs": [],
   "source": [
    "Edft_coh_df_iqr_7.describe().T.round(2)\n"
   ]
  },
  {
   "cell_type": "markdown",
   "metadata": {},
   "source": [
    "## Exporting Full and Subset Datasets by Cavity Type"
   ]
  },
  {
   "cell_type": "markdown",
   "metadata": {},
   "source": [
    "This block saves the final processed dataset `Edft_coh_df_iqr_7` as both `.csv` and `.pkl` files. In addition, several filtered subsets based on specific cavity patterns (`din6_s`, `din6_as`, `din4_x2`, etc.) are extracted and saved individually. "
   ]
  },
  {
   "cell_type": "code",
   "execution_count": null,
   "metadata": {},
   "outputs": [],
   "source": [
    "\n",
    "Edft_coh_df_iqr_7 = Edft_coh_df_iqr_7.copy(deep=True)\n",
    "save_path_csv = os.path.join(dacs_energies_out_dir, 'Edacs_dft.csv')\n",
    "Edft_coh_df_iqr_7.to_csv(save_path_csv, index=False, header=True)\n",
    "save_path_pkl = os.path.join(dacs_energies_out_dir, 'Edacs_dft.pkl')\n",
    "Edft_coh_df_iqr_7.to_pickle(save_path_pkl)\n",
    "\n",
    "\n",
    "Edft_coh_df_iqr_7 = Edft_coh_df_iqr_7.copy(deep=True)\n",
    "Edft_din6_s_df = Edft_coh_df_iqr_7[Edft_coh_df_iqr_7['cavity'].str.contains('din6_s')]\n",
    "save_path_csv = os.path.join(dacs_energies_out_dir, 'Edft_din6_s_df.csv')\n",
    "Edft_din6_s_df.to_csv(save_path_csv, index=False, header=True)\n",
    "save_path_pkl = os.path.join(dacs_energies_out_dir, 'Edft_din6_s_df.pkl')\n",
    "Edft_din6_s_df.to_pickle(save_path_pkl)\n",
    "\n",
    "\n",
    "Edft_coh_df_iqr_7 = Edft_coh_df_iqr_7.copy(deep=True)\n",
    "Edft_din6_as_df = Edft_coh_df_iqr_6[Edft_coh_df_iqr_6['cavity'].str.contains('din6_as')]\n",
    "save_path_csv = os.path.join(dacs_energies_out_dir, 'Edft_din6_as_df.csv')\n",
    "Edft_din6_as_df.to_csv(save_path_csv, index=False, header=True)\n",
    "save_path_pkl = os.path.join(dacs_energies_out_dir, 'Edft_din6_as_df.pkl')\n",
    "Edft_din6_as_df.to_pickle(save_path_pkl)\n",
    "\n",
    "\n",
    "Edft_coh_df_iqr_7 = Edft_coh_df_iqr_7.copy(deep=True)\n",
    "Edft_din4_x2_df = Edft_coh_df_iqr_7[Edft_coh_df_iqr_7['cavity'].str.contains('din4_x2')]\n",
    "save_path_csv = os.path.join(dacs_energies_out_dir, 'Edft_din4_x2_df.csv')\n",
    "Edft_din4_x2_df.to_csv(save_path_csv, index=False, header=True)\n",
    "save_path_pkl = os.path.join(dacs_energies_out_dir, 'Edft_din4_x2_df.pkl')\n",
    "Edft_din4_x2_df.to_pickle(save_path_pkl)\n",
    "\n",
    "\n",
    "Edft_coh_df_iqr_7 = Edft_coh_df_iqr_7.copy(deep=True)\n",
    "Edft_din6_df = Edft_coh_df_iqr_7[Edft_coh_df_iqr_7['cavity'].str.contains('din6')]\n",
    "save_path_csv = os.path.join(dacs_energies_out_dir, 'Edft_din6_df.csv')\n",
    "Edft_din6_s_df.to_csv(save_path_csv, index=False, header=True)\n",
    "save_path_pkl = os.path.join(dacs_energies_out_dir, 'Edft_din6_df.pkl')\n",
    "Edft_din6_df.to_pickle(save_path_pkl)\n",
    "\n",
    "\n",
    "Edft_coh_df_iqr_7 = Edft_coh_df_iqr_7.copy(deep=True)\n",
    "Edft_din6_s_din4_x2_df = Edft_coh_df_iqr_7[Edft_coh_df_iqr_7['cavity'].str.contains('din4_x2|din6_s')]\n",
    "save_path_csv = os.path.join(dacs_energies_out_dir, 'Edft_din6_s_din4_x2_df.csv')\n",
    "Edft_din6_s_din4_x2_df.to_csv(save_path_csv, index=False, header=True)\n",
    "save_path_pkl = os.path.join(dacs_energies_out_dir, 'Edft_din6_s_din4_x2_df.pkl')\n",
    "Edft_din6_s_din4_x2_df.to_pickle(save_path_pkl)\n",
    "\n",
    "\n",
    "Edft_coh_df_iqr_7 = Edft_coh_df_iqr_7.copy(deep=True)\n",
    "\n",
    "Edft_din6_as_din4_x2_df = Edft_coh_df_iqr_7[Edft_coh_df_iqr_7['cavity'].str.contains('din6_as|din4_x2', regex=True)]\n",
    "save_path_csv = os.path.join(dacs_energies_out_dir, 'Edft_din6_as_din4_x2_df.csv')\n",
    "Edft_din6_as_din4_x2_df.to_csv(save_path_csv, index=False, header=True)\n",
    "save_path_pkl = os.path.join(dacs_energies_out_dir, 'Edft_din6_as_din4_x2_df.pkl')\n",
    "Edft_din6_as_din4_x2_df.to_pickle(save_path_pkl)\n"
   ]
  },
  {
   "cell_type": "markdown",
   "metadata": {},
   "source": [
    "## Balancing the Dataset"
   ]
  },
  {
   "cell_type": "markdown",
   "metadata": {},
   "source": [
    "To ensure a more uniform representation across different cavity types, we grouped the dataset by the basic_cavity_dacs column and sampled up to 600 entries per group. This helps avoid biases in downstream analysis or modeling. The balanced dataset was saved in both .csv and .pkl formats for future use."
   ]
  },
  {
   "cell_type": "code",
   "execution_count": null,
   "metadata": {},
   "outputs": [],
   "source": [
    "# Assuming Edft_coh_df_iqr_7 is your DataFrame\n",
    "Edft_coh_df_iqr_7 = Edft_coh_df_iqr_7.copy(deep=True)\n",
    "\n",
    "# Define the number of samples you want for each category\n",
    "desired_samples = 600 \n",
    "\n",
    "# Perform sampling to get exactly 500 rows for each category\n",
    "balanced_df = Edft_coh_df_iqr_7.groupby('basic_cavity_dacs').apply(\n",
    "    lambda x: x.sample(n=min(len(x), desired_samples), random_state=42)\n",
    ").reset_index(drop=True)\n",
    "\n",
    "# Save the new balanced dataset\n",
    "save_path_csv = os.path.join(dacs_energies_out_dir, 'Edft_balanced_df.csv')\n",
    "balanced_df.to_csv(save_path_csv, index=False, header=True)\n",
    "\n",
    "save_path_pkl = os.path.join(dacs_energies_out_dir, 'Edft_balanced_df.pkl')\n",
    "balanced_df.to_pickle(save_path_pkl)\n"
   ]
  },
  {
   "cell_type": "code",
   "execution_count": null,
   "metadata": {},
   "outputs": [],
   "source": [
    "balanced_df.shape"
   ]
  }
 ],
 "metadata": {
  "kernelspec": {
   "display_name": "bms",
   "language": "python",
   "name": "python3"
  },
  "language_info": {
   "codemirror_mode": {
    "name": "ipython",
    "version": 3
   },
   "file_extension": ".py",
   "mimetype": "text/x-python",
   "name": "python",
   "nbconvert_exporter": "python",
   "pygments_lexer": "ipython3",
   "version": "3.10.13"
  }
 },
 "nbformat": 4,
 "nbformat_minor": 2
}
