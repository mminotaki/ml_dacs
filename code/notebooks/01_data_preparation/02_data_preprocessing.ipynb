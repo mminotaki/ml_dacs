{
 "cells": [
  {
   "cell_type": "markdown",
   "metadata": {},
   "source": [
    "# 0.2 Merging SACs on doped carbon features to DACs dataset\n"
   ]
  },
  {
   "cell_type": "markdown",
   "metadata": {},
   "source": [
    "## Notebook Setup: Imports and Configuration"
   ]
  },
  {
   "cell_type": "code",
   "execution_count": 1,
   "metadata": {},
   "outputs": [],
   "source": [
    "# ─────────────────────────────\n",
    "# Standard Library Imports\n",
    "# ─────────────────────────────\n",
    "import os\n",
    "import sys\n",
    "\n",
    "# ─────────────────────────────\n",
    "# Adjust sys.path for Local Modules\n",
    "# ─────────────────────────────\n",
    "src_dir = os.path.abspath(os.path.join('..', '..', 'src'))\n",
    "if src_dir not in sys.path:\n",
    "    sys.path.append(src_dir)\n",
    "\n",
    "# ─────────────────────────────\n",
    "# Project-Specific Imports\n",
    "# ─────────────────────────────\n",
    "from utils import *\n",
    "from vis import *\n",
    "from settings import *"
   ]
  },
  {
   "cell_type": "markdown",
   "metadata": {},
   "source": [
    "## Load Processed Datasets and Feature Files"
   ]
  },
  {
   "cell_type": "markdown",
   "metadata": {},
   "source": [
    "This section loads all necessary input data for model evaluation and energy analysis, including:\n",
    "- Main energy datasets (`Edft_coh`, `Eint`, `Edft_fe`)\n",
    "- ML prediction results (`rfr_mlogocv_df`)\n",
    "- Geometric and electronic features for SACs and DACs"
   ]
  },
  {
   "cell_type": "code",
   "execution_count": 2,
   "metadata": {},
   "outputs": [],
   "source": [
    "# Define data directories\n",
    "rfr_ads_out_dir = '../../../data/external/rfr_logocv_out'\n",
    "dacs_energies_out_dir = '../../../data/external/dacs_energies_out'\n",
    "sacs_features_out_dir = '../../../data/raw'\n",
    "ratio_features_out_dir = '../../../data/external/features_out'\n",
    "\n",
    "#Main datasets\n",
    "rfr_mlogocv_df = pd.read_csv(os.path.join(rfr_ads_out_dir, 'rfr_mlogocv.csv'))\n",
    "Edft_coh_df = pd.read_csv(os.path.join(dacs_energies_out_dir, 'Edft_coh_df.csv'))\n",
    "Edft_coh_df_iqr = pd.read_csv(os.path.join(dacs_energies_out_dir, 'Edft_coh_df_iqr.csv'))\n",
    "\n",
    "#Feature Datasets\n",
    "sacs_features_df = pd.read_csv(os.path.join(sacs_features_out_dir, 'features_sacs_ml.csv'))\n",
    "bimetallic_int_energies_df = pd.read_csv(os.path.join(sacs_features_out_dir, 'bimetallic_interaction_energies.csv'))\n",
    "Eratio_df = pd.read_csv(os.path.join(ratio_features_out_dir, 'aspect_ratio.csv'))\n",
    "convex_hull_df = pd.read_csv(os.path.join(ratio_features_out_dir, 'convex_hull.csv'))\n",
    "mean_dist_df = pd.read_csv(os.path.join(ratio_features_out_dir, 'mean_distance.csv'))\n",
    "\n",
    "#Energies\n",
    "Eint_df_iqr = pd.read_csv(os.path.join(dacs_energies_out_dir, 'Eint_df_iqr.csv'))\n",
    "Edft_fe_df_iqr = pd.read_csv(os.path.join(dacs_energies_out_dir, 'Edft_fe_df_iqr.csv'))\n"
   ]
  },
  {
   "cell_type": "markdown",
   "metadata": {},
   "source": [
    "# DACs on N-doped carbon dataset"
   ]
  },
  {
   "cell_type": "markdown",
   "metadata": {},
   "source": [
    "| Feature                     | Description                                                                 |\n",
    "|----------------------------|-----------------------------------------------------------------------------|\n",
    "| `system_dacs`              | Identifier for the full DAC (dual-atom catalyst) system.                    |\n",
    "| `tot_energy_dacs`          | Total DFT-calculated energy of the DAC system.                              |\n",
    "| `M1`                       | Symbol of the first metal atom in the DAC.                                  |\n",
    "| `M2`                       | Symbol of the second metal atom in the DAC.                                 |\n",
    "| `heteroatom_dacs`          | Indicates whether a heteroatom is present in the DAC structure.             |\n",
    "| `basic_cavity_dacs`        | Basic cavity label defining the DAC geometry/topology.                      |\n",
    "| `cavity`                   | Standardized label for the DAC cavity.                                      |\n",
    "| `cavity_v2`                | Refined version of `cavity` with cleaner or grouped labels.                 |\n",
    "| `cavity_3`                 | Variant of the cavity label (e.g., for plotting/grouping).                  |\n",
    "| `M1_cavity`                | Cavity structure specific to the M1 metal atom.                              |\n",
    "| `cavity_4`                 | Another variant of cavity, potentially for multilevel grouping.             |\n",
    "| `M2_cavity`                | Cavity structure specific to the M2 metal atom.                              |\n",
    "| `system_sacs_pristine`     | Identifier for the pristine SAC system used as a reference.                |\n",
    "| `tot_energy_sacs_pristine`| Total energy of the pristine single-atom catalyst structure.                |\n",
    "| `heteroatom_sacs_pristine`| Indicates heteroatom presence in the pristine SAC.                          |\n",
    "| `basic_cavity_sacs_pristine`| Basic cavity geometry of the pristine SAC structure.                      |\n",
    "| `Ecoh_m1`                  | Cohesive energy of the M1 metal atom (used as reference).                   |\n",
    "| `Ecoh_m2`                  | Cohesive energy of the M2 metal atom (used as reference).                   |\n",
    "| `E_dft_M1M2`               | Adsorption energy of the M1–M2 DAC system, referenced to cohesive energies. |\n",
    "| `color`                    | Color assigned to the system or metal for plotting/visualization.           |\n"
   ]
  },
  {
   "cell_type": "markdown",
   "metadata": {},
   "source": [
    "> 💡 **Note:** We selected `E_dft_coh_df_iqr` as the main dataset for constructing the final feature set.  "
   ]
  },
  {
   "cell_type": "code",
   "execution_count": 3,
   "metadata": {},
   "outputs": [
    {
     "data": {
      "text/plain": [
       "(983, 20)"
      ]
     },
     "execution_count": 3,
     "metadata": {},
     "output_type": "execute_result"
    }
   ],
   "source": [
    "Edft_coh_df_iqr.shape"
   ]
  },
  {
   "cell_type": "code",
   "execution_count": 4,
   "metadata": {},
   "outputs": [
    {
     "name": "stdout",
     "output_type": "stream",
     "text": [
      "('system_dacs, tot_energy_dacs, M1, M2, heteroatom_dacs, basic_cavity_dacs, '\n",
      " 'cavity, cavity_v2, cavity_3, M1_cavity, cavity_4, M2_cavity, '\n",
      " 'system_sacs_pristine, tot_energy_sacs_pristine, heteroatom_sacs_pristine, '\n",
      " 'basic_cavity_sacs_pristine, Ecoh_m1, Ecoh_m2, E_dft_M1M2, color')\n"
     ]
    }
   ],
   "source": [
    "print(\", \".join(Edft_coh_df_iqr.columns))"
   ]
  },
  {
   "cell_type": "code",
   "execution_count": 5,
   "metadata": {},
   "outputs": [
    {
     "data": {
      "text/html": [
       "<div>\n",
       "<style scoped>\n",
       "    .dataframe tbody tr th:only-of-type {\n",
       "        vertical-align: middle;\n",
       "    }\n",
       "\n",
       "    .dataframe tbody tr th {\n",
       "        vertical-align: top;\n",
       "    }\n",
       "\n",
       "    .dataframe thead th {\n",
       "        text-align: right;\n",
       "    }\n",
       "</style>\n",
       "<table border=\"1\" class=\"dataframe\">\n",
       "  <thead>\n",
       "    <tr style=\"text-align: right;\">\n",
       "      <th></th>\n",
       "      <th>system_dacs</th>\n",
       "      <th>tot_energy_dacs</th>\n",
       "      <th>M1</th>\n",
       "      <th>M2</th>\n",
       "      <th>heteroatom_dacs</th>\n",
       "      <th>basic_cavity_dacs</th>\n",
       "      <th>cavity</th>\n",
       "      <th>cavity_v2</th>\n",
       "      <th>cavity_3</th>\n",
       "      <th>M1_cavity</th>\n",
       "      <th>cavity_4</th>\n",
       "      <th>M2_cavity</th>\n",
       "      <th>system_sacs_pristine</th>\n",
       "      <th>tot_energy_sacs_pristine</th>\n",
       "      <th>heteroatom_sacs_pristine</th>\n",
       "      <th>basic_cavity_sacs_pristine</th>\n",
       "      <th>Ecoh_m1</th>\n",
       "      <th>Ecoh_m2</th>\n",
       "      <th>E_dft_M1M2</th>\n",
       "      <th>color</th>\n",
       "    </tr>\n",
       "  </thead>\n",
       "  <tbody>\n",
       "    <tr>\n",
       "      <th>906</th>\n",
       "      <td>Au_Fe_N_din6_s_c3_013</td>\n",
       "      <td>-610.953</td>\n",
       "      <td>Au</td>\n",
       "      <td>Fe</td>\n",
       "      <td>N</td>\n",
       "      <td>din6</td>\n",
       "      <td>N_din6_s_c3_013</td>\n",
       "      <td>N_din6_s_c3_013</td>\n",
       "      <td>3</td>\n",
       "      <td>Au_N_din6_s_c3_013</td>\n",
       "      <td>din6_s</td>\n",
       "      <td>Fe_N_din6_s_c3_013</td>\n",
       "      <td>N_din6_s_c3_013</td>\n",
       "      <td>-597.699</td>\n",
       "      <td>N</td>\n",
       "      <td>din6</td>\n",
       "      <td>-3.87671</td>\n",
       "      <td>-8.619718</td>\n",
       "      <td>-0.757573</td>\n",
       "      <td>blue</td>\n",
       "    </tr>\n",
       "  </tbody>\n",
       "</table>\n",
       "</div>"
      ],
      "text/plain": [
       "               system_dacs  tot_energy_dacs  M1  M2 heteroatom_dacs  \\\n",
       "906  Au_Fe_N_din6_s_c3_013         -610.953  Au  Fe               N   \n",
       "\n",
       "    basic_cavity_dacs           cavity        cavity_v2  cavity_3  \\\n",
       "906              din6  N_din6_s_c3_013  N_din6_s_c3_013         3   \n",
       "\n",
       "              M1_cavity cavity_4           M2_cavity system_sacs_pristine  \\\n",
       "906  Au_N_din6_s_c3_013   din6_s  Fe_N_din6_s_c3_013      N_din6_s_c3_013   \n",
       "\n",
       "     tot_energy_sacs_pristine heteroatom_sacs_pristine  \\\n",
       "906                  -597.699                        N   \n",
       "\n",
       "    basic_cavity_sacs_pristine  Ecoh_m1   Ecoh_m2  E_dft_M1M2 color  \n",
       "906                       din6 -3.87671 -8.619718   -0.757573  blue  "
      ]
     },
     "execution_count": 5,
     "metadata": {},
     "output_type": "execute_result"
    }
   ],
   "source": [
    "Edft_coh_df_iqr.sample()"
   ]
  },
  {
   "cell_type": "code",
   "execution_count": 6,
   "metadata": {},
   "outputs": [
    {
     "data": {
      "text/html": [
       "<div>\n",
       "<style scoped>\n",
       "    .dataframe tbody tr th:only-of-type {\n",
       "        vertical-align: middle;\n",
       "    }\n",
       "\n",
       "    .dataframe tbody tr th {\n",
       "        vertical-align: top;\n",
       "    }\n",
       "\n",
       "    .dataframe thead th {\n",
       "        text-align: right;\n",
       "    }\n",
       "</style>\n",
       "<table border=\"1\" class=\"dataframe\">\n",
       "  <thead>\n",
       "    <tr style=\"text-align: right;\">\n",
       "      <th></th>\n",
       "      <th>count</th>\n",
       "      <th>mean</th>\n",
       "      <th>std</th>\n",
       "      <th>min</th>\n",
       "      <th>25%</th>\n",
       "      <th>50%</th>\n",
       "      <th>75%</th>\n",
       "      <th>max</th>\n",
       "    </tr>\n",
       "  </thead>\n",
       "  <tbody>\n",
       "    <tr>\n",
       "      <th>tot_energy_dacs</th>\n",
       "      <td>983.0</td>\n",
       "      <td>-630.48</td>\n",
       "      <td>8.48</td>\n",
       "      <td>-640.75</td>\n",
       "      <td>-636.37</td>\n",
       "      <td>-633.88</td>\n",
       "      <td>-629.16</td>\n",
       "      <td>-606.83</td>\n",
       "    </tr>\n",
       "    <tr>\n",
       "      <th>cavity_3</th>\n",
       "      <td>983.0</td>\n",
       "      <td>2.90</td>\n",
       "      <td>1.32</td>\n",
       "      <td>0.00</td>\n",
       "      <td>2.00</td>\n",
       "      <td>3.00</td>\n",
       "      <td>4.00</td>\n",
       "      <td>6.00</td>\n",
       "    </tr>\n",
       "    <tr>\n",
       "      <th>tot_energy_sacs_pristine</th>\n",
       "      <td>983.0</td>\n",
       "      <td>-613.04</td>\n",
       "      <td>7.27</td>\n",
       "      <td>-618.51</td>\n",
       "      <td>-616.87</td>\n",
       "      <td>-616.11</td>\n",
       "      <td>-614.67</td>\n",
       "      <td>-593.77</td>\n",
       "    </tr>\n",
       "    <tr>\n",
       "      <th>Ecoh_m1</th>\n",
       "      <td>983.0</td>\n",
       "      <td>-6.24</td>\n",
       "      <td>3.03</td>\n",
       "      <td>-11.84</td>\n",
       "      <td>-8.62</td>\n",
       "      <td>-5.87</td>\n",
       "      <td>-3.88</td>\n",
       "      <td>-1.23</td>\n",
       "    </tr>\n",
       "    <tr>\n",
       "      <th>Ecoh_m2</th>\n",
       "      <td>983.0</td>\n",
       "      <td>-8.62</td>\n",
       "      <td>0.00</td>\n",
       "      <td>-8.62</td>\n",
       "      <td>-8.62</td>\n",
       "      <td>-8.62</td>\n",
       "      <td>-8.62</td>\n",
       "      <td>-8.62</td>\n",
       "    </tr>\n",
       "    <tr>\n",
       "      <th>E_dft_M1M2</th>\n",
       "      <td>983.0</td>\n",
       "      <td>-2.59</td>\n",
       "      <td>1.59</td>\n",
       "      <td>-7.62</td>\n",
       "      <td>-3.64</td>\n",
       "      <td>-2.56</td>\n",
       "      <td>-1.58</td>\n",
       "      <td>2.56</td>\n",
       "    </tr>\n",
       "  </tbody>\n",
       "</table>\n",
       "</div>"
      ],
      "text/plain": [
       "                          count    mean   std     min     25%     50%     75%  \\\n",
       "tot_energy_dacs           983.0 -630.48  8.48 -640.75 -636.37 -633.88 -629.16   \n",
       "cavity_3                  983.0    2.90  1.32    0.00    2.00    3.00    4.00   \n",
       "tot_energy_sacs_pristine  983.0 -613.04  7.27 -618.51 -616.87 -616.11 -614.67   \n",
       "Ecoh_m1                   983.0   -6.24  3.03  -11.84   -8.62   -5.87   -3.88   \n",
       "Ecoh_m2                   983.0   -8.62  0.00   -8.62   -8.62   -8.62   -8.62   \n",
       "E_dft_M1M2                983.0   -2.59  1.59   -7.62   -3.64   -2.56   -1.58   \n",
       "\n",
       "                             max  \n",
       "tot_energy_dacs          -606.83  \n",
       "cavity_3                    6.00  \n",
       "tot_energy_sacs_pristine -593.77  \n",
       "Ecoh_m1                    -1.23  \n",
       "Ecoh_m2                    -8.62  \n",
       "E_dft_M1M2                  2.56  "
      ]
     },
     "execution_count": 6,
     "metadata": {},
     "output_type": "execute_result"
    }
   ],
   "source": [
    "Edft_coh_df_iqr.describe().T.round(2)\n"
   ]
  },
  {
   "cell_type": "markdown",
   "metadata": {},
   "source": [
    "## Adding M1 and M2 System Columns\n"
   ]
  },
  {
   "cell_type": "markdown",
   "metadata": {},
   "source": [
    "This step creates two new columns — `M1_System` and `M2_System` — that uniquely represent the identity of each metal (M1 and M2) together with its associated coordination environment (cavity).  \n",
    "The cavity roles are mapped using `dacs_dict`, which defines the position of each metal in the DAC structure."
   ]
  },
  {
   "cell_type": "code",
   "execution_count": 7,
   "metadata": {},
   "outputs": [],
   "source": [
    "# M1_System -> M1, cavity\n",
    "# M2_System -> M2, cavity\n",
    "\n",
    "Edft_coh_df_iqr['M1_System'] = Edft_coh_df_iqr.apply(\n",
    "    lambda row: f\"{row['M1']}_{dacs_dict.get(row['cavity'], [None, None])[0]}\", axis=1)\n",
    "\n",
    "Edft_coh_df_iqr['M2_System'] = Edft_coh_df_iqr.apply(\n",
    "    lambda row: f\"{row['M2']}_{dacs_dict.get(row['cavity'], [None, None])[1]}\", axis=1)"
   ]
  },
  {
   "cell_type": "markdown",
   "metadata": {},
   "source": [
    "## Merging rfr_logocv_df into Edft_coh_df_iqr"
   ]
  },
  {
   "cell_type": "markdown",
   "metadata": {},
   "source": [
    "This code merges the `Edft_coh_df_iqr` dataset with the SACs on doped carbon dataset `rfr_mlogocv_df`:\n",
    "\n",
    "1. **First Merge**: Joins with `rfr_mlogocv_df` on `M1_System` to fetch the DFT simulated adsorption energy (`y`) and stores it as `y_M1_System`.\n",
    "2. **Second Merge**: Repeats the process for `M2_System`, storing the result in `y_M2_System`."
   ]
  },
  {
   "cell_type": "code",
   "execution_count": 8,
   "metadata": {},
   "outputs": [],
   "source": [
    "# Merge Edft_coh_df with rfr_mlogocv_df on 'M1_System' to get y_M1_System\n",
    "Edft_coh_df_iqr= Edft_coh_df_iqr.merge(\n",
    "    rfr_mlogocv_df[['System', 'y']].rename(columns={'System': 'M1_System', 'y': 'y_M1_System'}),\n",
    "    on='M1_System',\n",
    "    how='left'\n",
    ")\n",
    "\n",
    "# Merge Edft_coh_df with rfr_mlogocv_df on 'M2_System' to get y_M2_System\n",
    "Edft_coh_df_iqr = Edft_coh_df_iqr.merge(\n",
    "    rfr_mlogocv_df[['System', 'y']].rename(columns={'System': 'M2_System', 'y': 'y_M2_System'}),\n",
    "    on='M2_System',\n",
    "    how='left'\n",
    ")\n"
   ]
  },
  {
   "cell_type": "markdown",
   "metadata": {},
   "source": [
    "3. **Final Step**: Adds a new feature, `y_System`, calculated as the sum of `y_M1_System` and `y_M2_System`, representing the combined DFT simulated adsorption energy of the dual-metal system."
   ]
  },
  {
   "cell_type": "code",
   "execution_count": 9,
   "metadata": {},
   "outputs": [],
   "source": [
    "Edft_coh_df_iqr['y_System'] = Edft_coh_df_iqr['y_M1_System']+Edft_coh_df_iqr['y_M2_System']"
   ]
  },
  {
   "cell_type": "markdown",
   "metadata": {},
   "source": [
    "| Feature                    | Description                                                                 |\n",
    "|---------------------------|-----------------------------------------------------------------------------|\n",
    "| `system_dacs`             | Identifier for the dual-atom catalyst (DAC) system.                         |\n",
    "| `tot_energy_dacs`         | Total DFT energy of the DAC structure with both M1 and M2 adsorbed.        |\n",
    "| `M1`                      | First metal atom in the DAC system.                                         |\n",
    "| `M2`                      | Second metal atom in the DAC system.                                        |\n",
    "| `heteroatom_dacs`         | Heteroatom(s) present in the DAC structure.                                 |\n",
    "| `basic_cavity_dacs`       | Description of the base cavity type in the DAC.                             |\n",
    "| `cavity`                  | Canonical cavity label used in the DAC.                                     |\n",
    "| `cavity_v2`               | Alternative or updated naming version for the cavity.                       |\n",
    "| `cavity_3`                | Variant or subclassification of the cavity.                                 |\n",
    "| `M1_cavity`               | Cavity type associated with the M1 atom.                                    |\n",
    "| `cavity_4`                | Further detailed version of the cavity label.                               |\n",
    "| `M2_cavity`               | Cavity type associated with the M2 atom.                                    |\n",
    "| `system_sacs_pristine`    | Identifier for the pristine SAC (single-atom catalyst) system.              |\n",
    "| `tot_energy_sacs_pristine`| Total energy of the pristine (unmodified) SAC structure.                    |\n",
    "| `heteroatom_sacs_pristine`| Heteroatoms in the pristine SAC.                                            |\n",
    "| `basic_cavity_sacs_pristine` | Base cavity type in the pristine SAC.                                 |\n",
    "| `Ecoh_m1`                 | Cohesive energy of metal M1.                                                |\n",
    "| `Ecoh_m2`                 | Cohesive energy of metal M2.                                                |\n",
    "| `E_dft_M1M2`              | Adsorption energy for the DAC system: total energy minus individual contributions. |\n",
    "| `color`                   | Color label used for plotting (e.g., by metal or cavity).                   |\n",
    "| `M1_System`               | Unique label combining M1 and its cavity (e.g., `Fe_C1`).                   |\n",
    "| `M2_System`               | Unique label combining M2 and its cavity.                                   |\n",
    "| `y_M1_System`             | Predicted adsorption energy for the M1 single-metal system.                 |\n",
    "| `y_M2_System`             | Predicted adsorption energy for the M2 single-metal system.                 |\n",
    "| `y_System`                | Combined predicted adsorption energy for the DAC (`y_M1_System + y_M2_System`). |\n"
   ]
  },
  {
   "cell_type": "code",
   "execution_count": 10,
   "metadata": {},
   "outputs": [
    {
     "data": {
      "text/plain": [
       "(983, 25)"
      ]
     },
     "execution_count": 10,
     "metadata": {},
     "output_type": "execute_result"
    }
   ],
   "source": [
    "Edft_coh_df_iqr.shape"
   ]
  },
  {
   "cell_type": "code",
   "execution_count": 11,
   "metadata": {},
   "outputs": [
    {
     "name": "stdout",
     "output_type": "stream",
     "text": [
      "('system_dacs, tot_energy_dacs, M1, M2, heteroatom_dacs, basic_cavity_dacs, '\n",
      " 'cavity, cavity_v2, cavity_3, M1_cavity, cavity_4, M2_cavity, '\n",
      " 'system_sacs_pristine, tot_energy_sacs_pristine, heteroatom_sacs_pristine, '\n",
      " 'basic_cavity_sacs_pristine, Ecoh_m1, Ecoh_m2, E_dft_M1M2, color, M1_System, '\n",
      " 'M2_System, y_M1_System, y_M2_System, y_System')\n"
     ]
    }
   ],
   "source": [
    "print(\", \".join(Edft_coh_df_iqr.columns))"
   ]
  },
  {
   "cell_type": "code",
   "execution_count": 12,
   "metadata": {},
   "outputs": [
    {
     "data": {
      "text/html": [
       "<div>\n",
       "<style scoped>\n",
       "    .dataframe tbody tr th:only-of-type {\n",
       "        vertical-align: middle;\n",
       "    }\n",
       "\n",
       "    .dataframe tbody tr th {\n",
       "        vertical-align: top;\n",
       "    }\n",
       "\n",
       "    .dataframe thead th {\n",
       "        text-align: right;\n",
       "    }\n",
       "</style>\n",
       "<table border=\"1\" class=\"dataframe\">\n",
       "  <thead>\n",
       "    <tr style=\"text-align: right;\">\n",
       "      <th></th>\n",
       "      <th>system_dacs</th>\n",
       "      <th>tot_energy_dacs</th>\n",
       "      <th>M1</th>\n",
       "      <th>M2</th>\n",
       "      <th>heteroatom_dacs</th>\n",
       "      <th>basic_cavity_dacs</th>\n",
       "      <th>cavity</th>\n",
       "      <th>cavity_v2</th>\n",
       "      <th>cavity_3</th>\n",
       "      <th>M1_cavity</th>\n",
       "      <th>...</th>\n",
       "      <th>basic_cavity_sacs_pristine</th>\n",
       "      <th>Ecoh_m1</th>\n",
       "      <th>Ecoh_m2</th>\n",
       "      <th>E_dft_M1M2</th>\n",
       "      <th>color</th>\n",
       "      <th>M1_System</th>\n",
       "      <th>M2_System</th>\n",
       "      <th>y_M1_System</th>\n",
       "      <th>y_M2_System</th>\n",
       "      <th>y_System</th>\n",
       "    </tr>\n",
       "  </thead>\n",
       "  <tbody>\n",
       "    <tr>\n",
       "      <th>860</th>\n",
       "      <td>Os_Fe_N_din6_s_c2_02</td>\n",
       "      <td>-617.773</td>\n",
       "      <td>Os</td>\n",
       "      <td>Fe</td>\n",
       "      <td>N</td>\n",
       "      <td>din6</td>\n",
       "      <td>N_din6_s_c2_02</td>\n",
       "      <td>N_din6_s_c2_02</td>\n",
       "      <td>2</td>\n",
       "      <td>Os_N_din6_s_c2_02</td>\n",
       "      <td>...</td>\n",
       "      <td>din6</td>\n",
       "      <td>-11.839378</td>\n",
       "      <td>-8.619718</td>\n",
       "      <td>1.538095</td>\n",
       "      <td>blue</td>\n",
       "      <td>Os_N_din4_c1</td>\n",
       "      <td>Fe_N_din4_c2_d1</td>\n",
       "      <td>0.310378</td>\n",
       "      <td>-2.581283</td>\n",
       "      <td>-2.270905</td>\n",
       "    </tr>\n",
       "  </tbody>\n",
       "</table>\n",
       "<p>1 rows × 25 columns</p>\n",
       "</div>"
      ],
      "text/plain": [
       "              system_dacs  tot_energy_dacs  M1  M2 heteroatom_dacs  \\\n",
       "860  Os_Fe_N_din6_s_c2_02         -617.773  Os  Fe               N   \n",
       "\n",
       "    basic_cavity_dacs          cavity       cavity_v2  cavity_3  \\\n",
       "860              din6  N_din6_s_c2_02  N_din6_s_c2_02         2   \n",
       "\n",
       "             M1_cavity  ... basic_cavity_sacs_pristine    Ecoh_m1   Ecoh_m2  \\\n",
       "860  Os_N_din6_s_c2_02  ...                       din6 -11.839378 -8.619718   \n",
       "\n",
       "     E_dft_M1M2 color     M1_System        M2_System  y_M1_System  \\\n",
       "860    1.538095  blue  Os_N_din4_c1  Fe_N_din4_c2_d1     0.310378   \n",
       "\n",
       "     y_M2_System  y_System  \n",
       "860    -2.581283 -2.270905  \n",
       "\n",
       "[1 rows x 25 columns]"
      ]
     },
     "execution_count": 12,
     "metadata": {},
     "output_type": "execute_result"
    }
   ],
   "source": [
    "Edft_coh_df_iqr.sample()"
   ]
  },
  {
   "cell_type": "code",
   "execution_count": 13,
   "metadata": {},
   "outputs": [
    {
     "data": {
      "text/html": [
       "<div>\n",
       "<style scoped>\n",
       "    .dataframe tbody tr th:only-of-type {\n",
       "        vertical-align: middle;\n",
       "    }\n",
       "\n",
       "    .dataframe tbody tr th {\n",
       "        vertical-align: top;\n",
       "    }\n",
       "\n",
       "    .dataframe thead th {\n",
       "        text-align: right;\n",
       "    }\n",
       "</style>\n",
       "<table border=\"1\" class=\"dataframe\">\n",
       "  <thead>\n",
       "    <tr style=\"text-align: right;\">\n",
       "      <th></th>\n",
       "      <th>count</th>\n",
       "      <th>mean</th>\n",
       "      <th>std</th>\n",
       "      <th>min</th>\n",
       "      <th>25%</th>\n",
       "      <th>50%</th>\n",
       "      <th>75%</th>\n",
       "      <th>max</th>\n",
       "    </tr>\n",
       "  </thead>\n",
       "  <tbody>\n",
       "    <tr>\n",
       "      <th>tot_energy_dacs</th>\n",
       "      <td>983.0</td>\n",
       "      <td>-630.48</td>\n",
       "      <td>8.48</td>\n",
       "      <td>-640.75</td>\n",
       "      <td>-636.37</td>\n",
       "      <td>-633.88</td>\n",
       "      <td>-629.16</td>\n",
       "      <td>-606.83</td>\n",
       "    </tr>\n",
       "    <tr>\n",
       "      <th>cavity_3</th>\n",
       "      <td>983.0</td>\n",
       "      <td>2.90</td>\n",
       "      <td>1.32</td>\n",
       "      <td>0.00</td>\n",
       "      <td>2.00</td>\n",
       "      <td>3.00</td>\n",
       "      <td>4.00</td>\n",
       "      <td>6.00</td>\n",
       "    </tr>\n",
       "    <tr>\n",
       "      <th>tot_energy_sacs_pristine</th>\n",
       "      <td>983.0</td>\n",
       "      <td>-613.04</td>\n",
       "      <td>7.27</td>\n",
       "      <td>-618.51</td>\n",
       "      <td>-616.87</td>\n",
       "      <td>-616.11</td>\n",
       "      <td>-614.67</td>\n",
       "      <td>-593.77</td>\n",
       "    </tr>\n",
       "    <tr>\n",
       "      <th>Ecoh_m1</th>\n",
       "      <td>983.0</td>\n",
       "      <td>-6.24</td>\n",
       "      <td>3.03</td>\n",
       "      <td>-11.84</td>\n",
       "      <td>-8.62</td>\n",
       "      <td>-5.87</td>\n",
       "      <td>-3.88</td>\n",
       "      <td>-1.23</td>\n",
       "    </tr>\n",
       "    <tr>\n",
       "      <th>Ecoh_m2</th>\n",
       "      <td>983.0</td>\n",
       "      <td>-8.62</td>\n",
       "      <td>0.00</td>\n",
       "      <td>-8.62</td>\n",
       "      <td>-8.62</td>\n",
       "      <td>-8.62</td>\n",
       "      <td>-8.62</td>\n",
       "      <td>-8.62</td>\n",
       "    </tr>\n",
       "    <tr>\n",
       "      <th>E_dft_M1M2</th>\n",
       "      <td>983.0</td>\n",
       "      <td>-2.59</td>\n",
       "      <td>1.59</td>\n",
       "      <td>-7.62</td>\n",
       "      <td>-3.64</td>\n",
       "      <td>-2.56</td>\n",
       "      <td>-1.58</td>\n",
       "      <td>2.56</td>\n",
       "    </tr>\n",
       "    <tr>\n",
       "      <th>y_M1_System</th>\n",
       "      <td>983.0</td>\n",
       "      <td>-1.48</td>\n",
       "      <td>1.01</td>\n",
       "      <td>-3.63</td>\n",
       "      <td>-2.25</td>\n",
       "      <td>-1.49</td>\n",
       "      <td>-0.66</td>\n",
       "      <td>0.90</td>\n",
       "    </tr>\n",
       "    <tr>\n",
       "      <th>y_M2_System</th>\n",
       "      <td>983.0</td>\n",
       "      <td>-2.25</td>\n",
       "      <td>0.43</td>\n",
       "      <td>-2.85</td>\n",
       "      <td>-2.39</td>\n",
       "      <td>-2.21</td>\n",
       "      <td>-2.01</td>\n",
       "      <td>-0.82</td>\n",
       "    </tr>\n",
       "    <tr>\n",
       "      <th>y_System</th>\n",
       "      <td>983.0</td>\n",
       "      <td>-3.73</td>\n",
       "      <td>1.19</td>\n",
       "      <td>-6.49</td>\n",
       "      <td>-4.59</td>\n",
       "      <td>-3.87</td>\n",
       "      <td>-2.96</td>\n",
       "      <td>0.02</td>\n",
       "    </tr>\n",
       "  </tbody>\n",
       "</table>\n",
       "</div>"
      ],
      "text/plain": [
       "                          count    mean   std     min     25%     50%     75%  \\\n",
       "tot_energy_dacs           983.0 -630.48  8.48 -640.75 -636.37 -633.88 -629.16   \n",
       "cavity_3                  983.0    2.90  1.32    0.00    2.00    3.00    4.00   \n",
       "tot_energy_sacs_pristine  983.0 -613.04  7.27 -618.51 -616.87 -616.11 -614.67   \n",
       "Ecoh_m1                   983.0   -6.24  3.03  -11.84   -8.62   -5.87   -3.88   \n",
       "Ecoh_m2                   983.0   -8.62  0.00   -8.62   -8.62   -8.62   -8.62   \n",
       "E_dft_M1M2                983.0   -2.59  1.59   -7.62   -3.64   -2.56   -1.58   \n",
       "y_M1_System               983.0   -1.48  1.01   -3.63   -2.25   -1.49   -0.66   \n",
       "y_M2_System               983.0   -2.25  0.43   -2.85   -2.39   -2.21   -2.01   \n",
       "y_System                  983.0   -3.73  1.19   -6.49   -4.59   -3.87   -2.96   \n",
       "\n",
       "                             max  \n",
       "tot_energy_dacs          -606.83  \n",
       "cavity_3                    6.00  \n",
       "tot_energy_sacs_pristine -593.77  \n",
       "Ecoh_m1                    -1.23  \n",
       "Ecoh_m2                    -8.62  \n",
       "E_dft_M1M2                  2.56  \n",
       "y_M1_System                 0.90  \n",
       "y_M2_System                -0.82  \n",
       "y_System                    0.02  "
      ]
     },
     "execution_count": 13,
     "metadata": {},
     "output_type": "execute_result"
    }
   ],
   "source": [
    "Edft_coh_df_iqr.describe().T.round(2)\n"
   ]
  },
  {
   "cell_type": "markdown",
   "metadata": {},
   "source": [
    "## Merging SACs on doped carbon features with the DACs on N-doped carbon dataset"
   ]
  },
  {
   "cell_type": "markdown",
   "metadata": {},
   "source": [
    "We filtered the `sacs_features_df` dataset to include only entries where the heteroatom in the local coordination environment is either **carbon (C)** or **nitrogen (N)**. "
   ]
  },
  {
   "cell_type": "code",
   "execution_count": 14,
   "metadata": {},
   "outputs": [],
   "source": [
    "sacs_features_df = sacs_features_df[sacs_features_df['hetatom'].isin(['N', 'C'])]"
   ]
  },
  {
   "cell_type": "markdown",
   "metadata": {},
   "source": [
    "| `Feature`                | Description                                                 |\n",
    "|--------------------------|-------------------------------------------------------------|\n",
    "| `System`                 | Identifier for each catalytic system                         |\n",
    "| `Eads_gas`               | Adsorption energy in gas phase                               |\n",
    "| `Eads`                   | Adsorption energy                                           |\n",
    "| `calc_energy`            | Calculated energy of the system                             |\n",
    "| `metal`                  | Metal atom type                                            |\n",
    "| `cavity`                 | Identifier for the cavity structure                         |\n",
    "| `plot_label`             | Label used for plotting                                    |\n",
    "| `metal_energy`           | Energy related to the metal atom                           |\n",
    "| `atomic_mass`            | Atomic mass of the metal                                   |\n",
    "| `vdw_radius`             | Van der Waals radius                                      |\n",
    "| `r_cov_sb`               | Covalent radius single bond                               |\n",
    "| `r_cov_db`               | Covalent radius double bond                               |\n",
    "| `dipole_polarizability`  | Dipole polarizability of the metal atom                   |\n",
    "| `ionic_radii_crystals`   | Ionic radius in crystal form                              |\n",
    "| `d_center_sp`            | Distance to center of sp orbitals                         |\n",
    "| `Paul_electroneg`        | Pauling electronegativity                                |\n",
    "| `MB_electroneg`          | Mulliken–Becke electronegativity                         |\n",
    "| `electron_affinity`      | Electron affinity                                        |\n",
    "| `covalent_radius`        | Covalent radius                                         |\n",
    "| `atomic_number`          | Atomic number                                          |\n",
    "| `Ion_energ_I`            | First ionization energy                                 |\n",
    "| `Ion_energ_II`           | Second ionization energy                                |\n",
    "| `Zung_radius`            | Zunger radius                                         |\n",
    "| `Coh_radius`             | Cohesion radius                                      |\n",
    "| `Waber_radius`           | Waber radius                                         |\n",
    "| `mied_param_h`           | Miedema parameter h                                  |\n",
    "| `mied_param_phi`         | Miedema parameter phi                                |\n",
    "| `HOMO`                   | Highest occupied molecular orbital                   |\n",
    "| `LUMO`                   | Lowest unoccupied molecular orbital                  |\n",
    "| `mag_moment_bulk_d`      | Magnetic moment in bulk metal                         |\n",
    "| `E_Fermi`                | Fermi energy                                         |\n",
    "| `E_Fermi2`               | Secondary Fermi energy                               |\n",
    "| `d_electrons`            | Number of d-electrons                                |\n",
    "| `vdw_radius2`            | Secondary Van der Waals radius                      |\n",
    "| `total_metal_gas_energy` | Total energy of metal in gas phase                    |\n",
    "| `n_e`                    | Number of electrons                                 |\n",
    "| `U_diss_0`               | Dissociation energy                                |\n",
    "| `ncoord`                 | Coordination number                               |\n",
    "| `number_C`               | Number of carbon atoms                            |\n",
    "| `number_hetero`          | Number of heteroatoms                           |\n",
    "| `frac_hetero`            | Fraction of heteroatoms                         |\n",
    "| `frac_C`                 | Fraction of carbon atoms                       |\n",
    "| `number_hetero_six`      | Number of heteroatoms in six coordination       |\n",
    "| `frac_hetero_six`        | Fraction heteroatoms in six coordination        |\n",
    "| `number_hetero_five`     | Number of heteroatoms in five coordination      |\n",
    "| `frac_hetero_five`       | Fraction heteroatoms in five coordination       |\n",
    "| `hetatom`                | Type of heteroatom present                      |\n",
    "| `r1, r2, ..., r8`        | Distances to first to eighth nearest neighbors  |\n",
    "| `en1, en2, ..., en8`     | Electronegativity of neighbors 1 to 8             |\n",
    "| `min(r), mean(r), ...`   | Minimum, mean, max, std, and sum of distances   |\n",
    "| `min(en), mean(en), ...` | Minimum, mean, max, std, and sum of electronegativities |\n",
    "| `abs_path, rel_path`     | Absolute and relative file paths                  |\n",
    "| `sc, dc`                 | Structural and distance coordination metrics     |\n",
    "| `chem_formula`           | Chemical formula of the system                    |\n",
    "| `num_atoms`              | Number of atoms in the system                     |\n",
    "| `cavity_ids`             | Identifiers for cavities                          |\n",
    "| `cont_cavity_ds`         | Continuous cavity distance metrics                |\n",
    "| `cont_cavity_ang`        | Continuous cavity angle metrics                   |\n",
    "| `cavity_nd`              | Number density in cavity                          |\n",
    "| `cavity_ang`             | Cavity angle                                      |\n",
    "| `posc_cavity_ds`         | Positive cavity distance                          |\n",
    "| `posc_cavity_ang`        | Positive cavity angle                             |\n",
    "| `min(cont_cavity_ds), max(cont_cavity_ds), mean(cont_cavity_ds), std(cont_cavity_ds)` | Statistical metrics on continuous cavity distances |\n",
    "| `min(posc_cavity_ds), max(posc_cavity_ds), mean(posc_cavity_ds), std(posc_cavity_ds)` | Statistical metrics on positive cavity distances   |\n",
    "| `min(cont_cavity_ang), max(cont_cavity_ang), mean(cont_cavity_ang), std(cont_cavity_ang)` | Statistical metrics on continuous cavity angles    |\n",
    "| `min(posc_cavity_ang), max(posc_cavity_ang), mean(posc_cavity_ang), std(posc_cavity_ang)` | Statistical metrics on positive cavity angles      |\n",
    "| `delta_min_ds, delta_max_ds` | Change in min and max cavity distances          |\n",
    "| `cavity_energy`          | Energy associated with the cavity                   |\n",
    "| `fermi_energy_cavity`    | Fermi energy of cavity                              |\n",
    "| `surface`                | Surface area                                      |\n",
    "| `perimeter`              | Perimeter of the cavity                            |\n",
    "| `z_max, z_min, z_std, z_mean` | Z-coordinates max, min, std, mean             |\n",
    "| `z_max_sec, z_min_sec, z_std_sec, z_mean_sec` | Secondary z-coordinate statistics         |\n",
    "| `phi`                    | Work function or related property                  |\n"
   ]
  },
  {
   "cell_type": "markdown",
   "metadata": {},
   "source": [
    "## Merging sacs_features_df into  Edft_coh_df_iqr"
   ]
  },
  {
   "cell_type": "markdown",
   "metadata": {},
   "source": [
    "This code renames the `cavity` column in `sacs_features_df` to `cavity_dc` to prevent naming conflicts. Then, it merges `Edft_coh_df_iqr` with `sacs_features_df` by matching the `M1_cavity` column in the former with the `plot_label` column in the latter, using an inner join to retain only common entries. After the merge, the redundant `cavity_dc` column is dropped. The resulting merged DataFrame is saved as `Edft_coh_df_iqr_2` for further analysis.\n"
   ]
  },
  {
   "cell_type": "code",
   "execution_count": 15,
   "metadata": {},
   "outputs": [],
   "source": [
    "# Rename the 'cavity' column in sacs_features_df to avoid confusion\n",
    "sacs_features_df = sacs_features_df.rename(columns={'cavity': 'cavity_dc'})\n",
    "\n",
    "# Merge the dataframes on 'cavity' from sacs_features_df and 'M1_cavity' from Edft_coh_df_clean\n",
    "merged_df = pd.merge(Edft_coh_df_iqr, sacs_features_df, left_on='M1_cavity', right_on='plot_label', how='inner') \n",
    "\n",
    "# Drop the 'cavity_dc' column from sacs_features_df that was included in the merge\n",
    "merged_df = merged_df.drop(columns=['cavity_dc'])\n",
    "\n",
    "\n",
    "# Update Edft_coh_df_clean with the merged DataFrame\n",
    "Edft_coh_df_iqr_2 = merged_df\n"
   ]
  },
  {
   "cell_type": "code",
   "execution_count": 16,
   "metadata": {},
   "outputs": [
    {
     "data": {
      "text/plain": [
       "(975, 141)"
      ]
     },
     "execution_count": 16,
     "metadata": {},
     "output_type": "execute_result"
    }
   ],
   "source": [
    "Edft_coh_df_iqr_2.shape"
   ]
  },
  {
   "cell_type": "markdown",
   "metadata": {},
   "source": [
    "💡 **Note:**  \n",
    "The merged dataset has fewer rows than the original because an inner join was used. This means only rows with matching keys in both dataframes (`M1_cavity` and `plot_label`) were retained. Rows without a match were excluded, resulting in a smaller dataset.\n"
   ]
  },
  {
   "cell_type": "markdown",
   "metadata": {},
   "source": [
    "## Merging various other properties into Edft_coh_df_iqr"
   ]
  },
  {
   "cell_type": "markdown",
   "metadata": {},
   "source": [
    "💡 The dataset `Edft_coh_df_iqr_2` was merged with the `bimetallic_int_energies_df` dataframe on the `M1` column to include bimetallic interaction energy features. The resulting enriched dataset is stored in `Edft_coh_df_iqr_3`.\n"
   ]
  },
  {
   "cell_type": "code",
   "execution_count": 17,
   "metadata": {},
   "outputs": [],
   "source": [
    "\n",
    "# Merge the dataframes on the 'M1' column\n",
    "merged_df_bimetallic_int = pd.merge(\n",
    "    Edft_coh_df_iqr_2,\n",
    "    bimetallic_int_energies_df,\n",
    "    on='M1',\n",
    "    how='inner'\n",
    ")\n",
    "\n",
    "# Update Edft_coh_df_clean with the merged DataFrame\n",
    "Edft_coh_df_iqr_3 = merged_df_bimetallic_int\n"
   ]
  },
  {
   "cell_type": "markdown",
   "metadata": {},
   "source": [
    "💡 The dataset `Edft_coh_df_iqr_3` was merged with the `convex_hull_df` on the `cavity_v2` column to incorporate structural features related to the convex hull of the coordination environment. The updated dataset is stored as `Edft_coh_df_iqr_4`."
   ]
  },
  {
   "cell_type": "code",
   "execution_count": 18,
   "metadata": {},
   "outputs": [],
   "source": [
    "\n",
    "# Merge the dataframes on the 'M1' column \n",
    "merged_df_convex_hull = pd.merge(\n",
    "    Edft_coh_df_iqr_3,\n",
    "    convex_hull_df,\n",
    "    on='cavity_v2',\n",
    "    how='inner'\n",
    ")\n",
    "\n",
    "# Update Edft_coh_df_clean with the merged DataFrame\n",
    "Edft_coh_df_iqr_4 = merged_df_convex_hull\n"
   ]
  },
  {
   "cell_type": "markdown",
   "metadata": {},
   "source": [
    "💡 The dataset `Edft_coh_df_iqr_4` was merged with the `mean_dist_df` on the `cavity_v2` column to add mean distance features related to the cavity's geometry. The resulting dataset is stored as `Edft_coh_df_iqr_5`."
   ]
  },
  {
   "cell_type": "code",
   "execution_count": 19,
   "metadata": {},
   "outputs": [],
   "source": [
    "\n",
    "# Merge the dataframes on the 'M1' column \n",
    "merged_df_mean_distance = pd.merge(\n",
    "    Edft_coh_df_iqr_4,\n",
    "    mean_dist_df,\n",
    "    on='cavity_v2',\n",
    "    how='inner'\n",
    ")\n",
    "\n",
    "# Update Edft_coh_df_clean with the merged DataFrame\n",
    "Edft_coh_df_iqr_5 = merged_df_mean_distance\n"
   ]
  },
  {
   "cell_type": "code",
   "execution_count": 20,
   "metadata": {},
   "outputs": [
    {
     "data": {
      "text/plain": [
       "(975, 147)"
      ]
     },
     "execution_count": 20,
     "metadata": {},
     "output_type": "execute_result"
    }
   ],
   "source": [
    "Edft_coh_df_iqr_5.shape"
   ]
  },
  {
   "cell_type": "markdown",
   "metadata": {},
   "source": [
    "## Merging Eint_df into  Edft_coh_df_iqr"
   ]
  },
  {
   "cell_type": "code",
   "execution_count": 21,
   "metadata": {},
   "outputs": [],
   "source": [
    "# Assuming Edft_coh_df_clean and Eint_df are your DataFrames\n",
    "\n",
    "# Perform the merge\n",
    "Edft_coh_df_iqr_5 = pd.merge(\n",
    "    Edft_coh_df_iqr_5,\n",
    "    Eint_df_iqr[['system_dacs', 'Eint']],\n",
    "    on='system_dacs',\n",
    "    how='inner'\n",
    ")\n",
    "\n",
    "#TODO ! Detect NaN\n",
    "#Edft_coh_df_clean_2 = Edft_coh_df_clean_2.dropna(axis=0)\n",
    "\n",
    "# Drop duplicate columns from the merged DataFrame\n",
    "Edft_coh_df_iqr_6 = Edft_coh_df_iqr_5.loc[:, ~Edft_coh_df_iqr_5.columns.duplicated()]\n"
   ]
  },
  {
   "cell_type": "code",
   "execution_count": 22,
   "metadata": {},
   "outputs": [
    {
     "data": {
      "text/plain": [
       "(909, 148)"
      ]
     },
     "execution_count": 22,
     "metadata": {},
     "output_type": "execute_result"
    }
   ],
   "source": [
    "Edft_coh_df_iqr_6.shape"
   ]
  },
  {
   "cell_type": "markdown",
   "metadata": {},
   "source": [
    "💡 The dataset `Edft_coh_df_iqr_6` was merged with `Eratio_df` on the `cavity_v2` column to incorporate aspect ratio and distance-related geometric features (`r_min_max`, `dist_min`, and `dist_max`). The resulting dataset, with duplicate columns removed, is stored as `Edft_coh_df_iqr_7`. A `TODO` is noted to handle any missing (`NaN`) values in future preprocessing.\n"
   ]
  },
  {
   "cell_type": "code",
   "execution_count": 23,
   "metadata": {},
   "outputs": [],
   "source": [
    "# Perform the merge\n",
    "Edft_coh_df_iqr_6 = pd.merge(\n",
    "    Edft_coh_df_iqr_6,\n",
    "    Eratio_df[['cavity_v2', 'r_min_max','dist_min','dist_max']],\n",
    "    on='cavity_v2',\n",
    "    how='left'\n",
    ")\n",
    "\n",
    "#TODO ! Detect NaN\n",
    "#Edft_coh_df_clean_2 = Edft_coh_df_clean_2.dropna(axis=0)\n",
    "\n",
    "# Drop duplicate columns from the merged DataFrame\n",
    "Edft_coh_df_iqr_7 = Edft_coh_df_iqr_6.loc[:, ~Edft_coh_df_iqr_6.columns.duplicated()]\n"
   ]
  },
  {
   "cell_type": "code",
   "execution_count": 24,
   "metadata": {},
   "outputs": [
    {
     "data": {
      "text/plain": [
       "(909, 151)"
      ]
     },
     "execution_count": 24,
     "metadata": {},
     "output_type": "execute_result"
    }
   ],
   "source": [
    "Edft_coh_df_iqr_7.shape"
   ]
  },
  {
   "cell_type": "code",
   "execution_count": 25,
   "metadata": {},
   "outputs": [
    {
     "name": "stdout",
     "output_type": "stream",
     "text": [
      "('system_dacs, tot_energy_dacs, M1, M2, heteroatom_dacs, basic_cavity_dacs, '\n",
      " 'cavity, cavity_v2, cavity_3, M1_cavity, cavity_4, M2_cavity, '\n",
      " 'system_sacs_pristine, tot_energy_sacs_pristine, heteroatom_sacs_pristine, '\n",
      " 'basic_cavity_sacs_pristine, Ecoh_m1, Ecoh_m2, E_dft_M1M2, color, M1_System, '\n",
      " 'M2_System, y_M1_System, y_M2_System, y_System, System, Eads_gas, Eads, '\n",
      " 'calc_energy, metal, plot_label, metal_energy, atomic_mass, vdw_radius, '\n",
      " 'r_cov_sb, r_cov_db, dipole_polarizability, ionic_radii_crystals, '\n",
      " 'd_center_sp, Paul_electroneg, MB_electroneg, electron_affinity, '\n",
      " 'covalent_radius, atomic_number, Ion_energ_I, Ion_energ_II, Zung_radius, '\n",
      " 'Coh_radius, Waber_radius, mied_param_h, mied_param_phi, HOMO , LUMO, '\n",
      " 'mag_moment_bulk_d,  E_Fermi, E_Fermi2, d_electrons, vdw_radius2, '\n",
      " 'total_metal_gas_energy, n_e, U_diss_0, ncoord, number_C, number_hetero, '\n",
      " 'frac_hetero, frac_C, number_hetero_six, frac_hetero_six, number_hetero_five, '\n",
      " 'frac_hetero_five, hetatom, r1, r2, r3, r4, r5, r6, r7, r8, en1, en2, en3, '\n",
      " 'en4, en5, en6, en7, en8, min(r), mean(r), max(r), std(r), sum(r), min(en), '\n",
      " 'mean(en), max(en), std(en), sum(en), abs_path, rel_path, sc, dc, '\n",
      " 'chem_formula, num_atoms, cavity_ids, cont_cavity_ds, cont_cavity_ang, '\n",
      " 'cavity_nd, cavity_ang, posc_cavity_ds, posc_cavity_ang, min(cont_cavity_ds), '\n",
      " 'max(cont_cavity_ds), mean(cont_cavity_ds), std(cont_cavity_ds), '\n",
      " 'min(posc_cavity_ds), max(posc_cavity_ds), mean(posc_cavity_ds), '\n",
      " 'std(posc_cavity_ds), min(cont_cavity_ang), max(cont_cavity_ang), '\n",
      " 'mean(cont_cavity_ang), std(cont_cavity_ang), min(posc_cavity_ang), '\n",
      " 'max(posc_cavity_ang), mean(posc_cavity_ang), std(posc_cavity_ang), '\n",
      " 'delta_min_ds, delta_max_ds, cavity_energy, fermi_energy_cavity, surface, '\n",
      " 'perimeter, z_max, z_min, z_std, z_mean, z_max_sec, z_min_sec, z_std_sec, '\n",
      " 'z_mean_sec, phi, M1_M2, E_M1M2, E_M1M2_v2, convex_hull_area, '\n",
      " 'convex_hull_volume, mean_distance_N, Eint, r_min_max, dist_min, dist_max')\n"
     ]
    }
   ],
   "source": [
    "print(\", \".join(Edft_coh_df_iqr_7.columns))"
   ]
  },
  {
   "cell_type": "code",
   "execution_count": 26,
   "metadata": {},
   "outputs": [
    {
     "data": {
      "text/html": [
       "<div>\n",
       "<style scoped>\n",
       "    .dataframe tbody tr th:only-of-type {\n",
       "        vertical-align: middle;\n",
       "    }\n",
       "\n",
       "    .dataframe tbody tr th {\n",
       "        vertical-align: top;\n",
       "    }\n",
       "\n",
       "    .dataframe thead th {\n",
       "        text-align: right;\n",
       "    }\n",
       "</style>\n",
       "<table border=\"1\" class=\"dataframe\">\n",
       "  <thead>\n",
       "    <tr style=\"text-align: right;\">\n",
       "      <th></th>\n",
       "      <th>system_dacs</th>\n",
       "      <th>tot_energy_dacs</th>\n",
       "      <th>M1</th>\n",
       "      <th>M2</th>\n",
       "      <th>heteroatom_dacs</th>\n",
       "      <th>basic_cavity_dacs</th>\n",
       "      <th>cavity</th>\n",
       "      <th>cavity_v2</th>\n",
       "      <th>cavity_3</th>\n",
       "      <th>M1_cavity</th>\n",
       "      <th>...</th>\n",
       "      <th>M1_M2</th>\n",
       "      <th>E_M1M2</th>\n",
       "      <th>E_M1M2_v2</th>\n",
       "      <th>convex_hull_area</th>\n",
       "      <th>convex_hull_volume</th>\n",
       "      <th>mean_distance_N</th>\n",
       "      <th>Eint</th>\n",
       "      <th>r_min_max</th>\n",
       "      <th>dist_min</th>\n",
       "      <th>dist_max</th>\n",
       "    </tr>\n",
       "  </thead>\n",
       "  <tbody>\n",
       "    <tr>\n",
       "      <th>891</th>\n",
       "      <td>Pd_Fe_N_din6_s_c4_0134</td>\n",
       "      <td>-613.845</td>\n",
       "      <td>Pd</td>\n",
       "      <td>Fe</td>\n",
       "      <td>N</td>\n",
       "      <td>din6</td>\n",
       "      <td>N_din6_s_c4_0134</td>\n",
       "      <td>N_din6_s_c4_0134</td>\n",
       "      <td>4</td>\n",
       "      <td>Pd_N_din6_s_c4_0134</td>\n",
       "      <td>...</td>\n",
       "      <td>Pd_Fe</td>\n",
       "      <td>-2.582</td>\n",
       "      <td>-0.644</td>\n",
       "      <td>83.7</td>\n",
       "      <td>0.486</td>\n",
       "      <td>5.791</td>\n",
       "      <td>0.505</td>\n",
       "      <td>0.863</td>\n",
       "      <td>5.054</td>\n",
       "      <td>5.855</td>\n",
       "    </tr>\n",
       "  </tbody>\n",
       "</table>\n",
       "<p>1 rows × 151 columns</p>\n",
       "</div>"
      ],
      "text/plain": [
       "                system_dacs  tot_energy_dacs  M1  M2 heteroatom_dacs  \\\n",
       "891  Pd_Fe_N_din6_s_c4_0134         -613.845  Pd  Fe               N   \n",
       "\n",
       "    basic_cavity_dacs            cavity         cavity_v2  cavity_3  \\\n",
       "891              din6  N_din6_s_c4_0134  N_din6_s_c4_0134         4   \n",
       "\n",
       "               M1_cavity  ...  M1_M2 E_M1M2 E_M1M2_v2  convex_hull_area  \\\n",
       "891  Pd_N_din6_s_c4_0134  ...  Pd_Fe -2.582    -0.644              83.7   \n",
       "\n",
       "    convex_hull_volume mean_distance_N   Eint  r_min_max  dist_min dist_max  \n",
       "891              0.486           5.791  0.505      0.863     5.054    5.855  \n",
       "\n",
       "[1 rows x 151 columns]"
      ]
     },
     "execution_count": 26,
     "metadata": {},
     "output_type": "execute_result"
    }
   ],
   "source": [
    "Edft_coh_df_iqr_7.sample()"
   ]
  },
  {
   "cell_type": "code",
   "execution_count": 27,
   "metadata": {},
   "outputs": [
    {
     "data": {
      "text/html": [
       "<div>\n",
       "<style scoped>\n",
       "    .dataframe tbody tr th:only-of-type {\n",
       "        vertical-align: middle;\n",
       "    }\n",
       "\n",
       "    .dataframe tbody tr th {\n",
       "        vertical-align: top;\n",
       "    }\n",
       "\n",
       "    .dataframe thead th {\n",
       "        text-align: right;\n",
       "    }\n",
       "</style>\n",
       "<table border=\"1\" class=\"dataframe\">\n",
       "  <thead>\n",
       "    <tr style=\"text-align: right;\">\n",
       "      <th></th>\n",
       "      <th>count</th>\n",
       "      <th>mean</th>\n",
       "      <th>std</th>\n",
       "      <th>min</th>\n",
       "      <th>25%</th>\n",
       "      <th>50%</th>\n",
       "      <th>75%</th>\n",
       "      <th>max</th>\n",
       "    </tr>\n",
       "  </thead>\n",
       "  <tbody>\n",
       "    <tr>\n",
       "      <th>tot_energy_dacs</th>\n",
       "      <td>909.0</td>\n",
       "      <td>-630.39</td>\n",
       "      <td>8.57</td>\n",
       "      <td>-640.75</td>\n",
       "      <td>-636.38</td>\n",
       "      <td>-633.90</td>\n",
       "      <td>-629.14</td>\n",
       "      <td>-606.83</td>\n",
       "    </tr>\n",
       "    <tr>\n",
       "      <th>cavity_3</th>\n",
       "      <td>909.0</td>\n",
       "      <td>2.90</td>\n",
       "      <td>1.33</td>\n",
       "      <td>0.00</td>\n",
       "      <td>2.00</td>\n",
       "      <td>3.00</td>\n",
       "      <td>4.00</td>\n",
       "      <td>6.00</td>\n",
       "    </tr>\n",
       "    <tr>\n",
       "      <th>tot_energy_sacs_pristine</th>\n",
       "      <td>909.0</td>\n",
       "      <td>-612.92</td>\n",
       "      <td>7.39</td>\n",
       "      <td>-618.51</td>\n",
       "      <td>-616.87</td>\n",
       "      <td>-616.11</td>\n",
       "      <td>-614.67</td>\n",
       "      <td>-593.77</td>\n",
       "    </tr>\n",
       "    <tr>\n",
       "      <th>Ecoh_m1</th>\n",
       "      <td>909.0</td>\n",
       "      <td>-6.29</td>\n",
       "      <td>3.03</td>\n",
       "      <td>-11.84</td>\n",
       "      <td>-8.62</td>\n",
       "      <td>-5.87</td>\n",
       "      <td>-3.88</td>\n",
       "      <td>-1.23</td>\n",
       "    </tr>\n",
       "    <tr>\n",
       "      <th>Ecoh_m2</th>\n",
       "      <td>909.0</td>\n",
       "      <td>-8.62</td>\n",
       "      <td>0.00</td>\n",
       "      <td>-8.62</td>\n",
       "      <td>-8.62</td>\n",
       "      <td>-8.62</td>\n",
       "      <td>-8.62</td>\n",
       "      <td>-8.62</td>\n",
       "    </tr>\n",
       "    <tr>\n",
       "      <th>...</th>\n",
       "      <td>...</td>\n",
       "      <td>...</td>\n",
       "      <td>...</td>\n",
       "      <td>...</td>\n",
       "      <td>...</td>\n",
       "      <td>...</td>\n",
       "      <td>...</td>\n",
       "      <td>...</td>\n",
       "    </tr>\n",
       "    <tr>\n",
       "      <th>mean_distance_N</th>\n",
       "      <td>909.0</td>\n",
       "      <td>3.51</td>\n",
       "      <td>0.77</td>\n",
       "      <td>2.36</td>\n",
       "      <td>2.96</td>\n",
       "      <td>3.36</td>\n",
       "      <td>3.87</td>\n",
       "      <td>5.79</td>\n",
       "    </tr>\n",
       "    <tr>\n",
       "      <th>Eint</th>\n",
       "      <td>909.0</td>\n",
       "      <td>1.29</td>\n",
       "      <td>1.29</td>\n",
       "      <td>-2.66</td>\n",
       "      <td>0.50</td>\n",
       "      <td>1.15</td>\n",
       "      <td>2.01</td>\n",
       "      <td>5.92</td>\n",
       "    </tr>\n",
       "    <tr>\n",
       "      <th>r_min_max</th>\n",
       "      <td>909.0</td>\n",
       "      <td>0.58</td>\n",
       "      <td>0.16</td>\n",
       "      <td>0.34</td>\n",
       "      <td>0.50</td>\n",
       "      <td>0.52</td>\n",
       "      <td>0.67</td>\n",
       "      <td>0.88</td>\n",
       "    </tr>\n",
       "    <tr>\n",
       "      <th>dist_min</th>\n",
       "      <td>909.0</td>\n",
       "      <td>3.04</td>\n",
       "      <td>1.00</td>\n",
       "      <td>1.83</td>\n",
       "      <td>2.55</td>\n",
       "      <td>2.61</td>\n",
       "      <td>3.28</td>\n",
       "      <td>5.13</td>\n",
       "    </tr>\n",
       "    <tr>\n",
       "      <th>dist_max</th>\n",
       "      <td>909.0</td>\n",
       "      <td>5.18</td>\n",
       "      <td>0.34</td>\n",
       "      <td>4.68</td>\n",
       "      <td>4.95</td>\n",
       "      <td>5.12</td>\n",
       "      <td>5.24</td>\n",
       "      <td>5.92</td>\n",
       "    </tr>\n",
       "  </tbody>\n",
       "</table>\n",
       "<p>119 rows × 8 columns</p>\n",
       "</div>"
      ],
      "text/plain": [
       "                          count    mean   std     min     25%     50%     75%  \\\n",
       "tot_energy_dacs           909.0 -630.39  8.57 -640.75 -636.38 -633.90 -629.14   \n",
       "cavity_3                  909.0    2.90  1.33    0.00    2.00    3.00    4.00   \n",
       "tot_energy_sacs_pristine  909.0 -612.92  7.39 -618.51 -616.87 -616.11 -614.67   \n",
       "Ecoh_m1                   909.0   -6.29  3.03  -11.84   -8.62   -5.87   -3.88   \n",
       "Ecoh_m2                   909.0   -8.62  0.00   -8.62   -8.62   -8.62   -8.62   \n",
       "...                         ...     ...   ...     ...     ...     ...     ...   \n",
       "mean_distance_N           909.0    3.51  0.77    2.36    2.96    3.36    3.87   \n",
       "Eint                      909.0    1.29  1.29   -2.66    0.50    1.15    2.01   \n",
       "r_min_max                 909.0    0.58  0.16    0.34    0.50    0.52    0.67   \n",
       "dist_min                  909.0    3.04  1.00    1.83    2.55    2.61    3.28   \n",
       "dist_max                  909.0    5.18  0.34    4.68    4.95    5.12    5.24   \n",
       "\n",
       "                             max  \n",
       "tot_energy_dacs          -606.83  \n",
       "cavity_3                    6.00  \n",
       "tot_energy_sacs_pristine -593.77  \n",
       "Ecoh_m1                    -1.23  \n",
       "Ecoh_m2                    -8.62  \n",
       "...                          ...  \n",
       "mean_distance_N             5.79  \n",
       "Eint                        5.92  \n",
       "r_min_max                   0.88  \n",
       "dist_min                    5.13  \n",
       "dist_max                    5.92  \n",
       "\n",
       "[119 rows x 8 columns]"
      ]
     },
     "execution_count": 27,
     "metadata": {},
     "output_type": "execute_result"
    }
   ],
   "source": [
    "Edft_coh_df_iqr_7.describe().T.round(2)\n"
   ]
  },
  {
   "cell_type": "markdown",
   "metadata": {},
   "source": [
    "## Exporting Full and Subset Datasets by Cavity Type"
   ]
  },
  {
   "cell_type": "markdown",
   "metadata": {},
   "source": [
    "This block saves the final processed dataset `Edft_coh_df_iqr_7` as both `.csv` and `.pkl` files. In addition, several filtered subsets based on specific cavity patterns (`din6_s`, `din6_as`, `din4_x2`, etc.) are extracted and saved individually. "
   ]
  },
  {
   "cell_type": "code",
   "execution_count": 28,
   "metadata": {},
   "outputs": [],
   "source": [
    "\n",
    "Edft_coh_df_iqr_7 = Edft_coh_df_iqr_7.copy(deep=True)\n",
    "save_path_csv = os.path.join(dacs_energies_out_dir, 'Edacs_dft.csv')\n",
    "Edft_coh_df_iqr_7.to_csv(save_path_csv, index=False, header=True)\n",
    "save_path_pkl = os.path.join(dacs_energies_out_dir, 'Edacs_dft.pkl')\n",
    "Edft_coh_df_iqr_7.to_pickle(save_path_pkl)\n",
    "\n",
    "\n",
    "Edft_coh_df_iqr_7 = Edft_coh_df_iqr_7.copy(deep=True)\n",
    "Edft_din6_s_df = Edft_coh_df_iqr_7[Edft_coh_df_iqr_7['cavity'].str.contains('din6_s')]\n",
    "save_path_csv = os.path.join(dacs_energies_out_dir, 'Edft_din6_s_df.csv')\n",
    "Edft_din6_s_df.to_csv(save_path_csv, index=False, header=True)\n",
    "save_path_pkl = os.path.join(dacs_energies_out_dir, 'Edft_din6_s_df.pkl')\n",
    "Edft_din6_s_df.to_pickle(save_path_pkl)\n",
    "\n",
    "\n",
    "Edft_coh_df_iqr_7 = Edft_coh_df_iqr_7.copy(deep=True)\n",
    "Edft_din6_as_df = Edft_coh_df_iqr_6[Edft_coh_df_iqr_6['cavity'].str.contains('din6_as')]\n",
    "save_path_csv = os.path.join(dacs_energies_out_dir, 'Edft_din6_as_df.csv')\n",
    "Edft_din6_as_df.to_csv(save_path_csv, index=False, header=True)\n",
    "save_path_pkl = os.path.join(dacs_energies_out_dir, 'Edft_din6_as_df.pkl')\n",
    "Edft_din6_as_df.to_pickle(save_path_pkl)\n",
    "\n",
    "\n",
    "Edft_coh_df_iqr_7 = Edft_coh_df_iqr_7.copy(deep=True)\n",
    "Edft_din4_x2_df = Edft_coh_df_iqr_7[Edft_coh_df_iqr_7['cavity'].str.contains('din4_x2')]\n",
    "save_path_csv = os.path.join(dacs_energies_out_dir, 'Edft_din4_x2_df.csv')\n",
    "Edft_din4_x2_df.to_csv(save_path_csv, index=False, header=True)\n",
    "save_path_pkl = os.path.join(dacs_energies_out_dir, 'Edft_din4_x2_df.pkl')\n",
    "Edft_din4_x2_df.to_pickle(save_path_pkl)\n",
    "\n",
    "\n",
    "Edft_coh_df_iqr_7 = Edft_coh_df_iqr_7.copy(deep=True)\n",
    "Edft_din6_df = Edft_coh_df_iqr_7[Edft_coh_df_iqr_7['cavity'].str.contains('din6')]\n",
    "save_path_csv = os.path.join(dacs_energies_out_dir, 'Edft_din6_df.csv')\n",
    "Edft_din6_s_df.to_csv(save_path_csv, index=False, header=True)\n",
    "save_path_pkl = os.path.join(dacs_energies_out_dir, 'Edft_din6_df.pkl')\n",
    "Edft_din6_df.to_pickle(save_path_pkl)\n",
    "\n",
    "\n",
    "Edft_coh_df_iqr_7 = Edft_coh_df_iqr_7.copy(deep=True)\n",
    "Edft_din6_s_din4_x2_df = Edft_coh_df_iqr_7[Edft_coh_df_iqr_7['cavity'].str.contains('din4_x2|din6_s')]\n",
    "save_path_csv = os.path.join(dacs_energies_out_dir, 'Edft_din6_s_din4_x2_df.csv')\n",
    "Edft_din6_s_din4_x2_df.to_csv(save_path_csv, index=False, header=True)\n",
    "save_path_pkl = os.path.join(dacs_energies_out_dir, 'Edft_din6_s_din4_x2_df.pkl')\n",
    "Edft_din6_s_din4_x2_df.to_pickle(save_path_pkl)\n",
    "\n",
    "\n",
    "Edft_coh_df_iqr_7 = Edft_coh_df_iqr_7.copy(deep=True)\n",
    "\n",
    "Edft_din6_as_din4_x2_df = Edft_coh_df_iqr_7[Edft_coh_df_iqr_7['cavity'].str.contains('din6_as|din4_x2', regex=True)]\n",
    "save_path_csv = os.path.join(dacs_energies_out_dir, 'Edft_din6_as_din4_x2_df.csv')\n",
    "Edft_din6_as_din4_x2_df.to_csv(save_path_csv, index=False, header=True)\n",
    "save_path_pkl = os.path.join(dacs_energies_out_dir, 'Edft_din6_as_din4_x2_df.pkl')\n",
    "Edft_din6_as_din4_x2_df.to_pickle(save_path_pkl)\n"
   ]
  },
  {
   "cell_type": "markdown",
   "metadata": {},
   "source": [
    "## Balancing the Dataset"
   ]
  },
  {
   "cell_type": "markdown",
   "metadata": {},
   "source": [
    "To ensure a more uniform representation across different cavity types, we grouped the dataset by the basic_cavity_dacs column and sampled up to 600 entries per group. This helps avoid biases in downstream analysis or modeling. The balanced dataset was saved in both .csv and .pkl formats for future use."
   ]
  },
  {
   "cell_type": "code",
   "execution_count": 29,
   "metadata": {},
   "outputs": [
    {
     "name": "stderr",
     "output_type": "stream",
     "text": [
      "/var/folders/r0/j1r1w1wj62d3515ngrr0j1kc0000gn/T/ipykernel_83375/3121729239.py:8: DeprecationWarning: DataFrameGroupBy.apply operated on the grouping columns. This behavior is deprecated, and in a future version of pandas the grouping columns will be excluded from the operation. Either pass `include_groups=False` to exclude the groupings or explicitly select the grouping columns after groupby to silence this warning.\n",
      "  balanced_df = Edft_coh_df_iqr_7.groupby('basic_cavity_dacs').apply(\n"
     ]
    }
   ],
   "source": [
    "# Assuming Edft_coh_df_iqr_7 is your DataFrame\n",
    "Edft_coh_df_iqr_7 = Edft_coh_df_iqr_7.copy(deep=True)\n",
    "\n",
    "# Define the number of samples you want for each category\n",
    "desired_samples = 600 \n",
    "\n",
    "# Perform sampling to get exactly 500 rows for each category\n",
    "balanced_df = Edft_coh_df_iqr_7.groupby('basic_cavity_dacs').apply(\n",
    "    lambda x: x.sample(n=min(len(x), desired_samples), random_state=42)\n",
    ").reset_index(drop=True)\n",
    "\n",
    "# Save the new balanced dataset\n",
    "save_path_csv = os.path.join(dacs_energies_out_dir, 'Edft_balanced_df.csv')\n",
    "balanced_df.to_csv(save_path_csv, index=False, header=True)\n",
    "\n",
    "save_path_pkl = os.path.join(dacs_energies_out_dir, 'Edft_balanced_df.pkl')\n",
    "balanced_df.to_pickle(save_path_pkl)\n"
   ]
  },
  {
   "cell_type": "code",
   "execution_count": 30,
   "metadata": {},
   "outputs": [
    {
     "data": {
      "text/plain": [
       "(856, 151)"
      ]
     },
     "execution_count": 30,
     "metadata": {},
     "output_type": "execute_result"
    }
   ],
   "source": [
    "balanced_df.shape"
   ]
  }
 ],
 "metadata": {
  "kernelspec": {
   "display_name": "bms",
   "language": "python",
   "name": "python3"
  },
  "language_info": {
   "codemirror_mode": {
    "name": "ipython",
    "version": 3
   },
   "file_extension": ".py",
   "mimetype": "text/x-python",
   "name": "python",
   "nbconvert_exporter": "python",
   "pygments_lexer": "ipython3",
   "version": "3.10.13"
  }
 },
 "nbformat": 4,
 "nbformat_minor": 2
}
