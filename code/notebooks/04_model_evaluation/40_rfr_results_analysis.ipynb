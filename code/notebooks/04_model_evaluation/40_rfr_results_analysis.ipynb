{
 "cells": [
  {
   "cell_type": "markdown",
   "metadata": {},
   "source": [
    "# 4.0 Random Forest Regression Results Analysis"
   ]
  },
  {
   "cell_type": "markdown",
   "metadata": {},
   "source": [
    "## Notebook Setup: Imports and Configuration\n"
   ]
  },
  {
   "cell_type": "code",
   "execution_count": null,
   "metadata": {},
   "outputs": [],
   "source": [
    "# ─────────────────────────────\n",
    "# Standard Library Imports\n",
    "# ─────────────────────────────\n",
    "import os\n",
    "import sys\n",
    "import time\n",
    "import copy\n",
    "import re\n",
    "import itertools as it\n",
    "from pprint import pprint\n",
    "\n",
    "# ─────────────────────────────\n",
    "# Adjust sys.path for Local Modules\n",
    "# ─────────────────────────────\n",
    "sys.path.append(os.path.abspath(os.path.join('..', '..', 'src')))\n",
    "\n",
    "# ─────────────────────────────\n",
    "# Third-Party Imports\n",
    "# ─────────────────────────────\n",
    "import numpy as np\n",
    "import pandas as pd\n",
    "from scipy.stats import norm\n",
    "from tqdm.notebook import tqdm\n",
    "from tqdm import trange\n",
    "\n",
    "# Sklearn\n",
    "from sklearn.metrics import r2_score, mean_squared_error\n",
    "from sklearn.pipeline import Pipeline\n",
    "\n",
    "# Plotly\n",
    "import plotly.graph_objs as go\n",
    "from plotly.offline import init_notebook_mode, plot\n",
    "from plotly.subplots import make_subplots\n",
    "import plotly.figure_factory as ff\n",
    "import plotly.express as px\n",
    "import plotly.io as pio\n",
    "\n",
    "# Matplotlib\n",
    "import matplotlib.pyplot as plt\n",
    "\n",
    "# ─────────────────────────────\n",
    "# Project-Specific Imports\n",
    "# ─────────────────────────────\n",
    "from settings import *\n",
    "from utils import *\n",
    "from vis import *\n",
    "from ml import *\n",
    "\n",
    "\n",
    "# ─────────────────────────────\n",
    "# Notebook Display & Pandas Options\n",
    "# ─────────────────────────────\n",
    "import warnings\n",
    "from scipy.linalg import LinAlgWarning\n",
    "from IPython.core.interactiveshell import InteractiveShell\n",
    "\n",
    "# Pandas display settings\n",
    "pd.set_option(\"display.max_rows\", None)\n",
    "pd.set_option(\"display.max_columns\", None)\n",
    "pd.set_option(\"mode.chained_assignment\", None)\n",
    "pd.options.display.max_colwidth = 200\n",
    "\n",
    "# Jupyter interactive output\n",
    "InteractiveShell.ast_node_interactivity = \"all\"\n",
    "\n",
    "# Enable Plotly notebook mode\n",
    "init_notebook_mode(connected=True)\n",
    "\n",
    "# ─────────────────────────────\n",
    "# Suppress Warnings\n",
    "# ─────────────────────────────\n",
    "warnings.filterwarnings(action=\"ignore\", category=LinAlgWarning, module=\"sklearn\")\n",
    "from warnings import simplefilter\n",
    "simplefilter(action=\"ignore\", category=pd.errors.PerformanceWarning)\n"
   ]
  },
  {
   "cell_type": "markdown",
   "metadata": {},
   "source": [
    "## Feature Importance RFR"
   ]
  },
  {
   "cell_type": "markdown",
   "metadata": {},
   "source": [
    "This cell defines the feature importance values, maps feature names to LaTeX-style labels for better readability in the plot, assigns custom colors to each feature, and then calls the plot_feature_importance function to generate and save the horizontal bar chart visualizing the importance of each feature in the model."
   ]
  },
  {
   "cell_type": "code",
   "execution_count": null,
   "metadata": {},
   "outputs": [],
   "source": [
    "# Feature importance values\n",
    "feature_importance = {\n",
    "    'E_Fermi': 0.0349889830085655,\n",
    "    'MB_electroneg': 0.051468824441862265,\n",
    "    'fermi_energy_cavity': 0.256025697786134,\n",
    "    'mied_param_h': 0.07758893191456132,\n",
    "    'ncoord': 0.13833656703656258,\n",
    "    'r_cov_sb': 0.07156780775165847,\n",
    "    'sum(r)': 0.18910584320015786,\n",
    "    'surface': 0.18091734486049796\n",
    "}\n",
    "\n",
    "# LaTeX-style label mapping\n",
    "feature_name_mapping = {\n",
    "    'E_Fermi': r'$\\varepsilon_F$',  \n",
    "    'MB_electroneg': r'$\\chi_{MB}$', \n",
    "    'fermi_energy_cavity': r'$\\varepsilon^{cc}_{F}$',  \n",
    "    'mied_param_h': r'$\\eta^{1/3}$', \n",
    "    'ncoord': r'$n^{cc}$',  \n",
    "    'r_cov_sb': r'$r^{sb}_{cov}$',  \n",
    "    'sum(r)': r'$\\sum r^{cc}_{cov}$',  \n",
    "    'surface': r'$S^{cc}$'  \n",
    "}\n",
    "\n",
    "# Custom color map\n",
    "colors = {\n",
    "    'E_Fermi': 'rgb(28,144,153)',\n",
    "    'MB_electroneg': 'rgb(28,144,153)',\n",
    "    'fermi_energy_cavity': 'rgb(136,86,167)',\n",
    "    'mied_param_h': 'rgb(28,144,153)',\n",
    "    'ncoord': 'rgb(35,139,69)',\n",
    "    'r_cov_sb': 'rgb(28,144,153)',\n",
    "    'sum(r)': 'rgb(35,139,69)',  \n",
    "    'surface': 'rgb(136,86,167)'\n",
    "}\n",
    "\n",
    "plot_feature_importance(\n",
    "    feature_importance=feature_importance,\n",
    "    feature_name_mapping=feature_name_mapping,\n",
    "    color_map=colors,\n",
    "    #save_dir=\"../../../data/figures/rfr_results\",\n",
    "    #filename=\"mdi_features\",\n",
    "    save_formats=[\"png\", \"svg\", \"pdf\"],\n",
    "    dpi=300\n",
    ")\n",
    "\n"
   ]
  },
  {
   "cell_type": "markdown",
   "metadata": {},
   "source": [
    "## Pearson Correlation Matrix"
   ]
  },
  {
   "cell_type": "markdown",
   "metadata": {},
   "source": [
    "This heatmap visualizes the Pearson correlation coefficients between selected features in the dataset. The Pearson correlation measures the linear relationship between pairs of variables, with values ranging from -1 (perfect negative correlation) to +1 (perfect positive correlation). Values close to 0 indicate little to no linear correlation.\n",
    "\n",
    "The heatmap uses LaTeX-style symbols to clearly label the features, enhancing readability and presentation quality. The upper triangle of the matrix is masked to avoid redundancy since the correlation matrix is symmetric.\n",
    "\n",
    "Understanding these correlations helps identify which features are strongly related, which can inform feature selection and engineering in downstream machine learning tasks."
   ]
  },
  {
   "cell_type": "code",
   "execution_count": null,
   "metadata": {},
   "outputs": [],
   "source": [
    "data_rfr_dacs_path = \"../../../data/out/df_rfr_dacs_results.csv\"\n",
    "df_corr = pd.read_csv(data_rfr_dacs_path)\n",
    "\n",
    "feature_name_mapping = {\n",
    "    'fermi_energy_cavity': r'$\\varepsilon^{cc}_{F}$',\n",
    "    'sum(r)': r'$\\sum r^{cc}_{cov}$',\n",
    "    'surface': r'$S^{cc}$',\n",
    "    'ncoord': r'$n^{cc}$',\n",
    "    'mied_param_h': r'$\\eta^{1/3}$',\n",
    "    'r_cov_sb': r'$r^{sb}_{cov}$',\n",
    "    'MB_electroneg': r'$\\chi_{MB}$',\n",
    "    ' E_Fermi': r'$\\varepsilon_F$',  # Fixed leading space in your original dict key\n",
    "}\n",
    "\n",
    "plot_pearson_correlation(\n",
    "    df=df_corr,\n",
    "    feature_name_mapping=feature_name_mapping,\n",
    "    #save_dir=\"../../../data/figures/rfr_results\",\n",
    "    #filename=\"pearson_corr\"\n",
    ")\n"
   ]
  },
  {
   "cell_type": "markdown",
   "metadata": {},
   "source": [
    "##  Mean Absolute Error by Metal Category"
   ]
  },
  {
   "cell_type": "markdown",
   "metadata": {},
   "source": [
    "This section visualizes the predictive performance of the model across different metal categories by computing the mean absolute error (MAE) per metal. The error is aggregated across cross-validation folds and displayed with standard deviation as error bars. This diagnostic helps identify if the model performs better for certain metals and worse for others, indicating potential data imbalance or model bias."
   ]
  },
  {
   "cell_type": "code",
   "execution_count": null,
   "metadata": {},
   "outputs": [],
   "source": [
    "metal_colors = {\n",
    "    \"Ru\": \"rgb(255, 0, 0)\",\n",
    "    \"Rh\": \"rgb(0, 255, 0)\",\n",
    "    \"Co\": \"rgb(0, 0, 255)\",\n",
    "    \"Fe\": \"rgb(255, 255, 0)\",\n",
    "    \"Zn\": \"rgb(255, 0, 255)\",\n",
    "    \"Ni\": \"rgb(0, 255, 255)\",\n",
    "    \"Os\": \"rgb(128, 128, 0)\",\n",
    "    \"Cd\": \"rgb(128, 0, 128)\",\n",
    "    \"Pd\": \"rgb(0, 128, 128)\",\n",
    "    \"Cu\": \"rgb(128, 0, 0)\",\n",
    "    \"Ag\": \"rgb(0, 128, 0)\",\n",
    "    \"Ir\": \"rgb(0, 0, 128)\",\n",
    "    \"Au\": \"rgb(255, 165, 0)\",\n",
    "    \"Pt\": \"rgb(128, 128, 128)\",\n",
    "}\n",
    "\n",
    "df = pd.read_csv(\"../../../data/out/df_rfr_dacs_results.csv\")\n",
    "\n",
    "plot_mae_by_metal(\n",
    "    df=df,\n",
    "    true_value_col=\"Eads\",\n",
    "    pred_prefix=\"pred_\",\n",
    "    metal_col=\"M1\",\n",
    "    metal_colors=metal_colors,\n",
    "    n_folds=10,\n",
    "    figsize=(6,3),\n",
    "    # save_dir=\"../../../data/figures/rfr_results\",\n",
    "    # filename=\"metal_mae\",\n",
    "    # save_formats=[\"png\", \"svg\", \"pdf\"],\n",
    "    # dpi=300,\n",
    ")\n"
   ]
  },
  {
   "cell_type": "markdown",
   "metadata": {},
   "source": [
    "## Mean Absolute Error by Number of Carbon Atoms\n"
   ]
  },
  {
   "cell_type": "markdown",
   "metadata": {},
   "source": [
    "This plot visualizes the Mean Absolute Error (MAE) for different categories based on the number of carbon atoms (`cavity_3`). \n",
    "It averages MAE values across 10-fold cross-validation results for multiple prediction models and includes error bars to indicate variability. \n",
    "This helps assess how prediction accuracy varies with molecular size or structure.\n"
   ]
  },
  {
   "cell_type": "code",
   "execution_count": null,
   "metadata": {},
   "outputs": [],
   "source": [
    "data_rfr_dacs = \"../../../data/out/df_rfr_dacs_results.csv\"\n",
    "df = pd.read_csv(data_rfr_dacs)\n",
    "\n",
    "# Call the function to generate the plot\n",
    "plot_mae_by_category(\n",
    "    df=df,\n",
    "    group_col=\"cavity_3\",\n",
    "    # save_path=\"../../../data/figures/rfr_results\",\n",
    "    # title=\"Mean Absolute Error by Cavity Category (with Error Bars)\"\n",
    ")\n"
   ]
  },
  {
   "cell_type": "markdown",
   "metadata": {},
   "source": [
    "## Averaging Predictions Across Cross-Validation Folds\n"
   ]
  },
  {
   "cell_type": "markdown",
   "metadata": {},
   "source": [
    "This step computes the average of all predicted values from different cross-validation folds for each sample, resulting in a consensus prediction (`y_pred`). The updated DataFrame is then saved for further analysis or evaluation."
   ]
  },
  {
   "cell_type": "code",
   "execution_count": null,
   "metadata": {},
   "outputs": [],
   "source": [
    "\n",
    "# Load the data\n",
    "data_rfr_dacs = \"../../../data/out/df_rfr_dacs_results.csv\"\n",
    "df = pd.read_csv(data_rfr_dacs)\n",
    "\n",
    "# List of prediction columns (assuming they all start with 'pred_')\n",
    "prediction_columns = [col for col in df.columns if col.startswith('pred_')]\n",
    "\n",
    "# Calculate the mean predicted value across the columns and add it as a new column\n",
    "df['y_pred'] = df[prediction_columns].mean(axis=1)\n",
    "\n",
    "# Save the updated DataFrame if needed\n",
    "output_path = \"../../../data/out/df_rfr_dacs_results_with_y_pred.csv\"\n",
    "df.to_csv(output_path, index=False)\n"
   ]
  },
  {
   "cell_type": "markdown",
   "metadata": {},
   "source": [
    "## Most Stable DACs Predicted by RFR (10-fold CV)"
   ]
  },
  {
   "cell_type": "markdown",
   "metadata": {},
   "source": [
    "This cell identifies the 10 DAC systems with the lowest predicted adsorption energies (`y_pred`) from the RFR model. These entries are likely the most stable configurations according to the model, as lower adsorption energies typically indicate stronger binding. The values are sorted in ascending order and shown with two decimal places."
   ]
  },
  {
   "cell_type": "code",
   "execution_count": null,
   "metadata": {},
   "outputs": [],
   "source": [
    "# Sort the DataFrame by the 'y_pred' column in ascending order\n",
    "sorted_df = df.sort_values(by='y_pred', ascending=True)\n",
    "\n",
    "# Extract the 10 rows with the lowest y_pred values and the corresponding system_dacs values\n",
    "lowest_y_pred = sorted_df[['y_pred', 'system_dacs']].head(10)\n",
    "\n",
    "lowest_y_pred = lowest_y_pred.copy()\n",
    "lowest_y_pred['y_pred'] = lowest_y_pred['y_pred'].round(2)\n",
    "\n",
    "# Print the result\n",
    "print(\"The 10 most stable DACs on N-doped carbon:\")\n",
    "print(lowest_y_pred)\n"
   ]
  },
  {
   "cell_type": "markdown",
   "metadata": {},
   "source": [
    "### Most stable DACs for N_din4_x2_c0"
   ]
  },
  {
   "cell_type": "code",
   "execution_count": null,
   "metadata": {},
   "outputs": [],
   "source": [
    "\n",
    "# Filter the DataFrame for rows where 'cavity_v2' contains 'N_din4_x2_c0'\n",
    "filtered_df = df[df['cavity_v2'] == 'N_din4_x2_c0']\n",
    "\n",
    "# Sort the filtered DataFrame by 'y_pred' in ascending order\n",
    "sorted_filtered_df = filtered_df.sort_values(by='y_pred', ascending=True)\n",
    "\n",
    "# Extract the 10 rows with the lowest y_pred values and the corresponding 'system_dacs' values\n",
    "lowest_y_pred_filtered = sorted_filtered_df[['y_pred', 'system_dacs']].head(14)\n",
    "\n",
    "# Print the result\n",
    "print(\"The 10 most stable M1_M2_N_din4_x2_c0:\")\n",
    "print(lowest_y_pred_filtered)\n",
    "\n",
    "\n"
   ]
  },
  {
   "cell_type": "markdown",
   "metadata": {},
   "source": [
    "### Most stable DACs din4_x2"
   ]
  },
  {
   "cell_type": "code",
   "execution_count": null,
   "metadata": {},
   "outputs": [],
   "source": [
    "# Filter the DataFrame where 'cavity_v2' contains 'din4_x2'\n",
    "filtered_df = df[df['cavity_v2'].str.contains('din4_x2', na=False)]\n",
    "\n",
    "# Sort the filtered DataFrame by 'y_pred' in ascending order\n",
    "sorted_filtered_df = filtered_df.sort_values(by='y_pred', ascending=True)\n",
    "\n",
    "# Extract the 10 rows with the lowest y_pred values and the corresponding 'system_dacs' values\n",
    "lowest_y_pred_filtered = sorted_filtered_df[['y_pred', 'system_dacs']].head(8)\n",
    "print(lowest_y_pred_filtered)\n",
    "\n",
    "\n",
    "# Extract the 8 rows with the lowest y_pred values\n",
    "din4_x2_stable_rfr = sorted_filtered_df.head(8)\n",
    "\n",
    "# Save these rows to the specified CSV file\n",
    "path_stable_din4_x2 = \"../../../data/out/din4_x2_stable_rfr.csv\"\n",
    "din4_x2_stable_rfr.to_csv(path_stable_din4_x2, index=False)\n",
    "\n"
   ]
  },
  {
   "cell_type": "markdown",
   "metadata": {},
   "source": [
    "### Most stable DACs din6_as"
   ]
  },
  {
   "cell_type": "code",
   "execution_count": null,
   "metadata": {},
   "outputs": [],
   "source": [
    "\n",
    "\n",
    "# Filter the DataFrame where 'cavity_v2' contains 'din6_s'\n",
    "filtered_df = df[df['cavity_v2'].str.contains('din6_as', na=False)]\n",
    "\n",
    "# Sort the filtered DataFrame by 'y_pred' in ascending order\n",
    "sorted_filtered_df = filtered_df.sort_values(by='y_pred', ascending=True)\n",
    "\n",
    "\n",
    "# Extract the 10 rows with the lowest y_pred values and the corresponding 'system_dacs' values\n",
    "lowest_y_pred_filtered = sorted_filtered_df[['y_pred', 'system_dacs']].head(10)\n",
    "print(lowest_y_pred_filtered)\n",
    "\n",
    "# Extract the 10 rows with the lowest y_pred values\n",
    "din6_as_stable_rfr = sorted_filtered_df.head(10)\n",
    "\n",
    "# Save these rows to the specified CSV file\n",
    "# path_stable_din6_as = \"../../../dacs_ml_github/data/out/din6_as_stable_rfr.csv\"\n",
    "# din6_as_stable_rfr.to_csv(path_stable_din6_as, index=False)\n",
    "#print(din6_as_stable_rfr)\n",
    "\n"
   ]
  },
  {
   "cell_type": "markdown",
   "metadata": {},
   "source": [
    "### Most stable DACs din6_s"
   ]
  },
  {
   "cell_type": "code",
   "execution_count": null,
   "metadata": {},
   "outputs": [],
   "source": [
    "# Filter the DataFrame where 'cavity_v2' contains 'din6_s'\n",
    "filtered_df = df[df['cavity_v2'].str.contains('din6_s', na=False)]\n",
    "\n",
    "# Sort the filtered DataFrame by 'y_pred' in ascending order\n",
    "sorted_filtered_df = filtered_df.sort_values(by='y_pred', ascending=True)\n",
    "\n",
    "# Extract the 10 rows with the lowest y_pred values and the corresponding 'system_dacs' values\n",
    "lowest_y_pred_filtered = sorted_filtered_df[['y_pred', 'system_dacs']].head(8)\n",
    "print(lowest_y_pred_filtered)\n",
    "\n",
    "# Extract the 8 rows with the lowest y_pred values\n",
    "din6_s_stable_rfr = sorted_filtered_df.head(8)\n",
    "\n",
    "# Save these rows to the specified CSV file\n",
    "path_stable_din6_s = \"../../../data/out/din6_s_stable_rfr.csv\"\n",
    "din6_s_stable_rfr.to_csv(path_stable_din6_s, index=False)\n",
    "#print(din6_as_stable_rfr)"
   ]
  },
  {
   "cell_type": "markdown",
   "metadata": {},
   "source": [
    "## Stability-Synergistic Effect Trade-offs"
   ]
  },
  {
   "cell_type": "markdown",
   "metadata": {},
   "source": [
    "This plot visualizes the trade-off between predicted adsorption energies ($E^{RFR}{\\mathrm{ads}}$) and interaction energies ($E{\\mathrm{int}}$) for a series of catalyst systems. The lower-left quadrant (both values negative) represents thermodynamically stable and catalytically active configurations. Highlighted points indicate specially selected systems, and blue markers denote the configurations with the lowest predicted adsorption and interaction energies within the stable region."
   ]
  },
  {
   "cell_type": "code",
   "execution_count": null,
   "metadata": {},
   "outputs": [],
   "source": [
    "#save_path = '../../../data/figures/rfr_results/stability_adsorption'\n",
    "plot_stability_adsorption(df, show_plot=True)"
   ]
  },
  {
   "cell_type": "markdown",
   "metadata": {},
   "source": [
    "## Correlation plot of the a selected feature and the adsorption energy"
   ]
  },
  {
   "cell_type": "markdown",
   "metadata": {},
   "source": [
    "This plot shows the relationship between a selected regression feature (e.g., Fermi energy) and the predicted adsorption energy ($E^{RFR}_{\\mathrm{ads}}$) for three different dinuclear catalyst datasets. Data points are color-coded by a secondary feature (e.g., cavity descriptor) and annotated with the metal identity of the active site to facilitate comparison across structural motifs."
   ]
  },
  {
   "cell_type": "code",
   "execution_count": null,
   "metadata": {},
   "outputs": [],
   "source": [
    "plot_feature_vs_prediction(\n",
    "    din4_x2=din4_x2_stable_rfr,\n",
    "    din6_as=din6_as_stable_rfr,\n",
    "    din6_s=din6_s_stable_rfr,\n",
    "    regression_feature='fermi_energy_cavity',  # ← your custom feature\n",
    "    hue_feature='cavity_v2',\n",
    "    #save_path='../../../data/figures/rfr_results/Ef_ypred_region'\n",
    ")\n"
   ]
  }
 ],
 "metadata": {
  "kernelspec": {
   "display_name": "bms",
   "language": "python",
   "name": "python3"
  },
  "language_info": {
   "codemirror_mode": {
    "name": "ipython",
    "version": 3
   },
   "file_extension": ".py",
   "mimetype": "text/x-python",
   "name": "python",
   "nbconvert_exporter": "python",
   "pygments_lexer": "ipython3",
   "version": "3.10.13"
  }
 },
 "nbformat": 4,
 "nbformat_minor": 2
}
