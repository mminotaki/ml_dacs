{
 "cells": [
  {
   "cell_type": "markdown",
   "metadata": {},
   "source": [
    "# 4.1 Random Forest Regression Dual-Metal LOGOCV Analysis"
   ]
  },
  {
   "cell_type": "markdown",
   "metadata": {},
   "source": [
    "## Notebook Setup: Imports and Configuration\n"
   ]
  },
  {
   "cell_type": "code",
   "execution_count": null,
   "metadata": {},
   "outputs": [],
   "source": [
    "# ─────────────────────────────\n",
    "# Standard Library Imports\n",
    "# ─────────────────────────────\n",
    "import os\n",
    "import sys\n",
    "import time\n",
    "import copy\n",
    "import re\n",
    "import itertools as it\n",
    "from pprint import pprint\n",
    "\n",
    "# ─────────────────────────────\n",
    "# Adjust sys.path for Local Modules\n",
    "# ─────────────────────────────\n",
    "sys.path.append(os.path.abspath(os.path.join('..', '..', 'src')))\n",
    "\n",
    "# ─────────────────────────────\n",
    "# Third-Party Imports\n",
    "# ─────────────────────────────\n",
    "import numpy as np\n",
    "import pandas as pd\n",
    "from scipy.stats import norm\n",
    "from tqdm.notebook import tqdm\n",
    "from tqdm import trange\n",
    "\n",
    "# Sklearn\n",
    "from sklearn.metrics import r2_score, mean_squared_error\n",
    "from sklearn.pipeline import Pipeline\n",
    "\n",
    "# Plotly\n",
    "import plotly.graph_objs as go\n",
    "from plotly.offline import init_notebook_mode, plot\n",
    "from plotly.subplots import make_subplots\n",
    "import plotly.figure_factory as ff\n",
    "import plotly.express as px\n",
    "import plotly.io as pio\n",
    "\n",
    "# Matplotlib\n",
    "import matplotlib.pyplot as plt\n",
    "\n",
    "# ─────────────────────────────\n",
    "# Project-Specific Imports\n",
    "# ─────────────────────────────\n",
    "from settings import *\n",
    "from utils import *\n",
    "from vis import *\n",
    "from ml import *\n",
    "\n",
    "# ─────────────────────────────\n",
    "# Notebook Display & Pandas Options\n",
    "# ─────────────────────────────\n",
    "import warnings\n",
    "from scipy.linalg import LinAlgWarning\n",
    "from IPython.core.interactiveshell import InteractiveShell\n",
    "\n",
    "# Pandas display settings\n",
    "pd.set_option(\"display.max_rows\", None)\n",
    "pd.set_option(\"display.max_columns\", None)\n",
    "pd.set_option(\"mode.chained_assignment\", None)\n",
    "pd.options.display.max_colwidth = 200\n",
    "\n",
    "# Jupyter interactive output\n",
    "InteractiveShell.ast_node_interactivity = \"all\"\n",
    "\n",
    "# Enable Plotly notebook mode\n",
    "init_notebook_mode(connected=True)\n",
    "\n",
    "# ─────────────────────────────\n",
    "# Suppress Warnings\n",
    "# ─────────────────────────────\n",
    "warnings.filterwarnings(action=\"ignore\", category=LinAlgWarning, module=\"sklearn\")\n",
    "from warnings import simplefilter\n",
    "simplefilter(action=\"ignore\", category=pd.errors.PerformanceWarning)\n"
   ]
  },
  {
   "cell_type": "markdown",
   "metadata": {},
   "source": [
    "## Load Random Forest Regression Results (Dual-Metal LOGOCV)"
   ]
  },
  {
   "cell_type": "code",
   "execution_count": null,
   "metadata": {},
   "outputs": [],
   "source": [
    "# Load the data\n",
    "data_rfr_dacs_mlogocv = \"../../../data/out/df_rfr_dacs_results_metal_logocv.csv\"\n",
    "dacs_mlogocv = pd.read_csv(data_rfr_dacs_mlogocv)\n"
   ]
  },
  {
   "cell_type": "markdown",
   "metadata": {},
   "source": [
    "## Filter Random Forest Predictions by Dual-Metal Pair\n"
   ]
  },
  {
   "cell_type": "markdown",
   "metadata": {},
   "source": [
    "This section filters the full LOGO-CV RFR dataset into separate DataFrames for each metal listed in `M1`. \n",
    "For each metal:\n",
    "- The predicted adsorption energies across all CV splits (`pred_00000` to `pred_00013`) are averaged.\n",
    "- The filtered dataset is saved as a separate CSV file.\n",
    "- All DataFrames are stored in a dictionary (`metal_dfs`) for later access.\n"
   ]
  },
  {
   "cell_type": "code",
   "execution_count": null,
   "metadata": {},
   "outputs": [],
   "source": [
    "# List of metals you want to filter\n",
    "metals = ['Fe', 'Co', 'Ni', 'Cu', 'Zn', 'Ru', 'Rh', 'Pd', 'Ag', 'Cd', 'Os', 'Ir', 'Pt', 'Au']\n",
    "\n",
    "# Dictionary to hold DataFrames for each metal\n",
    "metal_dfs = {}\n",
    "\n",
    "# Loop over each metal in the list\n",
    "for metal in metals:\n",
    "    # Filter rows where M1 column equals the metal\n",
    "    metal_df = dacs_mlogocv[dacs_mlogocv['M1'] == metal]\n",
    "    \n",
    "    # Compute the average of the predicted values (columns pred_00000 to pred_00013)\n",
    "    pred_columns = [f'pred_{i:05d}' for i in range(14)]  # Generate column names pred_00000 to pred_00013\n",
    "    metal_df['predicted_average'] = metal_df[pred_columns].mean(axis=1)\n",
    "    \n",
    "    # Create the file name dynamically based on the metal\n",
    "    file_name = f\"../../../data/out/{metal}_dacs_mlogocv_rfr.csv\"\n",
    "    \n",
    "    # Save the filtered data to a CSV file\n",
    "    metal_df.to_csv(file_name, index=False)\n",
    "    \n",
    "    # Store the DataFrame in the dictionary with the metal name as the key\n",
    "    metal_dfs[metal] = metal_df\n",
    "\n",
    "# Now, metal_dfs dictionary contains all the updated DataFrames, accessible by metal names.\n",
    "# For example, to access the DataFrame for 'Fe':\n",
    "fe_df = metal_dfs['Fe']\n",
    "co_df = metal_dfs['Co']\n",
    "ni_df = metal_dfs['Ni']\n",
    "cu_df = metal_dfs['Cu']\n",
    "zn_df = metal_dfs['Zn']\n",
    "ru_df = metal_dfs['Ru']\n",
    "rh_df = metal_dfs['Rh']\n",
    "pd_df = metal_dfs['Pd']\n",
    "ag_df = metal_dfs['Ag']\n",
    "cd_df = metal_dfs['Cd']\n",
    "os_df = metal_dfs['Os']\n",
    "ir_df = metal_dfs['Ir']\n",
    "pt_df = metal_dfs['Pt']\n",
    "au_df = metal_dfs['Au']\n",
    "\n"
   ]
  },
  {
   "cell_type": "markdown",
   "metadata": {},
   "source": [
    "## RFR Dual-Metal LOGOCV Error Metrics"
   ]
  },
  {
   "cell_type": "code",
   "execution_count": null,
   "metadata": {},
   "outputs": [],
   "source": [
    "\n",
    "# List of metals\n",
    "metals = ['Fe', 'Ir', 'Au', 'Pd', 'Cu', 'Ag', 'Zn', 'Pt', 'Ni', 'Os', 'Rh', 'Co', 'Ru', 'Cd']\n",
    "\n",
    "# Provided values for each metric (as strings)\n",
    "rmse_trains = [0.26487986399394875, 0.26647364779663385, 0.2630454096981317, 0.2640541803491138, 0.2678718757710656, 0.2638099669420883, 0.26090754989622633, 0.2691887672882594, 0.2598325677765208, 0.2597904901169187, 0.27174710624093723, 0.25832178915678206, 0.27226565457019675, 0.2553378310656494]\n",
    "rmse_tests = [0.5563464108878543, 0.6483109374889681, 0.6012663501867291, 0.38715586521325546, 0.41580832559422487, 0.5718981196912717, 0.357185767392372, 0.5459795983911094, 0.6906016513853266, 0.46466528831425846, 0.4283998252201117, 0.789453537343277, 0.6218651344144391, 0.7368215112244012]\n",
    "rmse_fulls = [0.29342807132783716, 0.3103351240839664, 0.3006097164785652, 0.2751695096531806, 0.28016104816195186, 0.2940061999623375, 0.26955714494493394, 0.29932557083462574, 0.3124825420457866, 0.2803357369344649, 0.28599055253898714, 0.3241720282390356, 0.3104901110645438, 0.31235478130158023]\n",
    "mae_trains = [0.20861607434891927, 0.2073459262223797, 0.20437958530316502, 0.2061680581170742, 0.21058310542531486, 0.20557041960561276, 0.20245750366596166, 0.21064594008031917, 0.2029689866839879, 0.20285686132897776, 0.21245419334559015, 0.20008407843977516, 0.2125497430996839, 0.20159254908396199]\n",
    "mae_tests = [0.49658332090235313, 0.5003466868822737, 0.5173406956204788, 0.3282475240080142, 0.28442712415231286, 0.47453716979631066, 0.28703686616749197, 0.4928069809407488, 0.6106605343234895, 0.3729970702096379, 0.33452790717771685, 0.7051208948527934, 0.5522055653470951, 0.6114181754177191]\n",
    "mae_fulls = [0.2277914634301643, 0.22856794393372717, 0.2270473292747462, 0.2152954948192006, 0.21550028891531356, 0.22316637522556496, 0.20897880965322915, 0.23207172005219756, 0.23297432254997927, 0.2155776246097748, 0.22129598102969275, 0.2348938590102986, 0.2367541883766606, 0.2293611078776044]\n",
    "rsquared_trains = [0.9729475932651782, 0.972259751770131, 0.9729637162289049, 0.9733581275779531, 0.9713421195342002, 0.9737956750841772, 0.97320857419966, 0.9705090271026107, 0.9738882289028292, 0.9742072781410906, 0.9703945250907144, 0.972723684696554, 0.9710154504527282, 0.9752755516112341]\n",
    "rsquared_tests = [0.8525130627265745, 0.8094176428954335, 0.7495055746548459, 0.9165003255467168, 0.9442400159152078, 0.6381904072555958, 0.9544230144111159, 0.8943571573917912, 0.7058301974613657, 0.8844173675589421, 0.9400849824506942, 0.816535042847807, 0.819639101920878, 0.6039207707541829]\n",
    "rsquared_fulls = [0.9663823702861503, 0.962396728031726, 0.9647166511085803, 0.9704359184879656, 0.9693536132285517, 0.9662497690625993, 0.9716295994926611, 0.965017454314993, 0.9618745227316824, 0.9693153834405028, 0.9680649835083912, 0.9589687405620041, 0.9623591591428794, 0.9619056921119478]\n",
    "\n",
    "# Create a DataFrame from the data\n",
    "data = {\n",
    "    'Metal': metals,\n",
    "    'rmse_trains': rmse_trains,\n",
    "    'rmse_tests': rmse_tests,\n",
    "    'rmse_fulls': rmse_fulls,\n",
    "    'mae_trains': mae_trains,\n",
    "    'mae_tests': mae_tests,\n",
    "    'mae_fulls': mae_fulls,\n",
    "    'rsquared_trains': rsquared_trains,\n",
    "    'rsquared_tests': rsquared_tests,\n",
    "    'rsquared_fulls': rsquared_fulls,\n",
    "}\n",
    "\n",
    "data_error = pd.DataFrame(data)\n",
    "\n",
    "# Save the DataFrame as a CSV file\n",
    "# output_file = '../../../data/out/mlogocv_errors_rfr.csv'\n",
    "# data_error.to_csv(output_file, index=False)\n",
    "# data_error.head()\n"
   ]
  },
  {
   "cell_type": "markdown",
   "metadata": {},
   "source": [
    "## Parity plots for Dual-Metal LOGOCV"
   ]
  },
  {
   "cell_type": "markdown",
   "metadata": {},
   "source": [
    "This visualization compares the predicted adsorption energies from a Random Forest Regressor (RFR) model to the DFT-calculated values (`E$_{ads}^{DFT}$`) for 14 different metal single-atom catalysts (SACs) supported on Fe.\n",
    "\n",
    "Each subplot includes:\n",
    "- A scatter plot of actual (`y`) vs. predicted (`E$_{ads}^{RFR}$`) adsorption energies.\n",
    "- A 45° reference line representing perfect prediction.\n",
    "- An inset histogram showing the distribution of prediction errors (DFT - RFR).\n",
    "- Annotated performance metrics:  \n",
    "  - $R^2$: Coefficient of determination  \n",
    "  - RMSE: Root Mean Squared Error  \n",
    "  - MAE: Mean Absolute Error\n",
    "\n",
    "Metal-specific colors are used for easy visual distinction. All plots are saved in `.svg`, `.png`, and `.pdf` formats to the specified output directory."
   ]
  },
  {
   "cell_type": "code",
   "execution_count": null,
   "metadata": {},
   "outputs": [],
   "source": [
    "# Define the color mapping for metals\n",
    "metal_colors = {\n",
    "    \"Ru\": (1.0, 0.0, 0.0),  # Red\n",
    "    \"Rh\": (0.0, 1.0, 0.0),  # Green\n",
    "    \"Co\": (0.0, 0.0, 1.0),  # Blue\n",
    "    \"Fe\": (1.0, 1.0, 0.0),  # Yellow\n",
    "    \"Zn\": (1.0, 0.0, 1.0),  # Magenta\n",
    "    \"Ni\": (0.0, 1.0, 1.0),  # Cyan\n",
    "    \"Os\": (0.5, 0.5, 0.0),  # Olive\n",
    "    \"Cd\": (0.5, 0.0, 0.5),  # Purple\n",
    "    \"Pd\": (0.0, 0.5, 0.5),  # Teal\n",
    "    \"Cu\": (0.5, 0.0, 0.0),  # Maroon\n",
    "    \"Ag\": (0.0, 0.5, 0.0),  # Light Green\n",
    "    \"Ir\": (0.0, 0.0, 0.5),  # Navy\n",
    "    \"Au\": (1.0, 0.647, 0.0),  # Orange\n",
    "    \"Pt\": (0.5, 0.5, 0.5),  # Gray\n",
    "}\n",
    "\n",
    "\n",
    "datasets = {\n",
    "    'Fe': fe_df,\n",
    "    'Co': co_df,\n",
    "    'Ni': ni_df,\n",
    "    'Cu': cu_df,\n",
    "    'Zn': zn_df,\n",
    "    'Ru': ru_df,\n",
    "    'Rh': rh_df,\n",
    "    'Pd': pd_df,\n",
    "    'Ag': ag_df,\n",
    "    'Cd': cd_df,\n",
    "    'Os': os_df,\n",
    "    'Ir': ir_df,\n",
    "    'Pt': pt_df,\n",
    "    'Au': au_df\n",
    "}\n",
    "\n",
    "output_folder = \"../../../data/figures/rfr_results\"\n",
    "\n",
    "plot_rfr_mlogocv_results(datasets, data_error, metal_colors, output_path=output_folder)\n"
   ]
  }
 ],
 "metadata": {
  "kernelspec": {
   "display_name": "bms",
   "language": "python",
   "name": "python3"
  },
  "language_info": {
   "codemirror_mode": {
    "name": "ipython",
    "version": 3
   },
   "file_extension": ".py",
   "mimetype": "text/x-python",
   "name": "python",
   "nbconvert_exporter": "python",
   "pygments_lexer": "ipython3",
   "version": "3.10.13"
  }
 },
 "nbformat": 4,
 "nbformat_minor": 2
}
